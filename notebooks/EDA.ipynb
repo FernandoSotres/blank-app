{
 "cells": [
  {
   "cell_type": "code",
   "execution_count": 4,
   "id": "86661e73-8085-433b-98b5-25277c3ed9d0",
   "metadata": {},
   "outputs": [],
   "source": [
    "import pandas as pd\n",
    "import plotly_express as px\n"
   ]
  },
  {
   "cell_type": "code",
   "execution_count": 5,
   "id": "83ad0355",
   "metadata": {},
   "outputs": [],
   "source": [
    "demographics = pd.read_csv(\"/Users/fernandosotres/Desktop/PYTHON/Demography/blank-app/world_bank_data.csv\")"
   ]
  },
  {
   "cell_type": "code",
   "execution_count": null,
   "id": "722b7dbb",
   "metadata": {},
   "outputs": [],
   "source": [
    "\n",
    "# Rename columns: keep only the year if column matches the pattern 'YYYY [YRYYYY]'\n",
    "demographics.columns = [\n",
    "    col.split(' ')[0] if ' [YR' in col else col\n",
    "    for col in demographics.columns]"
   ]
  },
  {
   "cell_type": "code",
   "execution_count": 13,
   "id": "4831a7a5",
   "metadata": {},
   "outputs": [],
   "source": [
    "# ...existing code...\n",
    "\n",
    "# Identify year columns (those that are digits)\n",
    "year_cols = [col for col in demographics.columns if col.isdigit()]\n",
    "\n",
    "# Convert to float and round to 2 decimals\n",
    "demographics[year_cols] = demographics[year_cols].apply(pd.to_numeric, errors='coerce').round(2)\n",
    "\n",
    "# ...existing code..."
   ]
  },
  {
   "cell_type": "code",
   "execution_count": 49,
   "id": "72a386f1",
   "metadata": {},
   "outputs": [
    {
     "name": "stdout",
     "output_type": "stream",
     "text": [
      "['Africa Eastern and Southern' 'Arab World' 'Central African Republic'\n",
      " 'East Asia & Pacific' 'European Union' 'High income'\n",
      " 'Latin America & Caribbean' 'Low income' 'Lower middle income' 'Mexico'\n",
      " 'Middle East & North Africa' 'Middle income' 'North America'\n",
      " 'South Africa' 'South Asia' 'Spain' 'Sub-Saharan Africa'\n",
      " 'Upper middle income' nan]\n"
     ]
    }
   ],
   "source": [
    "print(demographics['Country Name'].unique())\n"
   ]
  },
  {
   "cell_type": "code",
   "execution_count": 20,
   "id": "b721db75",
   "metadata": {},
   "outputs": [
    {
     "name": "stdout",
     "output_type": "stream",
     "text": [
      "0                 Death rate, crude (per 1,000 people)\n",
      "1              Life expectancy at birth, total (years)\n",
      "2                                        Net migration\n",
      "3             Fertility rate, total (births per woman)\n",
      "4                                    Population, total\n",
      "5             Rural population (% of total population)\n",
      "6                                     Urban population\n",
      "7    Total alcohol consumption per capita (liters o...\n",
      "8                         Population growth (annual %)\n",
      "dtype: object\n"
     ]
    }
   ],
   "source": [
    "# Get all unique names in the 'Series Name' column\n",
    "unique_series_names = demographics['Series Name'].unique().tolist()\n",
    "# Line the names up in a single column\n",
    "unique_series_names = pd.Series(unique_series_names)\n",
    "# erase 9, 10 and 11 lines\n",
    "unique_series_names = unique_series_names.drop([9, 10, 11]).reset_index(drop=True)\n",
    "print(unique_series_names)"
   ]
  },
  {
   "cell_type": "code",
   "execution_count": 63,
   "id": "42c13754",
   "metadata": {},
   "outputs": [],
   "source": [
    "# order the data frame by the column 'Country Name'\n",
    "demographics = demographics.sort_values(by='Country Name')"
   ]
  },
  {
   "cell_type": "code",
   "execution_count": 52,
   "id": "8e9df1e8",
   "metadata": {},
   "outputs": [
    {
     "data": {
      "application/vnd.plotly.v1+json": {
       "config": {
        "plotlyServerURL": "https://plot.ly"
       },
       "data": [
        {
         "hovertemplate": "Country Name=Africa Eastern and Southern<br>Year=1974<br>Tasa De Fertilidad (Hijos Por Mujer)=%{x}<br>Población Urbanizada=%{y}<extra></extra>",
         "legendgroup": "Africa Eastern and Southern",
         "marker": {
          "color": "#636efa",
          "size": 12,
          "symbol": "circle"
         },
         "mode": "markers",
         "name": "Africa Eastern and Southern",
         "orientation": "v",
         "showlegend": true,
         "type": "scatter",
         "x": {
          "bdata": "SOF6FK5HG0A=",
          "dtype": "f8"
         },
         "xaxis": "x",
         "y": {
          "bdata": "AAAAMMpogUE=",
          "dtype": "f8"
         },
         "yaxis": "y"
        },
        {
         "hovertemplate": "Country Name=Arab World<br>Year=1974<br>Tasa De Fertilidad (Hijos Por Mujer)=%{x}<br>Población Urbanizada=%{y}<extra></extra>",
         "legendgroup": "Arab World",
         "marker": {
          "color": "#EF553B",
          "size": 12,
          "symbol": "circle"
         },
         "mode": "markers",
         "name": "Arab World",
         "orientation": "v",
         "showlegend": true,
         "type": "scatter",
         "x": {
          "bdata": "rkfhehSuGkA=",
          "dtype": "f8"
         },
         "xaxis": "x",
         "y": {
          "bdata": "AAAAQEBEikE=",
          "dtype": "f8"
         },
         "yaxis": "y"
        },
        {
         "hovertemplate": "Country Name=Central African Republic<br>Year=1974<br>Tasa De Fertilidad (Hijos Por Mujer)=%{x}<br>Población Urbanizada=%{y}<extra></extra>",
         "legendgroup": "Central African Republic",
         "marker": {
          "color": "#00cc96",
          "size": 12,
          "symbol": "circle"
         },
         "mode": "markers",
         "name": "Central African Republic",
         "orientation": "v",
         "showlegend": true,
         "type": "scatter",
         "x": {
          "bdata": "pHA9CtejF0A=",
          "dtype": "f8"
         },
         "xaxis": "x",
         "y": {
          "bdata": "AAAAAAiAJUE=",
          "dtype": "f8"
         },
         "yaxis": "y"
        },
        {
         "hovertemplate": "Country Name=East Asia & Pacific<br>Year=1974<br>Tasa De Fertilidad (Hijos Por Mujer)=%{x}<br>Población Urbanizada=%{y}<extra></extra>",
         "legendgroup": "East Asia & Pacific",
         "marker": {
          "color": "#ab63fa",
          "size": 12,
          "symbol": "circle"
         },
         "mode": "markers",
         "name": "East Asia & Pacific",
         "orientation": "v",
         "showlegend": true,
         "type": "scatter",
         "x": {
          "bdata": "mpmZmZmZEEA=",
          "dtype": "f8"
         },
         "xaxis": "x",
         "y": {
          "bdata": "AAAAWQ+UtUE=",
          "dtype": "f8"
         },
         "yaxis": "y"
        },
        {
         "hovertemplate": "Country Name=European Union<br>Year=1974<br>Tasa De Fertilidad (Hijos Por Mujer)=%{x}<br>Población Urbanizada=%{y}<extra></extra>",
         "legendgroup": "European Union",
         "marker": {
          "color": "#FFA15A",
          "size": 12,
          "symbol": "circle"
         },
         "mode": "markers",
         "name": "European Union",
         "orientation": "v",
         "showlegend": true,
         "type": "scatter",
         "x": {
          "bdata": "SOF6FK5HAUA=",
          "dtype": "f8"
         },
         "xaxis": "x",
         "y": {
          "bdata": "AAAAUJ4Ar0E=",
          "dtype": "f8"
         },
         "yaxis": "y"
        },
        {
         "hovertemplate": "Country Name=Latin America & Caribbean<br>Year=1974<br>Tasa De Fertilidad (Hijos Por Mujer)=%{x}<br>Población Urbanizada=%{y}<extra></extra>",
         "legendgroup": "Latin America & Caribbean",
         "marker": {
          "color": "#19d3f3",
          "size": 12,
          "symbol": "circle"
         },
         "mode": "markers",
         "name": "Latin America & Caribbean",
         "orientation": "v",
         "showlegend": true,
         "type": "scatter",
         "x": {
          "bdata": "H4XrUbgeE0A=",
          "dtype": "f8"
         },
         "xaxis": "x",
         "y": {
          "bdata": "AAAAUPiIpkE=",
          "dtype": "f8"
         },
         "yaxis": "y"
        },
        {
         "hovertemplate": "Country Name=Mexico<br>Year=1974<br>Tasa De Fertilidad (Hijos Por Mujer)=%{x}<br>Población Urbanizada=%{y}<extra></extra>",
         "legendgroup": "Mexico",
         "marker": {
          "color": "#FF6692",
          "size": 12,
          "symbol": "circle"
         },
         "mode": "markers",
         "name": "Mexico",
         "orientation": "v",
         "showlegend": true,
         "type": "scatter",
         "x": {
          "bdata": "AAAAAAAAGEA=",
          "dtype": "f8"
         },
         "xaxis": "x",
         "y": {
          "bdata": "AAAA+LvzgEE=",
          "dtype": "f8"
         },
         "yaxis": "y"
        },
        {
         "hovertemplate": "Country Name=Middle East & North Africa<br>Year=1974<br>Tasa De Fertilidad (Hijos Por Mujer)=%{x}<br>Población Urbanizada=%{y}<extra></extra>",
         "legendgroup": "Middle East & North Africa",
         "marker": {
          "color": "#B6E880",
          "size": 12,
          "symbol": "circle"
         },
         "mode": "markers",
         "name": "Middle East & North Africa",
         "orientation": "v",
         "showlegend": true,
         "type": "scatter",
         "x": {
          "bdata": "pHA9CtejGUA=",
          "dtype": "f8"
         },
         "xaxis": "x",
         "y": {
          "bdata": "AAAADOh4kEE=",
          "dtype": "f8"
         },
         "yaxis": "y"
        },
        {
         "hovertemplate": "Country Name=North America<br>Year=1974<br>Tasa De Fertilidad (Hijos Por Mujer)=%{x}<br>Población Urbanizada=%{y}<extra></extra>",
         "legendgroup": "North America",
         "marker": {
          "color": "#FF97FF",
          "size": 12,
          "symbol": "circle"
         },
         "mode": "markers",
         "name": "North America",
         "orientation": "v",
         "showlegend": true,
         "type": "scatter",
         "x": {
          "bdata": "cT0K16Nw/T8=",
          "dtype": "f8"
         },
         "xaxis": "x",
         "y": {
          "bdata": "AAAAaOjWpEE=",
          "dtype": "f8"
         },
         "yaxis": "y"
        },
        {
         "hovertemplate": "Country Name=South Africa<br>Year=1974<br>Tasa De Fertilidad (Hijos Por Mujer)=%{x}<br>Población Urbanizada=%{y}<extra></extra>",
         "legendgroup": "South Africa",
         "marker": {
          "color": "#FECB52",
          "size": 12,
          "symbol": "circle"
         },
         "mode": "markers",
         "name": "South Africa",
         "orientation": "v",
         "showlegend": true,
         "type": "scatter",
         "x": {
          "bdata": "MzMzMzMzFUA=",
          "dtype": "f8"
         },
         "xaxis": "x",
         "y": {
          "bdata": "AAAAIM3mZkE=",
          "dtype": "f8"
         },
         "yaxis": "y"
        },
        {
         "hovertemplate": "Country Name=South Asia<br>Year=1974<br>Tasa De Fertilidad (Hijos Por Mujer)=%{x}<br>Población Urbanizada=%{y}<extra></extra>",
         "legendgroup": "South Asia",
         "marker": {
          "color": "#636efa",
          "size": 12,
          "symbol": "circle"
         },
         "mode": "markers",
         "name": "South Asia",
         "orientation": "v",
         "showlegend": true,
         "type": "scatter",
         "x": {
          "bdata": "ZmZmZmZmFkA=",
          "dtype": "f8"
         },
         "xaxis": "x",
         "y": {
          "bdata": "AAAAqKtookE=",
          "dtype": "f8"
         },
         "yaxis": "y"
        },
        {
         "hovertemplate": "Country Name=Spain<br>Year=1974<br>Tasa De Fertilidad (Hijos Por Mujer)=%{x}<br>Población Urbanizada=%{y}<extra></extra>",
         "legendgroup": "Spain",
         "marker": {
          "color": "#EF553B",
          "size": 12,
          "symbol": "circle"
         },
         "mode": "markers",
         "name": "Spain",
         "orientation": "v",
         "showlegend": true,
         "type": "scatter",
         "x": {
          "bdata": "CtejcD0KB0A=",
          "dtype": "f8"
         },
         "xaxis": "x",
         "y": {
          "bdata": "AAAAYFY+d0E=",
          "dtype": "f8"
         },
         "yaxis": "y"
        },
        {
         "hovertemplate": "Country Name=Sub-Saharan Africa<br>Year=1974<br>Tasa De Fertilidad (Hijos Por Mujer)=%{x}<br>Población Urbanizada=%{y}<extra></extra>",
         "legendgroup": "Sub-Saharan Africa",
         "marker": {
          "color": "#00cc96",
          "size": 12,
          "symbol": "circle"
         },
         "mode": "markers",
         "name": "Sub-Saharan Africa",
         "orientation": "v",
         "showlegend": true,
         "type": "scatter",
         "x": {
          "bdata": "PQrXo3A9G0A=",
          "dtype": "f8"
         },
         "xaxis": "x",
         "y": {
          "bdata": "AAAACIwaj0E=",
          "dtype": "f8"
         },
         "yaxis": "y"
        }
       ],
       "frames": [
        {
         "data": [
          {
           "hovertemplate": "Country Name=Africa Eastern and Southern<br>Year=1974<br>Tasa De Fertilidad (Hijos Por Mujer)=%{x}<br>Población Urbanizada=%{y}<extra></extra>",
           "legendgroup": "Africa Eastern and Southern",
           "marker": {
            "color": "#636efa",
            "symbol": "circle"
           },
           "mode": "markers",
           "name": "Africa Eastern and Southern",
           "orientation": "v",
           "showlegend": true,
           "type": "scatter",
           "x": {
            "bdata": "SOF6FK5HG0A=",
            "dtype": "f8"
           },
           "xaxis": "x",
           "y": {
            "bdata": "AAAAMMpogUE=",
            "dtype": "f8"
           },
           "yaxis": "y"
          },
          {
           "hovertemplate": "Country Name=Arab World<br>Year=1974<br>Tasa De Fertilidad (Hijos Por Mujer)=%{x}<br>Población Urbanizada=%{y}<extra></extra>",
           "legendgroup": "Arab World",
           "marker": {
            "color": "#EF553B",
            "symbol": "circle"
           },
           "mode": "markers",
           "name": "Arab World",
           "orientation": "v",
           "showlegend": true,
           "type": "scatter",
           "x": {
            "bdata": "rkfhehSuGkA=",
            "dtype": "f8"
           },
           "xaxis": "x",
           "y": {
            "bdata": "AAAAQEBEikE=",
            "dtype": "f8"
           },
           "yaxis": "y"
          },
          {
           "hovertemplate": "Country Name=Central African Republic<br>Year=1974<br>Tasa De Fertilidad (Hijos Por Mujer)=%{x}<br>Población Urbanizada=%{y}<extra></extra>",
           "legendgroup": "Central African Republic",
           "marker": {
            "color": "#00cc96",
            "symbol": "circle"
           },
           "mode": "markers",
           "name": "Central African Republic",
           "orientation": "v",
           "showlegend": true,
           "type": "scatter",
           "x": {
            "bdata": "pHA9CtejF0A=",
            "dtype": "f8"
           },
           "xaxis": "x",
           "y": {
            "bdata": "AAAAAAiAJUE=",
            "dtype": "f8"
           },
           "yaxis": "y"
          },
          {
           "hovertemplate": "Country Name=East Asia & Pacific<br>Year=1974<br>Tasa De Fertilidad (Hijos Por Mujer)=%{x}<br>Población Urbanizada=%{y}<extra></extra>",
           "legendgroup": "East Asia & Pacific",
           "marker": {
            "color": "#ab63fa",
            "symbol": "circle"
           },
           "mode": "markers",
           "name": "East Asia & Pacific",
           "orientation": "v",
           "showlegend": true,
           "type": "scatter",
           "x": {
            "bdata": "mpmZmZmZEEA=",
            "dtype": "f8"
           },
           "xaxis": "x",
           "y": {
            "bdata": "AAAAWQ+UtUE=",
            "dtype": "f8"
           },
           "yaxis": "y"
          },
          {
           "hovertemplate": "Country Name=European Union<br>Year=1974<br>Tasa De Fertilidad (Hijos Por Mujer)=%{x}<br>Población Urbanizada=%{y}<extra></extra>",
           "legendgroup": "European Union",
           "marker": {
            "color": "#FFA15A",
            "symbol": "circle"
           },
           "mode": "markers",
           "name": "European Union",
           "orientation": "v",
           "showlegend": true,
           "type": "scatter",
           "x": {
            "bdata": "SOF6FK5HAUA=",
            "dtype": "f8"
           },
           "xaxis": "x",
           "y": {
            "bdata": "AAAAUJ4Ar0E=",
            "dtype": "f8"
           },
           "yaxis": "y"
          },
          {
           "hovertemplate": "Country Name=Latin America & Caribbean<br>Year=1974<br>Tasa De Fertilidad (Hijos Por Mujer)=%{x}<br>Población Urbanizada=%{y}<extra></extra>",
           "legendgroup": "Latin America & Caribbean",
           "marker": {
            "color": "#19d3f3",
            "symbol": "circle"
           },
           "mode": "markers",
           "name": "Latin America & Caribbean",
           "orientation": "v",
           "showlegend": true,
           "type": "scatter",
           "x": {
            "bdata": "H4XrUbgeE0A=",
            "dtype": "f8"
           },
           "xaxis": "x",
           "y": {
            "bdata": "AAAAUPiIpkE=",
            "dtype": "f8"
           },
           "yaxis": "y"
          },
          {
           "hovertemplate": "Country Name=Mexico<br>Year=1974<br>Tasa De Fertilidad (Hijos Por Mujer)=%{x}<br>Población Urbanizada=%{y}<extra></extra>",
           "legendgroup": "Mexico",
           "marker": {
            "color": "#FF6692",
            "symbol": "circle"
           },
           "mode": "markers",
           "name": "Mexico",
           "orientation": "v",
           "showlegend": true,
           "type": "scatter",
           "x": {
            "bdata": "AAAAAAAAGEA=",
            "dtype": "f8"
           },
           "xaxis": "x",
           "y": {
            "bdata": "AAAA+LvzgEE=",
            "dtype": "f8"
           },
           "yaxis": "y"
          },
          {
           "hovertemplate": "Country Name=Middle East & North Africa<br>Year=1974<br>Tasa De Fertilidad (Hijos Por Mujer)=%{x}<br>Población Urbanizada=%{y}<extra></extra>",
           "legendgroup": "Middle East & North Africa",
           "marker": {
            "color": "#B6E880",
            "symbol": "circle"
           },
           "mode": "markers",
           "name": "Middle East & North Africa",
           "orientation": "v",
           "showlegend": true,
           "type": "scatter",
           "x": {
            "bdata": "pHA9CtejGUA=",
            "dtype": "f8"
           },
           "xaxis": "x",
           "y": {
            "bdata": "AAAADOh4kEE=",
            "dtype": "f8"
           },
           "yaxis": "y"
          },
          {
           "hovertemplate": "Country Name=North America<br>Year=1974<br>Tasa De Fertilidad (Hijos Por Mujer)=%{x}<br>Población Urbanizada=%{y}<extra></extra>",
           "legendgroup": "North America",
           "marker": {
            "color": "#FF97FF",
            "symbol": "circle"
           },
           "mode": "markers",
           "name": "North America",
           "orientation": "v",
           "showlegend": true,
           "type": "scatter",
           "x": {
            "bdata": "cT0K16Nw/T8=",
            "dtype": "f8"
           },
           "xaxis": "x",
           "y": {
            "bdata": "AAAAaOjWpEE=",
            "dtype": "f8"
           },
           "yaxis": "y"
          },
          {
           "hovertemplate": "Country Name=South Africa<br>Year=1974<br>Tasa De Fertilidad (Hijos Por Mujer)=%{x}<br>Población Urbanizada=%{y}<extra></extra>",
           "legendgroup": "South Africa",
           "marker": {
            "color": "#FECB52",
            "symbol": "circle"
           },
           "mode": "markers",
           "name": "South Africa",
           "orientation": "v",
           "showlegend": true,
           "type": "scatter",
           "x": {
            "bdata": "MzMzMzMzFUA=",
            "dtype": "f8"
           },
           "xaxis": "x",
           "y": {
            "bdata": "AAAAIM3mZkE=",
            "dtype": "f8"
           },
           "yaxis": "y"
          },
          {
           "hovertemplate": "Country Name=South Asia<br>Year=1974<br>Tasa De Fertilidad (Hijos Por Mujer)=%{x}<br>Población Urbanizada=%{y}<extra></extra>",
           "legendgroup": "South Asia",
           "marker": {
            "color": "#636efa",
            "symbol": "circle"
           },
           "mode": "markers",
           "name": "South Asia",
           "orientation": "v",
           "showlegend": true,
           "type": "scatter",
           "x": {
            "bdata": "ZmZmZmZmFkA=",
            "dtype": "f8"
           },
           "xaxis": "x",
           "y": {
            "bdata": "AAAAqKtookE=",
            "dtype": "f8"
           },
           "yaxis": "y"
          },
          {
           "hovertemplate": "Country Name=Spain<br>Year=1974<br>Tasa De Fertilidad (Hijos Por Mujer)=%{x}<br>Población Urbanizada=%{y}<extra></extra>",
           "legendgroup": "Spain",
           "marker": {
            "color": "#EF553B",
            "symbol": "circle"
           },
           "mode": "markers",
           "name": "Spain",
           "orientation": "v",
           "showlegend": true,
           "type": "scatter",
           "x": {
            "bdata": "CtejcD0KB0A=",
            "dtype": "f8"
           },
           "xaxis": "x",
           "y": {
            "bdata": "AAAAYFY+d0E=",
            "dtype": "f8"
           },
           "yaxis": "y"
          },
          {
           "hovertemplate": "Country Name=Sub-Saharan Africa<br>Year=1974<br>Tasa De Fertilidad (Hijos Por Mujer)=%{x}<br>Población Urbanizada=%{y}<extra></extra>",
           "legendgroup": "Sub-Saharan Africa",
           "marker": {
            "color": "#00cc96",
            "symbol": "circle"
           },
           "mode": "markers",
           "name": "Sub-Saharan Africa",
           "orientation": "v",
           "showlegend": true,
           "type": "scatter",
           "x": {
            "bdata": "PQrXo3A9G0A=",
            "dtype": "f8"
           },
           "xaxis": "x",
           "y": {
            "bdata": "AAAACIwaj0E=",
            "dtype": "f8"
           },
           "yaxis": "y"
          }
         ],
         "name": "1974"
        },
        {
         "data": [
          {
           "hovertemplate": "Country Name=Africa Eastern and Southern<br>Year=1975<br>Tasa De Fertilidad (Hijos Por Mujer)=%{x}<br>Población Urbanizada=%{y}<extra></extra>",
           "legendgroup": "Africa Eastern and Southern",
           "marker": {
            "color": "#636efa",
            "symbol": "circle"
           },
           "mode": "markers",
           "name": "Africa Eastern and Southern",
           "orientation": "v",
           "showlegend": true,
           "type": "scatter",
           "x": {
            "bdata": "MzMzMzMzG0A=",
            "dtype": "f8"
           },
           "xaxis": "x",
           "y": {
            "bdata": "AAAAeLg6gkE=",
            "dtype": "f8"
           },
           "yaxis": "y"
          },
          {
           "hovertemplate": "Country Name=Arab World<br>Year=1975<br>Tasa De Fertilidad (Hijos Por Mujer)=%{x}<br>Población Urbanizada=%{y}<extra></extra>",
           "legendgroup": "Arab World",
           "marker": {
            "color": "#EF553B",
            "symbol": "circle"
           },
           "mode": "markers",
           "name": "Arab World",
           "orientation": "v",
           "showlegend": true,
           "type": "scatter",
           "x": {
            "bdata": "exSuR+F6GkA=",
            "dtype": "f8"
           },
           "xaxis": "x",
           "y": {
            "bdata": "AAAAkOt4i0E=",
            "dtype": "f8"
           },
           "yaxis": "y"
          },
          {
           "hovertemplate": "Country Name=Central African Republic<br>Year=1975<br>Tasa De Fertilidad (Hijos Por Mujer)=%{x}<br>Población Urbanizada=%{y}<extra></extra>",
           "legendgroup": "Central African Republic",
           "marker": {
            "color": "#00cc96",
            "symbol": "circle"
           },
           "mode": "markers",
           "name": "Central African Republic",
           "orientation": "v",
           "showlegend": true,
           "type": "scatter",
           "x": {
            "bdata": "j8L1KFyPF0A=",
            "dtype": "f8"
           },
           "xaxis": "x",
           "y": {
            "bdata": "AAAAAIyTJkE=",
            "dtype": "f8"
           },
           "yaxis": "y"
          },
          {
           "hovertemplate": "Country Name=East Asia & Pacific<br>Year=1975<br>Tasa De Fertilidad (Hijos Por Mujer)=%{x}<br>Población Urbanizada=%{y}<extra></extra>",
           "legendgroup": "East Asia & Pacific",
           "marker": {
            "color": "#ab63fa",
            "symbol": "circle"
           },
           "mode": "markers",
           "name": "East Asia & Pacific",
           "orientation": "v",
           "showlegend": true,
           "type": "scatter",
           "x": {
            "bdata": "w/UoXI/CDUA=",
            "dtype": "f8"
           },
           "xaxis": "x",
           "y": {
            "bdata": "AAAAeA4YtkE=",
            "dtype": "f8"
           },
           "yaxis": "y"
          },
          {
           "hovertemplate": "Country Name=European Union<br>Year=1975<br>Tasa De Fertilidad (Hijos Por Mujer)=%{x}<br>Población Urbanizada=%{y}<extra></extra>",
           "legendgroup": "European Union",
           "marker": {
            "color": "#FFA15A",
            "symbol": "circle"
           },
           "mode": "markers",
           "name": "European Union",
           "orientation": "v",
           "showlegend": true,
           "type": "scatter",
           "x": {
            "bdata": "uB6F61G4AEA=",
            "dtype": "f8"
           },
           "xaxis": "x",
           "y": {
            "bdata": "AAAAEAdXr0E=",
            "dtype": "f8"
           },
           "yaxis": "y"
          },
          {
           "hovertemplate": "Country Name=Latin America & Caribbean<br>Year=1975<br>Tasa De Fertilidad (Hijos Por Mujer)=%{x}<br>Población Urbanizada=%{y}<extra></extra>",
           "legendgroup": "Latin America & Caribbean",
           "marker": {
            "color": "#19d3f3",
            "symbol": "circle"
           },
           "mode": "markers",
           "name": "Latin America & Caribbean",
           "orientation": "v",
           "showlegend": true,
           "type": "scatter",
           "x": {
            "bdata": "rkfhehSuEkA=",
            "dtype": "f8"
           },
           "xaxis": "x",
           "y": {
            "bdata": "AAAANOZXp0E=",
            "dtype": "f8"
           },
           "yaxis": "y"
          },
          {
           "hovertemplate": "Country Name=Mexico<br>Year=1975<br>Tasa De Fertilidad (Hijos Por Mujer)=%{x}<br>Población Urbanizada=%{y}<extra></extra>",
           "legendgroup": "Mexico",
           "marker": {
            "color": "#FF6692",
            "symbol": "circle"
           },
           "mode": "markers",
           "name": "Mexico",
           "orientation": "v",
           "showlegend": true,
           "type": "scatter",
           "x": {
            "bdata": "KVyPwvUoF0A=",
            "dtype": "f8"
           },
           "xaxis": "x",
           "y": {
            "bdata": "AAAA4KWmgUE=",
            "dtype": "f8"
           },
           "yaxis": "y"
          },
          {
           "hovertemplate": "Country Name=Middle East & North Africa<br>Year=1975<br>Tasa De Fertilidad (Hijos Por Mujer)=%{x}<br>Población Urbanizada=%{y}<extra></extra>",
           "legendgroup": "Middle East & North Africa",
           "marker": {
            "color": "#B6E880",
            "symbol": "circle"
           },
           "mode": "markers",
           "name": "Middle East & North Africa",
           "orientation": "v",
           "showlegend": true,
           "type": "scatter",
           "x": {
            "bdata": "exSuR+F6GUA=",
            "dtype": "f8"
           },
           "xaxis": "x",
           "y": {
            "bdata": "AAAAFAg7kUE=",
            "dtype": "f8"
           },
           "yaxis": "y"
          },
          {
           "hovertemplate": "Country Name=North America<br>Year=1975<br>Tasa De Fertilidad (Hijos Por Mujer)=%{x}<br>Población Urbanizada=%{y}<extra></extra>",
           "legendgroup": "North America",
           "marker": {
            "color": "#FF97FF",
            "symbol": "circle"
           },
           "mode": "markers",
           "name": "North America",
           "orientation": "v",
           "showlegend": true,
           "type": "scatter",
           "x": {
            "bdata": "exSuR+F6/D8=",
            "dtype": "f8"
           },
           "xaxis": "x",
           "y": {
            "bdata": "AAAA8hcOpUE=",
            "dtype": "f8"
           },
           "yaxis": "y"
          },
          {
           "hovertemplate": "Country Name=South Africa<br>Year=1975<br>Tasa De Fertilidad (Hijos Por Mujer)=%{x}<br>Población Urbanizada=%{y}<extra></extra>",
           "legendgroup": "South Africa",
           "marker": {
            "color": "#FECB52",
            "symbol": "circle"
           },
           "mode": "markers",
           "name": "South Africa",
           "orientation": "v",
           "showlegend": true,
           "type": "scatter",
           "x": {
            "bdata": "w/UoXI/CFEA=",
            "dtype": "f8"
           },
           "xaxis": "x",
           "y": {
            "bdata": "AAAAwPySZ0E=",
            "dtype": "f8"
           },
           "yaxis": "y"
          },
          {
           "hovertemplate": "Country Name=South Asia<br>Year=1975<br>Tasa De Fertilidad (Hijos Por Mujer)=%{x}<br>Población Urbanizada=%{y}<extra></extra>",
           "legendgroup": "South Asia",
           "marker": {
            "color": "#636efa",
            "symbol": "circle"
           },
           "mode": "markers",
           "name": "South Asia",
           "orientation": "v",
           "showlegend": true,
           "type": "scatter",
           "x": {
            "bdata": "9ihcj8L1FUA=",
            "dtype": "f8"
           },
           "xaxis": "x",
           "y": {
            "bdata": "AAAAEMk5o0E=",
            "dtype": "f8"
           },
           "yaxis": "y"
          },
          {
           "hovertemplate": "Country Name=Spain<br>Year=1975<br>Tasa De Fertilidad (Hijos Por Mujer)=%{x}<br>Población Urbanizada=%{y}<extra></extra>",
           "legendgroup": "Spain",
           "marker": {
            "color": "#EF553B",
            "symbol": "circle"
           },
           "mode": "markers",
           "name": "Spain",
           "orientation": "v",
           "showlegend": true,
           "type": "scatter",
           "x": {
            "bdata": "KVyPwvUoBkA=",
            "dtype": "f8"
           },
           "xaxis": "x",
           "y": {
            "bdata": "AAAAMG65d0E=",
            "dtype": "f8"
           },
           "yaxis": "y"
          },
          {
           "hovertemplate": "Country Name=Sub-Saharan Africa<br>Year=1975<br>Tasa De Fertilidad (Hijos Por Mujer)=%{x}<br>Población Urbanizada=%{y}<extra></extra>",
           "legendgroup": "Sub-Saharan Africa",
           "marker": {
            "color": "#00cc96",
            "symbol": "circle"
           },
           "mode": "markers",
           "name": "Sub-Saharan Africa",
           "orientation": "v",
           "showlegend": true,
           "type": "scatter",
           "x": {
            "bdata": "SOF6FK5HG0A=",
            "dtype": "f8"
           },
           "xaxis": "x",
           "y": {
            "bdata": "AAAAgGFXkEE=",
            "dtype": "f8"
           },
           "yaxis": "y"
          }
         ],
         "name": "1975"
        },
        {
         "data": [
          {
           "hovertemplate": "Country Name=Africa Eastern and Southern<br>Year=1976<br>Tasa De Fertilidad (Hijos Por Mujer)=%{x}<br>Población Urbanizada=%{y}<extra></extra>",
           "legendgroup": "Africa Eastern and Southern",
           "marker": {
            "color": "#636efa",
            "symbol": "circle"
           },
           "mode": "markers",
           "name": "Africa Eastern and Southern",
           "orientation": "v",
           "showlegend": true,
           "type": "scatter",
           "x": {
            "bdata": "KVyPwvUoG0A=",
            "dtype": "f8"
           },
           "xaxis": "x",
           "y": {
            "bdata": "AAAAmBMVg0E=",
            "dtype": "f8"
           },
           "yaxis": "y"
          },
          {
           "hovertemplate": "Country Name=Arab World<br>Year=1976<br>Tasa De Fertilidad (Hijos Por Mujer)=%{x}<br>Población Urbanizada=%{y}<extra></extra>",
           "legendgroup": "Arab World",
           "marker": {
            "color": "#EF553B",
            "symbol": "circle"
           },
           "mode": "markers",
           "name": "Arab World",
           "orientation": "v",
           "showlegend": true,
           "type": "scatter",
           "x": {
            "bdata": "SOF6FK5HGkA=",
            "dtype": "f8"
           },
           "xaxis": "x",
           "y": {
            "bdata": "AAAAYAfBjEE=",
            "dtype": "f8"
           },
           "yaxis": "y"
          },
          {
           "hovertemplate": "Country Name=Central African Republic<br>Year=1976<br>Tasa De Fertilidad (Hijos Por Mujer)=%{x}<br>Población Urbanizada=%{y}<extra></extra>",
           "legendgroup": "Central African Republic",
           "marker": {
            "color": "#00cc96",
            "symbol": "circle"
           },
           "mode": "markers",
           "name": "Central African Republic",
           "orientation": "v",
           "showlegend": true,
           "type": "scatter",
           "x": {
            "bdata": "uB6F61G4F0A=",
            "dtype": "f8"
           },
           "xaxis": "x",
           "y": {
            "bdata": "AAAAAOpYJ0E=",
            "dtype": "f8"
           },
           "yaxis": "y"
          },
          {
           "hovertemplate": "Country Name=East Asia & Pacific<br>Year=1976<br>Tasa De Fertilidad (Hijos Por Mujer)=%{x}<br>Población Urbanizada=%{y}<extra></extra>",
           "legendgroup": "East Asia & Pacific",
           "marker": {
            "color": "#ab63fa",
            "symbol": "circle"
           },
           "mode": "markers",
           "name": "East Asia & Pacific",
           "orientation": "v",
           "showlegend": true,
           "type": "scatter",
           "x": {
            "bdata": "w/UoXI/CC0A=",
            "dtype": "f8"
           },
           "xaxis": "x",
           "y": {
            "bdata": "AAAAYvChtkE=",
            "dtype": "f8"
           },
           "yaxis": "y"
          },
          {
           "hovertemplate": "Country Name=European Union<br>Year=1976<br>Tasa De Fertilidad (Hijos Por Mujer)=%{x}<br>Población Urbanizada=%{y}<extra></extra>",
           "legendgroup": "European Union",
           "marker": {
            "color": "#FFA15A",
            "symbol": "circle"
           },
           "mode": "markers",
           "name": "European Union",
           "orientation": "v",
           "showlegend": true,
           "type": "scatter",
           "x": {
            "bdata": "exSuR+F6AEA=",
            "dtype": "f8"
           },
           "xaxis": "x",
           "y": {
            "bdata": "AAAANLKmr0E=",
            "dtype": "f8"
           },
           "yaxis": "y"
          },
          {
           "hovertemplate": "Country Name=Latin America & Caribbean<br>Year=1976<br>Tasa De Fertilidad (Hijos Por Mujer)=%{x}<br>Población Urbanizada=%{y}<extra></extra>",
           "legendgroup": "Latin America & Caribbean",
           "marker": {
            "color": "#19d3f3",
            "symbol": "circle"
           },
           "mode": "markers",
           "name": "Latin America & Caribbean",
           "orientation": "v",
           "showlegend": true,
           "type": "scatter",
           "x": {
            "bdata": "SOF6FK5HEkA=",
            "dtype": "f8"
           },
           "xaxis": "x",
           "y": {
            "bdata": "AAAATBcrqEE=",
            "dtype": "f8"
           },
           "yaxis": "y"
          },
          {
           "hovertemplate": "Country Name=Mexico<br>Year=1976<br>Tasa De Fertilidad (Hijos Por Mujer)=%{x}<br>Población Urbanizada=%{y}<extra></extra>",
           "legendgroup": "Mexico",
           "marker": {
            "color": "#FF6692",
            "symbol": "circle"
           },
           "mode": "markers",
           "name": "Mexico",
           "orientation": "v",
           "showlegend": true,
           "type": "scatter",
           "x": {
            "bdata": "ZmZmZmZmFkA=",
            "dtype": "f8"
           },
           "xaxis": "x",
           "y": {
            "bdata": "AAAA0D9cgkE=",
            "dtype": "f8"
           },
           "yaxis": "y"
          },
          {
           "hovertemplate": "Country Name=Middle East & North Africa<br>Year=1976<br>Tasa De Fertilidad (Hijos Por Mujer)=%{x}<br>Población Urbanizada=%{y}<extra></extra>",
           "legendgroup": "Middle East & North Africa",
           "marker": {
            "color": "#B6E880",
            "symbol": "circle"
           },
           "mode": "markers",
           "name": "Middle East & North Africa",
           "orientation": "v",
           "showlegend": true,
           "type": "scatter",
           "x": {
            "bdata": "ZmZmZmZmGUA=",
            "dtype": "f8"
           },
           "xaxis": "x",
           "y": {
            "bdata": "AAAAZNUIkkE=",
            "dtype": "f8"
           },
           "yaxis": "y"
          },
          {
           "hovertemplate": "Country Name=North America<br>Year=1976<br>Tasa De Fertilidad (Hijos Por Mujer)=%{x}<br>Población Urbanizada=%{y}<extra></extra>",
           "legendgroup": "North America",
           "marker": {
            "color": "#FF97FF",
            "symbol": "circle"
           },
           "mode": "markers",
           "name": "North America",
           "orientation": "v",
           "showlegend": true,
           "type": "scatter",
           "x": {
            "bdata": "16NwPQrX+z8=",
            "dtype": "f8"
           },
           "xaxis": "x",
           "y": {
            "bdata": "AAAA0mhDpUE=",
            "dtype": "f8"
           },
           "yaxis": "y"
          },
          {
           "hovertemplate": "Country Name=South Africa<br>Year=1976<br>Tasa De Fertilidad (Hijos Por Mujer)=%{x}<br>Población Urbanizada=%{y}<extra></extra>",
           "legendgroup": "South Africa",
           "marker": {
            "color": "#FECB52",
            "symbol": "circle"
           },
           "mode": "markers",
           "name": "South Africa",
           "orientation": "v",
           "showlegend": true,
           "type": "scatter",
           "x": {
            "bdata": "SOF6FK5HFEA=",
            "dtype": "f8"
           },
           "xaxis": "x",
           "y": {
            "bdata": "AAAAADdAaEE=",
            "dtype": "f8"
           },
           "yaxis": "y"
          },
          {
           "hovertemplate": "Country Name=South Asia<br>Year=1976<br>Tasa De Fertilidad (Hijos Por Mujer)=%{x}<br>Población Urbanizada=%{y}<extra></extra>",
           "legendgroup": "South Asia",
           "marker": {
            "color": "#636efa",
            "symbol": "circle"
           },
           "mode": "markers",
           "name": "South Asia",
           "orientation": "v",
           "showlegend": true,
           "type": "scatter",
           "x": {
            "bdata": "w/UoXI/CFUA=",
            "dtype": "f8"
           },
           "xaxis": "x",
           "y": {
            "bdata": "AAAALpwUpEE=",
            "dtype": "f8"
           },
           "yaxis": "y"
          },
          {
           "hovertemplate": "Country Name=Spain<br>Year=1976<br>Tasa De Fertilidad (Hijos Por Mujer)=%{x}<br>Población Urbanizada=%{y}<extra></extra>",
           "legendgroup": "Spain",
           "marker": {
            "color": "#EF553B",
            "symbol": "circle"
           },
           "mode": "markers",
           "name": "Spain",
           "orientation": "v",
           "showlegend": true,
           "type": "scatter",
           "x": {
            "bdata": "KVyPwvUoBkA=",
            "dtype": "f8"
           },
           "xaxis": "x",
           "y": {
            "bdata": "AAAAsEY0eEE=",
            "dtype": "f8"
           },
           "yaxis": "y"
          },
          {
           "hovertemplate": "Country Name=Sub-Saharan Africa<br>Year=1976<br>Tasa De Fertilidad (Hijos Por Mujer)=%{x}<br>Población Urbanizada=%{y}<extra></extra>",
           "legendgroup": "Sub-Saharan Africa",
           "marker": {
            "color": "#00cc96",
            "symbol": "circle"
           },
           "mode": "markers",
           "name": "Sub-Saharan Africa",
           "orientation": "v",
           "showlegend": true,
           "type": "scatter",
           "x": {
            "bdata": "SOF6FK5HG0A=",
            "dtype": "f8"
           },
           "xaxis": "x",
           "y": {
            "bdata": "AAAAVCwrkUE=",
            "dtype": "f8"
           },
           "yaxis": "y"
          }
         ],
         "name": "1976"
        },
        {
         "data": [
          {
           "hovertemplate": "Country Name=Africa Eastern and Southern<br>Year=1977<br>Tasa De Fertilidad (Hijos Por Mujer)=%{x}<br>Población Urbanizada=%{y}<extra></extra>",
           "legendgroup": "Africa Eastern and Southern",
           "marker": {
            "color": "#636efa",
            "symbol": "circle"
           },
           "mode": "markers",
           "name": "Africa Eastern and Southern",
           "orientation": "v",
           "showlegend": true,
           "type": "scatter",
           "x": {
            "bdata": "FK5H4XoUG0A=",
            "dtype": "f8"
           },
           "xaxis": "x",
           "y": {
            "bdata": "AAAAiFH3g0E=",
            "dtype": "f8"
           },
           "yaxis": "y"
          },
          {
           "hovertemplate": "Country Name=Arab World<br>Year=1977<br>Tasa De Fertilidad (Hijos Por Mujer)=%{x}<br>Población Urbanizada=%{y}<extra></extra>",
           "legendgroup": "Arab World",
           "marker": {
            "color": "#EF553B",
            "symbol": "circle"
           },
           "mode": "markers",
           "name": "Arab World",
           "orientation": "v",
           "showlegend": true,
           "type": "scatter",
           "x": {
            "bdata": "FK5H4XoUGkA=",
            "dtype": "f8"
           },
           "xaxis": "x",
           "y": {
            "bdata": "AAAAUCQPjkE=",
            "dtype": "f8"
           },
           "yaxis": "y"
          },
          {
           "hovertemplate": "Country Name=Central African Republic<br>Year=1977<br>Tasa De Fertilidad (Hijos Por Mujer)=%{x}<br>Población Urbanizada=%{y}<extra></extra>",
           "legendgroup": "Central African Republic",
           "marker": {
            "color": "#00cc96",
            "symbol": "circle"
           },
           "mode": "markers",
           "name": "Central African Republic",
           "orientation": "v",
           "showlegend": true,
           "type": "scatter",
           "x": {
            "bdata": "4XoUrkfhF0A=",
            "dtype": "f8"
           },
           "xaxis": "x",
           "y": {
            "bdata": "AAAAAJ7SJ0E=",
            "dtype": "f8"
           },
           "yaxis": "y"
          },
          {
           "hovertemplate": "Country Name=East Asia & Pacific<br>Year=1977<br>Tasa De Fertilidad (Hijos Por Mujer)=%{x}<br>Población Urbanizada=%{y}<extra></extra>",
           "legendgroup": "East Asia & Pacific",
           "marker": {
            "color": "#ab63fa",
            "symbol": "circle"
           },
           "mode": "markers",
           "name": "East Asia & Pacific",
           "orientation": "v",
           "showlegend": true,
           "type": "scatter",
           "x": {
            "bdata": "hetRuB6FCUA=",
            "dtype": "f8"
           },
           "xaxis": "x",
           "y": {
            "bdata": "AAAAEbQmt0E=",
            "dtype": "f8"
           },
           "yaxis": "y"
          },
          {
           "hovertemplate": "Country Name=European Union<br>Year=1977<br>Tasa De Fertilidad (Hijos Por Mujer)=%{x}<br>Población Urbanizada=%{y}<extra></extra>",
           "legendgroup": "European Union",
           "marker": {
            "color": "#FFA15A",
            "symbol": "circle"
           },
           "mode": "markers",
           "name": "European Union",
           "orientation": "v",
           "showlegend": true,
           "type": "scatter",
           "x": {
            "bdata": "16NwPQrX/z8=",
            "dtype": "f8"
           },
           "xaxis": "x",
           "y": {
            "bdata": "AAAAFmr2r0E=",
            "dtype": "f8"
           },
           "yaxis": "y"
          },
          {
           "hovertemplate": "Country Name=Latin America & Caribbean<br>Year=1977<br>Tasa De Fertilidad (Hijos Por Mujer)=%{x}<br>Población Urbanizada=%{y}<extra></extra>",
           "legendgroup": "Latin America & Caribbean",
           "marker": {
            "color": "#19d3f3",
            "symbol": "circle"
           },
           "mode": "markers",
           "name": "Latin America & Caribbean",
           "orientation": "v",
           "showlegend": true,
           "type": "scatter",
           "x": {
            "bdata": "4XoUrkfhEUA=",
            "dtype": "f8"
           },
           "xaxis": "x",
           "y": {
            "bdata": "AAAAMNgDqUE=",
            "dtype": "f8"
           },
           "yaxis": "y"
          },
          {
           "hovertemplate": "Country Name=Mexico<br>Year=1977<br>Tasa De Fertilidad (Hijos Por Mujer)=%{x}<br>Población Urbanizada=%{y}<extra></extra>",
           "legendgroup": "Mexico",
           "marker": {
            "color": "#FF6692",
            "symbol": "circle"
           },
           "mode": "markers",
           "name": "Mexico",
           "orientation": "v",
           "showlegend": true,
           "type": "scatter",
           "x": {
            "bdata": "pHA9CtejFUA=",
            "dtype": "f8"
           },
           "xaxis": "x",
           "y": {
            "bdata": "AAAAODQUg0E=",
            "dtype": "f8"
           },
           "yaxis": "y"
          },
          {
           "hovertemplate": "Country Name=Middle East & North Africa<br>Year=1977<br>Tasa De Fertilidad (Hijos Por Mujer)=%{x}<br>Población Urbanizada=%{y}<extra></extra>",
           "legendgroup": "Middle East & North Africa",
           "marker": {
            "color": "#B6E880",
            "symbol": "circle"
           },
           "mode": "markers",
           "name": "Middle East & North Africa",
           "orientation": "v",
           "showlegend": true,
           "type": "scatter",
           "x": {
            "bdata": "SOF6FK5HGUA=",
            "dtype": "f8"
           },
           "xaxis": "x",
           "y": {
            "bdata": "AAAAiKfZkkE=",
            "dtype": "f8"
           },
           "yaxis": "y"
          },
          {
           "hovertemplate": "Country Name=North America<br>Year=1977<br>Tasa De Fertilidad (Hijos Por Mujer)=%{x}<br>Población Urbanizada=%{y}<extra></extra>",
           "legendgroup": "North America",
           "marker": {
            "color": "#FF97FF",
            "symbol": "circle"
           },
           "mode": "markers",
           "name": "North America",
           "orientation": "v",
           "showlegend": true,
           "type": "scatter",
           "x": {
            "bdata": "pHA9Ctej/D8=",
            "dtype": "f8"
           },
           "xaxis": "x",
           "y": {
            "bdata": "AAAA/Ed8pUE=",
            "dtype": "f8"
           },
           "yaxis": "y"
          },
          {
           "hovertemplate": "Country Name=South Africa<br>Year=1977<br>Tasa De Fertilidad (Hijos Por Mujer)=%{x}<br>Población Urbanizada=%{y}<extra></extra>",
           "legendgroup": "South Africa",
           "marker": {
            "color": "#FECB52",
            "symbol": "circle"
           },
           "mode": "markers",
           "name": "South Africa",
           "orientation": "v",
           "showlegend": true,
           "type": "scatter",
           "x": {
            "bdata": "w/UoXI/CE0A=",
            "dtype": "f8"
           },
           "xaxis": "x",
           "y": {
            "bdata": "AAAA4FPyaEE=",
            "dtype": "f8"
           },
           "yaxis": "y"
          },
          {
           "hovertemplate": "Country Name=South Asia<br>Year=1977<br>Tasa De Fertilidad (Hijos Por Mujer)=%{x}<br>Población Urbanizada=%{y}<extra></extra>",
           "legendgroup": "South Asia",
           "marker": {
            "color": "#636efa",
            "symbol": "circle"
           },
           "mode": "markers",
           "name": "South Asia",
           "orientation": "v",
           "showlegend": true,
           "type": "scatter",
           "x": {
            "bdata": "UrgehetRFUA=",
            "dtype": "f8"
           },
           "xaxis": "x",
           "y": {
            "bdata": "AAAA6Fb6pEE=",
            "dtype": "f8"
           },
           "yaxis": "y"
          },
          {
           "hovertemplate": "Country Name=Spain<br>Year=1977<br>Tasa De Fertilidad (Hijos Por Mujer)=%{x}<br>Población Urbanizada=%{y}<extra></extra>",
           "legendgroup": "Spain",
           "marker": {
            "color": "#EF553B",
            "symbol": "circle"
           },
           "mode": "markers",
           "name": "Spain",
           "orientation": "v",
           "showlegend": true,
           "type": "scatter",
           "x": {
            "bdata": "MzMzMzMzBUA=",
            "dtype": "f8"
           },
           "xaxis": "x",
           "y": {
            "bdata": "AAAAAH6ueEE=",
            "dtype": "f8"
           },
           "yaxis": "y"
          },
          {
           "hovertemplate": "Country Name=Sub-Saharan Africa<br>Year=1977<br>Tasa De Fertilidad (Hijos Por Mujer)=%{x}<br>Población Urbanizada=%{y}<extra></extra>",
           "legendgroup": "Sub-Saharan Africa",
           "marker": {
            "color": "#00cc96",
            "symbol": "circle"
           },
           "mode": "markers",
           "name": "Sub-Saharan Africa",
           "orientation": "v",
           "showlegend": true,
           "type": "scatter",
           "x": {
            "bdata": "SOF6FK5HG0A=",
            "dtype": "f8"
           },
           "xaxis": "x",
           "y": {
            "bdata": "AAAAlGkEkkE=",
            "dtype": "f8"
           },
           "yaxis": "y"
          }
         ],
         "name": "1977"
        },
        {
         "data": [
          {
           "hovertemplate": "Country Name=Africa Eastern and Southern<br>Year=1978<br>Tasa De Fertilidad (Hijos Por Mujer)=%{x}<br>Población Urbanizada=%{y}<extra></extra>",
           "legendgroup": "Africa Eastern and Southern",
           "marker": {
            "color": "#636efa",
            "symbol": "circle"
           },
           "mode": "markers",
           "name": "Africa Eastern and Southern",
           "orientation": "v",
           "showlegend": true,
           "type": "scatter",
           "x": {
            "bdata": "AAAAAAAAG0A=",
            "dtype": "f8"
           },
           "xaxis": "x",
           "y": {
            "bdata": "AAAAmOXvhEE=",
            "dtype": "f8"
           },
           "yaxis": "y"
          },
          {
           "hovertemplate": "Country Name=Arab World<br>Year=1978<br>Tasa De Fertilidad (Hijos Por Mujer)=%{x}<br>Población Urbanizada=%{y}<extra></extra>",
           "legendgroup": "Arab World",
           "marker": {
            "color": "#EF553B",
            "symbol": "circle"
           },
           "mode": "markers",
           "name": "Arab World",
           "orientation": "v",
           "showlegend": true,
           "type": "scatter",
           "x": {
            "bdata": "4XoUrkfhGUA=",
            "dtype": "f8"
           },
           "xaxis": "x",
           "y": {
            "bdata": "AAAA+GZxj0E=",
            "dtype": "f8"
           },
           "yaxis": "y"
          },
          {
           "hovertemplate": "Country Name=Central African Republic<br>Year=1978<br>Tasa De Fertilidad (Hijos Por Mujer)=%{x}<br>Población Urbanizada=%{y}<extra></extra>",
           "legendgroup": "Central African Republic",
           "marker": {
            "color": "#00cc96",
            "symbol": "circle"
           },
           "mode": "markers",
           "name": "Central African Republic",
           "orientation": "v",
           "showlegend": true,
           "type": "scatter",
           "x": {
            "bdata": "FK5H4XoUGEA=",
            "dtype": "f8"
           },
           "xaxis": "x",
           "y": {
            "bdata": "AAAAAKZPKEE=",
            "dtype": "f8"
           },
           "yaxis": "y"
          },
          {
           "hovertemplate": "Country Name=East Asia & Pacific<br>Year=1978<br>Tasa De Fertilidad (Hijos Por Mujer)=%{x}<br>Población Urbanizada=%{y}<extra></extra>",
           "legendgroup": "East Asia & Pacific",
           "marker": {
            "color": "#ab63fa",
            "symbol": "circle"
           },
           "mode": "markers",
           "name": "East Asia & Pacific",
           "orientation": "v",
           "showlegend": true,
           "type": "scatter",
           "x": {
            "bdata": "pHA9CtejCEA=",
            "dtype": "f8"
           },
           "xaxis": "x",
           "y": {
            "bdata": "AAAAbA/ct0E=",
            "dtype": "f8"
           },
           "yaxis": "y"
          },
          {
           "hovertemplate": "Country Name=European Union<br>Year=1978<br>Tasa De Fertilidad (Hijos Por Mujer)=%{x}<br>Población Urbanizada=%{y}<extra></extra>",
           "legendgroup": "European Union",
           "marker": {
            "color": "#FFA15A",
            "symbol": "circle"
           },
           "mode": "markers",
           "name": "European Union",
           "orientation": "v",
           "showlegend": true,
           "type": "scatter",
           "x": {
            "bdata": "CtejcD0K/z8=",
            "dtype": "f8"
           },
           "xaxis": "x",
           "y": {
            "bdata": "AAAAGe0isEE=",
            "dtype": "f8"
           },
           "yaxis": "y"
          },
          {
           "hovertemplate": "Country Name=Latin America & Caribbean<br>Year=1978<br>Tasa De Fertilidad (Hijos Por Mujer)=%{x}<br>Población Urbanizada=%{y}<extra></extra>",
           "legendgroup": "Latin America & Caribbean",
           "marker": {
            "color": "#19d3f3",
            "symbol": "circle"
           },
           "mode": "markers",
           "name": "Latin America & Caribbean",
           "orientation": "v",
           "showlegend": true,
           "type": "scatter",
           "x": {
            "bdata": "hetRuB6FEUA=",
            "dtype": "f8"
           },
           "xaxis": "x",
           "y": {
            "bdata": "AAAA/HbiqUE=",
            "dtype": "f8"
           },
           "yaxis": "y"
          },
          {
           "hovertemplate": "Country Name=Mexico<br>Year=1978<br>Tasa De Fertilidad (Hijos Por Mujer)=%{x}<br>Población Urbanizada=%{y}<extra></extra>",
           "legendgroup": "Mexico",
           "marker": {
            "color": "#FF6692",
            "symbol": "circle"
           },
           "mode": "markers",
           "name": "Mexico",
           "orientation": "v",
           "showlegend": true,
           "type": "scatter",
           "x": {
            "bdata": "AAAAAAAAFUA=",
            "dtype": "f8"
           },
           "xaxis": "x",
           "y": {
            "bdata": "AAAA0E7Pg0E=",
            "dtype": "f8"
           },
           "yaxis": "y"
          },
          {
           "hovertemplate": "Country Name=Middle East & North Africa<br>Year=1978<br>Tasa De Fertilidad (Hijos Por Mujer)=%{x}<br>Población Urbanizada=%{y}<extra></extra>",
           "legendgroup": "Middle East & North Africa",
           "marker": {
            "color": "#B6E880",
            "symbol": "circle"
           },
           "mode": "markers",
           "name": "Middle East & North Africa",
           "orientation": "v",
           "showlegend": true,
           "type": "scatter",
           "x": {
            "bdata": "MzMzMzMzGUA=",
            "dtype": "f8"
           },
           "xaxis": "x",
           "y": {
            "bdata": "AAAA8Euyk0E=",
            "dtype": "f8"
           },
           "yaxis": "y"
          },
          {
           "hovertemplate": "Country Name=North America<br>Year=1978<br>Tasa De Fertilidad (Hijos Por Mujer)=%{x}<br>Población Urbanizada=%{y}<extra></extra>",
           "legendgroup": "North America",
           "marker": {
            "color": "#FF97FF",
            "symbol": "circle"
           },
           "mode": "markers",
           "name": "North America",
           "orientation": "v",
           "showlegend": true,
           "type": "scatter",
           "x": {
            "bdata": "KVyPwvUo/D8=",
            "dtype": "f8"
           },
           "xaxis": "x",
           "y": {
            "bdata": "AAAA9me3pUE=",
            "dtype": "f8"
           },
           "yaxis": "y"
          },
          {
           "hovertemplate": "Country Name=South Africa<br>Year=1978<br>Tasa De Fertilidad (Hijos Por Mujer)=%{x}<br>Población Urbanizada=%{y}<extra></extra>",
           "legendgroup": "South Africa",
           "marker": {
            "color": "#FECB52",
            "symbol": "circle"
           },
           "mode": "markers",
           "name": "South Africa",
           "orientation": "v",
           "showlegend": true,
           "type": "scatter",
           "x": {
            "bdata": "ZmZmZmZmE0A=",
            "dtype": "f8"
           },
           "xaxis": "x",
           "y": {
            "bdata": "AAAAQD6raUE=",
            "dtype": "f8"
           },
           "yaxis": "y"
          },
          {
           "hovertemplate": "Country Name=South Asia<br>Year=1978<br>Tasa De Fertilidad (Hijos Por Mujer)=%{x}<br>Población Urbanizada=%{y}<extra></extra>",
           "legendgroup": "South Asia",
           "marker": {
            "color": "#636efa",
            "symbol": "circle"
           },
           "mode": "markers",
           "name": "South Asia",
           "orientation": "v",
           "showlegend": true,
           "type": "scatter",
           "x": {
            "bdata": "9ihcj8L1FEA=",
            "dtype": "f8"
           },
           "xaxis": "x",
           "y": {
            "bdata": "AAAAcMropUE=",
            "dtype": "f8"
           },
           "yaxis": "y"
          },
          {
           "hovertemplate": "Country Name=Spain<br>Year=1978<br>Tasa De Fertilidad (Hijos Por Mujer)=%{x}<br>Población Urbanizada=%{y}<extra></extra>",
           "legendgroup": "Spain",
           "marker": {
            "color": "#EF553B",
            "symbol": "circle"
           },
           "mode": "markers",
           "name": "Spain",
           "orientation": "v",
           "showlegend": true,
           "type": "scatter",
           "x": {
            "bdata": "UrgehetRBEA=",
            "dtype": "f8"
           },
           "xaxis": "x",
           "y": {
            "bdata": "AAAAQJYleUE=",
            "dtype": "f8"
           },
           "yaxis": "y"
          },
          {
           "hovertemplate": "Country Name=Sub-Saharan Africa<br>Year=1978<br>Tasa De Fertilidad (Hijos Por Mujer)=%{x}<br>Población Urbanizada=%{y}<extra></extra>",
           "legendgroup": "Sub-Saharan Africa",
           "marker": {
            "color": "#00cc96",
            "symbol": "circle"
           },
           "mode": "markers",
           "name": "Sub-Saharan Africa",
           "orientation": "v",
           "showlegend": true,
           "type": "scatter",
           "x": {
            "bdata": "SOF6FK5HG0A=",
            "dtype": "f8"
           },
           "xaxis": "x",
           "y": {
            "bdata": "AAAApNPukkE=",
            "dtype": "f8"
           },
           "yaxis": "y"
          }
         ],
         "name": "1978"
        },
        {
         "data": [
          {
           "hovertemplate": "Country Name=Africa Eastern and Southern<br>Year=1979<br>Tasa De Fertilidad (Hijos Por Mujer)=%{x}<br>Población Urbanizada=%{y}<extra></extra>",
           "legendgroup": "Africa Eastern and Southern",
           "marker": {
            "color": "#636efa",
            "symbol": "circle"
           },
           "mode": "markers",
           "name": "Africa Eastern and Southern",
           "orientation": "v",
           "showlegend": true,
           "type": "scatter",
           "x": {
            "bdata": "7FG4HoXrGkA=",
            "dtype": "f8"
           },
           "xaxis": "x",
           "y": {
            "bdata": "AAAAmNr2hUE=",
            "dtype": "f8"
           },
           "yaxis": "y"
          },
          {
           "hovertemplate": "Country Name=Arab World<br>Year=1979<br>Tasa De Fertilidad (Hijos Por Mujer)=%{x}<br>Población Urbanizada=%{y}<extra></extra>",
           "legendgroup": "Arab World",
           "marker": {
            "color": "#EF553B",
            "symbol": "circle"
           },
           "mode": "markers",
           "name": "Arab World",
           "orientation": "v",
           "showlegend": true,
           "type": "scatter",
           "x": {
            "bdata": "uB6F61G4GUA=",
            "dtype": "f8"
           },
           "xaxis": "x",
           "y": {
            "bdata": "AAAARB52kEE=",
            "dtype": "f8"
           },
           "yaxis": "y"
          },
          {
           "hovertemplate": "Country Name=Central African Republic<br>Year=1979<br>Tasa De Fertilidad (Hijos Por Mujer)=%{x}<br>Población Urbanizada=%{y}<extra></extra>",
           "legendgroup": "Central African Republic",
           "marker": {
            "color": "#00cc96",
            "symbol": "circle"
           },
           "mode": "markers",
           "name": "Central African Republic",
           "orientation": "v",
           "showlegend": true,
           "type": "scatter",
           "x": {
            "bdata": "SOF6FK5HGEA=",
            "dtype": "f8"
           },
           "xaxis": "x",
           "y": {
            "bdata": "AAAAADzQKEE=",
            "dtype": "f8"
           },
           "yaxis": "y"
          },
          {
           "hovertemplate": "Country Name=East Asia & Pacific<br>Year=1979<br>Tasa De Fertilidad (Hijos Por Mujer)=%{x}<br>Población Urbanizada=%{y}<extra></extra>",
           "legendgroup": "East Asia & Pacific",
           "marker": {
            "color": "#ab63fa",
            "symbol": "circle"
           },
           "mode": "markers",
           "name": "East Asia & Pacific",
           "orientation": "v",
           "showlegend": true,
           "type": "scatter",
           "x": {
            "bdata": "pHA9CtejCEA=",
            "dtype": "f8"
           },
           "xaxis": "x",
           "y": {
            "bdata": "AAAA4MrIuEE=",
            "dtype": "f8"
           },
           "yaxis": "y"
          },
          {
           "hovertemplate": "Country Name=European Union<br>Year=1979<br>Tasa De Fertilidad (Hijos Por Mujer)=%{x}<br>Población Urbanizada=%{y}<extra></extra>",
           "legendgroup": "European Union",
           "marker": {
            "color": "#FFA15A",
            "symbol": "circle"
           },
           "mode": "markers",
           "name": "European Union",
           "orientation": "v",
           "showlegend": true,
           "type": "scatter",
           "x": {
            "bdata": "ZmZmZmZm/j8=",
            "dtype": "f8"
           },
           "xaxis": "x",
           "y": {
            "bdata": "AAAAOWVJsEE=",
            "dtype": "f8"
           },
           "yaxis": "y"
          },
          {
           "hovertemplate": "Country Name=Latin America & Caribbean<br>Year=1979<br>Tasa De Fertilidad (Hijos Por Mujer)=%{x}<br>Población Urbanizada=%{y}<extra></extra>",
           "legendgroup": "Latin America & Caribbean",
           "marker": {
            "color": "#19d3f3",
            "symbol": "circle"
           },
           "mode": "markers",
           "name": "Latin America & Caribbean",
           "orientation": "v",
           "showlegend": true,
           "type": "scatter",
           "x": {
            "bdata": "FK5H4XoUEUA=",
            "dtype": "f8"
           },
           "xaxis": "x",
           "y": {
            "bdata": "AAAAdGfFqkE=",
            "dtype": "f8"
           },
           "yaxis": "y"
          },
          {
           "hovertemplate": "Country Name=Mexico<br>Year=1979<br>Tasa De Fertilidad (Hijos Por Mujer)=%{x}<br>Población Urbanizada=%{y}<extra></extra>",
           "legendgroup": "Mexico",
           "marker": {
            "color": "#FF6692",
            "symbol": "circle"
           },
           "mode": "markers",
           "name": "Mexico",
           "orientation": "v",
           "showlegend": true,
           "type": "scatter",
           "x": {
            "bdata": "AAAAAAAAFEA=",
            "dtype": "f8"
           },
           "xaxis": "x",
           "y": {
            "bdata": "AAAAcLmMhEE=",
            "dtype": "f8"
           },
           "yaxis": "y"
          },
          {
           "hovertemplate": "Country Name=Middle East & North Africa<br>Year=1979<br>Tasa De Fertilidad (Hijos Por Mujer)=%{x}<br>Población Urbanizada=%{y}<extra></extra>",
           "legendgroup": "Middle East & North Africa",
           "marker": {
            "color": "#B6E880",
            "symbol": "circle"
           },
           "mode": "markers",
           "name": "Middle East & North Africa",
           "orientation": "v",
           "showlegend": true,
           "type": "scatter",
           "x": {
            "bdata": "PQrXo3A9GUA=",
            "dtype": "f8"
           },
           "xaxis": "x",
           "y": {
            "bdata": "AAAAmI6WlEE=",
            "dtype": "f8"
           },
           "yaxis": "y"
          },
          {
           "hovertemplate": "Country Name=North America<br>Year=1979<br>Tasa De Fertilidad (Hijos Por Mujer)=%{x}<br>Población Urbanizada=%{y}<extra></extra>",
           "legendgroup": "North America",
           "marker": {
            "color": "#FF97FF",
            "symbol": "circle"
           },
           "mode": "markers",
           "name": "North America",
           "orientation": "v",
           "showlegend": true,
           "type": "scatter",
           "x": {
            "bdata": "zczMzMzM/D8=",
            "dtype": "f8"
           },
           "xaxis": "x",
           "y": {
            "bdata": "AAAAzG31pUE=",
            "dtype": "f8"
           },
           "yaxis": "y"
          },
          {
           "hovertemplate": "Country Name=South Africa<br>Year=1979<br>Tasa De Fertilidad (Hijos Por Mujer)=%{x}<br>Población Urbanizada=%{y}<extra></extra>",
           "legendgroup": "South Africa",
           "marker": {
            "color": "#FECB52",
            "symbol": "circle"
           },
           "mode": "markers",
           "name": "South Africa",
           "orientation": "v",
           "showlegend": true,
           "type": "scatter",
           "x": {
            "bdata": "SOF6FK5HE0A=",
            "dtype": "f8"
           },
           "xaxis": "x",
           "y": {
            "bdata": "AAAAYO1nakE=",
            "dtype": "f8"
           },
           "yaxis": "y"
          },
          {
           "hovertemplate": "Country Name=South Asia<br>Year=1979<br>Tasa De Fertilidad (Hijos Por Mujer)=%{x}<br>Población Urbanizada=%{y}<extra></extra>",
           "legendgroup": "South Asia",
           "marker": {
            "color": "#636efa",
            "symbol": "circle"
           },
           "mode": "markers",
           "name": "South Asia",
           "orientation": "v",
           "showlegend": true,
           "type": "scatter",
           "x": {
            "bdata": "pHA9CtejFEA=",
            "dtype": "f8"
           },
           "xaxis": "x",
           "y": {
            "bdata": "AAAABDPkpkE=",
            "dtype": "f8"
           },
           "yaxis": "y"
          },
          {
           "hovertemplate": "Country Name=Spain<br>Year=1979<br>Tasa De Fertilidad (Hijos Por Mujer)=%{x}<br>Población Urbanizada=%{y}<extra></extra>",
           "legendgroup": "Spain",
           "marker": {
            "color": "#EF553B",
            "symbol": "circle"
           },
           "mode": "markers",
           "name": "Spain",
           "orientation": "v",
           "showlegend": true,
           "type": "scatter",
           "x": {
            "bdata": "9ihcj8L1AkA=",
            "dtype": "f8"
           },
           "xaxis": "x",
           "y": {
            "bdata": "AAAAgD+YeUE=",
            "dtype": "f8"
           },
           "yaxis": "y"
          },
          {
           "hovertemplate": "Country Name=Sub-Saharan Africa<br>Year=1979<br>Tasa De Fertilidad (Hijos Por Mujer)=%{x}<br>Población Urbanizada=%{y}<extra></extra>",
           "legendgroup": "Sub-Saharan Africa",
           "marker": {
            "color": "#00cc96",
            "symbol": "circle"
           },
           "mode": "markers",
           "name": "Sub-Saharan Africa",
           "orientation": "v",
           "showlegend": true,
           "type": "scatter",
           "x": {
            "bdata": "MzMzMzMzG0A=",
            "dtype": "f8"
           },
           "xaxis": "x",
           "y": {
            "bdata": "AAAAfMjdk0E=",
            "dtype": "f8"
           },
           "yaxis": "y"
          }
         ],
         "name": "1979"
        },
        {
         "data": [
          {
           "hovertemplate": "Country Name=Africa Eastern and Southern<br>Year=1980<br>Tasa De Fertilidad (Hijos Por Mujer)=%{x}<br>Población Urbanizada=%{y}<extra></extra>",
           "legendgroup": "Africa Eastern and Southern",
           "marker": {
            "color": "#636efa",
            "symbol": "circle"
           },
           "mode": "markers",
           "name": "Africa Eastern and Southern",
           "orientation": "v",
           "showlegend": true,
           "type": "scatter",
           "x": {
            "bdata": "zczMzMzMGkA=",
            "dtype": "f8"
           },
           "xaxis": "x",
           "y": {
            "bdata": "AAAASEgAh0E=",
            "dtype": "f8"
           },
           "yaxis": "y"
          },
          {
           "hovertemplate": "Country Name=Arab World<br>Year=1980<br>Tasa De Fertilidad (Hijos Por Mujer)=%{x}<br>Población Urbanizada=%{y}<extra></extra>",
           "legendgroup": "Arab World",
           "marker": {
            "color": "#EF553B",
            "symbol": "circle"
           },
           "mode": "markers",
           "name": "Arab World",
           "orientation": "v",
           "showlegend": true,
           "type": "scatter",
           "x": {
            "bdata": "XI/C9ShcGUA=",
            "dtype": "f8"
           },
           "xaxis": "x",
           "y": {
            "bdata": "AAAAuBQ8kUE=",
            "dtype": "f8"
           },
           "yaxis": "y"
          },
          {
           "hovertemplate": "Country Name=Central African Republic<br>Year=1980<br>Tasa De Fertilidad (Hijos Por Mujer)=%{x}<br>Población Urbanizada=%{y}<extra></extra>",
           "legendgroup": "Central African Republic",
           "marker": {
            "color": "#00cc96",
            "symbol": "circle"
           },
           "mode": "markers",
           "name": "Central African Republic",
           "orientation": "v",
           "showlegend": true,
           "type": "scatter",
           "x": {
            "bdata": "cT0K16NwGEA=",
            "dtype": "f8"
           },
           "xaxis": "x",
           "y": {
            "bdata": "AAAAABxVKUE=",
            "dtype": "f8"
           },
           "yaxis": "y"
          },
          {
           "hovertemplate": "Country Name=East Asia & Pacific<br>Year=1980<br>Tasa De Fertilidad (Hijos Por Mujer)=%{x}<br>Población Urbanizada=%{y}<extra></extra>",
           "legendgroup": "East Asia & Pacific",
           "marker": {
            "color": "#ab63fa",
            "symbol": "circle"
           },
           "mode": "markers",
           "name": "East Asia & Pacific",
           "orientation": "v",
           "showlegend": true,
           "type": "scatter",
           "x": {
            "bdata": "ZmZmZmZmCEA=",
            "dtype": "f8"
           },
           "xaxis": "x",
           "y": {
            "bdata": "AAAAxJy9uUE=",
            "dtype": "f8"
           },
           "yaxis": "y"
          },
          {
           "hovertemplate": "Country Name=European Union<br>Year=1980<br>Tasa De Fertilidad (Hijos Por Mujer)=%{x}<br>Población Urbanizada=%{y}<extra></extra>",
           "legendgroup": "European Union",
           "marker": {
            "color": "#FFA15A",
            "symbol": "circle"
           },
           "mode": "markers",
           "name": "European Union",
           "orientation": "v",
           "showlegend": true,
           "type": "scatter",
           "x": {
            "bdata": "7FG4HoXr/T8=",
            "dtype": "f8"
           },
           "xaxis": "x",
           "y": {
            "bdata": "AAAA9NpvsEE=",
            "dtype": "f8"
           },
           "yaxis": "y"
          },
          {
           "hovertemplate": "Country Name=Latin America & Caribbean<br>Year=1980<br>Tasa De Fertilidad (Hijos Por Mujer)=%{x}<br>Población Urbanizada=%{y}<extra></extra>",
           "legendgroup": "Latin America & Caribbean",
           "marker": {
            "color": "#19d3f3",
            "symbol": "circle"
           },
           "mode": "markers",
           "name": "Latin America & Caribbean",
           "orientation": "v",
           "showlegend": true,
           "type": "scatter",
           "x": {
            "bdata": "pHA9CtejEEA=",
            "dtype": "f8"
           },
           "xaxis": "x",
           "y": {
            "bdata": "AAAAyietq0E=",
            "dtype": "f8"
           },
           "yaxis": "y"
          },
          {
           "hovertemplate": "Country Name=Mexico<br>Year=1980<br>Tasa De Fertilidad (Hijos Por Mujer)=%{x}<br>Población Urbanizada=%{y}<extra></extra>",
           "legendgroup": "Mexico",
           "marker": {
            "color": "#FF6692",
            "symbol": "circle"
           },
           "mode": "markers",
           "name": "Mexico",
           "orientation": "v",
           "showlegend": true,
           "type": "scatter",
           "x": {
            "bdata": "H4XrUbgeE0A=",
            "dtype": "f8"
           },
           "xaxis": "x",
           "y": {
            "bdata": "AAAACP9JhUE=",
            "dtype": "f8"
           },
           "yaxis": "y"
          },
          {
           "hovertemplate": "Country Name=Middle East & North Africa<br>Year=1980<br>Tasa De Fertilidad (Hijos Por Mujer)=%{x}<br>Población Urbanizada=%{y}<extra></extra>",
           "legendgroup": "Middle East & North Africa",
           "marker": {
            "color": "#B6E880",
            "symbol": "circle"
           },
           "mode": "markers",
           "name": "Middle East & North Africa",
           "orientation": "v",
           "showlegend": true,
           "type": "scatter",
           "x": {
            "bdata": "AAAAAAAAGUA=",
            "dtype": "f8"
           },
           "xaxis": "x",
           "y": {
            "bdata": "AAAAbFeJlUE=",
            "dtype": "f8"
           },
           "yaxis": "y"
          },
          {
           "hovertemplate": "Country Name=North America<br>Year=1980<br>Tasa De Fertilidad (Hijos Por Mujer)=%{x}<br>Población Urbanizada=%{y}<extra></extra>",
           "legendgroup": "North America",
           "marker": {
            "color": "#FF97FF",
            "symbol": "circle"
           },
           "mode": "markers",
           "name": "North America",
           "orientation": "v",
           "showlegend": true,
           "type": "scatter",
           "x": {
            "bdata": "SOF6FK5H/T8=",
            "dtype": "f8"
           },
           "xaxis": "x",
           "y": {
            "bdata": "AAAAKvkwpkE=",
            "dtype": "f8"
           },
           "yaxis": "y"
          },
          {
           "hovertemplate": "Country Name=South Africa<br>Year=1980<br>Tasa De Fertilidad (Hijos Por Mujer)=%{x}<br>Población Urbanizada=%{y}<extra></extra>",
           "legendgroup": "South Africa",
           "marker": {
            "color": "#FECB52",
            "symbol": "circle"
           },
           "mode": "markers",
           "name": "South Africa",
           "orientation": "v",
           "showlegend": true,
           "type": "scatter",
           "x": {
            "bdata": "H4XrUbgeE0A=",
            "dtype": "f8"
           },
           "xaxis": "x",
           "y": {
            "bdata": "AAAAYL1Da0E=",
            "dtype": "f8"
           },
           "yaxis": "y"
          },
          {
           "hovertemplate": "Country Name=South Asia<br>Year=1980<br>Tasa De Fertilidad (Hijos Por Mujer)=%{x}<br>Población Urbanizada=%{y}<extra></extra>",
           "legendgroup": "South Asia",
           "marker": {
            "color": "#636efa",
            "symbol": "circle"
           },
           "mode": "markers",
           "name": "South Asia",
           "orientation": "v",
           "showlegend": true,
           "type": "scatter",
           "x": {
            "bdata": "hetRuB6FFEA=",
            "dtype": "f8"
           },
           "xaxis": "x",
           "y": {
            "bdata": "AAAArNLwp0E=",
            "dtype": "f8"
           },
           "yaxis": "y"
          },
          {
           "hovertemplate": "Country Name=Spain<br>Year=1980<br>Tasa De Fertilidad (Hijos Por Mujer)=%{x}<br>Población Urbanizada=%{y}<extra></extra>",
           "legendgroup": "Spain",
           "marker": {
            "color": "#EF553B",
            "symbol": "circle"
           },
           "mode": "markers",
           "name": "Spain",
           "orientation": "v",
           "showlegend": true,
           "type": "scatter",
           "x": {
            "bdata": "w/UoXI/CAUA=",
            "dtype": "f8"
           },
           "xaxis": "x",
           "y": {
            "bdata": "AAAAQHYGekE=",
            "dtype": "f8"
           },
           "yaxis": "y"
          },
          {
           "hovertemplate": "Country Name=Sub-Saharan Africa<br>Year=1980<br>Tasa De Fertilidad (Hijos Por Mujer)=%{x}<br>Población Urbanizada=%{y}<extra></extra>",
           "legendgroup": "Sub-Saharan Africa",
           "marker": {
            "color": "#00cc96",
            "symbol": "circle"
           },
           "mode": "markers",
           "name": "Sub-Saharan Africa",
           "orientation": "v",
           "showlegend": true,
           "type": "scatter",
           "x": {
            "bdata": "H4XrUbgeG0A=",
            "dtype": "f8"
           },
           "xaxis": "x",
           "y": {
            "bdata": "AAAAfOjSlEE=",
            "dtype": "f8"
           },
           "yaxis": "y"
          }
         ],
         "name": "1980"
        },
        {
         "data": [
          {
           "hovertemplate": "Country Name=Africa Eastern and Southern<br>Year=1981<br>Tasa De Fertilidad (Hijos Por Mujer)=%{x}<br>Población Urbanizada=%{y}<extra></extra>",
           "legendgroup": "Africa Eastern and Southern",
           "marker": {
            "color": "#636efa",
            "symbol": "circle"
           },
           "mode": "markers",
           "name": "Africa Eastern and Southern",
           "orientation": "v",
           "showlegend": true,
           "type": "scatter",
           "x": {
            "bdata": "pHA9CtejGkA=",
            "dtype": "f8"
           },
           "xaxis": "x",
           "y": {
            "bdata": "AAAAoP8ViEE=",
            "dtype": "f8"
           },
           "yaxis": "y"
          },
          {
           "hovertemplate": "Country Name=Arab World<br>Year=1981<br>Tasa De Fertilidad (Hijos Por Mujer)=%{x}<br>Población Urbanizada=%{y}<extra></extra>",
           "legendgroup": "Arab World",
           "marker": {
            "color": "#EF553B",
            "symbol": "circle"
           },
           "mode": "markers",
           "name": "Arab World",
           "orientation": "v",
           "showlegend": true,
           "type": "scatter",
           "x": {
            "bdata": "CtejcD0KGUA=",
            "dtype": "f8"
           },
           "xaxis": "x",
           "y": {
            "bdata": "AAAAOCUDkkE=",
            "dtype": "f8"
           },
           "yaxis": "y"
          },
          {
           "hovertemplate": "Country Name=Central African Republic<br>Year=1981<br>Tasa De Fertilidad (Hijos Por Mujer)=%{x}<br>Población Urbanizada=%{y}<extra></extra>",
           "legendgroup": "Central African Republic",
           "marker": {
            "color": "#00cc96",
            "symbol": "circle"
           },
           "mode": "markers",
           "name": "Central African Republic",
           "orientation": "v",
           "showlegend": true,
           "type": "scatter",
           "x": {
            "bdata": "j8L1KFyPGEA=",
            "dtype": "f8"
           },
           "xaxis": "x",
           "y": {
            "bdata": "AAAAAF7eKUE=",
            "dtype": "f8"
           },
           "yaxis": "y"
          },
          {
           "hovertemplate": "Country Name=East Asia & Pacific<br>Year=1981<br>Tasa De Fertilidad (Hijos Por Mujer)=%{x}<br>Población Urbanizada=%{y}<extra></extra>",
           "legendgroup": "East Asia & Pacific",
           "marker": {
            "color": "#ab63fa",
            "symbol": "circle"
           },
           "mode": "markers",
           "name": "East Asia & Pacific",
           "orientation": "v",
           "showlegend": true,
           "type": "scatter",
           "x": {
            "bdata": "exSuR+F6CEA=",
            "dtype": "f8"
           },
           "xaxis": "x",
           "y": {
            "bdata": "AAAAzJrBukE=",
            "dtype": "f8"
           },
           "yaxis": "y"
          },
          {
           "hovertemplate": "Country Name=European Union<br>Year=1981<br>Tasa De Fertilidad (Hijos Por Mujer)=%{x}<br>Población Urbanizada=%{y}<extra></extra>",
           "legendgroup": "European Union",
           "marker": {
            "color": "#FFA15A",
            "symbol": "circle"
           },
           "mode": "markers",
           "name": "European Union",
           "orientation": "v",
           "showlegend": true,
           "type": "scatter",
           "x": {
            "bdata": "H4XrUbge/T8=",
            "dtype": "f8"
           },
           "xaxis": "x",
           "y": {
            "bdata": "AAAA7dOSsEE=",
            "dtype": "f8"
           },
           "yaxis": "y"
          },
          {
           "hovertemplate": "Country Name=Latin America & Caribbean<br>Year=1981<br>Tasa De Fertilidad (Hijos Por Mujer)=%{x}<br>Población Urbanizada=%{y}<extra></extra>",
           "legendgroup": "Latin America & Caribbean",
           "marker": {
            "color": "#19d3f3",
            "symbol": "circle"
           },
           "mode": "markers",
           "name": "Latin America & Caribbean",
           "orientation": "v",
           "showlegend": true,
           "type": "scatter",
           "x": {
            "bdata": "SOF6FK5HEEA=",
            "dtype": "f8"
           },
           "xaxis": "x",
           "y": {
            "bdata": "AAAANsGWrEE=",
            "dtype": "f8"
           },
           "yaxis": "y"
          },
          {
           "hovertemplate": "Country Name=Mexico<br>Year=1981<br>Tasa De Fertilidad (Hijos Por Mujer)=%{x}<br>Población Urbanizada=%{y}<extra></extra>",
           "legendgroup": "Mexico",
           "marker": {
            "color": "#FF6692",
            "symbol": "circle"
           },
           "mode": "markers",
           "name": "Mexico",
           "orientation": "v",
           "showlegend": true,
           "type": "scatter",
           "x": {
            "bdata": "ZmZmZmZmEkA=",
            "dtype": "f8"
           },
           "xaxis": "x",
           "y": {
            "bdata": "AAAAyI33hUE=",
            "dtype": "f8"
           },
           "yaxis": "y"
          },
          {
           "hovertemplate": "Country Name=Middle East & North Africa<br>Year=1981<br>Tasa De Fertilidad (Hijos Por Mujer)=%{x}<br>Población Urbanizada=%{y}<extra></extra>",
           "legendgroup": "Middle East & North Africa",
           "marker": {
            "color": "#B6E880",
            "symbol": "circle"
           },
           "mode": "markers",
           "name": "Middle East & North Africa",
           "orientation": "v",
           "showlegend": true,
           "type": "scatter",
           "x": {
            "bdata": "rkfhehSuGEA=",
            "dtype": "f8"
           },
           "xaxis": "x",
           "y": {
            "bdata": "AAAAZLSalkE=",
            "dtype": "f8"
           },
           "yaxis": "y"
          },
          {
           "hovertemplate": "Country Name=North America<br>Year=1981<br>Tasa De Fertilidad (Hijos Por Mujer)=%{x}<br>Población Urbanizada=%{y}<extra></extra>",
           "legendgroup": "North America",
           "marker": {
            "color": "#FF97FF",
            "symbol": "circle"
           },
           "mode": "markers",
           "name": "North America",
           "orientation": "v",
           "showlegend": true,
           "type": "scatter",
           "x": {
            "bdata": "zczMzMzM/D8=",
            "dtype": "f8"
           },
           "xaxis": "x",
           "y": {
            "bdata": "AAAA/HN1pkE=",
            "dtype": "f8"
           },
           "yaxis": "y"
          },
          {
           "hovertemplate": "Country Name=South Africa<br>Year=1981<br>Tasa De Fertilidad (Hijos Por Mujer)=%{x}<br>Población Urbanizada=%{y}<extra></extra>",
           "legendgroup": "South Africa",
           "marker": {
            "color": "#FECB52",
            "symbol": "circle"
           },
           "mode": "markers",
           "name": "South Africa",
           "orientation": "v",
           "showlegend": true,
           "type": "scatter",
           "x": {
            "bdata": "16NwPQrXEkA=",
            "dtype": "f8"
           },
           "xaxis": "x",
           "y": {
            "bdata": "AAAA4DBObEE=",
            "dtype": "f8"
           },
           "yaxis": "y"
          },
          {
           "hovertemplate": "Country Name=South Asia<br>Year=1981<br>Tasa De Fertilidad (Hijos Por Mujer)=%{x}<br>Población Urbanizada=%{y}<extra></extra>",
           "legendgroup": "South Asia",
           "marker": {
            "color": "#636efa",
            "symbol": "circle"
           },
           "mode": "markers",
           "name": "South Asia",
           "orientation": "v",
           "showlegend": true,
           "type": "scatter",
           "x": {
            "bdata": "MzMzMzMzFEA=",
            "dtype": "f8"
           },
           "xaxis": "x",
           "y": {
            "bdata": "AAAAzGnzqEE=",
            "dtype": "f8"
           },
           "yaxis": "y"
          },
          {
           "hovertemplate": "Country Name=Spain<br>Year=1981<br>Tasa De Fertilidad (Hijos Por Mujer)=%{x}<br>Población Urbanizada=%{y}<extra></extra>",
           "legendgroup": "Spain",
           "marker": {
            "color": "#EF553B",
            "symbol": "circle"
           },
           "mode": "markers",
           "name": "Spain",
           "orientation": "v",
           "showlegend": true,
           "type": "scatter",
           "x": {
            "bdata": "UrgehetRAEA=",
            "dtype": "f8"
           },
           "xaxis": "x",
           "y": {
            "bdata": "AAAAsCljekE=",
            "dtype": "f8"
           },
           "yaxis": "y"
          },
          {
           "hovertemplate": "Country Name=Sub-Saharan Africa<br>Year=1981<br>Tasa De Fertilidad (Hijos Por Mujer)=%{x}<br>Población Urbanizada=%{y}<extra></extra>",
           "legendgroup": "Sub-Saharan Africa",
           "marker": {
            "color": "#00cc96",
            "symbol": "circle"
           },
           "mode": "markers",
           "name": "Sub-Saharan Africa",
           "orientation": "v",
           "showlegend": true,
           "type": "scatter",
           "x": {
            "bdata": "AAAAAAAAG0A=",
            "dtype": "f8"
           },
           "xaxis": "x",
           "y": {
            "bdata": "AAAA3G7flUE=",
            "dtype": "f8"
           },
           "yaxis": "y"
          }
         ],
         "name": "1981"
        },
        {
         "data": [
          {
           "hovertemplate": "Country Name=Africa Eastern and Southern<br>Year=1982<br>Tasa De Fertilidad (Hijos Por Mujer)=%{x}<br>Población Urbanizada=%{y}<extra></extra>",
           "legendgroup": "Africa Eastern and Southern",
           "marker": {
            "color": "#636efa",
            "symbol": "circle"
           },
           "mode": "markers",
           "name": "Africa Eastern and Southern",
           "orientation": "v",
           "showlegend": true,
           "type": "scatter",
           "x": {
            "bdata": "hetRuB6FGkA=",
            "dtype": "f8"
           },
           "xaxis": "x",
           "y": {
            "bdata": "AAAAcAY9iUE=",
            "dtype": "f8"
           },
           "yaxis": "y"
          },
          {
           "hovertemplate": "Country Name=Arab World<br>Year=1982<br>Tasa De Fertilidad (Hijos Por Mujer)=%{x}<br>Población Urbanizada=%{y}<extra></extra>",
           "legendgroup": "Arab World",
           "marker": {
            "color": "#EF553B",
            "symbol": "circle"
           },
           "mode": "markers",
           "name": "Arab World",
           "orientation": "v",
           "showlegend": true,
           "type": "scatter",
           "x": {
            "bdata": "rkfhehSuGEA=",
            "dtype": "f8"
           },
           "xaxis": "x",
           "y": {
            "bdata": "AAAArNzKkkE=",
            "dtype": "f8"
           },
           "yaxis": "y"
          },
          {
           "hovertemplate": "Country Name=Central African Republic<br>Year=1982<br>Tasa De Fertilidad (Hijos Por Mujer)=%{x}<br>Población Urbanizada=%{y}<extra></extra>",
           "legendgroup": "Central African Republic",
           "marker": {
            "color": "#00cc96",
            "symbol": "circle"
           },
           "mode": "markers",
           "name": "Central African Republic",
           "orientation": "v",
           "showlegend": true,
           "type": "scatter",
           "x": {
            "bdata": "j8L1KFyPGEA=",
            "dtype": "f8"
           },
           "xaxis": "x",
           "y": {
            "bdata": "AAAAAG5sKkE=",
            "dtype": "f8"
           },
           "yaxis": "y"
          },
          {
           "hovertemplate": "Country Name=East Asia & Pacific<br>Year=1982<br>Tasa De Fertilidad (Hijos Por Mujer)=%{x}<br>Población Urbanizada=%{y}<extra></extra>",
           "legendgroup": "East Asia & Pacific",
           "marker": {
            "color": "#ab63fa",
            "symbol": "circle"
           },
           "mode": "markers",
           "name": "East Asia & Pacific",
           "orientation": "v",
           "showlegend": true,
           "type": "scatter",
           "x": {
            "bdata": "H4XrUbgeCUA=",
            "dtype": "f8"
           },
           "xaxis": "x",
           "y": {
            "bdata": "AAAAs0jVu0E=",
            "dtype": "f8"
           },
           "yaxis": "y"
          },
          {
           "hovertemplate": "Country Name=European Union<br>Year=1982<br>Tasa De Fertilidad (Hijos Por Mujer)=%{x}<br>Población Urbanizada=%{y}<extra></extra>",
           "legendgroup": "European Union",
           "marker": {
            "color": "#FFA15A",
            "symbol": "circle"
           },
           "mode": "markers",
           "name": "European Union",
           "orientation": "v",
           "showlegend": true,
           "type": "scatter",
           "x": {
            "bdata": "zczMzMzM/D8=",
            "dtype": "f8"
           },
           "xaxis": "x",
           "y": {
            "bdata": "AAAAki+ssEE=",
            "dtype": "f8"
           },
           "yaxis": "y"
          },
          {
           "hovertemplate": "Country Name=Latin America & Caribbean<br>Year=1982<br>Tasa De Fertilidad (Hijos Por Mujer)=%{x}<br>Población Urbanizada=%{y}<extra></extra>",
           "legendgroup": "Latin America & Caribbean",
           "marker": {
            "color": "#19d3f3",
            "symbol": "circle"
           },
           "mode": "markers",
           "name": "Latin America & Caribbean",
           "orientation": "v",
           "showlegend": true,
           "type": "scatter",
           "x": {
            "bdata": "w/UoXI/CD0A=",
            "dtype": "f8"
           },
           "xaxis": "x",
           "y": {
            "bdata": "AAAAGsyArUE=",
            "dtype": "f8"
           },
           "yaxis": "y"
          },
          {
           "hovertemplate": "Country Name=Mexico<br>Year=1982<br>Tasa De Fertilidad (Hijos Por Mujer)=%{x}<br>Población Urbanizada=%{y}<extra></extra>",
           "legendgroup": "Mexico",
           "marker": {
            "color": "#FF6692",
            "symbol": "circle"
           },
           "mode": "markers",
           "name": "Mexico",
           "orientation": "v",
           "showlegend": true,
           "type": "scatter",
           "x": {
            "bdata": "w/UoXI/CEUA=",
            "dtype": "f8"
           },
           "xaxis": "x",
           "y": {
            "bdata": "AAAAgJSihkE=",
            "dtype": "f8"
           },
           "yaxis": "y"
          },
          {
           "hovertemplate": "Country Name=Middle East & North Africa<br>Year=1982<br>Tasa De Fertilidad (Hijos Por Mujer)=%{x}<br>Población Urbanizada=%{y}<extra></extra>",
           "legendgroup": "Middle East & North Africa",
           "marker": {
            "color": "#B6E880",
            "symbol": "circle"
           },
           "mode": "markers",
           "name": "Middle East & North Africa",
           "orientation": "v",
           "showlegend": true,
           "type": "scatter",
           "x": {
            "bdata": "ZmZmZmZmGEA=",
            "dtype": "f8"
           },
           "xaxis": "x",
           "y": {
            "bdata": "AAAA2Duzl0E=",
            "dtype": "f8"
           },
           "yaxis": "y"
          },
          {
           "hovertemplate": "Country Name=North America<br>Year=1982<br>Tasa De Fertilidad (Hijos Por Mujer)=%{x}<br>Población Urbanizada=%{y}<extra></extra>",
           "legendgroup": "North America",
           "marker": {
            "color": "#FF97FF",
            "symbol": "circle"
           },
           "mode": "markers",
           "name": "North America",
           "orientation": "v",
           "showlegend": true,
           "type": "scatter",
           "x": {
            "bdata": "9ihcj8L1/D8=",
            "dtype": "f8"
           },
           "xaxis": "x",
           "y": {
            "bdata": "AAAAJuG5pkE=",
            "dtype": "f8"
           },
           "yaxis": "y"
          },
          {
           "hovertemplate": "Country Name=South Africa<br>Year=1982<br>Tasa De Fertilidad (Hijos Por Mujer)=%{x}<br>Población Urbanizada=%{y}<extra></extra>",
           "legendgroup": "South Africa",
           "marker": {
            "color": "#FECB52",
            "symbol": "circle"
           },
           "mode": "markers",
           "name": "South Africa",
           "orientation": "v",
           "showlegend": true,
           "type": "scatter",
           "x": {
            "bdata": "zczMzMzMEkA=",
            "dtype": "f8"
           },
           "xaxis": "x",
           "y": {
            "bdata": "AAAA4IxmbUE=",
            "dtype": "f8"
           },
           "yaxis": "y"
          },
          {
           "hovertemplate": "Country Name=South Asia<br>Year=1982<br>Tasa De Fertilidad (Hijos Por Mujer)=%{x}<br>Población Urbanizada=%{y}<extra></extra>",
           "legendgroup": "South Asia",
           "marker": {
            "color": "#636efa",
            "symbol": "circle"
           },
           "mode": "markers",
           "name": "South Asia",
           "orientation": "v",
           "showlegend": true,
           "type": "scatter",
           "x": {
            "bdata": "4XoUrkfhE0A=",
            "dtype": "f8"
           },
           "xaxis": "x",
           "y": {
            "bdata": "AAAAjrvXqUE=",
            "dtype": "f8"
           },
           "yaxis": "y"
          },
          {
           "hovertemplate": "Country Name=Spain<br>Year=1982<br>Tasa De Fertilidad (Hijos Por Mujer)=%{x}<br>Población Urbanizada=%{y}<extra></extra>",
           "legendgroup": "Spain",
           "marker": {
            "color": "#EF553B",
            "symbol": "circle"
           },
           "mode": "markers",
           "name": "Spain",
           "orientation": "v",
           "showlegend": true,
           "type": "scatter",
           "x": {
            "bdata": "CtejcD0K/z8=",
            "dtype": "f8"
           },
           "xaxis": "x",
           "y": {
            "bdata": "AAAAkLqhekE=",
            "dtype": "f8"
           },
           "yaxis": "y"
          },
          {
           "hovertemplate": "Country Name=Sub-Saharan Africa<br>Year=1982<br>Tasa De Fertilidad (Hijos Por Mujer)=%{x}<br>Población Urbanizada=%{y}<extra></extra>",
           "legendgroup": "Sub-Saharan Africa",
           "marker": {
            "color": "#00cc96",
            "symbol": "circle"
           },
           "mode": "markers",
           "name": "Sub-Saharan Africa",
           "orientation": "v",
           "showlegend": true,
           "type": "scatter",
           "x": {
            "bdata": "4XoUrkfhGkA=",
            "dtype": "f8"
           },
           "xaxis": "x",
           "y": {
            "bdata": "AAAADGL7lkE=",
            "dtype": "f8"
           },
           "yaxis": "y"
          }
         ],
         "name": "1982"
        },
        {
         "data": [
          {
           "hovertemplate": "Country Name=Africa Eastern and Southern<br>Year=1983<br>Tasa De Fertilidad (Hijos Por Mujer)=%{x}<br>Población Urbanizada=%{y}<extra></extra>",
           "legendgroup": "Africa Eastern and Southern",
           "marker": {
            "color": "#636efa",
            "symbol": "circle"
           },
           "mode": "markers",
           "name": "Africa Eastern and Southern",
           "orientation": "v",
           "showlegend": true,
           "type": "scatter",
           "x": {
            "bdata": "ZmZmZmZmGkA=",
            "dtype": "f8"
           },
           "xaxis": "x",
           "y": {
            "bdata": "AAAASNp9ikE=",
            "dtype": "f8"
           },
           "yaxis": "y"
          },
          {
           "hovertemplate": "Country Name=Arab World<br>Year=1983<br>Tasa De Fertilidad (Hijos Por Mujer)=%{x}<br>Población Urbanizada=%{y}<extra></extra>",
           "legendgroup": "Arab World",
           "marker": {
            "color": "#EF553B",
            "symbol": "circle"
           },
           "mode": "markers",
           "name": "Arab World",
           "orientation": "v",
           "showlegend": true,
           "type": "scatter",
           "x": {
            "bdata": "XI/C9ShcGEA=",
            "dtype": "f8"
           },
           "xaxis": "x",
           "y": {
            "bdata": "AAAASOOdk0E=",
            "dtype": "f8"
           },
           "yaxis": "y"
          },
          {
           "hovertemplate": "Country Name=Central African Republic<br>Year=1983<br>Tasa De Fertilidad (Hijos Por Mujer)=%{x}<br>Población Urbanizada=%{y}<extra></extra>",
           "legendgroup": "Central African Republic",
           "marker": {
            "color": "#00cc96",
            "symbol": "circle"
           },
           "mode": "markers",
           "name": "Central African Republic",
           "orientation": "v",
           "showlegend": true,
           "type": "scatter",
           "x": {
            "bdata": "exSuR+F6GEA=",
            "dtype": "f8"
           },
           "xaxis": "x",
           "y": {
            "bdata": "AAAAAD7/KkE=",
            "dtype": "f8"
           },
           "yaxis": "y"
          },
          {
           "hovertemplate": "Country Name=East Asia & Pacific<br>Year=1983<br>Tasa De Fertilidad (Hijos Por Mujer)=%{x}<br>Población Urbanizada=%{y}<extra></extra>",
           "legendgroup": "East Asia & Pacific",
           "marker": {
            "color": "#ab63fa",
            "symbol": "circle"
           },
           "mode": "markers",
           "name": "East Asia & Pacific",
           "orientation": "v",
           "showlegend": true,
           "type": "scatter",
           "x": {
            "bdata": "zczMzMzMBkA=",
            "dtype": "f8"
           },
           "xaxis": "x",
           "y": {
            "bdata": "AAAAtWvYvEE=",
            "dtype": "f8"
           },
           "yaxis": "y"
          },
          {
           "hovertemplate": "Country Name=European Union<br>Year=1983<br>Tasa De Fertilidad (Hijos Por Mujer)=%{x}<br>Población Urbanizada=%{y}<extra></extra>",
           "legendgroup": "European Union",
           "marker": {
            "color": "#FFA15A",
            "symbol": "circle"
           },
           "mode": "markers",
           "name": "European Union",
           "orientation": "v",
           "showlegend": true,
           "type": "scatter",
           "x": {
            "bdata": "AAAAAAAA/D8=",
            "dtype": "f8"
           },
           "xaxis": "x",
           "y": {
            "bdata": "AAAAnbTBsEE=",
            "dtype": "f8"
           },
           "yaxis": "y"
          },
          {
           "hovertemplate": "Country Name=Latin America & Caribbean<br>Year=1983<br>Tasa De Fertilidad (Hijos Por Mujer)=%{x}<br>Población Urbanizada=%{y}<extra></extra>",
           "legendgroup": "Latin America & Caribbean",
           "marker": {
            "color": "#19d3f3",
            "symbol": "circle"
           },
           "mode": "markers",
           "name": "Latin America & Caribbean",
           "orientation": "v",
           "showlegend": true,
           "type": "scatter",
           "x": {
            "bdata": "9ihcj8L1DkA=",
            "dtype": "f8"
           },
           "xaxis": "x",
           "y": {
            "bdata": "AAAAVF5urkE=",
            "dtype": "f8"
           },
           "yaxis": "y"
          },
          {
           "hovertemplate": "Country Name=Mexico<br>Year=1983<br>Tasa De Fertilidad (Hijos Por Mujer)=%{x}<br>Población Urbanizada=%{y}<extra></extra>",
           "legendgroup": "Mexico",
           "marker": {
            "color": "#FF6692",
            "symbol": "circle"
           },
           "mode": "markers",
           "name": "Mexico",
           "orientation": "v",
           "showlegend": true,
           "type": "scatter",
           "x": {
            "bdata": "KVyPwvUoEUA=",
            "dtype": "f8"
           },
           "xaxis": "x",
           "y": {
            "bdata": "AAAAEA9Ph0E=",
            "dtype": "f8"
           },
           "yaxis": "y"
          },
          {
           "hovertemplate": "Country Name=Middle East & North Africa<br>Year=1983<br>Tasa De Fertilidad (Hijos Por Mujer)=%{x}<br>Población Urbanizada=%{y}<extra></extra>",
           "legendgroup": "Middle East & North Africa",
           "marker": {
            "color": "#B6E880",
            "symbol": "circle"
           },
           "mode": "markers",
           "name": "Middle East & North Africa",
           "orientation": "v",
           "showlegend": true,
           "type": "scatter",
           "x": {
            "bdata": "FK5H4XoUGEA=",
            "dtype": "f8"
           },
           "xaxis": "x",
           "y": {
            "bdata": "AAAA8F7CmEE=",
            "dtype": "f8"
           },
           "yaxis": "y"
          },
          {
           "hovertemplate": "Country Name=North America<br>Year=1983<br>Tasa De Fertilidad (Hijos Por Mujer)=%{x}<br>Población Urbanizada=%{y}<extra></extra>",
           "legendgroup": "North America",
           "marker": {
            "color": "#FF97FF",
            "symbol": "circle"
           },
           "mode": "markers",
           "name": "North America",
           "orientation": "v",
           "showlegend": true,
           "type": "scatter",
           "x": {
            "bdata": "pHA9Ctej/D8=",
            "dtype": "f8"
           },
           "xaxis": "x",
           "y": {
            "bdata": "AAAABNj7pkE=",
            "dtype": "f8"
           },
           "yaxis": "y"
          },
          {
           "hovertemplate": "Country Name=South Africa<br>Year=1983<br>Tasa De Fertilidad (Hijos Por Mujer)=%{x}<br>Población Urbanizada=%{y}<extra></extra>",
           "legendgroup": "South Africa",
           "marker": {
            "color": "#FECB52",
            "symbol": "circle"
           },
           "mode": "markers",
           "name": "South Africa",
           "orientation": "v",
           "showlegend": true,
           "type": "scatter",
           "x": {
            "bdata": "hetRuB6FEkA=",
            "dtype": "f8"
           },
           "xaxis": "x",
           "y": {
            "bdata": "AAAAQKqMbkE=",
            "dtype": "f8"
           },
           "yaxis": "y"
          },
          {
           "hovertemplate": "Country Name=South Asia<br>Year=1983<br>Tasa De Fertilidad (Hijos Por Mujer)=%{x}<br>Población Urbanizada=%{y}<extra></extra>",
           "legendgroup": "South Asia",
           "marker": {
            "color": "#636efa",
            "symbol": "circle"
           },
           "mode": "markers",
           "name": "South Asia",
           "orientation": "v",
           "showlegend": true,
           "type": "scatter",
           "x": {
            "bdata": "mpmZmZmZE0A=",
            "dtype": "f8"
           },
           "xaxis": "x",
           "y": {
            "bdata": "AAAA5EDGqkE=",
            "dtype": "f8"
           },
           "yaxis": "y"
          },
          {
           "hovertemplate": "Country Name=Spain<br>Year=1983<br>Tasa De Fertilidad (Hijos Por Mujer)=%{x}<br>Población Urbanizada=%{y}<extra></extra>",
           "legendgroup": "Spain",
           "marker": {
            "color": "#EF553B",
            "symbol": "circle"
           },
           "mode": "markers",
           "name": "Spain",
           "orientation": "v",
           "showlegend": true,
           "type": "scatter",
           "x": {
            "bdata": "zczMzMzM/D8=",
            "dtype": "f8"
           },
           "xaxis": "x",
           "y": {
            "bdata": "AAAA4NTYekE=",
            "dtype": "f8"
           },
           "yaxis": "y"
          },
          {
           "hovertemplate": "Country Name=Sub-Saharan Africa<br>Year=1983<br>Tasa De Fertilidad (Hijos Por Mujer)=%{x}<br>Población Urbanizada=%{y}<extra></extra>",
           "legendgroup": "Sub-Saharan Africa",
           "marker": {
            "color": "#00cc96",
            "symbol": "circle"
           },
           "mode": "markers",
           "name": "Sub-Saharan Africa",
           "orientation": "v",
           "showlegend": true,
           "type": "scatter",
           "x": {
            "bdata": "w/UoXI/CGkA=",
            "dtype": "f8"
           },
           "xaxis": "x",
           "y": {
            "bdata": "AAAALOslmEE=",
            "dtype": "f8"
           },
           "yaxis": "y"
          }
         ],
         "name": "1983"
        },
        {
         "data": [
          {
           "hovertemplate": "Country Name=Africa Eastern and Southern<br>Year=1984<br>Tasa De Fertilidad (Hijos Por Mujer)=%{x}<br>Población Urbanizada=%{y}<extra></extra>",
           "legendgroup": "Africa Eastern and Southern",
           "marker": {
            "color": "#636efa",
            "symbol": "circle"
           },
           "mode": "markers",
           "name": "Africa Eastern and Southern",
           "orientation": "v",
           "showlegend": true,
           "type": "scatter",
           "x": {
            "bdata": "SOF6FK5HGkA=",
            "dtype": "f8"
           },
           "xaxis": "x",
           "y": {
            "bdata": "AAAAUPnXi0E=",
            "dtype": "f8"
           },
           "yaxis": "y"
          },
          {
           "hovertemplate": "Country Name=Arab World<br>Year=1984<br>Tasa De Fertilidad (Hijos Por Mujer)=%{x}<br>Población Urbanizada=%{y}<extra></extra>",
           "legendgroup": "Arab World",
           "marker": {
            "color": "#EF553B",
            "symbol": "circle"
           },
           "mode": "markers",
           "name": "Arab World",
           "orientation": "v",
           "showlegend": true,
           "type": "scatter",
           "x": {
            "bdata": "7FG4HoXrF0A=",
            "dtype": "f8"
           },
           "xaxis": "x",
           "y": {
            "bdata": "AAAATLiClEE=",
            "dtype": "f8"
           },
           "yaxis": "y"
          },
          {
           "hovertemplate": "Country Name=Central African Republic<br>Year=1984<br>Tasa De Fertilidad (Hijos Por Mujer)=%{x}<br>Población Urbanizada=%{y}<extra></extra>",
           "legendgroup": "Central African Republic",
           "marker": {
            "color": "#00cc96",
            "symbol": "circle"
           },
           "mode": "markers",
           "name": "Central African Republic",
           "orientation": "v",
           "showlegend": true,
           "type": "scatter",
           "x": {
            "bdata": "cT0K16NwGEA=",
            "dtype": "f8"
           },
           "xaxis": "x",
           "y": {
            "bdata": "AAAAAEaXK0E=",
            "dtype": "f8"
           },
           "yaxis": "y"
          },
          {
           "hovertemplate": "Country Name=East Asia & Pacific<br>Year=1984<br>Tasa De Fertilidad (Hijos Por Mujer)=%{x}<br>Población Urbanizada=%{y}<extra></extra>",
           "legendgroup": "East Asia & Pacific",
           "marker": {
            "color": "#ab63fa",
            "symbol": "circle"
           },
           "mode": "markers",
           "name": "East Asia & Pacific",
           "orientation": "v",
           "showlegend": true,
           "type": "scatter",
           "x": {
            "bdata": "uB6F61G4BkA=",
            "dtype": "f8"
           },
           "xaxis": "x",
           "y": {
            "bdata": "AAAASoHevUE=",
            "dtype": "f8"
           },
           "yaxis": "y"
          },
          {
           "hovertemplate": "Country Name=European Union<br>Year=1984<br>Tasa De Fertilidad (Hijos Por Mujer)=%{x}<br>Población Urbanizada=%{y}<extra></extra>",
           "legendgroup": "European Union",
           "marker": {
            "color": "#FFA15A",
            "symbol": "circle"
           },
           "mode": "markers",
           "name": "European Union",
           "orientation": "v",
           "showlegend": true,
           "type": "scatter",
           "x": {
            "bdata": "rkfhehSu+z8=",
            "dtype": "f8"
           },
           "xaxis": "x",
           "y": {
            "bdata": "AAAAGb/TsEE=",
            "dtype": "f8"
           },
           "yaxis": "y"
          },
          {
           "hovertemplate": "Country Name=Latin America & Caribbean<br>Year=1984<br>Tasa De Fertilidad (Hijos Por Mujer)=%{x}<br>Población Urbanizada=%{y}<extra></extra>",
           "legendgroup": "Latin America & Caribbean",
           "marker": {
            "color": "#19d3f3",
            "symbol": "circle"
           },
           "mode": "markers",
           "name": "Latin America & Caribbean",
           "orientation": "v",
           "showlegend": true,
           "type": "scatter",
           "x": {
            "bdata": "PQrXo3A9DkA=",
            "dtype": "f8"
           },
           "xaxis": "x",
           "y": {
            "bdata": "AAAA2LNfr0E=",
            "dtype": "f8"
           },
           "yaxis": "y"
          },
          {
           "hovertemplate": "Country Name=Mexico<br>Year=1984<br>Tasa De Fertilidad (Hijos Por Mujer)=%{x}<br>Población Urbanizada=%{y}<extra></extra>",
           "legendgroup": "Mexico",
           "marker": {
            "color": "#FF6692",
            "symbol": "circle"
           },
           "mode": "markers",
           "name": "Mexico",
           "orientation": "v",
           "showlegend": true,
           "type": "scatter",
           "x": {
            "bdata": "uB6F61G4EEA=",
            "dtype": "f8"
           },
           "xaxis": "x",
           "y": {
            "bdata": "AAAAwNr8h0E=",
            "dtype": "f8"
           },
           "yaxis": "y"
          },
          {
           "hovertemplate": "Country Name=Middle East & North Africa<br>Year=1984<br>Tasa De Fertilidad (Hijos Por Mujer)=%{x}<br>Población Urbanizada=%{y}<extra></extra>",
           "legendgroup": "Middle East & North Africa",
           "marker": {
            "color": "#B6E880",
            "symbol": "circle"
           },
           "mode": "markers",
           "name": "Middle East & North Africa",
           "orientation": "v",
           "showlegend": true,
           "type": "scatter",
           "x": {
            "bdata": "pHA9CtejF0A=",
            "dtype": "f8"
           },
           "xaxis": "x",
           "y": {
            "bdata": "AAAAPMremUE=",
            "dtype": "f8"
           },
           "yaxis": "y"
          },
          {
           "hovertemplate": "Country Name=North America<br>Year=1984<br>Tasa De Fertilidad (Hijos Por Mujer)=%{x}<br>Población Urbanizada=%{y}<extra></extra>",
           "legendgroup": "North America",
           "marker": {
            "color": "#FF97FF",
            "symbol": "circle"
           },
           "mode": "markers",
           "name": "North America",
           "orientation": "v",
           "showlegend": true,
           "type": "scatter",
           "x": {
            "bdata": "pHA9Ctej/D8=",
            "dtype": "f8"
           },
           "xaxis": "x",
           "y": {
            "bdata": "AAAAEoQ7p0E=",
            "dtype": "f8"
           },
           "yaxis": "y"
          },
          {
           "hovertemplate": "Country Name=South Africa<br>Year=1984<br>Tasa De Fertilidad (Hijos Por Mujer)=%{x}<br>Población Urbanizada=%{y}<extra></extra>",
           "legendgroup": "South Africa",
           "marker": {
            "color": "#FECB52",
            "symbol": "circle"
           },
           "mode": "markers",
           "name": "South Africa",
           "orientation": "v",
           "showlegend": true,
           "type": "scatter",
           "x": {
            "bdata": "SOF6FK5HEkA=",
            "dtype": "f8"
           },
           "xaxis": "x",
           "y": {
            "bdata": "AAAAgK27b0E=",
            "dtype": "f8"
           },
           "yaxis": "y"
          },
          {
           "hovertemplate": "Country Name=South Asia<br>Year=1984<br>Tasa De Fertilidad (Hijos Por Mujer)=%{x}<br>Población Urbanizada=%{y}<extra></extra>",
           "legendgroup": "South Asia",
           "marker": {
            "color": "#636efa",
            "symbol": "circle"
           },
           "mode": "markers",
           "name": "South Asia",
           "orientation": "v",
           "showlegend": true,
           "type": "scatter",
           "x": {
            "bdata": "ZmZmZmZmE0A=",
            "dtype": "f8"
           },
           "xaxis": "x",
           "y": {
            "bdata": "AAAAujO8q0E=",
            "dtype": "f8"
           },
           "yaxis": "y"
          },
          {
           "hovertemplate": "Country Name=Spain<br>Year=1984<br>Tasa De Fertilidad (Hijos Por Mujer)=%{x}<br>Población Urbanizada=%{y}<extra></extra>",
           "legendgroup": "Spain",
           "marker": {
            "color": "#EF553B",
            "symbol": "circle"
           },
           "mode": "markers",
           "name": "Spain",
           "orientation": "v",
           "showlegend": true,
           "type": "scatter",
           "x": {
            "bdata": "rkfhehSu+z8=",
            "dtype": "f8"
           },
           "xaxis": "x",
           "y": {
            "bdata": "AAAAIDwLe0E=",
            "dtype": "f8"
           },
           "yaxis": "y"
          },
          {
           "hovertemplate": "Country Name=Sub-Saharan Africa<br>Year=1984<br>Tasa De Fertilidad (Hijos Por Mujer)=%{x}<br>Población Urbanizada=%{y}<extra></extra>",
           "legendgroup": "Sub-Saharan Africa",
           "marker": {
            "color": "#00cc96",
            "symbol": "circle"
           },
           "mode": "markers",
           "name": "Sub-Saharan Africa",
           "orientation": "v",
           "showlegend": true,
           "type": "scatter",
           "x": {
            "bdata": "mpmZmZmZGkA=",
            "dtype": "f8"
           },
           "xaxis": "x",
           "y": {
            "bdata": "AAAAaB9jmUE=",
            "dtype": "f8"
           },
           "yaxis": "y"
          }
         ],
         "name": "1984"
        },
        {
         "data": [
          {
           "hovertemplate": "Country Name=Africa Eastern and Southern<br>Year=1985<br>Tasa De Fertilidad (Hijos Por Mujer)=%{x}<br>Población Urbanizada=%{y}<extra></extra>",
           "legendgroup": "Africa Eastern and Southern",
           "marker": {
            "color": "#636efa",
            "symbol": "circle"
           },
           "mode": "markers",
           "name": "Africa Eastern and Southern",
           "orientation": "v",
           "showlegend": true,
           "type": "scatter",
           "x": {
            "bdata": "H4XrUbgeGkA=",
            "dtype": "f8"
           },
           "xaxis": "x",
           "y": {
            "bdata": "AAAAwIpLjUE=",
            "dtype": "f8"
           },
           "yaxis": "y"
          },
          {
           "hovertemplate": "Country Name=Arab World<br>Year=1985<br>Tasa De Fertilidad (Hijos Por Mujer)=%{x}<br>Población Urbanizada=%{y}<extra></extra>",
           "legendgroup": "Arab World",
           "marker": {
            "color": "#EF553B",
            "symbol": "circle"
           },
           "mode": "markers",
           "name": "Arab World",
           "orientation": "v",
           "showlegend": true,
           "type": "scatter",
           "x": {
            "bdata": "cT0K16NwF0A=",
            "dtype": "f8"
           },
           "xaxis": "x",
           "y": {
            "bdata": "AAAAxFxslUE=",
            "dtype": "f8"
           },
           "yaxis": "y"
          },
          {
           "hovertemplate": "Country Name=Central African Republic<br>Year=1985<br>Tasa De Fertilidad (Hijos Por Mujer)=%{x}<br>Población Urbanizada=%{y}<extra></extra>",
           "legendgroup": "Central African Republic",
           "marker": {
            "color": "#00cc96",
            "symbol": "circle"
           },
           "mode": "markers",
           "name": "Central African Republic",
           "orientation": "v",
           "showlegend": true,
           "type": "scatter",
           "x": {
            "bdata": "cT0K16NwGEA=",
            "dtype": "f8"
           },
           "xaxis": "x",
           "y": {
            "bdata": "AAAAAAY0LEE=",
            "dtype": "f8"
           },
           "yaxis": "y"
          },
          {
           "hovertemplate": "Country Name=East Asia & Pacific<br>Year=1985<br>Tasa De Fertilidad (Hijos Por Mujer)=%{x}<br>Población Urbanizada=%{y}<extra></extra>",
           "legendgroup": "East Asia & Pacific",
           "marker": {
            "color": "#ab63fa",
            "symbol": "circle"
           },
           "mode": "markers",
           "name": "East Asia & Pacific",
           "orientation": "v",
           "showlegend": true,
           "type": "scatter",
           "x": {
            "bdata": "exSuR+F6BkA=",
            "dtype": "f8"
           },
           "xaxis": "x",
           "y": {
            "bdata": "AAAA/qvrvkE=",
            "dtype": "f8"
           },
           "yaxis": "y"
          },
          {
           "hovertemplate": "Country Name=European Union<br>Year=1985<br>Tasa De Fertilidad (Hijos Por Mujer)=%{x}<br>Población Urbanizada=%{y}<extra></extra>",
           "legendgroup": "European Union",
           "marker": {
            "color": "#FFA15A",
            "symbol": "circle"
           },
           "mode": "markers",
           "name": "European Union",
           "orientation": "v",
           "showlegend": true,
           "type": "scatter",
           "x": {
            "bdata": "hetRuB6F+z8=",
            "dtype": "f8"
           },
           "xaxis": "x",
           "y": {
            "bdata": "AAAA15TlsEE=",
            "dtype": "f8"
           },
           "yaxis": "y"
          },
          {
           "hovertemplate": "Country Name=Latin America & Caribbean<br>Year=1985<br>Tasa De Fertilidad (Hijos Por Mujer)=%{x}<br>Población Urbanizada=%{y}<extra></extra>",
           "legendgroup": "Latin America & Caribbean",
           "marker": {
            "color": "#19d3f3",
            "symbol": "circle"
           },
           "mode": "markers",
           "name": "Latin America & Caribbean",
           "orientation": "v",
           "showlegend": true,
           "type": "scatter",
           "x": {
            "bdata": "hetRuB6FDUA=",
            "dtype": "f8"
           },
           "xaxis": "x",
           "y": {
            "bdata": "AAAAAKcpsEE=",
            "dtype": "f8"
           },
           "yaxis": "y"
          },
          {
           "hovertemplate": "Country Name=Mexico<br>Year=1985<br>Tasa De Fertilidad (Hijos Por Mujer)=%{x}<br>Población Urbanizada=%{y}<extra></extra>",
           "legendgroup": "Mexico",
           "marker": {
            "color": "#FF6692",
            "symbol": "circle"
           },
           "mode": "markers",
           "name": "Mexico",
           "orientation": "v",
           "showlegend": true,
           "type": "scatter",
           "x": {
            "bdata": "XI/C9ShcEEA=",
            "dtype": "f8"
           },
           "xaxis": "x",
           "y": {
            "bdata": "AAAAEDesiEE=",
            "dtype": "f8"
           },
           "yaxis": "y"
          },
          {
           "hovertemplate": "Country Name=Middle East & North Africa<br>Year=1985<br>Tasa De Fertilidad (Hijos Por Mujer)=%{x}<br>Población Urbanizada=%{y}<extra></extra>",
           "legendgroup": "Middle East & North Africa",
           "marker": {
            "color": "#B6E880",
            "symbol": "circle"
           },
           "mode": "markers",
           "name": "Middle East & North Africa",
           "orientation": "v",
           "showlegend": true,
           "type": "scatter",
           "x": {
            "bdata": "H4XrUbgeF0A=",
            "dtype": "f8"
           },
           "xaxis": "x",
           "y": {
            "bdata": "AAAAIAkDm0E=",
            "dtype": "f8"
           },
           "yaxis": "y"
          },
          {
           "hovertemplate": "Country Name=North America<br>Year=1985<br>Tasa De Fertilidad (Hijos Por Mujer)=%{x}<br>Población Urbanizada=%{y}<extra></extra>",
           "legendgroup": "North America",
           "marker": {
            "color": "#FF97FF",
            "symbol": "circle"
           },
           "mode": "markers",
           "name": "North America",
           "orientation": "v",
           "showlegend": true,
           "type": "scatter",
           "x": {
            "bdata": "SOF6FK5H/T8=",
            "dtype": "f8"
           },
           "xaxis": "x",
           "y": {
            "bdata": "AAAAusJ8p0E=",
            "dtype": "f8"
           },
           "yaxis": "y"
          },
          {
           "hovertemplate": "Country Name=South Africa<br>Year=1985<br>Tasa De Fertilidad (Hijos Por Mujer)=%{x}<br>Población Urbanizada=%{y}<extra></extra>",
           "legendgroup": "South Africa",
           "marker": {
            "color": "#FECB52",
            "symbol": "circle"
           },
           "mode": "markers",
           "name": "South Africa",
           "orientation": "v",
           "showlegend": true,
           "type": "scatter",
           "x": {
            "bdata": "AAAAAAAAEkA=",
            "dtype": "f8"
           },
           "xaxis": "x",
           "y": {
            "bdata": "AAAAYN9/cEE=",
            "dtype": "f8"
           },
           "yaxis": "y"
          },
          {
           "hovertemplate": "Country Name=South Asia<br>Year=1985<br>Tasa De Fertilidad (Hijos Por Mujer)=%{x}<br>Población Urbanizada=%{y}<extra></extra>",
           "legendgroup": "South Asia",
           "marker": {
            "color": "#636efa",
            "symbol": "circle"
           },
           "mode": "markers",
           "name": "South Asia",
           "orientation": "v",
           "showlegend": true,
           "type": "scatter",
           "x": {
            "bdata": "CtejcD0KE0A=",
            "dtype": "f8"
           },
           "xaxis": "x",
           "y": {
            "bdata": "AAAAYHa5rEE=",
            "dtype": "f8"
           },
           "yaxis": "y"
          },
          {
           "hovertemplate": "Country Name=Spain<br>Year=1985<br>Tasa De Fertilidad (Hijos Por Mujer)=%{x}<br>Población Urbanizada=%{y}<extra></extra>",
           "legendgroup": "Spain",
           "marker": {
            "color": "#EF553B",
            "symbol": "circle"
           },
           "mode": "markers",
           "name": "Spain",
           "orientation": "v",
           "showlegend": true,
           "type": "scatter",
           "x": {
            "bdata": "PQrXo3A9+j8=",
            "dtype": "f8"
           },
           "xaxis": "x",
           "y": {
            "bdata": "AAAAMBA6e0E=",
            "dtype": "f8"
           },
           "yaxis": "y"
          },
          {
           "hovertemplate": "Country Name=Sub-Saharan Africa<br>Year=1985<br>Tasa De Fertilidad (Hijos Por Mujer)=%{x}<br>Población Urbanizada=%{y}<extra></extra>",
           "legendgroup": "Sub-Saharan Africa",
           "marker": {
            "color": "#00cc96",
            "symbol": "circle"
           },
           "mode": "markers",
           "name": "Sub-Saharan Africa",
           "orientation": "v",
           "showlegend": true,
           "type": "scatter",
           "x": {
            "bdata": "cT0K16NwGkA=",
            "dtype": "f8"
           },
           "xaxis": "x",
           "y": {
            "bdata": "AAAAEGC6mkE=",
            "dtype": "f8"
           },
           "yaxis": "y"
          }
         ],
         "name": "1985"
        },
        {
         "data": [
          {
           "hovertemplate": "Country Name=Africa Eastern and Southern<br>Year=1986<br>Tasa De Fertilidad (Hijos Por Mujer)=%{x}<br>Población Urbanizada=%{y}<extra></extra>",
           "legendgroup": "Africa Eastern and Southern",
           "marker": {
            "color": "#636efa",
            "symbol": "circle"
           },
           "mode": "markers",
           "name": "Africa Eastern and Southern",
           "orientation": "v",
           "showlegend": true,
           "type": "scatter",
           "x": {
            "bdata": "7FG4HoXrGUA=",
            "dtype": "f8"
           },
           "xaxis": "x",
           "y": {
            "bdata": "AAAA8I7ZjkE=",
            "dtype": "f8"
           },
           "yaxis": "y"
          },
          {
           "hovertemplate": "Country Name=Arab World<br>Year=1986<br>Tasa De Fertilidad (Hijos Por Mujer)=%{x}<br>Población Urbanizada=%{y}<extra></extra>",
           "legendgroup": "Arab World",
           "marker": {
            "color": "#EF553B",
            "symbol": "circle"
           },
           "mode": "markers",
           "name": "Arab World",
           "orientation": "v",
           "showlegend": true,
           "type": "scatter",
           "x": {
            "bdata": "7FG4HoXrFkA=",
            "dtype": "f8"
           },
           "xaxis": "x",
           "y": {
            "bdata": "AAAAzCJelkE=",
            "dtype": "f8"
           },
           "yaxis": "y"
          },
          {
           "hovertemplate": "Country Name=Central African Republic<br>Year=1986<br>Tasa De Fertilidad (Hijos Por Mujer)=%{x}<br>Población Urbanizada=%{y}<extra></extra>",
           "legendgroup": "Central African Republic",
           "marker": {
            "color": "#00cc96",
            "symbol": "circle"
           },
           "mode": "markers",
           "name": "Central African Republic",
           "orientation": "v",
           "showlegend": true,
           "type": "scatter",
           "x": {
            "bdata": "XI/C9ShcGEA=",
            "dtype": "f8"
           },
           "xaxis": "x",
           "y": {
            "bdata": "AAAAALDVLEE=",
            "dtype": "f8"
           },
           "yaxis": "y"
          },
          {
           "hovertemplate": "Country Name=East Asia & Pacific<br>Year=1986<br>Tasa De Fertilidad (Hijos Por Mujer)=%{x}<br>Población Urbanizada=%{y}<extra></extra>",
           "legendgroup": "East Asia & Pacific",
           "marker": {
            "color": "#ab63fa",
            "symbol": "circle"
           },
           "mode": "markers",
           "name": "East Asia & Pacific",
           "orientation": "v",
           "showlegend": true,
           "type": "scatter",
           "x": {
            "bdata": "pHA9CtejBkA=",
            "dtype": "f8"
           },
           "xaxis": "x",
           "y": {
            "bdata": "AACAAyIDwEE=",
            "dtype": "f8"
           },
           "yaxis": "y"
          },
          {
           "hovertemplate": "Country Name=European Union<br>Year=1986<br>Tasa De Fertilidad (Hijos Por Mujer)=%{x}<br>Población Urbanizada=%{y}<extra></extra>",
           "legendgroup": "European Union",
           "marker": {
            "color": "#FFA15A",
            "symbol": "circle"
           },
           "mode": "markers",
           "name": "European Union",
           "orientation": "v",
           "showlegend": true,
           "type": "scatter",
           "x": {
            "bdata": "XI/C9Shc+z8=",
            "dtype": "f8"
           },
           "xaxis": "x",
           "y": {
            "bdata": "AAAAoNn6sEE=",
            "dtype": "f8"
           },
           "yaxis": "y"
          },
          {
           "hovertemplate": "Country Name=Latin America & Caribbean<br>Year=1986<br>Tasa De Fertilidad (Hijos Por Mujer)=%{x}<br>Población Urbanizada=%{y}<extra></extra>",
           "legendgroup": "Latin America & Caribbean",
           "marker": {
            "color": "#19d3f3",
            "symbol": "circle"
           },
           "mode": "markers",
           "name": "Latin America & Caribbean",
           "orientation": "v",
           "showlegend": true,
           "type": "scatter",
           "x": {
            "bdata": "zczMzMzMDEA=",
            "dtype": "f8"
           },
           "xaxis": "x",
           "y": {
            "bdata": "AAAAsNejsEE=",
            "dtype": "f8"
           },
           "yaxis": "y"
          },
          {
           "hovertemplate": "Country Name=Mexico<br>Year=1986<br>Tasa De Fertilidad (Hijos Por Mujer)=%{x}<br>Población Urbanizada=%{y}<extra></extra>",
           "legendgroup": "Mexico",
           "marker": {
            "color": "#FF6692",
            "symbol": "circle"
           },
           "mode": "markers",
           "name": "Mexico",
           "orientation": "v",
           "showlegend": true,
           "type": "scatter",
           "x": {
            "bdata": "w/UoXI/CD0A=",
            "dtype": "f8"
           },
           "xaxis": "x",
           "y": {
            "bdata": "AAAAEJtdiUE=",
            "dtype": "f8"
           },
           "yaxis": "y"
          },
          {
           "hovertemplate": "Country Name=Middle East & North Africa<br>Year=1986<br>Tasa De Fertilidad (Hijos Por Mujer)=%{x}<br>Población Urbanizada=%{y}<extra></extra>",
           "legendgroup": "Middle East & North Africa",
           "marker": {
            "color": "#B6E880",
            "symbol": "circle"
           },
           "mode": "markers",
           "name": "Middle East & North Africa",
           "orientation": "v",
           "showlegend": true,
           "type": "scatter",
           "x": {
            "bdata": "cT0K16NwFkA=",
            "dtype": "f8"
           },
           "xaxis": "x",
           "y": {
            "bdata": "AAAAaFExnEE=",
            "dtype": "f8"
           },
           "yaxis": "y"
          },
          {
           "hovertemplate": "Country Name=North America<br>Year=1986<br>Tasa De Fertilidad (Hijos Por Mujer)=%{x}<br>Población Urbanizada=%{y}<extra></extra>",
           "legendgroup": "North America",
           "marker": {
            "color": "#FF97FF",
            "symbol": "circle"
           },
           "mode": "markers",
           "name": "North America",
           "orientation": "v",
           "showlegend": true,
           "type": "scatter",
           "x": {
            "bdata": "H4XrUbge/T8=",
            "dtype": "f8"
           },
           "xaxis": "x",
           "y": {
            "bdata": "AAAAQi3Bp0E=",
            "dtype": "f8"
           },
           "yaxis": "y"
          },
          {
           "hovertemplate": "Country Name=South Africa<br>Year=1986<br>Tasa De Fertilidad (Hijos Por Mujer)=%{x}<br>Población Urbanizada=%{y}<extra></extra>",
           "legendgroup": "South Africa",
           "marker": {
            "color": "#FECB52",
            "symbol": "circle"
           },
           "mode": "markers",
           "name": "South Africa",
           "orientation": "v",
           "showlegend": true,
           "type": "scatter",
           "x": {
            "bdata": "pHA9CtejEUA=",
            "dtype": "f8"
           },
           "xaxis": "x",
           "y": {
            "bdata": "AAAA4Cw4cUE=",
            "dtype": "f8"
           },
           "yaxis": "y"
          },
          {
           "hovertemplate": "Country Name=South Asia<br>Year=1986<br>Tasa De Fertilidad (Hijos Por Mujer)=%{x}<br>Población Urbanizada=%{y}<extra></extra>",
           "legendgroup": "South Asia",
           "marker": {
            "color": "#636efa",
            "symbol": "circle"
           },
           "mode": "markers",
           "name": "South Asia",
           "orientation": "v",
           "showlegend": true,
           "type": "scatter",
           "x": {
            "bdata": "16NwPQrXEkA=",
            "dtype": "f8"
           },
           "xaxis": "x",
           "y": {
            "bdata": "AAAAgvy+rUE=",
            "dtype": "f8"
           },
           "yaxis": "y"
          },
          {
           "hovertemplate": "Country Name=Spain<br>Year=1986<br>Tasa De Fertilidad (Hijos Por Mujer)=%{x}<br>Población Urbanizada=%{y}<extra></extra>",
           "legendgroup": "Spain",
           "marker": {
            "color": "#EF553B",
            "symbol": "circle"
           },
           "mode": "markers",
           "name": "Spain",
           "orientation": "v",
           "showlegend": true,
           "type": "scatter",
           "x": {
            "bdata": "9ihcj8L1+D8=",
            "dtype": "f8"
           },
           "xaxis": "x",
           "y": {
            "bdata": "AAAAEK5ke0E=",
            "dtype": "f8"
           },
           "yaxis": "y"
          },
          {
           "hovertemplate": "Country Name=Sub-Saharan Africa<br>Year=1986<br>Tasa De Fertilidad (Hijos Por Mujer)=%{x}<br>Población Urbanizada=%{y}<extra></extra>",
           "legendgroup": "Sub-Saharan Africa",
           "marker": {
            "color": "#00cc96",
            "symbol": "circle"
           },
           "mode": "markers",
           "name": "Sub-Saharan Africa",
           "orientation": "v",
           "showlegend": true,
           "type": "scatter",
           "x": {
            "bdata": "PQrXo3A9GkA=",
            "dtype": "f8"
           },
           "xaxis": "x",
           "y": {
            "bdata": "AAAAzKYknEE=",
            "dtype": "f8"
           },
           "yaxis": "y"
          }
         ],
         "name": "1986"
        },
        {
         "data": [
          {
           "hovertemplate": "Country Name=Africa Eastern and Southern<br>Year=1987<br>Tasa De Fertilidad (Hijos Por Mujer)=%{x}<br>Población Urbanizada=%{y}<extra></extra>",
           "legendgroup": "Africa Eastern and Southern",
           "marker": {
            "color": "#636efa",
            "symbol": "circle"
           },
           "mode": "markers",
           "name": "Africa Eastern and Southern",
           "orientation": "v",
           "showlegend": true,
           "type": "scatter",
           "x": {
            "bdata": "w/UoXI/CGUA=",
            "dtype": "f8"
           },
           "xaxis": "x",
           "y": {
            "bdata": "AAAAnHM8kEE=",
            "dtype": "f8"
           },
           "yaxis": "y"
          },
          {
           "hovertemplate": "Country Name=Arab World<br>Year=1987<br>Tasa De Fertilidad (Hijos Por Mujer)=%{x}<br>Población Urbanizada=%{y}<extra></extra>",
           "legendgroup": "Arab World",
           "marker": {
            "color": "#EF553B",
            "symbol": "circle"
           },
           "mode": "markers",
           "name": "Arab World",
           "orientation": "v",
           "showlegend": true,
           "type": "scatter",
           "x": {
            "bdata": "ZmZmZmZmFkA=",
            "dtype": "f8"
           },
           "xaxis": "x",
           "y": {
            "bdata": "AAAAcH9Rl0E=",
            "dtype": "f8"
           },
           "yaxis": "y"
          },
          {
           "hovertemplate": "Country Name=Central African Republic<br>Year=1987<br>Tasa De Fertilidad (Hijos Por Mujer)=%{x}<br>Población Urbanizada=%{y}<extra></extra>",
           "legendgroup": "Central African Republic",
           "marker": {
            "color": "#00cc96",
            "symbol": "circle"
           },
           "mode": "markers",
           "name": "Central African Republic",
           "orientation": "v",
           "showlegend": true,
           "type": "scatter",
           "x": {
            "bdata": "ZmZmZmZmGEA=",
            "dtype": "f8"
           },
           "xaxis": "x",
           "y": {
            "bdata": "AAAAAPR9LUE=",
            "dtype": "f8"
           },
           "yaxis": "y"
          },
          {
           "hovertemplate": "Country Name=East Asia & Pacific<br>Year=1987<br>Tasa De Fertilidad (Hijos Por Mujer)=%{x}<br>Población Urbanizada=%{y}<extra></extra>",
           "legendgroup": "East Asia & Pacific",
           "marker": {
            "color": "#ab63fa",
            "symbol": "circle"
           },
           "mode": "markers",
           "name": "East Asia & Pacific",
           "orientation": "v",
           "showlegend": true,
           "type": "scatter",
           "x": {
            "bdata": "j8L1KFyPBkA=",
            "dtype": "f8"
           },
           "xaxis": "x",
           "y": {
            "bdata": "AACAB3WYwEE=",
            "dtype": "f8"
           },
           "yaxis": "y"
          },
          {
           "hovertemplate": "Country Name=European Union<br>Year=1987<br>Tasa De Fertilidad (Hijos Por Mujer)=%{x}<br>Población Urbanizada=%{y}<extra></extra>",
           "legendgroup": "European Union",
           "marker": {
            "color": "#FFA15A",
            "symbol": "circle"
           },
           "mode": "markers",
           "name": "European Union",
           "orientation": "v",
           "showlegend": true,
           "type": "scatter",
           "x": {
            "bdata": "4XoUrkfh+j8=",
            "dtype": "f8"
           },
           "xaxis": "x",
           "y": {
            "bdata": "AAAAzs0UsUE=",
            "dtype": "f8"
           },
           "yaxis": "y"
          },
          {
           "hovertemplate": "Country Name=Latin America & Caribbean<br>Year=1987<br>Tasa De Fertilidad (Hijos Por Mujer)=%{x}<br>Población Urbanizada=%{y}<extra></extra>",
           "legendgroup": "Latin America & Caribbean",
           "marker": {
            "color": "#19d3f3",
            "symbol": "circle"
           },
           "mode": "markers",
           "name": "Latin America & Caribbean",
           "orientation": "v",
           "showlegend": true,
           "type": "scatter",
           "x": {
            "bdata": "FK5H4XoUDEA=",
            "dtype": "f8"
           },
           "xaxis": "x",
           "y": {
            "bdata": "AAAAz70esUE=",
            "dtype": "f8"
           },
           "yaxis": "y"
          },
          {
           "hovertemplate": "Country Name=Mexico<br>Year=1987<br>Tasa De Fertilidad (Hijos Por Mujer)=%{x}<br>Población Urbanizada=%{y}<extra></extra>",
           "legendgroup": "Mexico",
           "marker": {
            "color": "#FF6692",
            "symbol": "circle"
           },
           "mode": "markers",
           "name": "Mexico",
           "orientation": "v",
           "showlegend": true,
           "type": "scatter",
           "x": {
            "bdata": "ZmZmZmZmDkA=",
            "dtype": "f8"
           },
           "xaxis": "x",
           "y": {
            "bdata": "AAAAyC8RikE=",
            "dtype": "f8"
           },
           "yaxis": "y"
          },
          {
           "hovertemplate": "Country Name=Middle East & North Africa<br>Year=1987<br>Tasa De Fertilidad (Hijos Por Mujer)=%{x}<br>Población Urbanizada=%{y}<extra></extra>",
           "legendgroup": "Middle East & North Africa",
           "marker": {
            "color": "#B6E880",
            "symbol": "circle"
           },
           "mode": "markers",
           "name": "Middle East & North Africa",
           "orientation": "v",
           "showlegend": true,
           "type": "scatter",
           "x": {
            "bdata": "uB6F61G4FUA=",
            "dtype": "f8"
           },
           "xaxis": "x",
           "y": {
            "bdata": "AAAAXANdnUE=",
            "dtype": "f8"
           },
           "yaxis": "y"
          },
          {
           "hovertemplate": "Country Name=North America<br>Year=1987<br>Tasa De Fertilidad (Hijos Por Mujer)=%{x}<br>Población Urbanizada=%{y}<extra></extra>",
           "legendgroup": "North America",
           "marker": {
            "color": "#FF97FF",
            "symbol": "circle"
           },
           "mode": "markers",
           "name": "North America",
           "orientation": "v",
           "showlegend": true,
           "type": "scatter",
           "x": {
            "bdata": "mpmZmZmZ/T8=",
            "dtype": "f8"
           },
           "xaxis": "x",
           "y": {
            "bdata": "AAAAopAFqEE=",
            "dtype": "f8"
           },
           "yaxis": "y"
          },
          {
           "hovertemplate": "Country Name=South Africa<br>Year=1987<br>Tasa De Fertilidad (Hijos Por Mujer)=%{x}<br>Población Urbanizada=%{y}<extra></extra>",
           "legendgroup": "South Africa",
           "marker": {
            "color": "#FECB52",
            "symbol": "circle"
           },
           "mode": "markers",
           "name": "South Africa",
           "orientation": "v",
           "showlegend": true,
           "type": "scatter",
           "x": {
            "bdata": "ZmZmZmZmEUA=",
            "dtype": "f8"
           },
           "xaxis": "x",
           "y": {
            "bdata": "AAAA0Gz0cUE=",
            "dtype": "f8"
           },
           "yaxis": "y"
          },
          {
           "hovertemplate": "Country Name=South Asia<br>Year=1987<br>Tasa De Fertilidad (Hijos Por Mujer)=%{x}<br>Población Urbanizada=%{y}<extra></extra>",
           "legendgroup": "South Asia",
           "marker": {
            "color": "#636efa",
            "symbol": "circle"
           },
           "mode": "markers",
           "name": "South Asia",
           "orientation": "v",
           "showlegend": true,
           "type": "scatter",
           "x": {
            "bdata": "exSuR+F6EkA=",
            "dtype": "f8"
           },
           "xaxis": "x",
           "y": {
            "bdata": "AAAAUFzLrkE=",
            "dtype": "f8"
           },
           "yaxis": "y"
          },
          {
           "hovertemplate": "Country Name=Spain<br>Year=1987<br>Tasa De Fertilidad (Hijos Por Mujer)=%{x}<br>Población Urbanizada=%{y}<extra></extra>",
           "legendgroup": "Spain",
           "marker": {
            "color": "#EF553B",
            "symbol": "circle"
           },
           "mode": "markers",
           "name": "Spain",
           "orientation": "v",
           "showlegend": true,
           "type": "scatter",
           "x": {
            "bdata": "16NwPQrX9z8=",
            "dtype": "f8"
           },
           "xaxis": "x",
           "y": {
            "bdata": "AAAAgISMe0E=",
            "dtype": "f8"
           },
           "yaxis": "y"
          },
          {
           "hovertemplate": "Country Name=Sub-Saharan Africa<br>Year=1987<br>Tasa De Fertilidad (Hijos Por Mujer)=%{x}<br>Población Urbanizada=%{y}<extra></extra>",
           "legendgroup": "Sub-Saharan Africa",
           "marker": {
            "color": "#00cc96",
            "symbol": "circle"
           },
           "mode": "markers",
           "name": "Sub-Saharan Africa",
           "orientation": "v",
           "showlegend": true,
           "type": "scatter",
           "x": {
            "bdata": "FK5H4XoUGkA=",
            "dtype": "f8"
           },
           "xaxis": "x",
           "y": {
            "bdata": "AAAA3D6dnUE=",
            "dtype": "f8"
           },
           "yaxis": "y"
          }
         ],
         "name": "1987"
        },
        {
         "data": [
          {
           "hovertemplate": "Country Name=Africa Eastern and Southern<br>Year=1988<br>Tasa De Fertilidad (Hijos Por Mujer)=%{x}<br>Población Urbanizada=%{y}<extra></extra>",
           "legendgroup": "Africa Eastern and Southern",
           "marker": {
            "color": "#636efa",
            "symbol": "circle"
           },
           "mode": "markers",
           "name": "Africa Eastern and Southern",
           "orientation": "v",
           "showlegend": true,
           "type": "scatter",
           "x": {
            "bdata": "exSuR+F6GUA=",
            "dtype": "f8"
           },
           "xaxis": "x",
           "y": {
            "bdata": "AAAA6BMRkUE=",
            "dtype": "f8"
           },
           "yaxis": "y"
          },
          {
           "hovertemplate": "Country Name=Arab World<br>Year=1988<br>Tasa De Fertilidad (Hijos Por Mujer)=%{x}<br>Población Urbanizada=%{y}<extra></extra>",
           "legendgroup": "Arab World",
           "marker": {
            "color": "#EF553B",
            "symbol": "circle"
           },
           "mode": "markers",
           "name": "Arab World",
           "orientation": "v",
           "showlegend": true,
           "type": "scatter",
           "x": {
            "bdata": "zczMzMzMFUA=",
            "dtype": "f8"
           },
           "xaxis": "x",
           "y": {
            "bdata": "AAAAeOM4mEE=",
            "dtype": "f8"
           },
           "yaxis": "y"
          },
          {
           "hovertemplate": "Country Name=Central African Republic<br>Year=1988<br>Tasa De Fertilidad (Hijos Por Mujer)=%{x}<br>Población Urbanizada=%{y}<extra></extra>",
           "legendgroup": "Central African Republic",
           "marker": {
            "color": "#00cc96",
            "symbol": "circle"
           },
           "mode": "markers",
           "name": "Central African Republic",
           "orientation": "v",
           "showlegend": true,
           "type": "scatter",
           "x": {
            "bdata": "UrgehetRGEA=",
            "dtype": "f8"
           },
           "xaxis": "x",
           "y": {
            "bdata": "AAAAAJZELkE=",
            "dtype": "f8"
           },
           "yaxis": "y"
          },
          {
           "hovertemplate": "Country Name=East Asia & Pacific<br>Year=1988<br>Tasa De Fertilidad (Hijos Por Mujer)=%{x}<br>Población Urbanizada=%{y}<extra></extra>",
           "legendgroup": "East Asia & Pacific",
           "marker": {
            "color": "#ab63fa",
            "symbol": "circle"
           },
           "mode": "markers",
           "name": "East Asia & Pacific",
           "orientation": "v",
           "showlegend": true,
           "type": "scatter",
           "x": {
            "bdata": "SOF6FK5HBUA=",
            "dtype": "f8"
           },
           "xaxis": "x",
           "y": {
            "bdata": "AAAA5DcywUE=",
            "dtype": "f8"
           },
           "yaxis": "y"
          },
          {
           "hovertemplate": "Country Name=European Union<br>Year=1988<br>Tasa De Fertilidad (Hijos Por Mujer)=%{x}<br>Población Urbanizada=%{y}<extra></extra>",
           "legendgroup": "European Union",
           "marker": {
            "color": "#FFA15A",
            "symbol": "circle"
           },
           "mode": "markers",
           "name": "European Union",
           "orientation": "v",
           "showlegend": true,
           "type": "scatter",
           "x": {
            "bdata": "CtejcD0K+z8=",
            "dtype": "f8"
           },
           "xaxis": "x",
           "y": {
            "bdata": "AAAAyCEwsUE=",
            "dtype": "f8"
           },
           "yaxis": "y"
          },
          {
           "hovertemplate": "Country Name=Latin America & Caribbean<br>Year=1988<br>Tasa De Fertilidad (Hijos Por Mujer)=%{x}<br>Población Urbanizada=%{y}<extra></extra>",
           "legendgroup": "Latin America & Caribbean",
           "marker": {
            "color": "#19d3f3",
            "symbol": "circle"
           },
           "mode": "markers",
           "name": "Latin America & Caribbean",
           "orientation": "v",
           "showlegend": true,
           "type": "scatter",
           "x": {
            "bdata": "XI/C9ShcC0A=",
            "dtype": "f8"
           },
           "xaxis": "x",
           "y": {
            "bdata": "AAAAcN+asUE=",
            "dtype": "f8"
           },
           "yaxis": "y"
          },
          {
           "hovertemplate": "Country Name=Mexico<br>Year=1988<br>Tasa De Fertilidad (Hijos Por Mujer)=%{x}<br>Población Urbanizada=%{y}<extra></extra>",
           "legendgroup": "Mexico",
           "marker": {
            "color": "#FF6692",
            "symbol": "circle"
           },
           "mode": "markers",
           "name": "Mexico",
           "orientation": "v",
           "showlegend": true,
           "type": "scatter",
           "x": {
            "bdata": "MzMzMzMzDUA=",
            "dtype": "f8"
           },
           "xaxis": "x",
           "y": {
            "bdata": "AAAAyN3GikE=",
            "dtype": "f8"
           },
           "yaxis": "y"
          },
          {
           "hovertemplate": "Country Name=Middle East & North Africa<br>Year=1988<br>Tasa De Fertilidad (Hijos Por Mujer)=%{x}<br>Población Urbanizada=%{y}<extra></extra>",
           "legendgroup": "Middle East & North Africa",
           "marker": {
            "color": "#B6E880",
            "symbol": "circle"
           },
           "mode": "markers",
           "name": "Middle East & North Africa",
           "orientation": "v",
           "showlegend": true,
           "type": "scatter",
           "x": {
            "bdata": "9ihcj8L1FEA=",
            "dtype": "f8"
           },
           "xaxis": "x",
           "y": {
            "bdata": "AAAAnIh7nkE=",
            "dtype": "f8"
           },
           "yaxis": "y"
          },
          {
           "hovertemplate": "Country Name=North America<br>Year=1988<br>Tasa De Fertilidad (Hijos Por Mujer)=%{x}<br>Población Urbanizada=%{y}<extra></extra>",
           "legendgroup": "North America",
           "marker": {
            "color": "#FF97FF",
            "symbol": "circle"
           },
           "mode": "markers",
           "name": "North America",
           "orientation": "v",
           "showlegend": true,
           "type": "scatter",
           "x": {
            "bdata": "j8L1KFyP/j8=",
            "dtype": "f8"
           },
           "xaxis": "x",
           "y": {
            "bdata": "AAAA3lxLqEE=",
            "dtype": "f8"
           },
           "yaxis": "y"
          },
          {
           "hovertemplate": "Country Name=South Africa<br>Year=1988<br>Tasa De Fertilidad (Hijos Por Mujer)=%{x}<br>Población Urbanizada=%{y}<extra></extra>",
           "legendgroup": "South Africa",
           "marker": {
            "color": "#FECB52",
            "symbol": "circle"
           },
           "mode": "markers",
           "name": "South Africa",
           "orientation": "v",
           "showlegend": true,
           "type": "scatter",
           "x": {
            "bdata": "uB6F61G4EEA=",
            "dtype": "f8"
           },
           "xaxis": "x",
           "y": {
            "bdata": "AAAAQKm0ckE=",
            "dtype": "f8"
           },
           "yaxis": "y"
          },
          {
           "hovertemplate": "Country Name=South Asia<br>Year=1988<br>Tasa De Fertilidad (Hijos Por Mujer)=%{x}<br>Población Urbanizada=%{y}<extra></extra>",
           "legendgroup": "South Asia",
           "marker": {
            "color": "#636efa",
            "symbol": "circle"
           },
           "mode": "markers",
           "name": "South Asia",
           "orientation": "v",
           "showlegend": true,
           "type": "scatter",
           "x": {
            "bdata": "FK5H4XoUEkA=",
            "dtype": "f8"
           },
           "xaxis": "x",
           "y": {
            "bdata": "AAAAkCXfr0E=",
            "dtype": "f8"
           },
           "yaxis": "y"
          },
          {
           "hovertemplate": "Country Name=Spain<br>Year=1988<br>Tasa De Fertilidad (Hijos Por Mujer)=%{x}<br>Población Urbanizada=%{y}<extra></extra>",
           "legendgroup": "Spain",
           "marker": {
            "color": "#EF553B",
            "symbol": "circle"
           },
           "mode": "markers",
           "name": "Spain",
           "orientation": "v",
           "showlegend": true,
           "type": "scatter",
           "x": {
            "bdata": "MzMzMzMz9z8=",
            "dtype": "f8"
           },
           "xaxis": "x",
           "y": {
            "bdata": "AAAAUPmwe0E=",
            "dtype": "f8"
           },
           "yaxis": "y"
          },
          {
           "hovertemplate": "Country Name=Sub-Saharan Africa<br>Year=1988<br>Tasa De Fertilidad (Hijos Por Mujer)=%{x}<br>Población Urbanizada=%{y}<extra></extra>",
           "legendgroup": "Sub-Saharan Africa",
           "marker": {
            "color": "#00cc96",
            "symbol": "circle"
           },
           "mode": "markers",
           "name": "Sub-Saharan Africa",
           "orientation": "v",
           "showlegend": true,
           "type": "scatter",
           "x": {
            "bdata": "16NwPQrXGUA=",
            "dtype": "f8"
           },
           "xaxis": "x",
           "y": {
            "bdata": "AAAAjLEgn0E=",
            "dtype": "f8"
           },
           "yaxis": "y"
          }
         ],
         "name": "1988"
        },
        {
         "data": [
          {
           "hovertemplate": "Country Name=Africa Eastern and Southern<br>Year=1989<br>Tasa De Fertilidad (Hijos Por Mujer)=%{x}<br>Población Urbanizada=%{y}<extra></extra>",
           "legendgroup": "Africa Eastern and Southern",
           "marker": {
            "color": "#636efa",
            "symbol": "circle"
           },
           "mode": "markers",
           "name": "Africa Eastern and Southern",
           "orientation": "v",
           "showlegend": true,
           "type": "scatter",
           "x": {
            "bdata": "KVyPwvUoGUA=",
            "dtype": "f8"
           },
           "xaxis": "x",
           "y": {
            "bdata": "AAAAzJ3pkUE=",
            "dtype": "f8"
           },
           "yaxis": "y"
          },
          {
           "hovertemplate": "Country Name=Arab World<br>Year=1989<br>Tasa De Fertilidad (Hijos Por Mujer)=%{x}<br>Población Urbanizada=%{y}<extra></extra>",
           "legendgroup": "Arab World",
           "marker": {
            "color": "#EF553B",
            "symbol": "circle"
           },
           "mode": "markers",
           "name": "Arab World",
           "orientation": "v",
           "showlegend": true,
           "type": "scatter",
           "x": {
            "bdata": "KVyPwvUoFUA=",
            "dtype": "f8"
           },
           "xaxis": "x",
           "y": {
            "bdata": "AAAAsBEfmUE=",
            "dtype": "f8"
           },
           "yaxis": "y"
          },
          {
           "hovertemplate": "Country Name=Central African Republic<br>Year=1989<br>Tasa De Fertilidad (Hijos Por Mujer)=%{x}<br>Población Urbanizada=%{y}<extra></extra>",
           "legendgroup": "Central African Republic",
           "marker": {
            "color": "#00cc96",
            "symbol": "circle"
           },
           "mode": "markers",
           "name": "Central African Republic",
           "orientation": "v",
           "showlegend": true,
           "type": "scatter",
           "x": {
            "bdata": "PQrXo3A9GEA=",
            "dtype": "f8"
           },
           "xaxis": "x",
           "y": {
            "bdata": "AAAAALw3L0E=",
            "dtype": "f8"
           },
           "yaxis": "y"
          },
          {
           "hovertemplate": "Country Name=East Asia & Pacific<br>Year=1989<br>Tasa De Fertilidad (Hijos Por Mujer)=%{x}<br>Población Urbanizada=%{y}<extra></extra>",
           "legendgroup": "East Asia & Pacific",
           "marker": {
            "color": "#ab63fa",
            "symbol": "circle"
           },
           "mode": "markers",
           "name": "East Asia & Pacific",
           "orientation": "v",
           "showlegend": true,
           "type": "scatter",
           "x": {
            "bdata": "9ihcj8L1BEA=",
            "dtype": "f8"
           },
           "xaxis": "x",
           "y": {
            "bdata": "AACAo9jOwUE=",
            "dtype": "f8"
           },
           "yaxis": "y"
          },
          {
           "hovertemplate": "Country Name=European Union<br>Year=1989<br>Tasa De Fertilidad (Hijos Por Mujer)=%{x}<br>Población Urbanizada=%{y}<extra></extra>",
           "legendgroup": "European Union",
           "marker": {
            "color": "#FFA15A",
            "symbol": "circle"
           },
           "mode": "markers",
           "name": "European Union",
           "orientation": "v",
           "showlegend": true,
           "type": "scatter",
           "x": {
            "bdata": "ZmZmZmZm+j8=",
            "dtype": "f8"
           },
           "xaxis": "x",
           "y": {
            "bdata": "AAAAdkdJsUE=",
            "dtype": "f8"
           },
           "yaxis": "y"
          },
          {
           "hovertemplate": "Country Name=Latin America & Caribbean<br>Year=1989<br>Tasa De Fertilidad (Hijos Por Mujer)=%{x}<br>Población Urbanizada=%{y}<extra></extra>",
           "legendgroup": "Latin America & Caribbean",
           "marker": {
            "color": "#19d3f3",
            "symbol": "circle"
           },
           "mode": "markers",
           "name": "Latin America & Caribbean",
           "orientation": "v",
           "showlegend": true,
           "type": "scatter",
           "x": {
            "bdata": "uB6F61G4CkA=",
            "dtype": "f8"
           },
           "xaxis": "x",
           "y": {
            "bdata": "AAAAxb8XskE=",
            "dtype": "f8"
           },
           "yaxis": "y"
          },
          {
           "hovertemplate": "Country Name=Mexico<br>Year=1989<br>Tasa De Fertilidad (Hijos Por Mujer)=%{x}<br>Población Urbanizada=%{y}<extra></extra>",
           "legendgroup": "Mexico",
           "marker": {
            "color": "#FF6692",
            "symbol": "circle"
           },
           "mode": "markers",
           "name": "Mexico",
           "orientation": "v",
           "showlegend": true,
           "type": "scatter",
           "x": {
            "bdata": "ZmZmZmZmDEA=",
            "dtype": "f8"
           },
           "xaxis": "x",
           "y": {
            "bdata": "AAAAsFJ9i0E=",
            "dtype": "f8"
           },
           "yaxis": "y"
          },
          {
           "hovertemplate": "Country Name=Middle East & North Africa<br>Year=1989<br>Tasa De Fertilidad (Hijos Por Mujer)=%{x}<br>Población Urbanizada=%{y}<extra></extra>",
           "legendgroup": "Middle East & North Africa",
           "marker": {
            "color": "#B6E880",
            "symbol": "circle"
           },
           "mode": "markers",
           "name": "Middle East & North Africa",
           "orientation": "v",
           "showlegend": true,
           "type": "scatter",
           "x": {
            "bdata": "KVyPwvUoFEA=",
            "dtype": "f8"
           },
           "xaxis": "x",
           "y": {
            "bdata": "AAAAnPaYn0E=",
            "dtype": "f8"
           },
           "yaxis": "y"
          },
          {
           "hovertemplate": "Country Name=North America<br>Year=1989<br>Tasa De Fertilidad (Hijos Por Mujer)=%{x}<br>Población Urbanizada=%{y}<extra></extra>",
           "legendgroup": "North America",
           "marker": {
            "color": "#FF97FF",
            "symbol": "circle"
           },
           "mode": "markers",
           "name": "North America",
           "orientation": "v",
           "showlegend": true,
           "type": "scatter",
           "x": {
            "bdata": "16NwPQrX/z8=",
            "dtype": "f8"
           },
           "xaxis": "x",
           "y": {
            "bdata": "AAAAEgGXqEE=",
            "dtype": "f8"
           },
           "yaxis": "y"
          },
          {
           "hovertemplate": "Country Name=South Africa<br>Year=1989<br>Tasa De Fertilidad (Hijos Por Mujer)=%{x}<br>Población Urbanizada=%{y}<extra></extra>",
           "legendgroup": "South Africa",
           "marker": {
            "color": "#FECB52",
            "symbol": "circle"
           },
           "mode": "markers",
           "name": "South Africa",
           "orientation": "v",
           "showlegend": true,
           "type": "scatter",
           "x": {
            "bdata": "16NwPQrXD0A=",
            "dtype": "f8"
           },
           "xaxis": "x",
           "y": {
            "bdata": "AAAAoBR3c0E=",
            "dtype": "f8"
           },
           "yaxis": "y"
          },
          {
           "hovertemplate": "Country Name=South Asia<br>Year=1989<br>Tasa De Fertilidad (Hijos Por Mujer)=%{x}<br>Población Urbanizada=%{y}<extra></extra>",
           "legendgroup": "South Asia",
           "marker": {
            "color": "#636efa",
            "symbol": "circle"
           },
           "mode": "markers",
           "name": "South Asia",
           "orientation": "v",
           "showlegend": true,
           "type": "scatter",
           "x": {
            "bdata": "uB6F61G4EUA=",
            "dtype": "f8"
           },
           "xaxis": "x",
           "y": {
            "bdata": "AAAA1aR8sEE=",
            "dtype": "f8"
           },
           "yaxis": "y"
          },
          {
           "hovertemplate": "Country Name=Spain<br>Year=1989<br>Tasa De Fertilidad (Hijos Por Mujer)=%{x}<br>Población Urbanizada=%{y}<extra></extra>",
           "legendgroup": "Spain",
           "marker": {
            "color": "#EF553B",
            "symbol": "circle"
           },
           "mode": "markers",
           "name": "Spain",
           "orientation": "v",
           "showlegend": true,
           "type": "scatter",
           "x": {
            "bdata": "ZmZmZmZm9j8=",
            "dtype": "f8"
           },
           "xaxis": "x",
           "y": {
            "bdata": "AAAAIIXRe0E=",
            "dtype": "f8"
           },
           "yaxis": "y"
          },
          {
           "hovertemplate": "Country Name=Sub-Saharan Africa<br>Year=1989<br>Tasa De Fertilidad (Hijos Por Mujer)=%{x}<br>Población Urbanizada=%{y}<extra></extra>",
           "legendgroup": "Sub-Saharan Africa",
           "marker": {
            "color": "#00cc96",
            "symbol": "circle"
           },
           "mode": "markers",
           "name": "Sub-Saharan Africa",
           "orientation": "v",
           "showlegend": true,
           "type": "scatter",
           "x": {
            "bdata": "mpmZmZmZGUA=",
            "dtype": "f8"
           },
           "xaxis": "x",
           "y": {
            "bdata": "AAAArBJXoEE=",
            "dtype": "f8"
           },
           "yaxis": "y"
          }
         ],
         "name": "1989"
        },
        {
         "data": [
          {
           "hovertemplate": "Country Name=Africa Eastern and Southern<br>Year=1990<br>Tasa De Fertilidad (Hijos Por Mujer)=%{x}<br>Población Urbanizada=%{y}<extra></extra>",
           "legendgroup": "Africa Eastern and Southern",
           "marker": {
            "color": "#636efa",
            "symbol": "circle"
           },
           "mode": "markers",
           "name": "Africa Eastern and Southern",
           "orientation": "v",
           "showlegend": true,
           "type": "scatter",
           "x": {
            "bdata": "w/UoXI/CGEA=",
            "dtype": "f8"
           },
           "xaxis": "x",
           "y": {
            "bdata": "AAAA9KXPkkE=",
            "dtype": "f8"
           },
           "yaxis": "y"
          },
          {
           "hovertemplate": "Country Name=Arab World<br>Year=1990<br>Tasa De Fertilidad (Hijos Por Mujer)=%{x}<br>Población Urbanizada=%{y}<extra></extra>",
           "legendgroup": "Arab World",
           "marker": {
            "color": "#EF553B",
            "symbol": "circle"
           },
           "mode": "markers",
           "name": "Arab World",
           "orientation": "v",
           "showlegend": true,
           "type": "scatter",
           "x": {
            "bdata": "mpmZmZmZFEA=",
            "dtype": "f8"
           },
           "xaxis": "x",
           "y": {
            "bdata": "AAAAVPc2mkE=",
            "dtype": "f8"
           },
           "yaxis": "y"
          },
          {
           "hovertemplate": "Country Name=Central African Republic<br>Year=1990<br>Tasa De Fertilidad (Hijos Por Mujer)=%{x}<br>Población Urbanizada=%{y}<extra></extra>",
           "legendgroup": "Central African Republic",
           "marker": {
            "color": "#00cc96",
            "symbol": "circle"
           },
           "mode": "markers",
           "name": "Central African Republic",
           "orientation": "v",
           "showlegend": true,
           "type": "scatter",
           "x": {
            "bdata": "KVyPwvUoGEA=",
            "dtype": "f8"
           },
           "xaxis": "x",
           "y": {
            "bdata": "AAAAAC0jMEE=",
            "dtype": "f8"
           },
           "yaxis": "y"
          },
          {
           "hovertemplate": "Country Name=East Asia & Pacific<br>Year=1990<br>Tasa De Fertilidad (Hijos Por Mujer)=%{x}<br>Población Urbanizada=%{y}<extra></extra>",
           "legendgroup": "East Asia & Pacific",
           "marker": {
            "color": "#ab63fa",
            "symbol": "circle"
           },
           "mode": "markers",
           "name": "East Asia & Pacific",
           "orientation": "v",
           "showlegend": true,
           "type": "scatter",
           "x": {
            "bdata": "zczMzMzMBEA=",
            "dtype": "f8"
           },
           "xaxis": "x",
           "y": {
            "bdata": "AACAOBFuwkE=",
            "dtype": "f8"
           },
           "yaxis": "y"
          },
          {
           "hovertemplate": "Country Name=European Union<br>Year=1990<br>Tasa De Fertilidad (Hijos Por Mujer)=%{x}<br>Población Urbanizada=%{y}<extra></extra>",
           "legendgroup": "European Union",
           "marker": {
            "color": "#FFA15A",
            "symbol": "circle"
           },
           "mode": "markers",
           "name": "European Union",
           "orientation": "v",
           "showlegend": true,
           "type": "scatter",
           "x": {
            "bdata": "PQrXo3A9+j8=",
            "dtype": "f8"
           },
           "xaxis": "x",
           "y": {
            "bdata": "AAAAWjVjsUE=",
            "dtype": "f8"
           },
           "yaxis": "y"
          },
          {
           "hovertemplate": "Country Name=Latin America & Caribbean<br>Year=1990<br>Tasa De Fertilidad (Hijos Por Mujer)=%{x}<br>Población Urbanizada=%{y}<extra></extra>",
           "legendgroup": "Latin America & Caribbean",
           "marker": {
            "color": "#19d3f3",
            "symbol": "circle"
           },
           "mode": "markers",
           "name": "Latin America & Caribbean",
           "orientation": "v",
           "showlegend": true,
           "type": "scatter",
           "x": {
            "bdata": "FK5H4XoUCkA=",
            "dtype": "f8"
           },
           "xaxis": "x",
           "y": {
            "bdata": "AAAAeFKVskE=",
            "dtype": "f8"
           },
           "yaxis": "y"
          },
          {
           "hovertemplate": "Country Name=Mexico<br>Year=1990<br>Tasa De Fertilidad (Hijos Por Mujer)=%{x}<br>Población Urbanizada=%{y}<extra></extra>",
           "legendgroup": "Mexico",
           "marker": {
            "color": "#FF6692",
            "symbol": "circle"
           },
           "mode": "markers",
           "name": "Mexico",
           "orientation": "v",
           "showlegend": true,
           "type": "scatter",
           "x": {
            "bdata": "mpmZmZmZC0A=",
            "dtype": "f8"
           },
           "xaxis": "x",
           "y": {
            "bdata": "AAAAyGA0jEE=",
            "dtype": "f8"
           },
           "yaxis": "y"
          },
          {
           "hovertemplate": "Country Name=Middle East & North Africa<br>Year=1990<br>Tasa De Fertilidad (Hijos Por Mujer)=%{x}<br>Población Urbanizada=%{y}<extra></extra>",
           "legendgroup": "Middle East & North Africa",
           "marker": {
            "color": "#B6E880",
            "symbol": "circle"
           },
           "mode": "markers",
           "name": "Middle East & North Africa",
           "orientation": "v",
           "showlegend": true,
           "type": "scatter",
           "x": {
            "bdata": "exSuR+F6E0A=",
            "dtype": "f8"
           },
           "xaxis": "x",
           "y": {
            "bdata": "AAAA3sF1oEE=",
            "dtype": "f8"
           },
           "yaxis": "y"
          },
          {
           "hovertemplate": "Country Name=North America<br>Year=1990<br>Tasa De Fertilidad (Hijos Por Mujer)=%{x}<br>Población Urbanizada=%{y}<extra></extra>",
           "legendgroup": "North America",
           "marker": {
            "color": "#FF97FF",
            "symbol": "circle"
           },
           "mode": "markers",
           "name": "North America",
           "orientation": "v",
           "showlegend": true,
           "type": "scatter",
           "x": {
            "bdata": "exSuR+F6AEA=",
            "dtype": "f8"
           },
           "xaxis": "x",
           "y": {
            "bdata": "AAAAMjLxqEE=",
            "dtype": "f8"
           },
           "yaxis": "y"
          },
          {
           "hovertemplate": "Country Name=South Africa<br>Year=1990<br>Tasa De Fertilidad (Hijos Por Mujer)=%{x}<br>Población Urbanizada=%{y}<extra></extra>",
           "legendgroup": "South Africa",
           "marker": {
            "color": "#FECB52",
            "symbol": "circle"
           },
           "mode": "markers",
           "name": "South Africa",
           "orientation": "v",
           "showlegend": true,
           "type": "scatter",
           "x": {
            "bdata": "w/UoXI/CDUA=",
            "dtype": "f8"
           },
           "xaxis": "x",
           "y": {
            "bdata": "AAAA8Is4dEE=",
            "dtype": "f8"
           },
           "yaxis": "y"
          },
          {
           "hovertemplate": "Country Name=South Asia<br>Year=1990<br>Tasa De Fertilidad (Hijos Por Mujer)=%{x}<br>Población Urbanizada=%{y}<extra></extra>",
           "legendgroup": "South Asia",
           "marker": {
            "color": "#636efa",
            "symbol": "circle"
           },
           "mode": "markers",
           "name": "South Asia",
           "orientation": "v",
           "showlegend": true,
           "type": "scatter",
           "x": {
            "bdata": "XI/C9ShcEUA=",
            "dtype": "f8"
           },
           "xaxis": "x",
           "y": {
            "bdata": "AAAAXBkNsUE=",
            "dtype": "f8"
           },
           "yaxis": "y"
          },
          {
           "hovertemplate": "Country Name=Spain<br>Year=1990<br>Tasa De Fertilidad (Hijos Por Mujer)=%{x}<br>Población Urbanizada=%{y}<extra></extra>",
           "legendgroup": "Spain",
           "marker": {
            "color": "#EF553B",
            "symbol": "circle"
           },
           "mode": "markers",
           "name": "Spain",
           "orientation": "v",
           "showlegend": true,
           "type": "scatter",
           "x": {
            "bdata": "w/UoXI/C9T8=",
            "dtype": "f8"
           },
           "xaxis": "x",
           "y": {
            "bdata": "AAAAQCDue0E=",
            "dtype": "f8"
           },
           "yaxis": "y"
          },
          {
           "hovertemplate": "Country Name=Sub-Saharan Africa<br>Year=1990<br>Tasa De Fertilidad (Hijos Por Mujer)=%{x}<br>Población Urbanizada=%{y}<extra></extra>",
           "legendgroup": "Sub-Saharan Africa",
           "marker": {
            "color": "#00cc96",
            "symbol": "circle"
           },
           "mode": "markers",
           "name": "Sub-Saharan Africa",
           "orientation": "v",
           "showlegend": true,
           "type": "scatter",
           "x": {
            "bdata": "SOF6FK5HGUA=",
            "dtype": "f8"
           },
           "xaxis": "x",
           "y": {
            "bdata": "AAAAbtwjoUE=",
            "dtype": "f8"
           },
           "yaxis": "y"
          }
         ],
         "name": "1990"
        },
        {
         "data": [
          {
           "hovertemplate": "Country Name=Africa Eastern and Southern<br>Year=1991<br>Tasa De Fertilidad (Hijos Por Mujer)=%{x}<br>Población Urbanizada=%{y}<extra></extra>",
           "legendgroup": "Africa Eastern and Southern",
           "marker": {
            "color": "#636efa",
            "symbol": "circle"
           },
           "mode": "markers",
           "name": "Africa Eastern and Southern",
           "orientation": "v",
           "showlegend": true,
           "type": "scatter",
           "x": {
            "bdata": "exSuR+F6GEA=",
            "dtype": "f8"
           },
           "xaxis": "x",
           "y": {
            "bdata": "AAAA+M2qk0E=",
            "dtype": "f8"
           },
           "yaxis": "y"
          },
          {
           "hovertemplate": "Country Name=Arab World<br>Year=1991<br>Tasa De Fertilidad (Hijos Por Mujer)=%{x}<br>Población Urbanizada=%{y}<extra></extra>",
           "legendgroup": "Arab World",
           "marker": {
            "color": "#EF553B",
            "symbol": "circle"
           },
           "mode": "markers",
           "name": "Arab World",
           "orientation": "v",
           "showlegend": true,
           "type": "scatter",
           "x": {
            "bdata": "CtejcD0KFEA=",
            "dtype": "f8"
           },
           "xaxis": "x",
           "y": {
            "bdata": "AAAA7DQJm0E=",
            "dtype": "f8"
           },
           "yaxis": "y"
          },
          {
           "hovertemplate": "Country Name=Central African Republic<br>Year=1991<br>Tasa De Fertilidad (Hijos Por Mujer)=%{x}<br>Población Urbanizada=%{y}<extra></extra>",
           "legendgroup": "Central African Republic",
           "marker": {
            "color": "#00cc96",
            "symbol": "circle"
           },
           "mode": "markers",
           "name": "Central African Republic",
           "orientation": "v",
           "showlegend": true,
           "type": "scatter",
           "x": {
            "bdata": "H4XrUbgeGEA=",
            "dtype": "f8"
           },
           "xaxis": "x",
           "y": {
            "bdata": "AAAAANuvMEE=",
            "dtype": "f8"
           },
           "yaxis": "y"
          },
          {
           "hovertemplate": "Country Name=East Asia & Pacific<br>Year=1991<br>Tasa De Fertilidad (Hijos Por Mujer)=%{x}<br>Población Urbanizada=%{y}<extra></extra>",
           "legendgroup": "East Asia & Pacific",
           "marker": {
            "color": "#ab63fa",
            "symbol": "circle"
           },
           "mode": "markers",
           "name": "East Asia & Pacific",
           "orientation": "v",
           "showlegend": true,
           "type": "scatter",
           "x": {
            "bdata": "w/UoXI/CAUA=",
            "dtype": "f8"
           },
           "xaxis": "x",
           "y": {
            "bdata": "AAAA+38Uw0E=",
            "dtype": "f8"
           },
           "yaxis": "y"
          },
          {
           "hovertemplate": "Country Name=European Union<br>Year=1991<br>Tasa De Fertilidad (Hijos Por Mujer)=%{x}<br>Población Urbanizada=%{y}<extra></extra>",
           "legendgroup": "European Union",
           "marker": {
            "color": "#FFA15A",
            "symbol": "circle"
           },
           "mode": "markers",
           "name": "European Union",
           "orientation": "v",
           "showlegend": true,
           "type": "scatter",
           "x": {
            "bdata": "SOF6FK5H+T8=",
            "dtype": "f8"
           },
           "xaxis": "x",
           "y": {
            "bdata": "AAAApk18sUE=",
            "dtype": "f8"
           },
           "yaxis": "y"
          },
          {
           "hovertemplate": "Country Name=Latin America & Caribbean<br>Year=1991<br>Tasa De Fertilidad (Hijos Por Mujer)=%{x}<br>Población Urbanizada=%{y}<extra></extra>",
           "legendgroup": "Latin America & Caribbean",
           "marker": {
            "color": "#19d3f3",
            "symbol": "circle"
           },
           "mode": "markers",
           "name": "Latin America & Caribbean",
           "orientation": "v",
           "showlegend": true,
           "type": "scatter",
           "x": {
            "bdata": "hetRuB6FCUA=",
            "dtype": "f8"
           },
           "xaxis": "x",
           "y": {
            "bdata": "AAAAsCkRs0E=",
            "dtype": "f8"
           },
           "yaxis": "y"
          },
          {
           "hovertemplate": "Country Name=Mexico<br>Year=1991<br>Tasa De Fertilidad (Hijos Por Mujer)=%{x}<br>Población Urbanizada=%{y}<extra></extra>",
           "legendgroup": "Mexico",
           "marker": {
            "color": "#FF6692",
            "symbol": "circle"
           },
           "mode": "markers",
           "name": "Mexico",
           "orientation": "v",
           "showlegend": true,
           "type": "scatter",
           "x": {
            "bdata": "9ihcj8L1CkA=",
            "dtype": "f8"
           },
           "xaxis": "x",
           "y": {
            "bdata": "AAAAILHpjEE=",
            "dtype": "f8"
           },
           "yaxis": "y"
          },
          {
           "hovertemplate": "Country Name=Middle East & North Africa<br>Year=1991<br>Tasa De Fertilidad (Hijos Por Mujer)=%{x}<br>Población Urbanizada=%{y}<extra></extra>",
           "legendgroup": "Middle East & North Africa",
           "marker": {
            "color": "#B6E880",
            "symbol": "circle"
           },
           "mode": "markers",
           "name": "Middle East & North Africa",
           "orientation": "v",
           "showlegend": true,
           "type": "scatter",
           "x": {
            "bdata": "uB6F61G4EkA=",
            "dtype": "f8"
           },
           "xaxis": "x",
           "y": {
            "bdata": "AAAAtkUBoUE=",
            "dtype": "f8"
           },
           "yaxis": "y"
          },
          {
           "hovertemplate": "Country Name=North America<br>Year=1991<br>Tasa De Fertilidad (Hijos Por Mujer)=%{x}<br>Población Urbanizada=%{y}<extra></extra>",
           "legendgroup": "North America",
           "marker": {
            "color": "#FF97FF",
            "symbol": "circle"
           },
           "mode": "markers",
           "name": "North America",
           "orientation": "v",
           "showlegend": true,
           "type": "scatter",
           "x": {
            "bdata": "PQrXo3A9AEA=",
            "dtype": "f8"
           },
           "xaxis": "x",
           "y": {
            "bdata": "AAAAdMBlqUE=",
            "dtype": "f8"
           },
           "yaxis": "y"
          },
          {
           "hovertemplate": "Country Name=South Africa<br>Year=1991<br>Tasa De Fertilidad (Hijos Por Mujer)=%{x}<br>Población Urbanizada=%{y}<extra></extra>",
           "legendgroup": "South Africa",
           "marker": {
            "color": "#FECB52",
            "symbol": "circle"
           },
           "mode": "markers",
           "name": "South Africa",
           "orientation": "v",
           "showlegend": true,
           "type": "scatter",
           "x": {
            "bdata": "9ihcj8L1DEA=",
            "dtype": "f8"
           },
           "xaxis": "x",
           "y": {
            "bdata": "AAAAIMvkdEE=",
            "dtype": "f8"
           },
           "yaxis": "y"
          },
          {
           "hovertemplate": "Country Name=South Asia<br>Year=1991<br>Tasa De Fertilidad (Hijos Por Mujer)=%{x}<br>Población Urbanizada=%{y}<extra></extra>",
           "legendgroup": "South Asia",
           "marker": {
            "color": "#636efa",
            "symbol": "circle"
           },
           "mode": "markers",
           "name": "South Asia",
           "orientation": "v",
           "showlegend": true,
           "type": "scatter",
           "x": {
            "bdata": "9ihcj8L1EEA=",
            "dtype": "f8"
           },
           "xaxis": "x",
           "y": {
            "bdata": "AAAA9huesUE=",
            "dtype": "f8"
           },
           "yaxis": "y"
          },
          {
           "hovertemplate": "Country Name=Spain<br>Year=1991<br>Tasa De Fertilidad (Hijos Por Mujer)=%{x}<br>Población Urbanizada=%{y}<extra></extra>",
           "legendgroup": "Spain",
           "marker": {
            "color": "#EF553B",
            "symbol": "circle"
           },
           "mode": "markers",
           "name": "Spain",
           "orientation": "v",
           "showlegend": true,
           "type": "scatter",
           "x": {
            "bdata": "SOF6FK5H9T8=",
            "dtype": "f8"
           },
           "xaxis": "x",
           "y": {
            "bdata": "AAAAwC8RfEE=",
            "dtype": "f8"
           },
           "yaxis": "y"
          },
          {
           "hovertemplate": "Country Name=Sub-Saharan Africa<br>Year=1991<br>Tasa De Fertilidad (Hijos Por Mujer)=%{x}<br>Población Urbanizada=%{y}<extra></extra>",
           "legendgroup": "Sub-Saharan Africa",
           "marker": {
            "color": "#00cc96",
            "symbol": "circle"
           },
           "mode": "markers",
           "name": "Sub-Saharan Africa",
           "orientation": "v",
           "showlegend": true,
           "type": "scatter",
           "x": {
            "bdata": "CtejcD0KGUA=",
            "dtype": "f8"
           },
           "xaxis": "x",
           "y": {
            "bdata": "AAAADm/joUE=",
            "dtype": "f8"
           },
           "yaxis": "y"
          }
         ],
         "name": "1991"
        },
        {
         "data": [
          {
           "hovertemplate": "Country Name=Africa Eastern and Southern<br>Year=1992<br>Tasa De Fertilidad (Hijos Por Mujer)=%{x}<br>Población Urbanizada=%{y}<extra></extra>",
           "legendgroup": "Africa Eastern and Southern",
           "marker": {
            "color": "#636efa",
            "symbol": "circle"
           },
           "mode": "markers",
           "name": "Africa Eastern and Southern",
           "orientation": "v",
           "showlegend": true,
           "type": "scatter",
           "x": {
            "bdata": "MzMzMzMzGEA=",
            "dtype": "f8"
           },
           "xaxis": "x",
           "y": {
            "bdata": "AAAALKmHlEE=",
            "dtype": "f8"
           },
           "yaxis": "y"
          },
          {
           "hovertemplate": "Country Name=Arab World<br>Year=1992<br>Tasa De Fertilidad (Hijos Por Mujer)=%{x}<br>Población Urbanizada=%{y}<extra></extra>",
           "legendgroup": "Arab World",
           "marker": {
            "color": "#EF553B",
            "symbol": "circle"
           },
           "mode": "markers",
           "name": "Arab World",
           "orientation": "v",
           "showlegend": true,
           "type": "scatter",
           "x": {
            "bdata": "mpmZmZmZE0A=",
            "dtype": "f8"
           },
           "xaxis": "x",
           "y": {
            "bdata": "AAAAiJ8JnEE=",
            "dtype": "f8"
           },
           "yaxis": "y"
          },
          {
           "hovertemplate": "Country Name=Central African Republic<br>Year=1992<br>Tasa De Fertilidad (Hijos Por Mujer)=%{x}<br>Población Urbanizada=%{y}<extra></extra>",
           "legendgroup": "Central African Republic",
           "marker": {
            "color": "#00cc96",
            "symbol": "circle"
           },
           "mode": "markers",
           "name": "Central African Republic",
           "orientation": "v",
           "showlegend": true,
           "type": "scatter",
           "x": {
            "bdata": "7FG4HoXrF0A=",
            "dtype": "f8"
           },
           "xaxis": "x",
           "y": {
            "bdata": "AAAAAGpDMUE=",
            "dtype": "f8"
           },
           "yaxis": "y"
          },
          {
           "hovertemplate": "Country Name=East Asia & Pacific<br>Year=1992<br>Tasa De Fertilidad (Hijos Por Mujer)=%{x}<br>Población Urbanizada=%{y}<extra></extra>",
           "legendgroup": "East Asia & Pacific",
           "marker": {
            "color": "#ab63fa",
            "symbol": "circle"
           },
           "mode": "markers",
           "name": "East Asia & Pacific",
           "orientation": "v",
           "showlegend": true,
           "type": "scatter",
           "x": {
            "bdata": "zczMzMzMAEA=",
            "dtype": "f8"
           },
           "xaxis": "x",
           "y": {
            "bdata": "AACABZK6w0E=",
            "dtype": "f8"
           },
           "yaxis": "y"
          },
          {
           "hovertemplate": "Country Name=European Union<br>Year=1992<br>Tasa De Fertilidad (Hijos Por Mujer)=%{x}<br>Población Urbanizada=%{y}<extra></extra>",
           "legendgroup": "European Union",
           "marker": {
            "color": "#FFA15A",
            "symbol": "circle"
           },
           "mode": "markers",
           "name": "European Union",
           "orientation": "v",
           "showlegend": true,
           "type": "scatter",
           "x": {
            "bdata": "zczMzMzM+D8=",
            "dtype": "f8"
           },
           "xaxis": "x",
           "y": {
            "bdata": "AAAAs3WTsUE=",
            "dtype": "f8"
           },
           "yaxis": "y"
          },
          {
           "hovertemplate": "Country Name=Latin America & Caribbean<br>Year=1992<br>Tasa De Fertilidad (Hijos Por Mujer)=%{x}<br>Población Urbanizada=%{y}<extra></extra>",
           "legendgroup": "Latin America & Caribbean",
           "marker": {
            "color": "#19d3f3",
            "symbol": "circle"
           },
           "mode": "markers",
           "name": "Latin America & Caribbean",
           "orientation": "v",
           "showlegend": true,
           "type": "scatter",
           "x": {
            "bdata": "4XoUrkfhCEA=",
            "dtype": "f8"
           },
           "xaxis": "x",
           "y": {
            "bdata": "AAAAeRWMs0E=",
            "dtype": "f8"
           },
           "yaxis": "y"
          },
          {
           "hovertemplate": "Country Name=Mexico<br>Year=1992<br>Tasa De Fertilidad (Hijos Por Mujer)=%{x}<br>Población Urbanizada=%{y}<extra></extra>",
           "legendgroup": "Mexico",
           "marker": {
            "color": "#FF6692",
            "symbol": "circle"
           },
           "mode": "markers",
           "name": "Mexico",
           "orientation": "v",
           "showlegend": true,
           "type": "scatter",
           "x": {
            "bdata": "UrgehetRCkA=",
            "dtype": "f8"
           },
           "xaxis": "x",
           "y": {
            "bdata": "AAAAAHygjUE=",
            "dtype": "f8"
           },
           "yaxis": "y"
          },
          {
           "hovertemplate": "Country Name=Middle East & North Africa<br>Year=1992<br>Tasa De Fertilidad (Hijos Por Mujer)=%{x}<br>Población Urbanizada=%{y}<extra></extra>",
           "legendgroup": "Middle East & North Africa",
           "marker": {
            "color": "#B6E880",
            "symbol": "circle"
           },
           "mode": "markers",
           "name": "Middle East & North Africa",
           "orientation": "v",
           "showlegend": true,
           "type": "scatter",
           "x": {
            "bdata": "AAAAAAAAEkA=",
            "dtype": "f8"
           },
           "xaxis": "x",
           "y": {
            "bdata": "AAAAmFaeoUE=",
            "dtype": "f8"
           },
           "yaxis": "y"
          },
          {
           "hovertemplate": "Country Name=North America<br>Year=1992<br>Tasa De Fertilidad (Hijos Por Mujer)=%{x}<br>Población Urbanizada=%{y}<extra></extra>",
           "legendgroup": "North America",
           "marker": {
            "color": "#FF97FF",
            "symbol": "circle"
           },
           "mode": "markers",
           "name": "North America",
           "orientation": "v",
           "showlegend": true,
           "type": "scatter",
           "x": {
            "bdata": "FK5H4XoUAEA=",
            "dtype": "f8"
           },
           "xaxis": "x",
           "y": {
            "bdata": "AAAAgIDgqUE=",
            "dtype": "f8"
           },
           "yaxis": "y"
          },
          {
           "hovertemplate": "Country Name=South Africa<br>Year=1992<br>Tasa De Fertilidad (Hijos Por Mujer)=%{x}<br>Población Urbanizada=%{y}<extra></extra>",
           "legendgroup": "South Africa",
           "marker": {
            "color": "#FECB52",
            "symbol": "circle"
           },
           "mode": "markers",
           "name": "South Africa",
           "orientation": "v",
           "showlegend": true,
           "type": "scatter",
           "x": {
            "bdata": "16NwPQrXC0A=",
            "dtype": "f8"
           },
           "xaxis": "x",
           "y": {
            "bdata": "AAAAQOV3dUE=",
            "dtype": "f8"
           },
           "yaxis": "y"
          },
          {
           "hovertemplate": "Country Name=South Asia<br>Year=1992<br>Tasa De Fertilidad (Hijos Por Mujer)=%{x}<br>Población Urbanizada=%{y}<extra></extra>",
           "legendgroup": "South Asia",
           "marker": {
            "color": "#636efa",
            "symbol": "circle"
           },
           "mode": "markers",
           "name": "South Asia",
           "orientation": "v",
           "showlegend": true,
           "type": "scatter",
           "x": {
            "bdata": "mpmZmZmZEEA=",
            "dtype": "f8"
           },
           "xaxis": "x",
           "y": {
            "bdata": "AAAAq8YtskE=",
            "dtype": "f8"
           },
           "yaxis": "y"
          },
          {
           "hovertemplate": "Country Name=Spain<br>Year=1992<br>Tasa De Fertilidad (Hijos Por Mujer)=%{x}<br>Población Urbanizada=%{y}<extra></extra>",
           "legendgroup": "Spain",
           "marker": {
            "color": "#EF553B",
            "symbol": "circle"
           },
           "mode": "markers",
           "name": "Spain",
           "orientation": "v",
           "showlegend": true,
           "type": "scatter",
           "x": {
            "bdata": "9ihcj8L19D8=",
            "dtype": "f8"
           },
           "xaxis": "x",
           "y": {
            "bdata": "AAAAYE08fEE=",
            "dtype": "f8"
           },
           "yaxis": "y"
          },
          {
           "hovertemplate": "Country Name=Sub-Saharan Africa<br>Year=1992<br>Tasa De Fertilidad (Hijos Por Mujer)=%{x}<br>Población Urbanizada=%{y}<extra></extra>",
           "legendgroup": "Sub-Saharan Africa",
           "marker": {
            "color": "#00cc96",
            "symbol": "circle"
           },
           "mode": "markers",
           "name": "Sub-Saharan Africa",
           "orientation": "v",
           "showlegend": true,
           "type": "scatter",
           "x": {
            "bdata": "w/UoXI/CGEA=",
            "dtype": "f8"
           },
           "xaxis": "x",
           "y": {
            "bdata": "AAAA9GSookE=",
            "dtype": "f8"
           },
           "yaxis": "y"
          }
         ],
         "name": "1992"
        },
        {
         "data": [
          {
           "hovertemplate": "Country Name=Africa Eastern and Southern<br>Year=1993<br>Tasa De Fertilidad (Hijos Por Mujer)=%{x}<br>Población Urbanizada=%{y}<extra></extra>",
           "legendgroup": "Africa Eastern and Southern",
           "marker": {
            "color": "#636efa",
            "symbol": "circle"
           },
           "mode": "markers",
           "name": "Africa Eastern and Southern",
           "orientation": "v",
           "showlegend": true,
           "type": "scatter",
           "x": {
            "bdata": "9ihcj8L1F0A=",
            "dtype": "f8"
           },
           "xaxis": "x",
           "y": {
            "bdata": "AAAAuFB2lUE=",
            "dtype": "f8"
           },
           "yaxis": "y"
          },
          {
           "hovertemplate": "Country Name=Arab World<br>Year=1993<br>Tasa De Fertilidad (Hijos Por Mujer)=%{x}<br>Población Urbanizada=%{y}<extra></extra>",
           "legendgroup": "Arab World",
           "marker": {
            "color": "#EF553B",
            "symbol": "circle"
           },
           "mode": "markers",
           "name": "Arab World",
           "orientation": "v",
           "showlegend": true,
           "type": "scatter",
           "x": {
            "bdata": "AAAAAAAAE0A=",
            "dtype": "f8"
           },
           "xaxis": "x",
           "y": {
            "bdata": "AAAA4AESnUE=",
            "dtype": "f8"
           },
           "yaxis": "y"
          },
          {
           "hovertemplate": "Country Name=Central African Republic<br>Year=1993<br>Tasa De Fertilidad (Hijos Por Mujer)=%{x}<br>Población Urbanizada=%{y}<extra></extra>",
           "legendgroup": "Central African Republic",
           "marker": {
            "color": "#00cc96",
            "symbol": "circle"
           },
           "mode": "markers",
           "name": "Central African Republic",
           "orientation": "v",
           "showlegend": true,
           "type": "scatter",
           "x": {
            "bdata": "w/UoXI/CF0A=",
            "dtype": "f8"
           },
           "xaxis": "x",
           "y": {
            "bdata": "AAAAAHTcMUE=",
            "dtype": "f8"
           },
           "yaxis": "y"
          },
          {
           "hovertemplate": "Country Name=East Asia & Pacific<br>Year=1993<br>Tasa De Fertilidad (Hijos Por Mujer)=%{x}<br>Población Urbanizada=%{y}<extra></extra>",
           "legendgroup": "East Asia & Pacific",
           "marker": {
            "color": "#ab63fa",
            "symbol": "circle"
           },
           "mode": "markers",
           "name": "East Asia & Pacific",
           "orientation": "v",
           "showlegend": true,
           "type": "scatter",
           "x": {
            "bdata": "PQrXo3A9AEA=",
            "dtype": "f8"
           },
           "xaxis": "x",
           "y": {
            "bdata": "AAAAjDNjxEE=",
            "dtype": "f8"
           },
           "yaxis": "y"
          },
          {
           "hovertemplate": "Country Name=European Union<br>Year=1993<br>Tasa De Fertilidad (Hijos Por Mujer)=%{x}<br>Población Urbanizada=%{y}<extra></extra>",
           "legendgroup": "European Union",
           "marker": {
            "color": "#FFA15A",
            "symbol": "circle"
           },
           "mode": "markers",
           "name": "European Union",
           "orientation": "v",
           "showlegend": true,
           "type": "scatter",
           "x": {
            "bdata": "AAAAAAAA+D8=",
            "dtype": "f8"
           },
           "xaxis": "x",
           "y": {
            "bdata": "AAAAtX+qsUE=",
            "dtype": "f8"
           },
           "yaxis": "y"
          },
          {
           "hovertemplate": "Country Name=Latin America & Caribbean<br>Year=1993<br>Tasa De Fertilidad (Hijos Por Mujer)=%{x}<br>Población Urbanizada=%{y}<extra></extra>",
           "legendgroup": "Latin America & Caribbean",
           "marker": {
            "color": "#19d3f3",
            "symbol": "circle"
           },
           "mode": "markers",
           "name": "Latin America & Caribbean",
           "orientation": "v",
           "showlegend": true,
           "type": "scatter",
           "x": {
            "bdata": "ZmZmZmZmCEA=",
            "dtype": "f8"
           },
           "xaxis": "x",
           "y": {
            "bdata": "AAAAXPoGtEE=",
            "dtype": "f8"
           },
           "yaxis": "y"
          },
          {
           "hovertemplate": "Country Name=Mexico<br>Year=1993<br>Tasa De Fertilidad (Hijos Por Mujer)=%{x}<br>Población Urbanizada=%{y}<extra></extra>",
           "legendgroup": "Mexico",
           "marker": {
            "color": "#FF6692",
            "symbol": "circle"
           },
           "mode": "markers",
           "name": "Mexico",
           "orientation": "v",
           "showlegend": true,
           "type": "scatter",
           "x": {
            "bdata": "w/UoXI/CCUA=",
            "dtype": "f8"
           },
           "xaxis": "x",
           "y": {
            "bdata": "AAAA+O5XjkE=",
            "dtype": "f8"
           },
           "yaxis": "y"
          },
          {
           "hovertemplate": "Country Name=Middle East & North Africa<br>Year=1993<br>Tasa De Fertilidad (Hijos Por Mujer)=%{x}<br>Población Urbanizada=%{y}<extra></extra>",
           "legendgroup": "Middle East & North Africa",
           "marker": {
            "color": "#B6E880",
            "symbol": "circle"
           },
           "mode": "markers",
           "name": "Middle East & North Africa",
           "orientation": "v",
           "showlegend": true,
           "type": "scatter",
           "x": {
            "bdata": "MzMzMzMzEUA=",
            "dtype": "f8"
           },
           "xaxis": "x",
           "y": {
            "bdata": "AAAAuP0qokE=",
            "dtype": "f8"
           },
           "yaxis": "y"
          },
          {
           "hovertemplate": "Country Name=North America<br>Year=1993<br>Tasa De Fertilidad (Hijos Por Mujer)=%{x}<br>Población Urbanizada=%{y}<extra></extra>",
           "legendgroup": "North America",
           "marker": {
            "color": "#FF97FF",
            "symbol": "circle"
           },
           "mode": "markers",
           "name": "North America",
           "orientation": "v",
           "showlegend": true,
           "type": "scatter",
           "x": {
            "bdata": "16NwPQrX/z8=",
            "dtype": "f8"
           },
           "xaxis": "x",
           "y": {
            "bdata": "AAAAZEdYqkE=",
            "dtype": "f8"
           },
           "yaxis": "y"
          },
          {
           "hovertemplate": "Country Name=South Africa<br>Year=1993<br>Tasa De Fertilidad (Hijos Por Mujer)=%{x}<br>Población Urbanizada=%{y}<extra></extra>",
           "legendgroup": "South Africa",
           "marker": {
            "color": "#FECB52",
            "symbol": "circle"
           },
           "mode": "markers",
           "name": "South Africa",
           "orientation": "v",
           "showlegend": true,
           "type": "scatter",
           "x": {
            "bdata": "9ihcj8L1CkA=",
            "dtype": "f8"
           },
           "xaxis": "x",
           "y": {
            "bdata": "AAAA8HwZdkE=",
            "dtype": "f8"
           },
           "yaxis": "y"
          },
          {
           "hovertemplate": "Country Name=South Asia<br>Year=1993<br>Tasa De Fertilidad (Hijos Por Mujer)=%{x}<br>Población Urbanizada=%{y}<extra></extra>",
           "legendgroup": "South Asia",
           "marker": {
            "color": "#636efa",
            "symbol": "circle"
           },
           "mode": "markers",
           "name": "South Asia",
           "orientation": "v",
           "showlegend": true,
           "type": "scatter",
           "x": {
            "bdata": "SOF6FK5HEEA=",
            "dtype": "f8"
           },
           "xaxis": "x",
           "y": {
            "bdata": "AAAAuRvCskE=",
            "dtype": "f8"
           },
           "yaxis": "y"
          },
          {
           "hovertemplate": "Country Name=Spain<br>Year=1993<br>Tasa De Fertilidad (Hijos Por Mujer)=%{x}<br>Población Urbanizada=%{y}<extra></extra>",
           "legendgroup": "Spain",
           "marker": {
            "color": "#EF553B",
            "symbol": "circle"
           },
           "mode": "markers",
           "name": "Spain",
           "orientation": "v",
           "showlegend": true,
           "type": "scatter",
           "x": {
            "bdata": "KVyPwvUo9D8=",
            "dtype": "f8"
           },
           "xaxis": "x",
           "y": {
            "bdata": "AAAA4MJpfEE=",
            "dtype": "f8"
           },
           "yaxis": "y"
          },
          {
           "hovertemplate": "Country Name=Sub-Saharan Africa<br>Year=1993<br>Tasa De Fertilidad (Hijos Por Mujer)=%{x}<br>Población Urbanizada=%{y}<extra></extra>",
           "legendgroup": "Sub-Saharan Africa",
           "marker": {
            "color": "#00cc96",
            "symbol": "circle"
           },
           "mode": "markers",
           "name": "Sub-Saharan Africa",
           "orientation": "v",
           "showlegend": true,
           "type": "scatter",
           "x": {
            "bdata": "hetRuB6FGEA=",
            "dtype": "f8"
           },
           "xaxis": "x",
           "y": {
            "bdata": "AAAAMOF3o0E=",
            "dtype": "f8"
           },
           "yaxis": "y"
          }
         ],
         "name": "1993"
        },
        {
         "data": [
          {
           "hovertemplate": "Country Name=Africa Eastern and Southern<br>Year=1994<br>Tasa De Fertilidad (Hijos Por Mujer)=%{x}<br>Población Urbanizada=%{y}<extra></extra>",
           "legendgroup": "Africa Eastern and Southern",
           "marker": {
            "color": "#636efa",
            "symbol": "circle"
           },
           "mode": "markers",
           "name": "Africa Eastern and Southern",
           "orientation": "v",
           "showlegend": true,
           "type": "scatter",
           "x": {
            "bdata": "rkfhehSuF0A=",
            "dtype": "f8"
           },
           "xaxis": "x",
           "y": {
            "bdata": "AAAABKJllkE=",
            "dtype": "f8"
           },
           "yaxis": "y"
          },
          {
           "hovertemplate": "Country Name=Arab World<br>Year=1994<br>Tasa De Fertilidad (Hijos Por Mujer)=%{x}<br>Población Urbanizada=%{y}<extra></extra>",
           "legendgroup": "Arab World",
           "marker": {
            "color": "#EF553B",
            "symbol": "circle"
           },
           "mode": "markers",
           "name": "Arab World",
           "orientation": "v",
           "showlegend": true,
           "type": "scatter",
           "x": {
            "bdata": "cT0K16NwEkA=",
            "dtype": "f8"
           },
           "xaxis": "x",
           "y": {
            "bdata": "AAAAYKsLnkE=",
            "dtype": "f8"
           },
           "yaxis": "y"
          },
          {
           "hovertemplate": "Country Name=Central African Republic<br>Year=1994<br>Tasa De Fertilidad (Hijos Por Mujer)=%{x}<br>Población Urbanizada=%{y}<extra></extra>",
           "legendgroup": "Central African Republic",
           "marker": {
            "color": "#00cc96",
            "symbol": "circle"
           },
           "mode": "markers",
           "name": "Central African Republic",
           "orientation": "v",
           "showlegend": true,
           "type": "scatter",
           "x": {
            "bdata": "uB6F61G4F0A=",
            "dtype": "f8"
           },
           "xaxis": "x",
           "y": {
            "bdata": "AAAAALl3MkE=",
            "dtype": "f8"
           },
           "yaxis": "y"
          },
          {
           "hovertemplate": "Country Name=East Asia & Pacific<br>Year=1994<br>Tasa De Fertilidad (Hijos Por Mujer)=%{x}<br>Población Urbanizada=%{y}<extra></extra>",
           "legendgroup": "East Asia & Pacific",
           "marker": {
            "color": "#ab63fa",
            "symbol": "circle"
           },
           "mode": "markers",
           "name": "East Asia & Pacific",
           "orientation": "v",
           "showlegend": true,
           "type": "scatter",
           "x": {
            "bdata": "hetRuB6F/z8=",
            "dtype": "f8"
           },
           "xaxis": "x",
           "y": {
            "bdata": "AACArlQQxUE=",
            "dtype": "f8"
           },
           "yaxis": "y"
          },
          {
           "hovertemplate": "Country Name=European Union<br>Year=1994<br>Tasa De Fertilidad (Hijos Por Mujer)=%{x}<br>Población Urbanizada=%{y}<extra></extra>",
           "legendgroup": "European Union",
           "marker": {
            "color": "#FFA15A",
            "symbol": "circle"
           },
           "mode": "markers",
           "name": "European Union",
           "orientation": "v",
           "showlegend": true,
           "type": "scatter",
           "x": {
            "bdata": "XI/C9Shc9z8=",
            "dtype": "f8"
           },
           "xaxis": "x",
           "y": {
            "bdata": "AAAACOe+sUE=",
            "dtype": "f8"
           },
           "yaxis": "y"
          },
          {
           "hovertemplate": "Country Name=Latin America & Caribbean<br>Year=1994<br>Tasa De Fertilidad (Hijos Por Mujer)=%{x}<br>Población Urbanizada=%{y}<extra></extra>",
           "legendgroup": "Latin America & Caribbean",
           "marker": {
            "color": "#19d3f3",
            "symbol": "circle"
           },
           "mode": "markers",
           "name": "Latin America & Caribbean",
           "orientation": "v",
           "showlegend": true,
           "type": "scatter",
           "x": {
            "bdata": "7FG4HoXrB0A=",
            "dtype": "f8"
           },
           "xaxis": "x",
           "y": {
            "bdata": "AAAAeaGCtEE=",
            "dtype": "f8"
           },
           "yaxis": "y"
          },
          {
           "hovertemplate": "Country Name=Mexico<br>Year=1994<br>Tasa De Fertilidad (Hijos Por Mujer)=%{x}<br>Población Urbanizada=%{y}<extra></extra>",
           "legendgroup": "Mexico",
           "marker": {
            "color": "#FF6692",
            "symbol": "circle"
           },
           "mode": "markers",
           "name": "Mexico",
           "orientation": "v",
           "showlegend": true,
           "type": "scatter",
           "x": {
            "bdata": "CtejcD0KCUA=",
            "dtype": "f8"
           },
           "xaxis": "x",
           "y": {
            "bdata": "AAAAOF8Qj0E=",
            "dtype": "f8"
           },
           "yaxis": "y"
          },
          {
           "hovertemplate": "Country Name=Middle East & North Africa<br>Year=1994<br>Tasa De Fertilidad (Hijos Por Mujer)=%{x}<br>Población Urbanizada=%{y}<extra></extra>",
           "legendgroup": "Middle East & North Africa",
           "marker": {
            "color": "#B6E880",
            "symbol": "circle"
           },
           "mode": "markers",
           "name": "Middle East & North Africa",
           "orientation": "v",
           "showlegend": true,
           "type": "scatter",
           "x": {
            "bdata": "ZmZmZmZmEEA=",
            "dtype": "f8"
           },
           "xaxis": "x",
           "y": {
            "bdata": "AAAALgyzokE=",
            "dtype": "f8"
           },
           "yaxis": "y"
          },
          {
           "hovertemplate": "Country Name=North America<br>Year=1994<br>Tasa De Fertilidad (Hijos Por Mujer)=%{x}<br>Población Urbanizada=%{y}<extra></extra>",
           "legendgroup": "North America",
           "marker": {
            "color": "#FF97FF",
            "symbol": "circle"
           },
           "mode": "markers",
           "name": "North America",
           "orientation": "v",
           "showlegend": true,
           "type": "scatter",
           "x": {
            "bdata": "hetRuB6F/z8=",
            "dtype": "f8"
           },
           "xaxis": "x",
           "y": {
            "bdata": "AAAAUPvLqkE=",
            "dtype": "f8"
           },
           "yaxis": "y"
          },
          {
           "hovertemplate": "Country Name=South Africa<br>Year=1994<br>Tasa De Fertilidad (Hijos Por Mujer)=%{x}<br>Población Urbanizada=%{y}<extra></extra>",
           "legendgroup": "South Africa",
           "marker": {
            "color": "#FECB52",
            "symbol": "circle"
           },
           "mode": "markers",
           "name": "South Africa",
           "orientation": "v",
           "showlegend": true,
           "type": "scatter",
           "x": {
            "bdata": "FK5H4XoUCkA=",
            "dtype": "f8"
           },
           "xaxis": "x",
           "y": {
            "bdata": "AAAAsMGpdkE=",
            "dtype": "f8"
           },
           "yaxis": "y"
          },
          {
           "hovertemplate": "Country Name=South Asia<br>Year=1994<br>Tasa De Fertilidad (Hijos Por Mujer)=%{x}<br>Población Urbanizada=%{y}<extra></extra>",
           "legendgroup": "South Asia",
           "marker": {
            "color": "#636efa",
            "symbol": "circle"
           },
           "mode": "markers",
           "name": "South Asia",
           "orientation": "v",
           "showlegend": true,
           "type": "scatter",
           "x": {
            "bdata": "7FG4HoXrD0A=",
            "dtype": "f8"
           },
           "xaxis": "x",
           "y": {
            "bdata": "AAAAdTJYs0E=",
            "dtype": "f8"
           },
           "yaxis": "y"
          },
          {
           "hovertemplate": "Country Name=Spain<br>Year=1994<br>Tasa De Fertilidad (Hijos Por Mujer)=%{x}<br>Población Urbanizada=%{y}<extra></extra>",
           "legendgroup": "Spain",
           "marker": {
            "color": "#EF553B",
            "symbol": "circle"
           },
           "mode": "markers",
           "name": "Spain",
           "orientation": "v",
           "showlegend": true,
           "type": "scatter",
           "x": {
            "bdata": "CtejcD0K8z8=",
            "dtype": "f8"
           },
           "xaxis": "x",
           "y": {
            "bdata": "AAAAUGSUfEE=",
            "dtype": "f8"
           },
           "yaxis": "y"
          },
          {
           "hovertemplate": "Country Name=Sub-Saharan Africa<br>Year=1994<br>Tasa De Fertilidad (Hijos Por Mujer)=%{x}<br>Población Urbanizada=%{y}<extra></extra>",
           "legendgroup": "Sub-Saharan Africa",
           "marker": {
            "color": "#00cc96",
            "symbol": "circle"
           },
           "mode": "markers",
           "name": "Sub-Saharan Africa",
           "orientation": "v",
           "showlegend": true,
           "type": "scatter",
           "x": {
            "bdata": "SOF6FK5HGEA=",
            "dtype": "f8"
           },
           "xaxis": "x",
           "y": {
            "bdata": "AAAAOtlIpEE=",
            "dtype": "f8"
           },
           "yaxis": "y"
          }
         ],
         "name": "1994"
        },
        {
         "data": [
          {
           "hovertemplate": "Country Name=Africa Eastern and Southern<br>Year=1995<br>Tasa De Fertilidad (Hijos Por Mujer)=%{x}<br>Población Urbanizada=%{y}<extra></extra>",
           "legendgroup": "Africa Eastern and Southern",
           "marker": {
            "color": "#636efa",
            "symbol": "circle"
           },
           "mode": "markers",
           "name": "Africa Eastern and Southern",
           "orientation": "v",
           "showlegend": true,
           "type": "scatter",
           "x": {
            "bdata": "cT0K16NwF0A=",
            "dtype": "f8"
           },
           "xaxis": "x",
           "y": {
            "bdata": "AAAAoBtNl0E=",
            "dtype": "f8"
           },
           "yaxis": "y"
          },
          {
           "hovertemplate": "Country Name=Arab World<br>Year=1995<br>Tasa De Fertilidad (Hijos Por Mujer)=%{x}<br>Población Urbanizada=%{y}<extra></extra>",
           "legendgroup": "Arab World",
           "marker": {
            "color": "#EF553B",
            "symbol": "circle"
           },
           "mode": "markers",
           "name": "Arab World",
           "orientation": "v",
           "showlegend": true,
           "type": "scatter",
           "x": {
            "bdata": "zczMzMzMEUA=",
            "dtype": "f8"
           },
           "xaxis": "x",
           "y": {
            "bdata": "AAAA1G7wnkE=",
            "dtype": "f8"
           },
           "yaxis": "y"
          },
          {
           "hovertemplate": "Country Name=Central African Republic<br>Year=1995<br>Tasa De Fertilidad (Hijos Por Mujer)=%{x}<br>Población Urbanizada=%{y}<extra></extra>",
           "legendgroup": "Central African Republic",
           "marker": {
            "color": "#00cc96",
            "symbol": "circle"
           },
           "mode": "markers",
           "name": "Central African Republic",
           "orientation": "v",
           "showlegend": true,
           "type": "scatter",
           "x": {
            "bdata": "4XoUrkfhF0A=",
            "dtype": "f8"
           },
           "xaxis": "x",
           "y": {
            "bdata": "AAAAADEFM0E=",
            "dtype": "f8"
           },
           "yaxis": "y"
          },
          {
           "hovertemplate": "Country Name=East Asia & Pacific<br>Year=1995<br>Tasa De Fertilidad (Hijos Por Mujer)=%{x}<br>Población Urbanizada=%{y}<extra></extra>",
           "legendgroup": "East Asia & Pacific",
           "marker": {
            "color": "#ab63fa",
            "symbol": "circle"
           },
           "mode": "markers",
           "name": "East Asia & Pacific",
           "orientation": "v",
           "showlegend": true,
           "type": "scatter",
           "x": {
            "bdata": "4XoUrkfh/j8=",
            "dtype": "f8"
           },
           "xaxis": "x",
           "y": {
            "bdata": "AACAA9PAxUE=",
            "dtype": "f8"
           },
           "yaxis": "y"
          },
          {
           "hovertemplate": "Country Name=European Union<br>Year=1995<br>Tasa De Fertilidad (Hijos Por Mujer)=%{x}<br>Población Urbanizada=%{y}<extra></extra>",
           "legendgroup": "European Union",
           "marker": {
            "color": "#FFA15A",
            "symbol": "circle"
           },
           "mode": "markers",
           "name": "European Union",
           "orientation": "v",
           "showlegend": true,
           "type": "scatter",
           "x": {
            "bdata": "uB6F61G49j8=",
            "dtype": "f8"
           },
           "xaxis": "x",
           "y": {
            "bdata": "AAAAxqnQsUE=",
            "dtype": "f8"
           },
           "yaxis": "y"
          },
          {
           "hovertemplate": "Country Name=Latin America & Caribbean<br>Year=1995<br>Tasa De Fertilidad (Hijos Por Mujer)=%{x}<br>Población Urbanizada=%{y}<extra></extra>",
           "legendgroup": "Latin America & Caribbean",
           "marker": {
            "color": "#19d3f3",
            "symbol": "circle"
           },
           "mode": "markers",
           "name": "Latin America & Caribbean",
           "orientation": "v",
           "showlegend": true,
           "type": "scatter",
           "x": {
            "bdata": "cT0K16NwB0A=",
            "dtype": "f8"
           },
           "xaxis": "x",
           "y": {
            "bdata": "AAAAoN3+tEE=",
            "dtype": "f8"
           },
           "yaxis": "y"
          },
          {
           "hovertemplate": "Country Name=Mexico<br>Year=1995<br>Tasa De Fertilidad (Hijos Por Mujer)=%{x}<br>Población Urbanizada=%{y}<extra></extra>",
           "legendgroup": "Mexico",
           "marker": {
            "color": "#FF6692",
            "symbol": "circle"
           },
           "mode": "markers",
           "name": "Mexico",
           "orientation": "v",
           "showlegend": true,
           "type": "scatter",
           "x": {
            "bdata": "UrgehetRCEA=",
            "dtype": "f8"
           },
           "xaxis": "x",
           "y": {
            "bdata": "AAAA8LDJj0E=",
            "dtype": "f8"
           },
           "yaxis": "y"
          },
          {
           "hovertemplate": "Country Name=Middle East & North Africa<br>Year=1995<br>Tasa De Fertilidad (Hijos Por Mujer)=%{x}<br>Población Urbanizada=%{y}<extra></extra>",
           "legendgroup": "Middle East & North Africa",
           "marker": {
            "color": "#B6E880",
            "symbol": "circle"
           },
           "mode": "markers",
           "name": "Middle East & North Africa",
           "orientation": "v",
           "showlegend": true,
           "type": "scatter",
           "x": {
            "bdata": "CtejcD0KD0A=",
            "dtype": "f8"
           },
           "xaxis": "x",
           "y": {
            "bdata": "AAAAWNs7o0E=",
            "dtype": "f8"
           },
           "yaxis": "y"
          },
          {
           "hovertemplate": "Country Name=North America<br>Year=1995<br>Tasa De Fertilidad (Hijos Por Mujer)=%{x}<br>Población Urbanizada=%{y}<extra></extra>",
           "legendgroup": "North America",
           "marker": {
            "color": "#FF97FF",
            "symbol": "circle"
           },
           "mode": "markers",
           "name": "North America",
           "orientation": "v",
           "showlegend": true,
           "type": "scatter",
           "x": {
            "bdata": "MzMzMzMz/z8=",
            "dtype": "f8"
           },
           "xaxis": "x",
           "y": {
            "bdata": "AAAA9HA+q0E=",
            "dtype": "f8"
           },
           "yaxis": "y"
          },
          {
           "hovertemplate": "Country Name=South Africa<br>Year=1995<br>Tasa De Fertilidad (Hijos Por Mujer)=%{x}<br>Población Urbanizada=%{y}<extra></extra>",
           "legendgroup": "South Africa",
           "marker": {
            "color": "#FECB52",
            "symbol": "circle"
           },
           "mode": "markers",
           "name": "South Africa",
           "orientation": "v",
           "showlegend": true,
           "type": "scatter",
           "x": {
            "bdata": "XI/C9ShcCUA=",
            "dtype": "f8"
           },
           "xaxis": "x",
           "y": {
            "bdata": "AAAA8AYld0E=",
            "dtype": "f8"
           },
           "yaxis": "y"
          },
          {
           "hovertemplate": "Country Name=South Asia<br>Year=1995<br>Tasa De Fertilidad (Hijos Por Mujer)=%{x}<br>Población Urbanizada=%{y}<extra></extra>",
           "legendgroup": "South Asia",
           "marker": {
            "color": "#636efa",
            "symbol": "circle"
           },
           "mode": "markers",
           "name": "South Asia",
           "orientation": "v",
           "showlegend": true,
           "type": "scatter",
           "x": {
            "bdata": "SOF6FK5HD0A=",
            "dtype": "f8"
           },
           "xaxis": "x",
           "y": {
            "bdata": "AAAAT8Pvs0E=",
            "dtype": "f8"
           },
           "yaxis": "y"
          },
          {
           "hovertemplate": "Country Name=Spain<br>Year=1995<br>Tasa De Fertilidad (Hijos Por Mujer)=%{x}<br>Población Urbanizada=%{y}<extra></extra>",
           "legendgroup": "Spain",
           "marker": {
            "color": "#EF553B",
            "symbol": "circle"
           },
           "mode": "markers",
           "name": "Spain",
           "orientation": "v",
           "showlegend": true,
           "type": "scatter",
           "x": {
            "bdata": "j8L1KFyP8j8=",
            "dtype": "f8"
           },
           "xaxis": "x",
           "y": {
            "bdata": "AAAAMLW8fEE=",
            "dtype": "f8"
           },
           "yaxis": "y"
          },
          {
           "hovertemplate": "Country Name=Sub-Saharan Africa<br>Year=1995<br>Tasa De Fertilidad (Hijos Por Mujer)=%{x}<br>Población Urbanizada=%{y}<extra></extra>",
           "legendgroup": "Sub-Saharan Africa",
           "marker": {
            "color": "#00cc96",
            "symbol": "circle"
           },
           "mode": "markers",
           "name": "Sub-Saharan Africa",
           "orientation": "v",
           "showlegend": true,
           "type": "scatter",
           "x": {
            "bdata": "CtejcD0KGEA=",
            "dtype": "f8"
           },
           "xaxis": "x",
           "y": {
            "bdata": "AAAAdlAapUE=",
            "dtype": "f8"
           },
           "yaxis": "y"
          }
         ],
         "name": "1995"
        },
        {
         "data": [
          {
           "hovertemplate": "Country Name=Africa Eastern and Southern<br>Year=1996<br>Tasa De Fertilidad (Hijos Por Mujer)=%{x}<br>Población Urbanizada=%{y}<extra></extra>",
           "legendgroup": "Africa Eastern and Southern",
           "marker": {
            "color": "#636efa",
            "symbol": "circle"
           },
           "mode": "markers",
           "name": "Africa Eastern and Southern",
           "orientation": "v",
           "showlegend": true,
           "type": "scatter",
           "x": {
            "bdata": "KVyPwvUoF0A=",
            "dtype": "f8"
           },
           "xaxis": "x",
           "y": {
            "bdata": "AAAAEAMrmEE=",
            "dtype": "f8"
           },
           "yaxis": "y"
          },
          {
           "hovertemplate": "Country Name=Arab World<br>Year=1996<br>Tasa De Fertilidad (Hijos Por Mujer)=%{x}<br>Población Urbanizada=%{y}<extra></extra>",
           "legendgroup": "Arab World",
           "marker": {
            "color": "#EF553B",
            "symbol": "circle"
           },
           "mode": "markers",
           "name": "Arab World",
           "orientation": "v",
           "showlegend": true,
           "type": "scatter",
           "x": {
            "bdata": "KVyPwvUoEUA=",
            "dtype": "f8"
           },
           "xaxis": "x",
           "y": {
            "bdata": "AAAA2F/Vn0E=",
            "dtype": "f8"
           },
           "yaxis": "y"
          },
          {
           "hovertemplate": "Country Name=Central African Republic<br>Year=1996<br>Tasa De Fertilidad (Hijos Por Mujer)=%{x}<br>Población Urbanizada=%{y}<extra></extra>",
           "legendgroup": "Central African Republic",
           "marker": {
            "color": "#00cc96",
            "symbol": "circle"
           },
           "mode": "markers",
           "name": "Central African Republic",
           "orientation": "v",
           "showlegend": true,
           "type": "scatter",
           "x": {
            "bdata": "9ihcj8L1F0A=",
            "dtype": "f8"
           },
           "xaxis": "x",
           "y": {
            "bdata": "AAAAAOuPM0E=",
            "dtype": "f8"
           },
           "yaxis": "y"
          },
          {
           "hovertemplate": "Country Name=East Asia & Pacific<br>Year=1996<br>Tasa De Fertilidad (Hijos Por Mujer)=%{x}<br>Población Urbanizada=%{y}<extra></extra>",
           "legendgroup": "East Asia & Pacific",
           "marker": {
            "color": "#ab63fa",
            "symbol": "circle"
           },
           "mode": "markers",
           "name": "East Asia & Pacific",
           "orientation": "v",
           "showlegend": true,
           "type": "scatter",
           "x": {
            "bdata": "PQrXo3A9/j8=",
            "dtype": "f8"
           },
           "xaxis": "x",
           "y": {
            "bdata": "AAAAGYt1xkE=",
            "dtype": "f8"
           },
           "yaxis": "y"
          },
          {
           "hovertemplate": "Country Name=European Union<br>Year=1996<br>Tasa De Fertilidad (Hijos Por Mujer)=%{x}<br>Población Urbanizada=%{y}<extra></extra>",
           "legendgroup": "European Union",
           "marker": {
            "color": "#FFA15A",
            "symbol": "circle"
           },
           "mode": "markers",
           "name": "European Union",
           "orientation": "v",
           "showlegend": true,
           "type": "scatter",
           "x": {
            "bdata": "j8L1KFyP9j8=",
            "dtype": "f8"
           },
           "xaxis": "x",
           "y": {
            "bdata": "AAAAGTjhsUE=",
            "dtype": "f8"
           },
           "yaxis": "y"
          },
          {
           "hovertemplate": "Country Name=Latin America & Caribbean<br>Year=1996<br>Tasa De Fertilidad (Hijos Por Mujer)=%{x}<br>Población Urbanizada=%{y}<extra></extra>",
           "legendgroup": "Latin America & Caribbean",
           "marker": {
            "color": "#19d3f3",
            "symbol": "circle"
           },
           "mode": "markers",
           "name": "Latin America & Caribbean",
           "orientation": "v",
           "showlegend": true,
           "type": "scatter",
           "x": {
            "bdata": "zczMzMzMBkA=",
            "dtype": "f8"
           },
           "xaxis": "x",
           "y": {
            "bdata": "AAAAIgh6tUE=",
            "dtype": "f8"
           },
           "yaxis": "y"
          },
          {
           "hovertemplate": "Country Name=Mexico<br>Year=1996<br>Tasa De Fertilidad (Hijos Por Mujer)=%{x}<br>Población Urbanizada=%{y}<extra></extra>",
           "legendgroup": "Mexico",
           "marker": {
            "color": "#FF6692",
            "symbol": "circle"
           },
           "mode": "markers",
           "name": "Mexico",
           "orientation": "v",
           "showlegend": true,
           "type": "scatter",
           "x": {
            "bdata": "rkfhehSuB0A=",
            "dtype": "f8"
           },
           "xaxis": "x",
           "y": {
            "bdata": "AAAASBk9kEE=",
            "dtype": "f8"
           },
           "yaxis": "y"
          },
          {
           "hovertemplate": "Country Name=Middle East & North Africa<br>Year=1996<br>Tasa De Fertilidad (Hijos Por Mujer)=%{x}<br>Población Urbanizada=%{y}<extra></extra>",
           "legendgroup": "Middle East & North Africa",
           "marker": {
            "color": "#B6E880",
            "symbol": "circle"
           },
           "mode": "markers",
           "name": "Middle East & North Africa",
           "orientation": "v",
           "showlegend": true,
           "type": "scatter",
           "x": {
            "bdata": "cT0K16NwDUA=",
            "dtype": "f8"
           },
           "xaxis": "x",
           "y": {
            "bdata": "AAAApIvFo0E=",
            "dtype": "f8"
           },
           "yaxis": "y"
          },
          {
           "hovertemplate": "Country Name=North America<br>Year=1996<br>Tasa De Fertilidad (Hijos Por Mujer)=%{x}<br>Población Urbanizada=%{y}<extra></extra>",
           "legendgroup": "North America",
           "marker": {
            "color": "#FF97FF",
            "symbol": "circle"
           },
           "mode": "markers",
           "name": "North America",
           "orientation": "v",
           "showlegend": true,
           "type": "scatter",
           "x": {
            "bdata": "CtejcD0K/z8=",
            "dtype": "f8"
           },
           "xaxis": "x",
           "y": {
            "bdata": "AAAAAN6wq0E=",
            "dtype": "f8"
           },
           "yaxis": "y"
          },
          {
           "hovertemplate": "Country Name=South Africa<br>Year=1996<br>Tasa De Fertilidad (Hijos Por Mujer)=%{x}<br>Población Urbanizada=%{y}<extra></extra>",
           "legendgroup": "South Africa",
           "marker": {
            "color": "#FECB52",
            "symbol": "circle"
           },
           "mode": "markers",
           "name": "South Africa",
           "orientation": "v",
           "showlegend": true,
           "type": "scatter",
           "x": {
            "bdata": "7FG4HoXrB0A=",
            "dtype": "f8"
           },
           "xaxis": "x",
           "y": {
            "bdata": "AAAAEF2nd0E=",
            "dtype": "f8"
           },
           "yaxis": "y"
          },
          {
           "hovertemplate": "Country Name=South Asia<br>Year=1996<br>Tasa De Fertilidad (Hijos Por Mujer)=%{x}<br>Población Urbanizada=%{y}<extra></extra>",
           "legendgroup": "South Asia",
           "marker": {
            "color": "#636efa",
            "symbol": "circle"
           },
           "mode": "markers",
           "name": "South Asia",
           "orientation": "v",
           "showlegend": true,
           "type": "scatter",
           "x": {
            "bdata": "pHA9CtejDkA=",
            "dtype": "f8"
           },
           "xaxis": "x",
           "y": {
            "bdata": "AAAAGyCLtEE=",
            "dtype": "f8"
           },
           "yaxis": "y"
          },
          {
           "hovertemplate": "Country Name=Spain<br>Year=1996<br>Tasa De Fertilidad (Hijos Por Mujer)=%{x}<br>Población Urbanizada=%{y}<extra></extra>",
           "legendgroup": "Spain",
           "marker": {
            "color": "#EF553B",
            "symbol": "circle"
           },
           "mode": "markers",
           "name": "Spain",
           "orientation": "v",
           "showlegend": true,
           "type": "scatter",
           "x": {
            "bdata": "PQrXo3A98j8=",
            "dtype": "f8"
           },
           "xaxis": "x",
           "y": {
            "bdata": "AAAAQGbjfEE=",
            "dtype": "f8"
           },
           "yaxis": "y"
          },
          {
           "hovertemplate": "Country Name=Sub-Saharan Africa<br>Year=1996<br>Tasa De Fertilidad (Hijos Por Mujer)=%{x}<br>Población Urbanizada=%{y}<extra></extra>",
           "legendgroup": "Sub-Saharan Africa",
           "marker": {
            "color": "#00cc96",
            "symbol": "circle"
           },
           "mode": "markers",
           "name": "Sub-Saharan Africa",
           "orientation": "v",
           "showlegend": true,
           "type": "scatter",
           "x": {
            "bdata": "w/UoXI/CF0A=",
            "dtype": "f8"
           },
           "xaxis": "x",
           "y": {
            "bdata": "AAAAtMTqpUE=",
            "dtype": "f8"
           },
           "yaxis": "y"
          }
         ],
         "name": "1996"
        },
        {
         "data": [
          {
           "hovertemplate": "Country Name=Africa Eastern and Southern<br>Year=1997<br>Tasa De Fertilidad (Hijos Por Mujer)=%{x}<br>Población Urbanizada=%{y}<extra></extra>",
           "legendgroup": "Africa Eastern and Southern",
           "marker": {
            "color": "#636efa",
            "symbol": "circle"
           },
           "mode": "markers",
           "name": "Africa Eastern and Southern",
           "orientation": "v",
           "showlegend": true,
           "type": "scatter",
           "x": {
            "bdata": "16NwPQrXFkA=",
            "dtype": "f8"
           },
           "xaxis": "x",
           "y": {
            "bdata": "AAAA9B8KmUE=",
            "dtype": "f8"
           },
           "yaxis": "y"
          },
          {
           "hovertemplate": "Country Name=Arab World<br>Year=1997<br>Tasa De Fertilidad (Hijos Por Mujer)=%{x}<br>Población Urbanizada=%{y}<extra></extra>",
           "legendgroup": "Arab World",
           "marker": {
            "color": "#EF553B",
            "symbol": "circle"
           },
           "mode": "markers",
           "name": "Arab World",
           "orientation": "v",
           "showlegend": true,
           "type": "scatter",
           "x": {
            "bdata": "rkfhehSuEEA=",
            "dtype": "f8"
           },
           "xaxis": "x",
           "y": {
            "bdata": "AAAApKRhoEE=",
            "dtype": "f8"
           },
           "yaxis": "y"
          },
          {
           "hovertemplate": "Country Name=Central African Republic<br>Year=1997<br>Tasa De Fertilidad (Hijos Por Mujer)=%{x}<br>Población Urbanizada=%{y}<extra></extra>",
           "legendgroup": "Central African Republic",
           "marker": {
            "color": "#00cc96",
            "symbol": "circle"
           },
           "mode": "markers",
           "name": "Central African Republic",
           "orientation": "v",
           "showlegend": true,
           "type": "scatter",
           "x": {
            "bdata": "16NwPQrXF0A=",
            "dtype": "f8"
           },
           "xaxis": "x",
           "y": {
            "bdata": "AAAAAMQmNEE=",
            "dtype": "f8"
           },
           "yaxis": "y"
          },
          {
           "hovertemplate": "Country Name=East Asia & Pacific<br>Year=1997<br>Tasa De Fertilidad (Hijos Por Mujer)=%{x}<br>Población Urbanizada=%{y}<extra></extra>",
           "legendgroup": "East Asia & Pacific",
           "marker": {
            "color": "#ab63fa",
            "symbol": "circle"
           },
           "mode": "markers",
           "name": "East Asia & Pacific",
           "orientation": "v",
           "showlegend": true,
           "type": "scatter",
           "x": {
            "bdata": "w/UoXI/C/T8=",
            "dtype": "f8"
           },
           "xaxis": "x",
           "y": {
            "bdata": "AACAMGYrx0E=",
            "dtype": "f8"
           },
           "yaxis": "y"
          },
          {
           "hovertemplate": "Country Name=European Union<br>Year=1997<br>Tasa De Fertilidad (Hijos Por Mujer)=%{x}<br>Población Urbanizada=%{y}<extra></extra>",
           "legendgroup": "European Union",
           "marker": {
            "color": "#FFA15A",
            "symbol": "circle"
           },
           "mode": "markers",
           "name": "European Union",
           "orientation": "v",
           "showlegend": true,
           "type": "scatter",
           "x": {
            "bdata": "uB6F61G49j8=",
            "dtype": "f8"
           },
           "xaxis": "x",
           "y": {
            "bdata": "AAAAhOXwsUE=",
            "dtype": "f8"
           },
           "yaxis": "y"
          },
          {
           "hovertemplate": "Country Name=Latin America & Caribbean<br>Year=1997<br>Tasa De Fertilidad (Hijos Por Mujer)=%{x}<br>Población Urbanizada=%{y}<extra></extra>",
           "legendgroup": "Latin America & Caribbean",
           "marker": {
            "color": "#19d3f3",
            "symbol": "circle"
           },
           "mode": "markers",
           "name": "Latin America & Caribbean",
           "orientation": "v",
           "showlegend": true,
           "type": "scatter",
           "x": {
            "bdata": "UrgehetRBkA=",
            "dtype": "f8"
           },
           "xaxis": "x",
           "y": {
            "bdata": "AAAAKUD2tUE=",
            "dtype": "f8"
           },
           "yaxis": "y"
          },
          {
           "hovertemplate": "Country Name=Mexico<br>Year=1997<br>Tasa De Fertilidad (Hijos Por Mujer)=%{x}<br>Población Urbanizada=%{y}<extra></extra>",
           "legendgroup": "Mexico",
           "marker": {
            "color": "#FF6692",
            "symbol": "circle"
           },
           "mode": "markers",
           "name": "Mexico",
           "orientation": "v",
           "showlegend": true,
           "type": "scatter",
           "x": {
            "bdata": "9ihcj8L1BkA=",
            "dtype": "f8"
           },
           "xaxis": "x",
           "y": {
            "bdata": "AAAAKH2SkEE=",
            "dtype": "f8"
           },
           "yaxis": "y"
          },
          {
           "hovertemplate": "Country Name=Middle East & North Africa<br>Year=1997<br>Tasa De Fertilidad (Hijos Por Mujer)=%{x}<br>Población Urbanizada=%{y}<extra></extra>",
           "legendgroup": "Middle East & North Africa",
           "marker": {
            "color": "#B6E880",
            "symbol": "circle"
           },
           "mode": "markers",
           "name": "Middle East & North Africa",
           "orientation": "v",
           "showlegend": true,
           "type": "scatter",
           "x": {
            "bdata": "UrgehetRDEA=",
            "dtype": "f8"
           },
           "xaxis": "x",
           "y": {
            "bdata": "AAAAlKRTpEE=",
            "dtype": "f8"
           },
           "yaxis": "y"
          },
          {
           "hovertemplate": "Country Name=North America<br>Year=1997<br>Tasa De Fertilidad (Hijos Por Mujer)=%{x}<br>Población Urbanizada=%{y}<extra></extra>",
           "legendgroup": "North America",
           "marker": {
            "color": "#FF97FF",
            "symbol": "circle"
           },
           "mode": "markers",
           "name": "North America",
           "orientation": "v",
           "showlegend": true,
           "type": "scatter",
           "x": {
            "bdata": "4XoUrkfh/j8=",
            "dtype": "f8"
           },
           "xaxis": "x",
           "y": {
            "bdata": "AAAA5LknrEE=",
            "dtype": "f8"
           },
           "yaxis": "y"
          },
          {
           "hovertemplate": "Country Name=South Africa<br>Year=1997<br>Tasa De Fertilidad (Hijos Por Mujer)=%{x}<br>Población Urbanizada=%{y}<extra></extra>",
           "legendgroup": "South Africa",
           "marker": {
            "color": "#FECB52",
            "symbol": "circle"
           },
           "mode": "markers",
           "name": "South Africa",
           "orientation": "v",
           "showlegend": true,
           "type": "scatter",
           "x": {
            "bdata": "16NwPQrXBUA=",
            "dtype": "f8"
           },
           "xaxis": "x",
           "y": {
            "bdata": "AAAA0BQmeEE=",
            "dtype": "f8"
           },
           "yaxis": "y"
          },
          {
           "hovertemplate": "Country Name=South Asia<br>Year=1997<br>Tasa De Fertilidad (Hijos Por Mujer)=%{x}<br>Población Urbanizada=%{y}<extra></extra>",
           "legendgroup": "South Asia",
           "marker": {
            "color": "#636efa",
            "symbol": "circle"
           },
           "mode": "markers",
           "name": "South Asia",
           "orientation": "v",
           "showlegend": true,
           "type": "scatter",
           "x": {
            "bdata": "KVyPwvUoDkA=",
            "dtype": "f8"
           },
           "xaxis": "x",
           "y": {
            "bdata": "AAAAQTYptUE=",
            "dtype": "f8"
           },
           "yaxis": "y"
          },
          {
           "hovertemplate": "Country Name=Spain<br>Year=1997<br>Tasa De Fertilidad (Hijos Por Mujer)=%{x}<br>Población Urbanizada=%{y}<extra></extra>",
           "legendgroup": "Spain",
           "marker": {
            "color": "#EF553B",
            "symbol": "circle"
           },
           "mode": "markers",
           "name": "Spain",
           "orientation": "v",
           "showlegend": true,
           "type": "scatter",
           "x": {
            "bdata": "ZmZmZmZm8j8=",
            "dtype": "f8"
           },
           "xaxis": "x",
           "y": {
            "bdata": "AAAAsGEKfUE=",
            "dtype": "f8"
           },
           "yaxis": "y"
          },
          {
           "hovertemplate": "Country Name=Sub-Saharan Africa<br>Year=1997<br>Tasa De Fertilidad (Hijos Por Mujer)=%{x}<br>Población Urbanizada=%{y}<extra></extra>",
           "legendgroup": "Sub-Saharan Africa",
           "marker": {
            "color": "#00cc96",
            "symbol": "circle"
           },
           "mode": "markers",
           "name": "Sub-Saharan Africa",
           "orientation": "v",
           "showlegend": true,
           "type": "scatter",
           "x": {
            "bdata": "cT0K16NwF0A=",
            "dtype": "f8"
           },
           "xaxis": "x",
           "y": {
            "bdata": "AAAAIuvCpkE=",
            "dtype": "f8"
           },
           "yaxis": "y"
          }
         ],
         "name": "1997"
        },
        {
         "data": [
          {
           "hovertemplate": "Country Name=Africa Eastern and Southern<br>Year=1998<br>Tasa De Fertilidad (Hijos Por Mujer)=%{x}<br>Población Urbanizada=%{y}<extra></extra>",
           "legendgroup": "Africa Eastern and Southern",
           "marker": {
            "color": "#636efa",
            "symbol": "circle"
           },
           "mode": "markers",
           "name": "Africa Eastern and Southern",
           "orientation": "v",
           "showlegend": true,
           "type": "scatter",
           "x": {
            "bdata": "mpmZmZmZFkA=",
            "dtype": "f8"
           },
           "xaxis": "x",
           "y": {
            "bdata": "AAAAyBj2mUE=",
            "dtype": "f8"
           },
           "yaxis": "y"
          },
          {
           "hovertemplate": "Country Name=Arab World<br>Year=1998<br>Tasa De Fertilidad (Hijos Por Mujer)=%{x}<br>Población Urbanizada=%{y}<extra></extra>",
           "legendgroup": "Arab World",
           "marker": {
            "color": "#EF553B",
            "symbol": "circle"
           },
           "mode": "markers",
           "name": "Arab World",
           "orientation": "v",
           "showlegend": true,
           "type": "scatter",
           "x": {
            "bdata": "SOF6FK5HEEA=",
            "dtype": "f8"
           },
           "xaxis": "x",
           "y": {
            "bdata": "AAAAHG3doEE=",
            "dtype": "f8"
           },
           "yaxis": "y"
          },
          {
           "hovertemplate": "Country Name=Central African Republic<br>Year=1998<br>Tasa De Fertilidad (Hijos Por Mujer)=%{x}<br>Población Urbanizada=%{y}<extra></extra>",
           "legendgroup": "Central African Republic",
           "marker": {
            "color": "#00cc96",
            "symbol": "circle"
           },
           "mode": "markers",
           "name": "Central African Republic",
           "orientation": "v",
           "showlegend": true,
           "type": "scatter",
           "x": {
            "bdata": "uB6F61G4F0A=",
            "dtype": "f8"
           },
           "xaxis": "x",
           "y": {
            "bdata": "AAAAAB/ANEE=",
            "dtype": "f8"
           },
           "yaxis": "y"
          },
          {
           "hovertemplate": "Country Name=East Asia & Pacific<br>Year=1998<br>Tasa De Fertilidad (Hijos Por Mujer)=%{x}<br>Población Urbanizada=%{y}<extra></extra>",
           "legendgroup": "East Asia & Pacific",
           "marker": {
            "color": "#ab63fa",
            "symbol": "circle"
           },
           "mode": "markers",
           "name": "East Asia & Pacific",
           "orientation": "v",
           "showlegend": true,
           "type": "scatter",
           "x": {
            "bdata": "SOF6FK5H/T8=",
            "dtype": "f8"
           },
           "xaxis": "x",
           "y": {
            "bdata": "AAAATOXjx0E=",
            "dtype": "f8"
           },
           "yaxis": "y"
          },
          {
           "hovertemplate": "Country Name=European Union<br>Year=1998<br>Tasa De Fertilidad (Hijos Por Mujer)=%{x}<br>Población Urbanizada=%{y}<extra></extra>",
           "legendgroup": "European Union",
           "marker": {
            "color": "#FFA15A",
            "symbol": "circle"
           },
           "mode": "markers",
           "name": "European Union",
           "orientation": "v",
           "showlegend": true,
           "type": "scatter",
           "x": {
            "bdata": "j8L1KFyP9j8=",
            "dtype": "f8"
           },
           "xaxis": "x",
           "y": {
            "bdata": "AAAADKX/sUE=",
            "dtype": "f8"
           },
           "yaxis": "y"
          },
          {
           "hovertemplate": "Country Name=Latin America & Caribbean<br>Year=1998<br>Tasa De Fertilidad (Hijos Por Mujer)=%{x}<br>Población Urbanizada=%{y}<extra></extra>",
           "legendgroup": "Latin America & Caribbean",
           "marker": {
            "color": "#19d3f3",
            "symbol": "circle"
           },
           "mode": "markers",
           "name": "Latin America & Caribbean",
           "orientation": "v",
           "showlegend": true,
           "type": "scatter",
           "x": {
            "bdata": "16NwPQrXBUA=",
            "dtype": "f8"
           },
           "xaxis": "x",
           "y": {
            "bdata": "AAAAKi9ztkE=",
            "dtype": "f8"
           },
           "yaxis": "y"
          },
          {
           "hovertemplate": "Country Name=Mexico<br>Year=1998<br>Tasa De Fertilidad (Hijos Por Mujer)=%{x}<br>Población Urbanizada=%{y}<extra></extra>",
           "legendgroup": "Mexico",
           "marker": {
            "color": "#FF6692",
            "symbol": "circle"
           },
           "mode": "markers",
           "name": "Mexico",
           "orientation": "v",
           "showlegend": true,
           "type": "scatter",
           "x": {
            "bdata": "ZmZmZmZmBkA=",
            "dtype": "f8"
           },
           "xaxis": "x",
           "y": {
            "bdata": "AAAAbJrnkEE=",
            "dtype": "f8"
           },
           "yaxis": "y"
          },
          {
           "hovertemplate": "Country Name=Middle East & North Africa<br>Year=1998<br>Tasa De Fertilidad (Hijos Por Mujer)=%{x}<br>Población Urbanizada=%{y}<extra></extra>",
           "legendgroup": "Middle East & North Africa",
           "marker": {
            "color": "#B6E880",
            "symbol": "circle"
           },
           "mode": "markers",
           "name": "Middle East & North Africa",
           "orientation": "v",
           "showlegend": true,
           "type": "scatter",
           "x": {
            "bdata": "XI/C9ShcC0A=",
            "dtype": "f8"
           },
           "xaxis": "x",
           "y": {
            "bdata": "AAAARK7mpEE=",
            "dtype": "f8"
           },
           "yaxis": "y"
          },
          {
           "hovertemplate": "Country Name=North America<br>Year=1998<br>Tasa De Fertilidad (Hijos Por Mujer)=%{x}<br>Población Urbanizada=%{y}<extra></extra>",
           "legendgroup": "North America",
           "marker": {
            "color": "#FF97FF",
            "symbol": "circle"
           },
           "mode": "markers",
           "name": "North America",
           "orientation": "v",
           "showlegend": true,
           "type": "scatter",
           "x": {
            "bdata": "MzMzMzMz/z8=",
            "dtype": "f8"
           },
           "xaxis": "x",
           "y": {
            "bdata": "AAAAjmecrEE=",
            "dtype": "f8"
           },
           "yaxis": "y"
          },
          {
           "hovertemplate": "Country Name=South Africa<br>Year=1998<br>Tasa De Fertilidad (Hijos Por Mujer)=%{x}<br>Población Urbanizada=%{y}<extra></extra>",
           "legendgroup": "South Africa",
           "marker": {
            "color": "#FECB52",
            "symbol": "circle"
           },
           "mode": "markers",
           "name": "South Africa",
           "orientation": "v",
           "showlegend": true,
           "type": "scatter",
           "x": {
            "bdata": "CtejcD0KBUA=",
            "dtype": "f8"
           },
           "xaxis": "x",
           "y": {
            "bdata": "AAAAgMWneEE=",
            "dtype": "f8"
           },
           "yaxis": "y"
          },
          {
           "hovertemplate": "Country Name=South Asia<br>Year=1998<br>Tasa De Fertilidad (Hijos Por Mujer)=%{x}<br>Población Urbanizada=%{y}<extra></extra>",
           "legendgroup": "South Asia",
           "marker": {
            "color": "#636efa",
            "symbol": "circle"
           },
           "mode": "markers",
           "name": "South Asia",
           "orientation": "v",
           "showlegend": true,
           "type": "scatter",
           "x": {
            "bdata": "hetRuB6FDUA=",
            "dtype": "f8"
           },
           "xaxis": "x",
           "y": {
            "bdata": "AAAAcuHJtUE=",
            "dtype": "f8"
           },
           "yaxis": "y"
          },
          {
           "hovertemplate": "Country Name=Spain<br>Year=1998<br>Tasa De Fertilidad (Hijos Por Mujer)=%{x}<br>Población Urbanizada=%{y}<extra></extra>",
           "legendgroup": "Spain",
           "marker": {
            "color": "#EF553B",
            "symbol": "circle"
           },
           "mode": "markers",
           "name": "Spain",
           "orientation": "v",
           "showlegend": true,
           "type": "scatter",
           "x": {
            "bdata": "FK5H4XoU8j8=",
            "dtype": "f8"
           },
           "xaxis": "x",
           "y": {
            "bdata": "AAAAoCoxfUE=",
            "dtype": "f8"
           },
           "yaxis": "y"
          },
          {
           "hovertemplate": "Country Name=Sub-Saharan Africa<br>Year=1998<br>Tasa De Fertilidad (Hijos Por Mujer)=%{x}<br>Población Urbanizada=%{y}<extra></extra>",
           "legendgroup": "Sub-Saharan Africa",
           "marker": {
            "color": "#00cc96",
            "symbol": "circle"
           },
           "mode": "markers",
           "name": "Sub-Saharan Africa",
           "orientation": "v",
           "showlegend": true,
           "type": "scatter",
           "x": {
            "bdata": "MzMzMzMzF0A=",
            "dtype": "f8"
           },
           "xaxis": "x",
           "y": {
            "bdata": "AAAAuHCnp0E=",
            "dtype": "f8"
           },
           "yaxis": "y"
          }
         ],
         "name": "1998"
        },
        {
         "data": [
          {
           "hovertemplate": "Country Name=Africa Eastern and Southern<br>Year=1999<br>Tasa De Fertilidad (Hijos Por Mujer)=%{x}<br>Población Urbanizada=%{y}<extra></extra>",
           "legendgroup": "Africa Eastern and Southern",
           "marker": {
            "color": "#636efa",
            "symbol": "circle"
           },
           "mode": "markers",
           "name": "Africa Eastern and Southern",
           "orientation": "v",
           "showlegend": true,
           "type": "scatter",
           "x": {
            "bdata": "XI/C9ShcFkA=",
            "dtype": "f8"
           },
           "xaxis": "x",
           "y": {
            "bdata": "AAAAWArsmkE=",
            "dtype": "f8"
           },
           "yaxis": "y"
          },
          {
           "hovertemplate": "Country Name=Arab World<br>Year=1999<br>Tasa De Fertilidad (Hijos Por Mujer)=%{x}<br>Población Urbanizada=%{y}<extra></extra>",
           "legendgroup": "Arab World",
           "marker": {
            "color": "#EF553B",
            "symbol": "circle"
           },
           "mode": "markers",
           "name": "Arab World",
           "orientation": "v",
           "showlegend": true,
           "type": "scatter",
           "x": {
            "bdata": "w/UoXI/CD0A=",
            "dtype": "f8"
           },
           "xaxis": "x",
           "y": {
            "bdata": "AAAACrNboUE=",
            "dtype": "f8"
           },
           "yaxis": "y"
          },
          {
           "hovertemplate": "Country Name=Central African Republic<br>Year=1999<br>Tasa De Fertilidad (Hijos Por Mujer)=%{x}<br>Población Urbanizada=%{y}<extra></extra>",
           "legendgroup": "Central African Republic",
           "marker": {
            "color": "#00cc96",
            "symbol": "circle"
           },
           "mode": "markers",
           "name": "Central African Republic",
           "orientation": "v",
           "showlegend": true,
           "type": "scatter",
           "x": {
            "bdata": "uB6F61G4F0A=",
            "dtype": "f8"
           },
           "xaxis": "x",
           "y": {
            "bdata": "AAAAAF5fNUE=",
            "dtype": "f8"
           },
           "yaxis": "y"
          },
          {
           "hovertemplate": "Country Name=East Asia & Pacific<br>Year=1999<br>Tasa De Fertilidad (Hijos Por Mujer)=%{x}<br>Población Urbanizada=%{y}<extra></extra>",
           "legendgroup": "East Asia & Pacific",
           "marker": {
            "color": "#ab63fa",
            "symbol": "circle"
           },
           "mode": "markers",
           "name": "East Asia & Pacific",
           "orientation": "v",
           "showlegend": true,
           "type": "scatter",
           "x": {
            "bdata": "9ihcj8L1/D8=",
            "dtype": "f8"
           },
           "xaxis": "x",
           "y": {
            "bdata": "AAAAfBObyEE=",
            "dtype": "f8"
           },
           "yaxis": "y"
          },
          {
           "hovertemplate": "Country Name=European Union<br>Year=1999<br>Tasa De Fertilidad (Hijos Por Mujer)=%{x}<br>Población Urbanizada=%{y}<extra></extra>",
           "legendgroup": "European Union",
           "marker": {
            "color": "#FFA15A",
            "symbol": "circle"
           },
           "mode": "markers",
           "name": "European Union",
           "orientation": "v",
           "showlegend": true,
           "type": "scatter",
           "x": {
            "bdata": "j8L1KFyP9j8=",
            "dtype": "f8"
           },
           "xaxis": "x",
           "y": {
            "bdata": "AAAAKy4QskE=",
            "dtype": "f8"
           },
           "yaxis": "y"
          },
          {
           "hovertemplate": "Country Name=Latin America & Caribbean<br>Year=1999<br>Tasa De Fertilidad (Hijos Por Mujer)=%{x}<br>Población Urbanizada=%{y}<extra></extra>",
           "legendgroup": "Latin America & Caribbean",
           "marker": {
            "color": "#19d3f3",
            "symbol": "circle"
           },
           "mode": "markers",
           "name": "Latin America & Caribbean",
           "orientation": "v",
           "showlegend": true,
           "type": "scatter",
           "x": {
            "bdata": "XI/C9ShcBUA=",
            "dtype": "f8"
           },
           "xaxis": "x",
           "y": {
            "bdata": "AAAAESHvtkE=",
            "dtype": "f8"
           },
           "yaxis": "y"
          },
          {
           "hovertemplate": "Country Name=Mexico<br>Year=1999<br>Tasa De Fertilidad (Hijos Por Mujer)=%{x}<br>Población Urbanizada=%{y}<extra></extra>",
           "legendgroup": "Mexico",
           "marker": {
            "color": "#FF6692",
            "symbol": "circle"
           },
           "mode": "markers",
           "name": "Mexico",
           "orientation": "v",
           "showlegend": true,
           "type": "scatter",
           "x": {
            "bdata": "KVyPwvUoBkA=",
            "dtype": "f8"
           },
           "xaxis": "x",
           "y": {
            "bdata": "AAAAPHg8kUE=",
            "dtype": "f8"
           },
           "yaxis": "y"
          },
          {
           "hovertemplate": "Country Name=Middle East & North Africa<br>Year=1999<br>Tasa De Fertilidad (Hijos Por Mujer)=%{x}<br>Población Urbanizada=%{y}<extra></extra>",
           "legendgroup": "Middle East & North Africa",
           "marker": {
            "color": "#B6E880",
            "symbol": "circle"
           },
           "mode": "markers",
           "name": "Middle East & North Africa",
           "orientation": "v",
           "showlegend": true,
           "type": "scatter",
           "x": {
            "bdata": "j8L1KFyPCkA=",
            "dtype": "f8"
           },
           "xaxis": "x",
           "y": {
            "bdata": "AAAADpd9pUE=",
            "dtype": "f8"
           },
           "yaxis": "y"
          },
          {
           "hovertemplate": "Country Name=North America<br>Year=1999<br>Tasa De Fertilidad (Hijos Por Mujer)=%{x}<br>Población Urbanizada=%{y}<extra></extra>",
           "legendgroup": "North America",
           "marker": {
            "color": "#FF97FF",
            "symbol": "circle"
           },
           "mode": "markers",
           "name": "North America",
           "orientation": "v",
           "showlegend": true,
           "type": "scatter",
           "x": {
            "bdata": "XI/C9Shc/z8=",
            "dtype": "f8"
           },
           "xaxis": "x",
           "y": {
            "bdata": "AAAAtCIRrUE=",
            "dtype": "f8"
           },
           "yaxis": "y"
          },
          {
           "hovertemplate": "Country Name=South Africa<br>Year=1999<br>Tasa De Fertilidad (Hijos Por Mujer)=%{x}<br>Población Urbanizada=%{y}<extra></extra>",
           "legendgroup": "South Africa",
           "marker": {
            "color": "#FECB52",
            "symbol": "circle"
           },
           "mode": "markers",
           "name": "South Africa",
           "orientation": "v",
           "showlegend": true,
           "type": "scatter",
           "x": {
            "bdata": "exSuR+F6BEA=",
            "dtype": "f8"
           },
           "xaxis": "x",
           "y": {
            "bdata": "AAAAkM0jeUE=",
            "dtype": "f8"
           },
           "yaxis": "y"
          },
          {
           "hovertemplate": "Country Name=South Asia<br>Year=1999<br>Tasa De Fertilidad (Hijos Por Mujer)=%{x}<br>Población Urbanizada=%{y}<extra></extra>",
           "legendgroup": "South Asia",
           "marker": {
            "color": "#636efa",
            "symbol": "circle"
           },
           "mode": "markers",
           "name": "South Asia",
           "orientation": "v",
           "showlegend": true,
           "type": "scatter",
           "x": {
            "bdata": "9ihcj8L1DEA=",
            "dtype": "f8"
           },
           "xaxis": "x",
           "y": {
            "bdata": "AAAArYtstkE=",
            "dtype": "f8"
           },
           "yaxis": "y"
          },
          {
           "hovertemplate": "Country Name=Spain<br>Year=1999<br>Tasa De Fertilidad (Hijos Por Mujer)=%{x}<br>Población Urbanizada=%{y}<extra></extra>",
           "legendgroup": "Spain",
           "marker": {
            "color": "#EF553B",
            "symbol": "circle"
           },
           "mode": "markers",
           "name": "Spain",
           "orientation": "v",
           "showlegend": true,
           "type": "scatter",
           "x": {
            "bdata": "uB6F61G48j8=",
            "dtype": "f8"
           },
           "xaxis": "x",
           "y": {
            "bdata": "AAAAUIFXfUE=",
            "dtype": "f8"
           },
           "yaxis": "y"
          },
          {
           "hovertemplate": "Country Name=Sub-Saharan Africa<br>Year=1999<br>Tasa De Fertilidad (Hijos Por Mujer)=%{x}<br>Población Urbanizada=%{y}<extra></extra>",
           "legendgroup": "Sub-Saharan Africa",
           "marker": {
            "color": "#00cc96",
            "symbol": "circle"
           },
           "mode": "markers",
           "name": "Sub-Saharan Africa",
           "orientation": "v",
           "showlegend": true,
           "type": "scatter",
           "x": {
            "bdata": "CtejcD0KF0A=",
            "dtype": "f8"
           },
           "xaxis": "x",
           "y": {
            "bdata": "AAAAjoiUqEE=",
            "dtype": "f8"
           },
           "yaxis": "y"
          }
         ],
         "name": "1999"
        },
        {
         "data": [
          {
           "hovertemplate": "Country Name=Africa Eastern and Southern<br>Year=2000<br>Tasa De Fertilidad (Hijos Por Mujer)=%{x}<br>Población Urbanizada=%{y}<extra></extra>",
           "legendgroup": "Africa Eastern and Southern",
           "marker": {
            "color": "#636efa",
            "symbol": "circle"
           },
           "mode": "markers",
           "name": "Africa Eastern and Southern",
           "orientation": "v",
           "showlegend": true,
           "type": "scatter",
           "x": {
            "bdata": "FK5H4XoUFkA=",
            "dtype": "f8"
           },
           "xaxis": "x",
           "y": {
            "bdata": "AAAA3Mjmm0E=",
            "dtype": "f8"
           },
           "yaxis": "y"
          },
          {
           "hovertemplate": "Country Name=Arab World<br>Year=2000<br>Tasa De Fertilidad (Hijos Por Mujer)=%{x}<br>Población Urbanizada=%{y}<extra></extra>",
           "legendgroup": "Arab World",
           "marker": {
            "color": "#EF553B",
            "symbol": "circle"
           },
           "mode": "markers",
           "name": "Arab World",
           "orientation": "v",
           "showlegend": true,
           "type": "scatter",
           "x": {
            "bdata": "H4XrUbgeD0A=",
            "dtype": "f8"
           },
           "xaxis": "x",
           "y": {
            "bdata": "AAAAvs3foUE=",
            "dtype": "f8"
           },
           "yaxis": "y"
          },
          {
           "hovertemplate": "Country Name=Central African Republic<br>Year=2000<br>Tasa De Fertilidad (Hijos Por Mujer)=%{x}<br>Población Urbanizada=%{y}<extra></extra>",
           "legendgroup": "Central African Republic",
           "marker": {
            "color": "#00cc96",
            "symbol": "circle"
           },
           "mode": "markers",
           "name": "Central African Republic",
           "orientation": "v",
           "showlegend": true,
           "type": "scatter",
           "x": {
            "bdata": "rkfhehSuF0A=",
            "dtype": "f8"
           },
           "xaxis": "x",
           "y": {
            "bdata": "AAAAACsENkE=",
            "dtype": "f8"
           },
           "yaxis": "y"
          },
          {
           "hovertemplate": "Country Name=East Asia & Pacific<br>Year=2000<br>Tasa De Fertilidad (Hijos Por Mujer)=%{x}<br>Población Urbanizada=%{y}<extra></extra>",
           "legendgroup": "East Asia & Pacific",
           "marker": {
            "color": "#ab63fa",
            "symbol": "circle"
           },
           "mode": "markers",
           "name": "East Asia & Pacific",
           "orientation": "v",
           "showlegend": true,
           "type": "scatter",
           "x": {
            "bdata": "7FG4HoXr/T8=",
            "dtype": "f8"
           },
           "xaxis": "x",
           "y": {
            "bdata": "AAAAJBZVyUE=",
            "dtype": "f8"
           },
           "yaxis": "y"
          },
          {
           "hovertemplate": "Country Name=European Union<br>Year=2000<br>Tasa De Fertilidad (Hijos Por Mujer)=%{x}<br>Población Urbanizada=%{y}<extra></extra>",
           "legendgroup": "European Union",
           "marker": {
            "color": "#FFA15A",
            "symbol": "circle"
           },
           "mode": "markers",
           "name": "European Union",
           "orientation": "v",
           "showlegend": true,
           "type": "scatter",
           "x": {
            "bdata": "CtejcD0K9z8=",
            "dtype": "f8"
           },
           "xaxis": "x",
           "y": {
            "bdata": "AAAAK+8fskE=",
            "dtype": "f8"
           },
           "yaxis": "y"
          },
          {
           "hovertemplate": "Country Name=Latin America & Caribbean<br>Year=2000<br>Tasa De Fertilidad (Hijos Por Mujer)=%{x}<br>Población Urbanizada=%{y}<extra></extra>",
           "legendgroup": "Latin America & Caribbean",
           "marker": {
            "color": "#19d3f3",
            "symbol": "circle"
           },
           "mode": "markers",
           "name": "Latin America & Caribbean",
           "orientation": "v",
           "showlegend": true,
           "type": "scatter",
           "x": {
            "bdata": "4XoUrkfhBEA=",
            "dtype": "f8"
           },
           "xaxis": "x",
           "y": {
            "bdata": "AAAAEhNpt0E=",
            "dtype": "f8"
           },
           "yaxis": "y"
          },
          {
           "hovertemplate": "Country Name=Mexico<br>Year=2000<br>Tasa De Fertilidad (Hijos Por Mujer)=%{x}<br>Población Urbanizada=%{y}<extra></extra>",
           "legendgroup": "Mexico",
           "marker": {
            "color": "#FF6692",
            "symbol": "circle"
           },
           "mode": "markers",
           "name": "Mexico",
           "orientation": "v",
           "showlegend": true,
           "type": "scatter",
           "x": {
            "bdata": "w/UoXI/CBUA=",
            "dtype": "f8"
           },
           "xaxis": "x",
           "y": {
            "bdata": "AAAAJPyRkUE=",
            "dtype": "f8"
           },
           "yaxis": "y"
          },
          {
           "hovertemplate": "Country Name=Middle East & North Africa<br>Year=2000<br>Tasa De Fertilidad (Hijos Por Mujer)=%{x}<br>Población Urbanizada=%{y}<extra></extra>",
           "legendgroup": "Middle East & North Africa",
           "marker": {
            "color": "#B6E880",
            "symbol": "circle"
           },
           "mode": "markers",
           "name": "Middle East & North Africa",
           "orientation": "v",
           "showlegend": true,
           "type": "scatter",
           "x": {
            "bdata": "16NwPQrXCUA=",
            "dtype": "f8"
           },
           "xaxis": "x",
           "y": {
            "bdata": "AAAA1m0bpkE=",
            "dtype": "f8"
           },
           "yaxis": "y"
          },
          {
           "hovertemplate": "Country Name=North America<br>Year=2000<br>Tasa De Fertilidad (Hijos Por Mujer)=%{x}<br>Población Urbanizada=%{y}<extra></extra>",
           "legendgroup": "North America",
           "marker": {
            "color": "#FF97FF",
            "symbol": "circle"
           },
           "mode": "markers",
           "name": "North America",
           "orientation": "v",
           "showlegend": true,
           "type": "scatter",
           "x": {
            "bdata": "AAAAAAAAAEA=",
            "dtype": "f8"
           },
           "xaxis": "x",
           "y": {
            "bdata": "AAAA5q6BrUE=",
            "dtype": "f8"
           },
           "yaxis": "y"
          },
          {
           "hovertemplate": "Country Name=South Africa<br>Year=2000<br>Tasa De Fertilidad (Hijos Por Mujer)=%{x}<br>Población Urbanizada=%{y}<extra></extra>",
           "legendgroup": "South Africa",
           "marker": {
            "color": "#FECB52",
            "symbol": "circle"
           },
           "mode": "markers",
           "name": "South Africa",
           "orientation": "v",
           "showlegend": true,
           "type": "scatter",
           "x": {
            "bdata": "SOF6FK5HA0A=",
            "dtype": "f8"
           },
           "xaxis": "x",
           "y": {
            "bdata": "AAAAQDSWeUE=",
            "dtype": "f8"
           },
           "yaxis": "y"
          },
          {
           "hovertemplate": "Country Name=South Asia<br>Year=2000<br>Tasa De Fertilidad (Hijos Por Mujer)=%{x}<br>Población Urbanizada=%{y}<extra></extra>",
           "legendgroup": "South Asia",
           "marker": {
            "color": "#636efa",
            "symbol": "circle"
           },
           "mode": "markers",
           "name": "South Asia",
           "orientation": "v",
           "showlegend": true,
           "type": "scatter",
           "x": {
            "bdata": "j8L1KFyPDEA=",
            "dtype": "f8"
           },
           "xaxis": "x",
           "y": {
            "bdata": "AAAAWooRt0E=",
            "dtype": "f8"
           },
           "yaxis": "y"
          },
          {
           "hovertemplate": "Country Name=Spain<br>Year=2000<br>Tasa De Fertilidad (Hijos Por Mujer)=%{x}<br>Población Urbanizada=%{y}<extra></extra>",
           "legendgroup": "Spain",
           "marker": {
            "color": "#EF553B",
            "symbol": "circle"
           },
           "mode": "markers",
           "name": "Spain",
           "orientation": "v",
           "showlegend": true,
           "type": "scatter",
           "x": {
            "bdata": "hetRuB6F8z8=",
            "dtype": "f8"
           },
           "xaxis": "x",
           "y": {
            "bdata": "AAAAgDCBfUE=",
            "dtype": "f8"
           },
           "yaxis": "y"
          },
          {
           "hovertemplate": "Country Name=Sub-Saharan Africa<br>Year=2000<br>Tasa De Fertilidad (Hijos Por Mujer)=%{x}<br>Población Urbanizada=%{y}<extra></extra>",
           "legendgroup": "Sub-Saharan Africa",
           "marker": {
            "color": "#00cc96",
            "symbol": "circle"
           },
           "mode": "markers",
           "name": "Sub-Saharan Africa",
           "orientation": "v",
           "showlegend": true,
           "type": "scatter",
           "x": {
            "bdata": "4XoUrkfhFkA=",
            "dtype": "f8"
           },
           "xaxis": "x",
           "y": {
            "bdata": "AAAAmguJqUE=",
            "dtype": "f8"
           },
           "yaxis": "y"
          }
         ],
         "name": "2000"
        },
        {
         "data": [
          {
           "hovertemplate": "Country Name=Africa Eastern and Southern<br>Year=2001<br>Tasa De Fertilidad (Hijos Por Mujer)=%{x}<br>Población Urbanizada=%{y}<extra></extra>",
           "legendgroup": "Africa Eastern and Southern",
           "marker": {
            "color": "#636efa",
            "symbol": "circle"
           },
           "mode": "markers",
           "name": "Africa Eastern and Southern",
           "orientation": "v",
           "showlegend": true,
           "type": "scatter",
           "x": {
            "bdata": "7FG4HoXrFUA=",
            "dtype": "f8"
           },
           "xaxis": "x",
           "y": {
            "bdata": "AAAARJHtnEE=",
            "dtype": "f8"
           },
           "yaxis": "y"
          },
          {
           "hovertemplate": "Country Name=Arab World<br>Year=2001<br>Tasa De Fertilidad (Hijos Por Mujer)=%{x}<br>Población Urbanizada=%{y}<extra></extra>",
           "legendgroup": "Arab World",
           "marker": {
            "color": "#EF553B",
            "symbol": "circle"
           },
           "mode": "markers",
           "name": "Arab World",
           "orientation": "v",
           "showlegend": true,
           "type": "scatter",
           "x": {
            "bdata": "j8L1KFyPDkA=",
            "dtype": "f8"
           },
           "xaxis": "x",
           "y": {
            "bdata": "AAAAbhJqokE=",
            "dtype": "f8"
           },
           "yaxis": "y"
          },
          {
           "hovertemplate": "Country Name=Central African Republic<br>Year=2001<br>Tasa De Fertilidad (Hijos Por Mujer)=%{x}<br>Población Urbanizada=%{y}<extra></extra>",
           "legendgroup": "Central African Republic",
           "marker": {
            "color": "#00cc96",
            "symbol": "circle"
           },
           "mode": "markers",
           "name": "Central African Republic",
           "orientation": "v",
           "showlegend": true,
           "type": "scatter",
           "x": {
            "bdata": "ZmZmZmZmF0A=",
            "dtype": "f8"
           },
           "xaxis": "x",
           "y": {
            "bdata": "AAAAAB6PNkE=",
            "dtype": "f8"
           },
           "yaxis": "y"
          },
          {
           "hovertemplate": "Country Name=East Asia & Pacific<br>Year=2001<br>Tasa De Fertilidad (Hijos Por Mujer)=%{x}<br>Población Urbanizada=%{y}<extra></extra>",
           "legendgroup": "East Asia & Pacific",
           "marker": {
            "color": "#ab63fa",
            "symbol": "circle"
           },
           "mode": "markers",
           "name": "East Asia & Pacific",
           "orientation": "v",
           "showlegend": true,
           "type": "scatter",
           "x": {
            "bdata": "9ihcj8L1/D8=",
            "dtype": "f8"
           },
           "xaxis": "x",
           "y": {
            "bdata": "AACAyv8rykE=",
            "dtype": "f8"
           },
           "yaxis": "y"
          },
          {
           "hovertemplate": "Country Name=European Union<br>Year=2001<br>Tasa De Fertilidad (Hijos Por Mujer)=%{x}<br>Población Urbanizada=%{y}<extra></extra>",
           "legendgroup": "European Union",
           "marker": {
            "color": "#FFA15A",
            "symbol": "circle"
           },
           "mode": "markers",
           "name": "European Union",
           "orientation": "v",
           "showlegend": true,
           "type": "scatter",
           "x": {
            "bdata": "uB6F61G49j8=",
            "dtype": "f8"
           },
           "xaxis": "x",
           "y": {
            "bdata": "AAAA5kwyskE=",
            "dtype": "f8"
           },
           "yaxis": "y"
          },
          {
           "hovertemplate": "Country Name=Latin America & Caribbean<br>Year=2001<br>Tasa De Fertilidad (Hijos Por Mujer)=%{x}<br>Población Urbanizada=%{y}<extra></extra>",
           "legendgroup": "Latin America & Caribbean",
           "marker": {
            "color": "#19d3f3",
            "symbol": "circle"
           },
           "mode": "markers",
           "name": "Latin America & Caribbean",
           "orientation": "v",
           "showlegend": true,
           "type": "scatter",
           "x": {
            "bdata": "ZmZmZmZmBEA=",
            "dtype": "f8"
           },
           "xaxis": "x",
           "y": {
            "bdata": "AAAANgjat0E=",
            "dtype": "f8"
           },
           "yaxis": "y"
          },
          {
           "hovertemplate": "Country Name=Mexico<br>Year=2001<br>Tasa De Fertilidad (Hijos Por Mujer)=%{x}<br>Población Urbanizada=%{y}<extra></extra>",
           "legendgroup": "Mexico",
           "marker": {
            "color": "#FF6692",
            "symbol": "circle"
           },
           "mode": "markers",
           "name": "Mexico",
           "orientation": "v",
           "showlegend": true,
           "type": "scatter",
           "x": {
            "bdata": "XI/C9ShcBUA=",
            "dtype": "f8"
           },
           "xaxis": "x",
           "y": {
            "bdata": "AAAAJOzokUE=",
            "dtype": "f8"
           },
           "yaxis": "y"
          },
          {
           "hovertemplate": "Country Name=Middle East & North Africa<br>Year=2001<br>Tasa De Fertilidad (Hijos Por Mujer)=%{x}<br>Población Urbanizada=%{y}<extra></extra>",
           "legendgroup": "Middle East & North Africa",
           "marker": {
            "color": "#B6E880",
            "symbol": "circle"
           },
           "mode": "markers",
           "name": "Middle East & North Africa",
           "orientation": "v",
           "showlegend": true,
           "type": "scatter",
           "x": {
            "bdata": "SOF6FK5HCUA=",
            "dtype": "f8"
           },
           "xaxis": "x",
           "y": {
            "bdata": "AAAA5q2/pkE=",
            "dtype": "f8"
           },
           "yaxis": "y"
          },
          {
           "hovertemplate": "Country Name=North America<br>Year=2001<br>Tasa De Fertilidad (Hijos Por Mujer)=%{x}<br>Población Urbanizada=%{y}<extra></extra>",
           "legendgroup": "North America",
           "marker": {
            "color": "#FF97FF",
            "symbol": "circle"
           },
           "mode": "markers",
           "name": "North America",
           "orientation": "v",
           "showlegend": true,
           "type": "scatter",
           "x": {
            "bdata": "rkfhehSu/z8=",
            "dtype": "f8"
           },
           "xaxis": "x",
           "y": {
            "bdata": "AAAAkhHgrUE=",
            "dtype": "f8"
           },
           "yaxis": "y"
          },
          {
           "hovertemplate": "Country Name=South Africa<br>Year=2001<br>Tasa De Fertilidad (Hijos Por Mujer)=%{x}<br>Población Urbanizada=%{y}<extra></extra>",
           "legendgroup": "South Africa",
           "marker": {
            "color": "#FECB52",
            "symbol": "circle"
           },
           "mode": "markers",
           "name": "South Africa",
           "orientation": "v",
           "showlegend": true,
           "type": "scatter",
           "x": {
            "bdata": "9ihcj8L1AkA=",
            "dtype": "f8"
           },
           "xaxis": "x",
           "y": {
            "bdata": "AAAAoCMGekE=",
            "dtype": "f8"
           },
           "yaxis": "y"
          },
          {
           "hovertemplate": "Country Name=South Asia<br>Year=2001<br>Tasa De Fertilidad (Hijos Por Mujer)=%{x}<br>Población Urbanizada=%{y}<extra></extra>",
           "legendgroup": "South Asia",
           "marker": {
            "color": "#636efa",
            "symbol": "circle"
           },
           "mode": "markers",
           "name": "South Asia",
           "orientation": "v",
           "showlegend": true,
           "type": "scatter",
           "x": {
            "bdata": "FK5H4XoUDEA=",
            "dtype": "f8"
           },
           "xaxis": "x",
           "y": {
            "bdata": "AAAASIbBt0E=",
            "dtype": "f8"
           },
           "yaxis": "y"
          },
          {
           "hovertemplate": "Country Name=Spain<br>Year=2001<br>Tasa De Fertilidad (Hijos Por Mujer)=%{x}<br>Población Urbanizada=%{y}<extra></extra>",
           "legendgroup": "Spain",
           "marker": {
            "color": "#EF553B",
            "symbol": "circle"
           },
           "mode": "markers",
           "name": "Spain",
           "orientation": "v",
           "showlegend": true,
           "type": "scatter",
           "x": {
            "bdata": "rkfhehSu8z8=",
            "dtype": "f8"
           },
           "xaxis": "x",
           "y": {
            "bdata": "AAAA4N+9fUE=",
            "dtype": "f8"
           },
           "yaxis": "y"
          },
          {
           "hovertemplate": "Country Name=Sub-Saharan Africa<br>Year=2001<br>Tasa De Fertilidad (Hijos Por Mujer)=%{x}<br>Población Urbanizada=%{y}<extra></extra>",
           "legendgroup": "Sub-Saharan Africa",
           "marker": {
            "color": "#00cc96",
            "symbol": "circle"
           },
           "mode": "markers",
           "name": "Sub-Saharan Africa",
           "orientation": "v",
           "showlegend": true,
           "type": "scatter",
           "x": {
            "bdata": "w/UoXI/CFkA=",
            "dtype": "f8"
           },
           "xaxis": "x",
           "y": {
            "bdata": "AAAApkeVqkE=",
            "dtype": "f8"
           },
           "yaxis": "y"
          }
         ],
         "name": "2001"
        },
        {
         "data": [
          {
           "hovertemplate": "Country Name=Africa Eastern and Southern<br>Year=2002<br>Tasa De Fertilidad (Hijos Por Mujer)=%{x}<br>Población Urbanizada=%{y}<extra></extra>",
           "legendgroup": "Africa Eastern and Southern",
           "marker": {
            "color": "#636efa",
            "symbol": "circle"
           },
           "mode": "markers",
           "name": "Africa Eastern and Southern",
           "orientation": "v",
           "showlegend": true,
           "type": "scatter",
           "x": {
            "bdata": "uB6F61G4FUA=",
            "dtype": "f8"
           },
           "xaxis": "x",
           "y": {
            "bdata": "AAAAvDADnkE=",
            "dtype": "f8"
           },
           "yaxis": "y"
          },
          {
           "hovertemplate": "Country Name=Arab World<br>Year=2002<br>Tasa De Fertilidad (Hijos Por Mujer)=%{x}<br>Población Urbanizada=%{y}<extra></extra>",
           "legendgroup": "Arab World",
           "marker": {
            "color": "#EF553B",
            "symbol": "circle"
           },
           "mode": "markers",
           "name": "Arab World",
           "orientation": "v",
           "showlegend": true,
           "type": "scatter",
           "x": {
            "bdata": "7FG4HoXrDUA=",
            "dtype": "f8"
           },
           "xaxis": "x",
           "y": {
            "bdata": "AAAA4sb2okE=",
            "dtype": "f8"
           },
           "yaxis": "y"
          },
          {
           "hovertemplate": "Country Name=Central African Republic<br>Year=2002<br>Tasa De Fertilidad (Hijos Por Mujer)=%{x}<br>Población Urbanizada=%{y}<extra></extra>",
           "legendgroup": "Central African Republic",
           "marker": {
            "color": "#00cc96",
            "symbol": "circle"
           },
           "mode": "markers",
           "name": "Central African Republic",
           "orientation": "v",
           "showlegend": true,
           "type": "scatter",
           "x": {
            "bdata": "XI/C9ShcF0A=",
            "dtype": "f8"
           },
           "xaxis": "x",
           "y": {
            "bdata": "AAAAAIkbN0E=",
            "dtype": "f8"
           },
           "yaxis": "y"
          },
          {
           "hovertemplate": "Country Name=East Asia & Pacific<br>Year=2002<br>Tasa De Fertilidad (Hijos Por Mujer)=%{x}<br>Población Urbanizada=%{y}<extra></extra>",
           "legendgroup": "East Asia & Pacific",
           "marker": {
            "color": "#ab63fa",
            "symbol": "circle"
           },
           "mode": "markers",
           "name": "East Asia & Pacific",
           "orientation": "v",
           "showlegend": true,
           "type": "scatter",
           "x": {
            "bdata": "zczMzMzM/D8=",
            "dtype": "f8"
           },
           "xaxis": "x",
           "y": {
            "bdata": "AAAApLkQy0E=",
            "dtype": "f8"
           },
           "yaxis": "y"
          },
          {
           "hovertemplate": "Country Name=European Union<br>Year=2002<br>Tasa De Fertilidad (Hijos Por Mujer)=%{x}<br>Población Urbanizada=%{y}<extra></extra>",
           "legendgroup": "European Union",
           "marker": {
            "color": "#FFA15A",
            "symbol": "circle"
           },
           "mode": "markers",
           "name": "European Union",
           "orientation": "v",
           "showlegend": true,
           "type": "scatter",
           "x": {
            "bdata": "uB6F61G49j8=",
            "dtype": "f8"
           },
           "xaxis": "x",
           "y": {
            "bdata": "AAAAof5LskE=",
            "dtype": "f8"
           },
           "yaxis": "y"
          },
          {
           "hovertemplate": "Country Name=Latin America & Caribbean<br>Year=2002<br>Tasa De Fertilidad (Hijos Por Mujer)=%{x}<br>Población Urbanizada=%{y}<extra></extra>",
           "legendgroup": "Latin America & Caribbean",
           "marker": {
            "color": "#19d3f3",
            "symbol": "circle"
           },
           "mode": "markers",
           "name": "Latin America & Caribbean",
           "orientation": "v",
           "showlegend": true,
           "type": "scatter",
           "x": {
            "bdata": "16NwPQrXA0A=",
            "dtype": "f8"
           },
           "xaxis": "x",
           "y": {
            "bdata": "AAAArTxHuEE=",
            "dtype": "f8"
           },
           "yaxis": "y"
          },
          {
           "hovertemplate": "Country Name=Mexico<br>Year=2002<br>Tasa De Fertilidad (Hijos Por Mujer)=%{x}<br>Población Urbanizada=%{y}<extra></extra>",
           "legendgroup": "Mexico",
           "marker": {
            "color": "#FF6692",
            "symbol": "circle"
           },
           "mode": "markers",
           "name": "Mexico",
           "orientation": "v",
           "showlegend": true,
           "type": "scatter",
           "x": {
            "bdata": "9ihcj8L1BEA=",
            "dtype": "f8"
           },
           "xaxis": "x",
           "y": {
            "bdata": "AAAAYCY/kkE=",
            "dtype": "f8"
           },
           "yaxis": "y"
          },
          {
           "hovertemplate": "Country Name=Middle East & North Africa<br>Year=2002<br>Tasa De Fertilidad (Hijos Por Mujer)=%{x}<br>Población Urbanizada=%{y}<extra></extra>",
           "legendgroup": "Middle East & North Africa",
           "marker": {
            "color": "#B6E880",
            "symbol": "circle"
           },
           "mode": "markers",
           "name": "Middle East & North Africa",
           "orientation": "v",
           "showlegend": true,
           "type": "scatter",
           "x": {
            "bdata": "pHA9CtejCEA=",
            "dtype": "f8"
           },
           "xaxis": "x",
           "y": {
            "bdata": "AAAAGE5cp0E=",
            "dtype": "f8"
           },
           "yaxis": "y"
          },
          {
           "hovertemplate": "Country Name=North America<br>Year=2002<br>Tasa De Fertilidad (Hijos Por Mujer)=%{x}<br>Población Urbanizada=%{y}<extra></extra>",
           "legendgroup": "North America",
           "marker": {
            "color": "#FF97FF",
            "symbol": "circle"
           },
           "mode": "markers",
           "name": "North America",
           "orientation": "v",
           "showlegend": true,
           "type": "scatter",
           "x": {
            "bdata": "hetRuB6F/z8=",
            "dtype": "f8"
           },
           "xaxis": "x",
           "y": {
            "bdata": "AAAAWqc4rkE=",
            "dtype": "f8"
           },
           "yaxis": "y"
          },
          {
           "hovertemplate": "Country Name=South Africa<br>Year=2002<br>Tasa De Fertilidad (Hijos Por Mujer)=%{x}<br>Población Urbanizada=%{y}<extra></extra>",
           "legendgroup": "South Africa",
           "marker": {
            "color": "#FECB52",
            "symbol": "circle"
           },
           "mode": "markers",
           "name": "South Africa",
           "orientation": "v",
           "showlegend": true,
           "type": "scatter",
           "x": {
            "bdata": "j8L1KFyPAkA=",
            "dtype": "f8"
           },
           "xaxis": "x",
           "y": {
            "bdata": "AAAAkKqDekE=",
            "dtype": "f8"
           },
           "yaxis": "y"
          },
          {
           "hovertemplate": "Country Name=South Asia<br>Year=2002<br>Tasa De Fertilidad (Hijos Por Mujer)=%{x}<br>Población Urbanizada=%{y}<extra></extra>",
           "legendgroup": "South Asia",
           "marker": {
            "color": "#636efa",
            "symbol": "circle"
           },
           "mode": "markers",
           "name": "South Asia",
           "orientation": "v",
           "showlegend": true,
           "type": "scatter",
           "x": {
            "bdata": "cT0K16NwC0A=",
            "dtype": "f8"
           },
           "xaxis": "x",
           "y": {
            "bdata": "AAAAoo+BuEE=",
            "dtype": "f8"
           },
           "yaxis": "y"
          },
          {
           "hovertemplate": "Country Name=Spain<br>Year=2002<br>Tasa De Fertilidad (Hijos Por Mujer)=%{x}<br>Población Urbanizada=%{y}<extra></extra>",
           "legendgroup": "Spain",
           "marker": {
            "color": "#EF553B",
            "symbol": "circle"
           },
           "mode": "markers",
           "name": "Spain",
           "orientation": "v",
           "showlegend": true,
           "type": "scatter",
           "x": {
            "bdata": "AAAAAAAA9D8=",
            "dtype": "f8"
           },
           "xaxis": "x",
           "y": {
            "bdata": "AAAA4Gg9fkE=",
            "dtype": "f8"
           },
           "yaxis": "y"
          },
          {
           "hovertemplate": "Country Name=Sub-Saharan Africa<br>Year=2002<br>Tasa De Fertilidad (Hijos Por Mujer)=%{x}<br>Población Urbanizada=%{y}<extra></extra>",
           "legendgroup": "Sub-Saharan Africa",
           "marker": {
            "color": "#00cc96",
            "symbol": "circle"
           },
           "mode": "markers",
           "name": "Sub-Saharan Africa",
           "orientation": "v",
           "showlegend": true,
           "type": "scatter",
           "x": {
            "bdata": "mpmZmZmZFkA=",
            "dtype": "f8"
           },
           "xaxis": "x",
           "y": {
            "bdata": "AAAANNSuq0E=",
            "dtype": "f8"
           },
           "yaxis": "y"
          }
         ],
         "name": "2002"
        },
        {
         "data": [
          {
           "hovertemplate": "Country Name=Africa Eastern and Southern<br>Year=2003<br>Tasa De Fertilidad (Hijos Por Mujer)=%{x}<br>Población Urbanizada=%{y}<extra></extra>",
           "legendgroup": "Africa Eastern and Southern",
           "marker": {
            "color": "#636efa",
            "symbol": "circle"
           },
           "mode": "markers",
           "name": "Africa Eastern and Southern",
           "orientation": "v",
           "showlegend": true,
           "type": "scatter",
           "x": {
            "bdata": "hetRuB6FFUA=",
            "dtype": "f8"
           },
           "xaxis": "x",
           "y": {
            "bdata": "AAAAUG8in0E=",
            "dtype": "f8"
           },
           "yaxis": "y"
          },
          {
           "hovertemplate": "Country Name=Arab World<br>Year=2003<br>Tasa De Fertilidad (Hijos Por Mujer)=%{x}<br>Población Urbanizada=%{y}<extra></extra>",
           "legendgroup": "Arab World",
           "marker": {
            "color": "#EF553B",
            "symbol": "circle"
           },
           "mode": "markers",
           "name": "Arab World",
           "orientation": "v",
           "showlegend": true,
           "type": "scatter",
           "x": {
            "bdata": "hetRuB6FDUA=",
            "dtype": "f8"
           },
           "xaxis": "x",
           "y": {
            "bdata": "AAAA4veFo0E=",
            "dtype": "f8"
           },
           "yaxis": "y"
          },
          {
           "hovertemplate": "Country Name=Central African Republic<br>Year=2003<br>Tasa De Fertilidad (Hijos Por Mujer)=%{x}<br>Población Urbanizada=%{y}<extra></extra>",
           "legendgroup": "Central African Republic",
           "marker": {
            "color": "#00cc96",
            "symbol": "circle"
           },
           "mode": "markers",
           "name": "Central African Republic",
           "orientation": "v",
           "showlegend": true,
           "type": "scatter",
           "x": {
            "bdata": "ZmZmZmZmF0A=",
            "dtype": "f8"
           },
           "xaxis": "x",
           "y": {
            "bdata": "AAAAAO23N0E=",
            "dtype": "f8"
           },
           "yaxis": "y"
          },
          {
           "hovertemplate": "Country Name=East Asia & Pacific<br>Year=2003<br>Tasa De Fertilidad (Hijos Por Mujer)=%{x}<br>Población Urbanizada=%{y}<extra></extra>",
           "legendgroup": "East Asia & Pacific",
           "marker": {
            "color": "#ab63fa",
            "symbol": "circle"
           },
           "mode": "markers",
           "name": "East Asia & Pacific",
           "orientation": "v",
           "showlegend": true,
           "type": "scatter",
           "x": {
            "bdata": "zczMzMzM/D8=",
            "dtype": "f8"
           },
           "xaxis": "x",
           "y": {
            "bdata": "AAAAI6L1y0E=",
            "dtype": "f8"
           },
           "yaxis": "y"
          },
          {
           "hovertemplate": "Country Name=European Union<br>Year=2003<br>Tasa De Fertilidad (Hijos Por Mujer)=%{x}<br>Población Urbanizada=%{y}<extra></extra>",
           "legendgroup": "European Union",
           "marker": {
            "color": "#FFA15A",
            "symbol": "circle"
           },
           "mode": "markers",
           "name": "European Union",
           "orientation": "v",
           "showlegend": true,
           "type": "scatter",
           "x": {
            "bdata": "4XoUrkfh9j8=",
            "dtype": "f8"
           },
           "xaxis": "x",
           "y": {
            "bdata": "AAAA/FVrskE=",
            "dtype": "f8"
           },
           "yaxis": "y"
          },
          {
           "hovertemplate": "Country Name=Latin America & Caribbean<br>Year=2003<br>Tasa De Fertilidad (Hijos Por Mujer)=%{x}<br>Población Urbanizada=%{y}<extra></extra>",
           "legendgroup": "Latin America & Caribbean",
           "marker": {
            "color": "#19d3f3",
            "symbol": "circle"
           },
           "mode": "markers",
           "name": "Latin America & Caribbean",
           "orientation": "v",
           "showlegend": true,
           "type": "scatter",
           "x": {
            "bdata": "XI/C9ShcA0A=",
            "dtype": "f8"
           },
           "xaxis": "x",
           "y": {
            "bdata": "AAAA1IGyuEE=",
            "dtype": "f8"
           },
           "yaxis": "y"
          },
          {
           "hovertemplate": "Country Name=Mexico<br>Year=2003<br>Tasa De Fertilidad (Hijos Por Mujer)=%{x}<br>Población Urbanizada=%{y}<extra></extra>",
           "legendgroup": "Mexico",
           "marker": {
            "color": "#FF6692",
            "symbol": "circle"
           },
           "mode": "markers",
           "name": "Mexico",
           "orientation": "v",
           "showlegend": true,
           "type": "scatter",
           "x": {
            "bdata": "pHA9CtejBEA=",
            "dtype": "f8"
           },
           "xaxis": "x",
           "y": {
            "bdata": "AAAAINmUkkE=",
            "dtype": "f8"
           },
           "yaxis": "y"
          },
          {
           "hovertemplate": "Country Name=Middle East & North Africa<br>Year=2003<br>Tasa De Fertilidad (Hijos Por Mujer)=%{x}<br>Población Urbanizada=%{y}<extra></extra>",
           "legendgroup": "Middle East & North Africa",
           "marker": {
            "color": "#B6E880",
            "symbol": "circle"
           },
           "mode": "markers",
           "name": "Middle East & North Africa",
           "orientation": "v",
           "showlegend": true,
           "type": "scatter",
           "x": {
            "bdata": "PQrXo3A9CEA=",
            "dtype": "f8"
           },
           "xaxis": "x",
           "y": {
            "bdata": "AAAAcjr+p0E=",
            "dtype": "f8"
           },
           "yaxis": "y"
          },
          {
           "hovertemplate": "Country Name=North America<br>Year=2003<br>Tasa De Fertilidad (Hijos Por Mujer)=%{x}<br>Población Urbanizada=%{y}<extra></extra>",
           "legendgroup": "North America",
           "marker": {
            "color": "#FF97FF",
            "symbol": "circle"
           },
           "mode": "markers",
           "name": "North America",
           "orientation": "v",
           "showlegend": true,
           "type": "scatter",
           "x": {
            "bdata": "AAAAAAAAAEA=",
            "dtype": "f8"
           },
           "xaxis": "x",
           "y": {
            "bdata": "AAAAmuaLrkE=",
            "dtype": "f8"
           },
           "yaxis": "y"
          },
          {
           "hovertemplate": "Country Name=South Africa<br>Year=2003<br>Tasa De Fertilidad (Hijos Por Mujer)=%{x}<br>Población Urbanizada=%{y}<extra></extra>",
           "legendgroup": "South Africa",
           "marker": {
            "color": "#FECB52",
            "symbol": "circle"
           },
           "mode": "markers",
           "name": "South Africa",
           "orientation": "v",
           "showlegend": true,
           "type": "scatter",
           "x": {
            "bdata": "4XoUrkfhAkA=",
            "dtype": "f8"
           },
           "xaxis": "x",
           "y": {
            "bdata": "AAAAEIkIe0E=",
            "dtype": "f8"
           },
           "yaxis": "y"
          },
          {
           "hovertemplate": "Country Name=South Asia<br>Year=2003<br>Tasa De Fertilidad (Hijos Por Mujer)=%{x}<br>Población Urbanizada=%{y}<extra></extra>",
           "legendgroup": "South Asia",
           "marker": {
            "color": "#636efa",
            "symbol": "circle"
           },
           "mode": "markers",
           "name": "South Asia",
           "orientation": "v",
           "showlegend": true,
           "type": "scatter",
           "x": {
            "bdata": "uB6F61G4CkA=",
            "dtype": "f8"
           },
           "xaxis": "x",
           "y": {
            "bdata": "AAAAjcJCuUE=",
            "dtype": "f8"
           },
           "yaxis": "y"
          },
          {
           "hovertemplate": "Country Name=Spain<br>Year=2003<br>Tasa De Fertilidad (Hijos Por Mujer)=%{x}<br>Población Urbanizada=%{y}<extra></extra>",
           "legendgroup": "Spain",
           "marker": {
            "color": "#EF553B",
            "symbol": "circle"
           },
           "mode": "markers",
           "name": "Spain",
           "orientation": "v",
           "showlegend": true,
           "type": "scatter",
           "x": {
            "bdata": "zczMzMzM9D8=",
            "dtype": "f8"
           },
           "xaxis": "x",
           "y": {
            "bdata": "AAAA4OrjfkE=",
            "dtype": "f8"
           },
           "yaxis": "y"
          },
          {
           "hovertemplate": "Country Name=Sub-Saharan Africa<br>Year=2003<br>Tasa De Fertilidad (Hijos Por Mujer)=%{x}<br>Población Urbanizada=%{y}<extra></extra>",
           "legendgroup": "Sub-Saharan Africa",
           "marker": {
            "color": "#00cc96",
            "symbol": "circle"
           },
           "mode": "markers",
           "name": "Sub-Saharan Africa",
           "orientation": "v",
           "showlegend": true,
           "type": "scatter",
           "x": {
            "bdata": "ZmZmZmZmFkA=",
            "dtype": "f8"
           },
           "xaxis": "x",
           "y": {
            "bdata": "AAAA7rTTrEE=",
            "dtype": "f8"
           },
           "yaxis": "y"
          }
         ],
         "name": "2003"
        },
        {
         "data": [
          {
           "hovertemplate": "Country Name=Africa Eastern and Southern<br>Year=2004<br>Tasa De Fertilidad (Hijos Por Mujer)=%{x}<br>Población Urbanizada=%{y}<extra></extra>",
           "legendgroup": "Africa Eastern and Southern",
           "marker": {
            "color": "#636efa",
            "symbol": "circle"
           },
           "mode": "markers",
           "name": "Africa Eastern and Southern",
           "orientation": "v",
           "showlegend": true,
           "type": "scatter",
           "x": {
            "bdata": "XI/C9ShcFUA=",
            "dtype": "f8"
           },
           "xaxis": "x",
           "y": {
            "bdata": "AAAA+vomoEE=",
            "dtype": "f8"
           },
           "yaxis": "y"
          },
          {
           "hovertemplate": "Country Name=Arab World<br>Year=2004<br>Tasa De Fertilidad (Hijos Por Mujer)=%{x}<br>Población Urbanizada=%{y}<extra></extra>",
           "legendgroup": "Arab World",
           "marker": {
            "color": "#EF553B",
            "symbol": "circle"
           },
           "mode": "markers",
           "name": "Arab World",
           "orientation": "v",
           "showlegend": true,
           "type": "scatter",
           "x": {
            "bdata": "H4XrUbgeDUA=",
            "dtype": "f8"
           },
           "xaxis": "x",
           "y": {
            "bdata": "AAAAzJcYpEE=",
            "dtype": "f8"
           },
           "yaxis": "y"
          },
          {
           "hovertemplate": "Country Name=Central African Republic<br>Year=2004<br>Tasa De Fertilidad (Hijos Por Mujer)=%{x}<br>Población Urbanizada=%{y}<extra></extra>",
           "legendgroup": "Central African Republic",
           "marker": {
            "color": "#00cc96",
            "symbol": "circle"
           },
           "mode": "markers",
           "name": "Central African Republic",
           "orientation": "v",
           "showlegend": true,
           "type": "scatter",
           "x": {
            "bdata": "UrgehetRF0A=",
            "dtype": "f8"
           },
           "xaxis": "x",
           "y": {
            "bdata": "AAAAAChKOEE=",
            "dtype": "f8"
           },
           "yaxis": "y"
          },
          {
           "hovertemplate": "Country Name=East Asia & Pacific<br>Year=2004<br>Tasa De Fertilidad (Hijos Por Mujer)=%{x}<br>Población Urbanizada=%{y}<extra></extra>",
           "legendgroup": "East Asia & Pacific",
           "marker": {
            "color": "#ab63fa",
            "symbol": "circle"
           },
           "mode": "markers",
           "name": "East Asia & Pacific",
           "orientation": "v",
           "showlegend": true,
           "type": "scatter",
           "x": {
            "bdata": "9ihcj8L1/D8=",
            "dtype": "f8"
           },
           "xaxis": "x",
           "y": {
            "bdata": "AACAD6zbzEE=",
            "dtype": "f8"
           },
           "yaxis": "y"
          },
          {
           "hovertemplate": "Country Name=European Union<br>Year=2004<br>Tasa De Fertilidad (Hijos Por Mujer)=%{x}<br>Población Urbanizada=%{y}<extra></extra>",
           "legendgroup": "European Union",
           "marker": {
            "color": "#FFA15A",
            "symbol": "circle"
           },
           "mode": "markers",
           "name": "European Union",
           "orientation": "v",
           "showlegend": true,
           "type": "scatter",
           "x": {
            "bdata": "XI/C9Shc9z8=",
            "dtype": "f8"
           },
           "xaxis": "x",
           "y": {
            "bdata": "AAAAc3+LskE=",
            "dtype": "f8"
           },
           "yaxis": "y"
          },
          {
           "hovertemplate": "Country Name=Latin America & Caribbean<br>Year=2004<br>Tasa De Fertilidad (Hijos Por Mujer)=%{x}<br>Población Urbanizada=%{y}<extra></extra>",
           "legendgroup": "Latin America & Caribbean",
           "marker": {
            "color": "#19d3f3",
            "symbol": "circle"
           },
           "mode": "markers",
           "name": "Latin America & Caribbean",
           "orientation": "v",
           "showlegend": true,
           "type": "scatter",
           "x": {
            "bdata": "H4XrUbgeA0A=",
            "dtype": "f8"
           },
           "xaxis": "x",
           "y": {
            "bdata": "AAAANbYbuUE=",
            "dtype": "f8"
           },
           "yaxis": "y"
          },
          {
           "hovertemplate": "Country Name=Mexico<br>Year=2004<br>Tasa De Fertilidad (Hijos Por Mujer)=%{x}<br>Población Urbanizada=%{y}<extra></extra>",
           "legendgroup": "Mexico",
           "marker": {
            "color": "#FF6692",
            "symbol": "circle"
           },
           "mode": "markers",
           "name": "Mexico",
           "orientation": "v",
           "showlegend": true,
           "type": "scatter",
           "x": {
            "bdata": "UrgehetRBEA=",
            "dtype": "f8"
           },
           "xaxis": "x",
           "y": {
            "bdata": "AAAAYE/qkkE=",
            "dtype": "f8"
           },
           "yaxis": "y"
          },
          {
           "hovertemplate": "Country Name=Middle East & North Africa<br>Year=2004<br>Tasa De Fertilidad (Hijos Por Mujer)=%{x}<br>Población Urbanizada=%{y}<extra></extra>",
           "legendgroup": "Middle East & North Africa",
           "marker": {
            "color": "#B6E880",
            "symbol": "circle"
           },
           "mode": "markers",
           "name": "Middle East & North Africa",
           "orientation": "v",
           "showlegend": true,
           "type": "scatter",
           "x": {
            "bdata": "16NwPQrXB0A=",
            "dtype": "f8"
           },
           "xaxis": "x",
           "y": {
            "bdata": "AAAAVEOyqEE=",
            "dtype": "f8"
           },
           "yaxis": "y"
          },
          {
           "hovertemplate": "Country Name=North America<br>Year=2004<br>Tasa De Fertilidad (Hijos Por Mujer)=%{x}<br>Población Urbanizada=%{y}<extra></extra>",
           "legendgroup": "North America",
           "marker": {
            "color": "#FF97FF",
            "symbol": "circle"
           },
           "mode": "markers",
           "name": "North America",
           "orientation": "v",
           "showlegend": true,
           "type": "scatter",
           "x": {
            "bdata": "AAAAAAAAAEA=",
            "dtype": "f8"
           },
           "xaxis": "x",
           "y": {
            "bdata": "AAAA7vTkrkE=",
            "dtype": "f8"
           },
           "yaxis": "y"
          },
          {
           "hovertemplate": "Country Name=South Africa<br>Year=2004<br>Tasa De Fertilidad (Hijos Por Mujer)=%{x}<br>Población Urbanizada=%{y}<extra></extra>",
           "legendgroup": "South Africa",
           "marker": {
            "color": "#FECB52",
            "symbol": "circle"
           },
           "mode": "markers",
           "name": "South Africa",
           "orientation": "v",
           "showlegend": true,
           "type": "scatter",
           "x": {
            "bdata": "hetRuB6FA0A=",
            "dtype": "f8"
           },
           "xaxis": "x",
           "y": {
            "bdata": "AAAAUAiQe0E=",
            "dtype": "f8"
           },
           "yaxis": "y"
          },
          {
           "hovertemplate": "Country Name=South Asia<br>Year=2004<br>Tasa De Fertilidad (Hijos Por Mujer)=%{x}<br>Población Urbanizada=%{y}<extra></extra>",
           "legendgroup": "South Asia",
           "marker": {
            "color": "#636efa",
            "symbol": "circle"
           },
           "mode": "markers",
           "name": "South Asia",
           "orientation": "v",
           "showlegend": true,
           "type": "scatter",
           "x": {
            "bdata": "FK5H4XoUCkA=",
            "dtype": "f8"
           },
           "xaxis": "x",
           "y": {
            "bdata": "AAAATb4GukE=",
            "dtype": "f8"
           },
           "yaxis": "y"
          },
          {
           "hovertemplate": "Country Name=Spain<br>Year=2004<br>Tasa De Fertilidad (Hijos Por Mujer)=%{x}<br>Población Urbanizada=%{y}<extra></extra>",
           "legendgroup": "Spain",
           "marker": {
            "color": "#EF553B",
            "symbol": "circle"
           },
           "mode": "markers",
           "name": "Spain",
           "orientation": "v",
           "showlegend": true,
           "type": "scatter",
           "x": {
            "bdata": "9ihcj8L19D8=",
            "dtype": "f8"
           },
           "xaxis": "x",
           "y": {
            "bdata": "AAAAYB6Hf0E=",
            "dtype": "f8"
           },
           "yaxis": "y"
          },
          {
           "hovertemplate": "Country Name=Sub-Saharan Africa<br>Year=2004<br>Tasa De Fertilidad (Hijos Por Mujer)=%{x}<br>Población Urbanizada=%{y}<extra></extra>",
           "legendgroup": "Sub-Saharan Africa",
           "marker": {
            "color": "#00cc96",
            "symbol": "circle"
           },
           "mode": "markers",
           "name": "Sub-Saharan Africa",
           "orientation": "v",
           "showlegend": true,
           "type": "scatter",
           "x": {
            "bdata": "PQrXo3A9FkA=",
            "dtype": "f8"
           },
           "xaxis": "x",
           "y": {
            "bdata": "AAAA8NAFrkE=",
            "dtype": "f8"
           },
           "yaxis": "y"
          }
         ],
         "name": "2004"
        },
        {
         "data": [
          {
           "hovertemplate": "Country Name=Africa Eastern and Southern<br>Year=2005<br>Tasa De Fertilidad (Hijos Por Mujer)=%{x}<br>Población Urbanizada=%{y}<extra></extra>",
           "legendgroup": "Africa Eastern and Southern",
           "marker": {
            "color": "#636efa",
            "symbol": "circle"
           },
           "mode": "markers",
           "name": "Africa Eastern and Southern",
           "orientation": "v",
           "showlegend": true,
           "type": "scatter",
           "x": {
            "bdata": "PQrXo3A9FUA=",
            "dtype": "f8"
           },
           "xaxis": "x",
           "y": {
            "bdata": "AAAAem/FoEE=",
            "dtype": "f8"
           },
           "yaxis": "y"
          },
          {
           "hovertemplate": "Country Name=Arab World<br>Year=2005<br>Tasa De Fertilidad (Hijos Por Mujer)=%{x}<br>Población Urbanizada=%{y}<extra></extra>",
           "legendgroup": "Arab World",
           "marker": {
            "color": "#EF553B",
            "symbol": "circle"
           },
           "mode": "markers",
           "name": "Arab World",
           "orientation": "v",
           "showlegend": true,
           "type": "scatter",
           "x": {
            "bdata": "zczMzMzMDEA=",
            "dtype": "f8"
           },
           "xaxis": "x",
           "y": {
            "bdata": "AAAADku2pEE=",
            "dtype": "f8"
           },
           "yaxis": "y"
          },
          {
           "hovertemplate": "Country Name=Central African Republic<br>Year=2005<br>Tasa De Fertilidad (Hijos Por Mujer)=%{x}<br>Población Urbanizada=%{y}<extra></extra>",
           "legendgroup": "Central African Republic",
           "marker": {
            "color": "#00cc96",
            "symbol": "circle"
           },
           "mode": "markers",
           "name": "Central African Republic",
           "orientation": "v",
           "showlegend": true,
           "type": "scatter",
           "x": {
            "bdata": "ZmZmZmZmF0A=",
            "dtype": "f8"
           },
           "xaxis": "x",
           "y": {
            "bdata": "AAAAAMPpOEE=",
            "dtype": "f8"
           },
           "yaxis": "y"
          },
          {
           "hovertemplate": "Country Name=East Asia & Pacific<br>Year=2005<br>Tasa De Fertilidad (Hijos Por Mujer)=%{x}<br>Población Urbanizada=%{y}<extra></extra>",
           "legendgroup": "East Asia & Pacific",
           "marker": {
            "color": "#ab63fa",
            "symbol": "circle"
           },
           "mode": "markers",
           "name": "East Asia & Pacific",
           "orientation": "v",
           "showlegend": true,
           "type": "scatter",
           "x": {
            "bdata": "H4XrUbge/T8=",
            "dtype": "f8"
           },
           "xaxis": "x",
           "y": {
            "bdata": "AAAAVTvDzUE=",
            "dtype": "f8"
           },
           "yaxis": "y"
          },
          {
           "hovertemplate": "Country Name=European Union<br>Year=2005<br>Tasa De Fertilidad (Hijos Por Mujer)=%{x}<br>Población Urbanizada=%{y}<extra></extra>",
           "legendgroup": "European Union",
           "marker": {
            "color": "#FFA15A",
            "symbol": "circle"
           },
           "mode": "markers",
           "name": "European Union",
           "orientation": "v",
           "showlegend": true,
           "type": "scatter",
           "x": {
            "bdata": "hetRuB6F9z8=",
            "dtype": "f8"
           },
           "xaxis": "x",
           "y": {
            "bdata": "AAAAu+aqskE=",
            "dtype": "f8"
           },
           "yaxis": "y"
          },
          {
           "hovertemplate": "Country Name=Latin America & Caribbean<br>Year=2005<br>Tasa De Fertilidad (Hijos Por Mujer)=%{x}<br>Población Urbanizada=%{y}<extra></extra>",
           "legendgroup": "Latin America & Caribbean",
           "marker": {
            "color": "#19d3f3",
            "symbol": "circle"
           },
           "mode": "markers",
           "name": "Latin America & Caribbean",
           "orientation": "v",
           "showlegend": true,
           "type": "scatter",
           "x": {
            "bdata": "zczMzMzMAkA=",
            "dtype": "f8"
           },
           "xaxis": "x",
           "y": {
            "bdata": "AAAAS5mDuUE=",
            "dtype": "f8"
           },
           "yaxis": "y"
          },
          {
           "hovertemplate": "Country Name=Mexico<br>Year=2005<br>Tasa De Fertilidad (Hijos Por Mujer)=%{x}<br>Población Urbanizada=%{y}<extra></extra>",
           "legendgroup": "Mexico",
           "marker": {
            "color": "#FF6692",
            "symbol": "circle"
           },
           "mode": "markers",
           "name": "Mexico",
           "orientation": "v",
           "showlegend": true,
           "type": "scatter",
           "x": {
            "bdata": "AAAAAAAABEA=",
            "dtype": "f8"
           },
           "xaxis": "x",
           "y": {
            "bdata": "AAAAyCNAk0E=",
            "dtype": "f8"
           },
           "yaxis": "y"
          },
          {
           "hovertemplate": "Country Name=Middle East & North Africa<br>Year=2005<br>Tasa De Fertilidad (Hijos Por Mujer)=%{x}<br>Población Urbanizada=%{y}<extra></extra>",
           "legendgroup": "Middle East & North Africa",
           "marker": {
            "color": "#B6E880",
            "symbol": "circle"
           },
           "mode": "markers",
           "name": "Middle East & North Africa",
           "orientation": "v",
           "showlegend": true,
           "type": "scatter",
           "x": {
            "bdata": "mpmZmZmZB0A=",
            "dtype": "f8"
           },
           "xaxis": "x",
           "y": {
            "bdata": "AAAALvdyqUE=",
            "dtype": "f8"
           },
           "yaxis": "y"
          },
          {
           "hovertemplate": "Country Name=North America<br>Year=2005<br>Tasa De Fertilidad (Hijos Por Mujer)=%{x}<br>Población Urbanizada=%{y}<extra></extra>",
           "legendgroup": "North America",
           "marker": {
            "color": "#FF97FF",
            "symbol": "circle"
           },
           "mode": "markers",
           "name": "North America",
           "orientation": "v",
           "showlegend": true,
           "type": "scatter",
           "x": {
            "bdata": "FK5H4XoUAEA=",
            "dtype": "f8"
           },
           "xaxis": "x",
           "y": {
            "bdata": "AAAAyI4+r0E=",
            "dtype": "f8"
           },
           "yaxis": "y"
          },
          {
           "hovertemplate": "Country Name=South Africa<br>Year=2005<br>Tasa De Fertilidad (Hijos Por Mujer)=%{x}<br>Población Urbanizada=%{y}<extra></extra>",
           "legendgroup": "South Africa",
           "marker": {
            "color": "#FECB52",
            "symbol": "circle"
           },
           "mode": "markers",
           "name": "South Africa",
           "orientation": "v",
           "showlegend": true,
           "type": "scatter",
           "x": {
            "bdata": "FK5H4XoUBEA=",
            "dtype": "f8"
           },
           "xaxis": "x",
           "y": {
            "bdata": "AAAAIHQZfEE=",
            "dtype": "f8"
           },
           "yaxis": "y"
          },
          {
           "hovertemplate": "Country Name=South Asia<br>Year=2005<br>Tasa De Fertilidad (Hijos Por Mujer)=%{x}<br>Población Urbanizada=%{y}<extra></extra>",
           "legendgroup": "South Asia",
           "marker": {
            "color": "#636efa",
            "symbol": "circle"
           },
           "mode": "markers",
           "name": "South Asia",
           "orientation": "v",
           "showlegend": true,
           "type": "scatter",
           "x": {
            "bdata": "XI/C9ShcCUA=",
            "dtype": "f8"
           },
           "xaxis": "x",
           "y": {
            "bdata": "AAAAPjDLukE=",
            "dtype": "f8"
           },
           "yaxis": "y"
          },
          {
           "hovertemplate": "Country Name=Spain<br>Year=2005<br>Tasa De Fertilidad (Hijos Por Mujer)=%{x}<br>Población Urbanizada=%{y}<extra></extra>",
           "legendgroup": "Spain",
           "marker": {
            "color": "#EF553B",
            "symbol": "circle"
           },
           "mode": "markers",
           "name": "Spain",
           "orientation": "v",
           "showlegend": true,
           "type": "scatter",
           "x": {
            "bdata": "SOF6FK5H9T8=",
            "dtype": "f8"
           },
           "xaxis": "x",
           "y": {
            "bdata": "AAAAyCcVgEE=",
            "dtype": "f8"
           },
           "yaxis": "y"
          },
          {
           "hovertemplate": "Country Name=Sub-Saharan Africa<br>Year=2005<br>Tasa De Fertilidad (Hijos Por Mujer)=%{x}<br>Población Urbanizada=%{y}<extra></extra>",
           "legendgroup": "Sub-Saharan Africa",
           "marker": {
            "color": "#00cc96",
            "symbol": "circle"
           },
           "mode": "markers",
           "name": "Sub-Saharan Africa",
           "orientation": "v",
           "showlegend": true,
           "type": "scatter",
           "x": {
            "bdata": "H4XrUbgeFkA=",
            "dtype": "f8"
           },
           "xaxis": "x",
           "y": {
            "bdata": "AAAAfCFIr0E=",
            "dtype": "f8"
           },
           "yaxis": "y"
          }
         ],
         "name": "2005"
        },
        {
         "data": [
          {
           "hovertemplate": "Country Name=Africa Eastern and Southern<br>Year=2006<br>Tasa De Fertilidad (Hijos Por Mujer)=%{x}<br>Población Urbanizada=%{y}<extra></extra>",
           "legendgroup": "Africa Eastern and Southern",
           "marker": {
            "color": "#636efa",
            "symbol": "circle"
           },
           "mode": "markers",
           "name": "Africa Eastern and Southern",
           "orientation": "v",
           "showlegend": true,
           "type": "scatter",
           "x": {
            "bdata": "FK5H4XoUFUA=",
            "dtype": "f8"
           },
           "xaxis": "x",
           "y": {
            "bdata": "AAAAIH1ooUE=",
            "dtype": "f8"
           },
           "yaxis": "y"
          },
          {
           "hovertemplate": "Country Name=Arab World<br>Year=2006<br>Tasa De Fertilidad (Hijos Por Mujer)=%{x}<br>Población Urbanizada=%{y}<extra></extra>",
           "legendgroup": "Arab World",
           "marker": {
            "color": "#EF553B",
            "symbol": "circle"
           },
           "mode": "markers",
           "name": "Arab World",
           "orientation": "v",
           "showlegend": true,
           "type": "scatter",
           "x": {
            "bdata": "j8L1KFyPDEA=",
            "dtype": "f8"
           },
           "xaxis": "x",
           "y": {
            "bdata": "AAAA/P1dpUE=",
            "dtype": "f8"
           },
           "yaxis": "y"
          },
          {
           "hovertemplate": "Country Name=Central African Republic<br>Year=2006<br>Tasa De Fertilidad (Hijos Por Mujer)=%{x}<br>Población Urbanizada=%{y}<extra></extra>",
           "legendgroup": "Central African Republic",
           "marker": {
            "color": "#00cc96",
            "symbol": "circle"
           },
           "mode": "markers",
           "name": "Central African Republic",
           "orientation": "v",
           "showlegend": true,
           "type": "scatter",
           "x": {
            "bdata": "exSuR+F6F0A=",
            "dtype": "f8"
           },
           "xaxis": "x",
           "y": {
            "bdata": "AAAAAPmCOUE=",
            "dtype": "f8"
           },
           "yaxis": "y"
          },
          {
           "hovertemplate": "Country Name=East Asia & Pacific<br>Year=2006<br>Tasa De Fertilidad (Hijos Por Mujer)=%{x}<br>Población Urbanizada=%{y}<extra></extra>",
           "legendgroup": "East Asia & Pacific",
           "marker": {
            "color": "#ab63fa",
            "symbol": "circle"
           },
           "mode": "markers",
           "name": "East Asia & Pacific",
           "orientation": "v",
           "showlegend": true,
           "type": "scatter",
           "x": {
            "bdata": "SOF6FK5H/T8=",
            "dtype": "f8"
           },
           "xaxis": "x",
           "y": {
            "bdata": "AACA7O+ozkE=",
            "dtype": "f8"
           },
           "yaxis": "y"
          },
          {
           "hovertemplate": "Country Name=European Union<br>Year=2006<br>Tasa De Fertilidad (Hijos Por Mujer)=%{x}<br>Población Urbanizada=%{y}<extra></extra>",
           "legendgroup": "European Union",
           "marker": {
            "color": "#FFA15A",
            "symbol": "circle"
           },
           "mode": "markers",
           "name": "European Union",
           "orientation": "v",
           "showlegend": true,
           "type": "scatter",
           "x": {
            "bdata": "16NwPQrX9z8=",
            "dtype": "f8"
           },
           "xaxis": "x",
           "y": {
            "bdata": "AAAA2+LIskE=",
            "dtype": "f8"
           },
           "yaxis": "y"
          },
          {
           "hovertemplate": "Country Name=Latin America & Caribbean<br>Year=2006<br>Tasa De Fertilidad (Hijos Por Mujer)=%{x}<br>Población Urbanizada=%{y}<extra></extra>",
           "legendgroup": "Latin America & Caribbean",
           "marker": {
            "color": "#19d3f3",
            "symbol": "circle"
           },
           "mode": "markers",
           "name": "Latin America & Caribbean",
           "orientation": "v",
           "showlegend": true,
           "type": "scatter",
           "x": {
            "bdata": "exSuR+F6AkA=",
            "dtype": "f8"
           },
           "xaxis": "x",
           "y": {
            "bdata": "AAAAt0bruUE=",
            "dtype": "f8"
           },
           "yaxis": "y"
          },
          {
           "hovertemplate": "Country Name=Mexico<br>Year=2006<br>Tasa De Fertilidad (Hijos Por Mujer)=%{x}<br>Población Urbanizada=%{y}<extra></extra>",
           "legendgroup": "Mexico",
           "marker": {
            "color": "#FF6692",
            "symbol": "circle"
           },
           "mode": "markers",
           "name": "Mexico",
           "orientation": "v",
           "showlegend": true,
           "type": "scatter",
           "x": {
            "bdata": "rkfhehSuA0A=",
            "dtype": "f8"
           },
           "xaxis": "x",
           "y": {
            "bdata": "AAAAdHiXk0E=",
            "dtype": "f8"
           },
           "yaxis": "y"
          },
          {
           "hovertemplate": "Country Name=Middle East & North Africa<br>Year=2006<br>Tasa De Fertilidad (Hijos Por Mujer)=%{x}<br>Población Urbanizada=%{y}<extra></extra>",
           "legendgroup": "Middle East & North Africa",
           "marker": {
            "color": "#B6E880",
            "symbol": "circle"
           },
           "mode": "markers",
           "name": "Middle East & North Africa",
           "orientation": "v",
           "showlegend": true,
           "type": "scatter",
           "x": {
            "bdata": "XI/C9ShcB0A=",
            "dtype": "f8"
           },
           "xaxis": "x",
           "y": {
            "bdata": "AAAAHM89qkE=",
            "dtype": "f8"
           },
           "yaxis": "y"
          },
          {
           "hovertemplate": "Country Name=North America<br>Year=2006<br>Tasa De Fertilidad (Hijos Por Mujer)=%{x}<br>Población Urbanizada=%{y}<extra></extra>",
           "legendgroup": "North America",
           "marker": {
            "color": "#FF97FF",
            "symbol": "circle"
           },
           "mode": "markers",
           "name": "North America",
           "orientation": "v",
           "showlegend": true,
           "type": "scatter",
           "x": {
            "bdata": "exSuR+F6AEA=",
            "dtype": "f8"
           },
           "xaxis": "x",
           "y": {
            "bdata": "AAAAFumcr0E=",
            "dtype": "f8"
           },
           "yaxis": "y"
          },
          {
           "hovertemplate": "Country Name=South Africa<br>Year=2006<br>Tasa De Fertilidad (Hijos Por Mujer)=%{x}<br>Población Urbanizada=%{y}<extra></extra>",
           "legendgroup": "South Africa",
           "marker": {
            "color": "#FECB52",
            "symbol": "circle"
           },
           "mode": "markers",
           "name": "South Africa",
           "orientation": "v",
           "showlegend": true,
           "type": "scatter",
           "x": {
            "bdata": "ZmZmZmZmBEA=",
            "dtype": "f8"
           },
           "xaxis": "x",
           "y": {
            "bdata": "AAAAkF2lfEE=",
            "dtype": "f8"
           },
           "yaxis": "y"
          },
          {
           "hovertemplate": "Country Name=South Asia<br>Year=2006<br>Tasa De Fertilidad (Hijos Por Mujer)=%{x}<br>Población Urbanizada=%{y}<extra></extra>",
           "legendgroup": "South Asia",
           "marker": {
            "color": "#636efa",
            "symbol": "circle"
           },
           "mode": "markers",
           "name": "South Asia",
           "orientation": "v",
           "showlegend": true,
           "type": "scatter",
           "x": {
            "bdata": "j8L1KFyPCEA=",
            "dtype": "f8"
           },
           "xaxis": "x",
           "y": {
            "bdata": "AAAANxaRu0E=",
            "dtype": "f8"
           },
           "yaxis": "y"
          },
          {
           "hovertemplate": "Country Name=Spain<br>Year=2006<br>Tasa De Fertilidad (Hijos Por Mujer)=%{x}<br>Población Urbanizada=%{y}<extra></extra>",
           "legendgroup": "Spain",
           "marker": {
            "color": "#EF553B",
            "symbol": "circle"
           },
           "mode": "markers",
           "name": "Spain",
           "orientation": "v",
           "showlegend": true,
           "type": "scatter",
           "x": {
            "bdata": "w/UoXI/C9T8=",
            "dtype": "f8"
           },
           "xaxis": "x",
           "y": {
            "bdata": "AAAAUEtogEE=",
            "dtype": "f8"
           },
           "yaxis": "y"
          },
          {
           "hovertemplate": "Country Name=Sub-Saharan Africa<br>Year=2006<br>Tasa De Fertilidad (Hijos Por Mujer)=%{x}<br>Población Urbanizada=%{y}<extra></extra>",
           "legendgroup": "Sub-Saharan Africa",
           "marker": {
            "color": "#00cc96",
            "symbol": "circle"
           },
           "mode": "markers",
           "name": "Sub-Saharan Africa",
           "orientation": "v",
           "showlegend": true,
           "type": "scatter",
           "x": {
            "bdata": "AAAAAAAAFkA=",
            "dtype": "f8"
           },
           "xaxis": "x",
           "y": {
            "bdata": "AAAAnvFKsEE=",
            "dtype": "f8"
           },
           "yaxis": "y"
          }
         ],
         "name": "2006"
        },
        {
         "data": [
          {
           "hovertemplate": "Country Name=Africa Eastern and Southern<br>Year=2007<br>Tasa De Fertilidad (Hijos Por Mujer)=%{x}<br>Población Urbanizada=%{y}<extra></extra>",
           "legendgroup": "Africa Eastern and Southern",
           "marker": {
            "color": "#636efa",
            "symbol": "circle"
           },
           "mode": "markers",
           "name": "Africa Eastern and Southern",
           "orientation": "v",
           "showlegend": true,
           "type": "scatter",
           "x": {
            "bdata": "4XoUrkfhFEA=",
            "dtype": "f8"
           },
           "xaxis": "x",
           "y": {
            "bdata": "AAAAlvcHokE=",
            "dtype": "f8"
           },
           "yaxis": "y"
          },
          {
           "hovertemplate": "Country Name=Arab World<br>Year=2007<br>Tasa De Fertilidad (Hijos Por Mujer)=%{x}<br>Población Urbanizada=%{y}<extra></extra>",
           "legendgroup": "Arab World",
           "marker": {
            "color": "#EF553B",
            "symbol": "circle"
           },
           "mode": "markers",
           "name": "Arab World",
           "orientation": "v",
           "showlegend": true,
           "type": "scatter",
           "x": {
            "bdata": "ZmZmZmZmDEA=",
            "dtype": "f8"
           },
           "xaxis": "x",
           "y": {
            "bdata": "AAAAcMQEpkE=",
            "dtype": "f8"
           },
           "yaxis": "y"
          },
          {
           "hovertemplate": "Country Name=Central African Republic<br>Year=2007<br>Tasa De Fertilidad (Hijos Por Mujer)=%{x}<br>Población Urbanizada=%{y}<extra></extra>",
           "legendgroup": "Central African Republic",
           "marker": {
            "color": "#00cc96",
            "symbol": "circle"
           },
           "mode": "markers",
           "name": "Central African Republic",
           "orientation": "v",
           "showlegend": true,
           "type": "scatter",
           "x": {
            "bdata": "j8L1KFyPF0A=",
            "dtype": "f8"
           },
           "xaxis": "x",
           "y": {
            "bdata": "AAAAAIUbOkE=",
            "dtype": "f8"
           },
           "yaxis": "y"
          },
          {
           "hovertemplate": "Country Name=East Asia & Pacific<br>Year=2007<br>Tasa De Fertilidad (Hijos Por Mujer)=%{x}<br>Población Urbanizada=%{y}<extra></extra>",
           "legendgroup": "East Asia & Pacific",
           "marker": {
            "color": "#ab63fa",
            "symbol": "circle"
           },
           "mode": "markers",
           "name": "East Asia & Pacific",
           "orientation": "v",
           "showlegend": true,
           "type": "scatter",
           "x": {
            "bdata": "w/UoXI/C/T8=",
            "dtype": "f8"
           },
           "xaxis": "x",
           "y": {
            "bdata": "AACAJBuPz0E=",
            "dtype": "f8"
           },
           "yaxis": "y"
          },
          {
           "hovertemplate": "Country Name=European Union<br>Year=2007<br>Tasa De Fertilidad (Hijos Por Mujer)=%{x}<br>Población Urbanizada=%{y}<extra></extra>",
           "legendgroup": "European Union",
           "marker": {
            "color": "#FFA15A",
            "symbol": "circle"
           },
           "mode": "markers",
           "name": "European Union",
           "orientation": "v",
           "showlegend": true,
           "type": "scatter",
           "x": {
            "bdata": "UrgehetR+D8=",
            "dtype": "f8"
           },
           "xaxis": "x",
           "y": {
            "bdata": "AAAABcTnskE=",
            "dtype": "f8"
           },
           "yaxis": "y"
          },
          {
           "hovertemplate": "Country Name=Latin America & Caribbean<br>Year=2007<br>Tasa De Fertilidad (Hijos Por Mujer)=%{x}<br>Población Urbanizada=%{y}<extra></extra>",
           "legendgroup": "Latin America & Caribbean",
           "marker": {
            "color": "#19d3f3",
            "symbol": "circle"
           },
           "mode": "markers",
           "name": "Latin America & Caribbean",
           "orientation": "v",
           "showlegend": true,
           "type": "scatter",
           "x": {
            "bdata": "KVyPwvUoAkA=",
            "dtype": "f8"
           },
           "xaxis": "x",
           "y": {
            "bdata": "AAAA/LpSukE=",
            "dtype": "f8"
           },
           "yaxis": "y"
          },
          {
           "hovertemplate": "Country Name=Mexico<br>Year=2007<br>Tasa De Fertilidad (Hijos Por Mujer)=%{x}<br>Población Urbanizada=%{y}<extra></extra>",
           "legendgroup": "Mexico",
           "marker": {
            "color": "#FF6692",
            "symbol": "circle"
           },
           "mode": "markers",
           "name": "Mexico",
           "orientation": "v",
           "showlegend": true,
           "type": "scatter",
           "x": {
            "bdata": "XI/C9ShcA0A=",
            "dtype": "f8"
           },
           "xaxis": "x",
           "y": {
            "bdata": "AAAA2MPyk0E=",
            "dtype": "f8"
           },
           "yaxis": "y"
          },
          {
           "hovertemplate": "Country Name=Middle East & North Africa<br>Year=2007<br>Tasa De Fertilidad (Hijos Por Mujer)=%{x}<br>Población Urbanizada=%{y}<extra></extra>",
           "legendgroup": "Middle East & North Africa",
           "marker": {
            "color": "#B6E880",
            "symbol": "circle"
           },
           "mode": "markers",
           "name": "Middle East & North Africa",
           "orientation": "v",
           "showlegend": true,
           "type": "scatter",
           "x": {
            "bdata": "SOF6FK5HB0A=",
            "dtype": "f8"
           },
           "xaxis": "x",
           "y": {
            "bdata": "AAAAqt0Kq0E=",
            "dtype": "f8"
           },
           "yaxis": "y"
          },
          {
           "hovertemplate": "Country Name=North America<br>Year=2007<br>Tasa De Fertilidad (Hijos Por Mujer)=%{x}<br>Población Urbanizada=%{y}<extra></extra>",
           "legendgroup": "North America",
           "marker": {
            "color": "#FF97FF",
            "symbol": "circle"
           },
           "mode": "markers",
           "name": "North America",
           "orientation": "v",
           "showlegend": true,
           "type": "scatter",
           "x": {
            "bdata": "j8L1KFyPAEA=",
            "dtype": "f8"
           },
           "xaxis": "x",
           "y": {
            "bdata": "AAAA6tr7r0E=",
            "dtype": "f8"
           },
           "yaxis": "y"
          },
          {
           "hovertemplate": "Country Name=South Africa<br>Year=2007<br>Tasa De Fertilidad (Hijos Por Mujer)=%{x}<br>Población Urbanizada=%{y}<extra></extra>",
           "legendgroup": "South Africa",
           "marker": {
            "color": "#FECB52",
            "symbol": "circle"
           },
           "mode": "markers",
           "name": "South Africa",
           "orientation": "v",
           "showlegend": true,
           "type": "scatter",
           "x": {
            "bdata": "UrgehetRBEA=",
            "dtype": "f8"
           },
           "xaxis": "x",
           "y": {
            "bdata": "AAAAYKM1fUE=",
            "dtype": "f8"
           },
           "yaxis": "y"
          },
          {
           "hovertemplate": "Country Name=South Asia<br>Year=2007<br>Tasa De Fertilidad (Hijos Por Mujer)=%{x}<br>Población Urbanizada=%{y}<extra></extra>",
           "legendgroup": "South Asia",
           "marker": {
            "color": "#636efa",
            "symbol": "circle"
           },
           "mode": "markers",
           "name": "South Asia",
           "orientation": "v",
           "showlegend": true,
           "type": "scatter",
           "x": {
            "bdata": "AAAAAAAACEA=",
            "dtype": "f8"
           },
           "xaxis": "x",
           "y": {
            "bdata": "AAAAtTNZvEE=",
            "dtype": "f8"
           },
           "yaxis": "y"
          },
          {
           "hovertemplate": "Country Name=Spain<br>Year=2007<br>Tasa De Fertilidad (Hijos Por Mujer)=%{x}<br>Población Urbanizada=%{y}<extra></extra>",
           "legendgroup": "Spain",
           "marker": {
            "color": "#EF553B",
            "symbol": "circle"
           },
           "mode": "markers",
           "name": "Spain",
           "orientation": "v",
           "showlegend": true,
           "type": "scatter",
           "x": {
            "bdata": "FK5H4XoU9j8=",
            "dtype": "f8"
           },
           "xaxis": "x",
           "y": {
            "bdata": "AAAAqOjDgEE=",
            "dtype": "f8"
           },
           "yaxis": "y"
          },
          {
           "hovertemplate": "Country Name=Sub-Saharan Africa<br>Year=2007<br>Tasa De Fertilidad (Hijos Por Mujer)=%{x}<br>Población Urbanizada=%{y}<extra></extra>",
           "legendgroup": "Sub-Saharan Africa",
           "marker": {
            "color": "#00cc96",
            "symbol": "circle"
           },
           "mode": "markers",
           "name": "Sub-Saharan Africa",
           "orientation": "v",
           "showlegend": true,
           "type": "scatter",
           "x": {
            "bdata": "16NwPQrXFUA=",
            "dtype": "f8"
           },
           "xaxis": "x",
           "y": {
            "bdata": "AAAA8DPzsEE=",
            "dtype": "f8"
           },
           "yaxis": "y"
          }
         ],
         "name": "2007"
        },
        {
         "data": [
          {
           "hovertemplate": "Country Name=Africa Eastern and Southern<br>Year=2008<br>Tasa De Fertilidad (Hijos Por Mujer)=%{x}<br>Población Urbanizada=%{y}<extra></extra>",
           "legendgroup": "Africa Eastern and Southern",
           "marker": {
            "color": "#636efa",
            "symbol": "circle"
           },
           "mode": "markers",
           "name": "Africa Eastern and Southern",
           "orientation": "v",
           "showlegend": true,
           "type": "scatter",
           "x": {
            "bdata": "w/UoXI/CFEA=",
            "dtype": "f8"
           },
           "xaxis": "x",
           "y": {
            "bdata": "AAAAhGbFokE=",
            "dtype": "f8"
           },
           "yaxis": "y"
          },
          {
           "hovertemplate": "Country Name=Arab World<br>Year=2008<br>Tasa De Fertilidad (Hijos Por Mujer)=%{x}<br>Población Urbanizada=%{y}<extra></extra>",
           "legendgroup": "Arab World",
           "marker": {
            "color": "#EF553B",
            "symbol": "circle"
           },
           "mode": "markers",
           "name": "Arab World",
           "orientation": "v",
           "showlegend": true,
           "type": "scatter",
           "x": {
            "bdata": "PQrXo3A9DEA=",
            "dtype": "f8"
           },
           "xaxis": "x",
           "y": {
            "bdata": "AAAA4HrBpkE=",
            "dtype": "f8"
           },
           "yaxis": "y"
          },
          {
           "hovertemplate": "Country Name=Central African Republic<br>Year=2008<br>Tasa De Fertilidad (Hijos Por Mujer)=%{x}<br>Población Urbanizada=%{y}<extra></extra>",
           "legendgroup": "Central African Republic",
           "marker": {
            "color": "#00cc96",
            "symbol": "circle"
           },
           "mode": "markers",
           "name": "Central African Republic",
           "orientation": "v",
           "showlegend": true,
           "type": "scatter",
           "x": {
            "bdata": "pHA9CtejF0A=",
            "dtype": "f8"
           },
           "xaxis": "x",
           "y": {
            "bdata": "AAAAAFrJOkE=",
            "dtype": "f8"
           },
           "yaxis": "y"
          },
          {
           "hovertemplate": "Country Name=East Asia & Pacific<br>Year=2008<br>Tasa De Fertilidad (Hijos Por Mujer)=%{x}<br>Población Urbanizada=%{y}<extra></extra>",
           "legendgroup": "East Asia & Pacific",
           "marker": {
            "color": "#ab63fa",
            "symbol": "circle"
           },
           "mode": "markers",
           "name": "East Asia & Pacific",
           "orientation": "v",
           "showlegend": true,
           "type": "scatter",
           "x": {
            "bdata": "FK5H4XoU/j8=",
            "dtype": "f8"
           },
           "xaxis": "x",
           "y": {
            "bdata": "AABAjDQ80EE=",
            "dtype": "f8"
           },
           "yaxis": "y"
          },
          {
           "hovertemplate": "Country Name=European Union<br>Year=2008<br>Tasa De Fertilidad (Hijos Por Mujer)=%{x}<br>Población Urbanizada=%{y}<extra></extra>",
           "legendgroup": "European Union",
           "marker": {
            "color": "#FFA15A",
            "symbol": "circle"
           },
           "mode": "markers",
           "name": "European Union",
           "orientation": "v",
           "showlegend": true,
           "type": "scatter",
           "x": {
            "bdata": "H4XrUbge+T8=",
            "dtype": "f8"
           },
           "xaxis": "x",
           "y": {
            "bdata": "AAAAjPsFs0E=",
            "dtype": "f8"
           },
           "yaxis": "y"
          },
          {
           "hovertemplate": "Country Name=Latin America & Caribbean<br>Year=2008<br>Tasa De Fertilidad (Hijos Por Mujer)=%{x}<br>Población Urbanizada=%{y}<extra></extra>",
           "legendgroup": "Latin America & Caribbean",
           "marker": {
            "color": "#19d3f3",
            "symbol": "circle"
           },
           "mode": "markers",
           "name": "Latin America & Caribbean",
           "orientation": "v",
           "showlegend": true,
           "type": "scatter",
           "x": {
            "bdata": "7FG4HoXrAUA=",
            "dtype": "f8"
           },
           "xaxis": "x",
           "y": {
            "bdata": "AAAAJti5ukE=",
            "dtype": "f8"
           },
           "yaxis": "y"
          },
          {
           "hovertemplate": "Country Name=Mexico<br>Year=2008<br>Tasa De Fertilidad (Hijos Por Mujer)=%{x}<br>Población Urbanizada=%{y}<extra></extra>",
           "legendgroup": "Mexico",
           "marker": {
            "color": "#FF6692",
            "symbol": "circle"
           },
           "mode": "markers",
           "name": "Mexico",
           "orientation": "v",
           "showlegend": true,
           "type": "scatter",
           "x": {
            "bdata": "H4XrUbgeA0A=",
            "dtype": "f8"
           },
           "xaxis": "x",
           "y": {
            "bdata": "AAAARDlSlEE=",
            "dtype": "f8"
           },
           "yaxis": "y"
          },
          {
           "hovertemplate": "Country Name=Middle East & North Africa<br>Year=2008<br>Tasa De Fertilidad (Hijos Por Mujer)=%{x}<br>Población Urbanizada=%{y}<extra></extra>",
           "legendgroup": "Middle East & North Africa",
           "marker": {
            "color": "#B6E880",
            "symbol": "circle"
           },
           "mode": "markers",
           "name": "Middle East & North Africa",
           "orientation": "v",
           "showlegend": true,
           "type": "scatter",
           "x": {
            "bdata": "MzMzMzMzB0A=",
            "dtype": "f8"
           },
           "xaxis": "x",
           "y": {
            "bdata": "AAAAnpfXq0E=",
            "dtype": "f8"
           },
           "yaxis": "y"
          },
          {
           "hovertemplate": "Country Name=North America<br>Year=2008<br>Tasa De Fertilidad (Hijos Por Mujer)=%{x}<br>Población Urbanizada=%{y}<extra></extra>",
           "legendgroup": "North America",
           "marker": {
            "color": "#FF97FF",
            "symbol": "circle"
           },
           "mode": "markers",
           "name": "North America",
           "orientation": "v",
           "showlegend": true,
           "type": "scatter",
           "x": {
            "bdata": "PQrXo3A9AEA=",
            "dtype": "f8"
           },
           "xaxis": "x",
           "y": {
            "bdata": "AAAAPCgusEE=",
            "dtype": "f8"
           },
           "yaxis": "y"
          },
          {
           "hovertemplate": "Country Name=South Africa<br>Year=2008<br>Tasa De Fertilidad (Hijos Por Mujer)=%{x}<br>Población Urbanizada=%{y}<extra></extra>",
           "legendgroup": "South Africa",
           "marker": {
            "color": "#FECB52",
            "symbol": "circle"
           },
           "mode": "markers",
           "name": "South Africa",
           "orientation": "v",
           "showlegend": true,
           "type": "scatter",
           "x": {
            "bdata": "cT0K16NwBUA=",
            "dtype": "f8"
           },
           "xaxis": "x",
           "y": {
            "bdata": "AAAA4H/PfUE=",
            "dtype": "f8"
           },
           "yaxis": "y"
          },
          {
           "hovertemplate": "Country Name=South Asia<br>Year=2008<br>Tasa De Fertilidad (Hijos Por Mujer)=%{x}<br>Población Urbanizada=%{y}<extra></extra>",
           "legendgroup": "South Asia",
           "marker": {
            "color": "#636efa",
            "symbol": "circle"
           },
           "mode": "markers",
           "name": "South Asia",
           "orientation": "v",
           "showlegend": true,
           "type": "scatter",
           "x": {
            "bdata": "cT0K16NwB0A=",
            "dtype": "f8"
           },
           "xaxis": "x",
           "y": {
            "bdata": "AAAANwcjvUE=",
            "dtype": "f8"
           },
           "yaxis": "y"
          },
          {
           "hovertemplate": "Country Name=Spain<br>Year=2008<br>Tasa De Fertilidad (Hijos Por Mujer)=%{x}<br>Población Urbanizada=%{y}<extra></extra>",
           "legendgroup": "Spain",
           "marker": {
            "color": "#EF553B",
            "symbol": "circle"
           },
           "mode": "markers",
           "name": "Spain",
           "orientation": "v",
           "showlegend": true,
           "type": "scatter",
           "x": {
            "bdata": "MzMzMzMz9z8=",
            "dtype": "f8"
           },
           "xaxis": "x",
           "y": {
            "bdata": "AAAAsCoWgUE=",
            "dtype": "f8"
           },
           "yaxis": "y"
          },
          {
           "hovertemplate": "Country Name=Sub-Saharan Africa<br>Year=2008<br>Tasa De Fertilidad (Hijos Por Mujer)=%{x}<br>Población Urbanizada=%{y}<extra></extra>",
           "legendgroup": "Sub-Saharan Africa",
           "marker": {
            "color": "#00cc96",
            "symbol": "circle"
           },
           "mode": "markers",
           "name": "Sub-Saharan Africa",
           "orientation": "v",
           "showlegend": true,
           "type": "scatter",
           "x": {
            "bdata": "uB6F61G4FUA=",
            "dtype": "f8"
           },
           "xaxis": "x",
           "y": {
            "bdata": "AAAAZtetsUE=",
            "dtype": "f8"
           },
           "yaxis": "y"
          }
         ],
         "name": "2008"
        },
        {
         "data": [
          {
           "hovertemplate": "Country Name=Africa Eastern and Southern<br>Year=2009<br>Tasa De Fertilidad (Hijos Por Mujer)=%{x}<br>Población Urbanizada=%{y}<extra></extra>",
           "legendgroup": "Africa Eastern and Southern",
           "marker": {
            "color": "#636efa",
            "symbol": "circle"
           },
           "mode": "markers",
           "name": "Africa Eastern and Southern",
           "orientation": "v",
           "showlegend": true,
           "type": "scatter",
           "x": {
            "bdata": "exSuR+F6FEA=",
            "dtype": "f8"
           },
           "xaxis": "x",
           "y": {
            "bdata": "AAAAfIuLo0E=",
            "dtype": "f8"
           },
           "yaxis": "y"
          },
          {
           "hovertemplate": "Country Name=Arab World<br>Year=2009<br>Tasa De Fertilidad (Hijos Por Mujer)=%{x}<br>Población Urbanizada=%{y}<extra></extra>",
           "legendgroup": "Arab World",
           "marker": {
            "color": "#EF553B",
            "symbol": "circle"
           },
           "mode": "markers",
           "name": "Arab World",
           "orientation": "v",
           "showlegend": true,
           "type": "scatter",
           "x": {
            "bdata": "KVyPwvUoDEA=",
            "dtype": "f8"
           },
           "xaxis": "x",
           "y": {
            "bdata": "AAAAfAd+p0E=",
            "dtype": "f8"
           },
           "yaxis": "y"
          },
          {
           "hovertemplate": "Country Name=Central African Republic<br>Year=2009<br>Tasa De Fertilidad (Hijos Por Mujer)=%{x}<br>Población Urbanizada=%{y}<extra></extra>",
           "legendgroup": "Central African Republic",
           "marker": {
            "color": "#00cc96",
            "symbol": "circle"
           },
           "mode": "markers",
           "name": "Central African Republic",
           "orientation": "v",
           "showlegend": true,
           "type": "scatter",
           "x": {
            "bdata": "rkfhehSuF0A=",
            "dtype": "f8"
           },
           "xaxis": "x",
           "y": {
            "bdata": "AAAAAJW9OkE=",
            "dtype": "f8"
           },
           "yaxis": "y"
          },
          {
           "hovertemplate": "Country Name=East Asia & Pacific<br>Year=2009<br>Tasa De Fertilidad (Hijos Por Mujer)=%{x}<br>Población Urbanizada=%{y}<extra></extra>",
           "legendgroup": "East Asia & Pacific",
           "marker": {
            "color": "#ab63fa",
            "symbol": "circle"
           },
           "mode": "markers",
           "name": "East Asia & Pacific",
           "orientation": "v",
           "showlegend": true,
           "type": "scatter",
           "x": {
            "bdata": "FK5H4XoU/j8=",
            "dtype": "f8"
           },
           "xaxis": "x",
           "y": {
            "bdata": "AACAYwuw0EE=",
            "dtype": "f8"
           },
           "yaxis": "y"
          },
          {
           "hovertemplate": "Country Name=European Union<br>Year=2009<br>Tasa De Fertilidad (Hijos Por Mujer)=%{x}<br>Población Urbanizada=%{y}<extra></extra>",
           "legendgroup": "European Union",
           "marker": {
            "color": "#FFA15A",
            "symbol": "circle"
           },
           "mode": "markers",
           "name": "European Union",
           "orientation": "v",
           "showlegend": true,
           "type": "scatter",
           "x": {
            "bdata": "9ihcj8L1+D8=",
            "dtype": "f8"
           },
           "xaxis": "x",
           "y": {
            "bdata": "AAAA1Ikfs0E=",
            "dtype": "f8"
           },
           "yaxis": "y"
          },
          {
           "hovertemplate": "Country Name=Latin America & Caribbean<br>Year=2009<br>Tasa De Fertilidad (Hijos Por Mujer)=%{x}<br>Población Urbanizada=%{y}<extra></extra>",
           "legendgroup": "Latin America & Caribbean",
           "marker": {
            "color": "#19d3f3",
            "symbol": "circle"
           },
           "mode": "markers",
           "name": "Latin America & Caribbean",
           "orientation": "v",
           "showlegend": true,
           "type": "scatter",
           "x": {
            "bdata": "rkfhehSuAUA=",
            "dtype": "f8"
           },
           "xaxis": "x",
           "y": {
            "bdata": "AAAA1d4fu0E=",
            "dtype": "f8"
           },
           "yaxis": "y"
          },
          {
           "hovertemplate": "Country Name=Mexico<br>Year=2009<br>Tasa De Fertilidad (Hijos Por Mujer)=%{x}<br>Población Urbanizada=%{y}<extra></extra>",
           "legendgroup": "Mexico",
           "marker": {
            "color": "#FF6692",
            "symbol": "circle"
           },
           "mode": "markers",
           "name": "Mexico",
           "orientation": "v",
           "showlegend": true,
           "type": "scatter",
           "x": {
            "bdata": "4XoUrkfhAkA=",
            "dtype": "f8"
           },
           "xaxis": "x",
           "y": {
            "bdata": "AAAAoDSzlEE=",
            "dtype": "f8"
           },
           "yaxis": "y"
          },
          {
           "hovertemplate": "Country Name=Middle East & North Africa<br>Year=2009<br>Tasa De Fertilidad (Hijos Por Mujer)=%{x}<br>Población Urbanizada=%{y}<extra></extra>",
           "legendgroup": "Middle East & North Africa",
           "marker": {
            "color": "#B6E880",
            "symbol": "circle"
           },
           "mode": "markers",
           "name": "Middle East & North Africa",
           "orientation": "v",
           "showlegend": true,
           "type": "scatter",
           "x": {
            "bdata": "H4XrUbgeB0A=",
            "dtype": "f8"
           },
           "xaxis": "x",
           "y": {
            "bdata": "AAAAdBylrEE=",
            "dtype": "f8"
           },
           "yaxis": "y"
          },
          {
           "hovertemplate": "Country Name=North America<br>Year=2009<br>Tasa De Fertilidad (Hijos Por Mujer)=%{x}<br>Población Urbanizada=%{y}<extra></extra>",
           "legendgroup": "North America",
           "marker": {
            "color": "#FF97FF",
            "symbol": "circle"
           },
           "mode": "markers",
           "name": "North America",
           "orientation": "v",
           "showlegend": true,
           "type": "scatter",
           "x": {
            "bdata": "hetRuB6F/z8=",
            "dtype": "f8"
           },
           "xaxis": "x",
           "y": {
            "bdata": "AAAA64RcsEE=",
            "dtype": "f8"
           },
           "yaxis": "y"
          },
          {
           "hovertemplate": "Country Name=South Africa<br>Year=2009<br>Tasa De Fertilidad (Hijos Por Mujer)=%{x}<br>Población Urbanizada=%{y}<extra></extra>",
           "legendgroup": "South Africa",
           "marker": {
            "color": "#FECB52",
            "symbol": "circle"
           },
           "mode": "markers",
           "name": "South Africa",
           "orientation": "v",
           "showlegend": true,
           "type": "scatter",
           "x": {
            "bdata": "AAAAAAAABEA=",
            "dtype": "f8"
           },
           "xaxis": "x",
           "y": {
            "bdata": "AAAAoHhufkE=",
            "dtype": "f8"
           },
           "yaxis": "y"
          },
          {
           "hovertemplate": "Country Name=South Asia<br>Year=2009<br>Tasa De Fertilidad (Hijos Por Mujer)=%{x}<br>Población Urbanizada=%{y}<extra></extra>",
           "legendgroup": "South Asia",
           "marker": {
            "color": "#636efa",
            "symbol": "circle"
           },
           "mode": "markers",
           "name": "South Asia",
           "orientation": "v",
           "showlegend": true,
           "type": "scatter",
           "x": {
            "bdata": "CtejcD0KB0A=",
            "dtype": "f8"
           },
           "xaxis": "x",
           "y": {
            "bdata": "AAAAxrPxvUE=",
            "dtype": "f8"
           },
           "yaxis": "y"
          },
          {
           "hovertemplate": "Country Name=Spain<br>Year=2009<br>Tasa De Fertilidad (Hijos Por Mujer)=%{x}<br>Población Urbanizada=%{y}<extra></extra>",
           "legendgroup": "Spain",
           "marker": {
            "color": "#EF553B",
            "symbol": "circle"
           },
           "mode": "markers",
           "name": "Spain",
           "orientation": "v",
           "showlegend": true,
           "type": "scatter",
           "x": {
            "bdata": "FK5H4XoU9j8=",
            "dtype": "f8"
           },
           "xaxis": "x",
           "y": {
            "bdata": "AAAAYFNKgUE=",
            "dtype": "f8"
           },
           "yaxis": "y"
          },
          {
           "hovertemplate": "Country Name=Sub-Saharan Africa<br>Year=2009<br>Tasa De Fertilidad (Hijos Por Mujer)=%{x}<br>Población Urbanizada=%{y}<extra></extra>",
           "legendgroup": "Sub-Saharan Africa",
           "marker": {
            "color": "#00cc96",
            "symbol": "circle"
           },
           "mode": "markers",
           "name": "Sub-Saharan Africa",
           "orientation": "v",
           "showlegend": true,
           "type": "scatter",
           "x": {
            "bdata": "exSuR+F6FUA=",
            "dtype": "f8"
           },
           "xaxis": "x",
           "y": {
            "bdata": "AAAAVtlvskE=",
            "dtype": "f8"
           },
           "yaxis": "y"
          }
         ],
         "name": "2009"
        },
        {
         "data": [
          {
           "hovertemplate": "Country Name=Africa Eastern and Southern<br>Year=2010<br>Tasa De Fertilidad (Hijos Por Mujer)=%{x}<br>Población Urbanizada=%{y}<extra></extra>",
           "legendgroup": "Africa Eastern and Southern",
           "marker": {
            "color": "#636efa",
            "symbol": "circle"
           },
           "mode": "markers",
           "name": "Africa Eastern and Southern",
           "orientation": "v",
           "showlegend": true,
           "type": "scatter",
           "x": {
            "bdata": "KVyPwvUoFEA=",
            "dtype": "f8"
           },
           "xaxis": "x",
           "y": {
            "bdata": "AAAAiHJapEE=",
            "dtype": "f8"
           },
           "yaxis": "y"
          },
          {
           "hovertemplate": "Country Name=Arab World<br>Year=2010<br>Tasa De Fertilidad (Hijos Por Mujer)=%{x}<br>Población Urbanizada=%{y}<extra></extra>",
           "legendgroup": "Arab World",
           "marker": {
            "color": "#EF553B",
            "symbol": "circle"
           },
           "mode": "markers",
           "name": "Arab World",
           "orientation": "v",
           "showlegend": true,
           "type": "scatter",
           "x": {
            "bdata": "UrgehetRDEA=",
            "dtype": "f8"
           },
           "xaxis": "x",
           "y": {
            "bdata": "AAAAqh4VqEE=",
            "dtype": "f8"
           },
           "yaxis": "y"
          },
          {
           "hovertemplate": "Country Name=Central African Republic<br>Year=2010<br>Tasa De Fertilidad (Hijos Por Mujer)=%{x}<br>Población Urbanizada=%{y}<extra></extra>",
           "legendgroup": "Central African Republic",
           "marker": {
            "color": "#00cc96",
            "symbol": "circle"
           },
           "mode": "markers",
           "name": "Central African Republic",
           "orientation": "v",
           "showlegend": true,
           "type": "scatter",
           "x": {
            "bdata": "w/UoXI/CF0A=",
            "dtype": "f8"
           },
           "xaxis": "x",
           "y": {
            "bdata": "AAAAAPOrOkE=",
            "dtype": "f8"
           },
           "yaxis": "y"
          },
          {
           "hovertemplate": "Country Name=East Asia & Pacific<br>Year=2010<br>Tasa De Fertilidad (Hijos Por Mujer)=%{x}<br>Población Urbanizada=%{y}<extra></extra>",
           "legendgroup": "East Asia & Pacific",
           "marker": {
            "color": "#ab63fa",
            "symbol": "circle"
           },
           "mode": "markers",
           "name": "East Asia & Pacific",
           "orientation": "v",
           "showlegend": true,
           "type": "scatter",
           "x": {
            "bdata": "w/UoXI/C/T8=",
            "dtype": "f8"
           },
           "xaxis": "x",
           "y": {
            "bdata": "AABAL4Qk0UE=",
            "dtype": "f8"
           },
           "yaxis": "y"
          },
          {
           "hovertemplate": "Country Name=European Union<br>Year=2010<br>Tasa De Fertilidad (Hijos Por Mujer)=%{x}<br>Población Urbanizada=%{y}<extra></extra>",
           "legendgroup": "European Union",
           "marker": {
            "color": "#FFA15A",
            "symbol": "circle"
           },
           "mode": "markers",
           "name": "European Union",
           "orientation": "v",
           "showlegend": true,
           "type": "scatter",
           "x": {
            "bdata": "H4XrUbge+T8=",
            "dtype": "f8"
           },
           "xaxis": "x",
           "y": {
            "bdata": "AAAAH3g0s0E=",
            "dtype": "f8"
           },
           "yaxis": "y"
          },
          {
           "hovertemplate": "Country Name=Latin America & Caribbean<br>Year=2010<br>Tasa De Fertilidad (Hijos Por Mujer)=%{x}<br>Población Urbanizada=%{y}<extra></extra>",
           "legendgroup": "Latin America & Caribbean",
           "marker": {
            "color": "#19d3f3",
            "symbol": "circle"
           },
           "mode": "markers",
           "name": "Latin America & Caribbean",
           "orientation": "v",
           "showlegend": true,
           "type": "scatter",
           "x": {
            "bdata": "hetRuB6FAUA=",
            "dtype": "f8"
           },
           "xaxis": "x",
           "y": {
            "bdata": "AAAAzuWEu0E=",
            "dtype": "f8"
           },
           "yaxis": "y"
          },
          {
           "hovertemplate": "Country Name=Mexico<br>Year=2010<br>Tasa De Fertilidad (Hijos Por Mujer)=%{x}<br>Población Urbanizada=%{y}<extra></extra>",
           "legendgroup": "Mexico",
           "marker": {
            "color": "#FF6692",
            "symbol": "circle"
           },
           "mode": "markers",
           "name": "Mexico",
           "orientation": "v",
           "showlegend": true,
           "type": "scatter",
           "x": {
            "bdata": "uB6F61G4AkA=",
            "dtype": "f8"
           },
           "xaxis": "x",
           "y": {
            "bdata": "AAAAyIIUlUE=",
            "dtype": "f8"
           },
           "yaxis": "y"
          },
          {
           "hovertemplate": "Country Name=Middle East & North Africa<br>Year=2010<br>Tasa De Fertilidad (Hijos Por Mujer)=%{x}<br>Población Urbanizada=%{y}<extra></extra>",
           "legendgroup": "Middle East & North Africa",
           "marker": {
            "color": "#B6E880",
            "symbol": "circle"
           },
           "mode": "markers",
           "name": "Middle East & North Africa",
           "orientation": "v",
           "showlegend": true,
           "type": "scatter",
           "x": {
            "bdata": "SOF6FK5HB0A=",
            "dtype": "f8"
           },
           "xaxis": "x",
           "y": {
            "bdata": "AAAAhNJMrUE=",
            "dtype": "f8"
           },
           "yaxis": "y"
          },
          {
           "hovertemplate": "Country Name=North America<br>Year=2010<br>Tasa De Fertilidad (Hijos Por Mujer)=%{x}<br>Población Urbanizada=%{y}<extra></extra>",
           "legendgroup": "North America",
           "marker": {
            "color": "#FF97FF",
            "symbol": "circle"
           },
           "mode": "markers",
           "name": "North America",
           "orientation": "v",
           "showlegend": true,
           "type": "scatter",
           "x": {
            "bdata": "ZmZmZmZm/j8=",
            "dtype": "f8"
           },
           "xaxis": "x",
           "y": {
            "bdata": "AAAAglmJsEE=",
            "dtype": "f8"
           },
           "yaxis": "y"
          },
          {
           "hovertemplate": "Country Name=South Africa<br>Year=2010<br>Tasa De Fertilidad (Hijos Por Mujer)=%{x}<br>Población Urbanizada=%{y}<extra></extra>",
           "legendgroup": "South Africa",
           "marker": {
            "color": "#FECB52",
            "symbol": "circle"
           },
           "mode": "markers",
           "name": "South Africa",
           "orientation": "v",
           "showlegend": true,
           "type": "scatter",
           "x": {
            "bdata": "hetRuB6FA0A=",
            "dtype": "f8"
           },
           "xaxis": "x",
           "y": {
            "bdata": "AAAA4AcPf0E=",
            "dtype": "f8"
           },
           "yaxis": "y"
          },
          {
           "hovertemplate": "Country Name=South Asia<br>Year=2010<br>Tasa De Fertilidad (Hijos Por Mujer)=%{x}<br>Población Urbanizada=%{y}<extra></extra>",
           "legendgroup": "South Asia",
           "marker": {
            "color": "#636efa",
            "symbol": "circle"
           },
           "mode": "markers",
           "name": "South Asia",
           "orientation": "v",
           "showlegend": true,
           "type": "scatter",
           "x": {
            "bdata": "exSuR+F6BkA=",
            "dtype": "f8"
           },
           "xaxis": "x",
           "y": {
            "bdata": "AAAATkfEvkE=",
            "dtype": "f8"
           },
           "yaxis": "y"
          },
          {
           "hovertemplate": "Country Name=Spain<br>Year=2010<br>Tasa De Fertilidad (Hijos Por Mujer)=%{x}<br>Población Urbanizada=%{y}<extra></extra>",
           "legendgroup": "Spain",
           "marker": {
            "color": "#EF553B",
            "symbol": "circle"
           },
           "mode": "markers",
           "name": "Spain",
           "orientation": "v",
           "showlegend": true,
           "type": "scatter",
           "x": {
            "bdata": "7FG4HoXr9T8=",
            "dtype": "f8"
           },
           "xaxis": "x",
           "y": {
            "bdata": "AAAAUPFrgUE=",
            "dtype": "f8"
           },
           "yaxis": "y"
          },
          {
           "hovertemplate": "Country Name=Sub-Saharan Africa<br>Year=2010<br>Tasa De Fertilidad (Hijos Por Mujer)=%{x}<br>Población Urbanizada=%{y}<extra></extra>",
           "legendgroup": "Sub-Saharan Africa",
           "marker": {
            "color": "#00cc96",
            "symbol": "circle"
           },
           "mode": "markers",
           "name": "Sub-Saharan Africa",
           "orientation": "v",
           "showlegend": true,
           "type": "scatter",
           "x": {
            "bdata": "PQrXo3A9FUA=",
            "dtype": "f8"
           },
           "xaxis": "x",
           "y": {
            "bdata": "AAAAPBI6s0E=",
            "dtype": "f8"
           },
           "yaxis": "y"
          }
         ],
         "name": "2010"
        },
        {
         "data": [
          {
           "hovertemplate": "Country Name=Africa Eastern and Southern<br>Year=2011<br>Tasa De Fertilidad (Hijos Por Mujer)=%{x}<br>Población Urbanizada=%{y}<extra></extra>",
           "legendgroup": "Africa Eastern and Southern",
           "marker": {
            "color": "#636efa",
            "symbol": "circle"
           },
           "mode": "markers",
           "name": "Africa Eastern and Southern",
           "orientation": "v",
           "showlegend": true,
           "type": "scatter",
           "x": {
            "bdata": "4XoUrkfhE0A=",
            "dtype": "f8"
           },
           "xaxis": "x",
           "y": {
            "bdata": "AAAAFB4wpUE=",
            "dtype": "f8"
           },
           "yaxis": "y"
          },
          {
           "hovertemplate": "Country Name=Arab World<br>Year=2011<br>Tasa De Fertilidad (Hijos Por Mujer)=%{x}<br>Población Urbanizada=%{y}<extra></extra>",
           "legendgroup": "Arab World",
           "marker": {
            "color": "#EF553B",
            "symbol": "circle"
           },
           "mode": "markers",
           "name": "Arab World",
           "orientation": "v",
           "showlegend": true,
           "type": "scatter",
           "x": {
            "bdata": "UrgehetRDEA=",
            "dtype": "f8"
           },
           "xaxis": "x",
           "y": {
            "bdata": "AAAAMuTHqEE=",
            "dtype": "f8"
           },
           "yaxis": "y"
          },
          {
           "hovertemplate": "Country Name=Central African Republic<br>Year=2011<br>Tasa De Fertilidad (Hijos Por Mujer)=%{x}<br>Población Urbanizada=%{y}<extra></extra>",
           "legendgroup": "Central African Republic",
           "marker": {
            "color": "#00cc96",
            "symbol": "circle"
           },
           "mode": "markers",
           "name": "Central African Republic",
           "orientation": "v",
           "showlegend": true,
           "type": "scatter",
           "x": {
            "bdata": "16NwPQrXF0A=",
            "dtype": "f8"
           },
           "xaxis": "x",
           "y": {
            "bdata": "AAAAAJlCO0E=",
            "dtype": "f8"
           },
           "yaxis": "y"
          },
          {
           "hovertemplate": "Country Name=East Asia & Pacific<br>Year=2011<br>Tasa De Fertilidad (Hijos Por Mujer)=%{x}<br>Población Urbanizada=%{y}<extra></extra>",
           "legendgroup": "East Asia & Pacific",
           "marker": {
            "color": "#ab63fa",
            "symbol": "circle"
           },
           "mode": "markers",
           "name": "East Asia & Pacific",
           "orientation": "v",
           "showlegend": true,
           "type": "scatter",
           "x": {
            "bdata": "mpmZmZmZ/T8=",
            "dtype": "f8"
           },
           "xaxis": "x",
           "y": {
            "bdata": "AACAUXmT0UE=",
            "dtype": "f8"
           },
           "yaxis": "y"
          },
          {
           "hovertemplate": "Country Name=European Union<br>Year=2011<br>Tasa De Fertilidad (Hijos Por Mujer)=%{x}<br>Población Urbanizada=%{y}<extra></extra>",
           "legendgroup": "European Union",
           "marker": {
            "color": "#FFA15A",
            "symbol": "circle"
           },
           "mode": "markers",
           "name": "European Union",
           "orientation": "v",
           "showlegend": true,
           "type": "scatter",
           "x": {
            "bdata": "exSuR+F6+D8=",
            "dtype": "f8"
           },
           "xaxis": "x",
           "y": {
            "bdata": "AAAA/PE4s0E=",
            "dtype": "f8"
           },
           "yaxis": "y"
          },
          {
           "hovertemplate": "Country Name=Latin America & Caribbean<br>Year=2011<br>Tasa De Fertilidad (Hijos Por Mujer)=%{x}<br>Población Urbanizada=%{y}<extra></extra>",
           "legendgroup": "Latin America & Caribbean",
           "marker": {
            "color": "#19d3f3",
            "symbol": "circle"
           },
           "mode": "markers",
           "name": "Latin America & Caribbean",
           "orientation": "v",
           "showlegend": true,
           "type": "scatter",
           "x": {
            "bdata": "XI/C9ShcAUA=",
            "dtype": "f8"
           },
           "xaxis": "x",
           "y": {
            "bdata": "AAAA6qHpu0E=",
            "dtype": "f8"
           },
           "yaxis": "y"
          },
          {
           "hovertemplate": "Country Name=Mexico<br>Year=2011<br>Tasa De Fertilidad (Hijos Por Mujer)=%{x}<br>Población Urbanizada=%{y}<extra></extra>",
           "legendgroup": "Mexico",
           "marker": {
            "color": "#FF6692",
            "symbol": "circle"
           },
           "mode": "markers",
           "name": "Mexico",
           "orientation": "v",
           "showlegend": true,
           "type": "scatter",
           "x": {
            "bdata": "j8L1KFyPAkA=",
            "dtype": "f8"
           },
           "xaxis": "x",
           "y": {
            "bdata": "AAAA9EB2lUE=",
            "dtype": "f8"
           },
           "yaxis": "y"
          },
          {
           "hovertemplate": "Country Name=Middle East & North Africa<br>Year=2011<br>Tasa De Fertilidad (Hijos Por Mujer)=%{x}<br>Población Urbanizada=%{y}<extra></extra>",
           "legendgroup": "Middle East & North Africa",
           "marker": {
            "color": "#B6E880",
            "symbol": "circle"
           },
           "mode": "markers",
           "name": "Middle East & North Africa",
           "orientation": "v",
           "showlegend": true,
           "type": "scatter",
           "x": {
            "bdata": "cT0K16NwB0A=",
            "dtype": "f8"
           },
           "xaxis": "x",
           "y": {
            "bdata": "AAAAmooTrkE=",
            "dtype": "f8"
           },
           "yaxis": "y"
          },
          {
           "hovertemplate": "Country Name=North America<br>Year=2011<br>Tasa De Fertilidad (Hijos Por Mujer)=%{x}<br>Población Urbanizada=%{y}<extra></extra>",
           "legendgroup": "North America",
           "marker": {
            "color": "#FF97FF",
            "symbol": "circle"
           },
           "mode": "markers",
           "name": "North America",
           "orientation": "v",
           "showlegend": true,
           "type": "scatter",
           "x": {
            "bdata": "7FG4HoXr/T8=",
            "dtype": "f8"
           },
           "xaxis": "x",
           "y": {
            "bdata": "AAAAMUmysEE=",
            "dtype": "f8"
           },
           "yaxis": "y"
          },
          {
           "hovertemplate": "Country Name=South Africa<br>Year=2011<br>Tasa De Fertilidad (Hijos Por Mujer)=%{x}<br>Población Urbanizada=%{y}<extra></extra>",
           "legendgroup": "South Africa",
           "marker": {
            "color": "#FECB52",
            "symbol": "circle"
           },
           "mode": "markers",
           "name": "South Africa",
           "orientation": "v",
           "showlegend": true,
           "type": "scatter",
           "x": {
            "bdata": "hetRuB6FA0A=",
            "dtype": "f8"
           },
           "xaxis": "x",
           "y": {
            "bdata": "AAAAMEG2f0E=",
            "dtype": "f8"
           },
           "yaxis": "y"
          },
          {
           "hovertemplate": "Country Name=South Asia<br>Year=2011<br>Tasa De Fertilidad (Hijos Por Mujer)=%{x}<br>Población Urbanizada=%{y}<extra></extra>",
           "legendgroup": "South Asia",
           "marker": {
            "color": "#636efa",
            "symbol": "circle"
           },
           "mode": "markers",
           "name": "South Asia",
           "orientation": "v",
           "showlegend": true,
           "type": "scatter",
           "x": {
            "bdata": "AAAAAAAABkA=",
            "dtype": "f8"
           },
           "xaxis": "x",
           "y": {
            "bdata": "AAAAAHWYv0E=",
            "dtype": "f8"
           },
           "yaxis": "y"
          },
          {
           "hovertemplate": "Country Name=Spain<br>Year=2011<br>Tasa De Fertilidad (Hijos Por Mujer)=%{x}<br>Población Urbanizada=%{y}<extra></extra>",
           "legendgroup": "Spain",
           "marker": {
            "color": "#EF553B",
            "symbol": "circle"
           },
           "mode": "markers",
           "name": "Spain",
           "orientation": "v",
           "showlegend": true,
           "type": "scatter",
           "x": {
            "bdata": "cT0K16Nw9T8=",
            "dtype": "f8"
           },
           "xaxis": "x",
           "y": {
            "bdata": "AAAA0P+IgUE=",
            "dtype": "f8"
           },
           "yaxis": "y"
          },
          {
           "hovertemplate": "Country Name=Sub-Saharan Africa<br>Year=2011<br>Tasa De Fertilidad (Hijos Por Mujer)=%{x}<br>Población Urbanizada=%{y}<extra></extra>",
           "legendgroup": "Sub-Saharan Africa",
           "marker": {
            "color": "#00cc96",
            "symbol": "circle"
           },
           "mode": "markers",
           "name": "Sub-Saharan Africa",
           "orientation": "v",
           "showlegend": true,
           "type": "scatter",
           "x": {
            "bdata": "9ihcj8L1FEA=",
            "dtype": "f8"
           },
           "xaxis": "x",
           "y": {
            "bdata": "AAAAqhEMtEE=",
            "dtype": "f8"
           },
           "yaxis": "y"
          }
         ],
         "name": "2011"
        },
        {
         "data": [
          {
           "hovertemplate": "Country Name=Africa Eastern and Southern<br>Year=2012<br>Tasa De Fertilidad (Hijos Por Mujer)=%{x}<br>Población Urbanizada=%{y}<extra></extra>",
           "legendgroup": "Africa Eastern and Southern",
           "marker": {
            "color": "#636efa",
            "symbol": "circle"
           },
           "mode": "markers",
           "name": "Africa Eastern and Southern",
           "orientation": "v",
           "showlegend": true,
           "type": "scatter",
           "x": {
            "bdata": "hetRuB6FE0A=",
            "dtype": "f8"
           },
           "xaxis": "x",
           "y": {
            "bdata": "AAAASroMpkE=",
            "dtype": "f8"
           },
           "yaxis": "y"
          },
          {
           "hovertemplate": "Country Name=Arab World<br>Year=2012<br>Tasa De Fertilidad (Hijos Por Mujer)=%{x}<br>Población Urbanizada=%{y}<extra></extra>",
           "legendgroup": "Arab World",
           "marker": {
            "color": "#EF553B",
            "symbol": "circle"
           },
           "mode": "markers",
           "name": "Arab World",
           "orientation": "v",
           "showlegend": true,
           "type": "scatter",
           "x": {
            "bdata": "UrgehetRDEA=",
            "dtype": "f8"
           },
           "xaxis": "x",
           "y": {
            "bdata": "AAAAvAODqUE=",
            "dtype": "f8"
           },
           "yaxis": "y"
          },
          {
           "hovertemplate": "Country Name=Central African Republic<br>Year=2012<br>Tasa De Fertilidad (Hijos Por Mujer)=%{x}<br>Población Urbanizada=%{y}<extra></extra>",
           "legendgroup": "Central African Republic",
           "marker": {
            "color": "#00cc96",
            "symbol": "circle"
           },
           "mode": "markers",
           "name": "Central African Republic",
           "orientation": "v",
           "showlegend": true,
           "type": "scatter",
           "x": {
            "bdata": "CtejcD0KGEA=",
            "dtype": "f8"
           },
           "xaxis": "x",
           "y": {
            "bdata": "AAAAADm2O0E=",
            "dtype": "f8"
           },
           "yaxis": "y"
          },
          {
           "hovertemplate": "Country Name=East Asia & Pacific<br>Year=2012<br>Tasa De Fertilidad (Hijos Por Mujer)=%{x}<br>Población Urbanizada=%{y}<extra></extra>",
           "legendgroup": "East Asia & Pacific",
           "marker": {
            "color": "#ab63fa",
            "symbol": "circle"
           },
           "mode": "markers",
           "name": "East Asia & Pacific",
           "orientation": "v",
           "showlegend": true,
           "type": "scatter",
           "x": {
            "bdata": "4XoUrkfh/j8=",
            "dtype": "f8"
           },
           "xaxis": "x",
           "y": {
            "bdata": "AABAiL8E0kE=",
            "dtype": "f8"
           },
           "yaxis": "y"
          },
          {
           "hovertemplate": "Country Name=European Union<br>Year=2012<br>Tasa De Fertilidad (Hijos Por Mujer)=%{x}<br>Población Urbanizada=%{y}<extra></extra>",
           "legendgroup": "European Union",
           "marker": {
            "color": "#FFA15A",
            "symbol": "circle"
           },
           "mode": "markers",
           "name": "European Union",
           "orientation": "v",
           "showlegend": true,
           "type": "scatter",
           "x": {
            "bdata": "exSuR+F6+D8=",
            "dtype": "f8"
           },
           "xaxis": "x",
           "y": {
            "bdata": "AAAAGu9Ms0E=",
            "dtype": "f8"
           },
           "yaxis": "y"
          },
          {
           "hovertemplate": "Country Name=Latin America & Caribbean<br>Year=2012<br>Tasa De Fertilidad (Hijos Por Mujer)=%{x}<br>Población Urbanizada=%{y}<extra></extra>",
           "legendgroup": "Latin America & Caribbean",
           "marker": {
            "color": "#19d3f3",
            "symbol": "circle"
           },
           "mode": "markers",
           "name": "Latin America & Caribbean",
           "orientation": "v",
           "showlegend": true,
           "type": "scatter",
           "x": {
            "bdata": "H4XrUbgeAUA=",
            "dtype": "f8"
           },
           "xaxis": "x",
           "y": {
            "bdata": "AAAAGyFOvEE=",
            "dtype": "f8"
           },
           "yaxis": "y"
          },
          {
           "hovertemplate": "Country Name=Mexico<br>Year=2012<br>Tasa De Fertilidad (Hijos Por Mujer)=%{x}<br>Población Urbanizada=%{y}<extra></extra>",
           "legendgroup": "Mexico",
           "marker": {
            "color": "#FF6692",
            "symbol": "circle"
           },
           "mode": "markers",
           "name": "Mexico",
           "orientation": "v",
           "showlegend": true,
           "type": "scatter",
           "x": {
            "bdata": "UrgehetRAkA=",
            "dtype": "f8"
           },
           "xaxis": "x",
           "y": {
            "bdata": "AAAAUErWlUE=",
            "dtype": "f8"
           },
           "yaxis": "y"
          },
          {
           "hovertemplate": "Country Name=Middle East & North Africa<br>Year=2012<br>Tasa De Fertilidad (Hijos Por Mujer)=%{x}<br>Población Urbanizada=%{y}<extra></extra>",
           "legendgroup": "Middle East & North Africa",
           "marker": {
            "color": "#B6E880",
            "symbol": "circle"
           },
           "mode": "markers",
           "name": "Middle East & North Africa",
           "orientation": "v",
           "showlegend": true,
           "type": "scatter",
           "x": {
            "bdata": "rkfhehSuB0A=",
            "dtype": "f8"
           },
           "xaxis": "x",
           "y": {
            "bdata": "AAAA8AzmrkE=",
            "dtype": "f8"
           },
           "yaxis": "y"
          },
          {
           "hovertemplate": "Country Name=North America<br>Year=2012<br>Tasa De Fertilidad (Hijos Por Mujer)=%{x}<br>Población Urbanizada=%{y}<extra></extra>",
           "legendgroup": "North America",
           "marker": {
            "color": "#FF97FF",
            "symbol": "circle"
           },
           "mode": "markers",
           "name": "North America",
           "orientation": "v",
           "showlegend": true,
           "type": "scatter",
           "x": {
            "bdata": "mpmZmZmZ/T8=",
            "dtype": "f8"
           },
           "xaxis": "x",
           "y": {
            "bdata": "AAAAUtnbsEE=",
            "dtype": "f8"
           },
           "yaxis": "y"
          },
          {
           "hovertemplate": "Country Name=South Africa<br>Year=2012<br>Tasa De Fertilidad (Hijos Por Mujer)=%{x}<br>Población Urbanizada=%{y}<extra></extra>",
           "legendgroup": "South Africa",
           "marker": {
            "color": "#FECB52",
            "symbol": "circle"
           },
           "mode": "markers",
           "name": "South Africa",
           "orientation": "v",
           "showlegend": true,
           "type": "scatter",
           "x": {
            "bdata": "mpmZmZmZA0A=",
            "dtype": "f8"
           },
           "xaxis": "x",
           "y": {
            "bdata": "AAAA0Pc5gEE=",
            "dtype": "f8"
           },
           "yaxis": "y"
          },
          {
           "hovertemplate": "Country Name=South Asia<br>Year=2012<br>Tasa De Fertilidad (Hijos Por Mujer)=%{x}<br>Población Urbanizada=%{y}<extra></extra>",
           "legendgroup": "South Asia",
           "marker": {
            "color": "#636efa",
            "symbol": "circle"
           },
           "mode": "markers",
           "name": "South Asia",
           "orientation": "v",
           "showlegend": true,
           "type": "scatter",
           "x": {
            "bdata": "cT0K16NwBUA=",
            "dtype": "f8"
           },
           "xaxis": "x",
           "y": {
            "bdata": "AAAAPQs3wEE=",
            "dtype": "f8"
           },
           "yaxis": "y"
          },
          {
           "hovertemplate": "Country Name=Spain<br>Year=2012<br>Tasa De Fertilidad (Hijos Por Mujer)=%{x}<br>Población Urbanizada=%{y}<extra></extra>",
           "legendgroup": "Spain",
           "marker": {
            "color": "#EF553B",
            "symbol": "circle"
           },
           "mode": "markers",
           "name": "Spain",
           "orientation": "v",
           "showlegend": true,
           "type": "scatter",
           "x": {
            "bdata": "H4XrUbge9T8=",
            "dtype": "f8"
           },
           "xaxis": "x",
           "y": {
            "bdata": "AAAAYP2YgUE=",
            "dtype": "f8"
           },
           "yaxis": "y"
          },
          {
           "hovertemplate": "Country Name=Sub-Saharan Africa<br>Year=2012<br>Tasa De Fertilidad (Hijos Por Mujer)=%{x}<br>Población Urbanizada=%{y}<extra></extra>",
           "legendgroup": "Sub-Saharan Africa",
           "marker": {
            "color": "#00cc96",
            "symbol": "circle"
           },
           "mode": "markers",
           "name": "Sub-Saharan Africa",
           "orientation": "v",
           "showlegend": true,
           "type": "scatter",
           "x": {
            "bdata": "pHA9CtejFEA=",
            "dtype": "f8"
           },
           "xaxis": "x",
           "y": {
            "bdata": "AAAAX0jktEE=",
            "dtype": "f8"
           },
           "yaxis": "y"
          }
         ],
         "name": "2012"
        },
        {
         "data": [
          {
           "hovertemplate": "Country Name=Africa Eastern and Southern<br>Year=2013<br>Tasa De Fertilidad (Hijos Por Mujer)=%{x}<br>Población Urbanizada=%{y}<extra></extra>",
           "legendgroup": "Africa Eastern and Southern",
           "marker": {
            "color": "#636efa",
            "symbol": "circle"
           },
           "mode": "markers",
           "name": "Africa Eastern and Southern",
           "orientation": "v",
           "showlegend": true,
           "type": "scatter",
           "x": {
            "bdata": "PQrXo3A9E0A=",
            "dtype": "f8"
           },
           "xaxis": "x",
           "y": {
            "bdata": "AAAAjur3pkE=",
            "dtype": "f8"
           },
           "yaxis": "y"
          },
          {
           "hovertemplate": "Country Name=Arab World<br>Year=2013<br>Tasa De Fertilidad (Hijos Por Mujer)=%{x}<br>Población Urbanizada=%{y}<extra></extra>",
           "legendgroup": "Arab World",
           "marker": {
            "color": "#EF553B",
            "symbol": "circle"
           },
           "mode": "markers",
           "name": "Arab World",
           "orientation": "v",
           "showlegend": true,
           "type": "scatter",
           "x": {
            "bdata": "UrgehetRDEA=",
            "dtype": "f8"
           },
           "xaxis": "x",
           "y": {
            "bdata": "AAAAqulaqkE=",
            "dtype": "f8"
           },
           "yaxis": "y"
          },
          {
           "hovertemplate": "Country Name=Central African Republic<br>Year=2013<br>Tasa De Fertilidad (Hijos Por Mujer)=%{x}<br>Población Urbanizada=%{y}<extra></extra>",
           "legendgroup": "Central African Republic",
           "marker": {
            "color": "#00cc96",
            "symbol": "circle"
           },
           "mode": "markers",
           "name": "Central African Republic",
           "orientation": "v",
           "showlegend": true,
           "type": "scatter",
           "x": {
            "bdata": "FK5H4XoUGEA=",
            "dtype": "f8"
           },
           "xaxis": "x",
           "y": {
            "bdata": "AAAAAKsYPEE=",
            "dtype": "f8"
           },
           "yaxis": "y"
          },
          {
           "hovertemplate": "Country Name=East Asia & Pacific<br>Year=2013<br>Tasa De Fertilidad (Hijos Por Mujer)=%{x}<br>Población Urbanizada=%{y}<extra></extra>",
           "legendgroup": "East Asia & Pacific",
           "marker": {
            "color": "#ab63fa",
            "symbol": "circle"
           },
           "mode": "markers",
           "name": "East Asia & Pacific",
           "orientation": "v",
           "showlegend": true,
           "type": "scatter",
           "x": {
            "bdata": "7FG4HoXr/T8=",
            "dtype": "f8"
           },
           "xaxis": "x",
           "y": {
            "bdata": "AADAezV20kE=",
            "dtype": "f8"
           },
           "yaxis": "y"
          },
          {
           "hovertemplate": "Country Name=European Union<br>Year=2013<br>Tasa De Fertilidad (Hijos Por Mujer)=%{x}<br>Población Urbanizada=%{y}<extra></extra>",
           "legendgroup": "European Union",
           "marker": {
            "color": "#FFA15A",
            "symbol": "circle"
           },
           "mode": "markers",
           "name": "European Union",
           "orientation": "v",
           "showlegend": true,
           "type": "scatter",
           "x": {
            "bdata": "KVyPwvUo+D8=",
            "dtype": "f8"
           },
           "xaxis": "x",
           "y": {
            "bdata": "AAAAtENls0E=",
            "dtype": "f8"
           },
           "yaxis": "y"
          },
          {
           "hovertemplate": "Country Name=Latin America & Caribbean<br>Year=2013<br>Tasa De Fertilidad (Hijos Por Mujer)=%{x}<br>Población Urbanizada=%{y}<extra></extra>",
           "legendgroup": "Latin America & Caribbean",
           "marker": {
            "color": "#19d3f3",
            "symbol": "circle"
           },
           "mode": "markers",
           "name": "Latin America & Caribbean",
           "orientation": "v",
           "showlegend": true,
           "type": "scatter",
           "x": {
            "bdata": "4XoUrkfhAEA=",
            "dtype": "f8"
           },
           "xaxis": "x",
           "y": {
            "bdata": "AAAAedOxvEE=",
            "dtype": "f8"
           },
           "yaxis": "y"
          },
          {
           "hovertemplate": "Country Name=Mexico<br>Year=2013<br>Tasa De Fertilidad (Hijos Por Mujer)=%{x}<br>Población Urbanizada=%{y}<extra></extra>",
           "legendgroup": "Mexico",
           "marker": {
            "color": "#FF6692",
            "symbol": "circle"
           },
           "mode": "markers",
           "name": "Mexico",
           "orientation": "v",
           "showlegend": true,
           "type": "scatter",
           "x": {
            "bdata": "KVyPwvUoAkA=",
            "dtype": "f8"
           },
           "xaxis": "x",
           "y": {
            "bdata": "AAAApIU0lkE=",
            "dtype": "f8"
           },
           "yaxis": "y"
          },
          {
           "hovertemplate": "Country Name=Middle East & North Africa<br>Year=2013<br>Tasa De Fertilidad (Hijos Por Mujer)=%{x}<br>Población Urbanizada=%{y}<extra></extra>",
           "legendgroup": "Middle East & North Africa",
           "marker": {
            "color": "#B6E880",
            "symbol": "circle"
           },
           "mode": "markers",
           "name": "Middle East & North Africa",
           "orientation": "v",
           "showlegend": true,
           "type": "scatter",
           "x": {
            "bdata": "16NwPQrXB0A=",
            "dtype": "f8"
           },
           "xaxis": "x",
           "y": {
            "bdata": "AAAAKrXRr0E=",
            "dtype": "f8"
           },
           "yaxis": "y"
          },
          {
           "hovertemplate": "Country Name=North America<br>Year=2013<br>Tasa De Fertilidad (Hijos Por Mujer)=%{x}<br>Población Urbanizada=%{y}<extra></extra>",
           "legendgroup": "North America",
           "marker": {
            "color": "#FF97FF",
            "symbol": "circle"
           },
           "mode": "markers",
           "name": "North America",
           "orientation": "v",
           "showlegend": true,
           "type": "scatter",
           "x": {
            "bdata": "SOF6FK5H/T8=",
            "dtype": "f8"
           },
           "xaxis": "x",
           "y": {
            "bdata": "AAAAnk8EsUE=",
            "dtype": "f8"
           },
           "yaxis": "y"
          },
          {
           "hovertemplate": "Country Name=South Africa<br>Year=2013<br>Tasa De Fertilidad (Hijos Por Mujer)=%{x}<br>Población Urbanizada=%{y}<extra></extra>",
           "legendgroup": "South Africa",
           "marker": {
            "color": "#FECB52",
            "symbol": "circle"
           },
           "mode": "markers",
           "name": "South Africa",
           "orientation": "v",
           "showlegend": true,
           "type": "scatter",
           "x": {
            "bdata": "cT0K16NwA0A=",
            "dtype": "f8"
           },
           "xaxis": "x",
           "y": {
            "bdata": "AAAAyPahgEE=",
            "dtype": "f8"
           },
           "yaxis": "y"
          },
          {
           "hovertemplate": "Country Name=South Asia<br>Year=2013<br>Tasa De Fertilidad (Hijos Por Mujer)=%{x}<br>Población Urbanizada=%{y}<extra></extra>",
           "legendgroup": "South Asia",
           "marker": {
            "color": "#636efa",
            "symbol": "circle"
           },
           "mode": "markers",
           "name": "South Asia",
           "orientation": "v",
           "showlegend": true,
           "type": "scatter",
           "x": {
            "bdata": "CtejcD0KBUA=",
            "dtype": "f8"
           },
           "xaxis": "x",
           "y": {
            "bdata": "AAAAOcqgwEE=",
            "dtype": "f8"
           },
           "yaxis": "y"
          },
          {
           "hovertemplate": "Country Name=Spain<br>Year=2013<br>Tasa De Fertilidad (Hijos Por Mujer)=%{x}<br>Población Urbanizada=%{y}<extra></extra>",
           "legendgroup": "Spain",
           "marker": {
            "color": "#EF553B",
            "symbol": "circle"
           },
           "mode": "markers",
           "name": "Spain",
           "orientation": "v",
           "showlegend": true,
           "type": "scatter",
           "x": {
            "bdata": "UrgehetR9D8=",
            "dtype": "f8"
           },
           "xaxis": "x",
           "y": {
            "bdata": "AAAAAGaXgUE=",
            "dtype": "f8"
           },
           "yaxis": "y"
          },
          {
           "hovertemplate": "Country Name=Sub-Saharan Africa<br>Year=2013<br>Tasa De Fertilidad (Hijos Por Mujer)=%{x}<br>Población Urbanizada=%{y}<extra></extra>",
           "legendgroup": "Sub-Saharan Africa",
           "marker": {
            "color": "#00cc96",
            "symbol": "circle"
           },
           "mode": "markers",
           "name": "Sub-Saharan Africa",
           "orientation": "v",
           "showlegend": true,
           "type": "scatter",
           "x": {
            "bdata": "XI/C9ShcFEA=",
            "dtype": "f8"
           },
           "xaxis": "x",
           "y": {
            "bdata": "AAAA2vPFtUE=",
            "dtype": "f8"
           },
           "yaxis": "y"
          }
         ],
         "name": "2013"
        },
        {
         "data": [
          {
           "hovertemplate": "Country Name=Africa Eastern and Southern<br>Year=2014<br>Tasa De Fertilidad (Hijos Por Mujer)=%{x}<br>Población Urbanizada=%{y}<extra></extra>",
           "legendgroup": "Africa Eastern and Southern",
           "marker": {
            "color": "#636efa",
            "symbol": "circle"
           },
           "mode": "markers",
           "name": "Africa Eastern and Southern",
           "orientation": "v",
           "showlegend": true,
           "type": "scatter",
           "x": {
            "bdata": "9ihcj8L1EkA=",
            "dtype": "f8"
           },
           "xaxis": "x",
           "y": {
            "bdata": "AAAArJnsp0E=",
            "dtype": "f8"
           },
           "yaxis": "y"
          },
          {
           "hovertemplate": "Country Name=Arab World<br>Year=2014<br>Tasa De Fertilidad (Hijos Por Mujer)=%{x}<br>Población Urbanizada=%{y}<extra></extra>",
           "legendgroup": "Arab World",
           "marker": {
            "color": "#EF553B",
            "symbol": "circle"
           },
           "mode": "markers",
           "name": "Arab World",
           "orientation": "v",
           "showlegend": true,
           "type": "scatter",
           "x": {
            "bdata": "PQrXo3A9DEA=",
            "dtype": "f8"
           },
           "xaxis": "x",
           "y": {
            "bdata": "AAAAcmYmq0E=",
            "dtype": "f8"
           },
           "yaxis": "y"
          },
          {
           "hovertemplate": "Country Name=Central African Republic<br>Year=2014<br>Tasa De Fertilidad (Hijos Por Mujer)=%{x}<br>Población Urbanizada=%{y}<extra></extra>",
           "legendgroup": "Central African Republic",
           "marker": {
            "color": "#00cc96",
            "symbol": "circle"
           },
           "mode": "markers",
           "name": "Central African Republic",
           "orientation": "v",
           "showlegend": true,
           "type": "scatter",
           "x": {
            "bdata": "FK5H4XoUGEA=",
            "dtype": "f8"
           },
           "xaxis": "x",
           "y": {
            "bdata": "AAAAAFEwPEE=",
            "dtype": "f8"
           },
           "yaxis": "y"
          },
          {
           "hovertemplate": "Country Name=East Asia & Pacific<br>Year=2014<br>Tasa De Fertilidad (Hijos Por Mujer)=%{x}<br>Población Urbanizada=%{y}<extra></extra>",
           "legendgroup": "East Asia & Pacific",
           "marker": {
            "color": "#ab63fa",
            "symbol": "circle"
           },
           "mode": "markers",
           "name": "East Asia & Pacific",
           "orientation": "v",
           "showlegend": true,
           "type": "scatter",
           "x": {
            "bdata": "ZmZmZmZm/j8=",
            "dtype": "f8"
           },
           "xaxis": "x",
           "y": {
            "bdata": "AADAiovn0kE=",
            "dtype": "f8"
           },
           "yaxis": "y"
          },
          {
           "hovertemplate": "Country Name=European Union<br>Year=2014<br>Tasa De Fertilidad (Hijos Por Mujer)=%{x}<br>Población Urbanizada=%{y}<extra></extra>",
           "legendgroup": "European Union",
           "marker": {
            "color": "#FFA15A",
            "symbol": "circle"
           },
           "mode": "markers",
           "name": "European Union",
           "orientation": "v",
           "showlegend": true,
           "type": "scatter",
           "x": {
            "bdata": "pHA9Ctej+D8=",
            "dtype": "f8"
           },
           "xaxis": "x",
           "y": {
            "bdata": "AAAAL759s0E=",
            "dtype": "f8"
           },
           "yaxis": "y"
          },
          {
           "hovertemplate": "Country Name=Latin America & Caribbean<br>Year=2014<br>Tasa De Fertilidad (Hijos Por Mujer)=%{x}<br>Población Urbanizada=%{y}<extra></extra>",
           "legendgroup": "Latin America & Caribbean",
           "marker": {
            "color": "#19d3f3",
            "symbol": "circle"
           },
           "mode": "markers",
           "name": "Latin America & Caribbean",
           "orientation": "v",
           "showlegend": true,
           "type": "scatter",
           "x": {
            "bdata": "zczMzMzMAEA=",
            "dtype": "f8"
           },
           "xaxis": "x",
           "y": {
            "bdata": "AAAAvLMUvUE=",
            "dtype": "f8"
           },
           "yaxis": "y"
          },
          {
           "hovertemplate": "Country Name=Mexico<br>Year=2014<br>Tasa De Fertilidad (Hijos Por Mujer)=%{x}<br>Población Urbanizada=%{y}<extra></extra>",
           "legendgroup": "Mexico",
           "marker": {
            "color": "#FF6692",
            "symbol": "circle"
           },
           "mode": "markers",
           "name": "Mexico",
           "orientation": "v",
           "showlegend": true,
           "type": "scatter",
           "x": {
            "bdata": "rkfhehSuAUA=",
            "dtype": "f8"
           },
           "xaxis": "x",
           "y": {
            "bdata": "AAAA9DePlkE=",
            "dtype": "f8"
           },
           "yaxis": "y"
          },
          {
           "hovertemplate": "Country Name=Middle East & North Africa<br>Year=2014<br>Tasa De Fertilidad (Hijos Por Mujer)=%{x}<br>Población Urbanizada=%{y}<extra></extra>",
           "legendgroup": "Middle East & North Africa",
           "marker": {
            "color": "#B6E880",
            "symbol": "circle"
           },
           "mode": "markers",
           "name": "Middle East & North Africa",
           "orientation": "v",
           "showlegend": true,
           "type": "scatter",
           "x": {
            "bdata": "7FG4HoXrB0A=",
            "dtype": "f8"
           },
           "xaxis": "x",
           "y": {
            "bdata": "AAAABKZXsEE=",
            "dtype": "f8"
           },
           "yaxis": "y"
          },
          {
           "hovertemplate": "Country Name=North America<br>Year=2014<br>Tasa De Fertilidad (Hijos Por Mujer)=%{x}<br>Población Urbanizada=%{y}<extra></extra>",
           "legendgroup": "North America",
           "marker": {
            "color": "#FF97FF",
            "symbol": "circle"
           },
           "mode": "markers",
           "name": "North America",
           "orientation": "v",
           "showlegend": true,
           "type": "scatter",
           "x": {
            "bdata": "cT0K16Nw/T8=",
            "dtype": "f8"
           },
           "xaxis": "x",
           "y": {
            "bdata": "AAAAzbIusUE=",
            "dtype": "f8"
           },
           "yaxis": "y"
          },
          {
           "hovertemplate": "Country Name=South Africa<br>Year=2014<br>Tasa De Fertilidad (Hijos Por Mujer)=%{x}<br>Población Urbanizada=%{y}<extra></extra>",
           "legendgroup": "South Africa",
           "marker": {
            "color": "#FECB52",
            "symbol": "circle"
           },
           "mode": "markers",
           "name": "South Africa",
           "orientation": "v",
           "showlegend": true,
           "type": "scatter",
           "x": {
            "bdata": "XI/C9ShcA0A=",
            "dtype": "f8"
           },
           "xaxis": "x",
           "y": {
            "bdata": "AAAAQIUMgUE=",
            "dtype": "f8"
           },
           "yaxis": "y"
          },
          {
           "hovertemplate": "Country Name=South Asia<br>Year=2014<br>Tasa De Fertilidad (Hijos Por Mujer)=%{x}<br>Población Urbanizada=%{y}<extra></extra>",
           "legendgroup": "South Asia",
           "marker": {
            "color": "#636efa",
            "symbol": "circle"
           },
           "mode": "markers",
           "name": "South Asia",
           "orientation": "v",
           "showlegend": true,
           "type": "scatter",
           "x": {
            "bdata": "PQrXo3A9BEA=",
            "dtype": "f8"
           },
           "xaxis": "x",
           "y": {
            "bdata": "AAAADgsMwUE=",
            "dtype": "f8"
           },
           "yaxis": "y"
          },
          {
           "hovertemplate": "Country Name=Spain<br>Year=2014<br>Tasa De Fertilidad (Hijos Por Mujer)=%{x}<br>Población Urbanizada=%{y}<extra></extra>",
           "legendgroup": "Spain",
           "marker": {
            "color": "#EF553B",
            "symbol": "circle"
           },
           "mode": "markers",
           "name": "Spain",
           "orientation": "v",
           "showlegend": true,
           "type": "scatter",
           "x": {
            "bdata": "H4XrUbge9T8=",
            "dtype": "f8"
           },
           "xaxis": "x",
           "y": {
            "bdata": "AAAACC2XgUE=",
            "dtype": "f8"
           },
           "yaxis": "y"
          },
          {
           "hovertemplate": "Country Name=Sub-Saharan Africa<br>Year=2014<br>Tasa De Fertilidad (Hijos Por Mujer)=%{x}<br>Población Urbanizada=%{y}<extra></extra>",
           "legendgroup": "Sub-Saharan Africa",
           "marker": {
            "color": "#00cc96",
            "symbol": "circle"
           },
           "mode": "markers",
           "name": "Sub-Saharan Africa",
           "orientation": "v",
           "showlegend": true,
           "type": "scatter",
           "x": {
            "bdata": "FK5H4XoUFEA=",
            "dtype": "f8"
           },
           "xaxis": "x",
           "y": {
            "bdata": "AAAAoliwtkE=",
            "dtype": "f8"
           },
           "yaxis": "y"
          }
         ],
         "name": "2014"
        },
        {
         "data": [
          {
           "hovertemplate": "Country Name=Africa Eastern and Southern<br>Year=2015<br>Tasa De Fertilidad (Hijos Por Mujer)=%{x}<br>Población Urbanizada=%{y}<extra></extra>",
           "legendgroup": "Africa Eastern and Southern",
           "marker": {
            "color": "#636efa",
            "symbol": "circle"
           },
           "mode": "markers",
           "name": "Africa Eastern and Southern",
           "orientation": "v",
           "showlegend": true,
           "type": "scatter",
           "x": {
            "bdata": "uB6F61G4EkA=",
            "dtype": "f8"
           },
           "xaxis": "x",
           "y": {
            "bdata": "AAAAYl7uqEE=",
            "dtype": "f8"
           },
           "yaxis": "y"
          },
          {
           "hovertemplate": "Country Name=Arab World<br>Year=2015<br>Tasa De Fertilidad (Hijos Por Mujer)=%{x}<br>Población Urbanizada=%{y}<extra></extra>",
           "legendgroup": "Arab World",
           "marker": {
            "color": "#EF553B",
            "symbol": "circle"
           },
           "mode": "markers",
           "name": "Arab World",
           "orientation": "v",
           "showlegend": true,
           "type": "scatter",
           "x": {
            "bdata": "AAAAAAAADEA=",
            "dtype": "f8"
           },
           "xaxis": "x",
           "y": {
            "bdata": "AAAAsvcHrEE=",
            "dtype": "f8"
           },
           "yaxis": "y"
          },
          {
           "hovertemplate": "Country Name=Central African Republic<br>Year=2015<br>Tasa De Fertilidad (Hijos Por Mujer)=%{x}<br>Población Urbanizada=%{y}<extra></extra>",
           "legendgroup": "Central African Republic",
           "marker": {
            "color": "#00cc96",
            "symbol": "circle"
           },
           "mode": "markers",
           "name": "Central African Republic",
           "orientation": "v",
           "showlegend": true,
           "type": "scatter",
           "x": {
            "bdata": "KVyPwvUoGEA=",
            "dtype": "f8"
           },
           "xaxis": "x",
           "y": {
            "bdata": "AAAAAGdzPEE=",
            "dtype": "f8"
           },
           "yaxis": "y"
          },
          {
           "hovertemplate": "Country Name=East Asia & Pacific<br>Year=2015<br>Tasa De Fertilidad (Hijos Por Mujer)=%{x}<br>Población Urbanizada=%{y}<extra></extra>",
           "legendgroup": "East Asia & Pacific",
           "marker": {
            "color": "#ab63fa",
            "symbol": "circle"
           },
           "mode": "markers",
           "name": "East Asia & Pacific",
           "orientation": "v",
           "showlegend": true,
           "type": "scatter",
           "x": {
            "bdata": "SOF6FK5H/T8=",
            "dtype": "f8"
           },
           "xaxis": "x",
           "y": {
            "bdata": "AABAAQtY00E=",
            "dtype": "f8"
           },
           "yaxis": "y"
          },
          {
           "hovertemplate": "Country Name=European Union<br>Year=2015<br>Tasa De Fertilidad (Hijos Por Mujer)=%{x}<br>Población Urbanizada=%{y}<extra></extra>",
           "legendgroup": "European Union",
           "marker": {
            "color": "#FFA15A",
            "symbol": "circle"
           },
           "mode": "markers",
           "name": "European Union",
           "orientation": "v",
           "showlegend": true,
           "type": "scatter",
           "x": {
            "bdata": "pHA9Ctej+D8=",
            "dtype": "f8"
           },
           "xaxis": "x",
           "y": {
            "bdata": "AAAAJX6Vs0E=",
            "dtype": "f8"
           },
           "yaxis": "y"
          },
          {
           "hovertemplate": "Country Name=Latin America & Caribbean<br>Year=2015<br>Tasa De Fertilidad (Hijos Por Mujer)=%{x}<br>Población Urbanizada=%{y}<extra></extra>",
           "legendgroup": "Latin America & Caribbean",
           "marker": {
            "color": "#19d3f3",
            "symbol": "circle"
           },
           "mode": "markers",
           "name": "Latin America & Caribbean",
           "orientation": "v",
           "showlegend": true,
           "type": "scatter",
           "x": {
            "bdata": "j8L1KFyPAEA=",
            "dtype": "f8"
           },
           "xaxis": "x",
           "y": {
            "bdata": "AAAAbg92vUE=",
            "dtype": "f8"
           },
           "yaxis": "y"
          },
          {
           "hovertemplate": "Country Name=Mexico<br>Year=2015<br>Tasa De Fertilidad (Hijos Por Mujer)=%{x}<br>Población Urbanizada=%{y}<extra></extra>",
           "legendgroup": "Mexico",
           "marker": {
            "color": "#FF6692",
            "symbol": "circle"
           },
           "mode": "markers",
           "name": "Mexico",
           "orientation": "v",
           "showlegend": true,
           "type": "scatter",
           "x": {
            "bdata": "H4XrUbgeAUA=",
            "dtype": "f8"
           },
           "xaxis": "x",
           "y": {
            "bdata": "AAAAyOXilkE=",
            "dtype": "f8"
           },
           "yaxis": "y"
          },
          {
           "hovertemplate": "Country Name=Middle East & North Africa<br>Year=2015<br>Tasa De Fertilidad (Hijos Por Mujer)=%{x}<br>Población Urbanizada=%{y}<extra></extra>",
           "legendgroup": "Middle East & North Africa",
           "marker": {
            "color": "#B6E880",
            "symbol": "circle"
           },
           "mode": "markers",
           "name": "Middle East & North Africa",
           "orientation": "v",
           "showlegend": true,
           "type": "scatter",
           "x": {
            "bdata": "rkfhehSuB0A=",
            "dtype": "f8"
           },
           "xaxis": "x",
           "y": {
            "bdata": "AAAAWOPQsEE=",
            "dtype": "f8"
           },
           "yaxis": "y"
          },
          {
           "hovertemplate": "Country Name=North America<br>Year=2015<br>Tasa De Fertilidad (Hijos Por Mujer)=%{x}<br>Población Urbanizada=%{y}<extra></extra>",
           "legendgroup": "North America",
           "marker": {
            "color": "#FF97FF",
            "symbol": "circle"
           },
           "mode": "markers",
           "name": "North America",
           "orientation": "v",
           "showlegend": true,
           "type": "scatter",
           "x": {
            "bdata": "H4XrUbge/T8=",
            "dtype": "f8"
           },
           "xaxis": "x",
           "y": {
            "bdata": "AAAAfrlYsUE=",
            "dtype": "f8"
           },
           "yaxis": "y"
          },
          {
           "hovertemplate": "Country Name=South Africa<br>Year=2015<br>Tasa De Fertilidad (Hijos Por Mujer)=%{x}<br>Población Urbanizada=%{y}<extra></extra>",
           "legendgroup": "South Africa",
           "marker": {
            "color": "#FECB52",
            "symbol": "circle"
           },
           "mode": "markers",
           "name": "South Africa",
           "orientation": "v",
           "showlegend": true,
           "type": "scatter",
           "x": {
            "bdata": "4XoUrkfhAkA=",
            "dtype": "f8"
           },
           "xaxis": "x",
           "y": {
            "bdata": "AAAA+NuIgUE=",
            "dtype": "f8"
           },
           "yaxis": "y"
          },
          {
           "hovertemplate": "Country Name=South Asia<br>Year=2015<br>Tasa De Fertilidad (Hijos Por Mujer)=%{x}<br>Población Urbanizada=%{y}<extra></extra>",
           "legendgroup": "South Asia",
           "marker": {
            "color": "#636efa",
            "symbol": "circle"
           },
           "mode": "markers",
           "name": "South Asia",
           "orientation": "v",
           "showlegend": true,
           "type": "scatter",
           "x": {
            "bdata": "AAAAAAAABEA=",
            "dtype": "f8"
           },
           "xaxis": "x",
           "y": {
            "bdata": "AAAAxXV3wUE=",
            "dtype": "f8"
           },
           "yaxis": "y"
          },
          {
           "hovertemplate": "Country Name=Spain<br>Year=2015<br>Tasa De Fertilidad (Hijos Por Mujer)=%{x}<br>Población Urbanizada=%{y}<extra></extra>",
           "legendgroup": "Spain",
           "marker": {
            "color": "#EF553B",
            "symbol": "circle"
           },
           "mode": "markers",
           "name": "Spain",
           "orientation": "v",
           "showlegend": true,
           "type": "scatter",
           "x": {
            "bdata": "SOF6FK5H9T8=",
            "dtype": "f8"
           },
           "xaxis": "x",
           "y": {
            "bdata": "AAAAOBChgUE=",
            "dtype": "f8"
           },
           "yaxis": "y"
          },
          {
           "hovertemplate": "Country Name=Sub-Saharan Africa<br>Year=2015<br>Tasa De Fertilidad (Hijos Por Mujer)=%{x}<br>Población Urbanizada=%{y}<extra></extra>",
           "legendgroup": "Sub-Saharan Africa",
           "marker": {
            "color": "#00cc96",
            "symbol": "circle"
           },
           "mode": "markers",
           "name": "Sub-Saharan Africa",
           "orientation": "v",
           "showlegend": true,
           "type": "scatter",
           "x": {
            "bdata": "16NwPQrXE0A=",
            "dtype": "f8"
           },
           "xaxis": "x",
           "y": {
            "bdata": "AAAA3Jykt0E=",
            "dtype": "f8"
           },
           "yaxis": "y"
          }
         ],
         "name": "2015"
        },
        {
         "data": [
          {
           "hovertemplate": "Country Name=Africa Eastern and Southern<br>Year=2016<br>Tasa De Fertilidad (Hijos Por Mujer)=%{x}<br>Población Urbanizada=%{y}<extra></extra>",
           "legendgroup": "Africa Eastern and Southern",
           "marker": {
            "color": "#636efa",
            "symbol": "circle"
           },
           "mode": "markers",
           "name": "Africa Eastern and Southern",
           "orientation": "v",
           "showlegend": true,
           "type": "scatter",
           "x": {
            "bdata": "exSuR+F6EkA=",
            "dtype": "f8"
           },
           "xaxis": "x",
           "y": {
            "bdata": "AAAAdP/yqUE=",
            "dtype": "f8"
           },
           "yaxis": "y"
          },
          {
           "hovertemplate": "Country Name=Arab World<br>Year=2016<br>Tasa De Fertilidad (Hijos Por Mujer)=%{x}<br>Población Urbanizada=%{y}<extra></extra>",
           "legendgroup": "Arab World",
           "marker": {
            "color": "#EF553B",
            "symbol": "circle"
           },
           "mode": "markers",
           "name": "Arab World",
           "orientation": "v",
           "showlegend": true,
           "type": "scatter",
           "x": {
            "bdata": "H4XrUbgeC0A=",
            "dtype": "f8"
           },
           "xaxis": "x",
           "y": {
            "bdata": "AAAALj/arEE=",
            "dtype": "f8"
           },
           "yaxis": "y"
          },
          {
           "hovertemplate": "Country Name=Central African Republic<br>Year=2016<br>Tasa De Fertilidad (Hijos Por Mujer)=%{x}<br>Población Urbanizada=%{y}<extra></extra>",
           "legendgroup": "Central African Republic",
           "marker": {
            "color": "#00cc96",
            "symbol": "circle"
           },
           "mode": "markers",
           "name": "Central African Republic",
           "orientation": "v",
           "showlegend": true,
           "type": "scatter",
           "x": {
            "bdata": "KVyPwvUoGEA=",
            "dtype": "f8"
           },
           "xaxis": "x",
           "y": {
            "bdata": "AAAAAOQ2PUE=",
            "dtype": "f8"
           },
           "yaxis": "y"
          },
          {
           "hovertemplate": "Country Name=East Asia & Pacific<br>Year=2016<br>Tasa De Fertilidad (Hijos Por Mujer)=%{x}<br>Población Urbanizada=%{y}<extra></extra>",
           "legendgroup": "East Asia & Pacific",
           "marker": {
            "color": "#ab63fa",
            "symbol": "circle"
           },
           "mode": "markers",
           "name": "East Asia & Pacific",
           "orientation": "v",
           "showlegend": true,
           "type": "scatter",
           "x": {
            "bdata": "FK5H4XoU/j8=",
            "dtype": "f8"
           },
           "xaxis": "x",
           "y": {
            "bdata": "AAAAKPXI00E=",
            "dtype": "f8"
           },
           "yaxis": "y"
          },
          {
           "hovertemplate": "Country Name=European Union<br>Year=2016<br>Tasa De Fertilidad (Hijos Por Mujer)=%{x}<br>Población Urbanizada=%{y}<extra></extra>",
           "legendgroup": "European Union",
           "marker": {
            "color": "#FFA15A",
            "symbol": "circle"
           },
           "mode": "markers",
           "name": "European Union",
           "orientation": "v",
           "showlegend": true,
           "type": "scatter",
           "x": {
            "bdata": "H4XrUbge+T8=",
            "dtype": "f8"
           },
           "xaxis": "x",
           "y": {
            "bdata": "AAAAmnits0E=",
            "dtype": "f8"
           },
           "yaxis": "y"
          },
          {
           "hovertemplate": "Country Name=Latin America & Caribbean<br>Year=2016<br>Tasa De Fertilidad (Hijos Por Mujer)=%{x}<br>Población Urbanizada=%{y}<extra></extra>",
           "legendgroup": "Latin America & Caribbean",
           "marker": {
            "color": "#19d3f3",
            "symbol": "circle"
           },
           "mode": "markers",
           "name": "Latin America & Caribbean",
           "orientation": "v",
           "showlegend": true,
           "type": "scatter",
           "x": {
            "bdata": "KVyPwvUoAEA=",
            "dtype": "f8"
           },
           "xaxis": "x",
           "y": {
            "bdata": "AAAA84zVvUE=",
            "dtype": "f8"
           },
           "yaxis": "y"
          },
          {
           "hovertemplate": "Country Name=Mexico<br>Year=2016<br>Tasa De Fertilidad (Hijos Por Mujer)=%{x}<br>Población Urbanizada=%{y}<extra></extra>",
           "legendgroup": "Mexico",
           "marker": {
            "color": "#FF6692",
            "symbol": "circle"
           },
           "mode": "markers",
           "name": "Mexico",
           "orientation": "v",
           "showlegend": true,
           "type": "scatter",
           "x": {
            "bdata": "uB6F61G4AEA=",
            "dtype": "f8"
           },
           "xaxis": "x",
           "y": {
            "bdata": "AAAA2L0xl0E=",
            "dtype": "f8"
           },
           "yaxis": "y"
          },
          {
           "hovertemplate": "Country Name=Middle East & North Africa<br>Year=2016<br>Tasa De Fertilidad (Hijos Por Mujer)=%{x}<br>Población Urbanizada=%{y}<extra></extra>",
           "legendgroup": "Middle East & North Africa",
           "marker": {
            "color": "#B6E880",
            "symbol": "circle"
           },
           "mode": "markers",
           "name": "Middle East & North Africa",
           "orientation": "v",
           "showlegend": true,
           "type": "scatter",
           "x": {
            "bdata": "CtejcD0KB0A=",
            "dtype": "f8"
           },
           "xaxis": "x",
           "y": {
            "bdata": "AAAAY25CsUE=",
            "dtype": "f8"
           },
           "yaxis": "y"
          },
          {
           "hovertemplate": "Country Name=North America<br>Year=2016<br>Tasa De Fertilidad (Hijos Por Mujer)=%{x}<br>Población Urbanizada=%{y}<extra></extra>",
           "legendgroup": "North America",
           "marker": {
            "color": "#FF97FF",
            "symbol": "circle"
           },
           "mode": "markers",
           "name": "North America",
           "orientation": "v",
           "showlegend": true,
           "type": "scatter",
           "x": {
            "bdata": "zczMzMzM/D8=",
            "dtype": "f8"
           },
           "xaxis": "x",
           "y": {
            "bdata": "AAAAhHmEsUE=",
            "dtype": "f8"
           },
           "yaxis": "y"
          },
          {
           "hovertemplate": "Country Name=South Africa<br>Year=2016<br>Tasa De Fertilidad (Hijos Por Mujer)=%{x}<br>Población Urbanizada=%{y}<extra></extra>",
           "legendgroup": "South Africa",
           "marker": {
            "color": "#FECB52",
            "symbol": "circle"
           },
           "mode": "markers",
           "name": "South Africa",
           "orientation": "v",
           "showlegend": true,
           "type": "scatter",
           "x": {
            "bdata": "FK5H4XoUAkA=",
            "dtype": "f8"
           },
           "xaxis": "x",
           "y": {
            "bdata": "AAAAWCLXgUE=",
            "dtype": "f8"
           },
           "yaxis": "y"
          },
          {
           "hovertemplate": "Country Name=South Asia<br>Year=2016<br>Tasa De Fertilidad (Hijos Por Mujer)=%{x}<br>Población Urbanizada=%{y}<extra></extra>",
           "legendgroup": "South Asia",
           "marker": {
            "color": "#636efa",
            "symbol": "circle"
           },
           "mode": "markers",
           "name": "South Asia",
           "orientation": "v",
           "showlegend": true,
           "type": "scatter",
           "x": {
            "bdata": "16NwPQrXA0A=",
            "dtype": "f8"
           },
           "xaxis": "x",
           "y": {
            "bdata": "AAAAUiPlwUE=",
            "dtype": "f8"
           },
           "yaxis": "y"
          },
          {
           "hovertemplate": "Country Name=Spain<br>Year=2016<br>Tasa De Fertilidad (Hijos Por Mujer)=%{x}<br>Población Urbanizada=%{y}<extra></extra>",
           "legendgroup": "Spain",
           "marker": {
            "color": "#EF553B",
            "symbol": "circle"
           },
           "mode": "markers",
           "name": "Spain",
           "orientation": "v",
           "showlegend": true,
           "type": "scatter",
           "x": {
            "bdata": "cT0K16Nw9T8=",
            "dtype": "f8"
           },
           "xaxis": "x",
           "y": {
            "bdata": "AAAAWGGygUE=",
            "dtype": "f8"
           },
           "yaxis": "y"
          },
          {
           "hovertemplate": "Country Name=Sub-Saharan Africa<br>Year=2016<br>Tasa De Fertilidad (Hijos Por Mujer)=%{x}<br>Población Urbanizada=%{y}<extra></extra>",
           "legendgroup": "Sub-Saharan Africa",
           "marker": {
            "color": "#00cc96",
            "symbol": "circle"
           },
           "mode": "markers",
           "name": "Sub-Saharan Africa",
           "orientation": "v",
           "showlegend": true,
           "type": "scatter",
           "x": {
            "bdata": "mpmZmZmZE0A=",
            "dtype": "f8"
           },
           "xaxis": "x",
           "y": {
            "bdata": "AAAAv2GduEE=",
            "dtype": "f8"
           },
           "yaxis": "y"
          }
         ],
         "name": "2016"
        },
        {
         "data": [
          {
           "hovertemplate": "Country Name=Africa Eastern and Southern<br>Year=2017<br>Tasa De Fertilidad (Hijos Por Mujer)=%{x}<br>Población Urbanizada=%{y}<extra></extra>",
           "legendgroup": "Africa Eastern and Southern",
           "marker": {
            "color": "#636efa",
            "symbol": "circle"
           },
           "mode": "markers",
           "name": "Africa Eastern and Southern",
           "orientation": "v",
           "showlegend": true,
           "type": "scatter",
           "x": {
            "bdata": "SOF6FK5HEkA=",
            "dtype": "f8"
           },
           "xaxis": "x",
           "y": {
            "bdata": "AAAA6vgBq0E=",
            "dtype": "f8"
           },
           "yaxis": "y"
          },
          {
           "hovertemplate": "Country Name=Arab World<br>Year=2017<br>Tasa De Fertilidad (Hijos Por Mujer)=%{x}<br>Población Urbanizada=%{y}<extra></extra>",
           "legendgroup": "Arab World",
           "marker": {
            "color": "#EF553B",
            "symbol": "circle"
           },
           "mode": "markers",
           "name": "Arab World",
           "orientation": "v",
           "showlegend": true,
           "type": "scatter",
           "x": {
            "bdata": "zczMzMzMCkA=",
            "dtype": "f8"
           },
           "xaxis": "x",
           "y": {
            "bdata": "AAAAllWLrUE=",
            "dtype": "f8"
           },
           "yaxis": "y"
          },
          {
           "hovertemplate": "Country Name=Central African Republic<br>Year=2017<br>Tasa De Fertilidad (Hijos Por Mujer)=%{x}<br>Población Urbanizada=%{y}<extra></extra>",
           "legendgroup": "Central African Republic",
           "marker": {
            "color": "#00cc96",
            "symbol": "circle"
           },
           "mode": "markers",
           "name": "Central African Republic",
           "orientation": "v",
           "showlegend": true,
           "type": "scatter",
           "x": {
            "bdata": "MzMzMzMzGEA=",
            "dtype": "f8"
           },
           "xaxis": "x",
           "y": {
            "bdata": "AAAAAF35PUE=",
            "dtype": "f8"
           },
           "yaxis": "y"
          },
          {
           "hovertemplate": "Country Name=East Asia & Pacific<br>Year=2017<br>Tasa De Fertilidad (Hijos Por Mujer)=%{x}<br>Población Urbanizada=%{y}<extra></extra>",
           "legendgroup": "East Asia & Pacific",
           "marker": {
            "color": "#ab63fa",
            "symbol": "circle"
           },
           "mode": "markers",
           "name": "East Asia & Pacific",
           "orientation": "v",
           "showlegend": true,
           "type": "scatter",
           "x": {
            "bdata": "ZmZmZmZm/j8=",
            "dtype": "f8"
           },
           "xaxis": "x",
           "y": {
            "bdata": "AABAkZY61EE=",
            "dtype": "f8"
           },
           "yaxis": "y"
          },
          {
           "hovertemplate": "Country Name=European Union<br>Year=2017<br>Tasa De Fertilidad (Hijos Por Mujer)=%{x}<br>Población Urbanizada=%{y}<extra></extra>",
           "legendgroup": "European Union",
           "marker": {
            "color": "#FFA15A",
            "symbol": "circle"
           },
           "mode": "markers",
           "name": "European Union",
           "orientation": "v",
           "showlegend": true,
           "type": "scatter",
           "x": {
            "bdata": "9ihcj8L1+D8=",
            "dtype": "f8"
           },
           "xaxis": "x",
           "y": {
            "bdata": "AAAAwxfDs0E=",
            "dtype": "f8"
           },
           "yaxis": "y"
          },
          {
           "hovertemplate": "Country Name=Latin America & Caribbean<br>Year=2017<br>Tasa De Fertilidad (Hijos Por Mujer)=%{x}<br>Población Urbanizada=%{y}<extra></extra>",
           "legendgroup": "Latin America & Caribbean",
           "marker": {
            "color": "#19d3f3",
            "symbol": "circle"
           },
           "mode": "markers",
           "name": "Latin America & Caribbean",
           "orientation": "v",
           "showlegend": true,
           "type": "scatter",
           "x": {
            "bdata": "AAAAAAAAAEA=",
            "dtype": "f8"
           },
           "xaxis": "x",
           "y": {
            "bdata": "AAAANGQyvkE=",
            "dtype": "f8"
           },
           "yaxis": "y"
          },
          {
           "hovertemplate": "Country Name=Mexico<br>Year=2017<br>Tasa De Fertilidad (Hijos Por Mujer)=%{x}<br>Población Urbanizada=%{y}<extra></extra>",
           "legendgroup": "Mexico",
           "marker": {
            "color": "#FF6692",
            "symbol": "circle"
           },
           "mode": "markers",
           "name": "Mexico",
           "orientation": "v",
           "showlegend": true,
           "type": "scatter",
           "x": {
            "bdata": "UrgehetRAEA=",
            "dtype": "f8"
           },
           "xaxis": "x",
           "y": {
            "bdata": "AAAAUGB/l0E=",
            "dtype": "f8"
           },
           "yaxis": "y"
          },
          {
           "hovertemplate": "Country Name=Middle East & North Africa<br>Year=2017<br>Tasa De Fertilidad (Hijos Por Mujer)=%{x}<br>Población Urbanizada=%{y}<extra></extra>",
           "legendgroup": "Middle East & North Africa",
           "marker": {
            "color": "#B6E880",
            "symbol": "circle"
           },
           "mode": "markers",
           "name": "Middle East & North Africa",
           "orientation": "v",
           "showlegend": true,
           "type": "scatter",
           "x": {
            "bdata": "zczMzMzMBkA=",
            "dtype": "f8"
           },
           "xaxis": "x",
           "y": {
            "bdata": "AAAA5g+isUE=",
            "dtype": "f8"
           },
           "yaxis": "y"
          },
          {
           "hovertemplate": "Country Name=North America<br>Year=2017<br>Tasa De Fertilidad (Hijos Por Mujer)=%{x}<br>Población Urbanizada=%{y}<extra></extra>",
           "legendgroup": "North America",
           "marker": {
            "color": "#FF97FF",
            "symbol": "circle"
           },
           "mode": "markers",
           "name": "North America",
           "orientation": "v",
           "showlegend": true,
           "type": "scatter",
           "x": {
            "bdata": "16NwPQrX+z8=",
            "dtype": "f8"
           },
           "xaxis": "x",
           "y": {
            "bdata": "AAAAUXqtsUE=",
            "dtype": "f8"
           },
           "yaxis": "y"
          },
          {
           "hovertemplate": "Country Name=South Africa<br>Year=2017<br>Tasa De Fertilidad (Hijos Por Mujer)=%{x}<br>Población Urbanizada=%{y}<extra></extra>",
           "legendgroup": "South Africa",
           "marker": {
            "color": "#FECB52",
            "symbol": "circle"
           },
           "mode": "markers",
           "name": "South Africa",
           "orientation": "v",
           "showlegend": true,
           "type": "scatter",
           "x": {
            "bdata": "pHA9CtejAkA=",
            "dtype": "f8"
           },
           "xaxis": "x",
           "y": {
            "bdata": "AAAAkOcYgkE=",
            "dtype": "f8"
           },
           "yaxis": "y"
          },
          {
           "hovertemplate": "Country Name=South Asia<br>Year=2017<br>Tasa De Fertilidad (Hijos Por Mujer)=%{x}<br>Población Urbanizada=%{y}<extra></extra>",
           "legendgroup": "South Asia",
           "marker": {
            "color": "#636efa",
            "symbol": "circle"
           },
           "mode": "markers",
           "name": "South Asia",
           "orientation": "v",
           "showlegend": true,
           "type": "scatter",
           "x": {
            "bdata": "SOF6FK5HA0A=",
            "dtype": "f8"
           },
           "xaxis": "x",
           "y": {
            "bdata": "AACAncJVwkE=",
            "dtype": "f8"
           },
           "yaxis": "y"
          },
          {
           "hovertemplate": "Country Name=Spain<br>Year=2017<br>Tasa De Fertilidad (Hijos Por Mujer)=%{x}<br>Población Urbanizada=%{y}<extra></extra>",
           "legendgroup": "Spain",
           "marker": {
            "color": "#EF553B",
            "symbol": "circle"
           },
           "mode": "markers",
           "name": "Spain",
           "orientation": "v",
           "showlegend": true,
           "type": "scatter",
           "x": {
            "bdata": "9ihcj8L19D8=",
            "dtype": "f8"
           },
           "xaxis": "x",
           "y": {
            "bdata": "AAAAuKvKgUE=",
            "dtype": "f8"
           },
           "yaxis": "y"
          },
          {
           "hovertemplate": "Country Name=Sub-Saharan Africa<br>Year=2017<br>Tasa De Fertilidad (Hijos Por Mujer)=%{x}<br>Población Urbanizada=%{y}<extra></extra>",
           "legendgroup": "Sub-Saharan Africa",
           "marker": {
            "color": "#00cc96",
            "symbol": "circle"
           },
           "mode": "markers",
           "name": "Sub-Saharan Africa",
           "orientation": "v",
           "showlegend": true,
           "type": "scatter",
           "x": {
            "bdata": "ZmZmZmZmE0A=",
            "dtype": "f8"
           },
           "xaxis": "x",
           "y": {
            "bdata": "AAAAJeWduUE=",
            "dtype": "f8"
           },
           "yaxis": "y"
          }
         ],
         "name": "2017"
        },
        {
         "data": [
          {
           "hovertemplate": "Country Name=Africa Eastern and Southern<br>Year=2018<br>Tasa De Fertilidad (Hijos Por Mujer)=%{x}<br>Población Urbanizada=%{y}<extra></extra>",
           "legendgroup": "Africa Eastern and Southern",
           "marker": {
            "color": "#636efa",
            "symbol": "circle"
           },
           "mode": "markers",
           "name": "Africa Eastern and Southern",
           "orientation": "v",
           "showlegend": true,
           "type": "scatter",
           "x": {
            "bdata": "H4XrUbgeEkA=",
            "dtype": "f8"
           },
           "xaxis": "x",
           "y": {
            "bdata": "AAAAMmslrEE=",
            "dtype": "f8"
           },
           "yaxis": "y"
          },
          {
           "hovertemplate": "Country Name=Arab World<br>Year=2018<br>Tasa De Fertilidad (Hijos Por Mujer)=%{x}<br>Población Urbanizada=%{y}<extra></extra>",
           "legendgroup": "Arab World",
           "marker": {
            "color": "#EF553B",
            "symbol": "circle"
           },
           "mode": "markers",
           "name": "Arab World",
           "orientation": "v",
           "showlegend": true,
           "type": "scatter",
           "x": {
            "bdata": "ZmZmZmZmCkA=",
            "dtype": "f8"
           },
           "xaxis": "x",
           "y": {
            "bdata": "AAAAUqUmrkE=",
            "dtype": "f8"
           },
           "yaxis": "y"
          },
          {
           "hovertemplate": "Country Name=Central African Republic<br>Year=2018<br>Tasa De Fertilidad (Hijos Por Mujer)=%{x}<br>Población Urbanizada=%{y}<extra></extra>",
           "legendgroup": "Central African Republic",
           "marker": {
            "color": "#00cc96",
            "symbol": "circle"
           },
           "mode": "markers",
           "name": "Central African Republic",
           "orientation": "v",
           "showlegend": true,
           "type": "scatter",
           "x": {
            "bdata": "KVyPwvUoGEA=",
            "dtype": "f8"
           },
           "xaxis": "x",
           "y": {
            "bdata": "AAAAANjKPkE=",
            "dtype": "f8"
           },
           "yaxis": "y"
          },
          {
           "hovertemplate": "Country Name=East Asia & Pacific<br>Year=2018<br>Tasa De Fertilidad (Hijos Por Mujer)=%{x}<br>Población Urbanizada=%{y}<extra></extra>",
           "legendgroup": "East Asia & Pacific",
           "marker": {
            "color": "#ab63fa",
            "symbol": "circle"
           },
           "mode": "markers",
           "name": "East Asia & Pacific",
           "orientation": "v",
           "showlegend": true,
           "type": "scatter",
           "x": {
            "bdata": "rkfhehSu+z8=",
            "dtype": "f8"
           },
           "xaxis": "x",
           "y": {
            "bdata": "AABAyrim1EE=",
            "dtype": "f8"
           },
           "yaxis": "y"
          },
          {
           "hovertemplate": "Country Name=European Union<br>Year=2018<br>Tasa De Fertilidad (Hijos Por Mujer)=%{x}<br>Población Urbanizada=%{y}<extra></extra>",
           "legendgroup": "European Union",
           "marker": {
            "color": "#FFA15A",
            "symbol": "circle"
           },
           "mode": "markers",
           "name": "European Union",
           "orientation": "v",
           "showlegend": true,
           "type": "scatter",
           "x": {
            "bdata": "pHA9Ctej+D8=",
            "dtype": "f8"
           },
           "xaxis": "x",
           "y": {
            "bdata": "AAAA1z3as0E=",
            "dtype": "f8"
           },
           "yaxis": "y"
          },
          {
           "hovertemplate": "Country Name=Latin America & Caribbean<br>Year=2018<br>Tasa De Fertilidad (Hijos Por Mujer)=%{x}<br>Población Urbanizada=%{y}<extra></extra>",
           "legendgroup": "Latin America & Caribbean",
           "marker": {
            "color": "#19d3f3",
            "symbol": "circle"
           },
           "mode": "markers",
           "name": "Latin America & Caribbean",
           "orientation": "v",
           "showlegend": true,
           "type": "scatter",
           "x": {
            "bdata": "hetRuB6F/z8=",
            "dtype": "f8"
           },
           "xaxis": "x",
           "y": {
            "bdata": "AAAAx66KvkE=",
            "dtype": "f8"
           },
           "yaxis": "y"
          },
          {
           "hovertemplate": "Country Name=Mexico<br>Year=2018<br>Tasa De Fertilidad (Hijos Por Mujer)=%{x}<br>Población Urbanizada=%{y}<extra></extra>",
           "legendgroup": "Mexico",
           "marker": {
            "color": "#FF6692",
            "symbol": "circle"
           },
           "mode": "markers",
           "name": "Mexico",
           "orientation": "v",
           "showlegend": true,
           "type": "scatter",
           "x": {
            "bdata": "AAAAAAAAAEA=",
            "dtype": "f8"
           },
           "xaxis": "x",
           "y": {
            "bdata": "AAAA4I/Ol0E=",
            "dtype": "f8"
           },
           "yaxis": "y"
          },
          {
           "hovertemplate": "Country Name=Middle East & North Africa<br>Year=2018<br>Tasa De Fertilidad (Hijos Por Mujer)=%{x}<br>Población Urbanizada=%{y}<extra></extra>",
           "legendgroup": "Middle East & North Africa",
           "marker": {
            "color": "#B6E880",
            "symbol": "circle"
           },
           "mode": "markers",
           "name": "Middle East & North Africa",
           "orientation": "v",
           "showlegend": true,
           "type": "scatter",
           "x": {
            "bdata": "UrgehetRBkA=",
            "dtype": "f8"
           },
           "xaxis": "x",
           "y": {
            "bdata": "AAAAwQP1sUE=",
            "dtype": "f8"
           },
           "yaxis": "y"
          },
          {
           "hovertemplate": "Country Name=North America<br>Year=2018<br>Tasa De Fertilidad (Hijos Por Mujer)=%{x}<br>Población Urbanizada=%{y}<extra></extra>",
           "legendgroup": "North America",
           "marker": {
            "color": "#FF97FF",
            "symbol": "circle"
           },
           "mode": "markers",
           "name": "North America",
           "orientation": "v",
           "showlegend": true,
           "type": "scatter",
           "x": {
            "bdata": "XI/C9Shc+z8=",
            "dtype": "f8"
           },
           "xaxis": "x",
           "y": {
            "bdata": "AAAAm7zTsUE=",
            "dtype": "f8"
           },
           "yaxis": "y"
          },
          {
           "hovertemplate": "Country Name=South Africa<br>Year=2018<br>Tasa De Fertilidad (Hijos Por Mujer)=%{x}<br>Población Urbanizada=%{y}<extra></extra>",
           "legendgroup": "South Africa",
           "marker": {
            "color": "#FECB52",
            "symbol": "circle"
           },
           "mode": "markers",
           "name": "South Africa",
           "orientation": "v",
           "showlegend": true,
           "type": "scatter",
           "x": {
            "bdata": "XI/C9ShcA0A=",
            "dtype": "f8"
           },
           "xaxis": "x",
           "y": {
            "bdata": "AAAAiKOLgkE=",
            "dtype": "f8"
           },
           "yaxis": "y"
          },
          {
           "hovertemplate": "Country Name=South Asia<br>Year=2018<br>Tasa De Fertilidad (Hijos Por Mujer)=%{x}<br>Población Urbanizada=%{y}<extra></extra>",
           "legendgroup": "South Asia",
           "marker": {
            "color": "#636efa",
            "symbol": "circle"
           },
           "mode": "markers",
           "name": "South Asia",
           "orientation": "v",
           "showlegend": true,
           "type": "scatter",
           "x": {
            "bdata": "CtejcD0KA0A=",
            "dtype": "f8"
           },
           "xaxis": "x",
           "y": {
            "bdata": "AAAAmfDIwkE=",
            "dtype": "f8"
           },
           "yaxis": "y"
          },
          {
           "hovertemplate": "Country Name=Spain<br>Year=2018<br>Tasa De Fertilidad (Hijos Por Mujer)=%{x}<br>Población Urbanizada=%{y}<extra></extra>",
           "legendgroup": "Spain",
           "marker": {
            "color": "#EF553B",
            "symbol": "circle"
           },
           "mode": "markers",
           "name": "Spain",
           "orientation": "v",
           "showlegend": true,
           "type": "scatter",
           "x": {
            "bdata": "KVyPwvUo9D8=",
            "dtype": "f8"
           },
           "xaxis": "x",
           "y": {
            "bdata": "AAAAQG7sgUE=",
            "dtype": "f8"
           },
           "yaxis": "y"
          },
          {
           "hovertemplate": "Country Name=Sub-Saharan Africa<br>Year=2018<br>Tasa De Fertilidad (Hijos Por Mujer)=%{x}<br>Población Urbanizada=%{y}<extra></extra>",
           "legendgroup": "Sub-Saharan Africa",
           "marker": {
            "color": "#00cc96",
            "symbol": "circle"
           },
           "mode": "markers",
           "name": "Sub-Saharan Africa",
           "orientation": "v",
           "showlegend": true,
           "type": "scatter",
           "x": {
            "bdata": "KVyPwvUoE0A=",
            "dtype": "f8"
           },
           "xaxis": "x",
           "y": {
            "bdata": "AAAAIaqpukE=",
            "dtype": "f8"
           },
           "yaxis": "y"
          }
         ],
         "name": "2018"
        },
        {
         "data": [
          {
           "hovertemplate": "Country Name=Africa Eastern and Southern<br>Year=2019<br>Tasa De Fertilidad (Hijos Por Mujer)=%{x}<br>Población Urbanizada=%{y}<extra></extra>",
           "legendgroup": "Africa Eastern and Southern",
           "marker": {
            "color": "#636efa",
            "symbol": "circle"
           },
           "mode": "markers",
           "name": "Africa Eastern and Southern",
           "orientation": "v",
           "showlegend": true,
           "type": "scatter",
           "x": {
            "bdata": "7FG4HoXrEUA=",
            "dtype": "f8"
           },
           "xaxis": "x",
           "y": {
            "bdata": "AAAAynpRrUE=",
            "dtype": "f8"
           },
           "yaxis": "y"
          },
          {
           "hovertemplate": "Country Name=Arab World<br>Year=2019<br>Tasa De Fertilidad (Hijos Por Mujer)=%{x}<br>Población Urbanizada=%{y}<extra></extra>",
           "legendgroup": "Arab World",
           "marker": {
            "color": "#EF553B",
            "symbol": "circle"
           },
           "mode": "markers",
           "name": "Arab World",
           "orientation": "v",
           "showlegend": true,
           "type": "scatter",
           "x": {
            "bdata": "AAAAAAAACkA=",
            "dtype": "f8"
           },
           "xaxis": "x",
           "y": {
            "bdata": "AAAARpnTrkE=",
            "dtype": "f8"
           },
           "yaxis": "y"
          },
          {
           "hovertemplate": "Country Name=Central African Republic<br>Year=2019<br>Tasa De Fertilidad (Hijos Por Mujer)=%{x}<br>Población Urbanizada=%{y}<extra></extra>",
           "legendgroup": "Central African Republic",
           "marker": {
            "color": "#00cc96",
            "symbol": "circle"
           },
           "mode": "markers",
           "name": "Central African Republic",
           "orientation": "v",
           "showlegend": true,
           "type": "scatter",
           "x": {
            "bdata": "CtejcD0KGEA=",
            "dtype": "f8"
           },
           "xaxis": "x",
           "y": {
            "bdata": "AAAAAPqDP0E=",
            "dtype": "f8"
           },
           "yaxis": "y"
          },
          {
           "hovertemplate": "Country Name=East Asia & Pacific<br>Year=2019<br>Tasa De Fertilidad (Hijos Por Mujer)=%{x}<br>Población Urbanizada=%{y}<extra></extra>",
           "legendgroup": "East Asia & Pacific",
           "marker": {
            "color": "#ab63fa",
            "symbol": "circle"
           },
           "mode": "markers",
           "name": "East Asia & Pacific",
           "orientation": "v",
           "showlegend": true,
           "type": "scatter",
           "x": {
            "bdata": "CtejcD0K+z8=",
            "dtype": "f8"
           },
           "xaxis": "x",
           "y": {
            "bdata": "AAAAh50N1UE=",
            "dtype": "f8"
           },
           "yaxis": "y"
          },
          {
           "hovertemplate": "Country Name=European Union<br>Year=2019<br>Tasa De Fertilidad (Hijos Por Mujer)=%{x}<br>Población Urbanizada=%{y}<extra></extra>",
           "legendgroup": "European Union",
           "marker": {
            "color": "#FFA15A",
            "symbol": "circle"
           },
           "mode": "markers",
           "name": "European Union",
           "orientation": "v",
           "showlegend": true,
           "type": "scatter",
           "x": {
            "bdata": "exSuR+F6+D8=",
            "dtype": "f8"
           },
           "xaxis": "x",
           "y": {
            "bdata": "AAAAQ2Dts0E=",
            "dtype": "f8"
           },
           "yaxis": "y"
          },
          {
           "hovertemplate": "Country Name=Latin America & Caribbean<br>Year=2019<br>Tasa De Fertilidad (Hijos Por Mujer)=%{x}<br>Población Urbanizada=%{y}<extra></extra>",
           "legendgroup": "Latin America & Caribbean",
           "marker": {
            "color": "#19d3f3",
            "symbol": "circle"
           },
           "mode": "markers",
           "name": "Latin America & Caribbean",
           "orientation": "v",
           "showlegend": true,
           "type": "scatter",
           "x": {
            "bdata": "4XoUrkfh/j8=",
            "dtype": "f8"
           },
           "xaxis": "x",
           "y": {
            "bdata": "AAAAY0rhvkE=",
            "dtype": "f8"
           },
           "yaxis": "y"
          },
          {
           "hovertemplate": "Country Name=Mexico<br>Year=2019<br>Tasa De Fertilidad (Hijos Por Mujer)=%{x}<br>Población Urbanizada=%{y}<extra></extra>",
           "legendgroup": "Mexico",
           "marker": {
            "color": "#FF6692",
            "symbol": "circle"
           },
           "mode": "markers",
           "name": "Mexico",
           "orientation": "v",
           "showlegend": true,
           "type": "scatter",
           "x": {
            "bdata": "uB6F61G4/j8=",
            "dtype": "f8"
           },
           "xaxis": "x",
           "y": {
            "bdata": "AAAAFNoemEE=",
            "dtype": "f8"
           },
           "yaxis": "y"
          },
          {
           "hovertemplate": "Country Name=Middle East & North Africa<br>Year=2019<br>Tasa De Fertilidad (Hijos Por Mujer)=%{x}<br>Población Urbanizada=%{y}<extra></extra>",
           "legendgroup": "Middle East & North Africa",
           "marker": {
            "color": "#B6E880",
            "symbol": "circle"
           },
           "mode": "markers",
           "name": "Middle East & North Africa",
           "orientation": "v",
           "showlegend": true,
           "type": "scatter",
           "x": {
            "bdata": "rkfhehSuBUA=",
            "dtype": "f8"
           },
           "xaxis": "x",
           "y": {
            "bdata": "AAAAhWVPskE=",
            "dtype": "f8"
           },
           "yaxis": "y"
          },
          {
           "hovertemplate": "Country Name=North America<br>Year=2019<br>Tasa De Fertilidad (Hijos Por Mujer)=%{x}<br>Población Urbanizada=%{y}<extra></extra>",
           "legendgroup": "North America",
           "marker": {
            "color": "#FF97FF",
            "symbol": "circle"
           },
           "mode": "markers",
           "name": "North America",
           "orientation": "v",
           "showlegend": true,
           "type": "scatter",
           "x": {
            "bdata": "4XoUrkfh+j8=",
            "dtype": "f8"
           },
           "xaxis": "x",
           "y": {
            "bdata": "AAAAtdL3sUE=",
            "dtype": "f8"
           },
           "yaxis": "y"
          },
          {
           "hovertemplate": "Country Name=South Africa<br>Year=2019<br>Tasa De Fertilidad (Hijos Por Mujer)=%{x}<br>Población Urbanizada=%{y}<extra></extra>",
           "legendgroup": "South Africa",
           "marker": {
            "color": "#FECB52",
            "symbol": "circle"
           },
           "mode": "markers",
           "name": "South Africa",
           "orientation": "v",
           "showlegend": true,
           "type": "scatter",
           "x": {
            "bdata": "16NwPQrXA0A=",
            "dtype": "f8"
           },
           "xaxis": "x",
           "y": {
            "bdata": "AAAA4Av/gkE=",
            "dtype": "f8"
           },
           "yaxis": "y"
          },
          {
           "hovertemplate": "Country Name=South Asia<br>Year=2019<br>Tasa De Fertilidad (Hijos Por Mujer)=%{x}<br>Población Urbanizada=%{y}<extra></extra>",
           "legendgroup": "South Asia",
           "marker": {
            "color": "#636efa",
            "symbol": "circle"
           },
           "mode": "markers",
           "name": "South Asia",
           "orientation": "v",
           "showlegend": true,
           "type": "scatter",
           "x": {
            "bdata": "j8L1KFyPAkA=",
            "dtype": "f8"
           },
           "xaxis": "x",
           "y": {
            "bdata": "AAAAtJM+w0E=",
            "dtype": "f8"
           },
           "yaxis": "y"
          },
          {
           "hovertemplate": "Country Name=Spain<br>Year=2019<br>Tasa De Fertilidad (Hijos Por Mujer)=%{x}<br>Población Urbanizada=%{y}<extra></extra>",
           "legendgroup": "Spain",
           "marker": {
            "color": "#EF553B",
            "symbol": "circle"
           },
           "mode": "markers",
           "name": "Spain",
           "orientation": "v",
           "showlegend": true,
           "type": "scatter",
           "x": {
            "bdata": "rkfhehSu8z8=",
            "dtype": "f8"
           },
           "xaxis": "x",
           "y": {
            "bdata": "AAAAKIUbgkE=",
            "dtype": "f8"
           },
           "yaxis": "y"
          },
          {
           "hovertemplate": "Country Name=Sub-Saharan Africa<br>Year=2019<br>Tasa De Fertilidad (Hijos Por Mujer)=%{x}<br>Población Urbanizada=%{y}<extra></extra>",
           "legendgroup": "Sub-Saharan Africa",
           "marker": {
            "color": "#00cc96",
            "symbol": "circle"
           },
           "mode": "markers",
           "name": "Sub-Saharan Africa",
           "orientation": "v",
           "showlegend": true,
           "type": "scatter",
           "x": {
            "bdata": "9ihcj8L1EkA=",
            "dtype": "f8"
           },
           "xaxis": "x",
           "y": {
            "bdata": "AAAAzKK6u0E=",
            "dtype": "f8"
           },
           "yaxis": "y"
          }
         ],
         "name": "2019"
        },
        {
         "data": [
          {
           "hovertemplate": "Country Name=Africa Eastern and Southern<br>Year=2020<br>Tasa De Fertilidad (Hijos Por Mujer)=%{x}<br>Población Urbanizada=%{y}<extra></extra>",
           "legendgroup": "Africa Eastern and Southern",
           "marker": {
            "color": "#636efa",
            "symbol": "circle"
           },
           "mode": "markers",
           "name": "Africa Eastern and Southern",
           "orientation": "v",
           "showlegend": true,
           "type": "scatter",
           "x": {
            "bdata": "pHA9CtejEUA=",
            "dtype": "f8"
           },
           "xaxis": "x",
           "y": {
            "bdata": "AAAAuMOIrkE=",
            "dtype": "f8"
           },
           "yaxis": "y"
          },
          {
           "hovertemplate": "Country Name=Arab World<br>Year=2020<br>Tasa De Fertilidad (Hijos Por Mujer)=%{x}<br>Población Urbanizada=%{y}<extra></extra>",
           "legendgroup": "Arab World",
           "marker": {
            "color": "#EF553B",
            "symbol": "circle"
           },
           "mode": "markers",
           "name": "Arab World",
           "orientation": "v",
           "showlegend": true,
           "type": "scatter",
           "x": {
            "bdata": "rkfhehSuCUA=",
            "dtype": "f8"
           },
           "xaxis": "x",
           "y": {
            "bdata": "AAAAHMOjr0E=",
            "dtype": "f8"
           },
           "yaxis": "y"
          },
          {
           "hovertemplate": "Country Name=Central African Republic<br>Year=2020<br>Tasa De Fertilidad (Hijos Por Mujer)=%{x}<br>Población Urbanizada=%{y}<extra></extra>",
           "legendgroup": "Central African Republic",
           "marker": {
            "color": "#00cc96",
            "symbol": "circle"
           },
           "mode": "markers",
           "name": "Central African Republic",
           "orientation": "v",
           "showlegend": true,
           "type": "scatter",
           "x": {
            "bdata": "7FG4HoXrF0A=",
            "dtype": "f8"
           },
           "xaxis": "x",
           "y": {
            "bdata": "AAAAANguQEE=",
            "dtype": "f8"
           },
           "yaxis": "y"
          },
          {
           "hovertemplate": "Country Name=East Asia & Pacific<br>Year=2020<br>Tasa De Fertilidad (Hijos Por Mujer)=%{x}<br>Población Urbanizada=%{y}<extra></extra>",
           "legendgroup": "East Asia & Pacific",
           "marker": {
            "color": "#ab63fa",
            "symbol": "circle"
           },
           "mode": "markers",
           "name": "East Asia & Pacific",
           "orientation": "v",
           "showlegend": true,
           "type": "scatter",
           "x": {
            "bdata": "9ihcj8L1+D8=",
            "dtype": "f8"
           },
           "xaxis": "x",
           "y": {
            "bdata": "AAAAPeFs1UE=",
            "dtype": "f8"
           },
           "yaxis": "y"
          },
          {
           "hovertemplate": "Country Name=European Union<br>Year=2020<br>Tasa De Fertilidad (Hijos Por Mujer)=%{x}<br>Población Urbanizada=%{y}<extra></extra>",
           "legendgroup": "European Union",
           "marker": {
            "color": "#FFA15A",
            "symbol": "circle"
           },
           "mode": "markers",
           "name": "European Union",
           "orientation": "v",
           "showlegend": true,
           "type": "scatter",
           "x": {
            "bdata": "AAAAAAAA+D8=",
            "dtype": "f8"
           },
           "xaxis": "x",
           "y": {
            "bdata": "AAAAPJgAtEE=",
            "dtype": "f8"
           },
           "yaxis": "y"
          },
          {
           "hovertemplate": "Country Name=Latin America & Caribbean<br>Year=2020<br>Tasa De Fertilidad (Hijos Por Mujer)=%{x}<br>Población Urbanizada=%{y}<extra></extra>",
           "legendgroup": "Latin America & Caribbean",
           "marker": {
            "color": "#19d3f3",
            "symbol": "circle"
           },
           "mode": "markers",
           "name": "Latin America & Caribbean",
           "orientation": "v",
           "showlegend": true,
           "type": "scatter",
           "x": {
            "bdata": "PQrXo3A9/j8=",
            "dtype": "f8"
           },
           "xaxis": "x",
           "y": {
            "bdata": "AAAA5Fsyv0E=",
            "dtype": "f8"
           },
           "yaxis": "y"
          },
          {
           "hovertemplate": "Country Name=Mexico<br>Year=2020<br>Tasa De Fertilidad (Hijos Por Mujer)=%{x}<br>Población Urbanizada=%{y}<extra></extra>",
           "legendgroup": "Mexico",
           "marker": {
            "color": "#FF6692",
            "symbol": "circle"
           },
           "mode": "markers",
           "name": "Mexico",
           "orientation": "v",
           "showlegend": true,
           "type": "scatter",
           "x": {
            "bdata": "ZmZmZmZm/j8=",
            "dtype": "f8"
           },
           "xaxis": "x",
           "y": {
            "bdata": "AAAAAO9nmEE=",
            "dtype": "f8"
           },
           "yaxis": "y"
          },
          {
           "hovertemplate": "Country Name=Middle East & North Africa<br>Year=2020<br>Tasa De Fertilidad (Hijos Por Mujer)=%{x}<br>Población Urbanizada=%{y}<extra></extra>",
           "legendgroup": "Middle East & North Africa",
           "marker": {
            "color": "#B6E880",
            "symbol": "circle"
           },
           "mode": "markers",
           "name": "Middle East & North Africa",
           "orientation": "v",
           "showlegend": true,
           "type": "scatter",
           "x": {
            "bdata": "XI/C9ShcBUA=",
            "dtype": "f8"
           },
           "xaxis": "x",
           "y": {
            "bdata": "AAAAs8e3skE=",
            "dtype": "f8"
           },
           "yaxis": "y"
          },
          {
           "hovertemplate": "Country Name=North America<br>Year=2020<br>Tasa De Fertilidad (Hijos Por Mujer)=%{x}<br>Población Urbanizada=%{y}<extra></extra>",
           "legendgroup": "North America",
           "marker": {
            "color": "#FF97FF",
            "symbol": "circle"
           },
           "mode": "markers",
           "name": "North America",
           "orientation": "v",
           "showlegend": true,
           "type": "scatter",
           "x": {
            "bdata": "7FG4HoXr+T8=",
            "dtype": "f8"
           },
           "xaxis": "x",
           "y": {
            "bdata": "AAAAhPwvskE=",
            "dtype": "f8"
           },
           "yaxis": "y"
          },
          {
           "hovertemplate": "Country Name=South Africa<br>Year=2020<br>Tasa De Fertilidad (Hijos Por Mujer)=%{x}<br>Población Urbanizada=%{y}<extra></extra>",
           "legendgroup": "South Africa",
           "marker": {
            "color": "#FECB52",
            "symbol": "circle"
           },
           "mode": "markers",
           "name": "South Africa",
           "orientation": "v",
           "showlegend": true,
           "type": "scatter",
           "x": {
            "bdata": "MzMzMzMzA0A=",
            "dtype": "f8"
           },
           "xaxis": "x",
           "y": {
            "bdata": "AAAAkGRzg0E=",
            "dtype": "f8"
           },
           "yaxis": "y"
          },
          {
           "hovertemplate": "Country Name=South Asia<br>Year=2020<br>Tasa De Fertilidad (Hijos Por Mujer)=%{x}<br>Población Urbanizada=%{y}<extra></extra>",
           "legendgroup": "South Asia",
           "marker": {
            "color": "#636efa",
            "symbol": "circle"
           },
           "mode": "markers",
           "name": "South Asia",
           "orientation": "v",
           "showlegend": true,
           "type": "scatter",
           "x": {
            "bdata": "KVyPwvUoAkA=",
            "dtype": "f8"
           },
           "xaxis": "x",
           "y": {
            "bdata": "AAAAXZK2w0E=",
            "dtype": "f8"
           },
           "yaxis": "y"
          },
          {
           "hovertemplate": "Country Name=Spain<br>Year=2020<br>Tasa De Fertilidad (Hijos Por Mujer)=%{x}<br>Población Urbanizada=%{y}<extra></extra>",
           "legendgroup": "Spain",
           "marker": {
            "color": "#EF553B",
            "symbol": "circle"
           },
           "mode": "markers",
           "name": "Spain",
           "orientation": "v",
           "showlegend": true,
           "type": "scatter",
           "x": {
            "bdata": "CtejcD0K8z8=",
            "dtype": "f8"
           },
           "xaxis": "x",
           "y": {
            "bdata": "AAAA0GJAgkE=",
            "dtype": "f8"
           },
           "yaxis": "y"
          },
          {
           "hovertemplate": "Country Name=Sub-Saharan Africa<br>Year=2020<br>Tasa De Fertilidad (Hijos Por Mujer)=%{x}<br>Población Urbanizada=%{y}<extra></extra>",
           "legendgroup": "Sub-Saharan Africa",
           "marker": {
            "color": "#00cc96",
            "symbol": "circle"
           },
           "mode": "markers",
           "name": "Sub-Saharan Africa",
           "orientation": "v",
           "showlegend": true,
           "type": "scatter",
           "x": {
            "bdata": "rkfhehSuEkA=",
            "dtype": "f8"
           },
           "xaxis": "x",
           "y": {
            "bdata": "AAAAqzzTvEE=",
            "dtype": "f8"
           },
           "yaxis": "y"
          }
         ],
         "name": "2020"
        },
        {
         "data": [
          {
           "hovertemplate": "Country Name=Africa Eastern and Southern<br>Year=2021<br>Tasa De Fertilidad (Hijos Por Mujer)=%{x}<br>Población Urbanizada=%{y}<extra></extra>",
           "legendgroup": "Africa Eastern and Southern",
           "marker": {
            "color": "#636efa",
            "symbol": "circle"
           },
           "mode": "markers",
           "name": "Africa Eastern and Southern",
           "orientation": "v",
           "showlegend": true,
           "type": "scatter",
           "x": {
            "bdata": "ZmZmZmZmEUA=",
            "dtype": "f8"
           },
           "xaxis": "x",
           "y": {
            "bdata": "AAAA1IfJr0E=",
            "dtype": "f8"
           },
           "yaxis": "y"
          },
          {
           "hovertemplate": "Country Name=Arab World<br>Year=2021<br>Tasa De Fertilidad (Hijos Por Mujer)=%{x}<br>Población Urbanizada=%{y}<extra></extra>",
           "legendgroup": "Arab World",
           "marker": {
            "color": "#EF553B",
            "symbol": "circle"
           },
           "mode": "markers",
           "name": "Arab World",
           "orientation": "v",
           "showlegend": true,
           "type": "scatter",
           "x": {
            "bdata": "SOF6FK5HCUA=",
            "dtype": "f8"
           },
           "xaxis": "x",
           "y": {
            "bdata": "AAAAK10bsEE=",
            "dtype": "f8"
           },
           "yaxis": "y"
          },
          {
           "hovertemplate": "Country Name=Central African Republic<br>Year=2021<br>Tasa De Fertilidad (Hijos Por Mujer)=%{x}<br>Población Urbanizada=%{y}<extra></extra>",
           "legendgroup": "Central African Republic",
           "marker": {
            "color": "#00cc96",
            "symbol": "circle"
           },
           "mode": "markers",
           "name": "Central African Republic",
           "orientation": "v",
           "showlegend": true,
           "type": "scatter",
           "x": {
            "bdata": "7FG4HoXrF0A=",
            "dtype": "f8"
           },
           "xaxis": "x",
           "y": {
            "bdata": "AAAAADiiQEE=",
            "dtype": "f8"
           },
           "yaxis": "y"
          },
          {
           "hovertemplate": "Country Name=East Asia & Pacific<br>Year=2021<br>Tasa De Fertilidad (Hijos Por Mujer)=%{x}<br>Población Urbanizada=%{y}<extra></extra>",
           "legendgroup": "East Asia & Pacific",
           "marker": {
            "color": "#ab63fa",
            "symbol": "circle"
           },
           "mode": "markers",
           "name": "East Asia & Pacific",
           "orientation": "v",
           "showlegend": true,
           "type": "scatter",
           "x": {
            "bdata": "16NwPQrX9z8=",
            "dtype": "f8"
           },
           "xaxis": "x",
           "y": {
            "bdata": "AAAAooDA1UE=",
            "dtype": "f8"
           },
           "yaxis": "y"
          },
          {
           "hovertemplate": "Country Name=European Union<br>Year=2021<br>Tasa De Fertilidad (Hijos Por Mujer)=%{x}<br>Población Urbanizada=%{y}<extra></extra>",
           "legendgroup": "European Union",
           "marker": {
            "color": "#FFA15A",
            "symbol": "circle"
           },
           "mode": "markers",
           "name": "European Union",
           "orientation": "v",
           "showlegend": true,
           "type": "scatter",
           "x": {
            "bdata": "UrgehetR+D8=",
            "dtype": "f8"
           },
           "xaxis": "x",
           "y": {
            "bdata": "AAAA3qYFtEE=",
            "dtype": "f8"
           },
           "yaxis": "y"
          },
          {
           "hovertemplate": "Country Name=Latin America & Caribbean<br>Year=2021<br>Tasa De Fertilidad (Hijos Por Mujer)=%{x}<br>Población Urbanizada=%{y}<extra></extra>",
           "legendgroup": "Latin America & Caribbean",
           "marker": {
            "color": "#19d3f3",
            "symbol": "circle"
           },
           "mode": "markers",
           "name": "Latin America & Caribbean",
           "orientation": "v",
           "showlegend": true,
           "type": "scatter",
           "x": {
            "bdata": "w/UoXI/C/T8=",
            "dtype": "f8"
           },
           "xaxis": "x",
           "y": {
            "bdata": "AAAAA1Z4v0E=",
            "dtype": "f8"
           },
           "yaxis": "y"
          },
          {
           "hovertemplate": "Country Name=Mexico<br>Year=2021<br>Tasa De Fertilidad (Hijos Por Mujer)=%{x}<br>Población Urbanizada=%{y}<extra></extra>",
           "legendgroup": "Mexico",
           "marker": {
            "color": "#FF6692",
            "symbol": "circle"
           },
           "mode": "markers",
           "name": "Mexico",
           "orientation": "v",
           "showlegend": true,
           "type": "scatter",
           "x": {
            "bdata": "H4XrUbge/T8=",
            "dtype": "f8"
           },
           "xaxis": "x",
           "y": {
            "bdata": "AAAAAPqnmEE=",
            "dtype": "f8"
           },
           "yaxis": "y"
          },
          {
           "hovertemplate": "Country Name=Middle East & North Africa<br>Year=2021<br>Tasa De Fertilidad (Hijos Por Mujer)=%{x}<br>Población Urbanizada=%{y}<extra></extra>",
           "legendgroup": "Middle East & North Africa",
           "marker": {
            "color": "#B6E880",
            "symbol": "circle"
           },
           "mode": "markers",
           "name": "Middle East & North Africa",
           "orientation": "v",
           "showlegend": true,
           "type": "scatter",
           "x": {
            "bdata": "CtejcD0KBUA=",
            "dtype": "f8"
           },
           "xaxis": "x",
           "y": {
            "bdata": "AAAAz14Bs0E=",
            "dtype": "f8"
           },
           "yaxis": "y"
          },
          {
           "hovertemplate": "Country Name=North America<br>Year=2021<br>Tasa De Fertilidad (Hijos Por Mujer)=%{x}<br>Población Urbanizada=%{y}<extra></extra>",
           "legendgroup": "North America",
           "marker": {
            "color": "#FF97FF",
            "symbol": "circle"
           },
           "mode": "markers",
           "name": "North America",
           "orientation": "v",
           "showlegend": true,
           "type": "scatter",
           "x": {
            "bdata": "PQrXo3A9+j8=",
            "dtype": "f8"
           },
           "xaxis": "x",
           "y": {
            "bdata": "AAAACVNEskE=",
            "dtype": "f8"
           },
           "yaxis": "y"
          },
          {
           "hovertemplate": "Country Name=South Africa<br>Year=2021<br>Tasa De Fertilidad (Hijos Por Mujer)=%{x}<br>Población Urbanizada=%{y}<extra></extra>",
           "legendgroup": "South Africa",
           "marker": {
            "color": "#FECB52",
            "symbol": "circle"
           },
           "mode": "markers",
           "name": "South Africa",
           "orientation": "v",
           "showlegend": true,
           "type": "scatter",
           "x": {
            "bdata": "9ihcj8L1AkA=",
            "dtype": "f8"
           },
           "xaxis": "x",
           "y": {
            "bdata": "AAAAuLXlg0E=",
            "dtype": "f8"
           },
           "yaxis": "y"
          },
          {
           "hovertemplate": "Country Name=South Asia<br>Year=2021<br>Tasa De Fertilidad (Hijos Por Mujer)=%{x}<br>Población Urbanizada=%{y}<extra></extra>",
           "legendgroup": "South Asia",
           "marker": {
            "color": "#636efa",
            "symbol": "circle"
           },
           "mode": "markers",
           "name": "South Asia",
           "orientation": "v",
           "showlegend": true,
           "type": "scatter",
           "x": {
            "bdata": "7FG4HoXrAUA=",
            "dtype": "f8"
           },
           "xaxis": "x",
           "y": {
            "bdata": "AACAW40sxEE=",
            "dtype": "f8"
           },
           "yaxis": "y"
          },
          {
           "hovertemplate": "Country Name=Spain<br>Year=2021<br>Tasa De Fertilidad (Hijos Por Mujer)=%{x}<br>Población Urbanizada=%{y}<extra></extra>",
           "legendgroup": "Spain",
           "marker": {
            "color": "#EF553B",
            "symbol": "circle"
           },
           "mode": "markers",
           "name": "Spain",
           "orientation": "v",
           "showlegend": true,
           "type": "scatter",
           "x": {
            "bdata": "CtejcD0K8z8=",
            "dtype": "f8"
           },
           "xaxis": "x",
           "y": {
            "bdata": "AAAAEJJTgkE=",
            "dtype": "f8"
           },
           "yaxis": "y"
          },
          {
           "hovertemplate": "Country Name=Sub-Saharan Africa<br>Year=2021<br>Tasa De Fertilidad (Hijos Por Mujer)=%{x}<br>Población Urbanizada=%{y}<extra></extra>",
           "legendgroup": "Sub-Saharan Africa",
           "marker": {
            "color": "#00cc96",
            "symbol": "circle"
           },
           "mode": "markers",
           "name": "Sub-Saharan Africa",
           "orientation": "v",
           "showlegend": true,
           "type": "scatter",
           "x": {
            "bdata": "ZmZmZmZmEkA=",
            "dtype": "f8"
           },
           "xaxis": "x",
           "y": {
            "bdata": "AAAASDPzvUE=",
            "dtype": "f8"
           },
           "yaxis": "y"
          }
         ],
         "name": "2021"
        },
        {
         "data": [
          {
           "hovertemplate": "Country Name=Africa Eastern and Southern<br>Year=2022<br>Tasa De Fertilidad (Hijos Por Mujer)=%{x}<br>Población Urbanizada=%{y}<extra></extra>",
           "legendgroup": "Africa Eastern and Southern",
           "marker": {
            "color": "#636efa",
            "symbol": "circle"
           },
           "mode": "markers",
           "name": "Africa Eastern and Southern",
           "orientation": "v",
           "showlegend": true,
           "type": "scatter",
           "x": {
            "bdata": "H4XrUbgeEUA=",
            "dtype": "f8"
           },
           "xaxis": "x",
           "y": {
            "bdata": "AAAAVTCJsEE=",
            "dtype": "f8"
           },
           "yaxis": "y"
          },
          {
           "hovertemplate": "Country Name=Arab World<br>Year=2022<br>Tasa De Fertilidad (Hijos Por Mujer)=%{x}<br>Población Urbanizada=%{y}<extra></extra>",
           "legendgroup": "Arab World",
           "marker": {
            "color": "#EF553B",
            "symbol": "circle"
           },
           "mode": "markers",
           "name": "Arab World",
           "orientation": "v",
           "showlegend": true,
           "type": "scatter",
           "x": {
            "bdata": "4XoUrkfhCEA=",
            "dtype": "f8"
           },
           "xaxis": "x",
           "y": {
            "bdata": "AAAAZFaXsEE=",
            "dtype": "f8"
           },
           "yaxis": "y"
          },
          {
           "hovertemplate": "Country Name=Central African Republic<br>Year=2022<br>Tasa De Fertilidad (Hijos Por Mujer)=%{x}<br>Población Urbanizada=%{y}<extra></extra>",
           "legendgroup": "Central African Republic",
           "marker": {
            "color": "#00cc96",
            "symbol": "circle"
           },
           "mode": "markers",
           "name": "Central African Republic",
           "orientation": "v",
           "showlegend": true,
           "type": "scatter",
           "x": {
            "bdata": "rkfhehSuF0A=",
            "dtype": "f8"
           },
           "xaxis": "x",
           "y": {
            "bdata": "AAAAAIHFQEE=",
            "dtype": "f8"
           },
           "yaxis": "y"
          },
          {
           "hovertemplate": "Country Name=East Asia & Pacific<br>Year=2022<br>Tasa De Fertilidad (Hijos Por Mujer)=%{x}<br>Población Urbanizada=%{y}<extra></extra>",
           "legendgroup": "East Asia & Pacific",
           "marker": {
            "color": "#ab63fa",
            "symbol": "circle"
           },
           "mode": "markers",
           "name": "East Asia & Pacific",
           "orientation": "v",
           "showlegend": true,
           "type": "scatter",
           "x": {
            "bdata": "16NwPQrX9z8=",
            "dtype": "f8"
           },
           "xaxis": "x",
           "y": {
            "bdata": "AABAaqAQ1kE=",
            "dtype": "f8"
           },
           "yaxis": "y"
          },
          {
           "hovertemplate": "Country Name=European Union<br>Year=2022<br>Tasa De Fertilidad (Hijos Por Mujer)=%{x}<br>Población Urbanizada=%{y}<extra></extra>",
           "legendgroup": "European Union",
           "marker": {
            "color": "#FFA15A",
            "symbol": "circle"
           },
           "mode": "markers",
           "name": "European Union",
           "orientation": "v",
           "showlegend": true,
           "type": "scatter",
           "x": {
            "bdata": "XI/C9Shc9z8=",
            "dtype": "f8"
           },
           "xaxis": "x",
           "y": {
            "bdata": "AAAAXtgktEE=",
            "dtype": "f8"
           },
           "yaxis": "y"
          },
          {
           "hovertemplate": "Country Name=Latin America & Caribbean<br>Year=2022<br>Tasa De Fertilidad (Hijos Por Mujer)=%{x}<br>Población Urbanizada=%{y}<extra></extra>",
           "legendgroup": "Latin America & Caribbean",
           "marker": {
            "color": "#19d3f3",
            "symbol": "circle"
           },
           "mode": "markers",
           "name": "Latin America & Caribbean",
           "orientation": "v",
           "showlegend": true,
           "type": "scatter",
           "x": {
            "bdata": "cT0K16Nw/T8=",
            "dtype": "f8"
           },
           "xaxis": "x",
           "y": {
            "bdata": "AAAAYRDAv0E=",
            "dtype": "f8"
           },
           "yaxis": "y"
          },
          {
           "hovertemplate": "Country Name=Mexico<br>Year=2022<br>Tasa De Fertilidad (Hijos Por Mujer)=%{x}<br>Población Urbanizada=%{y}<extra></extra>",
           "legendgroup": "Mexico",
           "marker": {
            "color": "#FF6692",
            "symbol": "circle"
           },
           "mode": "markers",
           "name": "Mexico",
           "orientation": "v",
           "showlegend": true,
           "type": "scatter",
           "x": {
            "bdata": "zczMzMzM/D8=",
            "dtype": "f8"
           },
           "xaxis": "x",
           "y": {
            "bdata": "AAAAgPztmEE=",
            "dtype": "f8"
           },
           "yaxis": "y"
          },
          {
           "hovertemplate": "Country Name=Middle East & North Africa<br>Year=2022<br>Tasa De Fertilidad (Hijos Por Mujer)=%{x}<br>Población Urbanizada=%{y}<extra></extra>",
           "legendgroup": "Middle East & North Africa",
           "marker": {
            "color": "#B6E880",
            "symbol": "circle"
           },
           "mode": "markers",
           "name": "Middle East & North Africa",
           "orientation": "v",
           "showlegend": true,
           "type": "scatter",
           "x": {
            "bdata": "zczMzMzMBEA=",
            "dtype": "f8"
           },
           "xaxis": "x",
           "y": {
            "bdata": "AAAAPOKBs0E=",
            "dtype": "f8"
           },
           "yaxis": "y"
          },
          {
           "hovertemplate": "Country Name=North America<br>Year=2022<br>Tasa De Fertilidad (Hijos Por Mujer)=%{x}<br>Población Urbanizada=%{y}<extra></extra>",
           "legendgroup": "North America",
           "marker": {
            "color": "#FF97FF",
            "symbol": "circle"
           },
           "mode": "markers",
           "name": "North America",
           "orientation": "v",
           "showlegend": true,
           "type": "scatter",
           "x": {
            "bdata": "FK5H4XoU+j8=",
            "dtype": "f8"
           },
           "xaxis": "x",
           "y": {
            "bdata": "AAAAUdBnskE=",
            "dtype": "f8"
           },
           "yaxis": "y"
          },
          {
           "hovertemplate": "Country Name=South Africa<br>Year=2022<br>Tasa De Fertilidad (Hijos Por Mujer)=%{x}<br>Población Urbanizada=%{y}<extra></extra>",
           "legendgroup": "South Africa",
           "marker": {
            "color": "#FECB52",
            "symbol": "circle"
           },
           "mode": "markers",
           "name": "South Africa",
           "orientation": "v",
           "showlegend": true,
           "type": "scatter",
           "x": {
            "bdata": "uB6F61G4AkA=",
            "dtype": "f8"
           },
           "xaxis": "x",
           "y": {
            "bdata": "AAAAcGdThEE=",
            "dtype": "f8"
           },
           "yaxis": "y"
          },
          {
           "hovertemplate": "Country Name=South Asia<br>Year=2022<br>Tasa De Fertilidad (Hijos Por Mujer)=%{x}<br>Población Urbanizada=%{y}<extra></extra>",
           "legendgroup": "South Asia",
           "marker": {
            "color": "#636efa",
            "symbol": "circle"
           },
           "mode": "markers",
           "name": "South Asia",
           "orientation": "v",
           "showlegend": true,
           "type": "scatter",
           "x": {
            "bdata": "w/UoXI/CAUA=",
            "dtype": "f8"
           },
           "xaxis": "x",
           "y": {
            "bdata": "AACAkFSjxEE=",
            "dtype": "f8"
           },
           "yaxis": "y"
          },
          {
           "hovertemplate": "Country Name=Spain<br>Year=2022<br>Tasa De Fertilidad (Hijos Por Mujer)=%{x}<br>Población Urbanizada=%{y}<extra></extra>",
           "legendgroup": "Spain",
           "marker": {
            "color": "#EF553B",
            "symbol": "circle"
           },
           "mode": "markers",
           "name": "Spain",
           "orientation": "v",
           "showlegend": true,
           "type": "scatter",
           "x": {
            "bdata": "j8L1KFyP8j8=",
            "dtype": "f8"
           },
           "xaxis": "x",
           "y": {
            "bdata": "AAAACACEgkE=",
            "dtype": "f8"
           },
           "yaxis": "y"
          },
          {
           "hovertemplate": "Country Name=Sub-Saharan Africa<br>Year=2022<br>Tasa De Fertilidad (Hijos Por Mujer)=%{x}<br>Población Urbanizada=%{y}<extra></extra>",
           "legendgroup": "Sub-Saharan Africa",
           "marker": {
            "color": "#00cc96",
            "symbol": "circle"
           },
           "mode": "markers",
           "name": "Sub-Saharan Africa",
           "orientation": "v",
           "showlegend": true,
           "type": "scatter",
           "x": {
            "bdata": "H4XrUbgeEkA=",
            "dtype": "f8"
           },
           "xaxis": "x",
           "y": {
            "bdata": "AAAAiegZv0E=",
            "dtype": "f8"
           },
           "yaxis": "y"
          }
         ],
         "name": "2022"
        }
       ],
       "layout": {
        "legend": {
         "title": {
          "text": "Country Name"
         },
         "tracegroupgap": 0
        },
        "sliders": [
         {
          "active": 0,
          "currentvalue": {
           "prefix": "Año="
          },
          "len": 0.9,
          "pad": {
           "b": 10,
           "t": 60
          },
          "steps": [
           {
            "args": [
             [
              "1974"
             ],
             {
              "frame": {
               "duration": 0,
               "redraw": false
              },
              "fromcurrent": true,
              "mode": "immediate",
              "transition": {
               "duration": 0,
               "easing": "linear"
              }
             }
            ],
            "label": "1974",
            "method": "animate"
           },
           {
            "args": [
             [
              "1975"
             ],
             {
              "frame": {
               "duration": 0,
               "redraw": false
              },
              "fromcurrent": true,
              "mode": "immediate",
              "transition": {
               "duration": 0,
               "easing": "linear"
              }
             }
            ],
            "label": "1975",
            "method": "animate"
           },
           {
            "args": [
             [
              "1976"
             ],
             {
              "frame": {
               "duration": 0,
               "redraw": false
              },
              "fromcurrent": true,
              "mode": "immediate",
              "transition": {
               "duration": 0,
               "easing": "linear"
              }
             }
            ],
            "label": "1976",
            "method": "animate"
           },
           {
            "args": [
             [
              "1977"
             ],
             {
              "frame": {
               "duration": 0,
               "redraw": false
              },
              "fromcurrent": true,
              "mode": "immediate",
              "transition": {
               "duration": 0,
               "easing": "linear"
              }
             }
            ],
            "label": "1977",
            "method": "animate"
           },
           {
            "args": [
             [
              "1978"
             ],
             {
              "frame": {
               "duration": 0,
               "redraw": false
              },
              "fromcurrent": true,
              "mode": "immediate",
              "transition": {
               "duration": 0,
               "easing": "linear"
              }
             }
            ],
            "label": "1978",
            "method": "animate"
           },
           {
            "args": [
             [
              "1979"
             ],
             {
              "frame": {
               "duration": 0,
               "redraw": false
              },
              "fromcurrent": true,
              "mode": "immediate",
              "transition": {
               "duration": 0,
               "easing": "linear"
              }
             }
            ],
            "label": "1979",
            "method": "animate"
           },
           {
            "args": [
             [
              "1980"
             ],
             {
              "frame": {
               "duration": 0,
               "redraw": false
              },
              "fromcurrent": true,
              "mode": "immediate",
              "transition": {
               "duration": 0,
               "easing": "linear"
              }
             }
            ],
            "label": "1980",
            "method": "animate"
           },
           {
            "args": [
             [
              "1981"
             ],
             {
              "frame": {
               "duration": 0,
               "redraw": false
              },
              "fromcurrent": true,
              "mode": "immediate",
              "transition": {
               "duration": 0,
               "easing": "linear"
              }
             }
            ],
            "label": "1981",
            "method": "animate"
           },
           {
            "args": [
             [
              "1982"
             ],
             {
              "frame": {
               "duration": 0,
               "redraw": false
              },
              "fromcurrent": true,
              "mode": "immediate",
              "transition": {
               "duration": 0,
               "easing": "linear"
              }
             }
            ],
            "label": "1982",
            "method": "animate"
           },
           {
            "args": [
             [
              "1983"
             ],
             {
              "frame": {
               "duration": 0,
               "redraw": false
              },
              "fromcurrent": true,
              "mode": "immediate",
              "transition": {
               "duration": 0,
               "easing": "linear"
              }
             }
            ],
            "label": "1983",
            "method": "animate"
           },
           {
            "args": [
             [
              "1984"
             ],
             {
              "frame": {
               "duration": 0,
               "redraw": false
              },
              "fromcurrent": true,
              "mode": "immediate",
              "transition": {
               "duration": 0,
               "easing": "linear"
              }
             }
            ],
            "label": "1984",
            "method": "animate"
           },
           {
            "args": [
             [
              "1985"
             ],
             {
              "frame": {
               "duration": 0,
               "redraw": false
              },
              "fromcurrent": true,
              "mode": "immediate",
              "transition": {
               "duration": 0,
               "easing": "linear"
              }
             }
            ],
            "label": "1985",
            "method": "animate"
           },
           {
            "args": [
             [
              "1986"
             ],
             {
              "frame": {
               "duration": 0,
               "redraw": false
              },
              "fromcurrent": true,
              "mode": "immediate",
              "transition": {
               "duration": 0,
               "easing": "linear"
              }
             }
            ],
            "label": "1986",
            "method": "animate"
           },
           {
            "args": [
             [
              "1987"
             ],
             {
              "frame": {
               "duration": 0,
               "redraw": false
              },
              "fromcurrent": true,
              "mode": "immediate",
              "transition": {
               "duration": 0,
               "easing": "linear"
              }
             }
            ],
            "label": "1987",
            "method": "animate"
           },
           {
            "args": [
             [
              "1988"
             ],
             {
              "frame": {
               "duration": 0,
               "redraw": false
              },
              "fromcurrent": true,
              "mode": "immediate",
              "transition": {
               "duration": 0,
               "easing": "linear"
              }
             }
            ],
            "label": "1988",
            "method": "animate"
           },
           {
            "args": [
             [
              "1989"
             ],
             {
              "frame": {
               "duration": 0,
               "redraw": false
              },
              "fromcurrent": true,
              "mode": "immediate",
              "transition": {
               "duration": 0,
               "easing": "linear"
              }
             }
            ],
            "label": "1989",
            "method": "animate"
           },
           {
            "args": [
             [
              "1990"
             ],
             {
              "frame": {
               "duration": 0,
               "redraw": false
              },
              "fromcurrent": true,
              "mode": "immediate",
              "transition": {
               "duration": 0,
               "easing": "linear"
              }
             }
            ],
            "label": "1990",
            "method": "animate"
           },
           {
            "args": [
             [
              "1991"
             ],
             {
              "frame": {
               "duration": 0,
               "redraw": false
              },
              "fromcurrent": true,
              "mode": "immediate",
              "transition": {
               "duration": 0,
               "easing": "linear"
              }
             }
            ],
            "label": "1991",
            "method": "animate"
           },
           {
            "args": [
             [
              "1992"
             ],
             {
              "frame": {
               "duration": 0,
               "redraw": false
              },
              "fromcurrent": true,
              "mode": "immediate",
              "transition": {
               "duration": 0,
               "easing": "linear"
              }
             }
            ],
            "label": "1992",
            "method": "animate"
           },
           {
            "args": [
             [
              "1993"
             ],
             {
              "frame": {
               "duration": 0,
               "redraw": false
              },
              "fromcurrent": true,
              "mode": "immediate",
              "transition": {
               "duration": 0,
               "easing": "linear"
              }
             }
            ],
            "label": "1993",
            "method": "animate"
           },
           {
            "args": [
             [
              "1994"
             ],
             {
              "frame": {
               "duration": 0,
               "redraw": false
              },
              "fromcurrent": true,
              "mode": "immediate",
              "transition": {
               "duration": 0,
               "easing": "linear"
              }
             }
            ],
            "label": "1994",
            "method": "animate"
           },
           {
            "args": [
             [
              "1995"
             ],
             {
              "frame": {
               "duration": 0,
               "redraw": false
              },
              "fromcurrent": true,
              "mode": "immediate",
              "transition": {
               "duration": 0,
               "easing": "linear"
              }
             }
            ],
            "label": "1995",
            "method": "animate"
           },
           {
            "args": [
             [
              "1996"
             ],
             {
              "frame": {
               "duration": 0,
               "redraw": false
              },
              "fromcurrent": true,
              "mode": "immediate",
              "transition": {
               "duration": 0,
               "easing": "linear"
              }
             }
            ],
            "label": "1996",
            "method": "animate"
           },
           {
            "args": [
             [
              "1997"
             ],
             {
              "frame": {
               "duration": 0,
               "redraw": false
              },
              "fromcurrent": true,
              "mode": "immediate",
              "transition": {
               "duration": 0,
               "easing": "linear"
              }
             }
            ],
            "label": "1997",
            "method": "animate"
           },
           {
            "args": [
             [
              "1998"
             ],
             {
              "frame": {
               "duration": 0,
               "redraw": false
              },
              "fromcurrent": true,
              "mode": "immediate",
              "transition": {
               "duration": 0,
               "easing": "linear"
              }
             }
            ],
            "label": "1998",
            "method": "animate"
           },
           {
            "args": [
             [
              "1999"
             ],
             {
              "frame": {
               "duration": 0,
               "redraw": false
              },
              "fromcurrent": true,
              "mode": "immediate",
              "transition": {
               "duration": 0,
               "easing": "linear"
              }
             }
            ],
            "label": "1999",
            "method": "animate"
           },
           {
            "args": [
             [
              "2000"
             ],
             {
              "frame": {
               "duration": 0,
               "redraw": false
              },
              "fromcurrent": true,
              "mode": "immediate",
              "transition": {
               "duration": 0,
               "easing": "linear"
              }
             }
            ],
            "label": "2000",
            "method": "animate"
           },
           {
            "args": [
             [
              "2001"
             ],
             {
              "frame": {
               "duration": 0,
               "redraw": false
              },
              "fromcurrent": true,
              "mode": "immediate",
              "transition": {
               "duration": 0,
               "easing": "linear"
              }
             }
            ],
            "label": "2001",
            "method": "animate"
           },
           {
            "args": [
             [
              "2002"
             ],
             {
              "frame": {
               "duration": 0,
               "redraw": false
              },
              "fromcurrent": true,
              "mode": "immediate",
              "transition": {
               "duration": 0,
               "easing": "linear"
              }
             }
            ],
            "label": "2002",
            "method": "animate"
           },
           {
            "args": [
             [
              "2003"
             ],
             {
              "frame": {
               "duration": 0,
               "redraw": false
              },
              "fromcurrent": true,
              "mode": "immediate",
              "transition": {
               "duration": 0,
               "easing": "linear"
              }
             }
            ],
            "label": "2003",
            "method": "animate"
           },
           {
            "args": [
             [
              "2004"
             ],
             {
              "frame": {
               "duration": 0,
               "redraw": false
              },
              "fromcurrent": true,
              "mode": "immediate",
              "transition": {
               "duration": 0,
               "easing": "linear"
              }
             }
            ],
            "label": "2004",
            "method": "animate"
           },
           {
            "args": [
             [
              "2005"
             ],
             {
              "frame": {
               "duration": 0,
               "redraw": false
              },
              "fromcurrent": true,
              "mode": "immediate",
              "transition": {
               "duration": 0,
               "easing": "linear"
              }
             }
            ],
            "label": "2005",
            "method": "animate"
           },
           {
            "args": [
             [
              "2006"
             ],
             {
              "frame": {
               "duration": 0,
               "redraw": false
              },
              "fromcurrent": true,
              "mode": "immediate",
              "transition": {
               "duration": 0,
               "easing": "linear"
              }
             }
            ],
            "label": "2006",
            "method": "animate"
           },
           {
            "args": [
             [
              "2007"
             ],
             {
              "frame": {
               "duration": 0,
               "redraw": false
              },
              "fromcurrent": true,
              "mode": "immediate",
              "transition": {
               "duration": 0,
               "easing": "linear"
              }
             }
            ],
            "label": "2007",
            "method": "animate"
           },
           {
            "args": [
             [
              "2008"
             ],
             {
              "frame": {
               "duration": 0,
               "redraw": false
              },
              "fromcurrent": true,
              "mode": "immediate",
              "transition": {
               "duration": 0,
               "easing": "linear"
              }
             }
            ],
            "label": "2008",
            "method": "animate"
           },
           {
            "args": [
             [
              "2009"
             ],
             {
              "frame": {
               "duration": 0,
               "redraw": false
              },
              "fromcurrent": true,
              "mode": "immediate",
              "transition": {
               "duration": 0,
               "easing": "linear"
              }
             }
            ],
            "label": "2009",
            "method": "animate"
           },
           {
            "args": [
             [
              "2010"
             ],
             {
              "frame": {
               "duration": 0,
               "redraw": false
              },
              "fromcurrent": true,
              "mode": "immediate",
              "transition": {
               "duration": 0,
               "easing": "linear"
              }
             }
            ],
            "label": "2010",
            "method": "animate"
           },
           {
            "args": [
             [
              "2011"
             ],
             {
              "frame": {
               "duration": 0,
               "redraw": false
              },
              "fromcurrent": true,
              "mode": "immediate",
              "transition": {
               "duration": 0,
               "easing": "linear"
              }
             }
            ],
            "label": "2011",
            "method": "animate"
           },
           {
            "args": [
             [
              "2012"
             ],
             {
              "frame": {
               "duration": 0,
               "redraw": false
              },
              "fromcurrent": true,
              "mode": "immediate",
              "transition": {
               "duration": 0,
               "easing": "linear"
              }
             }
            ],
            "label": "2012",
            "method": "animate"
           },
           {
            "args": [
             [
              "2013"
             ],
             {
              "frame": {
               "duration": 0,
               "redraw": false
              },
              "fromcurrent": true,
              "mode": "immediate",
              "transition": {
               "duration": 0,
               "easing": "linear"
              }
             }
            ],
            "label": "2013",
            "method": "animate"
           },
           {
            "args": [
             [
              "2014"
             ],
             {
              "frame": {
               "duration": 0,
               "redraw": false
              },
              "fromcurrent": true,
              "mode": "immediate",
              "transition": {
               "duration": 0,
               "easing": "linear"
              }
             }
            ],
            "label": "2014",
            "method": "animate"
           },
           {
            "args": [
             [
              "2015"
             ],
             {
              "frame": {
               "duration": 0,
               "redraw": false
              },
              "fromcurrent": true,
              "mode": "immediate",
              "transition": {
               "duration": 0,
               "easing": "linear"
              }
             }
            ],
            "label": "2015",
            "method": "animate"
           },
           {
            "args": [
             [
              "2016"
             ],
             {
              "frame": {
               "duration": 0,
               "redraw": false
              },
              "fromcurrent": true,
              "mode": "immediate",
              "transition": {
               "duration": 0,
               "easing": "linear"
              }
             }
            ],
            "label": "2016",
            "method": "animate"
           },
           {
            "args": [
             [
              "2017"
             ],
             {
              "frame": {
               "duration": 0,
               "redraw": false
              },
              "fromcurrent": true,
              "mode": "immediate",
              "transition": {
               "duration": 0,
               "easing": "linear"
              }
             }
            ],
            "label": "2017",
            "method": "animate"
           },
           {
            "args": [
             [
              "2018"
             ],
             {
              "frame": {
               "duration": 0,
               "redraw": false
              },
              "fromcurrent": true,
              "mode": "immediate",
              "transition": {
               "duration": 0,
               "easing": "linear"
              }
             }
            ],
            "label": "2018",
            "method": "animate"
           },
           {
            "args": [
             [
              "2019"
             ],
             {
              "frame": {
               "duration": 0,
               "redraw": false
              },
              "fromcurrent": true,
              "mode": "immediate",
              "transition": {
               "duration": 0,
               "easing": "linear"
              }
             }
            ],
            "label": "2019",
            "method": "animate"
           },
           {
            "args": [
             [
              "2020"
             ],
             {
              "frame": {
               "duration": 0,
               "redraw": false
              },
              "fromcurrent": true,
              "mode": "immediate",
              "transition": {
               "duration": 0,
               "easing": "linear"
              }
             }
            ],
            "label": "2020",
            "method": "animate"
           },
           {
            "args": [
             [
              "2021"
             ],
             {
              "frame": {
               "duration": 0,
               "redraw": false
              },
              "fromcurrent": true,
              "mode": "immediate",
              "transition": {
               "duration": 0,
               "easing": "linear"
              }
             }
            ],
            "label": "2021",
            "method": "animate"
           },
           {
            "args": [
             [
              "2022"
             ],
             {
              "frame": {
               "duration": 0,
               "redraw": false
              },
              "fromcurrent": true,
              "mode": "immediate",
              "transition": {
               "duration": 0,
               "easing": "linear"
              }
             }
            ],
            "label": "2022",
            "method": "animate"
           }
          ],
          "x": 0.1,
          "xanchor": "left",
          "y": 0,
          "yanchor": "top"
         }
        ],
        "template": {
         "data": {
          "bar": [
           {
            "error_x": {
             "color": "#2a3f5f"
            },
            "error_y": {
             "color": "#2a3f5f"
            },
            "marker": {
             "line": {
              "color": "#E5ECF6",
              "width": 0.5
             },
             "pattern": {
              "fillmode": "overlay",
              "size": 10,
              "solidity": 0.2
             }
            },
            "type": "bar"
           }
          ],
          "barpolar": [
           {
            "marker": {
             "line": {
              "color": "#E5ECF6",
              "width": 0.5
             },
             "pattern": {
              "fillmode": "overlay",
              "size": 10,
              "solidity": 0.2
             }
            },
            "type": "barpolar"
           }
          ],
          "carpet": [
           {
            "aaxis": {
             "endlinecolor": "#2a3f5f",
             "gridcolor": "white",
             "linecolor": "white",
             "minorgridcolor": "white",
             "startlinecolor": "#2a3f5f"
            },
            "baxis": {
             "endlinecolor": "#2a3f5f",
             "gridcolor": "white",
             "linecolor": "white",
             "minorgridcolor": "white",
             "startlinecolor": "#2a3f5f"
            },
            "type": "carpet"
           }
          ],
          "choropleth": [
           {
            "colorbar": {
             "outlinewidth": 0,
             "ticks": ""
            },
            "type": "choropleth"
           }
          ],
          "contour": [
           {
            "colorbar": {
             "outlinewidth": 0,
             "ticks": ""
            },
            "colorscale": [
             [
              0,
              "#0d0887"
             ],
             [
              0.1111111111111111,
              "#46039f"
             ],
             [
              0.2222222222222222,
              "#7201a8"
             ],
             [
              0.3333333333333333,
              "#9c179e"
             ],
             [
              0.4444444444444444,
              "#bd3786"
             ],
             [
              0.5555555555555556,
              "#d8576b"
             ],
             [
              0.6666666666666666,
              "#ed7953"
             ],
             [
              0.7777777777777778,
              "#fb9f3a"
             ],
             [
              0.8888888888888888,
              "#fdca26"
             ],
             [
              1,
              "#f0f921"
             ]
            ],
            "type": "contour"
           }
          ],
          "contourcarpet": [
           {
            "colorbar": {
             "outlinewidth": 0,
             "ticks": ""
            },
            "type": "contourcarpet"
           }
          ],
          "heatmap": [
           {
            "colorbar": {
             "outlinewidth": 0,
             "ticks": ""
            },
            "colorscale": [
             [
              0,
              "#0d0887"
             ],
             [
              0.1111111111111111,
              "#46039f"
             ],
             [
              0.2222222222222222,
              "#7201a8"
             ],
             [
              0.3333333333333333,
              "#9c179e"
             ],
             [
              0.4444444444444444,
              "#bd3786"
             ],
             [
              0.5555555555555556,
              "#d8576b"
             ],
             [
              0.6666666666666666,
              "#ed7953"
             ],
             [
              0.7777777777777778,
              "#fb9f3a"
             ],
             [
              0.8888888888888888,
              "#fdca26"
             ],
             [
              1,
              "#f0f921"
             ]
            ],
            "type": "heatmap"
           }
          ],
          "histogram": [
           {
            "marker": {
             "pattern": {
              "fillmode": "overlay",
              "size": 10,
              "solidity": 0.2
             }
            },
            "type": "histogram"
           }
          ],
          "histogram2d": [
           {
            "colorbar": {
             "outlinewidth": 0,
             "ticks": ""
            },
            "colorscale": [
             [
              0,
              "#0d0887"
             ],
             [
              0.1111111111111111,
              "#46039f"
             ],
             [
              0.2222222222222222,
              "#7201a8"
             ],
             [
              0.3333333333333333,
              "#9c179e"
             ],
             [
              0.4444444444444444,
              "#bd3786"
             ],
             [
              0.5555555555555556,
              "#d8576b"
             ],
             [
              0.6666666666666666,
              "#ed7953"
             ],
             [
              0.7777777777777778,
              "#fb9f3a"
             ],
             [
              0.8888888888888888,
              "#fdca26"
             ],
             [
              1,
              "#f0f921"
             ]
            ],
            "type": "histogram2d"
           }
          ],
          "histogram2dcontour": [
           {
            "colorbar": {
             "outlinewidth": 0,
             "ticks": ""
            },
            "colorscale": [
             [
              0,
              "#0d0887"
             ],
             [
              0.1111111111111111,
              "#46039f"
             ],
             [
              0.2222222222222222,
              "#7201a8"
             ],
             [
              0.3333333333333333,
              "#9c179e"
             ],
             [
              0.4444444444444444,
              "#bd3786"
             ],
             [
              0.5555555555555556,
              "#d8576b"
             ],
             [
              0.6666666666666666,
              "#ed7953"
             ],
             [
              0.7777777777777778,
              "#fb9f3a"
             ],
             [
              0.8888888888888888,
              "#fdca26"
             ],
             [
              1,
              "#f0f921"
             ]
            ],
            "type": "histogram2dcontour"
           }
          ],
          "mesh3d": [
           {
            "colorbar": {
             "outlinewidth": 0,
             "ticks": ""
            },
            "type": "mesh3d"
           }
          ],
          "parcoords": [
           {
            "line": {
             "colorbar": {
              "outlinewidth": 0,
              "ticks": ""
             }
            },
            "type": "parcoords"
           }
          ],
          "pie": [
           {
            "automargin": true,
            "type": "pie"
           }
          ],
          "scatter": [
           {
            "fillpattern": {
             "fillmode": "overlay",
             "size": 10,
             "solidity": 0.2
            },
            "type": "scatter"
           }
          ],
          "scatter3d": [
           {
            "line": {
             "colorbar": {
              "outlinewidth": 0,
              "ticks": ""
             }
            },
            "marker": {
             "colorbar": {
              "outlinewidth": 0,
              "ticks": ""
             }
            },
            "type": "scatter3d"
           }
          ],
          "scattercarpet": [
           {
            "marker": {
             "colorbar": {
              "outlinewidth": 0,
              "ticks": ""
             }
            },
            "type": "scattercarpet"
           }
          ],
          "scattergeo": [
           {
            "marker": {
             "colorbar": {
              "outlinewidth": 0,
              "ticks": ""
             }
            },
            "type": "scattergeo"
           }
          ],
          "scattergl": [
           {
            "marker": {
             "colorbar": {
              "outlinewidth": 0,
              "ticks": ""
             }
            },
            "type": "scattergl"
           }
          ],
          "scattermap": [
           {
            "marker": {
             "colorbar": {
              "outlinewidth": 0,
              "ticks": ""
             }
            },
            "type": "scattermap"
           }
          ],
          "scattermapbox": [
           {
            "marker": {
             "colorbar": {
              "outlinewidth": 0,
              "ticks": ""
             }
            },
            "type": "scattermapbox"
           }
          ],
          "scatterpolar": [
           {
            "marker": {
             "colorbar": {
              "outlinewidth": 0,
              "ticks": ""
             }
            },
            "type": "scatterpolar"
           }
          ],
          "scatterpolargl": [
           {
            "marker": {
             "colorbar": {
              "outlinewidth": 0,
              "ticks": ""
             }
            },
            "type": "scatterpolargl"
           }
          ],
          "scatterternary": [
           {
            "marker": {
             "colorbar": {
              "outlinewidth": 0,
              "ticks": ""
             }
            },
            "type": "scatterternary"
           }
          ],
          "surface": [
           {
            "colorbar": {
             "outlinewidth": 0,
             "ticks": ""
            },
            "colorscale": [
             [
              0,
              "#0d0887"
             ],
             [
              0.1111111111111111,
              "#46039f"
             ],
             [
              0.2222222222222222,
              "#7201a8"
             ],
             [
              0.3333333333333333,
              "#9c179e"
             ],
             [
              0.4444444444444444,
              "#bd3786"
             ],
             [
              0.5555555555555556,
              "#d8576b"
             ],
             [
              0.6666666666666666,
              "#ed7953"
             ],
             [
              0.7777777777777778,
              "#fb9f3a"
             ],
             [
              0.8888888888888888,
              "#fdca26"
             ],
             [
              1,
              "#f0f921"
             ]
            ],
            "type": "surface"
           }
          ],
          "table": [
           {
            "cells": {
             "fill": {
              "color": "#EBF0F8"
             },
             "line": {
              "color": "white"
             }
            },
            "header": {
             "fill": {
              "color": "#C8D4E3"
             },
             "line": {
              "color": "white"
             }
            },
            "type": "table"
           }
          ]
         },
         "layout": {
          "annotationdefaults": {
           "arrowcolor": "#2a3f5f",
           "arrowhead": 0,
           "arrowwidth": 1
          },
          "autotypenumbers": "strict",
          "coloraxis": {
           "colorbar": {
            "outlinewidth": 0,
            "ticks": ""
           }
          },
          "colorscale": {
           "diverging": [
            [
             0,
             "#8e0152"
            ],
            [
             0.1,
             "#c51b7d"
            ],
            [
             0.2,
             "#de77ae"
            ],
            [
             0.3,
             "#f1b6da"
            ],
            [
             0.4,
             "#fde0ef"
            ],
            [
             0.5,
             "#f7f7f7"
            ],
            [
             0.6,
             "#e6f5d0"
            ],
            [
             0.7,
             "#b8e186"
            ],
            [
             0.8,
             "#7fbc41"
            ],
            [
             0.9,
             "#4d9221"
            ],
            [
             1,
             "#276419"
            ]
           ],
           "sequential": [
            [
             0,
             "#0d0887"
            ],
            [
             0.1111111111111111,
             "#46039f"
            ],
            [
             0.2222222222222222,
             "#7201a8"
            ],
            [
             0.3333333333333333,
             "#9c179e"
            ],
            [
             0.4444444444444444,
             "#bd3786"
            ],
            [
             0.5555555555555556,
             "#d8576b"
            ],
            [
             0.6666666666666666,
             "#ed7953"
            ],
            [
             0.7777777777777778,
             "#fb9f3a"
            ],
            [
             0.8888888888888888,
             "#fdca26"
            ],
            [
             1,
             "#f0f921"
            ]
           ],
           "sequentialminus": [
            [
             0,
             "#0d0887"
            ],
            [
             0.1111111111111111,
             "#46039f"
            ],
            [
             0.2222222222222222,
             "#7201a8"
            ],
            [
             0.3333333333333333,
             "#9c179e"
            ],
            [
             0.4444444444444444,
             "#bd3786"
            ],
            [
             0.5555555555555556,
             "#d8576b"
            ],
            [
             0.6666666666666666,
             "#ed7953"
            ],
            [
             0.7777777777777778,
             "#fb9f3a"
            ],
            [
             0.8888888888888888,
             "#fdca26"
            ],
            [
             1,
             "#f0f921"
            ]
           ]
          },
          "colorway": [
           "#636efa",
           "#EF553B",
           "#00cc96",
           "#ab63fa",
           "#FFA15A",
           "#19d3f3",
           "#FF6692",
           "#B6E880",
           "#FF97FF",
           "#FECB52"
          ],
          "font": {
           "color": "#2a3f5f"
          },
          "geo": {
           "bgcolor": "white",
           "lakecolor": "white",
           "landcolor": "#E5ECF6",
           "showlakes": true,
           "showland": true,
           "subunitcolor": "white"
          },
          "hoverlabel": {
           "align": "left"
          },
          "hovermode": "closest",
          "mapbox": {
           "style": "light"
          },
          "paper_bgcolor": "white",
          "plot_bgcolor": "#E5ECF6",
          "polar": {
           "angularaxis": {
            "gridcolor": "white",
            "linecolor": "white",
            "ticks": ""
           },
           "bgcolor": "#E5ECF6",
           "radialaxis": {
            "gridcolor": "white",
            "linecolor": "white",
            "ticks": ""
           }
          },
          "scene": {
           "xaxis": {
            "backgroundcolor": "#E5ECF6",
            "gridcolor": "white",
            "gridwidth": 2,
            "linecolor": "white",
            "showbackground": true,
            "ticks": "",
            "zerolinecolor": "white"
           },
           "yaxis": {
            "backgroundcolor": "#E5ECF6",
            "gridcolor": "white",
            "gridwidth": 2,
            "linecolor": "white",
            "showbackground": true,
            "ticks": "",
            "zerolinecolor": "white"
           },
           "zaxis": {
            "backgroundcolor": "#E5ECF6",
            "gridcolor": "white",
            "gridwidth": 2,
            "linecolor": "white",
            "showbackground": true,
            "ticks": "",
            "zerolinecolor": "white"
           }
          },
          "shapedefaults": {
           "line": {
            "color": "#2a3f5f"
           }
          },
          "ternary": {
           "aaxis": {
            "gridcolor": "white",
            "linecolor": "white",
            "ticks": ""
           },
           "baxis": {
            "gridcolor": "white",
            "linecolor": "white",
            "ticks": ""
           },
           "bgcolor": "#E5ECF6",
           "caxis": {
            "gridcolor": "white",
            "linecolor": "white",
            "ticks": ""
           }
          },
          "title": {
           "x": 0.05
          },
          "xaxis": {
           "automargin": true,
           "gridcolor": "white",
           "linecolor": "white",
           "ticks": "",
           "title": {
            "standoff": 15
           },
           "zerolinecolor": "white",
           "zerolinewidth": 2
          },
          "yaxis": {
           "automargin": true,
           "gridcolor": "white",
           "linecolor": "white",
           "ticks": "",
           "title": {
            "standoff": 15
           },
           "zerolinecolor": "white",
           "zerolinewidth": 2
          }
         }
        },
        "title": {
         "text": "Índice De Fertilidad vs  Población Urbanizada"
        },
        "updatemenus": [
         {
          "buttons": [
           {
            "args": [
             null,
             {
              "frame": {
               "duration": 500,
               "redraw": false
              },
              "fromcurrent": true,
              "mode": "immediate",
              "transition": {
               "duration": 500,
               "easing": "linear"
              }
             }
            ],
            "label": "&#9654;",
            "method": "animate"
           },
           {
            "args": [
             [
              null
             ],
             {
              "frame": {
               "duration": 0,
               "redraw": false
              },
              "fromcurrent": true,
              "mode": "immediate",
              "transition": {
               "duration": 0,
               "easing": "linear"
              }
             }
            ],
            "label": "&#9724;",
            "method": "animate"
           }
          ],
          "direction": "left",
          "pad": {
           "r": 10,
           "t": 70
          },
          "showactive": false,
          "type": "buttons",
          "x": 0.1,
          "xanchor": "right",
          "y": 0,
          "yanchor": "top"
         }
        ],
        "xaxis": {
         "anchor": "y",
         "domain": [
          0,
          1
         ],
         "range": [
          0,
          7
         ],
         "title": {
          "text": "Tasa De Fertilidad (Hijos Por Mujer)"
         }
        },
        "yaxis": {
         "anchor": "x",
         "domain": [
          0,
          1
         ],
         "range": [
          0,
          1554791255.8500001
         ],
         "title": {
          "text": "Población Urbanizada"
         }
        }
       }
      }
     },
     "metadata": {},
     "output_type": "display_data"
    }
   ],
   "source": [
    "import plotly.express as px\n",
    "\n",
    "# Seleccionar columnas de años desde 1974 en adelante\n",
    "year_cols = [col for col in demographics.columns if col.isdigit() and int(col) >= 1974]\n",
    "\n",
    "# Lista de nombres a eliminar\n",
    "to_remove = [\n",
    "    'Upper middle income', 'Middle income', 'Lower middle income', 'Low income', 'High income'\n",
    "]\n",
    "\n",
    "# Filtrar para las dos series de interés y quitar los grupos de ingreso\n",
    "df_fertility = demographics[\n",
    "    (demographics['Series Name'] == 'Fertility rate, total (births per woman)') &\n",
    "    (~demographics['Country Name'].isin(to_remove))\n",
    "]\n",
    "df_urban = demographics[\n",
    "    (demographics['Series Name'] == 'Urban population') &\n",
    "    (~demographics['Country Name'].isin(to_remove))\n",
    "]\n",
    "\n",
    "# Melt para formato largo\n",
    "fertility_melted = df_fertility.melt(\n",
    "    id_vars=['Country Name'],\n",
    "    value_vars=year_cols,\n",
    "    var_name='Year',\n",
    "    value_name='Fertility rate, total (births per woman)'\n",
    ").dropna()\n",
    "\n",
    "urban_melted = df_urban.melt(\n",
    "    id_vars=['Country Name'],\n",
    "    value_vars=year_cols,\n",
    "    var_name='Year',\n",
    "    value_name='Urban population'\n",
    ").dropna()\n",
    "\n",
    "# Unir ambos dataframes por país y año\n",
    "merged = pd.merge(\n",
    "    fertility_melted,\n",
    "    urban_melted,\n",
    "    on=['Country Name', 'Year'],\n",
    "    how='inner'\n",
    ")\n",
    "\n",
    "# Graficar dispersión diferenciando por país\n",
    "# ...existing code...\n",
    "\n",
    "fig = px.scatter(\n",
    "    merged,\n",
    "    x='Fertility rate, total (births per woman)',\n",
    "    y='Urban population',\n",
    "    color='Country Name',\n",
    "    animation_frame='Year',\n",
    "    title='Índice De Fertilidad vs  Población Urbanizada',\n",
    "    labels={\n",
    "        'Fertility rate, total (births per woman)': 'Tasa De Fertilidad (Hijos Por Mujer)',\n",
    "        'Urban population': 'Población Urbanizada'\n",
    "    }\n",
    ")\n",
    "\n",
    "# Fijar el rango del eje x y y para ver todos los puntos\n",
    "fig.update_xaxes(range=[0, 7])\n",
    "fig.update_yaxes(range=[0, merged['Urban population'].max() * 1.05])\n",
    "\n",
    "# Hacer los puntos más grandes\n",
    "fig.update_traces(marker=dict(size=12))\n",
    "\n",
    "# Cambiar la leyenda de \"Year=\" a \"Año=\"\n",
    "for frame in fig.frames:\n",
    "    frame.name = frame.name.replace(\"Year=\", \"Año=\")\n",
    "fig.layout.sliders[0].currentvalue.prefix = \"Año=\"\n",
    "\n",
    "fig.show()"
   ]
  },
  {
   "cell_type": "code",
   "execution_count": 53,
   "id": "a259fbd3",
   "metadata": {},
   "outputs": [
    {
     "data": {
      "application/vnd.plotly.v1+json": {
       "config": {
        "plotlyServerURL": "https://plot.ly"
       },
       "data": [
        {
         "hovertemplate": "Grupo de Ingreso=High income<br>Year=1974<br>Tasa De Fertilidad (Hijos Por Mujer)=%{x}<br>Población Urbanizada=%{y}<extra></extra>",
         "legendgroup": "High income",
         "marker": {
          "color": "#636efa",
          "size": 12,
          "symbol": "circle"
         },
         "mode": "markers",
         "name": "High income",
         "orientation": "v",
         "showlegend": true,
         "type": "scatter",
         "x": {
          "bdata": "SOF6FK5HAUA=",
          "dtype": "f8"
         },
         "xaxis": "x",
         "y": {
          "bdata": "AAAAkXV/xUE=",
          "dtype": "f8"
         },
         "yaxis": "y"
        },
        {
         "hovertemplate": "Grupo de Ingreso=Low income<br>Year=1974<br>Tasa De Fertilidad (Hijos Por Mujer)=%{x}<br>Población Urbanizada=%{y}<extra></extra>",
         "legendgroup": "Low income",
         "marker": {
          "color": "#EF553B",
          "size": 12,
          "symbol": "circle"
         },
         "mode": "markers",
         "name": "Low income",
         "orientation": "v",
         "showlegend": true,
         "type": "scatter",
         "x": {
          "bdata": "zczMzMzMGkA=",
          "dtype": "f8"
         },
         "xaxis": "x",
         "y": {
          "bdata": "AAAA8JO0gUE=",
          "dtype": "f8"
         },
         "yaxis": "y"
        },
        {
         "hovertemplate": "Grupo de Ingreso=Lower middle income<br>Year=1974<br>Tasa De Fertilidad (Hijos Por Mujer)=%{x}<br>Población Urbanizada=%{y}<extra></extra>",
         "legendgroup": "Lower middle income",
         "marker": {
          "color": "#00cc96",
          "size": 12,
          "symbol": "circle"
         },
         "mode": "markers",
         "name": "Lower middle income",
         "orientation": "v",
         "showlegend": true,
         "type": "scatter",
         "x": {
          "bdata": "MzMzMzMzF0A=",
          "dtype": "f8"
         },
         "xaxis": "x",
         "y": {
          "bdata": "AAAAcC6jrkE=",
          "dtype": "f8"
         },
         "yaxis": "y"
        },
        {
         "hovertemplate": "Grupo de Ingreso=Middle income<br>Year=1974<br>Tasa De Fertilidad (Hijos Por Mujer)=%{x}<br>Población Urbanizada=%{y}<extra></extra>",
         "legendgroup": "Middle income",
         "marker": {
          "color": "#ab63fa",
          "size": 12,
          "symbol": "circle"
         },
         "mode": "markers",
         "name": "Middle income",
         "orientation": "v",
         "showlegend": true,
         "type": "scatter",
         "x": {
          "bdata": "4XoUrkfhE0A=",
          "dtype": "f8"
         },
         "xaxis": "x",
         "y": {
          "bdata": "AAAA0m2SxUE=",
          "dtype": "f8"
         },
         "yaxis": "y"
        },
        {
         "hovertemplate": "Grupo de Ingreso=Upper middle income<br>Year=1974<br>Tasa De Fertilidad (Hijos Por Mujer)=%{x}<br>Población Urbanizada=%{y}<extra></extra>",
         "legendgroup": "Upper middle income",
         "marker": {
          "color": "#FFA15A",
          "size": 12,
          "symbol": "circle"
         },
         "mode": "markers",
         "name": "Upper middle income",
         "orientation": "v",
         "showlegend": true,
         "type": "scatter",
         "x": {
          "bdata": "j8L1KFyPEUA=",
          "dtype": "f8"
         },
         "xaxis": "x",
         "y": {
          "bdata": "AAAAbETTu0E=",
          "dtype": "f8"
         },
         "yaxis": "y"
        }
       ],
       "frames": [
        {
         "data": [
          {
           "hovertemplate": "Grupo de Ingreso=High income<br>Year=1974<br>Tasa De Fertilidad (Hijos Por Mujer)=%{x}<br>Población Urbanizada=%{y}<extra></extra>",
           "legendgroup": "High income",
           "marker": {
            "color": "#636efa",
            "symbol": "circle"
           },
           "mode": "markers",
           "name": "High income",
           "orientation": "v",
           "showlegend": true,
           "type": "scatter",
           "x": {
            "bdata": "SOF6FK5HAUA=",
            "dtype": "f8"
           },
           "xaxis": "x",
           "y": {
            "bdata": "AAAAkXV/xUE=",
            "dtype": "f8"
           },
           "yaxis": "y"
          },
          {
           "hovertemplate": "Grupo de Ingreso=Low income<br>Year=1974<br>Tasa De Fertilidad (Hijos Por Mujer)=%{x}<br>Población Urbanizada=%{y}<extra></extra>",
           "legendgroup": "Low income",
           "marker": {
            "color": "#EF553B",
            "symbol": "circle"
           },
           "mode": "markers",
           "name": "Low income",
           "orientation": "v",
           "showlegend": true,
           "type": "scatter",
           "x": {
            "bdata": "zczMzMzMGkA=",
            "dtype": "f8"
           },
           "xaxis": "x",
           "y": {
            "bdata": "AAAA8JO0gUE=",
            "dtype": "f8"
           },
           "yaxis": "y"
          },
          {
           "hovertemplate": "Grupo de Ingreso=Lower middle income<br>Year=1974<br>Tasa De Fertilidad (Hijos Por Mujer)=%{x}<br>Población Urbanizada=%{y}<extra></extra>",
           "legendgroup": "Lower middle income",
           "marker": {
            "color": "#00cc96",
            "symbol": "circle"
           },
           "mode": "markers",
           "name": "Lower middle income",
           "orientation": "v",
           "showlegend": true,
           "type": "scatter",
           "x": {
            "bdata": "MzMzMzMzF0A=",
            "dtype": "f8"
           },
           "xaxis": "x",
           "y": {
            "bdata": "AAAAcC6jrkE=",
            "dtype": "f8"
           },
           "yaxis": "y"
          },
          {
           "hovertemplate": "Grupo de Ingreso=Middle income<br>Year=1974<br>Tasa De Fertilidad (Hijos Por Mujer)=%{x}<br>Población Urbanizada=%{y}<extra></extra>",
           "legendgroup": "Middle income",
           "marker": {
            "color": "#ab63fa",
            "symbol": "circle"
           },
           "mode": "markers",
           "name": "Middle income",
           "orientation": "v",
           "showlegend": true,
           "type": "scatter",
           "x": {
            "bdata": "4XoUrkfhE0A=",
            "dtype": "f8"
           },
           "xaxis": "x",
           "y": {
            "bdata": "AAAA0m2SxUE=",
            "dtype": "f8"
           },
           "yaxis": "y"
          },
          {
           "hovertemplate": "Grupo de Ingreso=Upper middle income<br>Year=1974<br>Tasa De Fertilidad (Hijos Por Mujer)=%{x}<br>Población Urbanizada=%{y}<extra></extra>",
           "legendgroup": "Upper middle income",
           "marker": {
            "color": "#FFA15A",
            "symbol": "circle"
           },
           "mode": "markers",
           "name": "Upper middle income",
           "orientation": "v",
           "showlegend": true,
           "type": "scatter",
           "x": {
            "bdata": "j8L1KFyPEUA=",
            "dtype": "f8"
           },
           "xaxis": "x",
           "y": {
            "bdata": "AAAAbETTu0E=",
            "dtype": "f8"
           },
           "yaxis": "y"
          }
         ],
         "name": "1974"
        },
        {
         "data": [
          {
           "hovertemplate": "Grupo de Ingreso=High income<br>Year=1975<br>Tasa De Fertilidad (Hijos Por Mujer)=%{x}<br>Población Urbanizada=%{y}<extra></extra>",
           "legendgroup": "High income",
           "marker": {
            "color": "#636efa",
            "symbol": "circle"
           },
           "mode": "markers",
           "name": "High income",
           "orientation": "v",
           "showlegend": true,
           "type": "scatter",
           "x": {
            "bdata": "pHA9CtejAEA=",
            "dtype": "f8"
           },
           "xaxis": "x",
           "y": {
            "bdata": "AAAAmgvPxUE=",
            "dtype": "f8"
           },
           "yaxis": "y"
          },
          {
           "hovertemplate": "Grupo de Ingreso=Low income<br>Year=1975<br>Tasa De Fertilidad (Hijos Por Mujer)=%{x}<br>Población Urbanizada=%{y}<extra></extra>",
           "legendgroup": "Low income",
           "marker": {
            "color": "#EF553B",
            "symbol": "circle"
           },
           "mode": "markers",
           "name": "Low income",
           "orientation": "v",
           "showlegend": true,
           "type": "scatter",
           "x": {
            "bdata": "zczMzMzMGkA=",
            "dtype": "f8"
           },
           "xaxis": "x",
           "y": {
            "bdata": "AAAACF11gkE=",
            "dtype": "f8"
           },
           "yaxis": "y"
          },
          {
           "hovertemplate": "Grupo de Ingreso=Lower middle income<br>Year=1975<br>Tasa De Fertilidad (Hijos Por Mujer)=%{x}<br>Población Urbanizada=%{y}<extra></extra>",
           "legendgroup": "Lower middle income",
           "marker": {
            "color": "#00cc96",
            "symbol": "circle"
           },
           "mode": "markers",
           "name": "Lower middle income",
           "orientation": "v",
           "showlegend": true,
           "type": "scatter",
           "x": {
            "bdata": "zczMzMzMFkA=",
            "dtype": "f8"
           },
           "xaxis": "x",
           "y": {
            "bdata": "AAAAOvjCr0E=",
            "dtype": "f8"
           },
           "yaxis": "y"
          },
          {
           "hovertemplate": "Grupo de Ingreso=Middle income<br>Year=1975<br>Tasa De Fertilidad (Hijos Por Mujer)=%{x}<br>Población Urbanizada=%{y}<extra></extra>",
           "legendgroup": "Middle income",
           "marker": {
            "color": "#ab63fa",
            "symbol": "circle"
           },
           "mode": "markers",
           "name": "Middle income",
           "orientation": "v",
           "showlegend": true,
           "type": "scatter",
           "x": {
            "bdata": "4XoUrkfhEkA=",
            "dtype": "f8"
           },
           "xaxis": "x",
           "y": {
            "bdata": "AAAANGBPxkE=",
            "dtype": "f8"
           },
           "yaxis": "y"
          },
          {
           "hovertemplate": "Grupo de Ingreso=Upper middle income<br>Year=1975<br>Tasa De Fertilidad (Hijos Por Mujer)=%{x}<br>Población Urbanizada=%{y}<extra></extra>",
           "legendgroup": "Upper middle income",
           "marker": {
            "color": "#FFA15A",
            "symbol": "circle"
           },
           "mode": "markers",
           "name": "Upper middle income",
           "orientation": "v",
           "showlegend": true,
           "type": "scatter",
           "x": {
            "bdata": "FK5H4XoUEEA=",
            "dtype": "f8"
           },
           "xaxis": "x",
           "y": {
            "bdata": "AAAAS0S9vEE=",
            "dtype": "f8"
           },
           "yaxis": "y"
          }
         ],
         "name": "1975"
        },
        {
         "data": [
          {
           "hovertemplate": "Grupo de Ingreso=High income<br>Year=1976<br>Tasa De Fertilidad (Hijos Por Mujer)=%{x}<br>Población Urbanizada=%{y}<extra></extra>",
           "legendgroup": "High income",
           "marker": {
            "color": "#636efa",
            "symbol": "circle"
           },
           "mode": "markers",
           "name": "High income",
           "orientation": "v",
           "showlegend": true,
           "type": "scatter",
           "x": {
            "bdata": "UrgehetRAEA=",
            "dtype": "f8"
           },
           "xaxis": "x",
           "y": {
            "bdata": "AACArg8ZxkE=",
            "dtype": "f8"
           },
           "yaxis": "y"
          },
          {
           "hovertemplate": "Grupo de Ingreso=Low income<br>Year=1976<br>Tasa De Fertilidad (Hijos Por Mujer)=%{x}<br>Población Urbanizada=%{y}<extra></extra>",
           "legendgroup": "Low income",
           "marker": {
            "color": "#EF553B",
            "symbol": "circle"
           },
           "mode": "markers",
           "name": "Low income",
           "orientation": "v",
           "showlegend": true,
           "type": "scatter",
           "x": {
            "bdata": "w/UoXI/CGkA=",
            "dtype": "f8"
           },
           "xaxis": "x",
           "y": {
            "bdata": "AAAAyI4wg0E=",
            "dtype": "f8"
           },
           "yaxis": "y"
          },
          {
           "hovertemplate": "Grupo de Ingreso=Lower middle income<br>Year=1976<br>Tasa De Fertilidad (Hijos Por Mujer)=%{x}<br>Población Urbanizada=%{y}<extra></extra>",
           "legendgroup": "Lower middle income",
           "marker": {
            "color": "#00cc96",
            "symbol": "circle"
           },
           "mode": "markers",
           "name": "Lower middle income",
           "orientation": "v",
           "showlegend": true,
           "type": "scatter",
           "x": {
            "bdata": "j8L1KFyPFkA=",
            "dtype": "f8"
           },
           "xaxis": "x",
           "y": {
            "bdata": "AAAAOk6SsEE=",
            "dtype": "f8"
           },
           "yaxis": "y"
          },
          {
           "hovertemplate": "Grupo de Ingreso=Middle income<br>Year=1976<br>Tasa De Fertilidad (Hijos Por Mujer)=%{x}<br>Población Urbanizada=%{y}<extra></extra>",
           "legendgroup": "Middle income",
           "marker": {
            "color": "#ab63fa",
            "symbol": "circle"
           },
           "mode": "markers",
           "name": "Middle income",
           "orientation": "v",
           "showlegend": true,
           "type": "scatter",
           "x": {
            "bdata": "SOF6FK5HEkA=",
            "dtype": "f8"
           },
           "xaxis": "x",
           "y": {
            "bdata": "AAAAYp0Zx0E=",
            "dtype": "f8"
           },
           "yaxis": "y"
          },
          {
           "hovertemplate": "Grupo de Ingreso=Upper middle income<br>Year=1976<br>Tasa De Fertilidad (Hijos Por Mujer)=%{x}<br>Población Urbanizada=%{y}<extra></extra>",
           "legendgroup": "Upper middle income",
           "marker": {
            "color": "#FFA15A",
            "symbol": "circle"
           },
           "mode": "markers",
           "name": "Upper middle income",
           "orientation": "v",
           "showlegend": true,
           "type": "scatter",
           "x": {
            "bdata": "ZmZmZmZmDkA=",
            "dtype": "f8"
           },
           "xaxis": "x",
           "y": {
            "bdata": "AAAAiuygvUE=",
            "dtype": "f8"
           },
           "yaxis": "y"
          }
         ],
         "name": "1976"
        },
        {
         "data": [
          {
           "hovertemplate": "Grupo de Ingreso=High income<br>Year=1977<br>Tasa De Fertilidad (Hijos Por Mujer)=%{x}<br>Población Urbanizada=%{y}<extra></extra>",
           "legendgroup": "High income",
           "marker": {
            "color": "#636efa",
            "symbol": "circle"
           },
           "mode": "markers",
           "name": "High income",
           "orientation": "v",
           "showlegend": true,
           "type": "scatter",
           "x": {
            "bdata": "FK5H4XoUAEA=",
            "dtype": "f8"
           },
           "xaxis": "x",
           "y": {
            "bdata": "AACA69NixkE=",
            "dtype": "f8"
           },
           "yaxis": "y"
          },
          {
           "hovertemplate": "Grupo de Ingreso=Low income<br>Year=1977<br>Tasa De Fertilidad (Hijos Por Mujer)=%{x}<br>Población Urbanizada=%{y}<extra></extra>",
           "legendgroup": "Low income",
           "marker": {
            "color": "#EF553B",
            "symbol": "circle"
           },
           "mode": "markers",
           "name": "Low income",
           "orientation": "v",
           "showlegend": true,
           "type": "scatter",
           "x": {
            "bdata": "zczMzMzMGkA=",
            "dtype": "f8"
           },
           "xaxis": "x",
           "y": {
            "bdata": "AAAAUDPwg0E=",
            "dtype": "f8"
           },
           "yaxis": "y"
          },
          {
           "hovertemplate": "Grupo de Ingreso=Lower middle income<br>Year=1977<br>Tasa De Fertilidad (Hijos Por Mujer)=%{x}<br>Población Urbanizada=%{y}<extra></extra>",
           "legendgroup": "Lower middle income",
           "marker": {
            "color": "#00cc96",
            "symbol": "circle"
           },
           "mode": "markers",
           "name": "Lower middle income",
           "orientation": "v",
           "showlegend": true,
           "type": "scatter",
           "x": {
            "bdata": "MzMzMzMzFkA=",
            "dtype": "f8"
           },
           "xaxis": "x",
           "y": {
            "bdata": "AAAAevdJsUE=",
            "dtype": "f8"
           },
           "yaxis": "y"
          },
          {
           "hovertemplate": "Grupo de Ingreso=Middle income<br>Year=1977<br>Tasa De Fertilidad (Hijos Por Mujer)=%{x}<br>Población Urbanizada=%{y}<extra></extra>",
           "legendgroup": "Middle income",
           "marker": {
            "color": "#ab63fa",
            "symbol": "circle"
           },
           "mode": "markers",
           "name": "Middle income",
           "orientation": "v",
           "showlegend": true,
           "type": "scatter",
           "x": {
            "bdata": "hetRuB6FEUA=",
            "dtype": "f8"
           },
           "xaxis": "x",
           "y": {
            "bdata": "AACAwoPnx0E=",
            "dtype": "f8"
           },
           "yaxis": "y"
          },
          {
           "hovertemplate": "Grupo de Ingreso=Upper middle income<br>Year=1977<br>Tasa De Fertilidad (Hijos Por Mujer)=%{x}<br>Población Urbanizada=%{y}<extra></extra>",
           "legendgroup": "Upper middle income",
           "marker": {
            "color": "#FFA15A",
            "symbol": "circle"
           },
           "mode": "markers",
           "name": "Upper middle income",
           "orientation": "v",
           "showlegend": true,
           "type": "scatter",
           "x": {
            "bdata": "UrgehetRDEA=",
            "dtype": "f8"
           },
           "xaxis": "x",
           "y": {
            "bdata": "AAAACxCFvkE=",
            "dtype": "f8"
           },
           "yaxis": "y"
          }
         ],
         "name": "1977"
        },
        {
         "data": [
          {
           "hovertemplate": "Grupo de Ingreso=High income<br>Year=1978<br>Tasa De Fertilidad (Hijos Por Mujer)=%{x}<br>Población Urbanizada=%{y}<extra></extra>",
           "legendgroup": "High income",
           "marker": {
            "color": "#636efa",
            "symbol": "circle"
           },
           "mode": "markers",
           "name": "High income",
           "orientation": "v",
           "showlegend": true,
           "type": "scatter",
           "x": {
            "bdata": "hetRuB6F/z8=",
            "dtype": "f8"
           },
           "xaxis": "x",
           "y": {
            "bdata": "AAAAdpStxkE=",
            "dtype": "f8"
           },
           "yaxis": "y"
          },
          {
           "hovertemplate": "Grupo de Ingreso=Low income<br>Year=1978<br>Tasa De Fertilidad (Hijos Por Mujer)=%{x}<br>Población Urbanizada=%{y}<extra></extra>",
           "legendgroup": "Low income",
           "marker": {
            "color": "#EF553B",
            "symbol": "circle"
           },
           "mode": "markers",
           "name": "Low income",
           "orientation": "v",
           "showlegend": true,
           "type": "scatter",
           "x": {
            "bdata": "16NwPQrXGkA=",
            "dtype": "f8"
           },
           "xaxis": "x",
           "y": {
            "bdata": "AAAAGDbChEE=",
            "dtype": "f8"
           },
           "yaxis": "y"
          },
          {
           "hovertemplate": "Grupo de Ingreso=Lower middle income<br>Year=1978<br>Tasa De Fertilidad (Hijos Por Mujer)=%{x}<br>Población Urbanizada=%{y}<extra></extra>",
           "legendgroup": "Lower middle income",
           "marker": {
            "color": "#00cc96",
            "symbol": "circle"
           },
           "mode": "markers",
           "name": "Lower middle income",
           "orientation": "v",
           "showlegend": true,
           "type": "scatter",
           "x": {
            "bdata": "4XoUrkfhFUA=",
            "dtype": "f8"
           },
           "xaxis": "x",
           "y": {
            "bdata": "AAAAltYIskE=",
            "dtype": "f8"
           },
           "yaxis": "y"
          },
          {
           "hovertemplate": "Grupo de Ingreso=Middle income<br>Year=1978<br>Tasa De Fertilidad (Hijos Por Mujer)=%{x}<br>Población Urbanizada=%{y}<extra></extra>",
           "legendgroup": "Middle income",
           "marker": {
            "color": "#ab63fa",
            "symbol": "circle"
           },
           "mode": "markers",
           "name": "Middle income",
           "orientation": "v",
           "showlegend": true,
           "type": "scatter",
           "x": {
            "bdata": "H4XrUbgeEUA=",
            "dtype": "f8"
           },
           "xaxis": "x",
           "y": {
            "bdata": "AACAmB/TyEE=",
            "dtype": "f8"
           },
           "yaxis": "y"
          },
          {
           "hovertemplate": "Grupo de Ingreso=Upper middle income<br>Year=1978<br>Tasa De Fertilidad (Hijos Por Mujer)=%{x}<br>Población Urbanizada=%{y}<extra></extra>",
           "legendgroup": "Upper middle income",
           "marker": {
            "color": "#FFA15A",
            "symbol": "circle"
           },
           "mode": "markers",
           "name": "Upper middle income",
           "orientation": "v",
           "showlegend": true,
           "type": "scatter",
           "x": {
            "bdata": "cT0K16NwC0A=",
            "dtype": "f8"
           },
           "xaxis": "x",
           "y": {
            "bdata": "AAAAm2idv0E=",
            "dtype": "f8"
           },
           "yaxis": "y"
          }
         ],
         "name": "1978"
        },
        {
         "data": [
          {
           "hovertemplate": "Grupo de Ingreso=High income<br>Year=1979<br>Tasa De Fertilidad (Hijos Por Mujer)=%{x}<br>Población Urbanizada=%{y}<extra></extra>",
           "legendgroup": "High income",
           "marker": {
            "color": "#636efa",
            "symbol": "circle"
           },
           "mode": "markers",
           "name": "High income",
           "orientation": "v",
           "showlegend": true,
           "type": "scatter",
           "x": {
            "bdata": "hetRuB6F/z8=",
            "dtype": "f8"
           },
           "xaxis": "x",
           "y": {
            "bdata": "AAAAP9/4xkE=",
            "dtype": "f8"
           },
           "yaxis": "y"
          },
          {
           "hovertemplate": "Grupo de Ingreso=Low income<br>Year=1979<br>Tasa De Fertilidad (Hijos Por Mujer)=%{x}<br>Población Urbanizada=%{y}<extra></extra>",
           "legendgroup": "Low income",
           "marker": {
            "color": "#EF553B",
            "symbol": "circle"
           },
           "mode": "markers",
           "name": "Low income",
           "orientation": "v",
           "showlegend": true,
           "type": "scatter",
           "x": {
            "bdata": "4XoUrkfhGkA=",
            "dtype": "f8"
           },
           "xaxis": "x",
           "y": {
            "bdata": "AAAASKyfhUE=",
            "dtype": "f8"
           },
           "yaxis": "y"
          },
          {
           "hovertemplate": "Grupo de Ingreso=Lower middle income<br>Year=1979<br>Tasa De Fertilidad (Hijos Por Mujer)=%{x}<br>Población Urbanizada=%{y}<extra></extra>",
           "legendgroup": "Lower middle income",
           "marker": {
            "color": "#00cc96",
            "symbol": "circle"
           },
           "mode": "markers",
           "name": "Lower middle income",
           "orientation": "v",
           "showlegend": true,
           "type": "scatter",
           "x": {
            "bdata": "pHA9CtejFUA=",
            "dtype": "f8"
           },
           "xaxis": "x",
           "y": {
            "bdata": "AAAADiLOskE=",
            "dtype": "f8"
           },
           "yaxis": "y"
          },
          {
           "hovertemplate": "Grupo de Ingreso=Middle income<br>Year=1979<br>Tasa De Fertilidad (Hijos Por Mujer)=%{x}<br>Población Urbanizada=%{y}<extra></extra>",
           "legendgroup": "Middle income",
           "marker": {
            "color": "#ab63fa",
            "symbol": "circle"
           },
           "mode": "markers",
           "name": "Middle income",
           "orientation": "v",
           "showlegend": true,
           "type": "scatter",
           "x": {
            "bdata": "9ihcj8L1EEA=",
            "dtype": "f8"
           },
           "xaxis": "x",
           "y": {
            "bdata": "AACA4rTdyUE=",
            "dtype": "f8"
           },
           "yaxis": "y"
          },
          {
           "hovertemplate": "Grupo de Ingreso=Upper middle income<br>Year=1979<br>Tasa De Fertilidad (Hijos Por Mujer)=%{x}<br>Población Urbanizada=%{y}<extra></extra>",
           "legendgroup": "Upper middle income",
           "marker": {
            "color": "#FFA15A",
            "symbol": "circle"
           },
           "mode": "markers",
           "name": "Upper middle income",
           "orientation": "v",
           "showlegend": true,
           "type": "scatter",
           "x": {
            "bdata": "SOF6FK5HC0A=",
            "dtype": "f8"
           },
           "xaxis": "x",
           "y": {
            "bdata": "AACA26N2wEE=",
            "dtype": "f8"
           },
           "yaxis": "y"
          }
         ],
         "name": "1979"
        },
        {
         "data": [
          {
           "hovertemplate": "Grupo de Ingreso=High income<br>Year=1980<br>Tasa De Fertilidad (Hijos Por Mujer)=%{x}<br>Población Urbanizada=%{y}<extra></extra>",
           "legendgroup": "High income",
           "marker": {
            "color": "#636efa",
            "symbol": "circle"
           },
           "mode": "markers",
           "name": "High income",
           "orientation": "v",
           "showlegend": true,
           "type": "scatter",
           "x": {
            "bdata": "XI/C9Shc/z8=",
            "dtype": "f8"
           },
           "xaxis": "x",
           "y": {
            "bdata": "AACA/vFBx0E=",
            "dtype": "f8"
           },
           "yaxis": "y"
          },
          {
           "hovertemplate": "Grupo de Ingreso=Low income<br>Year=1980<br>Tasa De Fertilidad (Hijos Por Mujer)=%{x}<br>Población Urbanizada=%{y}<extra></extra>",
           "legendgroup": "Low income",
           "marker": {
            "color": "#EF553B",
            "symbol": "circle"
           },
           "mode": "markers",
           "name": "Low income",
           "orientation": "v",
           "showlegend": true,
           "type": "scatter",
           "x": {
            "bdata": "16NwPQrXGkA=",
            "dtype": "f8"
           },
           "xaxis": "x",
           "y": {
            "bdata": "AAAAEDRwhkE=",
            "dtype": "f8"
           },
           "yaxis": "y"
          },
          {
           "hovertemplate": "Grupo de Ingreso=Lower middle income<br>Year=1980<br>Tasa De Fertilidad (Hijos Por Mujer)=%{x}<br>Población Urbanizada=%{y}<extra></extra>",
           "legendgroup": "Lower middle income",
           "marker": {
            "color": "#00cc96",
            "symbol": "circle"
           },
           "mode": "markers",
           "name": "Lower middle income",
           "orientation": "v",
           "showlegend": true,
           "type": "scatter",
           "x": {
            "bdata": "cT0K16NwFUA=",
            "dtype": "f8"
           },
           "xaxis": "x",
           "y": {
            "bdata": "AAAAxcais0E=",
            "dtype": "f8"
           },
           "yaxis": "y"
          },
          {
           "hovertemplate": "Grupo de Ingreso=Middle income<br>Year=1980<br>Tasa De Fertilidad (Hijos Por Mujer)=%{x}<br>Población Urbanizada=%{y}<extra></extra>",
           "legendgroup": "Middle income",
           "marker": {
            "color": "#ab63fa",
            "symbol": "circle"
           },
           "mode": "markers",
           "name": "Middle income",
           "orientation": "v",
           "showlegend": true,
           "type": "scatter",
           "x": {
            "bdata": "zczMzMzMEEA=",
            "dtype": "f8"
           },
           "xaxis": "x",
           "y": {
            "bdata": "AAAAxzP1ykE=",
            "dtype": "f8"
           },
           "yaxis": "y"
          },
          {
           "hovertemplate": "Grupo de Ingreso=Upper middle income<br>Year=1980<br>Tasa De Fertilidad (Hijos Por Mujer)=%{x}<br>Población Urbanizada=%{y}<extra></extra>",
           "legendgroup": "Upper middle income",
           "marker": {
            "color": "#FFA15A",
            "symbol": "circle"
           },
           "mode": "markers",
           "name": "Upper middle income",
           "orientation": "v",
           "showlegend": true,
           "type": "scatter",
           "x": {
            "bdata": "9ihcj8L1CkA=",
            "dtype": "f8"
           },
           "xaxis": "x",
           "y": {
            "bdata": "AACAZNAjwUE=",
            "dtype": "f8"
           },
           "yaxis": "y"
          }
         ],
         "name": "1980"
        },
        {
         "data": [
          {
           "hovertemplate": "Grupo de Ingreso=High income<br>Year=1981<br>Tasa De Fertilidad (Hijos Por Mujer)=%{x}<br>Población Urbanizada=%{y}<extra></extra>",
           "legendgroup": "High income",
           "marker": {
            "color": "#636efa",
            "symbol": "circle"
           },
           "mode": "markers",
           "name": "High income",
           "orientation": "v",
           "showlegend": true,
           "type": "scatter",
           "x": {
            "bdata": "uB6F61G4/j8=",
            "dtype": "f8"
           },
           "xaxis": "x",
           "y": {
            "bdata": "AACAHFGMx0E=",
            "dtype": "f8"
           },
           "yaxis": "y"
          },
          {
           "hovertemplate": "Grupo de Ingreso=Low income<br>Year=1981<br>Tasa De Fertilidad (Hijos Por Mujer)=%{x}<br>Población Urbanizada=%{y}<extra></extra>",
           "legendgroup": "Low income",
           "marker": {
            "color": "#EF553B",
            "symbol": "circle"
           },
           "mode": "markers",
           "name": "Low income",
           "orientation": "v",
           "showlegend": true,
           "type": "scatter",
           "x": {
            "bdata": "w/UoXI/CGkA=",
            "dtype": "f8"
           },
           "xaxis": "x",
           "y": {
            "bdata": "AAAA8GQ7h0E=",
            "dtype": "f8"
           },
           "yaxis": "y"
          },
          {
           "hovertemplate": "Grupo de Ingreso=Lower middle income<br>Year=1981<br>Tasa De Fertilidad (Hijos Por Mujer)=%{x}<br>Población Urbanizada=%{y}<extra></extra>",
           "legendgroup": "Lower middle income",
           "marker": {
            "color": "#00cc96",
            "symbol": "circle"
           },
           "mode": "markers",
           "name": "Lower middle income",
           "orientation": "v",
           "showlegend": true,
           "type": "scatter",
           "x": {
            "bdata": "KVyPwvUoFUA=",
            "dtype": "f8"
           },
           "xaxis": "x",
           "y": {
            "bdata": "AAAAEMV8tEE=",
            "dtype": "f8"
           },
           "yaxis": "y"
          },
          {
           "hovertemplate": "Grupo de Ingreso=Middle income<br>Year=1981<br>Tasa De Fertilidad (Hijos Por Mujer)=%{x}<br>Población Urbanizada=%{y}<extra></extra>",
           "legendgroup": "Middle income",
           "marker": {
            "color": "#ab63fa",
            "symbol": "circle"
           },
           "mode": "markers",
           "name": "Middle income",
           "orientation": "v",
           "showlegend": true,
           "type": "scatter",
           "x": {
            "bdata": "pHA9CtejEEA=",
            "dtype": "f8"
           },
           "xaxis": "x",
           "y": {
            "bdata": "AAAA09EazEE=",
            "dtype": "f8"
           },
           "yaxis": "y"
          },
          {
           "hovertemplate": "Grupo de Ingreso=Upper middle income<br>Year=1981<br>Tasa De Fertilidad (Hijos Por Mujer)=%{x}<br>Población Urbanizada=%{y}<extra></extra>",
           "legendgroup": "Upper middle income",
           "marker": {
            "color": "#FFA15A",
            "symbol": "circle"
           },
           "mode": "markers",
           "name": "Upper middle income",
           "orientation": "v",
           "showlegend": true,
           "type": "scatter",
           "x": {
            "bdata": "4XoUrkfhCkA=",
            "dtype": "f8"
           },
           "xaxis": "x",
           "y": {
            "bdata": "AAAAS2/cwUE=",
            "dtype": "f8"
           },
           "yaxis": "y"
          }
         ],
         "name": "1981"
        },
        {
         "data": [
          {
           "hovertemplate": "Grupo de Ingreso=High income<br>Year=1982<br>Tasa De Fertilidad (Hijos Por Mujer)=%{x}<br>Población Urbanizada=%{y}<extra></extra>",
           "legendgroup": "High income",
           "marker": {
            "color": "#636efa",
            "symbol": "circle"
           },
           "mode": "markers",
           "name": "High income",
           "orientation": "v",
           "showlegend": true,
           "type": "scatter",
           "x": {
            "bdata": "4XoUrkfh/j8=",
            "dtype": "f8"
           },
           "xaxis": "x",
           "y": {
            "bdata": "AACAYpjQx0E=",
            "dtype": "f8"
           },
           "yaxis": "y"
          },
          {
           "hovertemplate": "Grupo de Ingreso=Low income<br>Year=1982<br>Tasa De Fertilidad (Hijos Por Mujer)=%{x}<br>Población Urbanizada=%{y}<extra></extra>",
           "legendgroup": "Low income",
           "marker": {
            "color": "#EF553B",
            "symbol": "circle"
           },
           "mode": "markers",
           "name": "Low income",
           "orientation": "v",
           "showlegend": true,
           "type": "scatter",
           "x": {
            "bdata": "rkfhehSuGkA=",
            "dtype": "f8"
           },
           "xaxis": "x",
           "y": {
            "bdata": "AAAAeGogiEE=",
            "dtype": "f8"
           },
           "yaxis": "y"
          },
          {
           "hovertemplate": "Grupo de Ingreso=Lower middle income<br>Year=1982<br>Tasa De Fertilidad (Hijos Por Mujer)=%{x}<br>Población Urbanizada=%{y}<extra></extra>",
           "legendgroup": "Lower middle income",
           "marker": {
            "color": "#00cc96",
            "symbol": "circle"
           },
           "mode": "markers",
           "name": "Lower middle income",
           "orientation": "v",
           "showlegend": true,
           "type": "scatter",
           "x": {
            "bdata": "4XoUrkfhFEA=",
            "dtype": "f8"
           },
           "xaxis": "x",
           "y": {
            "bdata": "AAAAiwJItUE=",
            "dtype": "f8"
           },
           "yaxis": "y"
          },
          {
           "hovertemplate": "Grupo de Ingreso=Middle income<br>Year=1982<br>Tasa De Fertilidad (Hijos Por Mujer)=%{x}<br>Población Urbanizada=%{y}<extra></extra>",
           "legendgroup": "Middle income",
           "marker": {
            "color": "#ab63fa",
            "symbol": "circle"
           },
           "mode": "markers",
           "name": "Middle income",
           "orientation": "v",
           "showlegend": true,
           "type": "scatter",
           "x": {
            "bdata": "rkfhehSuEEA=",
            "dtype": "f8"
           },
           "xaxis": "x",
           "y": {
            "bdata": "AACAMNVDzUE=",
            "dtype": "f8"
           },
           "yaxis": "y"
          },
          {
           "hovertemplate": "Grupo de Ingreso=Upper middle income<br>Year=1982<br>Tasa De Fertilidad (Hijos Por Mujer)=%{x}<br>Población Urbanizada=%{y}<extra></extra>",
           "legendgroup": "Upper middle income",
           "marker": {
            "color": "#FFA15A",
            "symbol": "circle"
           },
           "mode": "markers",
           "name": "Upper middle income",
           "orientation": "v",
           "showlegend": true,
           "type": "scatter",
           "x": {
            "bdata": "cT0K16NwC0A=",
            "dtype": "f8"
           },
           "xaxis": "x",
           "y": {
            "bdata": "AAAA69OfwkE=",
            "dtype": "f8"
           },
           "yaxis": "y"
          }
         ],
         "name": "1982"
        },
        {
         "data": [
          {
           "hovertemplate": "Grupo de Ingreso=High income<br>Year=1983<br>Tasa De Fertilidad (Hijos Por Mujer)=%{x}<br>Población Urbanizada=%{y}<extra></extra>",
           "legendgroup": "High income",
           "marker": {
            "color": "#636efa",
            "symbol": "circle"
           },
           "mode": "markers",
           "name": "High income",
           "orientation": "v",
           "showlegend": true,
           "type": "scatter",
           "x": {
            "bdata": "ZmZmZmZm/j8=",
            "dtype": "f8"
           },
           "xaxis": "x",
           "y": {
            "bdata": "AAAAxXgRyEE=",
            "dtype": "f8"
           },
           "yaxis": "y"
          },
          {
           "hovertemplate": "Grupo de Ingreso=Low income<br>Year=1983<br>Tasa De Fertilidad (Hijos Por Mujer)=%{x}<br>Población Urbanizada=%{y}<extra></extra>",
           "legendgroup": "Low income",
           "marker": {
            "color": "#EF553B",
            "symbol": "circle"
           },
           "mode": "markers",
           "name": "Low income",
           "orientation": "v",
           "showlegend": true,
           "type": "scatter",
           "x": {
            "bdata": "pHA9CtejGkA=",
            "dtype": "f8"
           },
           "xaxis": "x",
           "y": {
            "bdata": "AAAAENAriUE=",
            "dtype": "f8"
           },
           "yaxis": "y"
          },
          {
           "hovertemplate": "Grupo de Ingreso=Lower middle income<br>Year=1983<br>Tasa De Fertilidad (Hijos Por Mujer)=%{x}<br>Población Urbanizada=%{y}<extra></extra>",
           "legendgroup": "Lower middle income",
           "marker": {
            "color": "#00cc96",
            "symbol": "circle"
           },
           "mode": "markers",
           "name": "Lower middle income",
           "orientation": "v",
           "showlegend": true,
           "type": "scatter",
           "x": {
            "bdata": "mpmZmZmZFEA=",
            "dtype": "f8"
           },
           "xaxis": "x",
           "y": {
            "bdata": "AAAAuLwatkE=",
            "dtype": "f8"
           },
           "yaxis": "y"
          },
          {
           "hovertemplate": "Grupo de Ingreso=Middle income<br>Year=1983<br>Tasa De Fertilidad (Hijos Por Mujer)=%{x}<br>Población Urbanizada=%{y}<extra></extra>",
           "legendgroup": "Middle income",
           "marker": {
            "color": "#ab63fa",
            "symbol": "circle"
           },
           "mode": "markers",
           "name": "Middle income",
           "orientation": "v",
           "showlegend": true,
           "type": "scatter",
           "x": {
            "bdata": "7FG4HoXrD0A=",
            "dtype": "f8"
           },
           "xaxis": "x",
           "y": {
            "bdata": "AAAAfx5ozkE=",
            "dtype": "f8"
           },
           "yaxis": "y"
          },
          {
           "hovertemplate": "Grupo de Ingreso=Upper middle income<br>Year=1983<br>Tasa De Fertilidad (Hijos Por Mujer)=%{x}<br>Población Urbanizada=%{y}<extra></extra>",
           "legendgroup": "Upper middle income",
           "marker": {
            "color": "#FFA15A",
            "symbol": "circle"
           },
           "mode": "markers",
           "name": "Upper middle income",
           "orientation": "v",
           "showlegend": true,
           "type": "scatter",
           "x": {
            "bdata": "SOF6FK5HCUA=",
            "dtype": "f8"
           },
           "xaxis": "x",
           "y": {
            "bdata": "AAAAI8Baw0E=",
            "dtype": "f8"
           },
           "yaxis": "y"
          }
         ],
         "name": "1983"
        },
        {
         "data": [
          {
           "hovertemplate": "Grupo de Ingreso=High income<br>Year=1984<br>Tasa De Fertilidad (Hijos Por Mujer)=%{x}<br>Población Urbanizada=%{y}<extra></extra>",
           "legendgroup": "High income",
           "marker": {
            "color": "#636efa",
            "symbol": "circle"
           },
           "mode": "markers",
           "name": "High income",
           "orientation": "v",
           "showlegend": true,
           "type": "scatter",
           "x": {
            "bdata": "7FG4HoXr/T8=",
            "dtype": "f8"
           },
           "xaxis": "x",
           "y": {
            "bdata": "AACA6p9QyEE=",
            "dtype": "f8"
           },
           "yaxis": "y"
          },
          {
           "hovertemplate": "Grupo de Ingreso=Low income<br>Year=1984<br>Tasa De Fertilidad (Hijos Por Mujer)=%{x}<br>Población Urbanizada=%{y}<extra></extra>",
           "legendgroup": "Low income",
           "marker": {
            "color": "#EF553B",
            "symbol": "circle"
           },
           "mode": "markers",
           "name": "Low income",
           "orientation": "v",
           "showlegend": true,
           "type": "scatter",
           "x": {
            "bdata": "mpmZmZmZGkA=",
            "dtype": "f8"
           },
           "xaxis": "x",
           "y": {
            "bdata": "AAAAOIpTikE=",
            "dtype": "f8"
           },
           "yaxis": "y"
          },
          {
           "hovertemplate": "Grupo de Ingreso=Lower middle income<br>Year=1984<br>Tasa De Fertilidad (Hijos Por Mujer)=%{x}<br>Población Urbanizada=%{y}<extra></extra>",
           "legendgroup": "Lower middle income",
           "marker": {
            "color": "#00cc96",
            "symbol": "circle"
           },
           "mode": "markers",
           "name": "Lower middle income",
           "orientation": "v",
           "showlegend": true,
           "type": "scatter",
           "x": {
            "bdata": "XI/C9ShcFEA=",
            "dtype": "f8"
           },
           "xaxis": "x",
           "y": {
            "bdata": "AAAAUKL1tkE=",
            "dtype": "f8"
           },
           "yaxis": "y"
          },
          {
           "hovertemplate": "Grupo de Ingreso=Middle income<br>Year=1984<br>Tasa De Fertilidad (Hijos Por Mujer)=%{x}<br>Población Urbanizada=%{y}<extra></extra>",
           "legendgroup": "Middle income",
           "marker": {
            "color": "#ab63fa",
            "symbol": "circle"
           },
           "mode": "markers",
           "name": "Middle income",
           "orientation": "v",
           "showlegend": true,
           "type": "scatter",
           "x": {
            "bdata": "mpmZmZmZD0A=",
            "dtype": "f8"
           },
           "xaxis": "x",
           "y": {
            "bdata": "AAAAe5aUz0E=",
            "dtype": "f8"
           },
           "yaxis": "y"
          },
          {
           "hovertemplate": "Grupo de Ingreso=Upper middle income<br>Year=1984<br>Tasa De Fertilidad (Hijos Por Mujer)=%{x}<br>Población Urbanizada=%{y}<extra></extra>",
           "legendgroup": "Upper middle income",
           "marker": {
            "color": "#FFA15A",
            "symbol": "circle"
           },
           "mode": "markers",
           "name": "Upper middle income",
           "orientation": "v",
           "showlegend": true,
           "type": "scatter",
           "x": {
            "bdata": "H4XrUbgeCUA=",
            "dtype": "f8"
           },
           "xaxis": "x",
           "y": {
            "bdata": "AAAAU8UZxEE=",
            "dtype": "f8"
           },
           "yaxis": "y"
          }
         ],
         "name": "1984"
        },
        {
         "data": [
          {
           "hovertemplate": "Grupo de Ingreso=High income<br>Year=1985<br>Tasa De Fertilidad (Hijos Por Mujer)=%{x}<br>Población Urbanizada=%{y}<extra></extra>",
           "legendgroup": "High income",
           "marker": {
            "color": "#636efa",
            "symbol": "circle"
           },
           "mode": "markers",
           "name": "High income",
           "orientation": "v",
           "showlegend": true,
           "type": "scatter",
           "x": {
            "bdata": "7FG4HoXr/T8=",
            "dtype": "f8"
           },
           "xaxis": "x",
           "y": {
            "bdata": "AAAAp++PyEE=",
            "dtype": "f8"
           },
           "yaxis": "y"
          },
          {
           "hovertemplate": "Grupo de Ingreso=Low income<br>Year=1985<br>Tasa De Fertilidad (Hijos Por Mujer)=%{x}<br>Población Urbanizada=%{y}<extra></extra>",
           "legendgroup": "Low income",
           "marker": {
            "color": "#EF553B",
            "symbol": "circle"
           },
           "mode": "markers",
           "name": "Low income",
           "orientation": "v",
           "showlegend": true,
           "type": "scatter",
           "x": {
            "bdata": "j8L1KFyPGkA=",
            "dtype": "f8"
           },
           "xaxis": "x",
           "y": {
            "bdata": "AAAAINKQi0E=",
            "dtype": "f8"
           },
           "yaxis": "y"
          },
          {
           "hovertemplate": "Grupo de Ingreso=Lower middle income<br>Year=1985<br>Tasa De Fertilidad (Hijos Por Mujer)=%{x}<br>Población Urbanizada=%{y}<extra></extra>",
           "legendgroup": "Lower middle income",
           "marker": {
            "color": "#00cc96",
            "symbol": "circle"
           },
           "mode": "markers",
           "name": "Lower middle income",
           "orientation": "v",
           "showlegend": true,
           "type": "scatter",
           "x": {
            "bdata": "AAAAAAAAFEA=",
            "dtype": "f8"
           },
           "xaxis": "x",
           "y": {
            "bdata": "AAAAUvfYt0E=",
            "dtype": "f8"
           },
           "yaxis": "y"
          },
          {
           "hovertemplate": "Grupo de Ingreso=Middle income<br>Year=1985<br>Tasa De Fertilidad (Hijos Por Mujer)=%{x}<br>Población Urbanizada=%{y}<extra></extra>",
           "legendgroup": "Middle income",
           "marker": {
            "color": "#ab63fa",
            "symbol": "circle"
           },
           "mode": "markers",
           "name": "Middle income",
           "orientation": "v",
           "showlegend": true,
           "type": "scatter",
           "x": {
            "bdata": "H4XrUbgeD0A=",
            "dtype": "f8"
           },
           "xaxis": "x",
           "y": {
            "bdata": "AAAA9RVl0EE=",
            "dtype": "f8"
           },
           "yaxis": "y"
          },
          {
           "hovertemplate": "Grupo de Ingreso=Upper middle income<br>Year=1985<br>Tasa De Fertilidad (Hijos Por Mujer)=%{x}<br>Población Urbanizada=%{y}<extra></extra>",
           "legendgroup": "Upper middle income",
           "marker": {
            "color": "#FFA15A",
            "symbol": "circle"
           },
           "mode": "markers",
           "name": "Upper middle income",
           "orientation": "v",
           "showlegend": true,
           "type": "scatter",
           "x": {
            "bdata": "zczMzMzMCEA=",
            "dtype": "f8"
           },
           "xaxis": "x",
           "y": {
            "bdata": "AAAAQbDdxEE=",
            "dtype": "f8"
           },
           "yaxis": "y"
          }
         ],
         "name": "1985"
        },
        {
         "data": [
          {
           "hovertemplate": "Grupo de Ingreso=High income<br>Year=1986<br>Tasa De Fertilidad (Hijos Por Mujer)=%{x}<br>Población Urbanizada=%{y}<extra></extra>",
           "legendgroup": "High income",
           "marker": {
            "color": "#636efa",
            "symbol": "circle"
           },
           "mode": "markers",
           "name": "High income",
           "orientation": "v",
           "showlegend": true,
           "type": "scatter",
           "x": {
            "bdata": "w/UoXI/C/T8=",
            "dtype": "f8"
           },
           "xaxis": "x",
           "y": {
            "bdata": "AACATGzSyEE=",
            "dtype": "f8"
           },
           "yaxis": "y"
          },
          {
           "hovertemplate": "Grupo de Ingreso=Low income<br>Year=1986<br>Tasa De Fertilidad (Hijos Por Mujer)=%{x}<br>Población Urbanizada=%{y}<extra></extra>",
           "legendgroup": "Low income",
           "marker": {
            "color": "#EF553B",
            "symbol": "circle"
           },
           "mode": "markers",
           "name": "Low income",
           "orientation": "v",
           "showlegend": true,
           "type": "scatter",
           "x": {
            "bdata": "hetRuB6FGkA=",
            "dtype": "f8"
           },
           "xaxis": "x",
           "y": {
            "bdata": "AAAAqKfWjEE=",
            "dtype": "f8"
           },
           "yaxis": "y"
          },
          {
           "hovertemplate": "Grupo de Ingreso=Lower middle income<br>Year=1986<br>Tasa De Fertilidad (Hijos Por Mujer)=%{x}<br>Población Urbanizada=%{y}<extra></extra>",
           "legendgroup": "Lower middle income",
           "marker": {
            "color": "#00cc96",
            "symbol": "circle"
           },
           "mode": "markers",
           "name": "Lower middle income",
           "orientation": "v",
           "showlegend": true,
           "type": "scatter",
           "x": {
            "bdata": "uB6F61G4E0A=",
            "dtype": "f8"
           },
           "xaxis": "x",
           "y": {
            "bdata": "AAAAELnDuEE=",
            "dtype": "f8"
           },
           "yaxis": "y"
          },
          {
           "hovertemplate": "Grupo de Ingreso=Middle income<br>Year=1986<br>Tasa De Fertilidad (Hijos Por Mujer)=%{x}<br>Población Urbanizada=%{y}<extra></extra>",
           "legendgroup": "Middle income",
           "marker": {
            "color": "#ab63fa",
            "symbol": "circle"
           },
           "mode": "markers",
           "name": "Middle income",
           "orientation": "v",
           "showlegend": true,
           "type": "scatter",
           "x": {
            "bdata": "4XoUrkfhDkA=",
            "dtype": "f8"
           },
           "xaxis": "x",
           "y": {
            "bdata": "AABAXfYE0UE=",
            "dtype": "f8"
           },
           "yaxis": "y"
          },
          {
           "hovertemplate": "Grupo de Ingreso=Upper middle income<br>Year=1986<br>Tasa De Fertilidad (Hijos Por Mujer)=%{x}<br>Población Urbanizada=%{y}<extra></extra>",
           "legendgroup": "Upper middle income",
           "marker": {
            "color": "#FFA15A",
            "symbol": "circle"
           },
           "mode": "markers",
           "name": "Upper middle income",
           "orientation": "v",
           "showlegend": true,
           "type": "scatter",
           "x": {
            "bdata": "zczMzMzMCEA=",
            "dtype": "f8"
           },
           "xaxis": "x",
           "y": {
            "bdata": "AACAMhCoxUE=",
            "dtype": "f8"
           },
           "yaxis": "y"
          }
         ],
         "name": "1986"
        },
        {
         "data": [
          {
           "hovertemplate": "Grupo de Ingreso=High income<br>Year=1987<br>Tasa De Fertilidad (Hijos Por Mujer)=%{x}<br>Población Urbanizada=%{y}<extra></extra>",
           "legendgroup": "High income",
           "marker": {
            "color": "#636efa",
            "symbol": "circle"
           },
           "mode": "markers",
           "name": "High income",
           "orientation": "v",
           "showlegend": true,
           "type": "scatter",
           "x": {
            "bdata": "w/UoXI/C/T8=",
            "dtype": "f8"
           },
           "xaxis": "x",
           "y": {
            "bdata": "AACA81sYyUE=",
            "dtype": "f8"
           },
           "yaxis": "y"
          },
          {
           "hovertemplate": "Grupo de Ingreso=Low income<br>Year=1987<br>Tasa De Fertilidad (Hijos Por Mujer)=%{x}<br>Población Urbanizada=%{y}<extra></extra>",
           "legendgroup": "Low income",
           "marker": {
            "color": "#EF553B",
            "symbol": "circle"
           },
           "mode": "markers",
           "name": "Low income",
           "orientation": "v",
           "showlegend": true,
           "type": "scatter",
           "x": {
            "bdata": "cT0K16NwGkA=",
            "dtype": "f8"
           },
           "xaxis": "x",
           "y": {
            "bdata": "AAAAGPoojkE=",
            "dtype": "f8"
           },
           "yaxis": "y"
          },
          {
           "hovertemplate": "Grupo de Ingreso=Lower middle income<br>Year=1987<br>Tasa De Fertilidad (Hijos Por Mujer)=%{x}<br>Población Urbanizada=%{y}<extra></extra>",
           "legendgroup": "Lower middle income",
           "marker": {
            "color": "#00cc96",
            "symbol": "circle"
           },
           "mode": "markers",
           "name": "Lower middle income",
           "orientation": "v",
           "showlegend": true,
           "type": "scatter",
           "x": {
            "bdata": "UrgehetRE0A=",
            "dtype": "f8"
           },
           "xaxis": "x",
           "y": {
            "bdata": "AAAAppm0uUE=",
            "dtype": "f8"
           },
           "yaxis": "y"
          },
          {
           "hovertemplate": "Grupo de Ingreso=Middle income<br>Year=1987<br>Tasa De Fertilidad (Hijos Por Mujer)=%{x}<br>Población Urbanizada=%{y}<extra></extra>",
           "legendgroup": "Middle income",
           "marker": {
            "color": "#ab63fa",
            "symbol": "circle"
           },
           "mode": "markers",
           "name": "Middle income",
           "orientation": "v",
           "showlegend": true,
           "type": "scatter",
           "x": {
            "bdata": "exSuR+F6DkA=",
            "dtype": "f8"
           },
           "xaxis": "x",
           "y": {
            "bdata": "AAAA33Op0UE=",
            "dtype": "f8"
           },
           "yaxis": "y"
          },
          {
           "hovertemplate": "Grupo de Ingreso=Upper middle income<br>Year=1987<br>Tasa De Fertilidad (Hijos Por Mujer)=%{x}<br>Población Urbanizada=%{y}<extra></extra>",
           "legendgroup": "Upper middle income",
           "marker": {
            "color": "#FFA15A",
            "symbol": "circle"
           },
           "mode": "markers",
           "name": "Upper middle income",
           "orientation": "v",
           "showlegend": true,
           "type": "scatter",
           "x": {
            "bdata": "pHA9CtejCEA=",
            "dtype": "f8"
           },
           "xaxis": "x",
           "y": {
            "bdata": "AAAA65p4xkE=",
            "dtype": "f8"
           },
           "yaxis": "y"
          }
         ],
         "name": "1987"
        },
        {
         "data": [
          {
           "hovertemplate": "Grupo de Ingreso=High income<br>Year=1988<br>Tasa De Fertilidad (Hijos Por Mujer)=%{x}<br>Población Urbanizada=%{y}<extra></extra>",
           "legendgroup": "High income",
           "marker": {
            "color": "#636efa",
            "symbol": "circle"
           },
           "mode": "markers",
           "name": "High income",
           "orientation": "v",
           "showlegend": true,
           "type": "scatter",
           "x": {
            "bdata": "7FG4HoXr/T8=",
            "dtype": "f8"
           },
           "xaxis": "x",
           "y": {
            "bdata": "AACAAXJeyUE=",
            "dtype": "f8"
           },
           "yaxis": "y"
          },
          {
           "hovertemplate": "Grupo de Ingreso=Low income<br>Year=1988<br>Tasa De Fertilidad (Hijos Por Mujer)=%{x}<br>Población Urbanizada=%{y}<extra></extra>",
           "legendgroup": "Low income",
           "marker": {
            "color": "#EF553B",
            "symbol": "circle"
           },
           "mode": "markers",
           "name": "Low income",
           "orientation": "v",
           "showlegend": true,
           "type": "scatter",
           "x": {
            "bdata": "SOF6FK5HGkA=",
            "dtype": "f8"
           },
           "xaxis": "x",
           "y": {
            "bdata": "AAAA8C+Hj0E=",
            "dtype": "f8"
           },
           "yaxis": "y"
          },
          {
           "hovertemplate": "Grupo de Ingreso=Lower middle income<br>Year=1988<br>Tasa De Fertilidad (Hijos Por Mujer)=%{x}<br>Población Urbanizada=%{y}<extra></extra>",
           "legendgroup": "Lower middle income",
           "marker": {
            "color": "#00cc96",
            "symbol": "circle"
           },
           "mode": "markers",
           "name": "Lower middle income",
           "orientation": "v",
           "showlegend": true,
           "type": "scatter",
           "x": {
            "bdata": "9ihcj8L1EkA=",
            "dtype": "f8"
           },
           "xaxis": "x",
           "y": {
            "bdata": "AAAAZGKrukE=",
            "dtype": "f8"
           },
           "yaxis": "y"
          },
          {
           "hovertemplate": "Grupo de Ingreso=Middle income<br>Year=1988<br>Tasa De Fertilidad (Hijos Por Mujer)=%{x}<br>Población Urbanizada=%{y}<extra></extra>",
           "legendgroup": "Middle income",
           "marker": {
            "color": "#ab63fa",
            "symbol": "circle"
           },
           "mode": "markers",
           "name": "Middle income",
           "orientation": "v",
           "showlegend": true,
           "type": "scatter",
           "x": {
            "bdata": "XI/C9ShcDUA=",
            "dtype": "f8"
           },
           "xaxis": "x",
           "y": {
            "bdata": "AACAAy5R0kE=",
            "dtype": "f8"
           },
           "yaxis": "y"
          },
          {
           "hovertemplate": "Grupo de Ingreso=Upper middle income<br>Year=1988<br>Tasa De Fertilidad (Hijos Por Mujer)=%{x}<br>Población Urbanizada=%{y}<extra></extra>",
           "legendgroup": "Upper middle income",
           "marker": {
            "color": "#FFA15A",
            "symbol": "circle"
           },
           "mode": "markers",
           "name": "Upper middle income",
           "orientation": "v",
           "showlegend": true,
           "type": "scatter",
           "x": {
            "bdata": "SOF6FK5HB0A=",
            "dtype": "f8"
           },
           "xaxis": "x",
           "y": {
            "bdata": "AAAA1apMx0E=",
            "dtype": "f8"
           },
           "yaxis": "y"
          }
         ],
         "name": "1988"
        },
        {
         "data": [
          {
           "hovertemplate": "Grupo de Ingreso=High income<br>Year=1989<br>Tasa De Fertilidad (Hijos Por Mujer)=%{x}<br>Población Urbanizada=%{y}<extra></extra>",
           "legendgroup": "High income",
           "marker": {
            "color": "#636efa",
            "symbol": "circle"
           },
           "mode": "markers",
           "name": "High income",
           "orientation": "v",
           "showlegend": true,
           "type": "scatter",
           "x": {
            "bdata": "mpmZmZmZ/T8=",
            "dtype": "f8"
           },
           "xaxis": "x",
           "y": {
            "bdata": "AAAA5EuiyUE=",
            "dtype": "f8"
           },
           "yaxis": "y"
          },
          {
           "hovertemplate": "Grupo de Ingreso=Low income<br>Year=1989<br>Tasa De Fertilidad (Hijos Por Mujer)=%{x}<br>Población Urbanizada=%{y}<extra></extra>",
           "legendgroup": "Low income",
           "marker": {
            "color": "#EF553B",
            "symbol": "circle"
           },
           "mode": "markers",
           "name": "Low income",
           "orientation": "v",
           "showlegend": true,
           "type": "scatter",
           "x": {
            "bdata": "KVyPwvUoGkA=",
            "dtype": "f8"
           },
           "xaxis": "x",
           "y": {
            "bdata": "AAAASN92kEE=",
            "dtype": "f8"
           },
           "yaxis": "y"
          },
          {
           "hovertemplate": "Grupo de Ingreso=Lower middle income<br>Year=1989<br>Tasa De Fertilidad (Hijos Por Mujer)=%{x}<br>Población Urbanizada=%{y}<extra></extra>",
           "legendgroup": "Lower middle income",
           "marker": {
            "color": "#00cc96",
            "symbol": "circle"
           },
           "mode": "markers",
           "name": "Lower middle income",
           "orientation": "v",
           "showlegend": true,
           "type": "scatter",
           "x": {
            "bdata": "j8L1KFyPEkA=",
            "dtype": "f8"
           },
           "xaxis": "x",
           "y": {
            "bdata": "AAAAFEGou0E=",
            "dtype": "f8"
           },
           "yaxis": "y"
          },
          {
           "hovertemplate": "Grupo de Ingreso=Middle income<br>Year=1989<br>Tasa De Fertilidad (Hijos Por Mujer)=%{x}<br>Población Urbanizada=%{y}<extra></extra>",
           "legendgroup": "Middle income",
           "marker": {
            "color": "#ab63fa",
            "symbol": "circle"
           },
           "mode": "markers",
           "name": "Middle income",
           "orientation": "v",
           "showlegend": true,
           "type": "scatter",
           "x": {
            "bdata": "zczMzMzMDEA=",
            "dtype": "f8"
           },
           "xaxis": "x",
           "y": {
            "bdata": "AACAy+760kE=",
            "dtype": "f8"
           },
           "yaxis": "y"
          },
          {
           "hovertemplate": "Grupo de Ingreso=Upper middle income<br>Year=1989<br>Tasa De Fertilidad (Hijos Por Mujer)=%{x}<br>Población Urbanizada=%{y}<extra></extra>",
           "legendgroup": "Upper middle income",
           "marker": {
            "color": "#FFA15A",
            "symbol": "circle"
           },
           "mode": "markers",
           "name": "Upper middle income",
           "orientation": "v",
           "showlegend": true,
           "type": "scatter",
           "x": {
            "bdata": "4XoUrkfhBkA=",
            "dtype": "f8"
           },
           "xaxis": "x",
           "y": {
            "bdata": "AAAADb0hyEE=",
            "dtype": "f8"
           },
           "yaxis": "y"
          }
         ],
         "name": "1989"
        },
        {
         "data": [
          {
           "hovertemplate": "Grupo de Ingreso=High income<br>Year=1990<br>Tasa De Fertilidad (Hijos Por Mujer)=%{x}<br>Población Urbanizada=%{y}<extra></extra>",
           "legendgroup": "High income",
           "marker": {
            "color": "#636efa",
            "symbol": "circle"
           },
           "mode": "markers",
           "name": "High income",
           "orientation": "v",
           "showlegend": true,
           "type": "scatter",
           "x": {
            "bdata": "cT0K16Nw/T8=",
            "dtype": "f8"
           },
           "xaxis": "x",
           "y": {
            "bdata": "AAAAdJTfyUE=",
            "dtype": "f8"
           },
           "yaxis": "y"
          },
          {
           "hovertemplate": "Grupo de Ingreso=Low income<br>Year=1990<br>Tasa De Fertilidad (Hijos Por Mujer)=%{x}<br>Población Urbanizada=%{y}<extra></extra>",
           "legendgroup": "Low income",
           "marker": {
            "color": "#EF553B",
            "symbol": "circle"
           },
           "mode": "markers",
           "name": "Low income",
           "orientation": "v",
           "showlegend": true,
           "type": "scatter",
           "x": {
            "bdata": "AAAAAAAAGkA=",
            "dtype": "f8"
           },
           "xaxis": "x",
           "y": {
            "bdata": "AAAAYMMokUE=",
            "dtype": "f8"
           },
           "yaxis": "y"
          },
          {
           "hovertemplate": "Grupo de Ingreso=Lower middle income<br>Year=1990<br>Tasa De Fertilidad (Hijos Por Mujer)=%{x}<br>Población Urbanizada=%{y}<extra></extra>",
           "legendgroup": "Lower middle income",
           "marker": {
            "color": "#00cc96",
            "symbol": "circle"
           },
           "mode": "markers",
           "name": "Lower middle income",
           "orientation": "v",
           "showlegend": true,
           "type": "scatter",
           "x": {
            "bdata": "PQrXo3A9EkA=",
            "dtype": "f8"
           },
           "xaxis": "x",
           "y": {
            "bdata": "AAAAgp/FvEE=",
            "dtype": "f8"
           },
           "yaxis": "y"
          },
          {
           "hovertemplate": "Grupo de Ingreso=Middle income<br>Year=1990<br>Tasa De Fertilidad (Hijos Por Mujer)=%{x}<br>Población Urbanizada=%{y}<extra></extra>",
           "legendgroup": "Middle income",
           "marker": {
            "color": "#ab63fa",
            "symbol": "circle"
           },
           "mode": "markers",
           "name": "Middle income",
           "orientation": "v",
           "showlegend": true,
           "type": "scatter",
           "x": {
            "bdata": "UrgehetRDEA=",
            "dtype": "f8"
           },
           "xaxis": "x",
           "y": {
            "bdata": "AABAMV2s00E=",
            "dtype": "f8"
           },
           "yaxis": "y"
          },
          {
           "hovertemplate": "Grupo de Ingreso=Upper middle income<br>Year=1990<br>Tasa De Fertilidad (Hijos Por Mujer)=%{x}<br>Población Urbanizada=%{y}<extra></extra>",
           "legendgroup": "Upper middle income",
           "marker": {
            "color": "#FFA15A",
            "symbol": "circle"
           },
           "mode": "markers",
           "name": "Upper middle income",
           "orientation": "v",
           "showlegend": true,
           "type": "scatter",
           "x": {
            "bdata": "exSuR+F6BkA=",
            "dtype": "f8"
           },
           "xaxis": "x",
           "y": {
            "bdata": "AACAoer1yEE=",
            "dtype": "f8"
           },
           "yaxis": "y"
          }
         ],
         "name": "1990"
        },
        {
         "data": [
          {
           "hovertemplate": "Grupo de Ingreso=High income<br>Year=1991<br>Tasa De Fertilidad (Hijos Por Mujer)=%{x}<br>Población Urbanizada=%{y}<extra></extra>",
           "legendgroup": "High income",
           "marker": {
            "color": "#636efa",
            "symbol": "circle"
           },
           "mode": "markers",
           "name": "High income",
           "orientation": "v",
           "showlegend": true,
           "type": "scatter",
           "x": {
            "bdata": "zczMzMzM/D8=",
            "dtype": "f8"
           },
           "xaxis": "x",
           "y": {
            "bdata": "AAAATfskykE=",
            "dtype": "f8"
           },
           "yaxis": "y"
          },
          {
           "hovertemplate": "Grupo de Ingreso=Low income<br>Year=1991<br>Tasa De Fertilidad (Hijos Por Mujer)=%{x}<br>Población Urbanizada=%{y}<extra></extra>",
           "legendgroup": "Low income",
           "marker": {
            "color": "#EF553B",
            "symbol": "circle"
           },
           "mode": "markers",
           "name": "Low income",
           "orientation": "v",
           "showlegend": true,
           "type": "scatter",
           "x": {
            "bdata": "16NwPQrXGUA=",
            "dtype": "f8"
           },
           "xaxis": "x",
           "y": {
            "bdata": "AAAAEBvWkUE=",
            "dtype": "f8"
           },
           "yaxis": "y"
          },
          {
           "hovertemplate": "Grupo de Ingreso=Lower middle income<br>Year=1991<br>Tasa De Fertilidad (Hijos Por Mujer)=%{x}<br>Población Urbanizada=%{y}<extra></extra>",
           "legendgroup": "Lower middle income",
           "marker": {
            "color": "#00cc96",
            "symbol": "circle"
           },
           "mode": "markers",
           "name": "Lower middle income",
           "orientation": "v",
           "showlegend": true,
           "type": "scatter",
           "x": {
            "bdata": "16NwPQrXEUA=",
            "dtype": "f8"
           },
           "xaxis": "x",
           "y": {
            "bdata": "AAAApgbEvUE=",
            "dtype": "f8"
           },
           "yaxis": "y"
          },
          {
           "hovertemplate": "Grupo de Ingreso=Middle income<br>Year=1991<br>Tasa De Fertilidad (Hijos Por Mujer)=%{x}<br>Población Urbanizada=%{y}<extra></extra>",
           "legendgroup": "Middle income",
           "marker": {
            "color": "#ab63fa",
            "symbol": "circle"
           },
           "mode": "markers",
           "name": "Middle income",
           "orientation": "v",
           "showlegend": true,
           "type": "scatter",
           "x": {
            "bdata": "ZmZmZmZmCkA=",
            "dtype": "f8"
           },
           "xaxis": "x",
           "y": {
            "bdata": "AAAAoptZ1EE=",
            "dtype": "f8"
           },
           "yaxis": "y"
          },
          {
           "hovertemplate": "Grupo de Ingreso=Upper middle income<br>Year=1991<br>Tasa De Fertilidad (Hijos Por Mujer)=%{x}<br>Población Urbanizada=%{y}<extra></extra>",
           "legendgroup": "Upper middle income",
           "marker": {
            "color": "#FFA15A",
            "symbol": "circle"
           },
           "mode": "markers",
           "name": "Upper middle income",
           "orientation": "v",
           "showlegend": true,
           "type": "scatter",
           "x": {
            "bdata": "mpmZmZmZA0A=",
            "dtype": "f8"
           },
           "xaxis": "x",
           "y": {
            "bdata": "AAAA8TPRyUE=",
            "dtype": "f8"
           },
           "yaxis": "y"
          }
         ],
         "name": "1991"
        },
        {
         "data": [
          {
           "hovertemplate": "Grupo de Ingreso=High income<br>Year=1992<br>Tasa De Fertilidad (Hijos Por Mujer)=%{x}<br>Población Urbanizada=%{y}<extra></extra>",
           "legendgroup": "High income",
           "marker": {
            "color": "#636efa",
            "symbol": "circle"
           },
           "mode": "markers",
           "name": "High income",
           "orientation": "v",
           "showlegend": true,
           "type": "scatter",
           "x": {
            "bdata": "KVyPwvUo/D8=",
            "dtype": "f8"
           },
           "xaxis": "x",
           "y": {
            "bdata": "AAAAhq5qykE=",
            "dtype": "f8"
           },
           "yaxis": "y"
          },
          {
           "hovertemplate": "Grupo de Ingreso=Low income<br>Year=1992<br>Tasa De Fertilidad (Hijos Por Mujer)=%{x}<br>Población Urbanizada=%{y}<extra></extra>",
           "legendgroup": "Low income",
           "marker": {
            "color": "#EF553B",
            "symbol": "circle"
           },
           "mode": "markers",
           "name": "Low income",
           "orientation": "v",
           "showlegend": true,
           "type": "scatter",
           "x": {
            "bdata": "rkfhehSuGUA=",
            "dtype": "f8"
           },
           "xaxis": "x",
           "y": {
            "bdata": "AAAAaBGckkE=",
            "dtype": "f8"
           },
           "yaxis": "y"
          },
          {
           "hovertemplate": "Grupo de Ingreso=Lower middle income<br>Year=1992<br>Tasa De Fertilidad (Hijos Por Mujer)=%{x}<br>Población Urbanizada=%{y}<extra></extra>",
           "legendgroup": "Lower middle income",
           "marker": {
            "color": "#00cc96",
            "symbol": "circle"
           },
           "mode": "markers",
           "name": "Lower middle income",
           "orientation": "v",
           "showlegend": true,
           "type": "scatter",
           "x": {
            "bdata": "exSuR+F6EUA=",
            "dtype": "f8"
           },
           "xaxis": "x",
           "y": {
            "bdata": "AAAApeS9vkE=",
            "dtype": "f8"
           },
           "yaxis": "y"
          },
          {
           "hovertemplate": "Grupo de Ingreso=Middle income<br>Year=1992<br>Tasa De Fertilidad (Hijos Por Mujer)=%{x}<br>Población Urbanizada=%{y}<extra></extra>",
           "legendgroup": "Middle income",
           "marker": {
            "color": "#ab63fa",
            "symbol": "circle"
           },
           "mode": "markers",
           "name": "Middle income",
           "orientation": "v",
           "showlegend": true,
           "type": "scatter",
           "x": {
            "bdata": "hetRuB6FCUA=",
            "dtype": "f8"
           },
           "xaxis": "x",
           "y": {
            "bdata": "AABAhmQG1UE=",
            "dtype": "f8"
           },
           "yaxis": "y"
          },
          {
           "hovertemplate": "Grupo de Ingreso=Upper middle income<br>Year=1992<br>Tasa De Fertilidad (Hijos Por Mujer)=%{x}<br>Población Urbanizada=%{y}<extra></extra>",
           "legendgroup": "Upper middle income",
           "marker": {
            "color": "#FFA15A",
            "symbol": "circle"
           },
           "mode": "markers",
           "name": "Upper middle income",
           "orientation": "v",
           "showlegend": true,
           "type": "scatter",
           "x": {
            "bdata": "j8L1KFyPAkA=",
            "dtype": "f8"
           },
           "xaxis": "x",
           "y": {
            "bdata": "AAAAutatykE=",
            "dtype": "f8"
           },
           "yaxis": "y"
          }
         ],
         "name": "1992"
        },
        {
         "data": [
          {
           "hovertemplate": "Grupo de Ingreso=High income<br>Year=1993<br>Tasa De Fertilidad (Hijos Por Mujer)=%{x}<br>Población Urbanizada=%{y}<extra></extra>",
           "legendgroup": "High income",
           "marker": {
            "color": "#636efa",
            "symbol": "circle"
           },
           "mode": "markers",
           "name": "High income",
           "orientation": "v",
           "showlegend": true,
           "type": "scatter",
           "x": {
            "bdata": "XI/C9Shc+z8=",
            "dtype": "f8"
           },
           "xaxis": "x",
           "y": {
            "bdata": "AACAPq2rykE=",
            "dtype": "f8"
           },
           "yaxis": "y"
          },
          {
           "hovertemplate": "Grupo de Ingreso=Low income<br>Year=1993<br>Tasa De Fertilidad (Hijos Por Mujer)=%{x}<br>Población Urbanizada=%{y}<extra></extra>",
           "legendgroup": "Low income",
           "marker": {
            "color": "#EF553B",
            "symbol": "circle"
           },
           "mode": "markers",
           "name": "Low income",
           "orientation": "v",
           "showlegend": true,
           "type": "scatter",
           "x": {
            "bdata": "j8L1KFyPGUA=",
            "dtype": "f8"
           },
           "xaxis": "x",
           "y": {
            "bdata": "AAAApHh2k0E=",
            "dtype": "f8"
           },
           "yaxis": "y"
          },
          {
           "hovertemplate": "Grupo de Ingreso=Lower middle income<br>Year=1993<br>Tasa De Fertilidad (Hijos Por Mujer)=%{x}<br>Población Urbanizada=%{y}<extra></extra>",
           "legendgroup": "Lower middle income",
           "marker": {
            "color": "#00cc96",
            "symbol": "circle"
           },
           "mode": "markers",
           "name": "Lower middle income",
           "orientation": "v",
           "showlegend": true,
           "type": "scatter",
           "x": {
            "bdata": "H4XrUbgeEUA=",
            "dtype": "f8"
           },
           "xaxis": "x",
           "y": {
            "bdata": "AAAAORS7v0E=",
            "dtype": "f8"
           },
           "yaxis": "y"
          },
          {
           "hovertemplate": "Grupo de Ingreso=Middle income<br>Year=1993<br>Tasa De Fertilidad (Hijos Por Mujer)=%{x}<br>Población Urbanizada=%{y}<extra></extra>",
           "legendgroup": "Middle income",
           "marker": {
            "color": "#ab63fa",
            "symbol": "circle"
           },
           "mode": "markers",
           "name": "Middle income",
           "orientation": "v",
           "showlegend": true,
           "type": "scatter",
           "x": {
            "bdata": "4XoUrkfhCEA=",
            "dtype": "f8"
           },
           "xaxis": "x",
           "y": {
            "bdata": "AAAAxuGz1UE=",
            "dtype": "f8"
           },
           "yaxis": "y"
          },
          {
           "hovertemplate": "Grupo de Ingreso=Upper middle income<br>Year=1993<br>Tasa De Fertilidad (Hijos Por Mujer)=%{x}<br>Población Urbanizada=%{y}<extra></extra>",
           "legendgroup": "Upper middle income",
           "marker": {
            "color": "#FFA15A",
            "symbol": "circle"
           },
           "mode": "markers",
           "name": "Upper middle income",
           "orientation": "v",
           "showlegend": true,
           "type": "scatter",
           "x": {
            "bdata": "7FG4HoXrAUA=",
            "dtype": "f8"
           },
           "xaxis": "x",
           "y": {
            "bdata": "AACAbzmKy0E=",
            "dtype": "f8"
           },
           "yaxis": "y"
          }
         ],
         "name": "1993"
        },
        {
         "data": [
          {
           "hovertemplate": "Grupo de Ingreso=High income<br>Year=1994<br>Tasa De Fertilidad (Hijos Por Mujer)=%{x}<br>Población Urbanizada=%{y}<extra></extra>",
           "legendgroup": "High income",
           "marker": {
            "color": "#636efa",
            "symbol": "circle"
           },
           "mode": "markers",
           "name": "High income",
           "orientation": "v",
           "showlegend": true,
           "type": "scatter",
           "x": {
            "bdata": "CtejcD0K+z8=",
            "dtype": "f8"
           },
           "xaxis": "x",
           "y": {
            "bdata": "AACAHSjqykE=",
            "dtype": "f8"
           },
           "yaxis": "y"
          },
          {
           "hovertemplate": "Grupo de Ingreso=Low income<br>Year=1994<br>Tasa De Fertilidad (Hijos Por Mujer)=%{x}<br>Población Urbanizada=%{y}<extra></extra>",
           "legendgroup": "Low income",
           "marker": {
            "color": "#EF553B",
            "symbol": "circle"
           },
           "mode": "markers",
           "name": "Low income",
           "orientation": "v",
           "showlegend": true,
           "type": "scatter",
           "x": {
            "bdata": "ZmZmZmZmGUA=",
            "dtype": "f8"
           },
           "xaxis": "x",
           "y": {
            "bdata": "AAAAvCNOlEE=",
            "dtype": "f8"
           },
           "yaxis": "y"
          },
          {
           "hovertemplate": "Grupo de Ingreso=Lower middle income<br>Year=1994<br>Tasa De Fertilidad (Hijos Por Mujer)=%{x}<br>Población Urbanizada=%{y}<extra></extra>",
           "legendgroup": "Lower middle income",
           "marker": {
            "color": "#00cc96",
            "symbol": "circle"
           },
           "mode": "markers",
           "name": "Lower middle income",
           "orientation": "v",
           "showlegend": true,
           "type": "scatter",
           "x": {
            "bdata": "uB6F61G4EEA=",
            "dtype": "f8"
           },
           "xaxis": "x",
           "y": {
            "bdata": "AAAAzupdwEE=",
            "dtype": "f8"
           },
           "yaxis": "y"
          },
          {
           "hovertemplate": "Grupo de Ingreso=Middle income<br>Year=1994<br>Tasa De Fertilidad (Hijos Por Mujer)=%{x}<br>Población Urbanizada=%{y}<extra></extra>",
           "legendgroup": "Middle income",
           "marker": {
            "color": "#ab63fa",
            "symbol": "circle"
           },
           "mode": "markers",
           "name": "Middle income",
           "orientation": "v",
           "showlegend": true,
           "type": "scatter",
           "x": {
            "bdata": "UrgehetRCEA=",
            "dtype": "f8"
           },
           "xaxis": "x",
           "y": {
            "bdata": "AACApxxj1kE=",
            "dtype": "f8"
           },
           "yaxis": "y"
          },
          {
           "hovertemplate": "Grupo de Ingreso=Upper middle income<br>Year=1994<br>Tasa De Fertilidad (Hijos Por Mujer)=%{x}<br>Población Urbanizada=%{y}<extra></extra>",
           "legendgroup": "Upper middle income",
           "marker": {
            "color": "#FFA15A",
            "symbol": "circle"
           },
           "mode": "markers",
           "name": "Upper middle income",
           "orientation": "v",
           "showlegend": true,
           "type": "scatter",
           "x": {
            "bdata": "XI/C9ShcAUA=",
            "dtype": "f8"
           },
           "xaxis": "x",
           "y": {
            "bdata": "AAAAgU5ozEE=",
            "dtype": "f8"
           },
           "yaxis": "y"
          }
         ],
         "name": "1994"
        },
        {
         "data": [
          {
           "hovertemplate": "Grupo de Ingreso=High income<br>Year=1995<br>Tasa De Fertilidad (Hijos Por Mujer)=%{x}<br>Población Urbanizada=%{y}<extra></extra>",
           "legendgroup": "High income",
           "marker": {
            "color": "#636efa",
            "symbol": "circle"
           },
           "mode": "markers",
           "name": "High income",
           "orientation": "v",
           "showlegend": true,
           "type": "scatter",
           "x": {
            "bdata": "ZmZmZmZm+j8=",
            "dtype": "f8"
           },
           "xaxis": "x",
           "y": {
            "bdata": "AAAADNAmy0E=",
            "dtype": "f8"
           },
           "yaxis": "y"
          },
          {
           "hovertemplate": "Grupo de Ingreso=Low income<br>Year=1995<br>Tasa De Fertilidad (Hijos Por Mujer)=%{x}<br>Población Urbanizada=%{y}<extra></extra>",
           "legendgroup": "Low income",
           "marker": {
            "color": "#EF553B",
            "symbol": "circle"
           },
           "mode": "markers",
           "name": "Low income",
           "orientation": "v",
           "showlegend": true,
           "type": "scatter",
           "x": {
            "bdata": "PQrXo3A9GUA=",
            "dtype": "f8"
           },
           "xaxis": "x",
           "y": {
            "bdata": "AAAA2LMilUE=",
            "dtype": "f8"
           },
           "yaxis": "y"
          },
          {
           "hovertemplate": "Grupo de Ingreso=Lower middle income<br>Year=1995<br>Tasa De Fertilidad (Hijos Por Mujer)=%{x}<br>Población Urbanizada=%{y}<extra></extra>",
           "legendgroup": "Lower middle income",
           "marker": {
            "color": "#00cc96",
            "symbol": "circle"
           },
           "mode": "markers",
           "name": "Lower middle income",
           "orientation": "v",
           "showlegend": true,
           "type": "scatter",
           "x": {
            "bdata": "ZmZmZmZmEEA=",
            "dtype": "f8"
           },
           "xaxis": "x",
           "y": {
            "bdata": "AAAAinffwEE=",
            "dtype": "f8"
           },
           "yaxis": "y"
          },
          {
           "hovertemplate": "Grupo de Ingreso=Middle income<br>Year=1995<br>Tasa De Fertilidad (Hijos Por Mujer)=%{x}<br>Población Urbanizada=%{y}<extra></extra>",
           "legendgroup": "Middle income",
           "marker": {
            "color": "#ab63fa",
            "symbol": "circle"
           },
           "mode": "markers",
           "name": "Middle income",
           "orientation": "v",
           "showlegend": true,
           "type": "scatter",
           "x": {
            "bdata": "w/UoXI/CB0A=",
            "dtype": "f8"
           },
           "xaxis": "x",
           "y": {
            "bdata": "AACAyJgU10E=",
            "dtype": "f8"
           },
           "yaxis": "y"
          },
          {
           "hovertemplate": "Grupo de Ingreso=Upper middle income<br>Year=1995<br>Tasa De Fertilidad (Hijos Por Mujer)=%{x}<br>Población Urbanizada=%{y}<extra></extra>",
           "legendgroup": "Upper middle income",
           "marker": {
            "color": "#FFA15A",
            "symbol": "circle"
           },
           "mode": "markers",
           "name": "Upper middle income",
           "orientation": "v",
           "showlegend": true,
           "type": "scatter",
           "x": {
            "bdata": "4XoUrkfhAEA=",
            "dtype": "f8"
           },
           "xaxis": "x",
           "y": {
            "bdata": "AAAAB7pJzUE=",
            "dtype": "f8"
           },
           "yaxis": "y"
          }
         ],
         "name": "1995"
        },
        {
         "data": [
          {
           "hovertemplate": "Grupo de Ingreso=High income<br>Year=1996<br>Tasa De Fertilidad (Hijos Por Mujer)=%{x}<br>Población Urbanizada=%{y}<extra></extra>",
           "legendgroup": "High income",
           "marker": {
            "color": "#636efa",
            "symbol": "circle"
           },
           "mode": "markers",
           "name": "High income",
           "orientation": "v",
           "showlegend": true,
           "type": "scatter",
           "x": {
            "bdata": "PQrXo3A9+j8=",
            "dtype": "f8"
           },
           "xaxis": "x",
           "y": {
            "bdata": "AACAGIxiy0E=",
            "dtype": "f8"
           },
           "yaxis": "y"
          },
          {
           "hovertemplate": "Grupo de Ingreso=Low income<br>Year=1996<br>Tasa De Fertilidad (Hijos Por Mujer)=%{x}<br>Población Urbanizada=%{y}<extra></extra>",
           "legendgroup": "Low income",
           "marker": {
            "color": "#EF553B",
            "symbol": "circle"
           },
           "mode": "markers",
           "name": "Low income",
           "orientation": "v",
           "showlegend": true,
           "type": "scatter",
           "x": {
            "bdata": "AAAAAAAAGUA=",
            "dtype": "f8"
           },
           "xaxis": "x",
           "y": {
            "bdata": "AAAAxA3rlUE=",
            "dtype": "f8"
           },
           "yaxis": "y"
          },
          {
           "hovertemplate": "Grupo de Ingreso=Lower middle income<br>Year=1996<br>Tasa De Fertilidad (Hijos Por Mujer)=%{x}<br>Población Urbanizada=%{y}<extra></extra>",
           "legendgroup": "Lower middle income",
           "marker": {
            "color": "#00cc96",
            "symbol": "circle"
           },
           "mode": "markers",
           "name": "Lower middle income",
           "orientation": "v",
           "showlegend": true,
           "type": "scatter",
           "x": {
            "bdata": "CtejcD0KEEA=",
            "dtype": "f8"
           },
           "xaxis": "x",
           "y": {
            "bdata": "AAAAOOtjwUE=",
            "dtype": "f8"
           },
           "yaxis": "y"
          },
          {
           "hovertemplate": "Grupo de Ingreso=Middle income<br>Year=1996<br>Tasa De Fertilidad (Hijos Por Mujer)=%{x}<br>Población Urbanizada=%{y}<extra></extra>",
           "legendgroup": "Middle income",
           "marker": {
            "color": "#ab63fa",
            "symbol": "circle"
           },
           "mode": "markers",
           "name": "Middle income",
           "orientation": "v",
           "showlegend": true,
           "type": "scatter",
           "x": {
            "bdata": "SOF6FK5HB0A=",
            "dtype": "f8"
           },
           "xaxis": "x",
           "y": {
            "bdata": "AAAAqlzJ10E=",
            "dtype": "f8"
           },
           "yaxis": "y"
          },
          {
           "hovertemplate": "Grupo de Ingreso=Upper middle income<br>Year=1996<br>Tasa De Fertilidad (Hijos Por Mujer)=%{x}<br>Población Urbanizada=%{y}<extra></extra>",
           "legendgroup": "Upper middle income",
           "marker": {
            "color": "#FFA15A",
            "symbol": "circle"
           },
           "mode": "markers",
           "name": "Upper middle income",
           "orientation": "v",
           "showlegend": true,
           "type": "scatter",
           "x": {
            "bdata": "exSuR+F6AEA=",
            "dtype": "f8"
           },
           "xaxis": "x",
           "y": {
            "bdata": "AAAAHM4uzkE=",
            "dtype": "f8"
           },
           "yaxis": "y"
          }
         ],
         "name": "1996"
        },
        {
         "data": [
          {
           "hovertemplate": "Grupo de Ingreso=High income<br>Year=1997<br>Tasa De Fertilidad (Hijos Por Mujer)=%{x}<br>Población Urbanizada=%{y}<extra></extra>",
           "legendgroup": "High income",
           "marker": {
            "color": "#636efa",
            "symbol": "circle"
           },
           "mode": "markers",
           "name": "High income",
           "orientation": "v",
           "showlegend": true,
           "type": "scatter",
           "x": {
            "bdata": "7FG4HoXr+T8=",
            "dtype": "f8"
           },
           "xaxis": "x",
           "y": {
            "bdata": "AACAtZycy0E=",
            "dtype": "f8"
           },
           "yaxis": "y"
          },
          {
           "hovertemplate": "Grupo de Ingreso=Low income<br>Year=1997<br>Tasa De Fertilidad (Hijos Por Mujer)=%{x}<br>Población Urbanizada=%{y}<extra></extra>",
           "legendgroup": "Low income",
           "marker": {
            "color": "#EF553B",
            "symbol": "circle"
           },
           "mode": "markers",
           "name": "Low income",
           "orientation": "v",
           "showlegend": true,
           "type": "scatter",
           "x": {
            "bdata": "zczMzMzMGEA=",
            "dtype": "f8"
           },
           "xaxis": "x",
           "y": {
            "bdata": "AAAAuD27lkE=",
            "dtype": "f8"
           },
           "yaxis": "y"
          },
          {
           "hovertemplate": "Grupo de Ingreso=Lower middle income<br>Year=1997<br>Tasa De Fertilidad (Hijos Por Mujer)=%{x}<br>Población Urbanizada=%{y}<extra></extra>",
           "legendgroup": "Lower middle income",
           "marker": {
            "color": "#00cc96",
            "symbol": "circle"
           },
           "mode": "markers",
           "name": "Lower middle income",
           "orientation": "v",
           "showlegend": true,
           "type": "scatter",
           "x": {
            "bdata": "cT0K16NwD0A=",
            "dtype": "f8"
           },
           "xaxis": "x",
           "y": {
            "bdata": "AAAAcn3rwUE=",
            "dtype": "f8"
           },
           "yaxis": "y"
          },
          {
           "hovertemplate": "Grupo de Ingreso=Middle income<br>Year=1997<br>Tasa De Fertilidad (Hijos Por Mujer)=%{x}<br>Población Urbanizada=%{y}<extra></extra>",
           "legendgroup": "Middle income",
           "marker": {
            "color": "#ab63fa",
            "symbol": "circle"
           },
           "mode": "markers",
           "name": "Middle income",
           "orientation": "v",
           "showlegend": true,
           "type": "scatter",
           "x": {
            "bdata": "zczMzMzMBkA=",
            "dtype": "f8"
           },
           "xaxis": "x",
           "y": {
            "bdata": "AAAAblmB2EE=",
            "dtype": "f8"
           },
           "yaxis": "y"
          },
          {
           "hovertemplate": "Grupo de Ingreso=Upper middle income<br>Year=1997<br>Tasa De Fertilidad (Hijos Por Mujer)=%{x}<br>Población Urbanizada=%{y}<extra></extra>",
           "legendgroup": "Upper middle income",
           "marker": {
            "color": "#FFA15A",
            "symbol": "circle"
           },
           "mode": "markers",
           "name": "Upper middle income",
           "orientation": "v",
           "showlegend": true,
           "type": "scatter",
           "x": {
            "bdata": "FK5H4XoUAEA=",
            "dtype": "f8"
           },
           "xaxis": "x",
           "y": {
            "bdata": "AAAAajUXz0E=",
            "dtype": "f8"
           },
           "yaxis": "y"
          }
         ],
         "name": "1997"
        },
        {
         "data": [
          {
           "hovertemplate": "Grupo de Ingreso=High income<br>Year=1998<br>Tasa De Fertilidad (Hijos Por Mujer)=%{x}<br>Población Urbanizada=%{y}<extra></extra>",
           "legendgroup": "High income",
           "marker": {
            "color": "#636efa",
            "symbol": "circle"
           },
           "mode": "markers",
           "name": "High income",
           "orientation": "v",
           "showlegend": true,
           "type": "scatter",
           "x": {
            "bdata": "w/UoXI/C+T8=",
            "dtype": "f8"
           },
           "xaxis": "x",
           "y": {
            "bdata": "AACAQqnVy0E=",
            "dtype": "f8"
           },
           "yaxis": "y"
          },
          {
           "hovertemplate": "Grupo de Ingreso=Low income<br>Year=1998<br>Tasa De Fertilidad (Hijos Por Mujer)=%{x}<br>Población Urbanizada=%{y}<extra></extra>",
           "legendgroup": "Low income",
           "marker": {
            "color": "#EF553B",
            "symbol": "circle"
           },
           "mode": "markers",
           "name": "Low income",
           "orientation": "v",
           "showlegend": true,
           "type": "scatter",
           "x": {
            "bdata": "mpmZmZmZGEA=",
            "dtype": "f8"
           },
           "xaxis": "x",
           "y": {
            "bdata": "AAAAoAyYl0E=",
            "dtype": "f8"
           },
           "yaxis": "y"
          },
          {
           "hovertemplate": "Grupo de Ingreso=Lower middle income<br>Year=1998<br>Tasa De Fertilidad (Hijos Por Mujer)=%{x}<br>Población Urbanizada=%{y}<extra></extra>",
           "legendgroup": "Lower middle income",
           "marker": {
            "color": "#00cc96",
            "symbol": "circle"
           },
           "mode": "markers",
           "name": "Lower middle income",
           "orientation": "v",
           "showlegend": true,
           "type": "scatter",
           "x": {
            "bdata": "4XoUrkfhDkA=",
            "dtype": "f8"
           },
           "xaxis": "x",
           "y": {
            "bdata": "AAAAvkV2wkE=",
            "dtype": "f8"
           },
           "yaxis": "y"
          },
          {
           "hovertemplate": "Grupo de Ingreso=Middle income<br>Year=1998<br>Tasa De Fertilidad (Hijos Por Mujer)=%{x}<br>Población Urbanizada=%{y}<extra></extra>",
           "legendgroup": "Middle income",
           "marker": {
            "color": "#ab63fa",
            "symbol": "circle"
           },
           "mode": "markers",
           "name": "Middle income",
           "orientation": "v",
           "showlegend": true,
           "type": "scatter",
           "x": {
            "bdata": "ZmZmZmZmBkA=",
            "dtype": "f8"
           },
           "xaxis": "x",
           "y": {
            "bdata": "AACAMec82UE=",
            "dtype": "f8"
           },
           "yaxis": "y"
          },
          {
           "hovertemplate": "Grupo de Ingreso=Upper middle income<br>Year=1998<br>Tasa De Fertilidad (Hijos Por Mujer)=%{x}<br>Población Urbanizada=%{y}<extra></extra>",
           "legendgroup": "Upper middle income",
           "marker": {
            "color": "#FFA15A",
            "symbol": "circle"
           },
           "mode": "markers",
           "name": "Upper middle income",
           "orientation": "v",
           "showlegend": true,
           "type": "scatter",
           "x": {
            "bdata": "rkfhehSu/z8=",
            "dtype": "f8"
           },
           "xaxis": "x",
           "y": {
            "bdata": "AACAUsQB0EE=",
            "dtype": "f8"
           },
           "yaxis": "y"
          }
         ],
         "name": "1998"
        },
        {
         "data": [
          {
           "hovertemplate": "Grupo de Ingreso=High income<br>Year=1999<br>Tasa De Fertilidad (Hijos Por Mujer)=%{x}<br>Población Urbanizada=%{y}<extra></extra>",
           "legendgroup": "High income",
           "marker": {
            "color": "#636efa",
            "symbol": "circle"
           },
           "mode": "markers",
           "name": "High income",
           "orientation": "v",
           "showlegend": true,
           "type": "scatter",
           "x": {
            "bdata": "mpmZmZmZ+T8=",
            "dtype": "f8"
           },
           "xaxis": "x",
           "y": {
            "bdata": "AACAGiUNzEE=",
            "dtype": "f8"
           },
           "yaxis": "y"
          },
          {
           "hovertemplate": "Grupo de Ingreso=Low income<br>Year=1999<br>Tasa De Fertilidad (Hijos Por Mujer)=%{x}<br>Población Urbanizada=%{y}<extra></extra>",
           "legendgroup": "Low income",
           "marker": {
            "color": "#EF553B",
            "symbol": "circle"
           },
           "mode": "markers",
           "name": "Low income",
           "orientation": "v",
           "showlegend": true,
           "type": "scatter",
           "x": {
            "bdata": "ZmZmZmZmGEA=",
            "dtype": "f8"
           },
           "xaxis": "x",
           "y": {
            "bdata": "AAAArKt+mEE=",
            "dtype": "f8"
           },
           "yaxis": "y"
          },
          {
           "hovertemplate": "Grupo de Ingreso=Lower middle income<br>Year=1999<br>Tasa De Fertilidad (Hijos Por Mujer)=%{x}<br>Población Urbanizada=%{y}<extra></extra>",
           "legendgroup": "Lower middle income",
           "marker": {
            "color": "#00cc96",
            "symbol": "circle"
           },
           "mode": "markers",
           "name": "Lower middle income",
           "orientation": "v",
           "showlegend": true,
           "type": "scatter",
           "x": {
            "bdata": "UrgehetRDkA=",
            "dtype": "f8"
           },
           "xaxis": "x",
           "y": {
            "bdata": "AACAYNcCw0E=",
            "dtype": "f8"
           },
           "yaxis": "y"
          },
          {
           "hovertemplate": "Grupo de Ingreso=Middle income<br>Year=1999<br>Tasa De Fertilidad (Hijos Por Mujer)=%{x}<br>Población Urbanizada=%{y}<extra></extra>",
           "legendgroup": "Middle income",
           "marker": {
            "color": "#ab63fa",
            "symbol": "circle"
           },
           "mode": "markers",
           "name": "Middle income",
           "orientation": "v",
           "showlegend": true,
           "type": "scatter",
           "x": {
            "bdata": "KVyPwvUoBkA=",
            "dtype": "f8"
           },
           "xaxis": "x",
           "y": {
            "bdata": "AADAzzb62UE=",
            "dtype": "f8"
           },
           "yaxis": "y"
          },
          {
           "hovertemplate": "Grupo de Ingreso=Upper middle income<br>Year=1999<br>Tasa De Fertilidad (Hijos Por Mujer)=%{x}<br>Población Urbanizada=%{y}<extra></extra>",
           "legendgroup": "Upper middle income",
           "marker": {
            "color": "#FFA15A",
            "symbol": "circle"
           },
           "mode": "markers",
           "name": "Upper middle income",
           "orientation": "v",
           "showlegend": true,
           "type": "scatter",
           "x": {
            "bdata": "MzMzMzMz/z8=",
            "dtype": "f8"
           },
           "xaxis": "x",
           "y": {
            "bdata": "AACAH8t40EE=",
            "dtype": "f8"
           },
           "yaxis": "y"
          }
         ],
         "name": "1999"
        },
        {
         "data": [
          {
           "hovertemplate": "Grupo de Ingreso=High income<br>Year=2000<br>Tasa De Fertilidad (Hijos Por Mujer)=%{x}<br>Población Urbanizada=%{y}<extra></extra>",
           "legendgroup": "High income",
           "marker": {
            "color": "#636efa",
            "symbol": "circle"
           },
           "mode": "markers",
           "name": "High income",
           "orientation": "v",
           "showlegend": true,
           "type": "scatter",
           "x": {
            "bdata": "FK5H4XoU+j8=",
            "dtype": "f8"
           },
           "xaxis": "x",
           "y": {
            "bdata": "AACA4dJDzEE=",
            "dtype": "f8"
           },
           "yaxis": "y"
          },
          {
           "hovertemplate": "Grupo de Ingreso=Low income<br>Year=2000<br>Tasa De Fertilidad (Hijos Por Mujer)=%{x}<br>Población Urbanizada=%{y}<extra></extra>",
           "legendgroup": "Low income",
           "marker": {
            "color": "#EF553B",
            "symbol": "circle"
           },
           "mode": "markers",
           "name": "Low income",
           "orientation": "v",
           "showlegend": true,
           "type": "scatter",
           "x": {
            "bdata": "KVyPwvUoGEA=",
            "dtype": "f8"
           },
           "xaxis": "x",
           "y": {
            "bdata": "AAAAtO5lmUE=",
            "dtype": "f8"
           },
           "yaxis": "y"
          },
          {
           "hovertemplate": "Grupo de Ingreso=Lower middle income<br>Year=2000<br>Tasa De Fertilidad (Hijos Por Mujer)=%{x}<br>Población Urbanizada=%{y}<extra></extra>",
           "legendgroup": "Lower middle income",
           "marker": {
            "color": "#00cc96",
            "symbol": "circle"
           },
           "mode": "markers",
           "name": "Lower middle income",
           "orientation": "v",
           "showlegend": true,
           "type": "scatter",
           "x": {
            "bdata": "7FG4HoXrDUA=",
            "dtype": "f8"
           },
           "xaxis": "x",
           "y": {
            "bdata": "AACAnfiSw0E=",
            "dtype": "f8"
           },
           "yaxis": "y"
          },
          {
           "hovertemplate": "Grupo de Ingreso=Middle income<br>Year=2000<br>Tasa De Fertilidad (Hijos Por Mujer)=%{x}<br>Población Urbanizada=%{y}<extra></extra>",
           "legendgroup": "Middle income",
           "marker": {
            "color": "#ab63fa",
            "symbol": "circle"
           },
           "mode": "markers",
           "name": "Middle income",
           "orientation": "v",
           "showlegend": true,
           "type": "scatter",
           "x": {
            "bdata": "KVyPwvUoBkA=",
            "dtype": "f8"
           },
           "xaxis": "x",
           "y": {
            "bdata": "AADAi/e62kE=",
            "dtype": "f8"
           },
           "yaxis": "y"
          },
          {
           "hovertemplate": "Grupo de Ingreso=Upper middle income<br>Year=2000<br>Tasa De Fertilidad (Hijos Por Mujer)=%{x}<br>Población Urbanizada=%{y}<extra></extra>",
           "legendgroup": "Upper middle income",
           "marker": {
            "color": "#FFA15A",
            "symbol": "circle"
           },
           "mode": "markers",
           "name": "Upper middle income",
           "orientation": "v",
           "showlegend": true,
           "type": "scatter",
           "x": {
            "bdata": "rkfhehSu/z8=",
            "dtype": "f8"
           },
           "xaxis": "x",
           "y": {
            "bdata": "AAAAPXvx0EE=",
            "dtype": "f8"
           },
           "yaxis": "y"
          }
         ],
         "name": "2000"
        },
        {
         "data": [
          {
           "hovertemplate": "Grupo de Ingreso=High income<br>Year=2001<br>Tasa De Fertilidad (Hijos Por Mujer)=%{x}<br>Población Urbanizada=%{y}<extra></extra>",
           "legendgroup": "High income",
           "marker": {
            "color": "#636efa",
            "symbol": "circle"
           },
           "mode": "markers",
           "name": "High income",
           "orientation": "v",
           "showlegend": true,
           "type": "scatter",
           "x": {
            "bdata": "mpmZmZmZ+T8=",
            "dtype": "f8"
           },
           "xaxis": "x",
           "y": {
            "bdata": "AAAAeniFzEE=",
            "dtype": "f8"
           },
           "yaxis": "y"
          },
          {
           "hovertemplate": "Grupo de Ingreso=Low income<br>Year=2001<br>Tasa De Fertilidad (Hijos Por Mujer)=%{x}<br>Población Urbanizada=%{y}<extra></extra>",
           "legendgroup": "Low income",
           "marker": {
            "color": "#EF553B",
            "symbol": "circle"
           },
           "mode": "markers",
           "name": "Low income",
           "orientation": "v",
           "showlegend": true,
           "type": "scatter",
           "x": {
            "bdata": "9ihcj8L1F0A=",
            "dtype": "f8"
           },
           "xaxis": "x",
           "y": {
            "bdata": "AAAA3FRWmkE=",
            "dtype": "f8"
           },
           "yaxis": "y"
          },
          {
           "hovertemplate": "Grupo de Ingreso=Lower middle income<br>Year=2001<br>Tasa De Fertilidad (Hijos Por Mujer)=%{x}<br>Población Urbanizada=%{y}<extra></extra>",
           "legendgroup": "Lower middle income",
           "marker": {
            "color": "#00cc96",
            "symbol": "circle"
           },
           "mode": "markers",
           "name": "Lower middle income",
           "orientation": "v",
           "showlegend": true,
           "type": "scatter",
           "x": {
            "bdata": "mpmZmZmZDUA=",
            "dtype": "f8"
           },
           "xaxis": "x",
           "y": {
            "bdata": "AACATVcuxEE=",
            "dtype": "f8"
           },
           "yaxis": "y"
          },
          {
           "hovertemplate": "Grupo de Ingreso=Middle income<br>Year=2001<br>Tasa De Fertilidad (Hijos Por Mujer)=%{x}<br>Población Urbanizada=%{y}<extra></extra>",
           "legendgroup": "Middle income",
           "marker": {
            "color": "#ab63fa",
            "symbol": "circle"
           },
           "mode": "markers",
           "name": "Middle income",
           "orientation": "v",
           "showlegend": true,
           "type": "scatter",
           "x": {
            "bdata": "w/UoXI/CBUA=",
            "dtype": "f8"
           },
           "xaxis": "x",
           "y": {
            "bdata": "AADAOhCH20E=",
            "dtype": "f8"
           },
           "yaxis": "y"
          },
          {
           "hovertemplate": "Grupo de Ingreso=Upper middle income<br>Year=2001<br>Tasa De Fertilidad (Hijos Por Mujer)=%{x}<br>Población Urbanizada=%{y}<extra></extra>",
           "legendgroup": "Upper middle income",
           "marker": {
            "color": "#FFA15A",
            "symbol": "circle"
           },
           "mode": "markers",
           "name": "Upper middle income",
           "orientation": "v",
           "showlegend": true,
           "type": "scatter",
           "x": {
            "bdata": "4XoUrkfh/j8=",
            "dtype": "f8"
           },
           "xaxis": "x",
           "y": {
            "bdata": "AAAAlORv0UE=",
            "dtype": "f8"
           },
           "yaxis": "y"
          }
         ],
         "name": "2001"
        },
        {
         "data": [
          {
           "hovertemplate": "Grupo de Ingreso=High income<br>Year=2002<br>Tasa De Fertilidad (Hijos Por Mujer)=%{x}<br>Población Urbanizada=%{y}<extra></extra>",
           "legendgroup": "High income",
           "marker": {
            "color": "#636efa",
            "symbol": "circle"
           },
           "mode": "markers",
           "name": "High income",
           "orientation": "v",
           "showlegend": true,
           "type": "scatter",
           "x": {
            "bdata": "mpmZmZmZ+T8=",
            "dtype": "f8"
           },
           "xaxis": "x",
           "y": {
            "bdata": "AAAANXzMzEE=",
            "dtype": "f8"
           },
           "yaxis": "y"
          },
          {
           "hovertemplate": "Grupo de Ingreso=Low income<br>Year=2002<br>Tasa De Fertilidad (Hijos Por Mujer)=%{x}<br>Población Urbanizada=%{y}<extra></extra>",
           "legendgroup": "Low income",
           "marker": {
            "color": "#EF553B",
            "symbol": "circle"
           },
           "mode": "markers",
           "name": "Low income",
           "orientation": "v",
           "showlegend": true,
           "type": "scatter",
           "x": {
            "bdata": "uB6F61G4F0A=",
            "dtype": "f8"
           },
           "xaxis": "x",
           "y": {
            "bdata": "AAAAWOZam0E=",
            "dtype": "f8"
           },
           "yaxis": "y"
          },
          {
           "hovertemplate": "Grupo de Ingreso=Lower middle income<br>Year=2002<br>Tasa De Fertilidad (Hijos Por Mujer)=%{x}<br>Población Urbanizada=%{y}<extra></extra>",
           "legendgroup": "Lower middle income",
           "marker": {
            "color": "#00cc96",
            "symbol": "circle"
           },
           "mode": "markers",
           "name": "Lower middle income",
           "orientation": "v",
           "showlegend": true,
           "type": "scatter",
           "x": {
            "bdata": "CtejcD0KDUA=",
            "dtype": "f8"
           },
           "xaxis": "x",
           "y": {
            "bdata": "AACAwQjSxEE=",
            "dtype": "f8"
           },
           "yaxis": "y"
          },
          {
           "hovertemplate": "Grupo de Ingreso=Middle income<br>Year=2002<br>Tasa De Fertilidad (Hijos Por Mujer)=%{x}<br>Población Urbanizada=%{y}<extra></extra>",
           "legendgroup": "Middle income",
           "marker": {
            "color": "#ab63fa",
            "symbol": "circle"
           },
           "mode": "markers",
           "name": "Middle income",
           "orientation": "v",
           "showlegend": true,
           "type": "scatter",
           "x": {
            "bdata": "cT0K16NwBUA=",
            "dtype": "f8"
           },
           "xaxis": "x",
           "y": {
            "bdata": "AABAQg5c3EE=",
            "dtype": "f8"
           },
           "yaxis": "y"
          },
          {
           "hovertemplate": "Grupo de Ingreso=Upper middle income<br>Year=2002<br>Tasa De Fertilidad (Hijos Por Mujer)=%{x}<br>Población Urbanizada=%{y}<extra></extra>",
           "legendgroup": "Upper middle income",
           "marker": {
            "color": "#FFA15A",
            "symbol": "circle"
           },
           "mode": "markers",
           "name": "Upper middle income",
           "orientation": "v",
           "showlegend": true,
           "type": "scatter",
           "x": {
            "bdata": "ZmZmZmZm/j8=",
            "dtype": "f8"
           },
           "xaxis": "x",
           "y": {
            "bdata": "AACA4Qnz0UE=",
            "dtype": "f8"
           },
           "yaxis": "y"
          }
         ],
         "name": "2002"
        },
        {
         "data": [
          {
           "hovertemplate": "Grupo de Ingreso=High income<br>Year=2003<br>Tasa De Fertilidad (Hijos Por Mujer)=%{x}<br>Población Urbanizada=%{y}<extra></extra>",
           "legendgroup": "High income",
           "marker": {
            "color": "#636efa",
            "symbol": "circle"
           },
           "mode": "markers",
           "name": "High income",
           "orientation": "v",
           "showlegend": true,
           "type": "scatter",
           "x": {
            "bdata": "w/UoXI/C+T8=",
            "dtype": "f8"
           },
           "xaxis": "x",
           "y": {
            "bdata": "AAAAyfwSzUE=",
            "dtype": "f8"
           },
           "yaxis": "y"
          },
          {
           "hovertemplate": "Grupo de Ingreso=Low income<br>Year=2003<br>Tasa De Fertilidad (Hijos Por Mujer)=%{x}<br>Población Urbanizada=%{y}<extra></extra>",
           "legendgroup": "Low income",
           "marker": {
            "color": "#EF553B",
            "symbol": "circle"
           },
           "mode": "markers",
           "name": "Low income",
           "orientation": "v",
           "showlegend": true,
           "type": "scatter",
           "x": {
            "bdata": "exSuR+F6F0A=",
            "dtype": "f8"
           },
           "xaxis": "x",
           "y": {
            "bdata": "AAAA7FJnnEE=",
            "dtype": "f8"
           },
           "yaxis": "y"
          },
          {
           "hovertemplate": "Grupo de Ingreso=Lower middle income<br>Year=2003<br>Tasa De Fertilidad (Hijos Por Mujer)=%{x}<br>Población Urbanizada=%{y}<extra></extra>",
           "legendgroup": "Lower middle income",
           "marker": {
            "color": "#00cc96",
            "symbol": "circle"
           },
           "mode": "markers",
           "name": "Lower middle income",
           "orientation": "v",
           "showlegend": true,
           "type": "scatter",
           "x": {
            "bdata": "ZmZmZmZmDEA=",
            "dtype": "f8"
           },
           "xaxis": "x",
           "y": {
            "bdata": "AAAAZVx4xUE=",
            "dtype": "f8"
           },
           "yaxis": "y"
          },
          {
           "hovertemplate": "Grupo de Ingreso=Middle income<br>Year=2003<br>Tasa De Fertilidad (Hijos Por Mujer)=%{x}<br>Población Urbanizada=%{y}<extra></extra>",
           "legendgroup": "Middle income",
           "marker": {
            "color": "#ab63fa",
            "symbol": "circle"
           },
           "mode": "markers",
           "name": "Middle income",
           "orientation": "v",
           "showlegend": true,
           "type": "scatter",
           "x": {
            "bdata": "MzMzMzMzBUA=",
            "dtype": "f8"
           },
           "xaxis": "x",
           "y": {
            "bdata": "AACAICU03UE=",
            "dtype": "f8"
           },
           "yaxis": "y"
          },
          {
           "hovertemplate": "Grupo de Ingreso=Upper middle income<br>Year=2003<br>Tasa De Fertilidad (Hijos Por Mujer)=%{x}<br>Población Urbanizada=%{y}<extra></extra>",
           "legendgroup": "Upper middle income",
           "marker": {
            "color": "#FFA15A",
            "symbol": "circle"
           },
           "mode": "markers",
           "name": "Upper middle income",
           "orientation": "v",
           "showlegend": true,
           "type": "scatter",
           "x": {
            "bdata": "PQrXo3A9/j8=",
            "dtype": "f8"
           },
           "xaxis": "x",
           "y": {
            "bdata": "AAAA7vZ30kE=",
            "dtype": "f8"
           },
           "yaxis": "y"
          }
         ],
         "name": "2003"
        },
        {
         "data": [
          {
           "hovertemplate": "Grupo de Ingreso=High income<br>Year=2004<br>Tasa De Fertilidad (Hijos Por Mujer)=%{x}<br>Población Urbanizada=%{y}<extra></extra>",
           "legendgroup": "High income",
           "marker": {
            "color": "#636efa",
            "symbol": "circle"
           },
           "mode": "markers",
           "name": "High income",
           "orientation": "v",
           "showlegend": true,
           "type": "scatter",
           "x": {
            "bdata": "7FG4HoXr+T8=",
            "dtype": "f8"
           },
           "xaxis": "x",
           "y": {
            "bdata": "AACAe9RazUE=",
            "dtype": "f8"
           },
           "yaxis": "y"
          },
          {
           "hovertemplate": "Grupo de Ingreso=Low income<br>Year=2004<br>Tasa De Fertilidad (Hijos Por Mujer)=%{x}<br>Población Urbanizada=%{y}<extra></extra>",
           "legendgroup": "Low income",
           "marker": {
            "color": "#EF553B",
            "symbol": "circle"
           },
           "mode": "markers",
           "name": "Low income",
           "orientation": "v",
           "showlegend": true,
           "type": "scatter",
           "x": {
            "bdata": "PQrXo3A9F0A=",
            "dtype": "f8"
           },
           "xaxis": "x",
           "y": {
            "bdata": "AAAAtJ94nUE=",
            "dtype": "f8"
           },
           "yaxis": "y"
          },
          {
           "hovertemplate": "Grupo de Ingreso=Lower middle income<br>Year=2004<br>Tasa De Fertilidad (Hijos Por Mujer)=%{x}<br>Población Urbanizada=%{y}<extra></extra>",
           "legendgroup": "Lower middle income",
           "marker": {
            "color": "#00cc96",
            "symbol": "circle"
           },
           "mode": "markers",
           "name": "Lower middle income",
           "orientation": "v",
           "showlegend": true,
           "type": "scatter",
           "x": {
            "bdata": "7FG4HoXrC0A=",
            "dtype": "f8"
           },
           "xaxis": "x",
           "y": {
            "bdata": "AACAYOQixkE=",
            "dtype": "f8"
           },
           "yaxis": "y"
          },
          {
           "hovertemplate": "Grupo de Ingreso=Middle income<br>Year=2004<br>Tasa De Fertilidad (Hijos Por Mujer)=%{x}<br>Población Urbanizada=%{y}<extra></extra>",
           "legendgroup": "Middle income",
           "marker": {
            "color": "#ab63fa",
            "symbol": "circle"
           },
           "mode": "markers",
           "name": "Middle income",
           "orientation": "v",
           "showlegend": true,
           "type": "scatter",
           "x": {
            "bdata": "CtejcD0KBUA=",
            "dtype": "f8"
           },
           "xaxis": "x",
           "y": {
            "bdata": "AABA13QR3kE=",
            "dtype": "f8"
           },
           "yaxis": "y"
          },
          {
           "hovertemplate": "Grupo de Ingreso=Upper middle income<br>Year=2004<br>Tasa De Fertilidad (Hijos Por Mujer)=%{x}<br>Población Urbanizada=%{y}<extra></extra>",
           "legendgroup": "Upper middle income",
           "marker": {
            "color": "#FFA15A",
            "symbol": "circle"
           },
           "mode": "markers",
           "name": "Upper middle income",
           "orientation": "v",
           "showlegend": true,
           "type": "scatter",
           "x": {
            "bdata": "j8L1KFyP/j8=",
            "dtype": "f8"
           },
           "xaxis": "x",
           "y": {
            "bdata": "AAAApwIA00E=",
            "dtype": "f8"
           },
           "yaxis": "y"
          }
         ],
         "name": "2004"
        },
        {
         "data": [
          {
           "hovertemplate": "Grupo de Ingreso=High income<br>Year=2005<br>Tasa De Fertilidad (Hijos Por Mujer)=%{x}<br>Población Urbanizada=%{y}<extra></extra>",
           "legendgroup": "High income",
           "marker": {
            "color": "#636efa",
            "symbol": "circle"
           },
           "mode": "markers",
           "name": "High income",
           "orientation": "v",
           "showlegend": true,
           "type": "scatter",
           "x": {
            "bdata": "w/UoXI/C+T8=",
            "dtype": "f8"
           },
           "xaxis": "x",
           "y": {
            "bdata": "AACAaP+hzUE=",
            "dtype": "f8"
           },
           "yaxis": "y"
          },
          {
           "hovertemplate": "Grupo de Ingreso=Low income<br>Year=2005<br>Tasa De Fertilidad (Hijos Por Mujer)=%{x}<br>Población Urbanizada=%{y}<extra></extra>",
           "legendgroup": "Low income",
           "marker": {
            "color": "#EF553B",
            "symbol": "circle"
           },
           "mode": "markers",
           "name": "Low income",
           "orientation": "v",
           "showlegend": true,
           "type": "scatter",
           "x": {
            "bdata": "9ihcj8L1FkA=",
            "dtype": "f8"
           },
           "xaxis": "x",
           "y": {
            "bdata": "AAAAVD6dnkE=",
            "dtype": "f8"
           },
           "yaxis": "y"
          },
          {
           "hovertemplate": "Grupo de Ingreso=Lower middle income<br>Year=2005<br>Tasa De Fertilidad (Hijos Por Mujer)=%{x}<br>Población Urbanizada=%{y}<extra></extra>",
           "legendgroup": "Lower middle income",
           "marker": {
            "color": "#00cc96",
            "symbol": "circle"
           },
           "mode": "markers",
           "name": "Lower middle income",
           "orientation": "v",
           "showlegend": true,
           "type": "scatter",
           "x": {
            "bdata": "XI/C9ShcC0A=",
            "dtype": "f8"
           },
           "xaxis": "x",
           "y": {
            "bdata": "AAAAvm7QxkE=",
            "dtype": "f8"
           },
           "yaxis": "y"
          },
          {
           "hovertemplate": "Grupo de Ingreso=Middle income<br>Year=2005<br>Tasa De Fertilidad (Hijos Por Mujer)=%{x}<br>Población Urbanizada=%{y}<extra></extra>",
           "legendgroup": "Middle income",
           "marker": {
            "color": "#ab63fa",
            "symbol": "circle"
           },
           "mode": "markers",
           "name": "Middle income",
           "orientation": "v",
           "showlegend": true,
           "type": "scatter",
           "x": {
            "bdata": "zczMzMzMBEA=",
            "dtype": "f8"
           },
           "xaxis": "x",
           "y": {
            "bdata": "AACAPCby3kE=",
            "dtype": "f8"
           },
           "yaxis": "y"
          },
          {
           "hovertemplate": "Grupo de Ingreso=Upper middle income<br>Year=2005<br>Tasa De Fertilidad (Hijos Por Mujer)=%{x}<br>Población Urbanizada=%{y}<extra></extra>",
           "legendgroup": "Upper middle income",
           "marker": {
            "color": "#FFA15A",
            "symbol": "circle"
           },
           "mode": "markers",
           "name": "Upper middle income",
           "orientation": "v",
           "showlegend": true,
           "type": "scatter",
           "x": {
            "bdata": "j8L1KFyP/j8=",
            "dtype": "f8"
           },
           "xaxis": "x",
           "y": {
            "bdata": "AACA3e6J00E=",
            "dtype": "f8"
           },
           "yaxis": "y"
          }
         ],
         "name": "2005"
        },
        {
         "data": [
          {
           "hovertemplate": "Grupo de Ingreso=High income<br>Year=2006<br>Tasa De Fertilidad (Hijos Por Mujer)=%{x}<br>Población Urbanizada=%{y}<extra></extra>",
           "legendgroup": "High income",
           "marker": {
            "color": "#636efa",
            "symbol": "circle"
           },
           "mode": "markers",
           "name": "High income",
           "orientation": "v",
           "showlegend": true,
           "type": "scatter",
           "x": {
            "bdata": "ZmZmZmZm+j8=",
            "dtype": "f8"
           },
           "xaxis": "x",
           "y": {
            "bdata": "AAAALQbszUE=",
            "dtype": "f8"
           },
           "yaxis": "y"
          },
          {
           "hovertemplate": "Grupo de Ingreso=Low income<br>Year=2006<br>Tasa De Fertilidad (Hijos Por Mujer)=%{x}<br>Población Urbanizada=%{y}<extra></extra>",
           "legendgroup": "Low income",
           "marker": {
            "color": "#EF553B",
            "symbol": "circle"
           },
           "mode": "markers",
           "name": "Low income",
           "orientation": "v",
           "showlegend": true,
           "type": "scatter",
           "x": {
            "bdata": "uB6F61G4FkA=",
            "dtype": "f8"
           },
           "xaxis": "x",
           "y": {
            "bdata": "AAAA+Djbn0E=",
            "dtype": "f8"
           },
           "yaxis": "y"
          },
          {
           "hovertemplate": "Grupo de Ingreso=Lower middle income<br>Year=2006<br>Tasa De Fertilidad (Hijos Por Mujer)=%{x}<br>Población Urbanizada=%{y}<extra></extra>",
           "legendgroup": "Lower middle income",
           "marker": {
            "color": "#00cc96",
            "symbol": "circle"
           },
           "mode": "markers",
           "name": "Lower middle income",
           "orientation": "v",
           "showlegend": true,
           "type": "scatter",
           "x": {
            "bdata": "zczMzMzMCkA=",
            "dtype": "f8"
           },
           "xaxis": "x",
           "y": {
            "bdata": "AACAJjqCx0E=",
            "dtype": "f8"
           },
           "yaxis": "y"
          },
          {
           "hovertemplate": "Grupo de Ingreso=Middle income<br>Year=2006<br>Tasa De Fertilidad (Hijos Por Mujer)=%{x}<br>Población Urbanizada=%{y}<extra></extra>",
           "legendgroup": "Middle income",
           "marker": {
            "color": "#ab63fa",
            "symbol": "circle"
           },
           "mode": "markers",
           "name": "Middle income",
           "orientation": "v",
           "showlegend": true,
           "type": "scatter",
           "x": {
            "bdata": "pHA9CtejBEA=",
            "dtype": "f8"
           },
           "xaxis": "x",
           "y": {
            "bdata": "AABA28/S30E=",
            "dtype": "f8"
           },
           "yaxis": "y"
          },
          {
           "hovertemplate": "Grupo de Ingreso=Upper middle income<br>Year=2006<br>Tasa De Fertilidad (Hijos Por Mujer)=%{x}<br>Población Urbanizada=%{y}<extra></extra>",
           "legendgroup": "Upper middle income",
           "marker": {
            "color": "#FFA15A",
            "symbol": "circle"
           },
           "mode": "markers",
           "name": "Upper middle income",
           "orientation": "v",
           "showlegend": true,
           "type": "scatter",
           "x": {
            "bdata": "uB6F61G4/j8=",
            "dtype": "f8"
           },
           "xaxis": "x",
           "y": {
            "bdata": "AAAAyLIR1EE=",
            "dtype": "f8"
           },
           "yaxis": "y"
          }
         ],
         "name": "2006"
        },
        {
         "data": [
          {
           "hovertemplate": "Grupo de Ingreso=High income<br>Year=2007<br>Tasa De Fertilidad (Hijos Por Mujer)=%{x}<br>Población Urbanizada=%{y}<extra></extra>",
           "legendgroup": "High income",
           "marker": {
            "color": "#636efa",
            "symbol": "circle"
           },
           "mode": "markers",
           "name": "High income",
           "orientation": "v",
           "showlegend": true,
           "type": "scatter",
           "x": {
            "bdata": "CtejcD0K+z8=",
            "dtype": "f8"
           },
           "xaxis": "x",
           "y": {
            "bdata": "AACAWvs6zkE=",
            "dtype": "f8"
           },
           "yaxis": "y"
          },
          {
           "hovertemplate": "Grupo de Ingreso=Low income<br>Year=2007<br>Tasa De Fertilidad (Hijos Por Mujer)=%{x}<br>Población Urbanizada=%{y}<extra></extra>",
           "legendgroup": "Low income",
           "marker": {
            "color": "#EF553B",
            "symbol": "circle"
           },
           "mode": "markers",
           "name": "Low income",
           "orientation": "v",
           "showlegend": true,
           "type": "scatter",
           "x": {
            "bdata": "exSuR+F6FkA=",
            "dtype": "f8"
           },
           "xaxis": "x",
           "y": {
            "bdata": "AAAA5jGJoEE=",
            "dtype": "f8"
           },
           "yaxis": "y"
          },
          {
           "hovertemplate": "Grupo de Ingreso=Lower middle income<br>Year=2007<br>Tasa De Fertilidad (Hijos Por Mujer)=%{x}<br>Población Urbanizada=%{y}<extra></extra>",
           "legendgroup": "Lower middle income",
           "marker": {
            "color": "#00cc96",
            "symbol": "circle"
           },
           "mode": "markers",
           "name": "Lower middle income",
           "orientation": "v",
           "showlegend": true,
           "type": "scatter",
           "x": {
            "bdata": "ZmZmZmZmCkA=",
            "dtype": "f8"
           },
           "xaxis": "x",
           "y": {
            "bdata": "AACAWKM5yEE=",
            "dtype": "f8"
           },
           "yaxis": "y"
          },
          {
           "hovertemplate": "Grupo de Ingreso=Middle income<br>Year=2007<br>Tasa De Fertilidad (Hijos Por Mujer)=%{x}<br>Población Urbanizada=%{y}<extra></extra>",
           "legendgroup": "Middle income",
           "marker": {
            "color": "#ab63fa",
            "symbol": "circle"
           },
           "mode": "markers",
           "name": "Middle income",
           "orientation": "v",
           "showlegend": true,
           "type": "scatter",
           "x": {
            "bdata": "j8L1KFyPBEA=",
            "dtype": "f8"
           },
           "xaxis": "x",
           "y": {
            "bdata": "AADgjl9Z4EE=",
            "dtype": "f8"
           },
           "yaxis": "y"
          },
          {
           "hovertemplate": "Grupo de Ingreso=Upper middle income<br>Year=2007<br>Tasa De Fertilidad (Hijos Por Mujer)=%{x}<br>Población Urbanizada=%{y}<extra></extra>",
           "legendgroup": "Upper middle income",
           "marker": {
            "color": "#FFA15A",
            "symbol": "circle"
           },
           "mode": "markers",
           "name": "Upper middle income",
           "orientation": "v",
           "showlegend": true,
           "type": "scatter",
           "x": {
            "bdata": "4XoUrkfh/j8=",
            "dtype": "f8"
           },
           "xaxis": "x",
           "y": {
            "bdata": "AACAce2V1EE=",
            "dtype": "f8"
           },
           "yaxis": "y"
          }
         ],
         "name": "2007"
        },
        {
         "data": [
          {
           "hovertemplate": "Grupo de Ingreso=High income<br>Year=2008<br>Tasa De Fertilidad (Hijos Por Mujer)=%{x}<br>Población Urbanizada=%{y}<extra></extra>",
           "legendgroup": "High income",
           "marker": {
            "color": "#636efa",
            "symbol": "circle"
           },
           "mode": "markers",
           "name": "High income",
           "orientation": "v",
           "showlegend": true,
           "type": "scatter",
           "x": {
            "bdata": "XI/C9Shc+z8=",
            "dtype": "f8"
           },
           "xaxis": "x",
           "y": {
            "bdata": "AACAs9WLzkE=",
            "dtype": "f8"
           },
           "yaxis": "y"
          },
          {
           "hovertemplate": "Grupo de Ingreso=Low income<br>Year=2008<br>Tasa De Fertilidad (Hijos Por Mujer)=%{x}<br>Población Urbanizada=%{y}<extra></extra>",
           "legendgroup": "Low income",
           "marker": {
            "color": "#EF553B",
            "symbol": "circle"
           },
           "mode": "markers",
           "name": "Low income",
           "orientation": "v",
           "showlegend": true,
           "type": "scatter",
           "x": {
            "bdata": "MzMzMzMzFkA=",
            "dtype": "f8"
           },
           "xaxis": "x",
           "y": {
            "bdata": "AAAASIw4oUE=",
            "dtype": "f8"
           },
           "yaxis": "y"
          },
          {
           "hovertemplate": "Grupo de Ingreso=Lower middle income<br>Year=2008<br>Tasa De Fertilidad (Hijos Por Mujer)=%{x}<br>Población Urbanizada=%{y}<extra></extra>",
           "legendgroup": "Lower middle income",
           "marker": {
            "color": "#00cc96",
            "symbol": "circle"
           },
           "mode": "markers",
           "name": "Lower middle income",
           "orientation": "v",
           "showlegend": true,
           "type": "scatter",
           "x": {
            "bdata": "AAAAAAAACkA=",
            "dtype": "f8"
           },
           "xaxis": "x",
           "y": {
            "bdata": "AACARRbzyEE=",
            "dtype": "f8"
           },
           "yaxis": "y"
          },
          {
           "hovertemplate": "Grupo de Ingreso=Middle income<br>Year=2008<br>Tasa De Fertilidad (Hijos Por Mujer)=%{x}<br>Población Urbanizada=%{y}<extra></extra>",
           "legendgroup": "Middle income",
           "marker": {
            "color": "#ab63fa",
            "symbol": "circle"
           },
           "mode": "markers",
           "name": "Middle income",
           "orientation": "v",
           "showlegend": true,
           "type": "scatter",
           "x": {
            "bdata": "exSuR+F6BEA=",
            "dtype": "f8"
           },
           "xaxis": "x",
           "y": {
            "bdata": "AADgRWXM4EE=",
            "dtype": "f8"
           },
           "yaxis": "y"
          },
          {
           "hovertemplate": "Grupo de Ingreso=Upper middle income<br>Year=2008<br>Tasa De Fertilidad (Hijos Por Mujer)=%{x}<br>Población Urbanizada=%{y}<extra></extra>",
           "legendgroup": "Upper middle income",
           "marker": {
            "color": "#FFA15A",
            "symbol": "circle"
           },
           "mode": "markers",
           "name": "Upper middle income",
           "orientation": "v",
           "showlegend": true,
           "type": "scatter",
           "x": {
            "bdata": "MzMzMzMz/z8=",
            "dtype": "f8"
           },
           "xaxis": "x",
           "y": {
            "bdata": "AAAAaT8f1UE=",
            "dtype": "f8"
           },
           "yaxis": "y"
          }
         ],
         "name": "2008"
        },
        {
         "data": [
          {
           "hovertemplate": "Grupo de Ingreso=High income<br>Year=2009<br>Tasa De Fertilidad (Hijos Por Mujer)=%{x}<br>Población Urbanizada=%{y}<extra></extra>",
           "legendgroup": "High income",
           "marker": {
            "color": "#636efa",
            "symbol": "circle"
           },
           "mode": "markers",
           "name": "High income",
           "orientation": "v",
           "showlegend": true,
           "type": "scatter",
           "x": {
            "bdata": "CtejcD0K+z8=",
            "dtype": "f8"
           },
           "xaxis": "x",
           "y": {
            "bdata": "AAAABmTVzkE=",
            "dtype": "f8"
           },
           "yaxis": "y"
          },
          {
           "hovertemplate": "Grupo de Ingreso=Low income<br>Year=2009<br>Tasa De Fertilidad (Hijos Por Mujer)=%{x}<br>Población Urbanizada=%{y}<extra></extra>",
           "legendgroup": "Low income",
           "marker": {
            "color": "#EF553B",
            "symbol": "circle"
           },
           "mode": "markers",
           "name": "Low income",
           "orientation": "v",
           "showlegend": true,
           "type": "scatter",
           "x": {
            "bdata": "7FG4HoXrFUA=",
            "dtype": "f8"
           },
           "xaxis": "x",
           "y": {
            "bdata": "AAAAOpbqoUE=",
            "dtype": "f8"
           },
           "yaxis": "y"
          },
          {
           "hovertemplate": "Grupo de Ingreso=Lower middle income<br>Year=2009<br>Tasa De Fertilidad (Hijos Por Mujer)=%{x}<br>Población Urbanizada=%{y}<extra></extra>",
           "legendgroup": "Lower middle income",
           "marker": {
            "color": "#00cc96",
            "symbol": "circle"
           },
           "mode": "markers",
           "name": "Lower middle income",
           "orientation": "v",
           "showlegend": true,
           "type": "scatter",
           "x": {
            "bdata": "rkfhehSuCUA=",
            "dtype": "f8"
           },
           "xaxis": "x",
           "y": {
            "bdata": "AACAC7+wyUE=",
            "dtype": "f8"
           },
           "yaxis": "y"
          },
          {
           "hovertemplate": "Grupo de Ingreso=Middle income<br>Year=2009<br>Tasa De Fertilidad (Hijos Por Mujer)=%{x}<br>Población Urbanizada=%{y}<extra></extra>",
           "legendgroup": "Middle income",
           "marker": {
            "color": "#ab63fa",
            "symbol": "circle"
           },
           "mode": "markers",
           "name": "Middle income",
           "orientation": "v",
           "showlegend": true,
           "type": "scatter",
           "x": {
            "bdata": "ZmZmZmZmBEA=",
            "dtype": "f8"
           },
           "xaxis": "x",
           "y": {
            "bdata": "AACAz7ZB4UE=",
            "dtype": "f8"
           },
           "yaxis": "y"
          },
          {
           "hovertemplate": "Grupo de Ingreso=Upper middle income<br>Year=2009<br>Tasa De Fertilidad (Hijos Por Mujer)=%{x}<br>Población Urbanizada=%{y}<extra></extra>",
           "legendgroup": "Upper middle income",
           "marker": {
            "color": "#FFA15A",
            "symbol": "circle"
           },
           "mode": "markers",
           "name": "Upper middle income",
           "orientation": "v",
           "showlegend": true,
           "type": "scatter",
           "x": {
            "bdata": "MzMzMzMz/z8=",
            "dtype": "f8"
           },
           "xaxis": "x",
           "y": {
            "bdata": "AABAGQ6r1UE=",
            "dtype": "f8"
           },
           "yaxis": "y"
          }
         ],
         "name": "2009"
        },
        {
         "data": [
          {
           "hovertemplate": "Grupo de Ingreso=High income<br>Year=2010<br>Tasa De Fertilidad (Hijos Por Mujer)=%{x}<br>Población Urbanizada=%{y}<extra></extra>",
           "legendgroup": "High income",
           "marker": {
            "color": "#636efa",
            "symbol": "circle"
           },
           "mode": "markers",
           "name": "High income",
           "orientation": "v",
           "showlegend": true,
           "type": "scatter",
           "x": {
            "bdata": "4XoUrkfh+j8=",
            "dtype": "f8"
           },
           "xaxis": "x",
           "y": {
            "bdata": "AAAAsHUQz0E=",
            "dtype": "f8"
           },
           "yaxis": "y"
          },
          {
           "hovertemplate": "Grupo de Ingreso=Low income<br>Year=2010<br>Tasa De Fertilidad (Hijos Por Mujer)=%{x}<br>Población Urbanizada=%{y}<extra></extra>",
           "legendgroup": "Low income",
           "marker": {
            "color": "#EF553B",
            "symbol": "circle"
           },
           "mode": "markers",
           "name": "Low income",
           "orientation": "v",
           "showlegend": true,
           "type": "scatter",
           "x": {
            "bdata": "j8L1KFyPFUA=",
            "dtype": "f8"
           },
           "xaxis": "x",
           "y": {
            "bdata": "AAAA9GqlokE=",
            "dtype": "f8"
           },
           "yaxis": "y"
          },
          {
           "hovertemplate": "Grupo de Ingreso=Lower middle income<br>Year=2010<br>Tasa De Fertilidad (Hijos Por Mujer)=%{x}<br>Población Urbanizada=%{y}<extra></extra>",
           "legendgroup": "Lower middle income",
           "marker": {
            "color": "#00cc96",
            "symbol": "circle"
           },
           "mode": "markers",
           "name": "Lower middle income",
           "orientation": "v",
           "showlegend": true,
           "type": "scatter",
           "x": {
            "bdata": "MzMzMzMzCUA=",
            "dtype": "f8"
           },
           "xaxis": "x",
           "y": {
            "bdata": "AAAAkEZ0ykE=",
            "dtype": "f8"
           },
           "yaxis": "y"
          },
          {
           "hovertemplate": "Grupo de Ingreso=Middle income<br>Year=2010<br>Tasa De Fertilidad (Hijos Por Mujer)=%{x}<br>Población Urbanizada=%{y}<extra></extra>",
           "legendgroup": "Middle income",
           "marker": {
            "color": "#ab63fa",
            "symbol": "circle"
           },
           "mode": "markers",
           "name": "Middle income",
           "orientation": "v",
           "showlegend": true,
           "type": "scatter",
           "x": {
            "bdata": "KVyPwvUoBEA=",
            "dtype": "f8"
           },
           "xaxis": "x",
           "y": {
            "bdata": "AAAgp9644UE=",
            "dtype": "f8"
           },
           "yaxis": "y"
          },
          {
           "hovertemplate": "Grupo de Ingreso=Upper middle income<br>Year=2010<br>Tasa De Fertilidad (Hijos Por Mujer)=%{x}<br>Población Urbanizada=%{y}<extra></extra>",
           "legendgroup": "Upper middle income",
           "marker": {
            "color": "#FFA15A",
            "symbol": "circle"
           },
           "mode": "markers",
           "name": "Upper middle income",
           "orientation": "v",
           "showlegend": true,
           "type": "scatter",
           "x": {
            "bdata": "CtejcD0K/z8=",
            "dtype": "f8"
           },
           "xaxis": "x",
           "y": {
            "bdata": "AABABpo31kE=",
            "dtype": "f8"
           },
           "yaxis": "y"
          }
         ],
         "name": "2010"
        },
        {
         "data": [
          {
           "hovertemplate": "Grupo de Ingreso=High income<br>Year=2011<br>Tasa De Fertilidad (Hijos Por Mujer)=%{x}<br>Población Urbanizada=%{y}<extra></extra>",
           "legendgroup": "High income",
           "marker": {
            "color": "#636efa",
            "symbol": "circle"
           },
           "mode": "markers",
           "name": "High income",
           "orientation": "v",
           "showlegend": true,
           "type": "scatter",
           "x": {
            "bdata": "j8L1KFyP+j8=",
            "dtype": "f8"
           },
           "xaxis": "x",
           "y": {
            "bdata": "AACA6PZEz0E=",
            "dtype": "f8"
           },
           "yaxis": "y"
          },
          {
           "hovertemplate": "Grupo de Ingreso=Low income<br>Year=2011<br>Tasa De Fertilidad (Hijos Por Mujer)=%{x}<br>Población Urbanizada=%{y}<extra></extra>",
           "legendgroup": "Low income",
           "marker": {
            "color": "#EF553B",
            "symbol": "circle"
           },
           "mode": "markers",
           "name": "Low income",
           "orientation": "v",
           "showlegend": true,
           "type": "scatter",
           "x": {
            "bdata": "PQrXo3A9FUA=",
            "dtype": "f8"
           },
           "xaxis": "x",
           "y": {
            "bdata": "AAAALNxco0E=",
            "dtype": "f8"
           },
           "yaxis": "y"
          },
          {
           "hovertemplate": "Grupo de Ingreso=Lower middle income<br>Year=2011<br>Tasa De Fertilidad (Hijos Por Mujer)=%{x}<br>Población Urbanizada=%{y}<extra></extra>",
           "legendgroup": "Lower middle income",
           "marker": {
            "color": "#00cc96",
            "symbol": "circle"
           },
           "mode": "markers",
           "name": "Lower middle income",
           "orientation": "v",
           "showlegend": true,
           "type": "scatter",
           "x": {
            "bdata": "zczMzMzMCEA=",
            "dtype": "f8"
           },
           "xaxis": "x",
           "y": {
            "bdata": "AAAAgKM8y0E=",
            "dtype": "f8"
           },
           "yaxis": "y"
          },
          {
           "hovertemplate": "Grupo de Ingreso=Middle income<br>Year=2011<br>Tasa De Fertilidad (Hijos Por Mujer)=%{x}<br>Población Urbanizada=%{y}<extra></extra>",
           "legendgroup": "Middle income",
           "marker": {
            "color": "#ab63fa",
            "symbol": "circle"
           },
           "mode": "markers",
           "name": "Middle income",
           "orientation": "v",
           "showlegend": true,
           "type": "scatter",
           "x": {
            "bdata": "7FG4HoXrA0A=",
            "dtype": "f8"
           },
           "xaxis": "x",
           "y": {
            "bdata": "AAAgQLYv4kE=",
            "dtype": "f8"
           },
           "yaxis": "y"
          },
          {
           "hovertemplate": "Grupo de Ingreso=Upper middle income<br>Year=2011<br>Tasa De Fertilidad (Hijos Por Mujer)=%{x}<br>Población Urbanizada=%{y}<extra></extra>",
           "legendgroup": "Upper middle income",
           "marker": {
            "color": "#FFA15A",
            "symbol": "circle"
           },
           "mode": "markers",
           "name": "Upper middle income",
           "orientation": "v",
           "showlegend": true,
           "type": "scatter",
           "x": {
            "bdata": "4XoUrkfh/j8=",
            "dtype": "f8"
           },
           "xaxis": "x",
           "y": {
            "bdata": "AABAwBrB1kE=",
            "dtype": "f8"
           },
           "yaxis": "y"
          }
         ],
         "name": "2011"
        },
        {
         "data": [
          {
           "hovertemplate": "Grupo de Ingreso=High income<br>Year=2012<br>Tasa De Fertilidad (Hijos Por Mujer)=%{x}<br>Población Urbanizada=%{y}<extra></extra>",
           "legendgroup": "High income",
           "marker": {
            "color": "#636efa",
            "symbol": "circle"
           },
           "mode": "markers",
           "name": "High income",
           "orientation": "v",
           "showlegend": true,
           "type": "scatter",
           "x": {
            "bdata": "4XoUrkfh+j8=",
            "dtype": "f8"
           },
           "xaxis": "x",
           "y": {
            "bdata": "AACAX4KDz0E=",
            "dtype": "f8"
           },
           "yaxis": "y"
          },
          {
           "hovertemplate": "Grupo de Ingreso=Low income<br>Year=2012<br>Tasa De Fertilidad (Hijos Por Mujer)=%{x}<br>Población Urbanizada=%{y}<extra></extra>",
           "legendgroup": "Low income",
           "marker": {
            "color": "#EF553B",
            "symbol": "circle"
           },
           "mode": "markers",
           "name": "Low income",
           "orientation": "v",
           "showlegend": true,
           "type": "scatter",
           "x": {
            "bdata": "7FG4HoXrFEA=",
            "dtype": "f8"
           },
           "xaxis": "x",
           "y": {
            "bdata": "AAAAtLMPpEE=",
            "dtype": "f8"
           },
           "yaxis": "y"
          },
          {
           "hovertemplate": "Grupo de Ingreso=Lower middle income<br>Year=2012<br>Tasa De Fertilidad (Hijos Por Mujer)=%{x}<br>Población Urbanizada=%{y}<extra></extra>",
           "legendgroup": "Lower middle income",
           "marker": {
            "color": "#00cc96",
            "symbol": "circle"
           },
           "mode": "markers",
           "name": "Lower middle income",
           "orientation": "v",
           "showlegend": true,
           "type": "scatter",
           "x": {
            "bdata": "ZmZmZmZmCEA=",
            "dtype": "f8"
           },
           "xaxis": "x",
           "y": {
            "bdata": "AACAGdQHzEE=",
            "dtype": "f8"
           },
           "yaxis": "y"
          },
          {
           "hovertemplate": "Grupo de Ingreso=Middle income<br>Year=2012<br>Tasa De Fertilidad (Hijos Por Mujer)=%{x}<br>Población Urbanizada=%{y}<extra></extra>",
           "legendgroup": "Middle income",
           "marker": {
            "color": "#ab63fa",
            "symbol": "circle"
           },
           "mode": "markers",
           "name": "Middle income",
           "orientation": "v",
           "showlegend": true,
           "type": "scatter",
           "x": {
            "bdata": "FK5H4XoUBEA=",
            "dtype": "f8"
           },
           "xaxis": "x",
           "y": {
            "bdata": "AACgbEWp4kE=",
            "dtype": "f8"
           },
           "yaxis": "y"
          },
          {
           "hovertemplate": "Grupo de Ingreso=Upper middle income<br>Year=2012<br>Tasa De Fertilidad (Hijos Por Mujer)=%{x}<br>Población Urbanizada=%{y}<extra></extra>",
           "legendgroup": "Upper middle income",
           "marker": {
            "color": "#FFA15A",
            "symbol": "circle"
           },
           "mode": "markers",
           "name": "Upper middle income",
           "orientation": "v",
           "showlegend": true,
           "type": "scatter",
           "x": {
            "bdata": "AAAAAAAAAEA=",
            "dtype": "f8"
           },
           "xaxis": "x",
           "y": {
            "bdata": "AACAzKBO10E=",
            "dtype": "f8"
           },
           "yaxis": "y"
          }
         ],
         "name": "2012"
        },
        {
         "data": [
          {
           "hovertemplate": "Grupo de Ingreso=High income<br>Year=2013<br>Tasa De Fertilidad (Hijos Por Mujer)=%{x}<br>Población Urbanizada=%{y}<extra></extra>",
           "legendgroup": "High income",
           "marker": {
            "color": "#636efa",
            "symbol": "circle"
           },
           "mode": "markers",
           "name": "High income",
           "orientation": "v",
           "showlegend": true,
           "type": "scatter",
           "x": {
            "bdata": "j8L1KFyP+j8=",
            "dtype": "f8"
           },
           "xaxis": "x",
           "y": {
            "bdata": "AAAAd7fFz0E=",
            "dtype": "f8"
           },
           "yaxis": "y"
          },
          {
           "hovertemplate": "Grupo de Ingreso=Low income<br>Year=2013<br>Tasa De Fertilidad (Hijos Por Mujer)=%{x}<br>Población Urbanizada=%{y}<extra></extra>",
           "legendgroup": "Low income",
           "marker": {
            "color": "#EF553B",
            "symbol": "circle"
           },
           "mode": "markers",
           "name": "Low income",
           "orientation": "v",
           "showlegend": true,
           "type": "scatter",
           "x": {
            "bdata": "mpmZmZmZFEA=",
            "dtype": "f8"
           },
           "xaxis": "x",
           "y": {
            "bdata": "AAAAnoi8pEE=",
            "dtype": "f8"
           },
           "yaxis": "y"
          },
          {
           "hovertemplate": "Grupo de Ingreso=Lower middle income<br>Year=2013<br>Tasa De Fertilidad (Hijos Por Mujer)=%{x}<br>Población Urbanizada=%{y}<extra></extra>",
           "legendgroup": "Lower middle income",
           "marker": {
            "color": "#00cc96",
            "symbol": "circle"
           },
           "mode": "markers",
           "name": "Lower middle income",
           "orientation": "v",
           "showlegend": true,
           "type": "scatter",
           "x": {
            "bdata": "FK5H4XoUCEA=",
            "dtype": "f8"
           },
           "xaxis": "x",
           "y": {
            "bdata": "AACAszXZzEE=",
            "dtype": "f8"
           },
           "yaxis": "y"
          },
          {
           "hovertemplate": "Grupo de Ingreso=Middle income<br>Year=2013<br>Tasa De Fertilidad (Hijos Por Mujer)=%{x}<br>Población Urbanizada=%{y}<extra></extra>",
           "legendgroup": "Middle income",
           "marker": {
            "color": "#ab63fa",
            "symbol": "circle"
           },
           "mode": "markers",
           "name": "Middle income",
           "orientation": "v",
           "showlegend": true,
           "type": "scatter",
           "x": {
            "bdata": "w/UoXI/CA0A=",
            "dtype": "f8"
           },
           "xaxis": "x",
           "y": {
            "bdata": "AACATHYl40E=",
            "dtype": "f8"
           },
           "yaxis": "y"
          },
          {
           "hovertemplate": "Grupo de Ingreso=Upper middle income<br>Year=2013<br>Tasa De Fertilidad (Hijos Por Mujer)=%{x}<br>Población Urbanizada=%{y}<extra></extra>",
           "legendgroup": "Upper middle income",
           "marker": {
            "color": "#FFA15A",
            "symbol": "circle"
           },
           "mode": "markers",
           "name": "Upper middle income",
           "orientation": "v",
           "showlegend": true,
           "type": "scatter",
           "x": {
            "bdata": "MzMzMzMz/z8=",
            "dtype": "f8"
           },
           "xaxis": "x",
           "y": {
            "bdata": "AABAv1He10E=",
            "dtype": "f8"
           },
           "yaxis": "y"
          }
         ],
         "name": "2013"
        },
        {
         "data": [
          {
           "hovertemplate": "Grupo de Ingreso=High income<br>Year=2014<br>Tasa De Fertilidad (Hijos Por Mujer)=%{x}<br>Población Urbanizada=%{y}<extra></extra>",
           "legendgroup": "High income",
           "marker": {
            "color": "#636efa",
            "symbol": "circle"
           },
           "mode": "markers",
           "name": "High income",
           "orientation": "v",
           "showlegend": true,
           "type": "scatter",
           "x": {
            "bdata": "uB6F61G4+j8=",
            "dtype": "f8"
           },
           "xaxis": "x",
           "y": {
            "bdata": "AABAmp4C0EE=",
            "dtype": "f8"
           },
           "yaxis": "y"
          },
          {
           "hovertemplate": "Grupo de Ingreso=Low income<br>Year=2014<br>Tasa De Fertilidad (Hijos Por Mujer)=%{x}<br>Población Urbanizada=%{y}<extra></extra>",
           "legendgroup": "Low income",
           "marker": {
            "color": "#EF553B",
            "symbol": "circle"
           },
           "mode": "markers",
           "name": "Low income",
           "orientation": "v",
           "showlegend": true,
           "type": "scatter",
           "x": {
            "bdata": "XI/C9ShcFEA=",
            "dtype": "f8"
           },
           "xaxis": "x",
           "y": {
            "bdata": "AAAAkIxupUE=",
            "dtype": "f8"
           },
           "yaxis": "y"
          },
          {
           "hovertemplate": "Grupo de Ingreso=Lower middle income<br>Year=2014<br>Tasa De Fertilidad (Hijos Por Mujer)=%{x}<br>Población Urbanizada=%{y}<extra></extra>",
           "legendgroup": "Lower middle income",
           "marker": {
            "color": "#00cc96",
            "symbol": "circle"
           },
           "mode": "markers",
           "name": "Lower middle income",
           "orientation": "v",
           "showlegend": true,
           "type": "scatter",
           "x": {
            "bdata": "hetRuB6FB0A=",
            "dtype": "f8"
           },
           "xaxis": "x",
           "y": {
            "bdata": "AACAR26xzUE=",
            "dtype": "f8"
           },
           "yaxis": "y"
          },
          {
           "hovertemplate": "Grupo de Ingreso=Middle income<br>Year=2014<br>Tasa De Fertilidad (Hijos Por Mujer)=%{x}<br>Población Urbanizada=%{y}<extra></extra>",
           "legendgroup": "Middle income",
           "marker": {
            "color": "#ab63fa",
            "symbol": "circle"
           },
           "mode": "markers",
           "name": "Middle income",
           "orientation": "v",
           "showlegend": true,
           "type": "scatter",
           "x": {
            "bdata": "rkfhehSuA0A=",
            "dtype": "f8"
           },
           "xaxis": "x",
           "y": {
            "bdata": "AACA9O2i40E=",
            "dtype": "f8"
           },
           "yaxis": "y"
          },
          {
           "hovertemplate": "Grupo de Ingreso=Upper middle income<br>Year=2014<br>Tasa De Fertilidad (Hijos Por Mujer)=%{x}<br>Población Urbanizada=%{y}<extra></extra>",
           "legendgroup": "Upper middle income",
           "marker": {
            "color": "#FFA15A",
            "symbol": "circle"
           },
           "mode": "markers",
           "name": "Upper middle income",
           "orientation": "v",
           "showlegend": true,
           "type": "scatter",
           "x": {
            "bdata": "rkfhehSu/z8=",
            "dtype": "f8"
           },
           "xaxis": "x",
           "y": {
            "bdata": "AABAxSRt2EE=",
            "dtype": "f8"
           },
           "yaxis": "y"
          }
         ],
         "name": "2014"
        },
        {
         "data": [
          {
           "hovertemplate": "Grupo de Ingreso=High income<br>Year=2015<br>Tasa De Fertilidad (Hijos Por Mujer)=%{x}<br>Población Urbanizada=%{y}<extra></extra>",
           "legendgroup": "High income",
           "marker": {
            "color": "#636efa",
            "symbol": "circle"
           },
           "mode": "markers",
           "name": "High income",
           "orientation": "v",
           "showlegend": true,
           "type": "scatter",
           "x": {
            "bdata": "4XoUrkfh+j8=",
            "dtype": "f8"
           },
           "xaxis": "x",
           "y": {
            "bdata": "AADAChUl0EE=",
            "dtype": "f8"
           },
           "yaxis": "y"
          },
          {
           "hovertemplate": "Grupo de Ingreso=Low income<br>Year=2015<br>Tasa De Fertilidad (Hijos Por Mujer)=%{x}<br>Población Urbanizada=%{y}<extra></extra>",
           "legendgroup": "Low income",
           "marker": {
            "color": "#EF553B",
            "symbol": "circle"
           },
           "mode": "markers",
           "name": "Low income",
           "orientation": "v",
           "showlegend": true,
           "type": "scatter",
           "x": {
            "bdata": "FK5H4XoUFEA=",
            "dtype": "f8"
           },
           "xaxis": "x",
           "y": {
            "bdata": "AAAALJo6pkE=",
            "dtype": "f8"
           },
           "yaxis": "y"
          },
          {
           "hovertemplate": "Grupo de Ingreso=Lower middle income<br>Year=2015<br>Tasa De Fertilidad (Hijos Por Mujer)=%{x}<br>Población Urbanizada=%{y}<extra></extra>",
           "legendgroup": "Lower middle income",
           "marker": {
            "color": "#00cc96",
            "symbol": "circle"
           },
           "mode": "markers",
           "name": "Lower middle income",
           "orientation": "v",
           "showlegend": true,
           "type": "scatter",
           "x": {
            "bdata": "SOF6FK5HB0A=",
            "dtype": "f8"
           },
           "xaxis": "x",
           "y": {
            "bdata": "AACA3+KHzkE=",
            "dtype": "f8"
           },
           "yaxis": "y"
          },
          {
           "hovertemplate": "Grupo de Ingreso=Middle income<br>Year=2015<br>Tasa De Fertilidad (Hijos Por Mujer)=%{x}<br>Población Urbanizada=%{y}<extra></extra>",
           "legendgroup": "Middle income",
           "marker": {
            "color": "#ab63fa",
            "symbol": "circle"
           },
           "mode": "markers",
           "name": "Middle income",
           "orientation": "v",
           "showlegend": true,
           "type": "scatter",
           "x": {
            "bdata": "XI/C9ShcA0A=",
            "dtype": "f8"
           },
           "xaxis": "x",
           "y": {
            "bdata": "AACAiVkf5EE=",
            "dtype": "f8"
           },
           "yaxis": "y"
          },
          {
           "hovertemplate": "Grupo de Ingreso=Upper middle income<br>Year=2015<br>Tasa De Fertilidad (Hijos Por Mujer)=%{x}<br>Población Urbanizada=%{y}<extra></extra>",
           "legendgroup": "Upper middle income",
           "marker": {
            "color": "#FFA15A",
            "symbol": "circle"
           },
           "mode": "markers",
           "name": "Upper middle income",
           "orientation": "v",
           "showlegend": true,
           "type": "scatter",
           "x": {
            "bdata": "uB6F61G4/j8=",
            "dtype": "f8"
           },
           "xaxis": "x",
           "y": {
            "bdata": "AABAo8H62EE=",
            "dtype": "f8"
           },
           "yaxis": "y"
          }
         ],
         "name": "2015"
        },
        {
         "data": [
          {
           "hovertemplate": "Grupo de Ingreso=High income<br>Year=2016<br>Tasa De Fertilidad (Hijos Por Mujer)=%{x}<br>Población Urbanizada=%{y}<extra></extra>",
           "legendgroup": "High income",
           "marker": {
            "color": "#636efa",
            "symbol": "circle"
           },
           "mode": "markers",
           "name": "High income",
           "orientation": "v",
           "showlegend": true,
           "type": "scatter",
           "x": {
            "bdata": "uB6F61G4+j8=",
            "dtype": "f8"
           },
           "xaxis": "x",
           "y": {
            "bdata": "AADA8MRG0EE=",
            "dtype": "f8"
           },
           "yaxis": "y"
          },
          {
           "hovertemplate": "Grupo de Ingreso=Low income<br>Year=2016<br>Tasa De Fertilidad (Hijos Por Mujer)=%{x}<br>Población Urbanizada=%{y}<extra></extra>",
           "legendgroup": "Low income",
           "marker": {
            "color": "#EF553B",
            "symbol": "circle"
           },
           "mode": "markers",
           "name": "Low income",
           "orientation": "v",
           "showlegend": true,
           "type": "scatter",
           "x": {
            "bdata": "16NwPQrXE0A=",
            "dtype": "f8"
           },
           "xaxis": "x",
           "y": {
            "bdata": "AAAAVqkcp0E=",
            "dtype": "f8"
           },
           "yaxis": "y"
          },
          {
           "hovertemplate": "Grupo de Ingreso=Lower middle income<br>Year=2016<br>Tasa De Fertilidad (Hijos Por Mujer)=%{x}<br>Población Urbanizada=%{y}<extra></extra>",
           "legendgroup": "Lower middle income",
           "marker": {
            "color": "#00cc96",
            "symbol": "circle"
           },
           "mode": "markers",
           "name": "Lower middle income",
           "orientation": "v",
           "showlegend": true,
           "type": "scatter",
           "x": {
            "bdata": "CtejcD0KB0A=",
            "dtype": "f8"
           },
           "xaxis": "x",
           "y": {
            "bdata": "AACAEBtfz0E=",
            "dtype": "f8"
           },
           "yaxis": "y"
          },
          {
           "hovertemplate": "Grupo de Ingreso=Middle income<br>Year=2016<br>Tasa De Fertilidad (Hijos Por Mujer)=%{x}<br>Población Urbanizada=%{y}<extra></extra>",
           "legendgroup": "Middle income",
           "marker": {
            "color": "#ab63fa",
            "symbol": "circle"
           },
           "mode": "markers",
           "name": "Middle income",
           "orientation": "v",
           "showlegend": true,
           "type": "scatter",
           "x": {
            "bdata": "XI/C9ShcA0A=",
            "dtype": "f8"
           },
           "xaxis": "x",
           "y": {
            "bdata": "AACg722b5EE=",
            "dtype": "f8"
           },
           "yaxis": "y"
          },
          {
           "hovertemplate": "Grupo de Ingreso=Upper middle income<br>Year=2016<br>Tasa De Fertilidad (Hijos Por Mujer)=%{x}<br>Población Urbanizada=%{y}<extra></extra>",
           "legendgroup": "Upper middle income",
           "marker": {
            "color": "#FFA15A",
            "symbol": "circle"
           },
           "mode": "markers",
           "name": "Upper middle income",
           "orientation": "v",
           "showlegend": true,
           "type": "scatter",
           "x": {
            "bdata": "MzMzMzMz/z8=",
            "dtype": "f8"
           },
           "xaxis": "x",
           "y": {
            "bdata": "AAAAV06H2UE=",
            "dtype": "f8"
           },
           "yaxis": "y"
          }
         ],
         "name": "2016"
        },
        {
         "data": [
          {
           "hovertemplate": "Grupo de Ingreso=High income<br>Year=2017<br>Tasa De Fertilidad (Hijos Por Mujer)=%{x}<br>Población Urbanizada=%{y}<extra></extra>",
           "legendgroup": "High income",
           "marker": {
            "color": "#636efa",
            "symbol": "circle"
           },
           "mode": "markers",
           "name": "High income",
           "orientation": "v",
           "showlegend": true,
           "type": "scatter",
           "x": {
            "bdata": "FK5H4XoU+j8=",
            "dtype": "f8"
           },
           "xaxis": "x",
           "y": {
            "bdata": "AADAJRli0EE=",
            "dtype": "f8"
           },
           "yaxis": "y"
          },
          {
           "hovertemplate": "Grupo de Ingreso=Low income<br>Year=2017<br>Tasa De Fertilidad (Hijos Por Mujer)=%{x}<br>Población Urbanizada=%{y}<extra></extra>",
           "legendgroup": "Low income",
           "marker": {
            "color": "#EF553B",
            "symbol": "circle"
           },
           "mode": "markers",
           "name": "Low income",
           "orientation": "v",
           "showlegend": true,
           "type": "scatter",
           "x": {
            "bdata": "j8L1KFyPE0A=",
            "dtype": "f8"
           },
           "xaxis": "x",
           "y": {
            "bdata": "AAAAWtUQqEE=",
            "dtype": "f8"
           },
           "yaxis": "y"
          },
          {
           "hovertemplate": "Grupo de Ingreso=Lower middle income<br>Year=2017<br>Tasa De Fertilidad (Hijos Por Mujer)=%{x}<br>Población Urbanizada=%{y}<extra></extra>",
           "legendgroup": "Lower middle income",
           "marker": {
            "color": "#00cc96",
            "symbol": "circle"
           },
           "mode": "markers",
           "name": "Lower middle income",
           "orientation": "v",
           "showlegend": true,
           "type": "scatter",
           "x": {
            "bdata": "pHA9CtejBkA=",
            "dtype": "f8"
           },
           "xaxis": "x",
           "y": {
            "bdata": "AADAnLgc0EE=",
            "dtype": "f8"
           },
           "yaxis": "y"
          },
          {
           "hovertemplate": "Grupo de Ingreso=Middle income<br>Year=2017<br>Tasa De Fertilidad (Hijos Por Mujer)=%{x}<br>Población Urbanizada=%{y}<extra></extra>",
           "legendgroup": "Middle income",
           "marker": {
            "color": "#ab63fa",
            "symbol": "circle"
           },
           "mode": "markers",
           "name": "Middle income",
           "orientation": "v",
           "showlegend": true,
           "type": "scatter",
           "x": {
            "bdata": "MzMzMzMzA0A=",
            "dtype": "f8"
           },
           "xaxis": "x",
           "y": {
            "bdata": "AAAA6csY5UE=",
            "dtype": "f8"
           },
           "yaxis": "y"
          },
          {
           "hovertemplate": "Grupo de Ingreso=Upper middle income<br>Year=2017<br>Tasa De Fertilidad (Hijos Por Mujer)=%{x}<br>Población Urbanizada=%{y}<extra></extra>",
           "legendgroup": "Upper middle income",
           "marker": {
            "color": "#FFA15A",
            "symbol": "circle"
           },
           "mode": "markers",
           "name": "Upper middle income",
           "orientation": "v",
           "showlegend": true,
           "type": "scatter",
           "x": {
            "bdata": "XI/C9Shc/z8=",
            "dtype": "f8"
           },
           "xaxis": "x",
           "y": {
            "bdata": "AABANd8U2kE=",
            "dtype": "f8"
           },
           "yaxis": "y"
          }
         ],
         "name": "2017"
        },
        {
         "data": [
          {
           "hovertemplate": "Grupo de Ingreso=High income<br>Year=2018<br>Tasa De Fertilidad (Hijos Por Mujer)=%{x}<br>Población Urbanizada=%{y}<extra></extra>",
           "legendgroup": "High income",
           "marker": {
            "color": "#636efa",
            "symbol": "circle"
           },
           "mode": "markers",
           "name": "High income",
           "orientation": "v",
           "showlegend": true,
           "type": "scatter",
           "x": {
            "bdata": "mpmZmZmZ+T8=",
            "dtype": "f8"
           },
           "xaxis": "x",
           "y": {
            "bdata": "AACA+M940EE=",
            "dtype": "f8"
           },
           "yaxis": "y"
          },
          {
           "hovertemplate": "Grupo de Ingreso=Low income<br>Year=2018<br>Tasa De Fertilidad (Hijos Por Mujer)=%{x}<br>Población Urbanizada=%{y}<extra></extra>",
           "legendgroup": "Low income",
           "marker": {
            "color": "#EF553B",
            "symbol": "circle"
           },
           "mode": "markers",
           "name": "Low income",
           "orientation": "v",
           "showlegend": true,
           "type": "scatter",
           "x": {
            "bdata": "UrgehetRE0A=",
            "dtype": "f8"
           },
           "xaxis": "x",
           "y": {
            "bdata": "AAAAIrQTqUE=",
            "dtype": "f8"
           },
           "yaxis": "y"
          },
          {
           "hovertemplate": "Grupo de Ingreso=Lower middle income<br>Year=2018<br>Tasa De Fertilidad (Hijos Por Mujer)=%{x}<br>Población Urbanizada=%{y}<extra></extra>",
           "legendgroup": "Lower middle income",
           "marker": {
            "color": "#00cc96",
            "symbol": "circle"
           },
           "mode": "markers",
           "name": "Lower middle income",
           "orientation": "v",
           "showlegend": true,
           "type": "scatter",
           "x": {
            "bdata": "ZmZmZmZmBkA=",
            "dtype": "f8"
           },
           "xaxis": "x",
           "y": {
            "bdata": "AADAYWOL0EE=",
            "dtype": "f8"
           },
           "yaxis": "y"
          },
          {
           "hovertemplate": "Grupo de Ingreso=Middle income<br>Year=2018<br>Tasa De Fertilidad (Hijos Por Mujer)=%{x}<br>Población Urbanizada=%{y}<extra></extra>",
           "legendgroup": "Middle income",
           "marker": {
            "color": "#ab63fa",
            "symbol": "circle"
           },
           "mode": "markers",
           "name": "Middle income",
           "orientation": "v",
           "showlegend": true,
           "type": "scatter",
           "x": {
            "bdata": "pHA9CtejAkA=",
            "dtype": "f8"
           },
           "xaxis": "x",
           "y": {
            "bdata": "AACA7DqV5UE=",
            "dtype": "f8"
           },
           "yaxis": "y"
          },
          {
           "hovertemplate": "Grupo de Ingreso=Upper middle income<br>Year=2018<br>Tasa De Fertilidad (Hijos Por Mujer)=%{x}<br>Población Urbanizada=%{y}<extra></extra>",
           "legendgroup": "Upper middle income",
           "marker": {
            "color": "#FFA15A",
            "symbol": "circle"
           },
           "mode": "markers",
           "name": "Upper middle income",
           "orientation": "v",
           "showlegend": true,
           "type": "scatter",
           "x": {
            "bdata": "H4XrUbge/T8=",
            "dtype": "f8"
           },
           "xaxis": "x",
           "y": {
            "bdata": "AABAdxKf2kE=",
            "dtype": "f8"
           },
           "yaxis": "y"
          }
         ],
         "name": "2018"
        },
        {
         "data": [
          {
           "hovertemplate": "Grupo de Ingreso=High income<br>Year=2019<br>Tasa De Fertilidad (Hijos Por Mujer)=%{x}<br>Población Urbanizada=%{y}<extra></extra>",
           "legendgroup": "High income",
           "marker": {
            "color": "#636efa",
            "symbol": "circle"
           },
           "mode": "markers",
           "name": "High income",
           "orientation": "v",
           "showlegend": true,
           "type": "scatter",
           "x": {
            "bdata": "9ihcj8L1+D8=",
            "dtype": "f8"
           },
           "xaxis": "x",
           "y": {
            "bdata": "AADAh7eP0EE=",
            "dtype": "f8"
           },
           "yaxis": "y"
          },
          {
           "hovertemplate": "Grupo de Ingreso=Low income<br>Year=2019<br>Tasa De Fertilidad (Hijos Por Mujer)=%{x}<br>Población Urbanizada=%{y}<extra></extra>",
           "legendgroup": "Low income",
           "marker": {
            "color": "#EF553B",
            "symbol": "circle"
           },
           "mode": "markers",
           "name": "Low income",
           "orientation": "v",
           "showlegend": true,
           "type": "scatter",
           "x": {
            "bdata": "FK5H4XoUE0A=",
            "dtype": "f8"
           },
           "xaxis": "x",
           "y": {
            "bdata": "AAAAoJImqkE=",
            "dtype": "f8"
           },
           "yaxis": "y"
          },
          {
           "hovertemplate": "Grupo de Ingreso=Lower middle income<br>Year=2019<br>Tasa De Fertilidad (Hijos Por Mujer)=%{x}<br>Población Urbanizada=%{y}<extra></extra>",
           "legendgroup": "Lower middle income",
           "marker": {
            "color": "#00cc96",
            "symbol": "circle"
           },
           "mode": "markers",
           "name": "Lower middle income",
           "orientation": "v",
           "showlegend": true,
           "type": "scatter",
           "x": {
            "bdata": "AAAAAAAABkA=",
            "dtype": "f8"
           },
           "xaxis": "x",
           "y": {
            "bdata": "AAAAv4H70EE=",
            "dtype": "f8"
           },
           "yaxis": "y"
          },
          {
           "hovertemplate": "Grupo de Ingreso=Middle income<br>Year=2019<br>Tasa De Fertilidad (Hijos Por Mujer)=%{x}<br>Población Urbanizada=%{y}<extra></extra>",
           "legendgroup": "Middle income",
           "marker": {
            "color": "#ab63fa",
            "symbol": "circle"
           },
           "mode": "markers",
           "name": "Middle income",
           "orientation": "v",
           "showlegend": true,
           "type": "scatter",
           "x": {
            "bdata": "PQrXo3A9AkA=",
            "dtype": "f8"
           },
           "xaxis": "x",
           "y": {
            "bdata": "AACAI28P5kE=",
            "dtype": "f8"
           },
           "yaxis": "y"
          },
          {
           "hovertemplate": "Grupo de Ingreso=Upper middle income<br>Year=2019<br>Tasa De Fertilidad (Hijos Por Mujer)=%{x}<br>Población Urbanizada=%{y}<extra></extra>",
           "legendgroup": "Upper middle income",
           "marker": {
            "color": "#FFA15A",
            "symbol": "circle"
           },
           "mode": "markers",
           "name": "Upper middle income",
           "orientation": "v",
           "showlegend": true,
           "type": "scatter",
           "x": {
            "bdata": "UrgehetR/D8=",
            "dtype": "f8"
           },
           "xaxis": "x",
           "y": {
            "bdata": "AAAAiFwj20E=",
            "dtype": "f8"
           },
           "yaxis": "y"
          }
         ],
         "name": "2019"
        },
        {
         "data": [
          {
           "hovertemplate": "Grupo de Ingreso=High income<br>Year=2020<br>Tasa De Fertilidad (Hijos Por Mujer)=%{x}<br>Población Urbanizada=%{y}<extra></extra>",
           "legendgroup": "High income",
           "marker": {
            "color": "#636efa",
            "symbol": "circle"
           },
           "mode": "markers",
           "name": "High income",
           "orientation": "v",
           "showlegend": true,
           "type": "scatter",
           "x": {
            "bdata": "UrgehetR+D8=",
            "dtype": "f8"
           },
           "xaxis": "x",
           "y": {
            "bdata": "AADAcuSs0EE=",
            "dtype": "f8"
           },
           "yaxis": "y"
          },
          {
           "hovertemplate": "Grupo de Ingreso=Low income<br>Year=2020<br>Tasa De Fertilidad (Hijos Por Mujer)=%{x}<br>Población Urbanizada=%{y}<extra></extra>",
           "legendgroup": "Low income",
           "marker": {
            "color": "#EF553B",
            "symbol": "circle"
           },
           "mode": "markers",
           "name": "Low income",
           "orientation": "v",
           "showlegend": true,
           "type": "scatter",
           "x": {
            "bdata": "zczMzMzMEkA=",
            "dtype": "f8"
           },
           "xaxis": "x",
           "y": {
            "bdata": "AAAAZI9Dq0E=",
            "dtype": "f8"
           },
           "yaxis": "y"
          },
          {
           "hovertemplate": "Grupo de Ingreso=Lower middle income<br>Year=2020<br>Tasa De Fertilidad (Hijos Por Mujer)=%{x}<br>Población Urbanizada=%{y}<extra></extra>",
           "legendgroup": "Lower middle income",
           "marker": {
            "color": "#00cc96",
            "symbol": "circle"
           },
           "mode": "markers",
           "name": "Lower middle income",
           "orientation": "v",
           "showlegend": true,
           "type": "scatter",
           "x": {
            "bdata": "rkfhehSuBUA=",
            "dtype": "f8"
           },
           "xaxis": "x",
           "y": {
            "bdata": "AAAAErNt0UE=",
            "dtype": "f8"
           },
           "yaxis": "y"
          },
          {
           "hovertemplate": "Grupo de Ingreso=Middle income<br>Year=2020<br>Tasa De Fertilidad (Hijos Por Mujer)=%{x}<br>Población Urbanizada=%{y}<extra></extra>",
           "legendgroup": "Middle income",
           "marker": {
            "color": "#ab63fa",
            "symbol": "circle"
           },
           "mode": "markers",
           "name": "Middle income",
           "orientation": "v",
           "showlegend": true,
           "type": "scatter",
           "x": {
            "bdata": "rkfhehSuAUA=",
            "dtype": "f8"
           },
           "xaxis": "x",
           "y": {
            "bdata": "AAAAY3WF5kE=",
            "dtype": "f8"
           },
           "yaxis": "y"
          },
          {
           "hovertemplate": "Grupo de Ingreso=Upper middle income<br>Year=2020<br>Tasa De Fertilidad (Hijos Por Mujer)=%{x}<br>Población Urbanizada=%{y}<extra></extra>",
           "legendgroup": "Upper middle income",
           "marker": {
            "color": "#FFA15A",
            "symbol": "circle"
           },
           "mode": "markers",
           "name": "Upper middle income",
           "orientation": "v",
           "showlegend": true,
           "type": "scatter",
           "x": {
            "bdata": "j8L1KFyP+j8=",
            "dtype": "f8"
           },
           "xaxis": "x",
           "y": {
            "bdata": "AAAAtDed20E=",
            "dtype": "f8"
           },
           "yaxis": "y"
          }
         ],
         "name": "2020"
        },
        {
         "data": [
          {
           "hovertemplate": "Grupo de Ingreso=High income<br>Year=2021<br>Tasa De Fertilidad (Hijos Por Mujer)=%{x}<br>Población Urbanizada=%{y}<extra></extra>",
           "legendgroup": "High income",
           "marker": {
            "color": "#636efa",
            "symbol": "circle"
           },
           "mode": "markers",
           "name": "High income",
           "orientation": "v",
           "showlegend": true,
           "type": "scatter",
           "x": {
            "bdata": "pHA9Ctej+D8=",
            "dtype": "f8"
           },
           "xaxis": "x",
           "y": {
            "bdata": "AADAHJmv0EE=",
            "dtype": "f8"
           },
           "yaxis": "y"
          },
          {
           "hovertemplate": "Grupo de Ingreso=Low income<br>Year=2021<br>Tasa De Fertilidad (Hijos Por Mujer)=%{x}<br>Población Urbanizada=%{y}<extra></extra>",
           "legendgroup": "Low income",
           "marker": {
            "color": "#EF553B",
            "symbol": "circle"
           },
           "mode": "markers",
           "name": "Low income",
           "orientation": "v",
           "showlegend": true,
           "type": "scatter",
           "x": {
            "bdata": "hetRuB6FEkA=",
            "dtype": "f8"
           },
           "xaxis": "x",
           "y": {
            "bdata": "AAAA4J1mrEE=",
            "dtype": "f8"
           },
           "yaxis": "y"
          },
          {
           "hovertemplate": "Grupo de Ingreso=Lower middle income<br>Year=2021<br>Tasa De Fertilidad (Hijos Por Mujer)=%{x}<br>Población Urbanizada=%{y}<extra></extra>",
           "legendgroup": "Lower middle income",
           "marker": {
            "color": "#00cc96",
            "symbol": "circle"
           },
           "mode": "markers",
           "name": "Lower middle income",
           "orientation": "v",
           "showlegend": true,
           "type": "scatter",
           "x": {
            "bdata": "cT0K16NwBUA=",
            "dtype": "f8"
           },
           "xaxis": "x",
           "y": {
            "bdata": "AAAAHs7f0UE=",
            "dtype": "f8"
           },
           "yaxis": "y"
          },
          {
           "hovertemplate": "Grupo de Ingreso=Middle income<br>Year=2021<br>Tasa De Fertilidad (Hijos Por Mujer)=%{x}<br>Población Urbanizada=%{y}<extra></extra>",
           "legendgroup": "Middle income",
           "marker": {
            "color": "#ab63fa",
            "symbol": "circle"
           },
           "mode": "markers",
           "name": "Middle income",
           "orientation": "v",
           "showlegend": true,
           "type": "scatter",
           "x": {
            "bdata": "XI/C9ShcAUA=",
            "dtype": "f8"
           },
           "xaxis": "x",
           "y": {
            "bdata": "AACA5NT15kE=",
            "dtype": "f8"
           },
           "yaxis": "y"
          },
          {
           "hovertemplate": "Grupo de Ingreso=Upper middle income<br>Year=2021<br>Tasa De Fertilidad (Hijos Por Mujer)=%{x}<br>Población Urbanizada=%{y}<extra></extra>",
           "legendgroup": "Upper middle income",
           "marker": {
            "color": "#FFA15A",
            "symbol": "circle"
           },
           "mode": "markers",
           "name": "Upper middle income",
           "orientation": "v",
           "showlegend": true,
           "type": "scatter",
           "x": {
            "bdata": "cT0K16Nw+T8=",
            "dtype": "f8"
           },
           "xaxis": "x",
           "y": {
            "bdata": "AAAAq9sL3EE=",
            "dtype": "f8"
           },
           "yaxis": "y"
          }
         ],
         "name": "2021"
        },
        {
         "data": [
          {
           "hovertemplate": "Grupo de Ingreso=High income<br>Year=2022<br>Tasa De Fertilidad (Hijos Por Mujer)=%{x}<br>Población Urbanizada=%{y}<extra></extra>",
           "legendgroup": "High income",
           "marker": {
            "color": "#636efa",
            "symbol": "circle"
           },
           "mode": "markers",
           "name": "High income",
           "orientation": "v",
           "showlegend": true,
           "type": "scatter",
           "x": {
            "bdata": "AAAAAAAA+D8=",
            "dtype": "f8"
           },
           "xaxis": "x",
           "y": {
            "bdata": "AADA8unM0EE=",
            "dtype": "f8"
           },
           "yaxis": "y"
          },
          {
           "hovertemplate": "Grupo de Ingreso=Low income<br>Year=2022<br>Tasa De Fertilidad (Hijos Por Mujer)=%{x}<br>Población Urbanizada=%{y}<extra></extra>",
           "legendgroup": "Low income",
           "marker": {
            "color": "#EF553B",
            "symbol": "circle"
           },
           "mode": "markers",
           "name": "Low income",
           "orientation": "v",
           "showlegend": true,
           "type": "scatter",
           "x": {
            "bdata": "MzMzMzMzEkA=",
            "dtype": "f8"
           },
           "xaxis": "x",
           "y": {
            "bdata": "AAAA4HWTrUE=",
            "dtype": "f8"
           },
           "yaxis": "y"
          },
          {
           "hovertemplate": "Grupo de Ingreso=Lower middle income<br>Year=2022<br>Tasa De Fertilidad (Hijos Por Mujer)=%{x}<br>Población Urbanizada=%{y}<extra></extra>",
           "legendgroup": "Lower middle income",
           "marker": {
            "color": "#00cc96",
            "symbol": "circle"
           },
           "mode": "markers",
           "name": "Lower middle income",
           "orientation": "v",
           "showlegend": true,
           "type": "scatter",
           "x": {
            "bdata": "SOF6FK5HBUA=",
            "dtype": "f8"
           },
           "xaxis": "x",
           "y": {
            "bdata": "AADA7MNT0kE=",
            "dtype": "f8"
           },
           "yaxis": "y"
          },
          {
           "hovertemplate": "Grupo de Ingreso=Middle income<br>Year=2022<br>Tasa De Fertilidad (Hijos Por Mujer)=%{x}<br>Población Urbanizada=%{y}<extra></extra>",
           "legendgroup": "Middle income",
           "marker": {
            "color": "#ab63fa",
            "symbol": "circle"
           },
           "mode": "markers",
           "name": "Middle income",
           "orientation": "v",
           "showlegend": true,
           "type": "scatter",
           "x": {
            "bdata": "SOF6FK5HAUA=",
            "dtype": "f8"
           },
           "xaxis": "x",
           "y": {
            "bdata": "AAAAkiNh50E=",
            "dtype": "f8"
           },
           "yaxis": "y"
          },
          {
           "hovertemplate": "Grupo de Ingreso=Upper middle income<br>Year=2022<br>Tasa De Fertilidad (Hijos Por Mujer)=%{x}<br>Población Urbanizada=%{y}<extra></extra>",
           "legendgroup": "Upper middle income",
           "marker": {
            "color": "#FFA15A",
            "symbol": "circle"
           },
           "mode": "markers",
           "name": "Upper middle income",
           "orientation": "v",
           "showlegend": true,
           "type": "scatter",
           "x": {
            "bdata": "cT0K16Nw+T8=",
            "dtype": "f8"
           },
           "xaxis": "x",
           "y": {
            "bdata": "AABAN4Nu3EE=",
            "dtype": "f8"
           },
           "yaxis": "y"
          }
         ],
         "name": "2022"
        }
       ],
       "layout": {
        "legend": {
         "title": {
          "text": "Grupo de Ingreso"
         },
         "tracegroupgap": 0
        },
        "sliders": [
         {
          "active": 0,
          "currentvalue": {
           "prefix": "Año="
          },
          "len": 0.9,
          "pad": {
           "b": 10,
           "t": 60
          },
          "steps": [
           {
            "args": [
             [
              "1974"
             ],
             {
              "frame": {
               "duration": 0,
               "redraw": false
              },
              "fromcurrent": true,
              "mode": "immediate",
              "transition": {
               "duration": 0,
               "easing": "linear"
              }
             }
            ],
            "label": "1974",
            "method": "animate"
           },
           {
            "args": [
             [
              "1975"
             ],
             {
              "frame": {
               "duration": 0,
               "redraw": false
              },
              "fromcurrent": true,
              "mode": "immediate",
              "transition": {
               "duration": 0,
               "easing": "linear"
              }
             }
            ],
            "label": "1975",
            "method": "animate"
           },
           {
            "args": [
             [
              "1976"
             ],
             {
              "frame": {
               "duration": 0,
               "redraw": false
              },
              "fromcurrent": true,
              "mode": "immediate",
              "transition": {
               "duration": 0,
               "easing": "linear"
              }
             }
            ],
            "label": "1976",
            "method": "animate"
           },
           {
            "args": [
             [
              "1977"
             ],
             {
              "frame": {
               "duration": 0,
               "redraw": false
              },
              "fromcurrent": true,
              "mode": "immediate",
              "transition": {
               "duration": 0,
               "easing": "linear"
              }
             }
            ],
            "label": "1977",
            "method": "animate"
           },
           {
            "args": [
             [
              "1978"
             ],
             {
              "frame": {
               "duration": 0,
               "redraw": false
              },
              "fromcurrent": true,
              "mode": "immediate",
              "transition": {
               "duration": 0,
               "easing": "linear"
              }
             }
            ],
            "label": "1978",
            "method": "animate"
           },
           {
            "args": [
             [
              "1979"
             ],
             {
              "frame": {
               "duration": 0,
               "redraw": false
              },
              "fromcurrent": true,
              "mode": "immediate",
              "transition": {
               "duration": 0,
               "easing": "linear"
              }
             }
            ],
            "label": "1979",
            "method": "animate"
           },
           {
            "args": [
             [
              "1980"
             ],
             {
              "frame": {
               "duration": 0,
               "redraw": false
              },
              "fromcurrent": true,
              "mode": "immediate",
              "transition": {
               "duration": 0,
               "easing": "linear"
              }
             }
            ],
            "label": "1980",
            "method": "animate"
           },
           {
            "args": [
             [
              "1981"
             ],
             {
              "frame": {
               "duration": 0,
               "redraw": false
              },
              "fromcurrent": true,
              "mode": "immediate",
              "transition": {
               "duration": 0,
               "easing": "linear"
              }
             }
            ],
            "label": "1981",
            "method": "animate"
           },
           {
            "args": [
             [
              "1982"
             ],
             {
              "frame": {
               "duration": 0,
               "redraw": false
              },
              "fromcurrent": true,
              "mode": "immediate",
              "transition": {
               "duration": 0,
               "easing": "linear"
              }
             }
            ],
            "label": "1982",
            "method": "animate"
           },
           {
            "args": [
             [
              "1983"
             ],
             {
              "frame": {
               "duration": 0,
               "redraw": false
              },
              "fromcurrent": true,
              "mode": "immediate",
              "transition": {
               "duration": 0,
               "easing": "linear"
              }
             }
            ],
            "label": "1983",
            "method": "animate"
           },
           {
            "args": [
             [
              "1984"
             ],
             {
              "frame": {
               "duration": 0,
               "redraw": false
              },
              "fromcurrent": true,
              "mode": "immediate",
              "transition": {
               "duration": 0,
               "easing": "linear"
              }
             }
            ],
            "label": "1984",
            "method": "animate"
           },
           {
            "args": [
             [
              "1985"
             ],
             {
              "frame": {
               "duration": 0,
               "redraw": false
              },
              "fromcurrent": true,
              "mode": "immediate",
              "transition": {
               "duration": 0,
               "easing": "linear"
              }
             }
            ],
            "label": "1985",
            "method": "animate"
           },
           {
            "args": [
             [
              "1986"
             ],
             {
              "frame": {
               "duration": 0,
               "redraw": false
              },
              "fromcurrent": true,
              "mode": "immediate",
              "transition": {
               "duration": 0,
               "easing": "linear"
              }
             }
            ],
            "label": "1986",
            "method": "animate"
           },
           {
            "args": [
             [
              "1987"
             ],
             {
              "frame": {
               "duration": 0,
               "redraw": false
              },
              "fromcurrent": true,
              "mode": "immediate",
              "transition": {
               "duration": 0,
               "easing": "linear"
              }
             }
            ],
            "label": "1987",
            "method": "animate"
           },
           {
            "args": [
             [
              "1988"
             ],
             {
              "frame": {
               "duration": 0,
               "redraw": false
              },
              "fromcurrent": true,
              "mode": "immediate",
              "transition": {
               "duration": 0,
               "easing": "linear"
              }
             }
            ],
            "label": "1988",
            "method": "animate"
           },
           {
            "args": [
             [
              "1989"
             ],
             {
              "frame": {
               "duration": 0,
               "redraw": false
              },
              "fromcurrent": true,
              "mode": "immediate",
              "transition": {
               "duration": 0,
               "easing": "linear"
              }
             }
            ],
            "label": "1989",
            "method": "animate"
           },
           {
            "args": [
             [
              "1990"
             ],
             {
              "frame": {
               "duration": 0,
               "redraw": false
              },
              "fromcurrent": true,
              "mode": "immediate",
              "transition": {
               "duration": 0,
               "easing": "linear"
              }
             }
            ],
            "label": "1990",
            "method": "animate"
           },
           {
            "args": [
             [
              "1991"
             ],
             {
              "frame": {
               "duration": 0,
               "redraw": false
              },
              "fromcurrent": true,
              "mode": "immediate",
              "transition": {
               "duration": 0,
               "easing": "linear"
              }
             }
            ],
            "label": "1991",
            "method": "animate"
           },
           {
            "args": [
             [
              "1992"
             ],
             {
              "frame": {
               "duration": 0,
               "redraw": false
              },
              "fromcurrent": true,
              "mode": "immediate",
              "transition": {
               "duration": 0,
               "easing": "linear"
              }
             }
            ],
            "label": "1992",
            "method": "animate"
           },
           {
            "args": [
             [
              "1993"
             ],
             {
              "frame": {
               "duration": 0,
               "redraw": false
              },
              "fromcurrent": true,
              "mode": "immediate",
              "transition": {
               "duration": 0,
               "easing": "linear"
              }
             }
            ],
            "label": "1993",
            "method": "animate"
           },
           {
            "args": [
             [
              "1994"
             ],
             {
              "frame": {
               "duration": 0,
               "redraw": false
              },
              "fromcurrent": true,
              "mode": "immediate",
              "transition": {
               "duration": 0,
               "easing": "linear"
              }
             }
            ],
            "label": "1994",
            "method": "animate"
           },
           {
            "args": [
             [
              "1995"
             ],
             {
              "frame": {
               "duration": 0,
               "redraw": false
              },
              "fromcurrent": true,
              "mode": "immediate",
              "transition": {
               "duration": 0,
               "easing": "linear"
              }
             }
            ],
            "label": "1995",
            "method": "animate"
           },
           {
            "args": [
             [
              "1996"
             ],
             {
              "frame": {
               "duration": 0,
               "redraw": false
              },
              "fromcurrent": true,
              "mode": "immediate",
              "transition": {
               "duration": 0,
               "easing": "linear"
              }
             }
            ],
            "label": "1996",
            "method": "animate"
           },
           {
            "args": [
             [
              "1997"
             ],
             {
              "frame": {
               "duration": 0,
               "redraw": false
              },
              "fromcurrent": true,
              "mode": "immediate",
              "transition": {
               "duration": 0,
               "easing": "linear"
              }
             }
            ],
            "label": "1997",
            "method": "animate"
           },
           {
            "args": [
             [
              "1998"
             ],
             {
              "frame": {
               "duration": 0,
               "redraw": false
              },
              "fromcurrent": true,
              "mode": "immediate",
              "transition": {
               "duration": 0,
               "easing": "linear"
              }
             }
            ],
            "label": "1998",
            "method": "animate"
           },
           {
            "args": [
             [
              "1999"
             ],
             {
              "frame": {
               "duration": 0,
               "redraw": false
              },
              "fromcurrent": true,
              "mode": "immediate",
              "transition": {
               "duration": 0,
               "easing": "linear"
              }
             }
            ],
            "label": "1999",
            "method": "animate"
           },
           {
            "args": [
             [
              "2000"
             ],
             {
              "frame": {
               "duration": 0,
               "redraw": false
              },
              "fromcurrent": true,
              "mode": "immediate",
              "transition": {
               "duration": 0,
               "easing": "linear"
              }
             }
            ],
            "label": "2000",
            "method": "animate"
           },
           {
            "args": [
             [
              "2001"
             ],
             {
              "frame": {
               "duration": 0,
               "redraw": false
              },
              "fromcurrent": true,
              "mode": "immediate",
              "transition": {
               "duration": 0,
               "easing": "linear"
              }
             }
            ],
            "label": "2001",
            "method": "animate"
           },
           {
            "args": [
             [
              "2002"
             ],
             {
              "frame": {
               "duration": 0,
               "redraw": false
              },
              "fromcurrent": true,
              "mode": "immediate",
              "transition": {
               "duration": 0,
               "easing": "linear"
              }
             }
            ],
            "label": "2002",
            "method": "animate"
           },
           {
            "args": [
             [
              "2003"
             ],
             {
              "frame": {
               "duration": 0,
               "redraw": false
              },
              "fromcurrent": true,
              "mode": "immediate",
              "transition": {
               "duration": 0,
               "easing": "linear"
              }
             }
            ],
            "label": "2003",
            "method": "animate"
           },
           {
            "args": [
             [
              "2004"
             ],
             {
              "frame": {
               "duration": 0,
               "redraw": false
              },
              "fromcurrent": true,
              "mode": "immediate",
              "transition": {
               "duration": 0,
               "easing": "linear"
              }
             }
            ],
            "label": "2004",
            "method": "animate"
           },
           {
            "args": [
             [
              "2005"
             ],
             {
              "frame": {
               "duration": 0,
               "redraw": false
              },
              "fromcurrent": true,
              "mode": "immediate",
              "transition": {
               "duration": 0,
               "easing": "linear"
              }
             }
            ],
            "label": "2005",
            "method": "animate"
           },
           {
            "args": [
             [
              "2006"
             ],
             {
              "frame": {
               "duration": 0,
               "redraw": false
              },
              "fromcurrent": true,
              "mode": "immediate",
              "transition": {
               "duration": 0,
               "easing": "linear"
              }
             }
            ],
            "label": "2006",
            "method": "animate"
           },
           {
            "args": [
             [
              "2007"
             ],
             {
              "frame": {
               "duration": 0,
               "redraw": false
              },
              "fromcurrent": true,
              "mode": "immediate",
              "transition": {
               "duration": 0,
               "easing": "linear"
              }
             }
            ],
            "label": "2007",
            "method": "animate"
           },
           {
            "args": [
             [
              "2008"
             ],
             {
              "frame": {
               "duration": 0,
               "redraw": false
              },
              "fromcurrent": true,
              "mode": "immediate",
              "transition": {
               "duration": 0,
               "easing": "linear"
              }
             }
            ],
            "label": "2008",
            "method": "animate"
           },
           {
            "args": [
             [
              "2009"
             ],
             {
              "frame": {
               "duration": 0,
               "redraw": false
              },
              "fromcurrent": true,
              "mode": "immediate",
              "transition": {
               "duration": 0,
               "easing": "linear"
              }
             }
            ],
            "label": "2009",
            "method": "animate"
           },
           {
            "args": [
             [
              "2010"
             ],
             {
              "frame": {
               "duration": 0,
               "redraw": false
              },
              "fromcurrent": true,
              "mode": "immediate",
              "transition": {
               "duration": 0,
               "easing": "linear"
              }
             }
            ],
            "label": "2010",
            "method": "animate"
           },
           {
            "args": [
             [
              "2011"
             ],
             {
              "frame": {
               "duration": 0,
               "redraw": false
              },
              "fromcurrent": true,
              "mode": "immediate",
              "transition": {
               "duration": 0,
               "easing": "linear"
              }
             }
            ],
            "label": "2011",
            "method": "animate"
           },
           {
            "args": [
             [
              "2012"
             ],
             {
              "frame": {
               "duration": 0,
               "redraw": false
              },
              "fromcurrent": true,
              "mode": "immediate",
              "transition": {
               "duration": 0,
               "easing": "linear"
              }
             }
            ],
            "label": "2012",
            "method": "animate"
           },
           {
            "args": [
             [
              "2013"
             ],
             {
              "frame": {
               "duration": 0,
               "redraw": false
              },
              "fromcurrent": true,
              "mode": "immediate",
              "transition": {
               "duration": 0,
               "easing": "linear"
              }
             }
            ],
            "label": "2013",
            "method": "animate"
           },
           {
            "args": [
             [
              "2014"
             ],
             {
              "frame": {
               "duration": 0,
               "redraw": false
              },
              "fromcurrent": true,
              "mode": "immediate",
              "transition": {
               "duration": 0,
               "easing": "linear"
              }
             }
            ],
            "label": "2014",
            "method": "animate"
           },
           {
            "args": [
             [
              "2015"
             ],
             {
              "frame": {
               "duration": 0,
               "redraw": false
              },
              "fromcurrent": true,
              "mode": "immediate",
              "transition": {
               "duration": 0,
               "easing": "linear"
              }
             }
            ],
            "label": "2015",
            "method": "animate"
           },
           {
            "args": [
             [
              "2016"
             ],
             {
              "frame": {
               "duration": 0,
               "redraw": false
              },
              "fromcurrent": true,
              "mode": "immediate",
              "transition": {
               "duration": 0,
               "easing": "linear"
              }
             }
            ],
            "label": "2016",
            "method": "animate"
           },
           {
            "args": [
             [
              "2017"
             ],
             {
              "frame": {
               "duration": 0,
               "redraw": false
              },
              "fromcurrent": true,
              "mode": "immediate",
              "transition": {
               "duration": 0,
               "easing": "linear"
              }
             }
            ],
            "label": "2017",
            "method": "animate"
           },
           {
            "args": [
             [
              "2018"
             ],
             {
              "frame": {
               "duration": 0,
               "redraw": false
              },
              "fromcurrent": true,
              "mode": "immediate",
              "transition": {
               "duration": 0,
               "easing": "linear"
              }
             }
            ],
            "label": "2018",
            "method": "animate"
           },
           {
            "args": [
             [
              "2019"
             ],
             {
              "frame": {
               "duration": 0,
               "redraw": false
              },
              "fromcurrent": true,
              "mode": "immediate",
              "transition": {
               "duration": 0,
               "easing": "linear"
              }
             }
            ],
            "label": "2019",
            "method": "animate"
           },
           {
            "args": [
             [
              "2020"
             ],
             {
              "frame": {
               "duration": 0,
               "redraw": false
              },
              "fromcurrent": true,
              "mode": "immediate",
              "transition": {
               "duration": 0,
               "easing": "linear"
              }
             }
            ],
            "label": "2020",
            "method": "animate"
           },
           {
            "args": [
             [
              "2021"
             ],
             {
              "frame": {
               "duration": 0,
               "redraw": false
              },
              "fromcurrent": true,
              "mode": "immediate",
              "transition": {
               "duration": 0,
               "easing": "linear"
              }
             }
            ],
            "label": "2021",
            "method": "animate"
           },
           {
            "args": [
             [
              "2022"
             ],
             {
              "frame": {
               "duration": 0,
               "redraw": false
              },
              "fromcurrent": true,
              "mode": "immediate",
              "transition": {
               "duration": 0,
               "easing": "linear"
              }
             }
            ],
            "label": "2022",
            "method": "animate"
           }
          ],
          "x": 0.1,
          "xanchor": "left",
          "y": 0,
          "yanchor": "top"
         }
        ],
        "template": {
         "data": {
          "bar": [
           {
            "error_x": {
             "color": "#2a3f5f"
            },
            "error_y": {
             "color": "#2a3f5f"
            },
            "marker": {
             "line": {
              "color": "#E5ECF6",
              "width": 0.5
             },
             "pattern": {
              "fillmode": "overlay",
              "size": 10,
              "solidity": 0.2
             }
            },
            "type": "bar"
           }
          ],
          "barpolar": [
           {
            "marker": {
             "line": {
              "color": "#E5ECF6",
              "width": 0.5
             },
             "pattern": {
              "fillmode": "overlay",
              "size": 10,
              "solidity": 0.2
             }
            },
            "type": "barpolar"
           }
          ],
          "carpet": [
           {
            "aaxis": {
             "endlinecolor": "#2a3f5f",
             "gridcolor": "white",
             "linecolor": "white",
             "minorgridcolor": "white",
             "startlinecolor": "#2a3f5f"
            },
            "baxis": {
             "endlinecolor": "#2a3f5f",
             "gridcolor": "white",
             "linecolor": "white",
             "minorgridcolor": "white",
             "startlinecolor": "#2a3f5f"
            },
            "type": "carpet"
           }
          ],
          "choropleth": [
           {
            "colorbar": {
             "outlinewidth": 0,
             "ticks": ""
            },
            "type": "choropleth"
           }
          ],
          "contour": [
           {
            "colorbar": {
             "outlinewidth": 0,
             "ticks": ""
            },
            "colorscale": [
             [
              0,
              "#0d0887"
             ],
             [
              0.1111111111111111,
              "#46039f"
             ],
             [
              0.2222222222222222,
              "#7201a8"
             ],
             [
              0.3333333333333333,
              "#9c179e"
             ],
             [
              0.4444444444444444,
              "#bd3786"
             ],
             [
              0.5555555555555556,
              "#d8576b"
             ],
             [
              0.6666666666666666,
              "#ed7953"
             ],
             [
              0.7777777777777778,
              "#fb9f3a"
             ],
             [
              0.8888888888888888,
              "#fdca26"
             ],
             [
              1,
              "#f0f921"
             ]
            ],
            "type": "contour"
           }
          ],
          "contourcarpet": [
           {
            "colorbar": {
             "outlinewidth": 0,
             "ticks": ""
            },
            "type": "contourcarpet"
           }
          ],
          "heatmap": [
           {
            "colorbar": {
             "outlinewidth": 0,
             "ticks": ""
            },
            "colorscale": [
             [
              0,
              "#0d0887"
             ],
             [
              0.1111111111111111,
              "#46039f"
             ],
             [
              0.2222222222222222,
              "#7201a8"
             ],
             [
              0.3333333333333333,
              "#9c179e"
             ],
             [
              0.4444444444444444,
              "#bd3786"
             ],
             [
              0.5555555555555556,
              "#d8576b"
             ],
             [
              0.6666666666666666,
              "#ed7953"
             ],
             [
              0.7777777777777778,
              "#fb9f3a"
             ],
             [
              0.8888888888888888,
              "#fdca26"
             ],
             [
              1,
              "#f0f921"
             ]
            ],
            "type": "heatmap"
           }
          ],
          "histogram": [
           {
            "marker": {
             "pattern": {
              "fillmode": "overlay",
              "size": 10,
              "solidity": 0.2
             }
            },
            "type": "histogram"
           }
          ],
          "histogram2d": [
           {
            "colorbar": {
             "outlinewidth": 0,
             "ticks": ""
            },
            "colorscale": [
             [
              0,
              "#0d0887"
             ],
             [
              0.1111111111111111,
              "#46039f"
             ],
             [
              0.2222222222222222,
              "#7201a8"
             ],
             [
              0.3333333333333333,
              "#9c179e"
             ],
             [
              0.4444444444444444,
              "#bd3786"
             ],
             [
              0.5555555555555556,
              "#d8576b"
             ],
             [
              0.6666666666666666,
              "#ed7953"
             ],
             [
              0.7777777777777778,
              "#fb9f3a"
             ],
             [
              0.8888888888888888,
              "#fdca26"
             ],
             [
              1,
              "#f0f921"
             ]
            ],
            "type": "histogram2d"
           }
          ],
          "histogram2dcontour": [
           {
            "colorbar": {
             "outlinewidth": 0,
             "ticks": ""
            },
            "colorscale": [
             [
              0,
              "#0d0887"
             ],
             [
              0.1111111111111111,
              "#46039f"
             ],
             [
              0.2222222222222222,
              "#7201a8"
             ],
             [
              0.3333333333333333,
              "#9c179e"
             ],
             [
              0.4444444444444444,
              "#bd3786"
             ],
             [
              0.5555555555555556,
              "#d8576b"
             ],
             [
              0.6666666666666666,
              "#ed7953"
             ],
             [
              0.7777777777777778,
              "#fb9f3a"
             ],
             [
              0.8888888888888888,
              "#fdca26"
             ],
             [
              1,
              "#f0f921"
             ]
            ],
            "type": "histogram2dcontour"
           }
          ],
          "mesh3d": [
           {
            "colorbar": {
             "outlinewidth": 0,
             "ticks": ""
            },
            "type": "mesh3d"
           }
          ],
          "parcoords": [
           {
            "line": {
             "colorbar": {
              "outlinewidth": 0,
              "ticks": ""
             }
            },
            "type": "parcoords"
           }
          ],
          "pie": [
           {
            "automargin": true,
            "type": "pie"
           }
          ],
          "scatter": [
           {
            "fillpattern": {
             "fillmode": "overlay",
             "size": 10,
             "solidity": 0.2
            },
            "type": "scatter"
           }
          ],
          "scatter3d": [
           {
            "line": {
             "colorbar": {
              "outlinewidth": 0,
              "ticks": ""
             }
            },
            "marker": {
             "colorbar": {
              "outlinewidth": 0,
              "ticks": ""
             }
            },
            "type": "scatter3d"
           }
          ],
          "scattercarpet": [
           {
            "marker": {
             "colorbar": {
              "outlinewidth": 0,
              "ticks": ""
             }
            },
            "type": "scattercarpet"
           }
          ],
          "scattergeo": [
           {
            "marker": {
             "colorbar": {
              "outlinewidth": 0,
              "ticks": ""
             }
            },
            "type": "scattergeo"
           }
          ],
          "scattergl": [
           {
            "marker": {
             "colorbar": {
              "outlinewidth": 0,
              "ticks": ""
             }
            },
            "type": "scattergl"
           }
          ],
          "scattermap": [
           {
            "marker": {
             "colorbar": {
              "outlinewidth": 0,
              "ticks": ""
             }
            },
            "type": "scattermap"
           }
          ],
          "scattermapbox": [
           {
            "marker": {
             "colorbar": {
              "outlinewidth": 0,
              "ticks": ""
             }
            },
            "type": "scattermapbox"
           }
          ],
          "scatterpolar": [
           {
            "marker": {
             "colorbar": {
              "outlinewidth": 0,
              "ticks": ""
             }
            },
            "type": "scatterpolar"
           }
          ],
          "scatterpolargl": [
           {
            "marker": {
             "colorbar": {
              "outlinewidth": 0,
              "ticks": ""
             }
            },
            "type": "scatterpolargl"
           }
          ],
          "scatterternary": [
           {
            "marker": {
             "colorbar": {
              "outlinewidth": 0,
              "ticks": ""
             }
            },
            "type": "scatterternary"
           }
          ],
          "surface": [
           {
            "colorbar": {
             "outlinewidth": 0,
             "ticks": ""
            },
            "colorscale": [
             [
              0,
              "#0d0887"
             ],
             [
              0.1111111111111111,
              "#46039f"
             ],
             [
              0.2222222222222222,
              "#7201a8"
             ],
             [
              0.3333333333333333,
              "#9c179e"
             ],
             [
              0.4444444444444444,
              "#bd3786"
             ],
             [
              0.5555555555555556,
              "#d8576b"
             ],
             [
              0.6666666666666666,
              "#ed7953"
             ],
             [
              0.7777777777777778,
              "#fb9f3a"
             ],
             [
              0.8888888888888888,
              "#fdca26"
             ],
             [
              1,
              "#f0f921"
             ]
            ],
            "type": "surface"
           }
          ],
          "table": [
           {
            "cells": {
             "fill": {
              "color": "#EBF0F8"
             },
             "line": {
              "color": "white"
             }
            },
            "header": {
             "fill": {
              "color": "#C8D4E3"
             },
             "line": {
              "color": "white"
             }
            },
            "type": "table"
           }
          ]
         },
         "layout": {
          "annotationdefaults": {
           "arrowcolor": "#2a3f5f",
           "arrowhead": 0,
           "arrowwidth": 1
          },
          "autotypenumbers": "strict",
          "coloraxis": {
           "colorbar": {
            "outlinewidth": 0,
            "ticks": ""
           }
          },
          "colorscale": {
           "diverging": [
            [
             0,
             "#8e0152"
            ],
            [
             0.1,
             "#c51b7d"
            ],
            [
             0.2,
             "#de77ae"
            ],
            [
             0.3,
             "#f1b6da"
            ],
            [
             0.4,
             "#fde0ef"
            ],
            [
             0.5,
             "#f7f7f7"
            ],
            [
             0.6,
             "#e6f5d0"
            ],
            [
             0.7,
             "#b8e186"
            ],
            [
             0.8,
             "#7fbc41"
            ],
            [
             0.9,
             "#4d9221"
            ],
            [
             1,
             "#276419"
            ]
           ],
           "sequential": [
            [
             0,
             "#0d0887"
            ],
            [
             0.1111111111111111,
             "#46039f"
            ],
            [
             0.2222222222222222,
             "#7201a8"
            ],
            [
             0.3333333333333333,
             "#9c179e"
            ],
            [
             0.4444444444444444,
             "#bd3786"
            ],
            [
             0.5555555555555556,
             "#d8576b"
            ],
            [
             0.6666666666666666,
             "#ed7953"
            ],
            [
             0.7777777777777778,
             "#fb9f3a"
            ],
            [
             0.8888888888888888,
             "#fdca26"
            ],
            [
             1,
             "#f0f921"
            ]
           ],
           "sequentialminus": [
            [
             0,
             "#0d0887"
            ],
            [
             0.1111111111111111,
             "#46039f"
            ],
            [
             0.2222222222222222,
             "#7201a8"
            ],
            [
             0.3333333333333333,
             "#9c179e"
            ],
            [
             0.4444444444444444,
             "#bd3786"
            ],
            [
             0.5555555555555556,
             "#d8576b"
            ],
            [
             0.6666666666666666,
             "#ed7953"
            ],
            [
             0.7777777777777778,
             "#fb9f3a"
            ],
            [
             0.8888888888888888,
             "#fdca26"
            ],
            [
             1,
             "#f0f921"
            ]
           ]
          },
          "colorway": [
           "#636efa",
           "#EF553B",
           "#00cc96",
           "#ab63fa",
           "#FFA15A",
           "#19d3f3",
           "#FF6692",
           "#B6E880",
           "#FF97FF",
           "#FECB52"
          ],
          "font": {
           "color": "#2a3f5f"
          },
          "geo": {
           "bgcolor": "white",
           "lakecolor": "white",
           "landcolor": "#E5ECF6",
           "showlakes": true,
           "showland": true,
           "subunitcolor": "white"
          },
          "hoverlabel": {
           "align": "left"
          },
          "hovermode": "closest",
          "mapbox": {
           "style": "light"
          },
          "paper_bgcolor": "white",
          "plot_bgcolor": "#E5ECF6",
          "polar": {
           "angularaxis": {
            "gridcolor": "white",
            "linecolor": "white",
            "ticks": ""
           },
           "bgcolor": "#E5ECF6",
           "radialaxis": {
            "gridcolor": "white",
            "linecolor": "white",
            "ticks": ""
           }
          },
          "scene": {
           "xaxis": {
            "backgroundcolor": "#E5ECF6",
            "gridcolor": "white",
            "gridwidth": 2,
            "linecolor": "white",
            "showbackground": true,
            "ticks": "",
            "zerolinecolor": "white"
           },
           "yaxis": {
            "backgroundcolor": "#E5ECF6",
            "gridcolor": "white",
            "gridwidth": 2,
            "linecolor": "white",
            "showbackground": true,
            "ticks": "",
            "zerolinecolor": "white"
           },
           "zaxis": {
            "backgroundcolor": "#E5ECF6",
            "gridcolor": "white",
            "gridwidth": 2,
            "linecolor": "white",
            "showbackground": true,
            "ticks": "",
            "zerolinecolor": "white"
           }
          },
          "shapedefaults": {
           "line": {
            "color": "#2a3f5f"
           }
          },
          "ternary": {
           "aaxis": {
            "gridcolor": "white",
            "linecolor": "white",
            "ticks": ""
           },
           "baxis": {
            "gridcolor": "white",
            "linecolor": "white",
            "ticks": ""
           },
           "bgcolor": "#E5ECF6",
           "caxis": {
            "gridcolor": "white",
            "linecolor": "white",
            "ticks": ""
           }
          },
          "title": {
           "x": 0.05
          },
          "xaxis": {
           "automargin": true,
           "gridcolor": "white",
           "linecolor": "white",
           "ticks": "",
           "title": {
            "standoff": 15
           },
           "zerolinecolor": "white",
           "zerolinewidth": 2
          },
          "yaxis": {
           "automargin": true,
           "gridcolor": "white",
           "linecolor": "white",
           "ticks": "",
           "title": {
            "standoff": 15
           },
           "zerolinecolor": "white",
           "zerolinewidth": 2
          }
         }
        },
        "title": {
         "text": "Índice De Fertilidad vs  Población Urbanizada (Grupos de Ingreso)"
        },
        "updatemenus": [
         {
          "buttons": [
           {
            "args": [
             null,
             {
              "frame": {
               "duration": 500,
               "redraw": false
              },
              "fromcurrent": true,
              "mode": "immediate",
              "transition": {
               "duration": 500,
               "easing": "linear"
              }
             }
            ],
            "label": "&#9654;",
            "method": "animate"
           },
           {
            "args": [
             [
              null
             ],
             {
              "frame": {
               "duration": 0,
               "redraw": false
              },
              "fromcurrent": true,
              "mode": "immediate",
              "transition": {
               "duration": 0,
               "easing": "linear"
              }
             }
            ],
            "label": "&#9724;",
            "method": "animate"
           }
          ],
          "direction": "left",
          "pad": {
           "r": 10,
           "t": 70
          },
          "showactive": false,
          "type": "buttons",
          "x": 0.1,
          "xanchor": "right",
          "y": 0,
          "yanchor": "top"
         }
        ],
        "xaxis": {
         "anchor": "y",
         "domain": [
          0,
          1
         ],
         "range": [
          0,
          7
         ],
         "title": {
          "text": "Tasa De Fertilidad (Hijos Por Mujer)"
         }
        },
        "yaxis": {
         "anchor": "x",
         "domain": [
          0,
          1
         ],
         "range": [
          0,
          3294833354.4
         ],
         "title": {
          "text": "Población Urbanizada"
         }
        }
       }
      }
     },
     "metadata": {},
     "output_type": "display_data"
    }
   ],
   "source": [
    "import plotly.express as px\n",
    "\n",
    "# Seleccionar columnas de años desde 1974 en adelante\n",
    "year_cols = [col for col in demographics.columns if col.isdigit() and int(col) >= 1974]\n",
    "\n",
    "# Lista de income groups a mostrar\n",
    "income_groups = [\n",
    "    'Upper middle income', 'Middle income', 'Lower middle income', 'Low income', 'High income'\n",
    "]\n",
    "\n",
    "# Filtrar para las dos series de interés y solo los grupos de ingreso\n",
    "df_fertility_income = demographics[\n",
    "    (demographics['Series Name'] == 'Fertility rate, total (births per woman)') &\n",
    "    (demographics['Country Name'].isin(income_groups))\n",
    "]\n",
    "df_urban_income = demographics[\n",
    "    (demographics['Series Name'] == 'Urban population') &\n",
    "    (demographics['Country Name'].isin(income_groups))\n",
    "]\n",
    "\n",
    "# Melt para formato largo\n",
    "fertility_melted_income = df_fertility_income.melt(\n",
    "    id_vars=['Country Name'],\n",
    "    value_vars=year_cols,\n",
    "    var_name='Year',\n",
    "    value_name='Tasa De Fertilidad (Hijos Por Mujer)'\n",
    ").dropna()\n",
    "\n",
    "urban_melted_income = df_urban_income.melt(\n",
    "    id_vars=['Country Name'],\n",
    "    value_vars=year_cols,\n",
    "    var_name='Year',\n",
    "    value_name='Población Urbanizada'\n",
    ").dropna()\n",
    "\n",
    "# Unir ambos dataframes por grupo de ingreso y año\n",
    "merged_income = pd.merge(\n",
    "    fertility_melted_income,\n",
    "    urban_melted_income,\n",
    "    on=['Country Name', 'Year'],\n",
    "    how='inner'\n",
    ")\n",
    "\n",
    "# Graficar dispersión diferenciando por grupo de ingreso\n",
    "fig = px.scatter(\n",
    "    merged_income,\n",
    "    x='Tasa De Fertilidad (Hijos Por Mujer)',\n",
    "    y='Población Urbanizada',\n",
    "    color='Country Name',\n",
    "    animation_frame='Year',\n",
    "    title='Índice De Fertilidad vs  Población Urbanizada (Grupos de Ingreso)',\n",
    "    labels={\n",
    "        'Tasa De Fertilidad (Hijos Por Mujer)': 'Tasa De Fertilidad (Hijos Por Mujer)',\n",
    "        'Población Urbanizada': 'Población Urbanizada',\n",
    "        'Country Name': 'Grupo de Ingreso'\n",
    "    }\n",
    ")\n",
    "\n",
    "fig.update_xaxes(range=[0, 7])\n",
    "fig.update_yaxes(range=[0, merged_income['Población Urbanizada'].max() * 1.05])\n",
    "fig.update_traces(marker=dict(size=12))\n",
    "\n",
    "# Cambiar la leyenda de \"Year=\" a \"Año=\"\n",
    "for frame in fig.frames:\n",
    "    frame.name = frame.name.replace(\"Year=\", \"Año=\")\n",
    "fig.layout.sliders[0].currentvalue.prefix = \"Año=\"\n",
    "\n",
    "fig.show()"
   ]
  },
  {
   "cell_type": "code",
   "execution_count": 60,
   "id": "a1ae2364",
   "metadata": {},
   "outputs": [
    {
     "data": {
      "application/vnd.plotly.v1+json": {
       "config": {
        "plotlyServerURL": "https://plot.ly"
       },
       "data": [
        {
         "hovertemplate": "Grupo de Tasa de Fertilidad=%{x}<br>Año=1974<br>Número de Países=%{y}<extra></extra>",
         "legendgroup": "Triplicación",
         "marker": {
          "color": "green",
          "pattern": {
           "shape": ""
          }
         },
         "name": "Triplicación",
         "orientation": "v",
         "showlegend": true,
         "textposition": "auto",
         "type": "bar",
         "x": [
          "Triplicación"
         ],
         "xaxis": "x",
         "y": {
          "bdata": "BA==",
          "dtype": "i1"
         },
         "yaxis": "y"
        },
        {
         "hovertemplate": "Grupo de Tasa de Fertilidad=%{x}<br>Año=1974<br>Número de Países=%{y}<extra></extra>",
         "legendgroup": "Duplicación",
         "marker": {
          "color": "blue",
          "pattern": {
           "shape": ""
          }
         },
         "name": "Duplicación",
         "orientation": "v",
         "showlegend": true,
         "textposition": "auto",
         "type": "bar",
         "x": [
          "Duplicación"
         ],
         "xaxis": "x",
         "y": {
          "bdata": "Bg==",
          "dtype": "i1"
         },
         "yaxis": "y"
        },
        {
         "hovertemplate": "Grupo de Tasa de Fertilidad=%{x}<br>Año=1974<br>Número de Países=%{y}<extra></extra>",
         "legendgroup": "Sobre el límite del equilibrio",
         "marker": {
          "color": "orange",
          "pattern": {
           "shape": ""
          }
         },
         "name": "Sobre el límite del equilibrio",
         "orientation": "v",
         "showlegend": true,
         "textposition": "auto",
         "type": "bar",
         "x": [
          "Sobre el límite del equilibrio"
         ],
         "xaxis": "x",
         "y": {
          "bdata": "Ag==",
          "dtype": "i1"
         },
         "yaxis": "y"
        },
        {
         "hovertemplate": "Grupo de Tasa de Fertilidad=%{x}<br>Año=1974<br>Número de Países=%{y}<extra></extra>",
         "legendgroup": "Bajo del límite de equilibrio",
         "marker": {
          "color": "red",
          "pattern": {
           "shape": ""
          }
         },
         "name": "Bajo del límite de equilibrio",
         "orientation": "v",
         "showlegend": true,
         "textposition": "auto",
         "type": "bar",
         "x": [
          "Bajo del límite de equilibrio"
         ],
         "xaxis": "x",
         "y": {
          "bdata": "AQ==",
          "dtype": "i1"
         },
         "yaxis": "y"
        }
       ],
       "frames": [
        {
         "data": [
          {
           "hovertemplate": "Grupo de Tasa de Fertilidad=%{x}<br>Año=1974<br>Número de Países=%{y}<extra></extra>",
           "legendgroup": "Triplicación",
           "marker": {
            "color": "green",
            "pattern": {
             "shape": ""
            }
           },
           "name": "Triplicación",
           "orientation": "v",
           "showlegend": true,
           "textposition": "auto",
           "type": "bar",
           "x": [
            "Triplicación"
           ],
           "xaxis": "x",
           "y": {
            "bdata": "BA==",
            "dtype": "i1"
           },
           "yaxis": "y"
          },
          {
           "hovertemplate": "Grupo de Tasa de Fertilidad=%{x}<br>Año=1974<br>Número de Países=%{y}<extra></extra>",
           "legendgroup": "Duplicación",
           "marker": {
            "color": "blue",
            "pattern": {
             "shape": ""
            }
           },
           "name": "Duplicación",
           "orientation": "v",
           "showlegend": true,
           "textposition": "auto",
           "type": "bar",
           "x": [
            "Duplicación"
           ],
           "xaxis": "x",
           "y": {
            "bdata": "Bg==",
            "dtype": "i1"
           },
           "yaxis": "y"
          },
          {
           "hovertemplate": "Grupo de Tasa de Fertilidad=%{x}<br>Año=1974<br>Número de Países=%{y}<extra></extra>",
           "legendgroup": "Sobre el límite del equilibrio",
           "marker": {
            "color": "orange",
            "pattern": {
             "shape": ""
            }
           },
           "name": "Sobre el límite del equilibrio",
           "orientation": "v",
           "showlegend": true,
           "textposition": "auto",
           "type": "bar",
           "x": [
            "Sobre el límite del equilibrio"
           ],
           "xaxis": "x",
           "y": {
            "bdata": "Ag==",
            "dtype": "i1"
           },
           "yaxis": "y"
          },
          {
           "hovertemplate": "Grupo de Tasa de Fertilidad=%{x}<br>Año=1974<br>Número de Países=%{y}<extra></extra>",
           "legendgroup": "Bajo del límite de equilibrio",
           "marker": {
            "color": "red",
            "pattern": {
             "shape": ""
            }
           },
           "name": "Bajo del límite de equilibrio",
           "orientation": "v",
           "showlegend": true,
           "textposition": "auto",
           "type": "bar",
           "x": [
            "Bajo del límite de equilibrio"
           ],
           "xaxis": "x",
           "y": {
            "bdata": "AQ==",
            "dtype": "i1"
           },
           "yaxis": "y"
          }
         ],
         "name": "1974"
        },
        {
         "data": [
          {
           "hovertemplate": "Grupo de Tasa de Fertilidad=%{x}<br>Año=1975<br>Número de Países=%{y}<extra></extra>",
           "legendgroup": "Triplicación",
           "marker": {
            "color": "green",
            "pattern": {
             "shape": ""
            }
           },
           "name": "Triplicación",
           "orientation": "v",
           "showlegend": true,
           "textposition": "auto",
           "type": "bar",
           "x": [
            "Triplicación"
           ],
           "xaxis": "x",
           "y": {
            "bdata": "BA==",
            "dtype": "i1"
           },
           "yaxis": "y"
          },
          {
           "hovertemplate": "Grupo de Tasa de Fertilidad=%{x}<br>Año=1975<br>Número de Países=%{y}<extra></extra>",
           "legendgroup": "Duplicación",
           "marker": {
            "color": "blue",
            "pattern": {
             "shape": ""
            }
           },
           "name": "Duplicación",
           "orientation": "v",
           "showlegend": true,
           "textposition": "auto",
           "type": "bar",
           "x": [
            "Duplicación"
           ],
           "xaxis": "x",
           "y": {
            "bdata": "BQ==",
            "dtype": "i1"
           },
           "yaxis": "y"
          },
          {
           "hovertemplate": "Grupo de Tasa de Fertilidad=%{x}<br>Año=1975<br>Número de Países=%{y}<extra></extra>",
           "legendgroup": "Sobre el límite del equilibrio",
           "marker": {
            "color": "orange",
            "pattern": {
             "shape": ""
            }
           },
           "name": "Sobre el límite del equilibrio",
           "orientation": "v",
           "showlegend": true,
           "textposition": "auto",
           "type": "bar",
           "x": [
            "Sobre el límite del equilibrio"
           ],
           "xaxis": "x",
           "y": {
            "bdata": "Ag==",
            "dtype": "i1"
           },
           "yaxis": "y"
          },
          {
           "hovertemplate": "Grupo de Tasa de Fertilidad=%{x}<br>Año=1975<br>Número de Países=%{y}<extra></extra>",
           "legendgroup": "Bajo del límite de equilibrio",
           "marker": {
            "color": "red",
            "pattern": {
             "shape": ""
            }
           },
           "name": "Bajo del límite de equilibrio",
           "orientation": "v",
           "showlegend": true,
           "textposition": "auto",
           "type": "bar",
           "x": [
            "Bajo del límite de equilibrio"
           ],
           "xaxis": "x",
           "y": {
            "bdata": "Ag==",
            "dtype": "i1"
           },
           "yaxis": "y"
          }
         ],
         "name": "1975"
        },
        {
         "data": [
          {
           "hovertemplate": "Grupo de Tasa de Fertilidad=%{x}<br>Año=1976<br>Número de Países=%{y}<extra></extra>",
           "legendgroup": "Triplicación",
           "marker": {
            "color": "green",
            "pattern": {
             "shape": ""
            }
           },
           "name": "Triplicación",
           "orientation": "v",
           "showlegend": true,
           "textposition": "auto",
           "type": "bar",
           "x": [
            "Triplicación"
           ],
           "xaxis": "x",
           "y": {
            "bdata": "BA==",
            "dtype": "i1"
           },
           "yaxis": "y"
          },
          {
           "hovertemplate": "Grupo de Tasa de Fertilidad=%{x}<br>Año=1976<br>Número de Países=%{y}<extra></extra>",
           "legendgroup": "Duplicación",
           "marker": {
            "color": "blue",
            "pattern": {
             "shape": ""
            }
           },
           "name": "Duplicación",
           "orientation": "v",
           "showlegend": true,
           "textposition": "auto",
           "type": "bar",
           "x": [
            "Duplicación"
           ],
           "xaxis": "x",
           "y": {
            "bdata": "BQ==",
            "dtype": "i1"
           },
           "yaxis": "y"
          },
          {
           "hovertemplate": "Grupo de Tasa de Fertilidad=%{x}<br>Año=1976<br>Número de Países=%{y}<extra></extra>",
           "legendgroup": "Sobre el límite del equilibrio",
           "marker": {
            "color": "orange",
            "pattern": {
             "shape": ""
            }
           },
           "name": "Sobre el límite del equilibrio",
           "orientation": "v",
           "showlegend": true,
           "textposition": "auto",
           "type": "bar",
           "x": [
            "Sobre el límite del equilibrio"
           ],
           "xaxis": "x",
           "y": {
            "bdata": "Ag==",
            "dtype": "i1"
           },
           "yaxis": "y"
          },
          {
           "hovertemplate": "Grupo de Tasa de Fertilidad=%{x}<br>Año=1976<br>Número de Países=%{y}<extra></extra>",
           "legendgroup": "Bajo del límite de equilibrio",
           "marker": {
            "color": "red",
            "pattern": {
             "shape": ""
            }
           },
           "name": "Bajo del límite de equilibrio",
           "orientation": "v",
           "showlegend": true,
           "textposition": "auto",
           "type": "bar",
           "x": [
            "Bajo del límite de equilibrio"
           ],
           "xaxis": "x",
           "y": {
            "bdata": "Ag==",
            "dtype": "i1"
           },
           "yaxis": "y"
          }
         ],
         "name": "1976"
        },
        {
         "data": [
          {
           "hovertemplate": "Grupo de Tasa de Fertilidad=%{x}<br>Año=1977<br>Número de Países=%{y}<extra></extra>",
           "legendgroup": "Triplicación",
           "marker": {
            "color": "green",
            "pattern": {
             "shape": ""
            }
           },
           "name": "Triplicación",
           "orientation": "v",
           "showlegend": true,
           "textposition": "auto",
           "type": "bar",
           "x": [
            "Triplicación"
           ],
           "xaxis": "x",
           "y": {
            "bdata": "BA==",
            "dtype": "i1"
           },
           "yaxis": "y"
          },
          {
           "hovertemplate": "Grupo de Tasa de Fertilidad=%{x}<br>Año=1977<br>Número de Países=%{y}<extra></extra>",
           "legendgroup": "Duplicación",
           "marker": {
            "color": "blue",
            "pattern": {
             "shape": ""
            }
           },
           "name": "Duplicación",
           "orientation": "v",
           "showlegend": true,
           "textposition": "auto",
           "type": "bar",
           "x": [
            "Duplicación"
           ],
           "xaxis": "x",
           "y": {
            "bdata": "BQ==",
            "dtype": "i1"
           },
           "yaxis": "y"
          },
          {
           "hovertemplate": "Grupo de Tasa de Fertilidad=%{x}<br>Año=1977<br>Número de Países=%{y}<extra></extra>",
           "legendgroup": "Sobre el límite del equilibrio",
           "marker": {
            "color": "orange",
            "pattern": {
             "shape": ""
            }
           },
           "name": "Sobre el límite del equilibrio",
           "orientation": "v",
           "showlegend": true,
           "textposition": "auto",
           "type": "bar",
           "x": [
            "Sobre el límite del equilibrio"
           ],
           "xaxis": "x",
           "y": {
            "bdata": "Ag==",
            "dtype": "i1"
           },
           "yaxis": "y"
          },
          {
           "hovertemplate": "Grupo de Tasa de Fertilidad=%{x}<br>Año=1977<br>Número de Países=%{y}<extra></extra>",
           "legendgroup": "Bajo del límite de equilibrio",
           "marker": {
            "color": "red",
            "pattern": {
             "shape": ""
            }
           },
           "name": "Bajo del límite de equilibrio",
           "orientation": "v",
           "showlegend": true,
           "textposition": "auto",
           "type": "bar",
           "x": [
            "Bajo del límite de equilibrio"
           ],
           "xaxis": "x",
           "y": {
            "bdata": "Ag==",
            "dtype": "i1"
           },
           "yaxis": "y"
          }
         ],
         "name": "1977"
        },
        {
         "data": [
          {
           "hovertemplate": "Grupo de Tasa de Fertilidad=%{x}<br>Año=1978<br>Número de Países=%{y}<extra></extra>",
           "legendgroup": "Triplicación",
           "marker": {
            "color": "green",
            "pattern": {
             "shape": ""
            }
           },
           "name": "Triplicación",
           "orientation": "v",
           "showlegend": true,
           "textposition": "auto",
           "type": "bar",
           "x": [
            "Triplicación"
           ],
           "xaxis": "x",
           "y": {
            "bdata": "BA==",
            "dtype": "i1"
           },
           "yaxis": "y"
          },
          {
           "hovertemplate": "Grupo de Tasa de Fertilidad=%{x}<br>Año=1978<br>Número de Países=%{y}<extra></extra>",
           "legendgroup": "Duplicación",
           "marker": {
            "color": "blue",
            "pattern": {
             "shape": ""
            }
           },
           "name": "Duplicación",
           "orientation": "v",
           "showlegend": true,
           "textposition": "auto",
           "type": "bar",
           "x": [
            "Duplicación"
           ],
           "xaxis": "x",
           "y": {
            "bdata": "BQ==",
            "dtype": "i1"
           },
           "yaxis": "y"
          },
          {
           "hovertemplate": "Grupo de Tasa de Fertilidad=%{x}<br>Año=1978<br>Número de Países=%{y}<extra></extra>",
           "legendgroup": "Sobre el límite del equilibrio",
           "marker": {
            "color": "orange",
            "pattern": {
             "shape": ""
            }
           },
           "name": "Sobre el límite del equilibrio",
           "orientation": "v",
           "showlegend": true,
           "textposition": "auto",
           "type": "bar",
           "x": [
            "Sobre el límite del equilibrio"
           ],
           "xaxis": "x",
           "y": {
            "bdata": "Ag==",
            "dtype": "i1"
           },
           "yaxis": "y"
          },
          {
           "hovertemplate": "Grupo de Tasa de Fertilidad=%{x}<br>Año=1978<br>Número de Países=%{y}<extra></extra>",
           "legendgroup": "Bajo del límite de equilibrio",
           "marker": {
            "color": "red",
            "pattern": {
             "shape": ""
            }
           },
           "name": "Bajo del límite de equilibrio",
           "orientation": "v",
           "showlegend": true,
           "textposition": "auto",
           "type": "bar",
           "x": [
            "Bajo del límite de equilibrio"
           ],
           "xaxis": "x",
           "y": {
            "bdata": "Ag==",
            "dtype": "i1"
           },
           "yaxis": "y"
          }
         ],
         "name": "1978"
        },
        {
         "data": [
          {
           "hovertemplate": "Grupo de Tasa de Fertilidad=%{x}<br>Año=1979<br>Número de Países=%{y}<extra></extra>",
           "legendgroup": "Triplicación",
           "marker": {
            "color": "green",
            "pattern": {
             "shape": ""
            }
           },
           "name": "Triplicación",
           "orientation": "v",
           "showlegend": true,
           "textposition": "auto",
           "type": "bar",
           "x": [
            "Triplicación"
           ],
           "xaxis": "x",
           "y": {
            "bdata": "BA==",
            "dtype": "i1"
           },
           "yaxis": "y"
          },
          {
           "hovertemplate": "Grupo de Tasa de Fertilidad=%{x}<br>Año=1979<br>Número de Países=%{y}<extra></extra>",
           "legendgroup": "Duplicación",
           "marker": {
            "color": "blue",
            "pattern": {
             "shape": ""
            }
           },
           "name": "Duplicación",
           "orientation": "v",
           "showlegend": true,
           "textposition": "auto",
           "type": "bar",
           "x": [
            "Duplicación"
           ],
           "xaxis": "x",
           "y": {
            "bdata": "BQ==",
            "dtype": "i1"
           },
           "yaxis": "y"
          },
          {
           "hovertemplate": "Grupo de Tasa de Fertilidad=%{x}<br>Año=1979<br>Número de Países=%{y}<extra></extra>",
           "legendgroup": "Sobre el límite del equilibrio",
           "marker": {
            "color": "orange",
            "pattern": {
             "shape": ""
            }
           },
           "name": "Sobre el límite del equilibrio",
           "orientation": "v",
           "showlegend": true,
           "textposition": "auto",
           "type": "bar",
           "x": [
            "Sobre el límite del equilibrio"
           ],
           "xaxis": "x",
           "y": {
            "bdata": "Ag==",
            "dtype": "i1"
           },
           "yaxis": "y"
          },
          {
           "hovertemplate": "Grupo de Tasa de Fertilidad=%{x}<br>Año=1979<br>Número de Países=%{y}<extra></extra>",
           "legendgroup": "Bajo del límite de equilibrio",
           "marker": {
            "color": "red",
            "pattern": {
             "shape": ""
            }
           },
           "name": "Bajo del límite de equilibrio",
           "orientation": "v",
           "showlegend": true,
           "textposition": "auto",
           "type": "bar",
           "x": [
            "Bajo del límite de equilibrio"
           ],
           "xaxis": "x",
           "y": {
            "bdata": "Ag==",
            "dtype": "i1"
           },
           "yaxis": "y"
          }
         ],
         "name": "1979"
        },
        {
         "data": [
          {
           "hovertemplate": "Grupo de Tasa de Fertilidad=%{x}<br>Año=1980<br>Número de Países=%{y}<extra></extra>",
           "legendgroup": "Triplicación",
           "marker": {
            "color": "green",
            "pattern": {
             "shape": ""
            }
           },
           "name": "Triplicación",
           "orientation": "v",
           "showlegend": true,
           "textposition": "auto",
           "type": "bar",
           "x": [
            "Triplicación"
           ],
           "xaxis": "x",
           "y": {
            "bdata": "Aw==",
            "dtype": "i1"
           },
           "yaxis": "y"
          },
          {
           "hovertemplate": "Grupo de Tasa de Fertilidad=%{x}<br>Año=1980<br>Número de Países=%{y}<extra></extra>",
           "legendgroup": "Duplicación",
           "marker": {
            "color": "blue",
            "pattern": {
             "shape": ""
            }
           },
           "name": "Duplicación",
           "orientation": "v",
           "showlegend": true,
           "textposition": "auto",
           "type": "bar",
           "x": [
            "Duplicación"
           ],
           "xaxis": "x",
           "y": {
            "bdata": "Bg==",
            "dtype": "i1"
           },
           "yaxis": "y"
          },
          {
           "hovertemplate": "Grupo de Tasa de Fertilidad=%{x}<br>Año=1980<br>Número de Países=%{y}<extra></extra>",
           "legendgroup": "Sobre el límite del equilibrio",
           "marker": {
            "color": "orange",
            "pattern": {
             "shape": ""
            }
           },
           "name": "Sobre el límite del equilibrio",
           "orientation": "v",
           "showlegend": true,
           "textposition": "auto",
           "type": "bar",
           "x": [
            "Sobre el límite del equilibrio"
           ],
           "xaxis": "x",
           "y": {
            "bdata": "Ag==",
            "dtype": "i1"
           },
           "yaxis": "y"
          },
          {
           "hovertemplate": "Grupo de Tasa de Fertilidad=%{x}<br>Año=1980<br>Número de Países=%{y}<extra></extra>",
           "legendgroup": "Bajo del límite de equilibrio",
           "marker": {
            "color": "red",
            "pattern": {
             "shape": ""
            }
           },
           "name": "Bajo del límite de equilibrio",
           "orientation": "v",
           "showlegend": true,
           "textposition": "auto",
           "type": "bar",
           "x": [
            "Bajo del límite de equilibrio"
           ],
           "xaxis": "x",
           "y": {
            "bdata": "Ag==",
            "dtype": "i1"
           },
           "yaxis": "y"
          }
         ],
         "name": "1980"
        },
        {
         "data": [
          {
           "hovertemplate": "Grupo de Tasa de Fertilidad=%{x}<br>Año=1981<br>Número de Países=%{y}<extra></extra>",
           "legendgroup": "Triplicación",
           "marker": {
            "color": "green",
            "pattern": {
             "shape": ""
            }
           },
           "name": "Triplicación",
           "orientation": "v",
           "showlegend": true,
           "textposition": "auto",
           "type": "bar",
           "x": [
            "Triplicación"
           ],
           "xaxis": "x",
           "y": {
            "bdata": "Ag==",
            "dtype": "i1"
           },
           "yaxis": "y"
          },
          {
           "hovertemplate": "Grupo de Tasa de Fertilidad=%{x}<br>Año=1981<br>Número de Países=%{y}<extra></extra>",
           "legendgroup": "Duplicación",
           "marker": {
            "color": "blue",
            "pattern": {
             "shape": ""
            }
           },
           "name": "Duplicación",
           "orientation": "v",
           "showlegend": true,
           "textposition": "auto",
           "type": "bar",
           "x": [
            "Duplicación"
           ],
           "xaxis": "x",
           "y": {
            "bdata": "Bw==",
            "dtype": "i1"
           },
           "yaxis": "y"
          },
          {
           "hovertemplate": "Grupo de Tasa de Fertilidad=%{x}<br>Año=1981<br>Número de Países=%{y}<extra></extra>",
           "legendgroup": "Sobre el límite del equilibrio",
           "marker": {
            "color": "orange",
            "pattern": {
             "shape": ""
            }
           },
           "name": "Sobre el límite del equilibrio",
           "orientation": "v",
           "showlegend": true,
           "textposition": "auto",
           "type": "bar",
           "x": [
            "Sobre el límite del equilibrio"
           ],
           "xaxis": "x",
           "y": {
            "bdata": "AQ==",
            "dtype": "i1"
           },
           "yaxis": "y"
          },
          {
           "hovertemplate": "Grupo de Tasa de Fertilidad=%{x}<br>Año=1981<br>Número de Países=%{y}<extra></extra>",
           "legendgroup": "Bajo del límite de equilibrio",
           "marker": {
            "color": "red",
            "pattern": {
             "shape": ""
            }
           },
           "name": "Bajo del límite de equilibrio",
           "orientation": "v",
           "showlegend": true,
           "textposition": "auto",
           "type": "bar",
           "x": [
            "Bajo del límite de equilibrio"
           ],
           "xaxis": "x",
           "y": {
            "bdata": "Aw==",
            "dtype": "i1"
           },
           "yaxis": "y"
          }
         ],
         "name": "1981"
        },
        {
         "data": [
          {
           "hovertemplate": "Grupo de Tasa de Fertilidad=%{x}<br>Año=1982<br>Número de Países=%{y}<extra></extra>",
           "legendgroup": "Triplicación",
           "marker": {
            "color": "green",
            "pattern": {
             "shape": ""
            }
           },
           "name": "Triplicación",
           "orientation": "v",
           "showlegend": true,
           "textposition": "auto",
           "type": "bar",
           "x": [
            "Triplicación"
           ],
           "xaxis": "x",
           "y": {
            "bdata": "Ag==",
            "dtype": "i1"
           },
           "yaxis": "y"
          },
          {
           "hovertemplate": "Grupo de Tasa de Fertilidad=%{x}<br>Año=1982<br>Número de Países=%{y}<extra></extra>",
           "legendgroup": "Duplicación",
           "marker": {
            "color": "blue",
            "pattern": {
             "shape": ""
            }
           },
           "name": "Duplicación",
           "orientation": "v",
           "showlegend": true,
           "textposition": "auto",
           "type": "bar",
           "x": [
            "Duplicación"
           ],
           "xaxis": "x",
           "y": {
            "bdata": "Bg==",
            "dtype": "i1"
           },
           "yaxis": "y"
          },
          {
           "hovertemplate": "Grupo de Tasa de Fertilidad=%{x}<br>Año=1982<br>Número de Países=%{y}<extra></extra>",
           "legendgroup": "Sobre el límite del equilibrio",
           "marker": {
            "color": "orange",
            "pattern": {
             "shape": ""
            }
           },
           "name": "Sobre el límite del equilibrio",
           "orientation": "v",
           "showlegend": true,
           "textposition": "auto",
           "type": "bar",
           "x": [
            "Sobre el límite del equilibrio"
           ],
           "xaxis": "x",
           "y": {
            "bdata": "Ag==",
            "dtype": "i1"
           },
           "yaxis": "y"
          },
          {
           "hovertemplate": "Grupo de Tasa de Fertilidad=%{x}<br>Año=1982<br>Número de Países=%{y}<extra></extra>",
           "legendgroup": "Bajo del límite de equilibrio",
           "marker": {
            "color": "red",
            "pattern": {
             "shape": ""
            }
           },
           "name": "Bajo del límite de equilibrio",
           "orientation": "v",
           "showlegend": true,
           "textposition": "auto",
           "type": "bar",
           "x": [
            "Bajo del límite de equilibrio"
           ],
           "xaxis": "x",
           "y": {
            "bdata": "Aw==",
            "dtype": "i1"
           },
           "yaxis": "y"
          }
         ],
         "name": "1982"
        },
        {
         "data": [
          {
           "hovertemplate": "Grupo de Tasa de Fertilidad=%{x}<br>Año=1983<br>Número de Países=%{y}<extra></extra>",
           "legendgroup": "Triplicación",
           "marker": {
            "color": "green",
            "pattern": {
             "shape": ""
            }
           },
           "name": "Triplicación",
           "orientation": "v",
           "showlegend": true,
           "textposition": "auto",
           "type": "bar",
           "x": [
            "Triplicación"
           ],
           "xaxis": "x",
           "y": {
            "bdata": "Ag==",
            "dtype": "i1"
           },
           "yaxis": "y"
          },
          {
           "hovertemplate": "Grupo de Tasa de Fertilidad=%{x}<br>Año=1983<br>Número de Países=%{y}<extra></extra>",
           "legendgroup": "Duplicación",
           "marker": {
            "color": "blue",
            "pattern": {
             "shape": ""
            }
           },
           "name": "Duplicación",
           "orientation": "v",
           "showlegend": true,
           "textposition": "auto",
           "type": "bar",
           "x": [
            "Duplicación"
           ],
           "xaxis": "x",
           "y": {
            "bdata": "Bg==",
            "dtype": "i1"
           },
           "yaxis": "y"
          },
          {
           "hovertemplate": "Grupo de Tasa de Fertilidad=%{x}<br>Año=1983<br>Número de Países=%{y}<extra></extra>",
           "legendgroup": "Sobre el límite del equilibrio",
           "marker": {
            "color": "orange",
            "pattern": {
             "shape": ""
            }
           },
           "name": "Sobre el límite del equilibrio",
           "orientation": "v",
           "showlegend": true,
           "textposition": "auto",
           "type": "bar",
           "x": [
            "Sobre el límite del equilibrio"
           ],
           "xaxis": "x",
           "y": {
            "bdata": "Ag==",
            "dtype": "i1"
           },
           "yaxis": "y"
          },
          {
           "hovertemplate": "Grupo de Tasa de Fertilidad=%{x}<br>Año=1983<br>Número de Países=%{y}<extra></extra>",
           "legendgroup": "Bajo del límite de equilibrio",
           "marker": {
            "color": "red",
            "pattern": {
             "shape": ""
            }
           },
           "name": "Bajo del límite de equilibrio",
           "orientation": "v",
           "showlegend": true,
           "textposition": "auto",
           "type": "bar",
           "x": [
            "Bajo del límite de equilibrio"
           ],
           "xaxis": "x",
           "y": {
            "bdata": "Aw==",
            "dtype": "i1"
           },
           "yaxis": "y"
          }
         ],
         "name": "1983"
        },
        {
         "data": [
          {
           "hovertemplate": "Grupo de Tasa de Fertilidad=%{x}<br>Año=1984<br>Número de Países=%{y}<extra></extra>",
           "legendgroup": "Triplicación",
           "marker": {
            "color": "green",
            "pattern": {
             "shape": ""
            }
           },
           "name": "Triplicación",
           "orientation": "v",
           "showlegend": true,
           "textposition": "auto",
           "type": "bar",
           "x": [
            "Triplicación"
           ],
           "xaxis": "x",
           "y": {
            "bdata": "Ag==",
            "dtype": "i1"
           },
           "yaxis": "y"
          },
          {
           "hovertemplate": "Grupo de Tasa de Fertilidad=%{x}<br>Año=1984<br>Número de Países=%{y}<extra></extra>",
           "legendgroup": "Duplicación",
           "marker": {
            "color": "blue",
            "pattern": {
             "shape": ""
            }
           },
           "name": "Duplicación",
           "orientation": "v",
           "showlegend": true,
           "textposition": "auto",
           "type": "bar",
           "x": [
            "Duplicación"
           ],
           "xaxis": "x",
           "y": {
            "bdata": "Bg==",
            "dtype": "i1"
           },
           "yaxis": "y"
          },
          {
           "hovertemplate": "Grupo de Tasa de Fertilidad=%{x}<br>Año=1984<br>Número de Países=%{y}<extra></extra>",
           "legendgroup": "Sobre el límite del equilibrio",
           "marker": {
            "color": "orange",
            "pattern": {
             "shape": ""
            }
           },
           "name": "Sobre el límite del equilibrio",
           "orientation": "v",
           "showlegend": true,
           "textposition": "auto",
           "type": "bar",
           "x": [
            "Sobre el límite del equilibrio"
           ],
           "xaxis": "x",
           "y": {
            "bdata": "Ag==",
            "dtype": "i1"
           },
           "yaxis": "y"
          },
          {
           "hovertemplate": "Grupo de Tasa de Fertilidad=%{x}<br>Año=1984<br>Número de Países=%{y}<extra></extra>",
           "legendgroup": "Bajo del límite de equilibrio",
           "marker": {
            "color": "red",
            "pattern": {
             "shape": ""
            }
           },
           "name": "Bajo del límite de equilibrio",
           "orientation": "v",
           "showlegend": true,
           "textposition": "auto",
           "type": "bar",
           "x": [
            "Bajo del límite de equilibrio"
           ],
           "xaxis": "x",
           "y": {
            "bdata": "Aw==",
            "dtype": "i1"
           },
           "yaxis": "y"
          }
         ],
         "name": "1984"
        },
        {
         "data": [
          {
           "hovertemplate": "Grupo de Tasa de Fertilidad=%{x}<br>Año=1985<br>Número de Países=%{y}<extra></extra>",
           "legendgroup": "Triplicación",
           "marker": {
            "color": "green",
            "pattern": {
             "shape": ""
            }
           },
           "name": "Triplicación",
           "orientation": "v",
           "showlegend": true,
           "textposition": "auto",
           "type": "bar",
           "x": [
            "Triplicación"
           ],
           "xaxis": "x",
           "y": {
            "bdata": "Ag==",
            "dtype": "i1"
           },
           "yaxis": "y"
          },
          {
           "hovertemplate": "Grupo de Tasa de Fertilidad=%{x}<br>Año=1985<br>Número de Países=%{y}<extra></extra>",
           "legendgroup": "Duplicación",
           "marker": {
            "color": "blue",
            "pattern": {
             "shape": ""
            }
           },
           "name": "Duplicación",
           "orientation": "v",
           "showlegend": true,
           "textposition": "auto",
           "type": "bar",
           "x": [
            "Duplicación"
           ],
           "xaxis": "x",
           "y": {
            "bdata": "Bg==",
            "dtype": "i1"
           },
           "yaxis": "y"
          },
          {
           "hovertemplate": "Grupo de Tasa de Fertilidad=%{x}<br>Año=1985<br>Número de Países=%{y}<extra></extra>",
           "legendgroup": "Sobre el límite del equilibrio",
           "marker": {
            "color": "orange",
            "pattern": {
             "shape": ""
            }
           },
           "name": "Sobre el límite del equilibrio",
           "orientation": "v",
           "showlegend": true,
           "textposition": "auto",
           "type": "bar",
           "x": [
            "Sobre el límite del equilibrio"
           ],
           "xaxis": "x",
           "y": {
            "bdata": "Ag==",
            "dtype": "i1"
           },
           "yaxis": "y"
          },
          {
           "hovertemplate": "Grupo de Tasa de Fertilidad=%{x}<br>Año=1985<br>Número de Países=%{y}<extra></extra>",
           "legendgroup": "Bajo del límite de equilibrio",
           "marker": {
            "color": "red",
            "pattern": {
             "shape": ""
            }
           },
           "name": "Bajo del límite de equilibrio",
           "orientation": "v",
           "showlegend": true,
           "textposition": "auto",
           "type": "bar",
           "x": [
            "Bajo del límite de equilibrio"
           ],
           "xaxis": "x",
           "y": {
            "bdata": "Aw==",
            "dtype": "i1"
           },
           "yaxis": "y"
          }
         ],
         "name": "1985"
        },
        {
         "data": [
          {
           "hovertemplate": "Grupo de Tasa de Fertilidad=%{x}<br>Año=1986<br>Número de Países=%{y}<extra></extra>",
           "legendgroup": "Triplicación",
           "marker": {
            "color": "green",
            "pattern": {
             "shape": ""
            }
           },
           "name": "Triplicación",
           "orientation": "v",
           "showlegend": true,
           "textposition": "auto",
           "type": "bar",
           "x": [
            "Triplicación"
           ],
           "xaxis": "x",
           "y": {
            "bdata": "Ag==",
            "dtype": "i1"
           },
           "yaxis": "y"
          },
          {
           "hovertemplate": "Grupo de Tasa de Fertilidad=%{x}<br>Año=1986<br>Número de Países=%{y}<extra></extra>",
           "legendgroup": "Duplicación",
           "marker": {
            "color": "blue",
            "pattern": {
             "shape": ""
            }
           },
           "name": "Duplicación",
           "orientation": "v",
           "showlegend": true,
           "textposition": "auto",
           "type": "bar",
           "x": [
            "Duplicación"
           ],
           "xaxis": "x",
           "y": {
            "bdata": "BQ==",
            "dtype": "i1"
           },
           "yaxis": "y"
          },
          {
           "hovertemplate": "Grupo de Tasa de Fertilidad=%{x}<br>Año=1986<br>Número de Países=%{y}<extra></extra>",
           "legendgroup": "Sobre el límite del equilibrio",
           "marker": {
            "color": "orange",
            "pattern": {
             "shape": ""
            }
           },
           "name": "Sobre el límite del equilibrio",
           "orientation": "v",
           "showlegend": true,
           "textposition": "auto",
           "type": "bar",
           "x": [
            "Sobre el límite del equilibrio"
           ],
           "xaxis": "x",
           "y": {
            "bdata": "Aw==",
            "dtype": "i1"
           },
           "yaxis": "y"
          },
          {
           "hovertemplate": "Grupo de Tasa de Fertilidad=%{x}<br>Año=1986<br>Número de Países=%{y}<extra></extra>",
           "legendgroup": "Bajo del límite de equilibrio",
           "marker": {
            "color": "red",
            "pattern": {
             "shape": ""
            }
           },
           "name": "Bajo del límite de equilibrio",
           "orientation": "v",
           "showlegend": true,
           "textposition": "auto",
           "type": "bar",
           "x": [
            "Bajo del límite de equilibrio"
           ],
           "xaxis": "x",
           "y": {
            "bdata": "Aw==",
            "dtype": "i1"
           },
           "yaxis": "y"
          }
         ],
         "name": "1986"
        },
        {
         "data": [
          {
           "hovertemplate": "Grupo de Tasa de Fertilidad=%{x}<br>Año=1987<br>Número de Países=%{y}<extra></extra>",
           "legendgroup": "Triplicación",
           "marker": {
            "color": "green",
            "pattern": {
             "shape": ""
            }
           },
           "name": "Triplicación",
           "orientation": "v",
           "showlegend": true,
           "textposition": "auto",
           "type": "bar",
           "x": [
            "Triplicación"
           ],
           "xaxis": "x",
           "y": {
            "bdata": "Ag==",
            "dtype": "i1"
           },
           "yaxis": "y"
          },
          {
           "hovertemplate": "Grupo de Tasa de Fertilidad=%{x}<br>Año=1987<br>Número de Países=%{y}<extra></extra>",
           "legendgroup": "Duplicación",
           "marker": {
            "color": "blue",
            "pattern": {
             "shape": ""
            }
           },
           "name": "Duplicación",
           "orientation": "v",
           "showlegend": true,
           "textposition": "auto",
           "type": "bar",
           "x": [
            "Duplicación"
           ],
           "xaxis": "x",
           "y": {
            "bdata": "BQ==",
            "dtype": "i1"
           },
           "yaxis": "y"
          },
          {
           "hovertemplate": "Grupo de Tasa de Fertilidad=%{x}<br>Año=1987<br>Número de Países=%{y}<extra></extra>",
           "legendgroup": "Sobre el límite del equilibrio",
           "marker": {
            "color": "orange",
            "pattern": {
             "shape": ""
            }
           },
           "name": "Sobre el límite del equilibrio",
           "orientation": "v",
           "showlegend": true,
           "textposition": "auto",
           "type": "bar",
           "x": [
            "Sobre el límite del equilibrio"
           ],
           "xaxis": "x",
           "y": {
            "bdata": "Aw==",
            "dtype": "i1"
           },
           "yaxis": "y"
          },
          {
           "hovertemplate": "Grupo de Tasa de Fertilidad=%{x}<br>Año=1987<br>Número de Países=%{y}<extra></extra>",
           "legendgroup": "Bajo del límite de equilibrio",
           "marker": {
            "color": "red",
            "pattern": {
             "shape": ""
            }
           },
           "name": "Bajo del límite de equilibrio",
           "orientation": "v",
           "showlegend": true,
           "textposition": "auto",
           "type": "bar",
           "x": [
            "Bajo del límite de equilibrio"
           ],
           "xaxis": "x",
           "y": {
            "bdata": "Aw==",
            "dtype": "i1"
           },
           "yaxis": "y"
          }
         ],
         "name": "1987"
        },
        {
         "data": [
          {
           "hovertemplate": "Grupo de Tasa de Fertilidad=%{x}<br>Año=1988<br>Número de Países=%{y}<extra></extra>",
           "legendgroup": "Triplicación",
           "marker": {
            "color": "green",
            "pattern": {
             "shape": ""
            }
           },
           "name": "Triplicación",
           "orientation": "v",
           "showlegend": true,
           "textposition": "auto",
           "type": "bar",
           "x": [
            "Triplicación"
           ],
           "xaxis": "x",
           "y": {
            "bdata": "Ag==",
            "dtype": "i1"
           },
           "yaxis": "y"
          },
          {
           "hovertemplate": "Grupo de Tasa de Fertilidad=%{x}<br>Año=1988<br>Número de Países=%{y}<extra></extra>",
           "legendgroup": "Duplicación",
           "marker": {
            "color": "blue",
            "pattern": {
             "shape": ""
            }
           },
           "name": "Duplicación",
           "orientation": "v",
           "showlegend": true,
           "textposition": "auto",
           "type": "bar",
           "x": [
            "Duplicación"
           ],
           "xaxis": "x",
           "y": {
            "bdata": "BQ==",
            "dtype": "i1"
           },
           "yaxis": "y"
          },
          {
           "hovertemplate": "Grupo de Tasa de Fertilidad=%{x}<br>Año=1988<br>Número de Países=%{y}<extra></extra>",
           "legendgroup": "Sobre el límite del equilibrio",
           "marker": {
            "color": "orange",
            "pattern": {
             "shape": ""
            }
           },
           "name": "Sobre el límite del equilibrio",
           "orientation": "v",
           "showlegend": true,
           "textposition": "auto",
           "type": "bar",
           "x": [
            "Sobre el límite del equilibrio"
           ],
           "xaxis": "x",
           "y": {
            "bdata": "Aw==",
            "dtype": "i1"
           },
           "yaxis": "y"
          },
          {
           "hovertemplate": "Grupo de Tasa de Fertilidad=%{x}<br>Año=1988<br>Número de Países=%{y}<extra></extra>",
           "legendgroup": "Bajo del límite de equilibrio",
           "marker": {
            "color": "red",
            "pattern": {
             "shape": ""
            }
           },
           "name": "Bajo del límite de equilibrio",
           "orientation": "v",
           "showlegend": true,
           "textposition": "auto",
           "type": "bar",
           "x": [
            "Bajo del límite de equilibrio"
           ],
           "xaxis": "x",
           "y": {
            "bdata": "Aw==",
            "dtype": "i1"
           },
           "yaxis": "y"
          }
         ],
         "name": "1988"
        },
        {
         "data": [
          {
           "hovertemplate": "Grupo de Tasa de Fertilidad=%{x}<br>Año=1989<br>Número de Países=%{y}<extra></extra>",
           "legendgroup": "Triplicación",
           "marker": {
            "color": "green",
            "pattern": {
             "shape": ""
            }
           },
           "name": "Triplicación",
           "orientation": "v",
           "showlegend": true,
           "textposition": "auto",
           "type": "bar",
           "x": [
            "Triplicación"
           ],
           "xaxis": "x",
           "y": {
            "bdata": "AQ==",
            "dtype": "i1"
           },
           "yaxis": "y"
          },
          {
           "hovertemplate": "Grupo de Tasa de Fertilidad=%{x}<br>Año=1989<br>Número de Países=%{y}<extra></extra>",
           "legendgroup": "Duplicación",
           "marker": {
            "color": "blue",
            "pattern": {
             "shape": ""
            }
           },
           "name": "Duplicación",
           "orientation": "v",
           "showlegend": true,
           "textposition": "auto",
           "type": "bar",
           "x": [
            "Duplicación"
           ],
           "xaxis": "x",
           "y": {
            "bdata": "BQ==",
            "dtype": "i1"
           },
           "yaxis": "y"
          },
          {
           "hovertemplate": "Grupo de Tasa de Fertilidad=%{x}<br>Año=1989<br>Número de Países=%{y}<extra></extra>",
           "legendgroup": "Sobre el límite del equilibrio",
           "marker": {
            "color": "orange",
            "pattern": {
             "shape": ""
            }
           },
           "name": "Sobre el límite del equilibrio",
           "orientation": "v",
           "showlegend": true,
           "textposition": "auto",
           "type": "bar",
           "x": [
            "Sobre el límite del equilibrio"
           ],
           "xaxis": "x",
           "y": {
            "bdata": "BA==",
            "dtype": "i1"
           },
           "yaxis": "y"
          },
          {
           "hovertemplate": "Grupo de Tasa de Fertilidad=%{x}<br>Año=1989<br>Número de Países=%{y}<extra></extra>",
           "legendgroup": "Bajo del límite de equilibrio",
           "marker": {
            "color": "red",
            "pattern": {
             "shape": ""
            }
           },
           "name": "Bajo del límite de equilibrio",
           "orientation": "v",
           "showlegend": true,
           "textposition": "auto",
           "type": "bar",
           "x": [
            "Bajo del límite de equilibrio"
           ],
           "xaxis": "x",
           "y": {
            "bdata": "Aw==",
            "dtype": "i1"
           },
           "yaxis": "y"
          }
         ],
         "name": "1989"
        },
        {
         "data": [
          {
           "hovertemplate": "Grupo de Tasa de Fertilidad=%{x}<br>Año=1990<br>Número de Países=%{y}<extra></extra>",
           "legendgroup": "Triplicación",
           "marker": {
            "color": "green",
            "pattern": {
             "shape": ""
            }
           },
           "name": "Triplicación",
           "orientation": "v",
           "showlegend": true,
           "textposition": "auto",
           "type": "bar",
           "x": [
            "Triplicación"
           ],
           "xaxis": "x",
           "y": {
            "bdata": "AQ==",
            "dtype": "i1"
           },
           "yaxis": "y"
          },
          {
           "hovertemplate": "Grupo de Tasa de Fertilidad=%{x}<br>Año=1990<br>Número de Países=%{y}<extra></extra>",
           "legendgroup": "Duplicación",
           "marker": {
            "color": "blue",
            "pattern": {
             "shape": ""
            }
           },
           "name": "Duplicación",
           "orientation": "v",
           "showlegend": true,
           "textposition": "auto",
           "type": "bar",
           "x": [
            "Duplicación"
           ],
           "xaxis": "x",
           "y": {
            "bdata": "BQ==",
            "dtype": "i1"
           },
           "yaxis": "y"
          },
          {
           "hovertemplate": "Grupo de Tasa de Fertilidad=%{x}<br>Año=1990<br>Número de Países=%{y}<extra></extra>",
           "legendgroup": "Sobre el límite del equilibrio",
           "marker": {
            "color": "orange",
            "pattern": {
             "shape": ""
            }
           },
           "name": "Sobre el límite del equilibrio",
           "orientation": "v",
           "showlegend": true,
           "textposition": "auto",
           "type": "bar",
           "x": [
            "Sobre el límite del equilibrio"
           ],
           "xaxis": "x",
           "y": {
            "bdata": "BA==",
            "dtype": "i1"
           },
           "yaxis": "y"
          },
          {
           "hovertemplate": "Grupo de Tasa de Fertilidad=%{x}<br>Año=1990<br>Número de Países=%{y}<extra></extra>",
           "legendgroup": "Bajo del límite de equilibrio",
           "marker": {
            "color": "red",
            "pattern": {
             "shape": ""
            }
           },
           "name": "Bajo del límite de equilibrio",
           "orientation": "v",
           "showlegend": true,
           "textposition": "auto",
           "type": "bar",
           "x": [
            "Bajo del límite de equilibrio"
           ],
           "xaxis": "x",
           "y": {
            "bdata": "Aw==",
            "dtype": "i1"
           },
           "yaxis": "y"
          }
         ],
         "name": "1990"
        },
        {
         "data": [
          {
           "hovertemplate": "Grupo de Tasa de Fertilidad=%{x}<br>Año=1991<br>Número de Países=%{y}<extra></extra>",
           "legendgroup": "Duplicación",
           "marker": {
            "color": "blue",
            "pattern": {
             "shape": ""
            }
           },
           "name": "Duplicación",
           "orientation": "v",
           "showlegend": true,
           "textposition": "auto",
           "type": "bar",
           "x": [
            "Duplicación"
           ],
           "xaxis": "x",
           "y": {
            "bdata": "Bg==",
            "dtype": "i1"
           },
           "yaxis": "y"
          },
          {
           "hovertemplate": "Grupo de Tasa de Fertilidad=%{x}<br>Año=1991<br>Número de Países=%{y}<extra></extra>",
           "legendgroup": "Sobre el límite del equilibrio",
           "marker": {
            "color": "orange",
            "pattern": {
             "shape": ""
            }
           },
           "name": "Sobre el límite del equilibrio",
           "orientation": "v",
           "showlegend": true,
           "textposition": "auto",
           "type": "bar",
           "x": [
            "Sobre el límite del equilibrio"
           ],
           "xaxis": "x",
           "y": {
            "bdata": "BA==",
            "dtype": "i1"
           },
           "yaxis": "y"
          },
          {
           "hovertemplate": "Grupo de Tasa de Fertilidad=%{x}<br>Año=1991<br>Número de Países=%{y}<extra></extra>",
           "legendgroup": "Bajo del límite de equilibrio",
           "marker": {
            "color": "red",
            "pattern": {
             "shape": ""
            }
           },
           "name": "Bajo del límite de equilibrio",
           "orientation": "v",
           "showlegend": true,
           "textposition": "auto",
           "type": "bar",
           "x": [
            "Bajo del límite de equilibrio"
           ],
           "xaxis": "x",
           "y": {
            "bdata": "Aw==",
            "dtype": "i1"
           },
           "yaxis": "y"
          }
         ],
         "name": "1991"
        },
        {
         "data": [
          {
           "hovertemplate": "Grupo de Tasa de Fertilidad=%{x}<br>Año=1992<br>Número de Países=%{y}<extra></extra>",
           "legendgroup": "Duplicación",
           "marker": {
            "color": "blue",
            "pattern": {
             "shape": ""
            }
           },
           "name": "Duplicación",
           "orientation": "v",
           "showlegend": true,
           "textposition": "auto",
           "type": "bar",
           "x": [
            "Duplicación"
           ],
           "xaxis": "x",
           "y": {
            "bdata": "Bg==",
            "dtype": "i1"
           },
           "yaxis": "y"
          },
          {
           "hovertemplate": "Grupo de Tasa de Fertilidad=%{x}<br>Año=1992<br>Número de Países=%{y}<extra></extra>",
           "legendgroup": "Sobre el límite del equilibrio",
           "marker": {
            "color": "orange",
            "pattern": {
             "shape": ""
            }
           },
           "name": "Sobre el límite del equilibrio",
           "orientation": "v",
           "showlegend": true,
           "textposition": "auto",
           "type": "bar",
           "x": [
            "Sobre el límite del equilibrio"
           ],
           "xaxis": "x",
           "y": {
            "bdata": "BA==",
            "dtype": "i1"
           },
           "yaxis": "y"
          },
          {
           "hovertemplate": "Grupo de Tasa de Fertilidad=%{x}<br>Año=1992<br>Número de Países=%{y}<extra></extra>",
           "legendgroup": "Bajo del límite de equilibrio",
           "marker": {
            "color": "red",
            "pattern": {
             "shape": ""
            }
           },
           "name": "Bajo del límite de equilibrio",
           "orientation": "v",
           "showlegend": true,
           "textposition": "auto",
           "type": "bar",
           "x": [
            "Bajo del límite de equilibrio"
           ],
           "xaxis": "x",
           "y": {
            "bdata": "Aw==",
            "dtype": "i1"
           },
           "yaxis": "y"
          }
         ],
         "name": "1992"
        },
        {
         "data": [
          {
           "hovertemplate": "Grupo de Tasa de Fertilidad=%{x}<br>Año=1993<br>Número de Países=%{y}<extra></extra>",
           "legendgroup": "Duplicación",
           "marker": {
            "color": "blue",
            "pattern": {
             "shape": ""
            }
           },
           "name": "Duplicación",
           "orientation": "v",
           "showlegend": true,
           "textposition": "auto",
           "type": "bar",
           "x": [
            "Duplicación"
           ],
           "xaxis": "x",
           "y": {
            "bdata": "Bg==",
            "dtype": "i1"
           },
           "yaxis": "y"
          },
          {
           "hovertemplate": "Grupo de Tasa de Fertilidad=%{x}<br>Año=1993<br>Número de Países=%{y}<extra></extra>",
           "legendgroup": "Sobre el límite del equilibrio",
           "marker": {
            "color": "orange",
            "pattern": {
             "shape": ""
            }
           },
           "name": "Sobre el límite del equilibrio",
           "orientation": "v",
           "showlegend": true,
           "textposition": "auto",
           "type": "bar",
           "x": [
            "Sobre el límite del equilibrio"
           ],
           "xaxis": "x",
           "y": {
            "bdata": "Aw==",
            "dtype": "i1"
           },
           "yaxis": "y"
          },
          {
           "hovertemplate": "Grupo de Tasa de Fertilidad=%{x}<br>Año=1993<br>Número de Países=%{y}<extra></extra>",
           "legendgroup": "Bajo del límite de equilibrio",
           "marker": {
            "color": "red",
            "pattern": {
             "shape": ""
            }
           },
           "name": "Bajo del límite de equilibrio",
           "orientation": "v",
           "showlegend": true,
           "textposition": "auto",
           "type": "bar",
           "x": [
            "Bajo del límite de equilibrio"
           ],
           "xaxis": "x",
           "y": {
            "bdata": "BA==",
            "dtype": "i1"
           },
           "yaxis": "y"
          }
         ],
         "name": "1993"
        },
        {
         "data": [
          {
           "hovertemplate": "Grupo de Tasa de Fertilidad=%{x}<br>Año=1994<br>Número de Países=%{y}<extra></extra>",
           "legendgroup": "Duplicación",
           "marker": {
            "color": "blue",
            "pattern": {
             "shape": ""
            }
           },
           "name": "Duplicación",
           "orientation": "v",
           "showlegend": true,
           "textposition": "auto",
           "type": "bar",
           "x": [
            "Duplicación"
           ],
           "xaxis": "x",
           "y": {
            "bdata": "BQ==",
            "dtype": "i1"
           },
           "yaxis": "y"
          },
          {
           "hovertemplate": "Grupo de Tasa de Fertilidad=%{x}<br>Año=1994<br>Número de Países=%{y}<extra></extra>",
           "legendgroup": "Sobre el límite del equilibrio",
           "marker": {
            "color": "orange",
            "pattern": {
             "shape": ""
            }
           },
           "name": "Sobre el límite del equilibrio",
           "orientation": "v",
           "showlegend": true,
           "textposition": "auto",
           "type": "bar",
           "x": [
            "Sobre el límite del equilibrio"
           ],
           "xaxis": "x",
           "y": {
            "bdata": "BA==",
            "dtype": "i1"
           },
           "yaxis": "y"
          },
          {
           "hovertemplate": "Grupo de Tasa de Fertilidad=%{x}<br>Año=1994<br>Número de Países=%{y}<extra></extra>",
           "legendgroup": "Bajo del límite de equilibrio",
           "marker": {
            "color": "red",
            "pattern": {
             "shape": ""
            }
           },
           "name": "Bajo del límite de equilibrio",
           "orientation": "v",
           "showlegend": true,
           "textposition": "auto",
           "type": "bar",
           "x": [
            "Bajo del límite de equilibrio"
           ],
           "xaxis": "x",
           "y": {
            "bdata": "BA==",
            "dtype": "i1"
           },
           "yaxis": "y"
          }
         ],
         "name": "1994"
        },
        {
         "data": [
          {
           "hovertemplate": "Grupo de Tasa de Fertilidad=%{x}<br>Año=1995<br>Número de Países=%{y}<extra></extra>",
           "legendgroup": "Duplicación",
           "marker": {
            "color": "blue",
            "pattern": {
             "shape": ""
            }
           },
           "name": "Duplicación",
           "orientation": "v",
           "showlegend": true,
           "textposition": "auto",
           "type": "bar",
           "x": [
            "Duplicación"
           ],
           "xaxis": "x",
           "y": {
            "bdata": "BA==",
            "dtype": "i1"
           },
           "yaxis": "y"
          },
          {
           "hovertemplate": "Grupo de Tasa de Fertilidad=%{x}<br>Año=1995<br>Número de Países=%{y}<extra></extra>",
           "legendgroup": "Sobre el límite del equilibrio",
           "marker": {
            "color": "orange",
            "pattern": {
             "shape": ""
            }
           },
           "name": "Sobre el límite del equilibrio",
           "orientation": "v",
           "showlegend": true,
           "textposition": "auto",
           "type": "bar",
           "x": [
            "Sobre el límite del equilibrio"
           ],
           "xaxis": "x",
           "y": {
            "bdata": "BQ==",
            "dtype": "i1"
           },
           "yaxis": "y"
          },
          {
           "hovertemplate": "Grupo de Tasa de Fertilidad=%{x}<br>Año=1995<br>Número de Países=%{y}<extra></extra>",
           "legendgroup": "Bajo del límite de equilibrio",
           "marker": {
            "color": "red",
            "pattern": {
             "shape": ""
            }
           },
           "name": "Bajo del límite de equilibrio",
           "orientation": "v",
           "showlegend": true,
           "textposition": "auto",
           "type": "bar",
           "x": [
            "Bajo del límite de equilibrio"
           ],
           "xaxis": "x",
           "y": {
            "bdata": "BA==",
            "dtype": "i1"
           },
           "yaxis": "y"
          }
         ],
         "name": "1995"
        },
        {
         "data": [
          {
           "hovertemplate": "Grupo de Tasa de Fertilidad=%{x}<br>Año=1996<br>Número de Países=%{y}<extra></extra>",
           "legendgroup": "Duplicación",
           "marker": {
            "color": "blue",
            "pattern": {
             "shape": ""
            }
           },
           "name": "Duplicación",
           "orientation": "v",
           "showlegend": true,
           "textposition": "auto",
           "type": "bar",
           "x": [
            "Duplicación"
           ],
           "xaxis": "x",
           "y": {
            "bdata": "BA==",
            "dtype": "i1"
           },
           "yaxis": "y"
          },
          {
           "hovertemplate": "Grupo de Tasa de Fertilidad=%{x}<br>Año=1996<br>Número de Países=%{y}<extra></extra>",
           "legendgroup": "Sobre el límite del equilibrio",
           "marker": {
            "color": "orange",
            "pattern": {
             "shape": ""
            }
           },
           "name": "Sobre el límite del equilibrio",
           "orientation": "v",
           "showlegend": true,
           "textposition": "auto",
           "type": "bar",
           "x": [
            "Sobre el límite del equilibrio"
           ],
           "xaxis": "x",
           "y": {
            "bdata": "BQ==",
            "dtype": "i1"
           },
           "yaxis": "y"
          },
          {
           "hovertemplate": "Grupo de Tasa de Fertilidad=%{x}<br>Año=1996<br>Número de Países=%{y}<extra></extra>",
           "legendgroup": "Bajo del límite de equilibrio",
           "marker": {
            "color": "red",
            "pattern": {
             "shape": ""
            }
           },
           "name": "Bajo del límite de equilibrio",
           "orientation": "v",
           "showlegend": true,
           "textposition": "auto",
           "type": "bar",
           "x": [
            "Bajo del límite de equilibrio"
           ],
           "xaxis": "x",
           "y": {
            "bdata": "BA==",
            "dtype": "i1"
           },
           "yaxis": "y"
          }
         ],
         "name": "1996"
        },
        {
         "data": [
          {
           "hovertemplate": "Grupo de Tasa de Fertilidad=%{x}<br>Año=1997<br>Número de Países=%{y}<extra></extra>",
           "legendgroup": "Duplicación",
           "marker": {
            "color": "blue",
            "pattern": {
             "shape": ""
            }
           },
           "name": "Duplicación",
           "orientation": "v",
           "showlegend": true,
           "textposition": "auto",
           "type": "bar",
           "x": [
            "Duplicación"
           ],
           "xaxis": "x",
           "y": {
            "bdata": "BA==",
            "dtype": "i1"
           },
           "yaxis": "y"
          },
          {
           "hovertemplate": "Grupo de Tasa de Fertilidad=%{x}<br>Año=1997<br>Número de Países=%{y}<extra></extra>",
           "legendgroup": "Sobre el límite del equilibrio",
           "marker": {
            "color": "orange",
            "pattern": {
             "shape": ""
            }
           },
           "name": "Sobre el límite del equilibrio",
           "orientation": "v",
           "showlegend": true,
           "textposition": "auto",
           "type": "bar",
           "x": [
            "Sobre el límite del equilibrio"
           ],
           "xaxis": "x",
           "y": {
            "bdata": "BQ==",
            "dtype": "i1"
           },
           "yaxis": "y"
          },
          {
           "hovertemplate": "Grupo de Tasa de Fertilidad=%{x}<br>Año=1997<br>Número de Países=%{y}<extra></extra>",
           "legendgroup": "Bajo del límite de equilibrio",
           "marker": {
            "color": "red",
            "pattern": {
             "shape": ""
            }
           },
           "name": "Bajo del límite de equilibrio",
           "orientation": "v",
           "showlegend": true,
           "textposition": "auto",
           "type": "bar",
           "x": [
            "Bajo del límite de equilibrio"
           ],
           "xaxis": "x",
           "y": {
            "bdata": "BA==",
            "dtype": "i1"
           },
           "yaxis": "y"
          }
         ],
         "name": "1997"
        },
        {
         "data": [
          {
           "hovertemplate": "Grupo de Tasa de Fertilidad=%{x}<br>Año=1998<br>Número de Países=%{y}<extra></extra>",
           "legendgroup": "Duplicación",
           "marker": {
            "color": "blue",
            "pattern": {
             "shape": ""
            }
           },
           "name": "Duplicación",
           "orientation": "v",
           "showlegend": true,
           "textposition": "auto",
           "type": "bar",
           "x": [
            "Duplicación"
           ],
           "xaxis": "x",
           "y": {
            "bdata": "BA==",
            "dtype": "i1"
           },
           "yaxis": "y"
          },
          {
           "hovertemplate": "Grupo de Tasa de Fertilidad=%{x}<br>Año=1998<br>Número de Países=%{y}<extra></extra>",
           "legendgroup": "Sobre el límite del equilibrio",
           "marker": {
            "color": "orange",
            "pattern": {
             "shape": ""
            }
           },
           "name": "Sobre el límite del equilibrio",
           "orientation": "v",
           "showlegend": true,
           "textposition": "auto",
           "type": "bar",
           "x": [
            "Sobre el límite del equilibrio"
           ],
           "xaxis": "x",
           "y": {
            "bdata": "BQ==",
            "dtype": "i1"
           },
           "yaxis": "y"
          },
          {
           "hovertemplate": "Grupo de Tasa de Fertilidad=%{x}<br>Año=1998<br>Número de Países=%{y}<extra></extra>",
           "legendgroup": "Bajo del límite de equilibrio",
           "marker": {
            "color": "red",
            "pattern": {
             "shape": ""
            }
           },
           "name": "Bajo del límite de equilibrio",
           "orientation": "v",
           "showlegend": true,
           "textposition": "auto",
           "type": "bar",
           "x": [
            "Bajo del límite de equilibrio"
           ],
           "xaxis": "x",
           "y": {
            "bdata": "BA==",
            "dtype": "i1"
           },
           "yaxis": "y"
          }
         ],
         "name": "1998"
        },
        {
         "data": [
          {
           "hovertemplate": "Grupo de Tasa de Fertilidad=%{x}<br>Año=1999<br>Número de Países=%{y}<extra></extra>",
           "legendgroup": "Duplicación",
           "marker": {
            "color": "blue",
            "pattern": {
             "shape": ""
            }
           },
           "name": "Duplicación",
           "orientation": "v",
           "showlegend": true,
           "textposition": "auto",
           "type": "bar",
           "x": [
            "Duplicación"
           ],
           "xaxis": "x",
           "y": {
            "bdata": "Aw==",
            "dtype": "i1"
           },
           "yaxis": "y"
          },
          {
           "hovertemplate": "Grupo de Tasa de Fertilidad=%{x}<br>Año=1999<br>Número de Países=%{y}<extra></extra>",
           "legendgroup": "Sobre el límite del equilibrio",
           "marker": {
            "color": "orange",
            "pattern": {
             "shape": ""
            }
           },
           "name": "Sobre el límite del equilibrio",
           "orientation": "v",
           "showlegend": true,
           "textposition": "auto",
           "type": "bar",
           "x": [
            "Sobre el límite del equilibrio"
           ],
           "xaxis": "x",
           "y": {
            "bdata": "Bg==",
            "dtype": "i1"
           },
           "yaxis": "y"
          },
          {
           "hovertemplate": "Grupo de Tasa de Fertilidad=%{x}<br>Año=1999<br>Número de Países=%{y}<extra></extra>",
           "legendgroup": "Bajo del límite de equilibrio",
           "marker": {
            "color": "red",
            "pattern": {
             "shape": ""
            }
           },
           "name": "Bajo del límite de equilibrio",
           "orientation": "v",
           "showlegend": true,
           "textposition": "auto",
           "type": "bar",
           "x": [
            "Bajo del límite de equilibrio"
           ],
           "xaxis": "x",
           "y": {
            "bdata": "BA==",
            "dtype": "i1"
           },
           "yaxis": "y"
          }
         ],
         "name": "1999"
        },
        {
         "data": [
          {
           "hovertemplate": "Grupo de Tasa de Fertilidad=%{x}<br>Año=2000<br>Número de Países=%{y}<extra></extra>",
           "legendgroup": "Duplicación",
           "marker": {
            "color": "blue",
            "pattern": {
             "shape": ""
            }
           },
           "name": "Duplicación",
           "orientation": "v",
           "showlegend": true,
           "textposition": "auto",
           "type": "bar",
           "x": [
            "Duplicación"
           ],
           "xaxis": "x",
           "y": {
            "bdata": "Aw==",
            "dtype": "i1"
           },
           "yaxis": "y"
          },
          {
           "hovertemplate": "Grupo de Tasa de Fertilidad=%{x}<br>Año=2000<br>Número de Países=%{y}<extra></extra>",
           "legendgroup": "Sobre el límite del equilibrio",
           "marker": {
            "color": "orange",
            "pattern": {
             "shape": ""
            }
           },
           "name": "Sobre el límite del equilibrio",
           "orientation": "v",
           "showlegend": true,
           "textposition": "auto",
           "type": "bar",
           "x": [
            "Sobre el límite del equilibrio"
           ],
           "xaxis": "x",
           "y": {
            "bdata": "Bg==",
            "dtype": "i1"
           },
           "yaxis": "y"
          },
          {
           "hovertemplate": "Grupo de Tasa de Fertilidad=%{x}<br>Año=2000<br>Número de Países=%{y}<extra></extra>",
           "legendgroup": "Bajo del límite de equilibrio",
           "marker": {
            "color": "red",
            "pattern": {
             "shape": ""
            }
           },
           "name": "Bajo del límite de equilibrio",
           "orientation": "v",
           "showlegend": true,
           "textposition": "auto",
           "type": "bar",
           "x": [
            "Bajo del límite de equilibrio"
           ],
           "xaxis": "x",
           "y": {
            "bdata": "BA==",
            "dtype": "i1"
           },
           "yaxis": "y"
          }
         ],
         "name": "2000"
        },
        {
         "data": [
          {
           "hovertemplate": "Grupo de Tasa de Fertilidad=%{x}<br>Año=2001<br>Número de Países=%{y}<extra></extra>",
           "legendgroup": "Duplicación",
           "marker": {
            "color": "blue",
            "pattern": {
             "shape": ""
            }
           },
           "name": "Duplicación",
           "orientation": "v",
           "showlegend": true,
           "textposition": "auto",
           "type": "bar",
           "x": [
            "Duplicación"
           ],
           "xaxis": "x",
           "y": {
            "bdata": "Aw==",
            "dtype": "i1"
           },
           "yaxis": "y"
          },
          {
           "hovertemplate": "Grupo de Tasa de Fertilidad=%{x}<br>Año=2001<br>Número de Países=%{y}<extra></extra>",
           "legendgroup": "Sobre el límite del equilibrio",
           "marker": {
            "color": "orange",
            "pattern": {
             "shape": ""
            }
           },
           "name": "Sobre el límite del equilibrio",
           "orientation": "v",
           "showlegend": true,
           "textposition": "auto",
           "type": "bar",
           "x": [
            "Sobre el límite del equilibrio"
           ],
           "xaxis": "x",
           "y": {
            "bdata": "Bg==",
            "dtype": "i1"
           },
           "yaxis": "y"
          },
          {
           "hovertemplate": "Grupo de Tasa de Fertilidad=%{x}<br>Año=2001<br>Número de Países=%{y}<extra></extra>",
           "legendgroup": "Bajo del límite de equilibrio",
           "marker": {
            "color": "red",
            "pattern": {
             "shape": ""
            }
           },
           "name": "Bajo del límite de equilibrio",
           "orientation": "v",
           "showlegend": true,
           "textposition": "auto",
           "type": "bar",
           "x": [
            "Bajo del límite de equilibrio"
           ],
           "xaxis": "x",
           "y": {
            "bdata": "BA==",
            "dtype": "i1"
           },
           "yaxis": "y"
          }
         ],
         "name": "2001"
        },
        {
         "data": [
          {
           "hovertemplate": "Grupo de Tasa de Fertilidad=%{x}<br>Año=2002<br>Número de Países=%{y}<extra></extra>",
           "legendgroup": "Duplicación",
           "marker": {
            "color": "blue",
            "pattern": {
             "shape": ""
            }
           },
           "name": "Duplicación",
           "orientation": "v",
           "showlegend": true,
           "textposition": "auto",
           "type": "bar",
           "x": [
            "Duplicación"
           ],
           "xaxis": "x",
           "y": {
            "bdata": "Aw==",
            "dtype": "i1"
           },
           "yaxis": "y"
          },
          {
           "hovertemplate": "Grupo de Tasa de Fertilidad=%{x}<br>Año=2002<br>Número de Países=%{y}<extra></extra>",
           "legendgroup": "Sobre el límite del equilibrio",
           "marker": {
            "color": "orange",
            "pattern": {
             "shape": ""
            }
           },
           "name": "Sobre el límite del equilibrio",
           "orientation": "v",
           "showlegend": true,
           "textposition": "auto",
           "type": "bar",
           "x": [
            "Sobre el límite del equilibrio"
           ],
           "xaxis": "x",
           "y": {
            "bdata": "Bg==",
            "dtype": "i1"
           },
           "yaxis": "y"
          },
          {
           "hovertemplate": "Grupo de Tasa de Fertilidad=%{x}<br>Año=2002<br>Número de Países=%{y}<extra></extra>",
           "legendgroup": "Bajo del límite de equilibrio",
           "marker": {
            "color": "red",
            "pattern": {
             "shape": ""
            }
           },
           "name": "Bajo del límite de equilibrio",
           "orientation": "v",
           "showlegend": true,
           "textposition": "auto",
           "type": "bar",
           "x": [
            "Bajo del límite de equilibrio"
           ],
           "xaxis": "x",
           "y": {
            "bdata": "BA==",
            "dtype": "i1"
           },
           "yaxis": "y"
          }
         ],
         "name": "2002"
        },
        {
         "data": [
          {
           "hovertemplate": "Grupo de Tasa de Fertilidad=%{x}<br>Año=2003<br>Número de Países=%{y}<extra></extra>",
           "legendgroup": "Duplicación",
           "marker": {
            "color": "blue",
            "pattern": {
             "shape": ""
            }
           },
           "name": "Duplicación",
           "orientation": "v",
           "showlegend": true,
           "textposition": "auto",
           "type": "bar",
           "x": [
            "Duplicación"
           ],
           "xaxis": "x",
           "y": {
            "bdata": "Aw==",
            "dtype": "i1"
           },
           "yaxis": "y"
          },
          {
           "hovertemplate": "Grupo de Tasa de Fertilidad=%{x}<br>Año=2003<br>Número de Países=%{y}<extra></extra>",
           "legendgroup": "Sobre el límite del equilibrio",
           "marker": {
            "color": "orange",
            "pattern": {
             "shape": ""
            }
           },
           "name": "Sobre el límite del equilibrio",
           "orientation": "v",
           "showlegend": true,
           "textposition": "auto",
           "type": "bar",
           "x": [
            "Sobre el límite del equilibrio"
           ],
           "xaxis": "x",
           "y": {
            "bdata": "Bg==",
            "dtype": "i1"
           },
           "yaxis": "y"
          },
          {
           "hovertemplate": "Grupo de Tasa de Fertilidad=%{x}<br>Año=2003<br>Número de Países=%{y}<extra></extra>",
           "legendgroup": "Bajo del límite de equilibrio",
           "marker": {
            "color": "red",
            "pattern": {
             "shape": ""
            }
           },
           "name": "Bajo del límite de equilibrio",
           "orientation": "v",
           "showlegend": true,
           "textposition": "auto",
           "type": "bar",
           "x": [
            "Bajo del límite de equilibrio"
           ],
           "xaxis": "x",
           "y": {
            "bdata": "BA==",
            "dtype": "i1"
           },
           "yaxis": "y"
          }
         ],
         "name": "2003"
        },
        {
         "data": [
          {
           "hovertemplate": "Grupo de Tasa de Fertilidad=%{x}<br>Año=2004<br>Número de Países=%{y}<extra></extra>",
           "legendgroup": "Duplicación",
           "marker": {
            "color": "blue",
            "pattern": {
             "shape": ""
            }
           },
           "name": "Duplicación",
           "orientation": "v",
           "showlegend": true,
           "textposition": "auto",
           "type": "bar",
           "x": [
            "Duplicación"
           ],
           "xaxis": "x",
           "y": {
            "bdata": "Aw==",
            "dtype": "i1"
           },
           "yaxis": "y"
          },
          {
           "hovertemplate": "Grupo de Tasa de Fertilidad=%{x}<br>Año=2004<br>Número de Países=%{y}<extra></extra>",
           "legendgroup": "Sobre el límite del equilibrio",
           "marker": {
            "color": "orange",
            "pattern": {
             "shape": ""
            }
           },
           "name": "Sobre el límite del equilibrio",
           "orientation": "v",
           "showlegend": true,
           "textposition": "auto",
           "type": "bar",
           "x": [
            "Sobre el límite del equilibrio"
           ],
           "xaxis": "x",
           "y": {
            "bdata": "Bg==",
            "dtype": "i1"
           },
           "yaxis": "y"
          },
          {
           "hovertemplate": "Grupo de Tasa de Fertilidad=%{x}<br>Año=2004<br>Número de Países=%{y}<extra></extra>",
           "legendgroup": "Bajo del límite de equilibrio",
           "marker": {
            "color": "red",
            "pattern": {
             "shape": ""
            }
           },
           "name": "Bajo del límite de equilibrio",
           "orientation": "v",
           "showlegend": true,
           "textposition": "auto",
           "type": "bar",
           "x": [
            "Bajo del límite de equilibrio"
           ],
           "xaxis": "x",
           "y": {
            "bdata": "BA==",
            "dtype": "i1"
           },
           "yaxis": "y"
          }
         ],
         "name": "2004"
        },
        {
         "data": [
          {
           "hovertemplate": "Grupo de Tasa de Fertilidad=%{x}<br>Año=2005<br>Número de Países=%{y}<extra></extra>",
           "legendgroup": "Duplicación",
           "marker": {
            "color": "blue",
            "pattern": {
             "shape": ""
            }
           },
           "name": "Duplicación",
           "orientation": "v",
           "showlegend": true,
           "textposition": "auto",
           "type": "bar",
           "x": [
            "Duplicación"
           ],
           "xaxis": "x",
           "y": {
            "bdata": "Aw==",
            "dtype": "i1"
           },
           "yaxis": "y"
          },
          {
           "hovertemplate": "Grupo de Tasa de Fertilidad=%{x}<br>Año=2005<br>Número de Países=%{y}<extra></extra>",
           "legendgroup": "Sobre el límite del equilibrio",
           "marker": {
            "color": "orange",
            "pattern": {
             "shape": ""
            }
           },
           "name": "Sobre el límite del equilibrio",
           "orientation": "v",
           "showlegend": true,
           "textposition": "auto",
           "type": "bar",
           "x": [
            "Sobre el límite del equilibrio"
           ],
           "xaxis": "x",
           "y": {
            "bdata": "Bg==",
            "dtype": "i1"
           },
           "yaxis": "y"
          },
          {
           "hovertemplate": "Grupo de Tasa de Fertilidad=%{x}<br>Año=2005<br>Número de Países=%{y}<extra></extra>",
           "legendgroup": "Bajo del límite de equilibrio",
           "marker": {
            "color": "red",
            "pattern": {
             "shape": ""
            }
           },
           "name": "Bajo del límite de equilibrio",
           "orientation": "v",
           "showlegend": true,
           "textposition": "auto",
           "type": "bar",
           "x": [
            "Bajo del límite de equilibrio"
           ],
           "xaxis": "x",
           "y": {
            "bdata": "BA==",
            "dtype": "i1"
           },
           "yaxis": "y"
          }
         ],
         "name": "2005"
        },
        {
         "data": [
          {
           "hovertemplate": "Grupo de Tasa de Fertilidad=%{x}<br>Año=2006<br>Número de Países=%{y}<extra></extra>",
           "legendgroup": "Duplicación",
           "marker": {
            "color": "blue",
            "pattern": {
             "shape": ""
            }
           },
           "name": "Duplicación",
           "orientation": "v",
           "showlegend": true,
           "textposition": "auto",
           "type": "bar",
           "x": [
            "Duplicación"
           ],
           "xaxis": "x",
           "y": {
            "bdata": "Aw==",
            "dtype": "i1"
           },
           "yaxis": "y"
          },
          {
           "hovertemplate": "Grupo de Tasa de Fertilidad=%{x}<br>Año=2006<br>Número de Países=%{y}<extra></extra>",
           "legendgroup": "Sobre el límite del equilibrio",
           "marker": {
            "color": "orange",
            "pattern": {
             "shape": ""
            }
           },
           "name": "Sobre el límite del equilibrio",
           "orientation": "v",
           "showlegend": true,
           "textposition": "auto",
           "type": "bar",
           "x": [
            "Sobre el límite del equilibrio"
           ],
           "xaxis": "x",
           "y": {
            "bdata": "Bg==",
            "dtype": "i1"
           },
           "yaxis": "y"
          },
          {
           "hovertemplate": "Grupo de Tasa de Fertilidad=%{x}<br>Año=2006<br>Número de Países=%{y}<extra></extra>",
           "legendgroup": "Bajo del límite de equilibrio",
           "marker": {
            "color": "red",
            "pattern": {
             "shape": ""
            }
           },
           "name": "Bajo del límite de equilibrio",
           "orientation": "v",
           "showlegend": true,
           "textposition": "auto",
           "type": "bar",
           "x": [
            "Bajo del límite de equilibrio"
           ],
           "xaxis": "x",
           "y": {
            "bdata": "BA==",
            "dtype": "i1"
           },
           "yaxis": "y"
          }
         ],
         "name": "2006"
        },
        {
         "data": [
          {
           "hovertemplate": "Grupo de Tasa de Fertilidad=%{x}<br>Año=2007<br>Número de Países=%{y}<extra></extra>",
           "legendgroup": "Duplicación",
           "marker": {
            "color": "blue",
            "pattern": {
             "shape": ""
            }
           },
           "name": "Duplicación",
           "orientation": "v",
           "showlegend": true,
           "textposition": "auto",
           "type": "bar",
           "x": [
            "Duplicación"
           ],
           "xaxis": "x",
           "y": {
            "bdata": "Aw==",
            "dtype": "i1"
           },
           "yaxis": "y"
          },
          {
           "hovertemplate": "Grupo de Tasa de Fertilidad=%{x}<br>Año=2007<br>Número de Países=%{y}<extra></extra>",
           "legendgroup": "Sobre el límite del equilibrio",
           "marker": {
            "color": "orange",
            "pattern": {
             "shape": ""
            }
           },
           "name": "Sobre el límite del equilibrio",
           "orientation": "v",
           "showlegend": true,
           "textposition": "auto",
           "type": "bar",
           "x": [
            "Sobre el límite del equilibrio"
           ],
           "xaxis": "x",
           "y": {
            "bdata": "Bg==",
            "dtype": "i1"
           },
           "yaxis": "y"
          },
          {
           "hovertemplate": "Grupo de Tasa de Fertilidad=%{x}<br>Año=2007<br>Número de Países=%{y}<extra></extra>",
           "legendgroup": "Bajo del límite de equilibrio",
           "marker": {
            "color": "red",
            "pattern": {
             "shape": ""
            }
           },
           "name": "Bajo del límite de equilibrio",
           "orientation": "v",
           "showlegend": true,
           "textposition": "auto",
           "type": "bar",
           "x": [
            "Bajo del límite de equilibrio"
           ],
           "xaxis": "x",
           "y": {
            "bdata": "BA==",
            "dtype": "i1"
           },
           "yaxis": "y"
          }
         ],
         "name": "2007"
        },
        {
         "data": [
          {
           "hovertemplate": "Grupo de Tasa de Fertilidad=%{x}<br>Año=2008<br>Número de Países=%{y}<extra></extra>",
           "legendgroup": "Duplicación",
           "marker": {
            "color": "blue",
            "pattern": {
             "shape": ""
            }
           },
           "name": "Duplicación",
           "orientation": "v",
           "showlegend": true,
           "textposition": "auto",
           "type": "bar",
           "x": [
            "Duplicación"
           ],
           "xaxis": "x",
           "y": {
            "bdata": "Aw==",
            "dtype": "i1"
           },
           "yaxis": "y"
          },
          {
           "hovertemplate": "Grupo de Tasa de Fertilidad=%{x}<br>Año=2008<br>Número de Países=%{y}<extra></extra>",
           "legendgroup": "Sobre el límite del equilibrio",
           "marker": {
            "color": "orange",
            "pattern": {
             "shape": ""
            }
           },
           "name": "Sobre el límite del equilibrio",
           "orientation": "v",
           "showlegend": true,
           "textposition": "auto",
           "type": "bar",
           "x": [
            "Sobre el límite del equilibrio"
           ],
           "xaxis": "x",
           "y": {
            "bdata": "Bg==",
            "dtype": "i1"
           },
           "yaxis": "y"
          },
          {
           "hovertemplate": "Grupo de Tasa de Fertilidad=%{x}<br>Año=2008<br>Número de Países=%{y}<extra></extra>",
           "legendgroup": "Bajo del límite de equilibrio",
           "marker": {
            "color": "red",
            "pattern": {
             "shape": ""
            }
           },
           "name": "Bajo del límite de equilibrio",
           "orientation": "v",
           "showlegend": true,
           "textposition": "auto",
           "type": "bar",
           "x": [
            "Bajo del límite de equilibrio"
           ],
           "xaxis": "x",
           "y": {
            "bdata": "BA==",
            "dtype": "i1"
           },
           "yaxis": "y"
          }
         ],
         "name": "2008"
        },
        {
         "data": [
          {
           "hovertemplate": "Grupo de Tasa de Fertilidad=%{x}<br>Año=2009<br>Número de Países=%{y}<extra></extra>",
           "legendgroup": "Duplicación",
           "marker": {
            "color": "blue",
            "pattern": {
             "shape": ""
            }
           },
           "name": "Duplicación",
           "orientation": "v",
           "showlegend": true,
           "textposition": "auto",
           "type": "bar",
           "x": [
            "Duplicación"
           ],
           "xaxis": "x",
           "y": {
            "bdata": "Aw==",
            "dtype": "i1"
           },
           "yaxis": "y"
          },
          {
           "hovertemplate": "Grupo de Tasa de Fertilidad=%{x}<br>Año=2009<br>Número de Países=%{y}<extra></extra>",
           "legendgroup": "Sobre el límite del equilibrio",
           "marker": {
            "color": "orange",
            "pattern": {
             "shape": ""
            }
           },
           "name": "Sobre el límite del equilibrio",
           "orientation": "v",
           "showlegend": true,
           "textposition": "auto",
           "type": "bar",
           "x": [
            "Sobre el límite del equilibrio"
           ],
           "xaxis": "x",
           "y": {
            "bdata": "Bg==",
            "dtype": "i1"
           },
           "yaxis": "y"
          },
          {
           "hovertemplate": "Grupo de Tasa de Fertilidad=%{x}<br>Año=2009<br>Número de Países=%{y}<extra></extra>",
           "legendgroup": "Bajo del límite de equilibrio",
           "marker": {
            "color": "red",
            "pattern": {
             "shape": ""
            }
           },
           "name": "Bajo del límite de equilibrio",
           "orientation": "v",
           "showlegend": true,
           "textposition": "auto",
           "type": "bar",
           "x": [
            "Bajo del límite de equilibrio"
           ],
           "xaxis": "x",
           "y": {
            "bdata": "BA==",
            "dtype": "i1"
           },
           "yaxis": "y"
          }
         ],
         "name": "2009"
        },
        {
         "data": [
          {
           "hovertemplate": "Grupo de Tasa de Fertilidad=%{x}<br>Año=2010<br>Número de Países=%{y}<extra></extra>",
           "legendgroup": "Duplicación",
           "marker": {
            "color": "blue",
            "pattern": {
             "shape": ""
            }
           },
           "name": "Duplicación",
           "orientation": "v",
           "showlegend": true,
           "textposition": "auto",
           "type": "bar",
           "x": [
            "Duplicación"
           ],
           "xaxis": "x",
           "y": {
            "bdata": "Aw==",
            "dtype": "i1"
           },
           "yaxis": "y"
          },
          {
           "hovertemplate": "Grupo de Tasa de Fertilidad=%{x}<br>Año=2010<br>Número de Países=%{y}<extra></extra>",
           "legendgroup": "Sobre el límite del equilibrio",
           "marker": {
            "color": "orange",
            "pattern": {
             "shape": ""
            }
           },
           "name": "Sobre el límite del equilibrio",
           "orientation": "v",
           "showlegend": true,
           "textposition": "auto",
           "type": "bar",
           "x": [
            "Sobre el límite del equilibrio"
           ],
           "xaxis": "x",
           "y": {
            "bdata": "Bg==",
            "dtype": "i1"
           },
           "yaxis": "y"
          },
          {
           "hovertemplate": "Grupo de Tasa de Fertilidad=%{x}<br>Año=2010<br>Número de Países=%{y}<extra></extra>",
           "legendgroup": "Bajo del límite de equilibrio",
           "marker": {
            "color": "red",
            "pattern": {
             "shape": ""
            }
           },
           "name": "Bajo del límite de equilibrio",
           "orientation": "v",
           "showlegend": true,
           "textposition": "auto",
           "type": "bar",
           "x": [
            "Bajo del límite de equilibrio"
           ],
           "xaxis": "x",
           "y": {
            "bdata": "BA==",
            "dtype": "i1"
           },
           "yaxis": "y"
          }
         ],
         "name": "2010"
        },
        {
         "data": [
          {
           "hovertemplate": "Grupo de Tasa de Fertilidad=%{x}<br>Año=2011<br>Número de Países=%{y}<extra></extra>",
           "legendgroup": "Duplicación",
           "marker": {
            "color": "blue",
            "pattern": {
             "shape": ""
            }
           },
           "name": "Duplicación",
           "orientation": "v",
           "showlegend": true,
           "textposition": "auto",
           "type": "bar",
           "x": [
            "Duplicación"
           ],
           "xaxis": "x",
           "y": {
            "bdata": "Aw==",
            "dtype": "i1"
           },
           "yaxis": "y"
          },
          {
           "hovertemplate": "Grupo de Tasa de Fertilidad=%{x}<br>Año=2011<br>Número de Países=%{y}<extra></extra>",
           "legendgroup": "Sobre el límite del equilibrio",
           "marker": {
            "color": "orange",
            "pattern": {
             "shape": ""
            }
           },
           "name": "Sobre el límite del equilibrio",
           "orientation": "v",
           "showlegend": true,
           "textposition": "auto",
           "type": "bar",
           "x": [
            "Sobre el límite del equilibrio"
           ],
           "xaxis": "x",
           "y": {
            "bdata": "Bg==",
            "dtype": "i1"
           },
           "yaxis": "y"
          },
          {
           "hovertemplate": "Grupo de Tasa de Fertilidad=%{x}<br>Año=2011<br>Número de Países=%{y}<extra></extra>",
           "legendgroup": "Bajo del límite de equilibrio",
           "marker": {
            "color": "red",
            "pattern": {
             "shape": ""
            }
           },
           "name": "Bajo del límite de equilibrio",
           "orientation": "v",
           "showlegend": true,
           "textposition": "auto",
           "type": "bar",
           "x": [
            "Bajo del límite de equilibrio"
           ],
           "xaxis": "x",
           "y": {
            "bdata": "BA==",
            "dtype": "i1"
           },
           "yaxis": "y"
          }
         ],
         "name": "2011"
        },
        {
         "data": [
          {
           "hovertemplate": "Grupo de Tasa de Fertilidad=%{x}<br>Año=2012<br>Número de Países=%{y}<extra></extra>",
           "legendgroup": "Duplicación",
           "marker": {
            "color": "blue",
            "pattern": {
             "shape": ""
            }
           },
           "name": "Duplicación",
           "orientation": "v",
           "showlegend": true,
           "textposition": "auto",
           "type": "bar",
           "x": [
            "Duplicación"
           ],
           "xaxis": "x",
           "y": {
            "bdata": "Aw==",
            "dtype": "i1"
           },
           "yaxis": "y"
          },
          {
           "hovertemplate": "Grupo de Tasa de Fertilidad=%{x}<br>Año=2012<br>Número de Países=%{y}<extra></extra>",
           "legendgroup": "Sobre el límite del equilibrio",
           "marker": {
            "color": "orange",
            "pattern": {
             "shape": ""
            }
           },
           "name": "Sobre el límite del equilibrio",
           "orientation": "v",
           "showlegend": true,
           "textposition": "auto",
           "type": "bar",
           "x": [
            "Sobre el límite del equilibrio"
           ],
           "xaxis": "x",
           "y": {
            "bdata": "Bg==",
            "dtype": "i1"
           },
           "yaxis": "y"
          },
          {
           "hovertemplate": "Grupo de Tasa de Fertilidad=%{x}<br>Año=2012<br>Número de Países=%{y}<extra></extra>",
           "legendgroup": "Bajo del límite de equilibrio",
           "marker": {
            "color": "red",
            "pattern": {
             "shape": ""
            }
           },
           "name": "Bajo del límite de equilibrio",
           "orientation": "v",
           "showlegend": true,
           "textposition": "auto",
           "type": "bar",
           "x": [
            "Bajo del límite de equilibrio"
           ],
           "xaxis": "x",
           "y": {
            "bdata": "BA==",
            "dtype": "i1"
           },
           "yaxis": "y"
          }
         ],
         "name": "2012"
        },
        {
         "data": [
          {
           "hovertemplate": "Grupo de Tasa de Fertilidad=%{x}<br>Año=2013<br>Número de Países=%{y}<extra></extra>",
           "legendgroup": "Duplicación",
           "marker": {
            "color": "blue",
            "pattern": {
             "shape": ""
            }
           },
           "name": "Duplicación",
           "orientation": "v",
           "showlegend": true,
           "textposition": "auto",
           "type": "bar",
           "x": [
            "Duplicación"
           ],
           "xaxis": "x",
           "y": {
            "bdata": "Aw==",
            "dtype": "i1"
           },
           "yaxis": "y"
          },
          {
           "hovertemplate": "Grupo de Tasa de Fertilidad=%{x}<br>Año=2013<br>Número de Países=%{y}<extra></extra>",
           "legendgroup": "Sobre el límite del equilibrio",
           "marker": {
            "color": "orange",
            "pattern": {
             "shape": ""
            }
           },
           "name": "Sobre el límite del equilibrio",
           "orientation": "v",
           "showlegend": true,
           "textposition": "auto",
           "type": "bar",
           "x": [
            "Sobre el límite del equilibrio"
           ],
           "xaxis": "x",
           "y": {
            "bdata": "Bg==",
            "dtype": "i1"
           },
           "yaxis": "y"
          },
          {
           "hovertemplate": "Grupo de Tasa de Fertilidad=%{x}<br>Año=2013<br>Número de Países=%{y}<extra></extra>",
           "legendgroup": "Bajo del límite de equilibrio",
           "marker": {
            "color": "red",
            "pattern": {
             "shape": ""
            }
           },
           "name": "Bajo del límite de equilibrio",
           "orientation": "v",
           "showlegend": true,
           "textposition": "auto",
           "type": "bar",
           "x": [
            "Bajo del límite de equilibrio"
           ],
           "xaxis": "x",
           "y": {
            "bdata": "BA==",
            "dtype": "i1"
           },
           "yaxis": "y"
          }
         ],
         "name": "2013"
        },
        {
         "data": [
          {
           "hovertemplate": "Grupo de Tasa de Fertilidad=%{x}<br>Año=2014<br>Número de Países=%{y}<extra></extra>",
           "legendgroup": "Duplicación",
           "marker": {
            "color": "blue",
            "pattern": {
             "shape": ""
            }
           },
           "name": "Duplicación",
           "orientation": "v",
           "showlegend": true,
           "textposition": "auto",
           "type": "bar",
           "x": [
            "Duplicación"
           ],
           "xaxis": "x",
           "y": {
            "bdata": "Aw==",
            "dtype": "i1"
           },
           "yaxis": "y"
          },
          {
           "hovertemplate": "Grupo de Tasa de Fertilidad=%{x}<br>Año=2014<br>Número de Países=%{y}<extra></extra>",
           "legendgroup": "Sobre el límite del equilibrio",
           "marker": {
            "color": "orange",
            "pattern": {
             "shape": ""
            }
           },
           "name": "Sobre el límite del equilibrio",
           "orientation": "v",
           "showlegend": true,
           "textposition": "auto",
           "type": "bar",
           "x": [
            "Sobre el límite del equilibrio"
           ],
           "xaxis": "x",
           "y": {
            "bdata": "Bg==",
            "dtype": "i1"
           },
           "yaxis": "y"
          },
          {
           "hovertemplate": "Grupo de Tasa de Fertilidad=%{x}<br>Año=2014<br>Número de Países=%{y}<extra></extra>",
           "legendgroup": "Bajo del límite de equilibrio",
           "marker": {
            "color": "red",
            "pattern": {
             "shape": ""
            }
           },
           "name": "Bajo del límite de equilibrio",
           "orientation": "v",
           "showlegend": true,
           "textposition": "auto",
           "type": "bar",
           "x": [
            "Bajo del límite de equilibrio"
           ],
           "xaxis": "x",
           "y": {
            "bdata": "BA==",
            "dtype": "i1"
           },
           "yaxis": "y"
          }
         ],
         "name": "2014"
        },
        {
         "data": [
          {
           "hovertemplate": "Grupo de Tasa de Fertilidad=%{x}<br>Año=2015<br>Número de Países=%{y}<extra></extra>",
           "legendgroup": "Duplicación",
           "marker": {
            "color": "blue",
            "pattern": {
             "shape": ""
            }
           },
           "name": "Duplicación",
           "orientation": "v",
           "showlegend": true,
           "textposition": "auto",
           "type": "bar",
           "x": [
            "Duplicación"
           ],
           "xaxis": "x",
           "y": {
            "bdata": "Aw==",
            "dtype": "i1"
           },
           "yaxis": "y"
          },
          {
           "hovertemplate": "Grupo de Tasa de Fertilidad=%{x}<br>Año=2015<br>Número de Países=%{y}<extra></extra>",
           "legendgroup": "Sobre el límite del equilibrio",
           "marker": {
            "color": "orange",
            "pattern": {
             "shape": ""
            }
           },
           "name": "Sobre el límite del equilibrio",
           "orientation": "v",
           "showlegend": true,
           "textposition": "auto",
           "type": "bar",
           "x": [
            "Sobre el límite del equilibrio"
           ],
           "xaxis": "x",
           "y": {
            "bdata": "BQ==",
            "dtype": "i1"
           },
           "yaxis": "y"
          },
          {
           "hovertemplate": "Grupo de Tasa de Fertilidad=%{x}<br>Año=2015<br>Número de Países=%{y}<extra></extra>",
           "legendgroup": "Bajo del límite de equilibrio",
           "marker": {
            "color": "red",
            "pattern": {
             "shape": ""
            }
           },
           "name": "Bajo del límite de equilibrio",
           "orientation": "v",
           "showlegend": true,
           "textposition": "auto",
           "type": "bar",
           "x": [
            "Bajo del límite de equilibrio"
           ],
           "xaxis": "x",
           "y": {
            "bdata": "BQ==",
            "dtype": "i1"
           },
           "yaxis": "y"
          }
         ],
         "name": "2015"
        },
        {
         "data": [
          {
           "hovertemplate": "Grupo de Tasa de Fertilidad=%{x}<br>Año=2016<br>Número de Países=%{y}<extra></extra>",
           "legendgroup": "Duplicación",
           "marker": {
            "color": "blue",
            "pattern": {
             "shape": ""
            }
           },
           "name": "Duplicación",
           "orientation": "v",
           "showlegend": true,
           "textposition": "auto",
           "type": "bar",
           "x": [
            "Duplicación"
           ],
           "xaxis": "x",
           "y": {
            "bdata": "Aw==",
            "dtype": "i1"
           },
           "yaxis": "y"
          },
          {
           "hovertemplate": "Grupo de Tasa de Fertilidad=%{x}<br>Año=2016<br>Número de Países=%{y}<extra></extra>",
           "legendgroup": "Sobre el límite del equilibrio",
           "marker": {
            "color": "orange",
            "pattern": {
             "shape": ""
            }
           },
           "name": "Sobre el límite del equilibrio",
           "orientation": "v",
           "showlegend": true,
           "textposition": "auto",
           "type": "bar",
           "x": [
            "Sobre el límite del equilibrio"
           ],
           "xaxis": "x",
           "y": {
            "bdata": "BA==",
            "dtype": "i1"
           },
           "yaxis": "y"
          },
          {
           "hovertemplate": "Grupo de Tasa de Fertilidad=%{x}<br>Año=2016<br>Número de Países=%{y}<extra></extra>",
           "legendgroup": "Bajo del límite de equilibrio",
           "marker": {
            "color": "red",
            "pattern": {
             "shape": ""
            }
           },
           "name": "Bajo del límite de equilibrio",
           "orientation": "v",
           "showlegend": true,
           "textposition": "auto",
           "type": "bar",
           "x": [
            "Bajo del límite de equilibrio"
           ],
           "xaxis": "x",
           "y": {
            "bdata": "Bg==",
            "dtype": "i1"
           },
           "yaxis": "y"
          }
         ],
         "name": "2016"
        },
        {
         "data": [
          {
           "hovertemplate": "Grupo de Tasa de Fertilidad=%{x}<br>Año=2017<br>Número de Países=%{y}<extra></extra>",
           "legendgroup": "Duplicación",
           "marker": {
            "color": "blue",
            "pattern": {
             "shape": ""
            }
           },
           "name": "Duplicación",
           "orientation": "v",
           "showlegend": true,
           "textposition": "auto",
           "type": "bar",
           "x": [
            "Duplicación"
           ],
           "xaxis": "x",
           "y": {
            "bdata": "Aw==",
            "dtype": "i1"
           },
           "yaxis": "y"
          },
          {
           "hovertemplate": "Grupo de Tasa de Fertilidad=%{x}<br>Año=2017<br>Número de Países=%{y}<extra></extra>",
           "legendgroup": "Sobre el límite del equilibrio",
           "marker": {
            "color": "orange",
            "pattern": {
             "shape": ""
            }
           },
           "name": "Sobre el límite del equilibrio",
           "orientation": "v",
           "showlegend": true,
           "textposition": "auto",
           "type": "bar",
           "x": [
            "Sobre el límite del equilibrio"
           ],
           "xaxis": "x",
           "y": {
            "bdata": "BA==",
            "dtype": "i1"
           },
           "yaxis": "y"
          },
          {
           "hovertemplate": "Grupo de Tasa de Fertilidad=%{x}<br>Año=2017<br>Número de Países=%{y}<extra></extra>",
           "legendgroup": "Bajo del límite de equilibrio",
           "marker": {
            "color": "red",
            "pattern": {
             "shape": ""
            }
           },
           "name": "Bajo del límite de equilibrio",
           "orientation": "v",
           "showlegend": true,
           "textposition": "auto",
           "type": "bar",
           "x": [
            "Bajo del límite de equilibrio"
           ],
           "xaxis": "x",
           "y": {
            "bdata": "Bg==",
            "dtype": "i1"
           },
           "yaxis": "y"
          }
         ],
         "name": "2017"
        },
        {
         "data": [
          {
           "hovertemplate": "Grupo de Tasa de Fertilidad=%{x}<br>Año=2018<br>Número de Países=%{y}<extra></extra>",
           "legendgroup": "Duplicación",
           "marker": {
            "color": "blue",
            "pattern": {
             "shape": ""
            }
           },
           "name": "Duplicación",
           "orientation": "v",
           "showlegend": true,
           "textposition": "auto",
           "type": "bar",
           "x": [
            "Duplicación"
           ],
           "xaxis": "x",
           "y": {
            "bdata": "Aw==",
            "dtype": "i1"
           },
           "yaxis": "y"
          },
          {
           "hovertemplate": "Grupo de Tasa de Fertilidad=%{x}<br>Año=2018<br>Número de Países=%{y}<extra></extra>",
           "legendgroup": "Sobre el límite del equilibrio",
           "marker": {
            "color": "orange",
            "pattern": {
             "shape": ""
            }
           },
           "name": "Sobre el límite del equilibrio",
           "orientation": "v",
           "showlegend": true,
           "textposition": "auto",
           "type": "bar",
           "x": [
            "Sobre el límite del equilibrio"
           ],
           "xaxis": "x",
           "y": {
            "bdata": "BA==",
            "dtype": "i1"
           },
           "yaxis": "y"
          },
          {
           "hovertemplate": "Grupo de Tasa de Fertilidad=%{x}<br>Año=2018<br>Número de Países=%{y}<extra></extra>",
           "legendgroup": "Bajo del límite de equilibrio",
           "marker": {
            "color": "red",
            "pattern": {
             "shape": ""
            }
           },
           "name": "Bajo del límite de equilibrio",
           "orientation": "v",
           "showlegend": true,
           "textposition": "auto",
           "type": "bar",
           "x": [
            "Bajo del límite de equilibrio"
           ],
           "xaxis": "x",
           "y": {
            "bdata": "Bg==",
            "dtype": "i1"
           },
           "yaxis": "y"
          }
         ],
         "name": "2018"
        },
        {
         "data": [
          {
           "hovertemplate": "Grupo de Tasa de Fertilidad=%{x}<br>Año=2019<br>Número de Países=%{y}<extra></extra>",
           "legendgroup": "Duplicación",
           "marker": {
            "color": "blue",
            "pattern": {
             "shape": ""
            }
           },
           "name": "Duplicación",
           "orientation": "v",
           "showlegend": true,
           "textposition": "auto",
           "type": "bar",
           "x": [
            "Duplicación"
           ],
           "xaxis": "x",
           "y": {
            "bdata": "Aw==",
            "dtype": "i1"
           },
           "yaxis": "y"
          },
          {
           "hovertemplate": "Grupo de Tasa de Fertilidad=%{x}<br>Año=2019<br>Número de Países=%{y}<extra></extra>",
           "legendgroup": "Sobre el límite del equilibrio",
           "marker": {
            "color": "orange",
            "pattern": {
             "shape": ""
            }
           },
           "name": "Sobre el límite del equilibrio",
           "orientation": "v",
           "showlegend": true,
           "textposition": "auto",
           "type": "bar",
           "x": [
            "Sobre el límite del equilibrio"
           ],
           "xaxis": "x",
           "y": {
            "bdata": "BA==",
            "dtype": "i1"
           },
           "yaxis": "y"
          },
          {
           "hovertemplate": "Grupo de Tasa de Fertilidad=%{x}<br>Año=2019<br>Número de Países=%{y}<extra></extra>",
           "legendgroup": "Bajo del límite de equilibrio",
           "marker": {
            "color": "red",
            "pattern": {
             "shape": ""
            }
           },
           "name": "Bajo del límite de equilibrio",
           "orientation": "v",
           "showlegend": true,
           "textposition": "auto",
           "type": "bar",
           "x": [
            "Bajo del límite de equilibrio"
           ],
           "xaxis": "x",
           "y": {
            "bdata": "Bg==",
            "dtype": "i1"
           },
           "yaxis": "y"
          }
         ],
         "name": "2019"
        },
        {
         "data": [
          {
           "hovertemplate": "Grupo de Tasa de Fertilidad=%{x}<br>Año=2020<br>Número de Países=%{y}<extra></extra>",
           "legendgroup": "Duplicación",
           "marker": {
            "color": "blue",
            "pattern": {
             "shape": ""
            }
           },
           "name": "Duplicación",
           "orientation": "v",
           "showlegend": true,
           "textposition": "auto",
           "type": "bar",
           "x": [
            "Duplicación"
           ],
           "xaxis": "x",
           "y": {
            "bdata": "Aw==",
            "dtype": "i1"
           },
           "yaxis": "y"
          },
          {
           "hovertemplate": "Grupo de Tasa de Fertilidad=%{x}<br>Año=2020<br>Número de Países=%{y}<extra></extra>",
           "legendgroup": "Sobre el límite del equilibrio",
           "marker": {
            "color": "orange",
            "pattern": {
             "shape": ""
            }
           },
           "name": "Sobre el límite del equilibrio",
           "orientation": "v",
           "showlegend": true,
           "textposition": "auto",
           "type": "bar",
           "x": [
            "Sobre el límite del equilibrio"
           ],
           "xaxis": "x",
           "y": {
            "bdata": "BA==",
            "dtype": "i1"
           },
           "yaxis": "y"
          },
          {
           "hovertemplate": "Grupo de Tasa de Fertilidad=%{x}<br>Año=2020<br>Número de Países=%{y}<extra></extra>",
           "legendgroup": "Bajo del límite de equilibrio",
           "marker": {
            "color": "red",
            "pattern": {
             "shape": ""
            }
           },
           "name": "Bajo del límite de equilibrio",
           "orientation": "v",
           "showlegend": true,
           "textposition": "auto",
           "type": "bar",
           "x": [
            "Bajo del límite de equilibrio"
           ],
           "xaxis": "x",
           "y": {
            "bdata": "Bg==",
            "dtype": "i1"
           },
           "yaxis": "y"
          }
         ],
         "name": "2020"
        },
        {
         "data": [
          {
           "hovertemplate": "Grupo de Tasa de Fertilidad=%{x}<br>Año=2021<br>Número de Países=%{y}<extra></extra>",
           "legendgroup": "Duplicación",
           "marker": {
            "color": "blue",
            "pattern": {
             "shape": ""
            }
           },
           "name": "Duplicación",
           "orientation": "v",
           "showlegend": true,
           "textposition": "auto",
           "type": "bar",
           "x": [
            "Duplicación"
           ],
           "xaxis": "x",
           "y": {
            "bdata": "Aw==",
            "dtype": "i1"
           },
           "yaxis": "y"
          },
          {
           "hovertemplate": "Grupo de Tasa de Fertilidad=%{x}<br>Año=2021<br>Número de Países=%{y}<extra></extra>",
           "legendgroup": "Sobre el límite del equilibrio",
           "marker": {
            "color": "orange",
            "pattern": {
             "shape": ""
            }
           },
           "name": "Sobre el límite del equilibrio",
           "orientation": "v",
           "showlegend": true,
           "textposition": "auto",
           "type": "bar",
           "x": [
            "Sobre el límite del equilibrio"
           ],
           "xaxis": "x",
           "y": {
            "bdata": "BA==",
            "dtype": "i1"
           },
           "yaxis": "y"
          },
          {
           "hovertemplate": "Grupo de Tasa de Fertilidad=%{x}<br>Año=2021<br>Número de Países=%{y}<extra></extra>",
           "legendgroup": "Bajo del límite de equilibrio",
           "marker": {
            "color": "red",
            "pattern": {
             "shape": ""
            }
           },
           "name": "Bajo del límite de equilibrio",
           "orientation": "v",
           "showlegend": true,
           "textposition": "auto",
           "type": "bar",
           "x": [
            "Bajo del límite de equilibrio"
           ],
           "xaxis": "x",
           "y": {
            "bdata": "Bg==",
            "dtype": "i1"
           },
           "yaxis": "y"
          }
         ],
         "name": "2021"
        },
        {
         "data": [
          {
           "hovertemplate": "Grupo de Tasa de Fertilidad=%{x}<br>Año=2022<br>Número de Países=%{y}<extra></extra>",
           "legendgroup": "Duplicación",
           "marker": {
            "color": "blue",
            "pattern": {
             "shape": ""
            }
           },
           "name": "Duplicación",
           "orientation": "v",
           "showlegend": true,
           "textposition": "auto",
           "type": "bar",
           "x": [
            "Duplicación"
           ],
           "xaxis": "x",
           "y": {
            "bdata": "Aw==",
            "dtype": "i1"
           },
           "yaxis": "y"
          },
          {
           "hovertemplate": "Grupo de Tasa de Fertilidad=%{x}<br>Año=2022<br>Número de Países=%{y}<extra></extra>",
           "legendgroup": "Sobre el límite del equilibrio",
           "marker": {
            "color": "orange",
            "pattern": {
             "shape": ""
            }
           },
           "name": "Sobre el límite del equilibrio",
           "orientation": "v",
           "showlegend": true,
           "textposition": "auto",
           "type": "bar",
           "x": [
            "Sobre el límite del equilibrio"
           ],
           "xaxis": "x",
           "y": {
            "bdata": "BA==",
            "dtype": "i1"
           },
           "yaxis": "y"
          },
          {
           "hovertemplate": "Grupo de Tasa de Fertilidad=%{x}<br>Año=2022<br>Número de Países=%{y}<extra></extra>",
           "legendgroup": "Bajo del límite de equilibrio",
           "marker": {
            "color": "red",
            "pattern": {
             "shape": ""
            }
           },
           "name": "Bajo del límite de equilibrio",
           "orientation": "v",
           "showlegend": true,
           "textposition": "auto",
           "type": "bar",
           "x": [
            "Bajo del límite de equilibrio"
           ],
           "xaxis": "x",
           "y": {
            "bdata": "Bg==",
            "dtype": "i1"
           },
           "yaxis": "y"
          }
         ],
         "name": "2022"
        }
       ],
       "layout": {
        "barmode": "relative",
        "legend": {
         "title": {
          "text": "Grupo de Tasa de Fertilidad"
         },
         "tracegroupgap": 0
        },
        "sliders": [
         {
          "active": 0,
          "currentvalue": {
           "prefix": "Año="
          },
          "len": 0.9,
          "pad": {
           "b": 10,
           "t": 60
          },
          "steps": [
           {
            "args": [
             [
              "1974"
             ],
             {
              "frame": {
               "duration": 0,
               "redraw": true
              },
              "fromcurrent": true,
              "mode": "immediate",
              "transition": {
               "duration": 0,
               "easing": "linear"
              }
             }
            ],
            "label": "1974",
            "method": "animate"
           },
           {
            "args": [
             [
              "1975"
             ],
             {
              "frame": {
               "duration": 0,
               "redraw": true
              },
              "fromcurrent": true,
              "mode": "immediate",
              "transition": {
               "duration": 0,
               "easing": "linear"
              }
             }
            ],
            "label": "1975",
            "method": "animate"
           },
           {
            "args": [
             [
              "1976"
             ],
             {
              "frame": {
               "duration": 0,
               "redraw": true
              },
              "fromcurrent": true,
              "mode": "immediate",
              "transition": {
               "duration": 0,
               "easing": "linear"
              }
             }
            ],
            "label": "1976",
            "method": "animate"
           },
           {
            "args": [
             [
              "1977"
             ],
             {
              "frame": {
               "duration": 0,
               "redraw": true
              },
              "fromcurrent": true,
              "mode": "immediate",
              "transition": {
               "duration": 0,
               "easing": "linear"
              }
             }
            ],
            "label": "1977",
            "method": "animate"
           },
           {
            "args": [
             [
              "1978"
             ],
             {
              "frame": {
               "duration": 0,
               "redraw": true
              },
              "fromcurrent": true,
              "mode": "immediate",
              "transition": {
               "duration": 0,
               "easing": "linear"
              }
             }
            ],
            "label": "1978",
            "method": "animate"
           },
           {
            "args": [
             [
              "1979"
             ],
             {
              "frame": {
               "duration": 0,
               "redraw": true
              },
              "fromcurrent": true,
              "mode": "immediate",
              "transition": {
               "duration": 0,
               "easing": "linear"
              }
             }
            ],
            "label": "1979",
            "method": "animate"
           },
           {
            "args": [
             [
              "1980"
             ],
             {
              "frame": {
               "duration": 0,
               "redraw": true
              },
              "fromcurrent": true,
              "mode": "immediate",
              "transition": {
               "duration": 0,
               "easing": "linear"
              }
             }
            ],
            "label": "1980",
            "method": "animate"
           },
           {
            "args": [
             [
              "1981"
             ],
             {
              "frame": {
               "duration": 0,
               "redraw": true
              },
              "fromcurrent": true,
              "mode": "immediate",
              "transition": {
               "duration": 0,
               "easing": "linear"
              }
             }
            ],
            "label": "1981",
            "method": "animate"
           },
           {
            "args": [
             [
              "1982"
             ],
             {
              "frame": {
               "duration": 0,
               "redraw": true
              },
              "fromcurrent": true,
              "mode": "immediate",
              "transition": {
               "duration": 0,
               "easing": "linear"
              }
             }
            ],
            "label": "1982",
            "method": "animate"
           },
           {
            "args": [
             [
              "1983"
             ],
             {
              "frame": {
               "duration": 0,
               "redraw": true
              },
              "fromcurrent": true,
              "mode": "immediate",
              "transition": {
               "duration": 0,
               "easing": "linear"
              }
             }
            ],
            "label": "1983",
            "method": "animate"
           },
           {
            "args": [
             [
              "1984"
             ],
             {
              "frame": {
               "duration": 0,
               "redraw": true
              },
              "fromcurrent": true,
              "mode": "immediate",
              "transition": {
               "duration": 0,
               "easing": "linear"
              }
             }
            ],
            "label": "1984",
            "method": "animate"
           },
           {
            "args": [
             [
              "1985"
             ],
             {
              "frame": {
               "duration": 0,
               "redraw": true
              },
              "fromcurrent": true,
              "mode": "immediate",
              "transition": {
               "duration": 0,
               "easing": "linear"
              }
             }
            ],
            "label": "1985",
            "method": "animate"
           },
           {
            "args": [
             [
              "1986"
             ],
             {
              "frame": {
               "duration": 0,
               "redraw": true
              },
              "fromcurrent": true,
              "mode": "immediate",
              "transition": {
               "duration": 0,
               "easing": "linear"
              }
             }
            ],
            "label": "1986",
            "method": "animate"
           },
           {
            "args": [
             [
              "1987"
             ],
             {
              "frame": {
               "duration": 0,
               "redraw": true
              },
              "fromcurrent": true,
              "mode": "immediate",
              "transition": {
               "duration": 0,
               "easing": "linear"
              }
             }
            ],
            "label": "1987",
            "method": "animate"
           },
           {
            "args": [
             [
              "1988"
             ],
             {
              "frame": {
               "duration": 0,
               "redraw": true
              },
              "fromcurrent": true,
              "mode": "immediate",
              "transition": {
               "duration": 0,
               "easing": "linear"
              }
             }
            ],
            "label": "1988",
            "method": "animate"
           },
           {
            "args": [
             [
              "1989"
             ],
             {
              "frame": {
               "duration": 0,
               "redraw": true
              },
              "fromcurrent": true,
              "mode": "immediate",
              "transition": {
               "duration": 0,
               "easing": "linear"
              }
             }
            ],
            "label": "1989",
            "method": "animate"
           },
           {
            "args": [
             [
              "1990"
             ],
             {
              "frame": {
               "duration": 0,
               "redraw": true
              },
              "fromcurrent": true,
              "mode": "immediate",
              "transition": {
               "duration": 0,
               "easing": "linear"
              }
             }
            ],
            "label": "1990",
            "method": "animate"
           },
           {
            "args": [
             [
              "1991"
             ],
             {
              "frame": {
               "duration": 0,
               "redraw": true
              },
              "fromcurrent": true,
              "mode": "immediate",
              "transition": {
               "duration": 0,
               "easing": "linear"
              }
             }
            ],
            "label": "1991",
            "method": "animate"
           },
           {
            "args": [
             [
              "1992"
             ],
             {
              "frame": {
               "duration": 0,
               "redraw": true
              },
              "fromcurrent": true,
              "mode": "immediate",
              "transition": {
               "duration": 0,
               "easing": "linear"
              }
             }
            ],
            "label": "1992",
            "method": "animate"
           },
           {
            "args": [
             [
              "1993"
             ],
             {
              "frame": {
               "duration": 0,
               "redraw": true
              },
              "fromcurrent": true,
              "mode": "immediate",
              "transition": {
               "duration": 0,
               "easing": "linear"
              }
             }
            ],
            "label": "1993",
            "method": "animate"
           },
           {
            "args": [
             [
              "1994"
             ],
             {
              "frame": {
               "duration": 0,
               "redraw": true
              },
              "fromcurrent": true,
              "mode": "immediate",
              "transition": {
               "duration": 0,
               "easing": "linear"
              }
             }
            ],
            "label": "1994",
            "method": "animate"
           },
           {
            "args": [
             [
              "1995"
             ],
             {
              "frame": {
               "duration": 0,
               "redraw": true
              },
              "fromcurrent": true,
              "mode": "immediate",
              "transition": {
               "duration": 0,
               "easing": "linear"
              }
             }
            ],
            "label": "1995",
            "method": "animate"
           },
           {
            "args": [
             [
              "1996"
             ],
             {
              "frame": {
               "duration": 0,
               "redraw": true
              },
              "fromcurrent": true,
              "mode": "immediate",
              "transition": {
               "duration": 0,
               "easing": "linear"
              }
             }
            ],
            "label": "1996",
            "method": "animate"
           },
           {
            "args": [
             [
              "1997"
             ],
             {
              "frame": {
               "duration": 0,
               "redraw": true
              },
              "fromcurrent": true,
              "mode": "immediate",
              "transition": {
               "duration": 0,
               "easing": "linear"
              }
             }
            ],
            "label": "1997",
            "method": "animate"
           },
           {
            "args": [
             [
              "1998"
             ],
             {
              "frame": {
               "duration": 0,
               "redraw": true
              },
              "fromcurrent": true,
              "mode": "immediate",
              "transition": {
               "duration": 0,
               "easing": "linear"
              }
             }
            ],
            "label": "1998",
            "method": "animate"
           },
           {
            "args": [
             [
              "1999"
             ],
             {
              "frame": {
               "duration": 0,
               "redraw": true
              },
              "fromcurrent": true,
              "mode": "immediate",
              "transition": {
               "duration": 0,
               "easing": "linear"
              }
             }
            ],
            "label": "1999",
            "method": "animate"
           },
           {
            "args": [
             [
              "2000"
             ],
             {
              "frame": {
               "duration": 0,
               "redraw": true
              },
              "fromcurrent": true,
              "mode": "immediate",
              "transition": {
               "duration": 0,
               "easing": "linear"
              }
             }
            ],
            "label": "2000",
            "method": "animate"
           },
           {
            "args": [
             [
              "2001"
             ],
             {
              "frame": {
               "duration": 0,
               "redraw": true
              },
              "fromcurrent": true,
              "mode": "immediate",
              "transition": {
               "duration": 0,
               "easing": "linear"
              }
             }
            ],
            "label": "2001",
            "method": "animate"
           },
           {
            "args": [
             [
              "2002"
             ],
             {
              "frame": {
               "duration": 0,
               "redraw": true
              },
              "fromcurrent": true,
              "mode": "immediate",
              "transition": {
               "duration": 0,
               "easing": "linear"
              }
             }
            ],
            "label": "2002",
            "method": "animate"
           },
           {
            "args": [
             [
              "2003"
             ],
             {
              "frame": {
               "duration": 0,
               "redraw": true
              },
              "fromcurrent": true,
              "mode": "immediate",
              "transition": {
               "duration": 0,
               "easing": "linear"
              }
             }
            ],
            "label": "2003",
            "method": "animate"
           },
           {
            "args": [
             [
              "2004"
             ],
             {
              "frame": {
               "duration": 0,
               "redraw": true
              },
              "fromcurrent": true,
              "mode": "immediate",
              "transition": {
               "duration": 0,
               "easing": "linear"
              }
             }
            ],
            "label": "2004",
            "method": "animate"
           },
           {
            "args": [
             [
              "2005"
             ],
             {
              "frame": {
               "duration": 0,
               "redraw": true
              },
              "fromcurrent": true,
              "mode": "immediate",
              "transition": {
               "duration": 0,
               "easing": "linear"
              }
             }
            ],
            "label": "2005",
            "method": "animate"
           },
           {
            "args": [
             [
              "2006"
             ],
             {
              "frame": {
               "duration": 0,
               "redraw": true
              },
              "fromcurrent": true,
              "mode": "immediate",
              "transition": {
               "duration": 0,
               "easing": "linear"
              }
             }
            ],
            "label": "2006",
            "method": "animate"
           },
           {
            "args": [
             [
              "2007"
             ],
             {
              "frame": {
               "duration": 0,
               "redraw": true
              },
              "fromcurrent": true,
              "mode": "immediate",
              "transition": {
               "duration": 0,
               "easing": "linear"
              }
             }
            ],
            "label": "2007",
            "method": "animate"
           },
           {
            "args": [
             [
              "2008"
             ],
             {
              "frame": {
               "duration": 0,
               "redraw": true
              },
              "fromcurrent": true,
              "mode": "immediate",
              "transition": {
               "duration": 0,
               "easing": "linear"
              }
             }
            ],
            "label": "2008",
            "method": "animate"
           },
           {
            "args": [
             [
              "2009"
             ],
             {
              "frame": {
               "duration": 0,
               "redraw": true
              },
              "fromcurrent": true,
              "mode": "immediate",
              "transition": {
               "duration": 0,
               "easing": "linear"
              }
             }
            ],
            "label": "2009",
            "method": "animate"
           },
           {
            "args": [
             [
              "2010"
             ],
             {
              "frame": {
               "duration": 0,
               "redraw": true
              },
              "fromcurrent": true,
              "mode": "immediate",
              "transition": {
               "duration": 0,
               "easing": "linear"
              }
             }
            ],
            "label": "2010",
            "method": "animate"
           },
           {
            "args": [
             [
              "2011"
             ],
             {
              "frame": {
               "duration": 0,
               "redraw": true
              },
              "fromcurrent": true,
              "mode": "immediate",
              "transition": {
               "duration": 0,
               "easing": "linear"
              }
             }
            ],
            "label": "2011",
            "method": "animate"
           },
           {
            "args": [
             [
              "2012"
             ],
             {
              "frame": {
               "duration": 0,
               "redraw": true
              },
              "fromcurrent": true,
              "mode": "immediate",
              "transition": {
               "duration": 0,
               "easing": "linear"
              }
             }
            ],
            "label": "2012",
            "method": "animate"
           },
           {
            "args": [
             [
              "2013"
             ],
             {
              "frame": {
               "duration": 0,
               "redraw": true
              },
              "fromcurrent": true,
              "mode": "immediate",
              "transition": {
               "duration": 0,
               "easing": "linear"
              }
             }
            ],
            "label": "2013",
            "method": "animate"
           },
           {
            "args": [
             [
              "2014"
             ],
             {
              "frame": {
               "duration": 0,
               "redraw": true
              },
              "fromcurrent": true,
              "mode": "immediate",
              "transition": {
               "duration": 0,
               "easing": "linear"
              }
             }
            ],
            "label": "2014",
            "method": "animate"
           },
           {
            "args": [
             [
              "2015"
             ],
             {
              "frame": {
               "duration": 0,
               "redraw": true
              },
              "fromcurrent": true,
              "mode": "immediate",
              "transition": {
               "duration": 0,
               "easing": "linear"
              }
             }
            ],
            "label": "2015",
            "method": "animate"
           },
           {
            "args": [
             [
              "2016"
             ],
             {
              "frame": {
               "duration": 0,
               "redraw": true
              },
              "fromcurrent": true,
              "mode": "immediate",
              "transition": {
               "duration": 0,
               "easing": "linear"
              }
             }
            ],
            "label": "2016",
            "method": "animate"
           },
           {
            "args": [
             [
              "2017"
             ],
             {
              "frame": {
               "duration": 0,
               "redraw": true
              },
              "fromcurrent": true,
              "mode": "immediate",
              "transition": {
               "duration": 0,
               "easing": "linear"
              }
             }
            ],
            "label": "2017",
            "method": "animate"
           },
           {
            "args": [
             [
              "2018"
             ],
             {
              "frame": {
               "duration": 0,
               "redraw": true
              },
              "fromcurrent": true,
              "mode": "immediate",
              "transition": {
               "duration": 0,
               "easing": "linear"
              }
             }
            ],
            "label": "2018",
            "method": "animate"
           },
           {
            "args": [
             [
              "2019"
             ],
             {
              "frame": {
               "duration": 0,
               "redraw": true
              },
              "fromcurrent": true,
              "mode": "immediate",
              "transition": {
               "duration": 0,
               "easing": "linear"
              }
             }
            ],
            "label": "2019",
            "method": "animate"
           },
           {
            "args": [
             [
              "2020"
             ],
             {
              "frame": {
               "duration": 0,
               "redraw": true
              },
              "fromcurrent": true,
              "mode": "immediate",
              "transition": {
               "duration": 0,
               "easing": "linear"
              }
             }
            ],
            "label": "2020",
            "method": "animate"
           },
           {
            "args": [
             [
              "2021"
             ],
             {
              "frame": {
               "duration": 0,
               "redraw": true
              },
              "fromcurrent": true,
              "mode": "immediate",
              "transition": {
               "duration": 0,
               "easing": "linear"
              }
             }
            ],
            "label": "2021",
            "method": "animate"
           },
           {
            "args": [
             [
              "2022"
             ],
             {
              "frame": {
               "duration": 0,
               "redraw": true
              },
              "fromcurrent": true,
              "mode": "immediate",
              "transition": {
               "duration": 0,
               "easing": "linear"
              }
             }
            ],
            "label": "2022",
            "method": "animate"
           }
          ],
          "x": 0.1,
          "xanchor": "left",
          "y": 0,
          "yanchor": "top"
         }
        ],
        "template": {
         "data": {
          "bar": [
           {
            "error_x": {
             "color": "#2a3f5f"
            },
            "error_y": {
             "color": "#2a3f5f"
            },
            "marker": {
             "line": {
              "color": "#E5ECF6",
              "width": 0.5
             },
             "pattern": {
              "fillmode": "overlay",
              "size": 10,
              "solidity": 0.2
             }
            },
            "type": "bar"
           }
          ],
          "barpolar": [
           {
            "marker": {
             "line": {
              "color": "#E5ECF6",
              "width": 0.5
             },
             "pattern": {
              "fillmode": "overlay",
              "size": 10,
              "solidity": 0.2
             }
            },
            "type": "barpolar"
           }
          ],
          "carpet": [
           {
            "aaxis": {
             "endlinecolor": "#2a3f5f",
             "gridcolor": "white",
             "linecolor": "white",
             "minorgridcolor": "white",
             "startlinecolor": "#2a3f5f"
            },
            "baxis": {
             "endlinecolor": "#2a3f5f",
             "gridcolor": "white",
             "linecolor": "white",
             "minorgridcolor": "white",
             "startlinecolor": "#2a3f5f"
            },
            "type": "carpet"
           }
          ],
          "choropleth": [
           {
            "colorbar": {
             "outlinewidth": 0,
             "ticks": ""
            },
            "type": "choropleth"
           }
          ],
          "contour": [
           {
            "colorbar": {
             "outlinewidth": 0,
             "ticks": ""
            },
            "colorscale": [
             [
              0,
              "#0d0887"
             ],
             [
              0.1111111111111111,
              "#46039f"
             ],
             [
              0.2222222222222222,
              "#7201a8"
             ],
             [
              0.3333333333333333,
              "#9c179e"
             ],
             [
              0.4444444444444444,
              "#bd3786"
             ],
             [
              0.5555555555555556,
              "#d8576b"
             ],
             [
              0.6666666666666666,
              "#ed7953"
             ],
             [
              0.7777777777777778,
              "#fb9f3a"
             ],
             [
              0.8888888888888888,
              "#fdca26"
             ],
             [
              1,
              "#f0f921"
             ]
            ],
            "type": "contour"
           }
          ],
          "contourcarpet": [
           {
            "colorbar": {
             "outlinewidth": 0,
             "ticks": ""
            },
            "type": "contourcarpet"
           }
          ],
          "heatmap": [
           {
            "colorbar": {
             "outlinewidth": 0,
             "ticks": ""
            },
            "colorscale": [
             [
              0,
              "#0d0887"
             ],
             [
              0.1111111111111111,
              "#46039f"
             ],
             [
              0.2222222222222222,
              "#7201a8"
             ],
             [
              0.3333333333333333,
              "#9c179e"
             ],
             [
              0.4444444444444444,
              "#bd3786"
             ],
             [
              0.5555555555555556,
              "#d8576b"
             ],
             [
              0.6666666666666666,
              "#ed7953"
             ],
             [
              0.7777777777777778,
              "#fb9f3a"
             ],
             [
              0.8888888888888888,
              "#fdca26"
             ],
             [
              1,
              "#f0f921"
             ]
            ],
            "type": "heatmap"
           }
          ],
          "histogram": [
           {
            "marker": {
             "pattern": {
              "fillmode": "overlay",
              "size": 10,
              "solidity": 0.2
             }
            },
            "type": "histogram"
           }
          ],
          "histogram2d": [
           {
            "colorbar": {
             "outlinewidth": 0,
             "ticks": ""
            },
            "colorscale": [
             [
              0,
              "#0d0887"
             ],
             [
              0.1111111111111111,
              "#46039f"
             ],
             [
              0.2222222222222222,
              "#7201a8"
             ],
             [
              0.3333333333333333,
              "#9c179e"
             ],
             [
              0.4444444444444444,
              "#bd3786"
             ],
             [
              0.5555555555555556,
              "#d8576b"
             ],
             [
              0.6666666666666666,
              "#ed7953"
             ],
             [
              0.7777777777777778,
              "#fb9f3a"
             ],
             [
              0.8888888888888888,
              "#fdca26"
             ],
             [
              1,
              "#f0f921"
             ]
            ],
            "type": "histogram2d"
           }
          ],
          "histogram2dcontour": [
           {
            "colorbar": {
             "outlinewidth": 0,
             "ticks": ""
            },
            "colorscale": [
             [
              0,
              "#0d0887"
             ],
             [
              0.1111111111111111,
              "#46039f"
             ],
             [
              0.2222222222222222,
              "#7201a8"
             ],
             [
              0.3333333333333333,
              "#9c179e"
             ],
             [
              0.4444444444444444,
              "#bd3786"
             ],
             [
              0.5555555555555556,
              "#d8576b"
             ],
             [
              0.6666666666666666,
              "#ed7953"
             ],
             [
              0.7777777777777778,
              "#fb9f3a"
             ],
             [
              0.8888888888888888,
              "#fdca26"
             ],
             [
              1,
              "#f0f921"
             ]
            ],
            "type": "histogram2dcontour"
           }
          ],
          "mesh3d": [
           {
            "colorbar": {
             "outlinewidth": 0,
             "ticks": ""
            },
            "type": "mesh3d"
           }
          ],
          "parcoords": [
           {
            "line": {
             "colorbar": {
              "outlinewidth": 0,
              "ticks": ""
             }
            },
            "type": "parcoords"
           }
          ],
          "pie": [
           {
            "automargin": true,
            "type": "pie"
           }
          ],
          "scatter": [
           {
            "fillpattern": {
             "fillmode": "overlay",
             "size": 10,
             "solidity": 0.2
            },
            "type": "scatter"
           }
          ],
          "scatter3d": [
           {
            "line": {
             "colorbar": {
              "outlinewidth": 0,
              "ticks": ""
             }
            },
            "marker": {
             "colorbar": {
              "outlinewidth": 0,
              "ticks": ""
             }
            },
            "type": "scatter3d"
           }
          ],
          "scattercarpet": [
           {
            "marker": {
             "colorbar": {
              "outlinewidth": 0,
              "ticks": ""
             }
            },
            "type": "scattercarpet"
           }
          ],
          "scattergeo": [
           {
            "marker": {
             "colorbar": {
              "outlinewidth": 0,
              "ticks": ""
             }
            },
            "type": "scattergeo"
           }
          ],
          "scattergl": [
           {
            "marker": {
             "colorbar": {
              "outlinewidth": 0,
              "ticks": ""
             }
            },
            "type": "scattergl"
           }
          ],
          "scattermap": [
           {
            "marker": {
             "colorbar": {
              "outlinewidth": 0,
              "ticks": ""
             }
            },
            "type": "scattermap"
           }
          ],
          "scattermapbox": [
           {
            "marker": {
             "colorbar": {
              "outlinewidth": 0,
              "ticks": ""
             }
            },
            "type": "scattermapbox"
           }
          ],
          "scatterpolar": [
           {
            "marker": {
             "colorbar": {
              "outlinewidth": 0,
              "ticks": ""
             }
            },
            "type": "scatterpolar"
           }
          ],
          "scatterpolargl": [
           {
            "marker": {
             "colorbar": {
              "outlinewidth": 0,
              "ticks": ""
             }
            },
            "type": "scatterpolargl"
           }
          ],
          "scatterternary": [
           {
            "marker": {
             "colorbar": {
              "outlinewidth": 0,
              "ticks": ""
             }
            },
            "type": "scatterternary"
           }
          ],
          "surface": [
           {
            "colorbar": {
             "outlinewidth": 0,
             "ticks": ""
            },
            "colorscale": [
             [
              0,
              "#0d0887"
             ],
             [
              0.1111111111111111,
              "#46039f"
             ],
             [
              0.2222222222222222,
              "#7201a8"
             ],
             [
              0.3333333333333333,
              "#9c179e"
             ],
             [
              0.4444444444444444,
              "#bd3786"
             ],
             [
              0.5555555555555556,
              "#d8576b"
             ],
             [
              0.6666666666666666,
              "#ed7953"
             ],
             [
              0.7777777777777778,
              "#fb9f3a"
             ],
             [
              0.8888888888888888,
              "#fdca26"
             ],
             [
              1,
              "#f0f921"
             ]
            ],
            "type": "surface"
           }
          ],
          "table": [
           {
            "cells": {
             "fill": {
              "color": "#EBF0F8"
             },
             "line": {
              "color": "white"
             }
            },
            "header": {
             "fill": {
              "color": "#C8D4E3"
             },
             "line": {
              "color": "white"
             }
            },
            "type": "table"
           }
          ]
         },
         "layout": {
          "annotationdefaults": {
           "arrowcolor": "#2a3f5f",
           "arrowhead": 0,
           "arrowwidth": 1
          },
          "autotypenumbers": "strict",
          "coloraxis": {
           "colorbar": {
            "outlinewidth": 0,
            "ticks": ""
           }
          },
          "colorscale": {
           "diverging": [
            [
             0,
             "#8e0152"
            ],
            [
             0.1,
             "#c51b7d"
            ],
            [
             0.2,
             "#de77ae"
            ],
            [
             0.3,
             "#f1b6da"
            ],
            [
             0.4,
             "#fde0ef"
            ],
            [
             0.5,
             "#f7f7f7"
            ],
            [
             0.6,
             "#e6f5d0"
            ],
            [
             0.7,
             "#b8e186"
            ],
            [
             0.8,
             "#7fbc41"
            ],
            [
             0.9,
             "#4d9221"
            ],
            [
             1,
             "#276419"
            ]
           ],
           "sequential": [
            [
             0,
             "#0d0887"
            ],
            [
             0.1111111111111111,
             "#46039f"
            ],
            [
             0.2222222222222222,
             "#7201a8"
            ],
            [
             0.3333333333333333,
             "#9c179e"
            ],
            [
             0.4444444444444444,
             "#bd3786"
            ],
            [
             0.5555555555555556,
             "#d8576b"
            ],
            [
             0.6666666666666666,
             "#ed7953"
            ],
            [
             0.7777777777777778,
             "#fb9f3a"
            ],
            [
             0.8888888888888888,
             "#fdca26"
            ],
            [
             1,
             "#f0f921"
            ]
           ],
           "sequentialminus": [
            [
             0,
             "#0d0887"
            ],
            [
             0.1111111111111111,
             "#46039f"
            ],
            [
             0.2222222222222222,
             "#7201a8"
            ],
            [
             0.3333333333333333,
             "#9c179e"
            ],
            [
             0.4444444444444444,
             "#bd3786"
            ],
            [
             0.5555555555555556,
             "#d8576b"
            ],
            [
             0.6666666666666666,
             "#ed7953"
            ],
            [
             0.7777777777777778,
             "#fb9f3a"
            ],
            [
             0.8888888888888888,
             "#fdca26"
            ],
            [
             1,
             "#f0f921"
            ]
           ]
          },
          "colorway": [
           "#636efa",
           "#EF553B",
           "#00cc96",
           "#ab63fa",
           "#FFA15A",
           "#19d3f3",
           "#FF6692",
           "#B6E880",
           "#FF97FF",
           "#FECB52"
          ],
          "font": {
           "color": "#2a3f5f"
          },
          "geo": {
           "bgcolor": "white",
           "lakecolor": "white",
           "landcolor": "#E5ECF6",
           "showlakes": true,
           "showland": true,
           "subunitcolor": "white"
          },
          "hoverlabel": {
           "align": "left"
          },
          "hovermode": "closest",
          "mapbox": {
           "style": "light"
          },
          "paper_bgcolor": "white",
          "plot_bgcolor": "#E5ECF6",
          "polar": {
           "angularaxis": {
            "gridcolor": "white",
            "linecolor": "white",
            "ticks": ""
           },
           "bgcolor": "#E5ECF6",
           "radialaxis": {
            "gridcolor": "white",
            "linecolor": "white",
            "ticks": ""
           }
          },
          "scene": {
           "xaxis": {
            "backgroundcolor": "#E5ECF6",
            "gridcolor": "white",
            "gridwidth": 2,
            "linecolor": "white",
            "showbackground": true,
            "ticks": "",
            "zerolinecolor": "white"
           },
           "yaxis": {
            "backgroundcolor": "#E5ECF6",
            "gridcolor": "white",
            "gridwidth": 2,
            "linecolor": "white",
            "showbackground": true,
            "ticks": "",
            "zerolinecolor": "white"
           },
           "zaxis": {
            "backgroundcolor": "#E5ECF6",
            "gridcolor": "white",
            "gridwidth": 2,
            "linecolor": "white",
            "showbackground": true,
            "ticks": "",
            "zerolinecolor": "white"
           }
          },
          "shapedefaults": {
           "line": {
            "color": "#2a3f5f"
           }
          },
          "ternary": {
           "aaxis": {
            "gridcolor": "white",
            "linecolor": "white",
            "ticks": ""
           },
           "baxis": {
            "gridcolor": "white",
            "linecolor": "white",
            "ticks": ""
           },
           "bgcolor": "#E5ECF6",
           "caxis": {
            "gridcolor": "white",
            "linecolor": "white",
            "ticks": ""
           }
          },
          "title": {
           "x": 0.05
          },
          "xaxis": {
           "automargin": true,
           "gridcolor": "white",
           "linecolor": "white",
           "ticks": "",
           "title": {
            "standoff": 15
           },
           "zerolinecolor": "white",
           "zerolinewidth": 2
          },
          "yaxis": {
           "automargin": true,
           "gridcolor": "white",
           "linecolor": "white",
           "ticks": "",
           "title": {
            "standoff": 15
           },
           "zerolinecolor": "white",
           "zerolinewidth": 2
          }
         }
        },
        "title": {
         "text": "Distribución de países por grupo de tasa de fertilidad a través de los años"
        },
        "updatemenus": [
         {
          "buttons": [
           {
            "args": [
             null,
             {
              "frame": {
               "duration": 500,
               "redraw": true
              },
              "fromcurrent": true,
              "mode": "immediate",
              "transition": {
               "duration": 500,
               "easing": "linear"
              }
             }
            ],
            "label": "&#9654;",
            "method": "animate"
           },
           {
            "args": [
             [
              null
             ],
             {
              "frame": {
               "duration": 0,
               "redraw": true
              },
              "fromcurrent": true,
              "mode": "immediate",
              "transition": {
               "duration": 0,
               "easing": "linear"
              }
             }
            ],
            "label": "&#9724;",
            "method": "animate"
           }
          ],
          "direction": "left",
          "pad": {
           "r": 10,
           "t": 70
          },
          "showactive": false,
          "type": "buttons",
          "x": 0.1,
          "xanchor": "right",
          "y": 0,
          "yanchor": "top"
         }
        ],
        "xaxis": {
         "anchor": "y",
         "categoryarray": [
          "Triplicación",
          "Duplicación",
          "Sobre el límite del equilibrio",
          "Bajo del límite de equilibrio"
         ],
         "categoryorder": "array",
         "domain": [
          0,
          1
         ],
         "title": {
          "text": "Grupo de Tasa de Fertilidad"
         }
        },
        "yaxis": {
         "anchor": "x",
         "domain": [
          0,
          1
         ],
         "title": {
          "text": "Número de Países"
         }
        }
       }
      }
     },
     "metadata": {},
     "output_type": "display_data"
    }
   ],
   "source": [
    "import plotly.express as px\n",
    "\n",
    "# Seleccionar columnas de años desde 1974 en adelante\n",
    "year_cols = [col for col in demographics.columns if col.isdigit() and int(col) >= 1974]\n",
    "\n",
    "# Lista de income groups a eliminar\n",
    "income_groups = [\n",
    "    'Upper middle income', 'Middle income', 'Lower middle income', 'Low income', 'High income'\n",
    "]\n",
    "\n",
    "# Filtrar solo la serie de fertilidad y quitar income groups\n",
    "fertility = demographics[\n",
    "    (demographics['Series Name'] == 'Fertility rate, total (births per woman)') &\n",
    "    (~demographics['Country Name'].isin(income_groups))\n",
    "]\n",
    "\n",
    "# Melt para formato largo\n",
    "fertility_long = fertility.melt(\n",
    "    id_vars=['Country Name'],\n",
    "    value_vars=year_cols,\n",
    "    var_name='Año',\n",
    "    value_name='Tasa de Fertilidad'\n",
    ").dropna()\n",
    "\n",
    "# Nueva lógica de clasificación\n",
    "def clasificar_fertilidad(x):\n",
    "    if x < 2.1:\n",
    "        return \"Bajo del límite de equilibrio\"\n",
    "    elif 2.1 <= x < 4:\n",
    "        return \"Sobre el límite del equilibrio\"\n",
    "    elif 4 <= x < 6.3:\n",
    "        return \"Duplicación\"\n",
    "    else:\n",
    "        return \"Triplicación\"\n",
    "\n",
    "fertility_long['Grupo Fertilidad'] = fertility_long['Tasa de Fertilidad'].apply(clasificar_fertilidad)\n",
    "\n",
    "# Orden y colores personalizados\n",
    "orden_grupos = [\n",
    "    \"Triplicación\",\n",
    "    \"Duplicación\",\n",
    "    \"Sobre el límite del equilibrio\",\n",
    "    \"Bajo del límite de equilibrio\"\n",
    "]\n",
    "colores = {\n",
    "    \"Triplicación\": \"green\",\n",
    "    \"Duplicación\": \"blue\",\n",
    "    \"Sobre el límite del equilibrio\": \"orange\",\n",
    "    \"Bajo del límite de equilibrio\": \"red\"\n",
    "}\n",
    "\n",
    "# Contar países por grupo y año\n",
    "conteo = fertility_long.groupby(['Año', 'Grupo Fertilidad']).size().reset_index(name='Número de Países')\n",
    "conteo['Grupo Fertilidad'] = pd.Categorical(conteo['Grupo Fertilidad'], categories=orden_grupos, ordered=True)\n",
    "\n",
    "# Graficar barras animadas por año\n",
    "fig = px.bar(\n",
    "    conteo.sort_values('Grupo Fertilidad'),\n",
    "    x='Grupo Fertilidad',\n",
    "    y='Número de Países',\n",
    "    color='Grupo Fertilidad',\n",
    "    animation_frame='Año',\n",
    "    category_orders={'Grupo Fertilidad': orden_grupos},\n",
    "    color_discrete_map=colores,\n",
    "    title='Distribución de países por grupo de tasa de fertilidad a través de los años',\n",
    "    labels={\n",
    "        'Grupo Fertilidad': 'Grupo de Tasa de Fertilidad',\n",
    "        'Número de Países': 'Número de Países',\n",
    "        'Año': 'Año'\n",
    "    }\n",
    ")\n",
    "\n",
    "# ...existing code...\n",
    "\n",
    "# Asegurarse de que los años estén ordenados de menor a mayor y sean tipo string para la animación\n",
    "conteo['Año'] = conteo['Año'].astype(int)\n",
    "conteo = conteo.sort_values('Año')\n",
    "conteo['Año'] = conteo['Año'].astype(str)\n",
    "\n",
    "# Graficar barras animadas por año (ahora en orden correcto)\n",
    "fig = px.bar(\n",
    "    conteo.sort_values(['Año', 'Grupo Fertilidad']),\n",
    "    x='Grupo Fertilidad',\n",
    "    y='Número de Países',\n",
    "    color='Grupo Fertilidad',\n",
    "    animation_frame='Año',\n",
    "    category_orders={'Grupo Fertilidad': orden_grupos, 'Año': sorted(conteo['Año'].unique(), key=int)},\n",
    "    color_discrete_map=colores,\n",
    "    title='Distribución de países por grupo de tasa de fertilidad a través de los años',\n",
    "    labels={\n",
    "        'Grupo Fertilidad': 'Grupo de Tasa de Fertilidad',\n",
    "        'Número de Países': 'Número de Países',\n",
    "        'Año': 'Año'\n",
    "    }\n",
    ")\n",
    "fig.show()"
   ]
  },
  {
   "cell_type": "code",
   "execution_count": null,
   "id": "e9cf0439",
   "metadata": {},
   "outputs": [],
   "source": []
  }
 ],
 "metadata": {
  "kernelspec": {
   "display_name": "Python (demographics)",
   "language": "python",
   "name": "demographics"
  },
  "language_info": {
   "codemirror_mode": {
    "name": "ipython",
    "version": 3
   },
   "file_extension": ".py",
   "mimetype": "text/x-python",
   "name": "python",
   "nbconvert_exporter": "python",
   "pygments_lexer": "ipython3",
   "version": "3.10.12"
  }
 },
 "nbformat": 4,
 "nbformat_minor": 5
}
